{
 "cells": [
  {
   "cell_type": "code",
   "execution_count": 68,
   "metadata": {},
   "outputs": [],
   "source": [
    "from app.log import logging_config\n",
    "from os.path import dirname, join\n",
    "from dotenv import load_dotenv\n",
    "import logging\n",
    "from app.util.message import starting_message\n",
    "from app import yahoo_finance, Polygon, Alphavantage\n",
    "import pandas as pd\n",
    "import time\n",
    "from datetime import datetime"
   ]
  },
  {
   "cell_type": "code",
   "execution_count": 2,
   "metadata": {},
   "outputs": [
    {
     "name": "stdout",
     "output_type": "stream",
     "text": [
      "PWRjSfmBc9xYnPZMQhA9ukDOuOIId90D\n"
     ]
    }
   ],
   "source": [
    "#print(join(dirname(__file__), '.env'))\n",
    "#load_dotenv(dotenv_path=join(dirname(__file__), '.env'))\n",
    "load_dotenv()\n",
    "from os import environ\n",
    "print(environ.get(\"POLYGON_KEY\"))"
   ]
  },
  {
   "cell_type": "code",
   "execution_count": 3,
   "metadata": {},
   "outputs": [],
   "source": [
    "logging_config.init_logging()\n",
    "__LOG = logging.getLogger(__name__)\n",
    "__LOG.info('...... Initialization Completed  ......')\n",
    "__LOG.info(starting_message())"
   ]
  },
  {
   "cell_type": "markdown",
   "metadata": {},
   "source": [
    "# Yahoo Data"
   ]
  },
  {
   "cell_type": "code",
   "execution_count": 110,
   "metadata": {},
   "outputs": [
    {
     "name": "stdout",
     "output_type": "stream",
     "text": [
      "[*********************100%***********************]  1 of 1 completed\n",
      "                    Open          High           Low         Close  \\\n",
      "Date                                                                 \n",
      "2019-12-09   7268.902832   7308.836426   6924.375977   7152.301758   \n",
      "2019-12-16   7153.663086   7518.033203   6540.049316   7511.588867   \n",
      "2019-12-23   7508.902344   7656.176270   7189.934082   7422.652832   \n",
      "2019-12-30   7420.272949   7544.497070   6914.996094   7411.317383   \n",
      "2020-01-06   7410.452148   8396.738281   7409.292969   8192.494141   \n",
      "...                  ...           ...           ...           ...   \n",
      "2022-05-09  34060.015625  34222.074219  26350.490234  31305.113281   \n",
      "2022-05-16  31304.375000  31305.341797  28708.955078  30323.722656   \n",
      "2022-05-23  30309.396484  30590.585938  28261.906250  29445.957031   \n",
      "2022-05-30  29443.365234  32249.863281  29303.572266  31792.310547   \n",
      "2022-06-02  29753.320312  29843.408203  29664.839844  29803.189453   \n",
      "\n",
      "               Adj Close        Volume  \n",
      "Date                                    \n",
      "2019-12-09   7152.301758   34018159534  \n",
      "2019-12-16   7511.588867  165399102665  \n",
      "2019-12-23   7422.652832  161758217053  \n",
      "2019-12-30   7411.317383  149690652648  \n",
      "2020-01-06   8192.494141  184901289966  \n",
      "...                  ...           ...  \n",
      "2022-05-09  31305.113281  357800928090  \n",
      "2022-05-16  30323.722656  196429842104  \n",
      "2022-05-23  29445.957031  212594819496  \n",
      "2022-05-30  31792.310547   72816203908  \n",
      "2022-06-02  29803.189453   41738924032  \n",
      "\n",
      "[131 rows x 6 columns]\n"
     ]
    }
   ],
   "source": [
    "status, yahoo_data = yahoo_finance.market_value('BTC-USD')\n",
    "if status:\n",
    "    print(yahoo_data)"
   ]
  },
  {
   "cell_type": "code",
   "execution_count": 20,
   "metadata": {},
   "outputs": [
    {
     "data": {
      "text/html": [
       "<div>\n",
       "<style scoped>\n",
       "    .dataframe tbody tr th:only-of-type {\n",
       "        vertical-align: middle;\n",
       "    }\n",
       "\n",
       "    .dataframe tbody tr th {\n",
       "        vertical-align: top;\n",
       "    }\n",
       "\n",
       "    .dataframe thead th {\n",
       "        text-align: right;\n",
       "    }\n",
       "</style>\n",
       "<table border=\"1\" class=\"dataframe\">\n",
       "  <thead>\n",
       "    <tr style=\"text-align: right;\">\n",
       "      <th></th>\n",
       "      <th>Date</th>\n",
       "      <th>Open</th>\n",
       "      <th>High</th>\n",
       "      <th>Low</th>\n",
       "      <th>Close</th>\n",
       "      <th>Adj Close</th>\n",
       "      <th>Volume</th>\n",
       "    </tr>\n",
       "  </thead>\n",
       "  <tbody>\n",
       "    <tr>\n",
       "      <th>0</th>\n",
       "      <td>2019-12-09</td>\n",
       "      <td>7268.902832</td>\n",
       "      <td>7308.836426</td>\n",
       "      <td>6924.375977</td>\n",
       "      <td>7152.301758</td>\n",
       "      <td>7152.301758</td>\n",
       "      <td>34018159534</td>\n",
       "    </tr>\n",
       "    <tr>\n",
       "      <th>1</th>\n",
       "      <td>2019-12-16</td>\n",
       "      <td>7153.663086</td>\n",
       "      <td>7518.033203</td>\n",
       "      <td>6540.049316</td>\n",
       "      <td>7511.588867</td>\n",
       "      <td>7511.588867</td>\n",
       "      <td>165399102665</td>\n",
       "    </tr>\n",
       "    <tr>\n",
       "      <th>2</th>\n",
       "      <td>2019-12-23</td>\n",
       "      <td>7508.902344</td>\n",
       "      <td>7656.176270</td>\n",
       "      <td>7189.934082</td>\n",
       "      <td>7422.652832</td>\n",
       "      <td>7422.652832</td>\n",
       "      <td>161758217053</td>\n",
       "    </tr>\n",
       "    <tr>\n",
       "      <th>3</th>\n",
       "      <td>2019-12-30</td>\n",
       "      <td>7420.272949</td>\n",
       "      <td>7544.497070</td>\n",
       "      <td>6914.996094</td>\n",
       "      <td>7411.317383</td>\n",
       "      <td>7411.317383</td>\n",
       "      <td>149690652648</td>\n",
       "    </tr>\n",
       "    <tr>\n",
       "      <th>4</th>\n",
       "      <td>2020-01-06</td>\n",
       "      <td>7410.452148</td>\n",
       "      <td>8396.738281</td>\n",
       "      <td>7409.292969</td>\n",
       "      <td>8192.494141</td>\n",
       "      <td>8192.494141</td>\n",
       "      <td>184901289966</td>\n",
       "    </tr>\n",
       "  </tbody>\n",
       "</table>\n",
       "</div>"
      ],
      "text/plain": [
       "        Date         Open         High          Low        Close    Adj Close  \\\n",
       "0 2019-12-09  7268.902832  7308.836426  6924.375977  7152.301758  7152.301758   \n",
       "1 2019-12-16  7153.663086  7518.033203  6540.049316  7511.588867  7511.588867   \n",
       "2 2019-12-23  7508.902344  7656.176270  7189.934082  7422.652832  7422.652832   \n",
       "3 2019-12-30  7420.272949  7544.497070  6914.996094  7411.317383  7411.317383   \n",
       "4 2020-01-06  7410.452148  8396.738281  7409.292969  8192.494141  8192.494141   \n",
       "\n",
       "         Volume  \n",
       "0   34018159534  \n",
       "1  165399102665  \n",
       "2  161758217053  \n",
       "3  149690652648  \n",
       "4  184901289966  "
      ]
     },
     "execution_count": 20,
     "metadata": {},
     "output_type": "execute_result"
    }
   ],
   "source": [
    "yahoodf = pd.DataFrame(yahoo_data, columns=['Open', 'High', 'Low', 'Close', 'Adj Close', 'Volume'])\n",
    "#yahoodf['Date'] = yahoodf.index\n",
    "yahoodf = yahoodf.reset_index(level=0)\n",
    "yahoodf.head()"
   ]
  },
  {
   "cell_type": "markdown",
   "metadata": {},
   "source": [
    "## aca va la explicacion de cada columna de yahoo"
   ]
  },
  {
   "cell_type": "code",
   "execution_count": 28,
   "metadata": {},
   "outputs": [
    {
     "data": {
      "text/plain": [
       "Date         datetime64[ns]\n",
       "Open                float64\n",
       "High                float64\n",
       "Low                 float64\n",
       "Close               float64\n",
       "Adj Close           float64\n",
       "Volume                int64\n",
       "dtype: object"
      ]
     },
     "execution_count": 28,
     "metadata": {},
     "output_type": "execute_result"
    }
   ],
   "source": [
    "yahoodf.dtypes"
   ]
  },
  {
   "cell_type": "code",
   "execution_count": 29,
   "metadata": {},
   "outputs": [
    {
     "data": {
      "text/html": [
       "<div>\n",
       "<style scoped>\n",
       "    .dataframe tbody tr th:only-of-type {\n",
       "        vertical-align: middle;\n",
       "    }\n",
       "\n",
       "    .dataframe tbody tr th {\n",
       "        vertical-align: top;\n",
       "    }\n",
       "\n",
       "    .dataframe thead th {\n",
       "        text-align: right;\n",
       "    }\n",
       "</style>\n",
       "<table border=\"1\" class=\"dataframe\">\n",
       "  <thead>\n",
       "    <tr style=\"text-align: right;\">\n",
       "      <th></th>\n",
       "      <th>Open</th>\n",
       "      <th>High</th>\n",
       "      <th>Low</th>\n",
       "      <th>Close</th>\n",
       "      <th>Adj Close</th>\n",
       "      <th>Volume</th>\n",
       "    </tr>\n",
       "  </thead>\n",
       "  <tbody>\n",
       "    <tr>\n",
       "      <th>count</th>\n",
       "      <td>131.000000</td>\n",
       "      <td>131.000000</td>\n",
       "      <td>131.000000</td>\n",
       "      <td>131.000000</td>\n",
       "      <td>131.000000</td>\n",
       "      <td>1.310000e+02</td>\n",
       "    </tr>\n",
       "    <tr>\n",
       "      <th>mean</th>\n",
       "      <td>30261.964534</td>\n",
       "      <td>32545.497454</td>\n",
       "      <td>27885.478952</td>\n",
       "      <td>30452.241617</td>\n",
       "      <td>30452.241617</td>\n",
       "      <td>2.603603e+11</td>\n",
       "    </tr>\n",
       "    <tr>\n",
       "      <th>std</th>\n",
       "      <td>18623.231915</td>\n",
       "      <td>19842.716618</td>\n",
       "      <td>16952.983957</td>\n",
       "      <td>18514.649756</td>\n",
       "      <td>18514.649756</td>\n",
       "      <td>1.136552e+11</td>\n",
       "    </tr>\n",
       "    <tr>\n",
       "      <th>min</th>\n",
       "      <td>5385.229492</td>\n",
       "      <td>6844.261719</td>\n",
       "      <td>4106.980957</td>\n",
       "      <td>5392.314941</td>\n",
       "      <td>5392.314941</td>\n",
       "      <td>3.401816e+10</td>\n",
       "    </tr>\n",
       "    <tr>\n",
       "      <th>25%</th>\n",
       "      <td>10026.060059</td>\n",
       "      <td>10518.232422</td>\n",
       "      <td>9813.178223</td>\n",
       "      <td>10198.512695</td>\n",
       "      <td>10198.512695</td>\n",
       "      <td>1.879022e+11</td>\n",
       "    </tr>\n",
       "    <tr>\n",
       "      <th>50%</th>\n",
       "      <td>34254.015625</td>\n",
       "      <td>36542.109375</td>\n",
       "      <td>29664.839844</td>\n",
       "      <td>34240.187500</td>\n",
       "      <td>34240.187500</td>\n",
       "      <td>2.391808e+11</td>\n",
       "    </tr>\n",
       "    <tr>\n",
       "      <th>75%</th>\n",
       "      <td>46430.585938</td>\n",
       "      <td>48445.232422</td>\n",
       "      <td>42434.947266</td>\n",
       "      <td>46454.812500</td>\n",
       "      <td>46454.812500</td>\n",
       "      <td>3.011762e+11</td>\n",
       "    </tr>\n",
       "    <tr>\n",
       "      <th>max</th>\n",
       "      <td>65521.289062</td>\n",
       "      <td>68789.625000</td>\n",
       "      <td>62333.914062</td>\n",
       "      <td>65466.839844</td>\n",
       "      <td>65466.839844</td>\n",
       "      <td>7.666798e+11</td>\n",
       "    </tr>\n",
       "  </tbody>\n",
       "</table>\n",
       "</div>"
      ],
      "text/plain": [
       "               Open          High           Low         Close     Adj Close  \\\n",
       "count    131.000000    131.000000    131.000000    131.000000    131.000000   \n",
       "mean   30261.964534  32545.497454  27885.478952  30452.241617  30452.241617   \n",
       "std    18623.231915  19842.716618  16952.983957  18514.649756  18514.649756   \n",
       "min     5385.229492   6844.261719   4106.980957   5392.314941   5392.314941   \n",
       "25%    10026.060059  10518.232422   9813.178223  10198.512695  10198.512695   \n",
       "50%    34254.015625  36542.109375  29664.839844  34240.187500  34240.187500   \n",
       "75%    46430.585938  48445.232422  42434.947266  46454.812500  46454.812500   \n",
       "max    65521.289062  68789.625000  62333.914062  65466.839844  65466.839844   \n",
       "\n",
       "             Volume  \n",
       "count  1.310000e+02  \n",
       "mean   2.603603e+11  \n",
       "std    1.136552e+11  \n",
       "min    3.401816e+10  \n",
       "25%    1.879022e+11  \n",
       "50%    2.391808e+11  \n",
       "75%    3.011762e+11  \n",
       "max    7.666798e+11  "
      ]
     },
     "execution_count": 29,
     "metadata": {},
     "output_type": "execute_result"
    }
   ],
   "source": [
    "yahoodf.describe()"
   ]
  },
  {
   "cell_type": "code",
   "execution_count": 41,
   "metadata": {},
   "outputs": [
    {
     "data": {
      "text/plain": [
       "Date         131\n",
       "Open         131\n",
       "High         131\n",
       "Low          131\n",
       "Close        131\n",
       "Adj Close    131\n",
       "Volume       131\n",
       "dtype: int64"
      ]
     },
     "execution_count": 41,
     "metadata": {},
     "output_type": "execute_result"
    }
   ],
   "source": [
    "countAnalisis = yahoodf[[\"Date\", \"Open\", \"High\", \"Low\", \"Close\", \"Adj Close\", \"Volume\"]].count()\n",
    "countAnalisis"
   ]
  },
  {
   "cell_type": "code",
   "execution_count": 43,
   "metadata": {},
   "outputs": [
    {
     "data": {
      "text/plain": [
       "Open         3.026196e+04\n",
       "High         3.254550e+04\n",
       "Low          2.788548e+04\n",
       "Close        3.045224e+04\n",
       "Adj Close    3.045224e+04\n",
       "Volume       2.603603e+11\n",
       "dtype: float64"
      ]
     },
     "execution_count": 43,
     "metadata": {},
     "output_type": "execute_result"
    }
   ],
   "source": [
    "meanAnalisis = yahoodf[[\"Open\", \"High\", \"Low\", \"Close\", \"Adj Close\", \"Volume\"]].mean()\n",
    "meanAnalisis"
   ]
  },
  {
   "cell_type": "code",
   "execution_count": 44,
   "metadata": {},
   "outputs": [
    {
     "data": {
      "text/plain": [
       "Open         5.385229e+03\n",
       "High         6.844262e+03\n",
       "Low          4.106981e+03\n",
       "Close        5.392315e+03\n",
       "Adj Close    5.392315e+03\n",
       "Volume       3.401816e+10\n",
       "dtype: float64"
      ]
     },
     "execution_count": 44,
     "metadata": {},
     "output_type": "execute_result"
    }
   ],
   "source": [
    "minAnalisis = yahoodf[[\"Open\", \"High\", \"Low\", \"Close\", \"Adj Close\", \"Volume\"]].min()\n",
    "minAnalisis"
   ]
  },
  {
   "cell_type": "code",
   "execution_count": 45,
   "metadata": {},
   "outputs": [
    {
     "data": {
      "text/plain": [
       "Open         6.552129e+04\n",
       "High         6.878962e+04\n",
       "Low          6.233391e+04\n",
       "Close        6.546684e+04\n",
       "Adj Close    6.546684e+04\n",
       "Volume       7.666798e+11\n",
       "dtype: float64"
      ]
     },
     "execution_count": 45,
     "metadata": {},
     "output_type": "execute_result"
    }
   ],
   "source": [
    "maxAnalisis = yahoodf[[\"Open\", \"High\", \"Low\", \"Close\", \"Adj Close\", \"Volume\"]].max()\n",
    "maxAnalisis"
   ]
  },
  {
   "cell_type": "code",
   "execution_count": 46,
   "metadata": {},
   "outputs": [
    {
     "data": {
      "text/plain": [
       "Open         1.002606e+04\n",
       "High         1.051823e+04\n",
       "Low          9.813178e+03\n",
       "Close        1.019851e+04\n",
       "Adj Close    1.019851e+04\n",
       "Volume       1.879022e+11\n",
       "Name: 0.25, dtype: float64"
      ]
     },
     "execution_count": 46,
     "metadata": {},
     "output_type": "execute_result"
    }
   ],
   "source": [
    "q25Analisis = yahoodf[[\"Open\", \"High\", \"Low\", \"Close\", \"Adj Close\", \"Volume\"]].quantile(0.25)\n",
    "q25Analisis"
   ]
  },
  {
   "cell_type": "code",
   "execution_count": 47,
   "metadata": {},
   "outputs": [
    {
     "data": {
      "text/plain": [
       "Open         3.425402e+04\n",
       "High         3.654211e+04\n",
       "Low          2.966484e+04\n",
       "Close        3.424019e+04\n",
       "Adj Close    3.424019e+04\n",
       "Volume       2.391808e+11\n",
       "Name: 0.5, dtype: float64"
      ]
     },
     "execution_count": 47,
     "metadata": {},
     "output_type": "execute_result"
    }
   ],
   "source": [
    "q50Analisis = yahoodf[[\"Open\", \"High\", \"Low\", \"Close\", \"Adj Close\", \"Volume\"]].quantile(0.5)\n",
    "q50Analisis"
   ]
  },
  {
   "cell_type": "code",
   "execution_count": 48,
   "metadata": {},
   "outputs": [
    {
     "data": {
      "text/plain": [
       "Open         4.643059e+04\n",
       "High         4.844523e+04\n",
       "Low          4.243495e+04\n",
       "Close        4.645481e+04\n",
       "Adj Close    4.645481e+04\n",
       "Volume       3.011762e+11\n",
       "Name: 0.75, dtype: float64"
      ]
     },
     "execution_count": 48,
     "metadata": {},
     "output_type": "execute_result"
    }
   ],
   "source": [
    "q75Analisis = yahoodf[[\"Open\", \"High\", \"Low\", \"Close\", \"Adj Close\", \"Volume\"]].quantile(0.75)\n",
    "q75Analisis"
   ]
  },
  {
   "cell_type": "code",
   "execution_count": 100,
   "metadata": {},
   "outputs": [
    {
     "data": {
      "text/plain": [
       "Open         5.901415e+04\n",
       "High         6.222050e+04\n",
       "Low          5.475516e+04\n",
       "Close        5.903044e+04\n",
       "Adj Close    5.903044e+04\n",
       "Volume       4.895026e+11\n",
       "Name: 0.95, dtype: float64"
      ]
     },
     "execution_count": 100,
     "metadata": {},
     "output_type": "execute_result"
    }
   ],
   "source": [
    "q95nalisis = yahoodf[[\"Open\", \"High\", \"Low\", \"Close\", \"Adj Close\", \"Volume\"]].quantile(0.95)\n",
    "q95nalisis"
   ]
  },
  {
   "cell_type": "markdown",
   "metadata": {},
   "source": [
    "## Falta generar Graficas interesantes EDA"
   ]
  },
  {
   "cell_type": "markdown",
   "metadata": {},
   "source": [
    "# Falta Analisis a cada paso\n"
   ]
  },
  {
   "cell_type": "markdown",
   "metadata": {},
   "source": [
    "# Polygon"
   ]
  },
  {
   "cell_type": "code",
   "execution_count": 179,
   "metadata": {},
   "outputs": [
    {
     "data": {
      "text/html": [
       "<div>\n",
       "<style scoped>\n",
       "    .dataframe tbody tr th:only-of-type {\n",
       "        vertical-align: middle;\n",
       "    }\n",
       "\n",
       "    .dataframe tbody tr th {\n",
       "        vertical-align: top;\n",
       "    }\n",
       "\n",
       "    .dataframe thead th {\n",
       "        text-align: right;\n",
       "    }\n",
       "</style>\n",
       "<table border=\"1\" class=\"dataframe\">\n",
       "  <thead>\n",
       "    <tr style=\"text-align: right;\">\n",
       "      <th></th>\n",
       "      <th>index</th>\n",
       "      <th>market</th>\n",
       "      <th>earlyHours</th>\n",
       "      <th>afterHours</th>\n",
       "      <th>serverTime</th>\n",
       "      <th>exchanges</th>\n",
       "      <th>currencies</th>\n",
       "    </tr>\n",
       "  </thead>\n",
       "  <tbody>\n",
       "    <tr>\n",
       "      <th>0</th>\n",
       "      <td>nyse</td>\n",
       "      <td>closed</td>\n",
       "      <td>False</td>\n",
       "      <td>False</td>\n",
       "      <td>2022-06-02T21:03:21-04:00</td>\n",
       "      <td>closed</td>\n",
       "      <td>NaN</td>\n",
       "    </tr>\n",
       "    <tr>\n",
       "      <th>1</th>\n",
       "      <td>nasdaq</td>\n",
       "      <td>closed</td>\n",
       "      <td>False</td>\n",
       "      <td>False</td>\n",
       "      <td>2022-06-02T21:03:21-04:00</td>\n",
       "      <td>closed</td>\n",
       "      <td>NaN</td>\n",
       "    </tr>\n",
       "    <tr>\n",
       "      <th>2</th>\n",
       "      <td>otc</td>\n",
       "      <td>closed</td>\n",
       "      <td>False</td>\n",
       "      <td>False</td>\n",
       "      <td>2022-06-02T21:03:21-04:00</td>\n",
       "      <td>closed</td>\n",
       "      <td>NaN</td>\n",
       "    </tr>\n",
       "    <tr>\n",
       "      <th>3</th>\n",
       "      <td>fx</td>\n",
       "      <td>closed</td>\n",
       "      <td>False</td>\n",
       "      <td>False</td>\n",
       "      <td>2022-06-02T21:03:21-04:00</td>\n",
       "      <td>NaN</td>\n",
       "      <td>open</td>\n",
       "    </tr>\n",
       "    <tr>\n",
       "      <th>4</th>\n",
       "      <td>crypto</td>\n",
       "      <td>closed</td>\n",
       "      <td>False</td>\n",
       "      <td>False</td>\n",
       "      <td>2022-06-02T21:03:21-04:00</td>\n",
       "      <td>NaN</td>\n",
       "      <td>open</td>\n",
       "    </tr>\n",
       "  </tbody>\n",
       "</table>\n",
       "</div>"
      ],
      "text/plain": [
       "    index  market  earlyHours  afterHours                 serverTime  \\\n",
       "0    nyse  closed       False       False  2022-06-02T21:03:21-04:00   \n",
       "1  nasdaq  closed       False       False  2022-06-02T21:03:21-04:00   \n",
       "2     otc  closed       False       False  2022-06-02T21:03:21-04:00   \n",
       "3      fx  closed       False       False  2022-06-02T21:03:21-04:00   \n",
       "4  crypto  closed       False       False  2022-06-02T21:03:21-04:00   \n",
       "\n",
       "  exchanges currencies  \n",
       "0    closed        NaN  \n",
       "1    closed        NaN  \n",
       "2    closed        NaN  \n",
       "3       NaN       open  \n",
       "4       NaN       open  "
      ]
     },
     "execution_count": 179,
     "metadata": {},
     "output_type": "execute_result"
    }
   ],
   "source": [
    "polygon=Polygon(environ.get(\"POLYGON_KEY\"))\n",
    "#print('polygon')\n",
    "status, polygon_data = polygon.get_market_status()\n",
    "if status:\n",
    "    #print(polygon_data)\n",
    "    polygon_market_status = pd.DataFrame.from_dict(polygon_data)\n",
    "polygon_market_status = polygon_market_status.reset_index(level=0)\n",
    "polygon_market_status"
   ]
  },
  {
   "cell_type": "code",
   "execution_count": 180,
   "metadata": {},
   "outputs": [
    {
     "data": {
      "text/plain": [
       "index                                         object\n",
       "market                                        object\n",
       "earlyHours                                      bool\n",
       "afterHours                                      bool\n",
       "serverTime    datetime64[ns, pytz.FixedOffset(-240)]\n",
       "exchanges                                     object\n",
       "currencies                                    object\n",
       "dtype: object"
      ]
     },
     "execution_count": 180,
     "metadata": {},
     "output_type": "execute_result"
    }
   ],
   "source": [
    "polygon_market_status['serverTime'] = pd.to_datetime(polygon_market_status['serverTime'])\n",
    "polygon_market_status.dtypes"
   ]
  },
  {
   "cell_type": "code",
   "execution_count": 181,
   "metadata": {},
   "outputs": [
    {
     "name": "stderr",
     "output_type": "stream",
     "text": [
      "C:\\Users\\julia\\AppData\\Local\\Temp\\ipykernel_13564\\3545403409.py:1: FutureWarning: Treating datetime data as categorical rather than numeric in `.describe` is deprecated and will be removed in a future version of pandas. Specify `datetime_is_numeric=True` to silence this warning and adopt the future behavior now.\n",
      "  polygon_market_status.describe()\n"
     ]
    },
    {
     "data": {
      "text/html": [
       "<div>\n",
       "<style scoped>\n",
       "    .dataframe tbody tr th:only-of-type {\n",
       "        vertical-align: middle;\n",
       "    }\n",
       "\n",
       "    .dataframe tbody tr th {\n",
       "        vertical-align: top;\n",
       "    }\n",
       "\n",
       "    .dataframe thead th {\n",
       "        text-align: right;\n",
       "    }\n",
       "</style>\n",
       "<table border=\"1\" class=\"dataframe\">\n",
       "  <thead>\n",
       "    <tr style=\"text-align: right;\">\n",
       "      <th></th>\n",
       "      <th>index</th>\n",
       "      <th>market</th>\n",
       "      <th>earlyHours</th>\n",
       "      <th>afterHours</th>\n",
       "      <th>serverTime</th>\n",
       "      <th>exchanges</th>\n",
       "      <th>currencies</th>\n",
       "    </tr>\n",
       "  </thead>\n",
       "  <tbody>\n",
       "    <tr>\n",
       "      <th>count</th>\n",
       "      <td>5</td>\n",
       "      <td>5</td>\n",
       "      <td>5</td>\n",
       "      <td>5</td>\n",
       "      <td>5</td>\n",
       "      <td>3</td>\n",
       "      <td>2</td>\n",
       "    </tr>\n",
       "    <tr>\n",
       "      <th>unique</th>\n",
       "      <td>5</td>\n",
       "      <td>1</td>\n",
       "      <td>1</td>\n",
       "      <td>1</td>\n",
       "      <td>1</td>\n",
       "      <td>1</td>\n",
       "      <td>1</td>\n",
       "    </tr>\n",
       "    <tr>\n",
       "      <th>top</th>\n",
       "      <td>nyse</td>\n",
       "      <td>closed</td>\n",
       "      <td>False</td>\n",
       "      <td>False</td>\n",
       "      <td>2022-06-02 21:03:21-04:00</td>\n",
       "      <td>closed</td>\n",
       "      <td>open</td>\n",
       "    </tr>\n",
       "    <tr>\n",
       "      <th>freq</th>\n",
       "      <td>1</td>\n",
       "      <td>5</td>\n",
       "      <td>5</td>\n",
       "      <td>5</td>\n",
       "      <td>5</td>\n",
       "      <td>3</td>\n",
       "      <td>2</td>\n",
       "    </tr>\n",
       "    <tr>\n",
       "      <th>first</th>\n",
       "      <td>NaN</td>\n",
       "      <td>NaN</td>\n",
       "      <td>NaN</td>\n",
       "      <td>NaN</td>\n",
       "      <td>2022-06-02 21:03:21-04:00</td>\n",
       "      <td>NaN</td>\n",
       "      <td>NaN</td>\n",
       "    </tr>\n",
       "    <tr>\n",
       "      <th>last</th>\n",
       "      <td>NaN</td>\n",
       "      <td>NaN</td>\n",
       "      <td>NaN</td>\n",
       "      <td>NaN</td>\n",
       "      <td>2022-06-02 21:03:21-04:00</td>\n",
       "      <td>NaN</td>\n",
       "      <td>NaN</td>\n",
       "    </tr>\n",
       "  </tbody>\n",
       "</table>\n",
       "</div>"
      ],
      "text/plain": [
       "       index  market earlyHours afterHours                 serverTime  \\\n",
       "count      5       5          5          5                          5   \n",
       "unique     5       1          1          1                          1   \n",
       "top     nyse  closed      False      False  2022-06-02 21:03:21-04:00   \n",
       "freq       1       5          5          5                          5   \n",
       "first    NaN     NaN        NaN        NaN  2022-06-02 21:03:21-04:00   \n",
       "last     NaN     NaN        NaN        NaN  2022-06-02 21:03:21-04:00   \n",
       "\n",
       "       exchanges currencies  \n",
       "count          3          2  \n",
       "unique         1          1  \n",
       "top       closed       open  \n",
       "freq           3          2  \n",
       "first        NaN        NaN  \n",
       "last         NaN        NaN  "
      ]
     },
     "execution_count": 181,
     "metadata": {},
     "output_type": "execute_result"
    }
   ],
   "source": [
    "polygon_market_status.describe()"
   ]
  },
  {
   "cell_type": "code",
   "execution_count": 63,
   "metadata": {},
   "outputs": [
    {
     "name": "stdout",
     "output_type": "stream",
     "text": [
      "{'results': [], 'status': 'OK', 'request_id': '8f70ab1902e481cc31d235a4a8b2b52e'}\n"
     ]
    },
    {
     "data": {
      "text/html": [
       "<div>\n",
       "<style scoped>\n",
       "    .dataframe tbody tr th:only-of-type {\n",
       "        vertical-align: middle;\n",
       "    }\n",
       "\n",
       "    .dataframe tbody tr th {\n",
       "        vertical-align: top;\n",
       "    }\n",
       "\n",
       "    .dataframe thead th {\n",
       "        text-align: right;\n",
       "    }\n",
       "</style>\n",
       "<table border=\"1\" class=\"dataframe\">\n",
       "  <thead>\n",
       "    <tr style=\"text-align: right;\">\n",
       "      <th></th>\n",
       "      <th>results</th>\n",
       "      <th>status</th>\n",
       "      <th>request_id</th>\n",
       "    </tr>\n",
       "  </thead>\n",
       "  <tbody>\n",
       "  </tbody>\n",
       "</table>\n",
       "</div>"
      ],
      "text/plain": [
       "Empty DataFrame\n",
       "Columns: [results, status, request_id]\n",
       "Index: []"
      ]
     },
     "execution_count": 63,
     "metadata": {},
     "output_type": "execute_result"
    }
   ],
   "source": [
    "# Esta no nos dio informacion relevante\n",
    "status, polygon_data = polygon.get_news_ticker('2022-06-02', 'BTC')\n",
    "if status:\n",
    "    print(polygon_data)\n",
    "    polygon_news_ticker = pd.DataFrame.from_dict(polygon_data)\n",
    "polygon_news_ticker"
   ]
  },
  {
   "cell_type": "code",
   "execution_count": 64,
   "metadata": {},
   "outputs": [
    {
     "data": {
      "text/html": [
       "<div>\n",
       "<style scoped>\n",
       "    .dataframe tbody tr th:only-of-type {\n",
       "        vertical-align: middle;\n",
       "    }\n",
       "\n",
       "    .dataframe tbody tr th {\n",
       "        vertical-align: top;\n",
       "    }\n",
       "\n",
       "    .dataframe thead th {\n",
       "        text-align: right;\n",
       "    }\n",
       "</style>\n",
       "<table border=\"1\" class=\"dataframe\">\n",
       "  <thead>\n",
       "    <tr style=\"text-align: right;\">\n",
       "      <th></th>\n",
       "      <th>Title</th>\n",
       "      <th>Author</th>\n",
       "      <th>Date</th>\n",
       "      <th>Tickers</th>\n",
       "      <th>Description</th>\n",
       "      <th>Keywords</th>\n",
       "    </tr>\n",
       "  </thead>\n",
       "  <tbody>\n",
       "    <tr>\n",
       "      <th>0</th>\n",
       "      <td>The Limestone Boat Company Announces First Qua...</td>\n",
       "      <td>The Limestone Boat Company Limited</td>\n",
       "      <td>2022-05-31T01:51:00Z</td>\n",
       "      <td>[BOAT]</td>\n",
       "      <td>Limestone continues to grow unit production, r...</td>\n",
       "      <td>[Earnings Releases and Operating Results]</td>\n",
       "    </tr>\n",
       "    <tr>\n",
       "      <th>1</th>\n",
       "      <td>Shiba Inu (SHIB) Founder Ryoshi Abruptly Delet...</td>\n",
       "      <td>Samyuktha Sriram</td>\n",
       "      <td>2022-05-31T02:52:56Z</td>\n",
       "      <td>[TWTR]</td>\n",
       "      <td>Ryoshi, the pseudonymous creator behind meme c...</td>\n",
       "      <td>[News, Cryptocurrency, Social Media, Top Stori...</td>\n",
       "    </tr>\n",
       "    <tr>\n",
       "      <th>2</th>\n",
       "      <td>Apple Will Have To Face Antitrust Lawsuit From...</td>\n",
       "      <td>Shivdeep Dhaliwal</td>\n",
       "      <td>2022-05-31T03:16:09Z</td>\n",
       "      <td>[AAPL]</td>\n",
       "      <td>Apple Inc’s (NASDAQ: AAPL) attempts to have an...</td>\n",
       "      <td>[News, Legal, Tech, Media]</td>\n",
       "    </tr>\n",
       "    <tr>\n",
       "      <th>3</th>\n",
       "      <td>Why Alibaba, Nio, Chinese Peers Are Struggling...</td>\n",
       "      <td>Navdeep Yadav</td>\n",
       "      <td>2022-05-31T04:07:22Z</td>\n",
       "      <td>[BABA, JD, NIO, XPEV]</td>\n",
       "      <td>Shares of U.S.-listed Chinese companies were n...</td>\n",
       "      <td>[News, Asia, Top Stories, Markets, Movers, Tec...</td>\n",
       "    </tr>\n",
       "    <tr>\n",
       "      <th>4</th>\n",
       "      <td>Coinbase Institutional Clients Raised Bitcoin ...</td>\n",
       "      <td>Samyuktha Sriram</td>\n",
       "      <td>2022-05-31T04:20:15Z</td>\n",
       "      <td>[COIN]</td>\n",
       "      <td>Data shows that institutions on Coinbase Globa...</td>\n",
       "      <td>[News, Cryptocurrency, Markets]</td>\n",
       "    </tr>\n",
       "  </tbody>\n",
       "</table>\n",
       "</div>"
      ],
      "text/plain": [
       "                                               Title  \\\n",
       "0  The Limestone Boat Company Announces First Qua...   \n",
       "1  Shiba Inu (SHIB) Founder Ryoshi Abruptly Delet...   \n",
       "2  Apple Will Have To Face Antitrust Lawsuit From...   \n",
       "3  Why Alibaba, Nio, Chinese Peers Are Struggling...   \n",
       "4  Coinbase Institutional Clients Raised Bitcoin ...   \n",
       "\n",
       "                               Author                  Date  \\\n",
       "0  The Limestone Boat Company Limited  2022-05-31T01:51:00Z   \n",
       "1                    Samyuktha Sriram  2022-05-31T02:52:56Z   \n",
       "2                   Shivdeep Dhaliwal  2022-05-31T03:16:09Z   \n",
       "3                       Navdeep Yadav  2022-05-31T04:07:22Z   \n",
       "4                    Samyuktha Sriram  2022-05-31T04:20:15Z   \n",
       "\n",
       "                 Tickers                                        Description  \\\n",
       "0                 [BOAT]  Limestone continues to grow unit production, r...   \n",
       "1                 [TWTR]  Ryoshi, the pseudonymous creator behind meme c...   \n",
       "2                 [AAPL]  Apple Inc’s (NASDAQ: AAPL) attempts to have an...   \n",
       "3  [BABA, JD, NIO, XPEV]  Shares of U.S.-listed Chinese companies were n...   \n",
       "4                 [COIN]  Data shows that institutions on Coinbase Globa...   \n",
       "\n",
       "                                            Keywords  \n",
       "0          [Earnings Releases and Operating Results]  \n",
       "1  [News, Cryptocurrency, Social Media, Top Stori...  \n",
       "2                         [News, Legal, Tech, Media]  \n",
       "3  [News, Asia, Top Stories, Markets, Movers, Tec...  \n",
       "4                    [News, Cryptocurrency, Markets]  "
      ]
     },
     "execution_count": 64,
     "metadata": {},
     "output_type": "execute_result"
    }
   ],
   "source": [
    "status, polygon_data_on = polygon.get_old_news('2022-05-31')\n",
    "#print(status)\n",
    "if status:\n",
    "    #print(polygon_data)\n",
    "    polygon_old_news = pd.DataFrame.from_dict(polygon_data_on[\"results\"])\n",
    "#polygon_old_news\n",
    "polygon_old_news = polygon_old_news[['title', 'author', 'published_utc', 'tickers', 'description', 'keywords']]\n",
    "n_columns_news = {'title':'Title', 'author':'Author', 'published_utc':'Date', 'tickers':'Tickers', 'description':'Description', 'keywords':'Keywords'}\n",
    "polygon_old_news.rename(columns = n_columns_news, inplace = True)\n",
    "polygon_old_news.head()"
   ]
  },
  {
   "cell_type": "code",
   "execution_count": 176,
   "metadata": {},
   "outputs": [
    {
     "data": {
      "text/plain": [
       "Title                       object\n",
       "Author                      object\n",
       "Date           datetime64[ns, UTC]\n",
       "Tickers                     object\n",
       "Description                 object\n",
       "Keywords                    object\n",
       "dtype: object"
      ]
     },
     "execution_count": 176,
     "metadata": {},
     "output_type": "execute_result"
    }
   ],
   "source": [
    "polygon_old_news['Date'] = pd.to_datetime(polygon_old_news['Date'])\n",
    "polygon_old_news.dtypes"
   ]
  },
  {
   "cell_type": "code",
   "execution_count": 177,
   "metadata": {},
   "outputs": [
    {
     "name": "stderr",
     "output_type": "stream",
     "text": [
      "C:\\Users\\julia\\AppData\\Local\\Temp\\ipykernel_13564\\2004128356.py:1: FutureWarning: Treating datetime data as categorical rather than numeric in `.describe` is deprecated and will be removed in a future version of pandas. Specify `datetime_is_numeric=True` to silence this warning and adopt the future behavior now.\n",
      "  polygon_old_news.describe()\n"
     ]
    },
    {
     "data": {
      "text/html": [
       "<div>\n",
       "<style scoped>\n",
       "    .dataframe tbody tr th:only-of-type {\n",
       "        vertical-align: middle;\n",
       "    }\n",
       "\n",
       "    .dataframe tbody tr th {\n",
       "        vertical-align: top;\n",
       "    }\n",
       "\n",
       "    .dataframe thead th {\n",
       "        text-align: right;\n",
       "    }\n",
       "</style>\n",
       "<table border=\"1\" class=\"dataframe\">\n",
       "  <thead>\n",
       "    <tr style=\"text-align: right;\">\n",
       "      <th></th>\n",
       "      <th>Title</th>\n",
       "      <th>Author</th>\n",
       "      <th>Date</th>\n",
       "      <th>Tickers</th>\n",
       "      <th>Description</th>\n",
       "      <th>Keywords</th>\n",
       "    </tr>\n",
       "  </thead>\n",
       "  <tbody>\n",
       "    <tr>\n",
       "      <th>count</th>\n",
       "      <td>1000</td>\n",
       "      <td>1000</td>\n",
       "      <td>1000</td>\n",
       "      <td>1000</td>\n",
       "      <td>980</td>\n",
       "      <td>563</td>\n",
       "    </tr>\n",
       "    <tr>\n",
       "      <th>unique</th>\n",
       "      <td>992</td>\n",
       "      <td>369</td>\n",
       "      <td>644</td>\n",
       "      <td>861</td>\n",
       "      <td>950</td>\n",
       "      <td>147</td>\n",
       "    </tr>\n",
       "    <tr>\n",
       "      <th>top</th>\n",
       "      <td>Why This 1 Growth Stock Could Be a Great Addit...</td>\n",
       "      <td>Zacks Equity Research</td>\n",
       "      <td>2022-05-31 20:05:00+00:00</td>\n",
       "      <td>[TSLA]</td>\n",
       "      <td>Whether you're a value, growth, or momentum in...</td>\n",
       "      <td>[investing]</td>\n",
       "    </tr>\n",
       "    <tr>\n",
       "      <th>freq</th>\n",
       "      <td>3</td>\n",
       "      <td>311</td>\n",
       "      <td>19</td>\n",
       "      <td>9</td>\n",
       "      <td>11</td>\n",
       "      <td>119</td>\n",
       "    </tr>\n",
       "    <tr>\n",
       "      <th>first</th>\n",
       "      <td>NaN</td>\n",
       "      <td>NaN</td>\n",
       "      <td>2022-05-31 01:51:00+00:00</td>\n",
       "      <td>NaN</td>\n",
       "      <td>NaN</td>\n",
       "      <td>NaN</td>\n",
       "    </tr>\n",
       "    <tr>\n",
       "      <th>last</th>\n",
       "      <td>NaN</td>\n",
       "      <td>NaN</td>\n",
       "      <td>2022-06-01 13:40:08+00:00</td>\n",
       "      <td>NaN</td>\n",
       "      <td>NaN</td>\n",
       "      <td>NaN</td>\n",
       "    </tr>\n",
       "  </tbody>\n",
       "</table>\n",
       "</div>"
      ],
      "text/plain": [
       "                                                    Title  \\\n",
       "count                                                1000   \n",
       "unique                                                992   \n",
       "top     Why This 1 Growth Stock Could Be a Great Addit...   \n",
       "freq                                                    3   \n",
       "first                                                 NaN   \n",
       "last                                                  NaN   \n",
       "\n",
       "                       Author                       Date Tickers  \\\n",
       "count                    1000                       1000    1000   \n",
       "unique                    369                        644     861   \n",
       "top     Zacks Equity Research  2022-05-31 20:05:00+00:00  [TSLA]   \n",
       "freq                      311                         19       9   \n",
       "first                     NaN  2022-05-31 01:51:00+00:00     NaN   \n",
       "last                      NaN  2022-06-01 13:40:08+00:00     NaN   \n",
       "\n",
       "                                              Description     Keywords  \n",
       "count                                                 980          563  \n",
       "unique                                                950          147  \n",
       "top     Whether you're a value, growth, or momentum in...  [investing]  \n",
       "freq                                                   11          119  \n",
       "first                                                 NaN          NaN  \n",
       "last                                                  NaN          NaN  "
      ]
     },
     "execution_count": 177,
     "metadata": {},
     "output_type": "execute_result"
    }
   ],
   "source": [
    "polygon_old_news.describe()"
   ]
  },
  {
   "cell_type": "code",
   "execution_count": 178,
   "metadata": {},
   "outputs": [
    {
     "data": {
      "text/plain": [
       "Title          1000\n",
       "Author         1000\n",
       "Date           1000\n",
       "Tickers        1000\n",
       "Description     980\n",
       "Keywords        563\n",
       "dtype: int64"
      ]
     },
     "execution_count": 178,
     "metadata": {},
     "output_type": "execute_result"
    }
   ],
   "source": [
    "countAnalisis_polygon_old_news = polygon_old_news[[\"Title\", \"Author\", \"Date\", \"Tickers\", \"Description\", \"Keywords\"]].count()\n",
    "countAnalisis_polygon_old_news"
   ]
  },
  {
   "cell_type": "code",
   "execution_count": 65,
   "metadata": {},
   "outputs": [
    {
     "data": {
      "text/html": [
       "<div>\n",
       "<style scoped>\n",
       "    .dataframe tbody tr th:only-of-type {\n",
       "        vertical-align: middle;\n",
       "    }\n",
       "\n",
       "    .dataframe tbody tr th {\n",
       "        vertical-align: top;\n",
       "    }\n",
       "\n",
       "    .dataframe thead th {\n",
       "        text-align: right;\n",
       "    }\n",
       "</style>\n",
       "<table border=\"1\" class=\"dataframe\">\n",
       "  <thead>\n",
       "    <tr style=\"text-align: right;\">\n",
       "      <th></th>\n",
       "      <th>Title</th>\n",
       "      <th>Author</th>\n",
       "      <th>Date</th>\n",
       "      <th>Tickers</th>\n",
       "      <th>Description</th>\n",
       "      <th>Keywords</th>\n",
       "    </tr>\n",
       "  </thead>\n",
       "  <tbody>\n",
       "    <tr>\n",
       "      <th>0</th>\n",
       "      <td>California Water Service Receives CPUC Approva...</td>\n",
       "      <td>California Water Service Group</td>\n",
       "      <td>2022-06-02T23:15:00Z</td>\n",
       "      <td>[CWT]</td>\n",
       "      <td>SAN JOSE, Calif., June  02, 2022  (GLOBE NEWSW...</td>\n",
       "      <td>[Mergers and Acquisitions]</td>\n",
       "    </tr>\n",
       "    <tr>\n",
       "      <th>1</th>\n",
       "      <td>Aduro Clean Technologies fera des présentation...</td>\n",
       "      <td>Aduro Clean Technologies Inc.</td>\n",
       "      <td>2022-06-02T22:52:00Z</td>\n",
       "      <td>[ACT]</td>\n",
       "      <td>Aduro fera une présentation lors du Global Ene...</td>\n",
       "      <td>[Calendar of Events]</td>\n",
       "    </tr>\n",
       "    <tr>\n",
       "      <th>2</th>\n",
       "      <td>Aduro Clean Technologies präsentiert auf anste...</td>\n",
       "      <td>Aduro Clean Technologies Inc.</td>\n",
       "      <td>2022-06-02T22:52:00Z</td>\n",
       "      <td>[ACT]</td>\n",
       "      <td>Aduro stellt Technologie auf der Global Energy...</td>\n",
       "      <td>[Calendar of Events]</td>\n",
       "    </tr>\n",
       "    <tr>\n",
       "      <th>3</th>\n",
       "      <td>Why I'm not celebrating National Doughnut Day</td>\n",
       "      <td>MarketWatch</td>\n",
       "      <td>2022-06-02T22:46:00Z</td>\n",
       "      <td>[DNUT]</td>\n",
       "      <td>It has become increasingly challenging to find...</td>\n",
       "      <td>NaN</td>\n",
       "    </tr>\n",
       "    <tr>\n",
       "      <th>4</th>\n",
       "      <td>The Toro Company (TTC) Q2 2022 Earnings Call T...</td>\n",
       "      <td>newsfeedback@fool.com (Motley Fool Transcribing)</td>\n",
       "      <td>2022-06-02T22:30:42Z</td>\n",
       "      <td>[TTC]</td>\n",
       "      <td>TTC earnings call for the period ending March ...</td>\n",
       "      <td>[earningscall-transcripts]</td>\n",
       "    </tr>\n",
       "  </tbody>\n",
       "</table>\n",
       "</div>"
      ],
      "text/plain": [
       "                                               Title  \\\n",
       "0  California Water Service Receives CPUC Approva...   \n",
       "1  Aduro Clean Technologies fera des présentation...   \n",
       "2  Aduro Clean Technologies präsentiert auf anste...   \n",
       "3      Why I'm not celebrating National Doughnut Day   \n",
       "4  The Toro Company (TTC) Q2 2022 Earnings Call T...   \n",
       "\n",
       "                                             Author                  Date  \\\n",
       "0                    California Water Service Group  2022-06-02T23:15:00Z   \n",
       "1                     Aduro Clean Technologies Inc.  2022-06-02T22:52:00Z   \n",
       "2                     Aduro Clean Technologies Inc.  2022-06-02T22:52:00Z   \n",
       "3                                       MarketWatch  2022-06-02T22:46:00Z   \n",
       "4  newsfeedback@fool.com (Motley Fool Transcribing)  2022-06-02T22:30:42Z   \n",
       "\n",
       "  Tickers                                        Description  \\\n",
       "0   [CWT]  SAN JOSE, Calif., June  02, 2022  (GLOBE NEWSW...   \n",
       "1   [ACT]  Aduro fera une présentation lors du Global Ene...   \n",
       "2   [ACT]  Aduro stellt Technologie auf der Global Energy...   \n",
       "3  [DNUT]  It has become increasingly challenging to find...   \n",
       "4   [TTC]  TTC earnings call for the period ending March ...   \n",
       "\n",
       "                     Keywords  \n",
       "0  [Mergers and Acquisitions]  \n",
       "1        [Calendar of Events]  \n",
       "2        [Calendar of Events]  \n",
       "3                         NaN  \n",
       "4  [earningscall-transcripts]  "
      ]
     },
     "execution_count": 65,
     "metadata": {},
     "output_type": "execute_result"
    }
   ],
   "source": [
    "status, polygon_data_on = polygon.get_news('2022-05-31')\n",
    "#print(status)\n",
    "if status:\n",
    "    #print(polygon_data)\n",
    "    polygon_get_news = pd.DataFrame.from_dict(polygon_data_on[\"results\"])\n",
    "#polygon_get_news.head()\n",
    "polygon_get_news = polypolygon_old_news.describe()\n",
    "polygon_old_news.dtypesgon_get_news[['title', 'author', 'published_utc', 'tickers', 'description', 'keywords']]\n",
    "polygon_get_news.rename(columns = n_columns_news, inplace = True)\n",
    "polygon_get_news.head()"
   ]
  },
  {
   "cell_type": "code",
   "execution_count": 173,
   "metadata": {},
   "outputs": [
    {
     "data": {
      "text/plain": [
       "Title                       object\n",
       "Author                      object\n",
       "Date           datetime64[ns, UTC]\n",
       "Tickers                     object\n",
       "Description                 object\n",
       "Keywords                    object\n",
       "dtype: object"
      ]
     },
     "execution_count": 173,
     "metadata": {},
     "output_type": "execute_result"
    }
   ],
   "source": [
    "polygon_get_news['Date'] = pd.to_datetime(polygon_get_news['Date'])\n",
    "polygon_get_news.dtypes"
   ]
  },
  {
   "cell_type": "code",
   "execution_count": 174,
   "metadata": {},
   "outputs": [
    {
     "name": "stderr",
     "output_type": "stream",
     "text": [
      "C:\\Users\\julia\\AppData\\Local\\Temp\\ipykernel_13564\\740367754.py:1: FutureWarning: Treating datetime data as categorical rather than numeric in `.describe` is deprecated and will be removed in a future version of pandas. Specify `datetime_is_numeric=True` to silence this warning and adopt the future behavior now.\n",
      "  polygon_get_news.describe()\n"
     ]
    },
    {
     "data": {
      "text/html": [
       "<div>\n",
       "<style scoped>\n",
       "    .dataframe tbody tr th:only-of-type {\n",
       "        vertical-align: middle;\n",
       "    }\n",
       "\n",
       "    .dataframe tbody tr th {\n",
       "        vertical-align: top;\n",
       "    }\n",
       "\n",
       "    .dataframe thead th {\n",
       "        text-align: right;\n",
       "    }\n",
       "</style>\n",
       "<table border=\"1\" class=\"dataframe\">\n",
       "  <thead>\n",
       "    <tr style=\"text-align: right;\">\n",
       "      <th></th>\n",
       "      <th>Title</th>\n",
       "      <th>Author</th>\n",
       "      <th>Date</th>\n",
       "      <th>Tickers</th>\n",
       "      <th>Description</th>\n",
       "      <th>Keywords</th>\n",
       "    </tr>\n",
       "  </thead>\n",
       "  <tbody>\n",
       "    <tr>\n",
       "      <th>count</th>\n",
       "      <td>1000</td>\n",
       "      <td>1000</td>\n",
       "      <td>1000</td>\n",
       "      <td>1000</td>\n",
       "      <td>984</td>\n",
       "      <td>495</td>\n",
       "    </tr>\n",
       "    <tr>\n",
       "      <th>unique</th>\n",
       "      <td>997</td>\n",
       "      <td>311</td>\n",
       "      <td>608</td>\n",
       "      <td>856</td>\n",
       "      <td>963</td>\n",
       "      <td>133</td>\n",
       "    </tr>\n",
       "    <tr>\n",
       "      <th>top</th>\n",
       "      <td>Breaking Down the Tech Sector's Earnings Outlook</td>\n",
       "      <td>Zacks Equity Research</td>\n",
       "      <td>2022-06-02 20:05:00+00:00</td>\n",
       "      <td>[DJIA]</td>\n",
       "      <td>Here at Zacks, our focus is on the proven Zack...</td>\n",
       "      <td>[investing]</td>\n",
       "    </tr>\n",
       "    <tr>\n",
       "      <th>freq</th>\n",
       "      <td>2</td>\n",
       "      <td>379</td>\n",
       "      <td>20</td>\n",
       "      <td>8</td>\n",
       "      <td>9</td>\n",
       "      <td>134</td>\n",
       "    </tr>\n",
       "    <tr>\n",
       "      <th>first</th>\n",
       "      <td>NaN</td>\n",
       "      <td>NaN</td>\n",
       "      <td>2022-06-01 20:30:00+00:00</td>\n",
       "      <td>NaN</td>\n",
       "      <td>NaN</td>\n",
       "      <td>NaN</td>\n",
       "    </tr>\n",
       "    <tr>\n",
       "      <th>last</th>\n",
       "      <td>NaN</td>\n",
       "      <td>NaN</td>\n",
       "      <td>2022-06-02 23:15:00+00:00</td>\n",
       "      <td>NaN</td>\n",
       "      <td>NaN</td>\n",
       "      <td>NaN</td>\n",
       "    </tr>\n",
       "  </tbody>\n",
       "</table>\n",
       "</div>"
      ],
      "text/plain": [
       "                                                   Title  \\\n",
       "count                                               1000   \n",
       "unique                                               997   \n",
       "top     Breaking Down the Tech Sector's Earnings Outlook   \n",
       "freq                                                   2   \n",
       "first                                                NaN   \n",
       "last                                                 NaN   \n",
       "\n",
       "                       Author                       Date Tickers  \\\n",
       "count                    1000                       1000    1000   \n",
       "unique                    311                        608     856   \n",
       "top     Zacks Equity Research  2022-06-02 20:05:00+00:00  [DJIA]   \n",
       "freq                      379                         20       8   \n",
       "first                     NaN  2022-06-01 20:30:00+00:00     NaN   \n",
       "last                      NaN  2022-06-02 23:15:00+00:00     NaN   \n",
       "\n",
       "                                              Description     Keywords  \n",
       "count                                                 984          495  \n",
       "unique                                                963          133  \n",
       "top     Here at Zacks, our focus is on the proven Zack...  [investing]  \n",
       "freq                                                    9          134  \n",
       "first                                                 NaN          NaN  \n",
       "last                                                  NaN          NaN  "
      ]
     },
     "execution_count": 174,
     "metadata": {},
     "output_type": "execute_result"
    }
   ],
   "source": [
    "polygon_get_news.describe()"
   ]
  },
  {
   "cell_type": "code",
   "execution_count": 175,
   "metadata": {},
   "outputs": [
    {
     "data": {
      "text/plain": [
       "Title          1000\n",
       "Author         1000\n",
       "Date           1000\n",
       "Tickers        1000\n",
       "Description     984\n",
       "Keywords        495\n",
       "dtype: int64"
      ]
     },
     "execution_count": 175,
     "metadata": {},
     "output_type": "execute_result"
    }
   ],
   "source": [
    "countAnalisis_polygon_get_news = polygon_get_news[[\"Title\", \"Author\", \"Date\", \"Tickers\", \"Description\", \"Keywords\"]].count()\n",
    "countAnalisis_polygon_get_news"
   ]
  },
  {
   "cell_type": "code",
   "execution_count": 66,
   "metadata": {},
   "outputs": [],
   "source": [
    "daily_results = pd.DataFrame()\n",
    "#dates3 = ['2022-01-07', '2022-01-14', '2022-01-21', '2022-01-28', '2022-02-04', '2022-02-11', '2022-02-18', '2022-02-25', '2022-03-04', '2022-03-11', '2022-03-18', '2022-03-25', '2022-04-01', '2022-04-08', '2022-04-15', '2022-04-22', '2022-04-29', '2022-05-06', '2022-05-13', '2022-05-20', '2022-05-27']\n",
    "dates = ['2022-01-07', '2022-01-14', '2022-01-21', '2022-01-28', '2022-02-04', '2022-02-11', '2022-02-18', '2022-02-25', '2022-03-04', '2022-03-11', '2022-03-18', '2022-03-25', '2022-04-01', '2022-04-08', '2022-04-15', '2022-04-22', '2022-04-29', '2022-05-06', '2022-05-13', '2022-05-20', '2022-05-27']"
   ]
  },
  {
   "cell_type": "code",
   "execution_count": 67,
   "metadata": {},
   "outputs": [
    {
     "data": {
      "text/html": [
       "<div>\n",
       "<style scoped>\n",
       "    .dataframe tbody tr th:only-of-type {\n",
       "        vertical-align: middle;\n",
       "    }\n",
       "\n",
       "    .dataframe tbody tr th {\n",
       "        vertical-align: top;\n",
       "    }\n",
       "\n",
       "    .dataframe thead th {\n",
       "        text-align: right;\n",
       "    }\n",
       "</style>\n",
       "<table border=\"1\" class=\"dataframe\">\n",
       "  <thead>\n",
       "    <tr style=\"text-align: right;\">\n",
       "      <th></th>\n",
       "      <th>symbol</th>\n",
       "      <th>isUTC</th>\n",
       "      <th>day</th>\n",
       "      <th>open</th>\n",
       "      <th>close</th>\n",
       "      <th>ExchangeOpen</th>\n",
       "      <th>PriceOpen</th>\n",
       "      <th>VolumeOpen</th>\n",
       "      <th>ConditionCodesOpen</th>\n",
       "      <th>IdOpen</th>\n",
       "      <th>TimestampOpen</th>\n",
       "      <th>ExchangeClose</th>\n",
       "      <th>PriceClose</th>\n",
       "      <th>VolumeClose</th>\n",
       "      <th>ConditionCodesClose</th>\n",
       "      <th>IdClose</th>\n",
       "      <th>TimestampClose</th>\n",
       "    </tr>\n",
       "  </thead>\n",
       "  <tbody>\n",
       "    <tr>\n",
       "      <th>0</th>\n",
       "      <td>BTC-USD</td>\n",
       "      <td>True</td>\n",
       "      <td>2022-01-07T00:00:00Z</td>\n",
       "      <td>43081.79</td>\n",
       "      <td>41564.61</td>\n",
       "      <td>1</td>\n",
       "      <td>43081.79</td>\n",
       "      <td>0.000675</td>\n",
       "      <td>2</td>\n",
       "      <td>260333638</td>\n",
       "      <td>1641513600010</td>\n",
       "      <td>1</td>\n",
       "      <td>41564.61</td>\n",
       "      <td>0.000247</td>\n",
       "      <td>1</td>\n",
       "      <td>260893471</td>\n",
       "      <td>1641599999913</td>\n",
       "    </tr>\n",
       "    <tr>\n",
       "      <th>1</th>\n",
       "      <td>BTC-USD</td>\n",
       "      <td>True</td>\n",
       "      <td>2022-01-14T00:00:00Z</td>\n",
       "      <td>42576.27</td>\n",
       "      <td>43086.89</td>\n",
       "      <td>1</td>\n",
       "      <td>42576.27</td>\n",
       "      <td>0.001000</td>\n",
       "      <td>2</td>\n",
       "      <td>263672878</td>\n",
       "      <td>1642118400058</td>\n",
       "      <td>1</td>\n",
       "      <td>43086.89</td>\n",
       "      <td>0.000779</td>\n",
       "      <td>1</td>\n",
       "      <td>264133049</td>\n",
       "      <td>1642204799588</td>\n",
       "    </tr>\n",
       "    <tr>\n",
       "      <th>2</th>\n",
       "      <td>BTC-USD</td>\n",
       "      <td>True</td>\n",
       "      <td>2022-01-21T00:00:00Z</td>\n",
       "      <td>40671.77</td>\n",
       "      <td>36456.96</td>\n",
       "      <td>1</td>\n",
       "      <td>40671.77</td>\n",
       "      <td>0.000120</td>\n",
       "      <td>2</td>\n",
       "      <td>266526967</td>\n",
       "      <td>1642723200089</td>\n",
       "      <td>1</td>\n",
       "      <td>36456.96</td>\n",
       "      <td>0.001000</td>\n",
       "      <td>2</td>\n",
       "      <td>267665914</td>\n",
       "      <td>1642809599827</td>\n",
       "    </tr>\n",
       "    <tr>\n",
       "      <th>3</th>\n",
       "      <td>BTC-USD</td>\n",
       "      <td>True</td>\n",
       "      <td>2022-01-28T00:00:00Z</td>\n",
       "      <td>37188.37</td>\n",
       "      <td>37741.59</td>\n",
       "      <td>1</td>\n",
       "      <td>37188.37</td>\n",
       "      <td>0.000080</td>\n",
       "      <td>1</td>\n",
       "      <td>271657003</td>\n",
       "      <td>1643328000218</td>\n",
       "      <td>1</td>\n",
       "      <td>37741.59</td>\n",
       "      <td>0.000960</td>\n",
       "      <td>1</td>\n",
       "      <td>272374175</td>\n",
       "      <td>1643414399859</td>\n",
       "    </tr>\n",
       "    <tr>\n",
       "      <th>4</th>\n",
       "      <td>BTC-USD</td>\n",
       "      <td>True</td>\n",
       "      <td>2022-02-04T00:00:00Z</td>\n",
       "      <td>37367.00</td>\n",
       "      <td>41614.66</td>\n",
       "      <td>2</td>\n",
       "      <td>37367.00</td>\n",
       "      <td>0.005000</td>\n",
       "      <td>2</td>\n",
       "      <td>991190639</td>\n",
       "      <td>1643932800019</td>\n",
       "      <td>1</td>\n",
       "      <td>41614.66</td>\n",
       "      <td>0.006329</td>\n",
       "      <td>2</td>\n",
       "      <td>276280906</td>\n",
       "      <td>1644019199952</td>\n",
       "    </tr>\n",
       "  </tbody>\n",
       "</table>\n",
       "</div>"
      ],
      "text/plain": [
       "    symbol  isUTC                   day      open     close  ExchangeOpen  \\\n",
       "0  BTC-USD   True  2022-01-07T00:00:00Z  43081.79  41564.61             1   \n",
       "1  BTC-USD   True  2022-01-14T00:00:00Z  42576.27  43086.89             1   \n",
       "2  BTC-USD   True  2022-01-21T00:00:00Z  40671.77  36456.96             1   \n",
       "3  BTC-USD   True  2022-01-28T00:00:00Z  37188.37  37741.59             1   \n",
       "4  BTC-USD   True  2022-02-04T00:00:00Z  37367.00  41614.66             2   \n",
       "\n",
       "   PriceOpen  VolumeOpen  ConditionCodesOpen     IdOpen  TimestampOpen  \\\n",
       "0   43081.79    0.000675                   2  260333638  1641513600010   \n",
       "1   42576.27    0.001000                   2  263672878  1642118400058   \n",
       "2   40671.77    0.000120                   2  266526967  1642723200089   \n",
       "3   37188.37    0.000080                   1  271657003  1643328000218   \n",
       "4   37367.00    0.005000                   2  991190639  1643932800019   \n",
       "\n",
       "   ExchangeClose  PriceClose  VolumeClose  ConditionCodesClose    IdClose  \\\n",
       "0              1    41564.61     0.000247                    1  260893471   \n",
       "1              1    43086.89     0.000779                    1  264133049   \n",
       "2              1    36456.96     0.001000                    2  267665914   \n",
       "3              1    37741.59     0.000960                    1  272374175   \n",
       "4              1    41614.66     0.006329                    2  276280906   \n",
       "\n",
       "   TimestampClose  \n",
       "0   1641599999913  \n",
       "1   1642204799588  \n",
       "2   1642809599827  \n",
       "3   1643414399859  \n",
       "4   1644019199952  "
      ]
     },
     "execution_count": 67,
     "metadata": {},
     "output_type": "execute_result"
    }
   ],
   "source": [
    "for element in dates:\n",
    "    #print(element)\n",
    "    status, polygon_data = polygon.daily_result('BTC', element)\n",
    "    if status:\n",
    "        #print(polygon_data)\n",
    "        polygon_daily_result = pd.DataFrame.from_dict(polygon_data)\n",
    "    polygon_daily_result = polygon_daily_result.head(1)\n",
    "    #polygon_daily_result\n",
    "\n",
    "    polygon_daily_result_open = pd.DataFrame.from_dict(polygon_daily_result['openTrades'][0])\n",
    "\n",
    "    n_columns_news3 = {'x':'ExchangeOpen', 'p':'PriceOpen', 's':'VolumeOpen', 'c':'ConditionCodesOpen', 'i':'IdOpen', 't':'TimestampOpen'}\n",
    "    polygon_daily_result_open.rename(columns = n_columns_news3, inplace = True)\n",
    "    #polygon_daily_result_open.head()\n",
    "\n",
    "    polygon_daily_result_close = pd.DataFrame.from_dict(polygon_daily_result['closingTrades'][0])\n",
    "\n",
    "\n",
    "    n_columns_news2 = {'x':'ExchangeClose', 'p':'PriceClose', 's':'VolumeClose', 'c':'ConditionCodesClose', 'i':'IdClose', 't':'TimestampClose'}\n",
    "    polygon_daily_result_close.rename(columns = n_columns_news2, inplace = True)\n",
    "    #polygon_daily_result_close.head()\n",
    "\n",
    "    polygon_daily_result = polygon_daily_result[['symbol', 'isUTC', 'day', 'open', 'close']]\n",
    "    #polygon_daily_result.join(polygon_daily_result_open)\n",
    "    polygon_daily_result = pd.concat([polygon_daily_result,polygon_daily_result_open], axis = 1)\n",
    "    polygon_daily_result = pd.concat([polygon_daily_result,polygon_daily_result_close], axis = 1)\n",
    "    #polygon_daily_result.head()\n",
    "\n",
    "    daily_results = daily_results.append(polygon_daily_result, ignore_index=True)\n",
    "    time.sleep(15)\n",
    "daily_results.head()"
   ]
  },
  {
   "cell_type": "code",
   "execution_count": 98,
   "metadata": {},
   "outputs": [
    {
     "data": {
      "text/html": [
       "<div>\n",
       "<style scoped>\n",
       "    .dataframe tbody tr th:only-of-type {\n",
       "        vertical-align: middle;\n",
       "    }\n",
       "\n",
       "    .dataframe tbody tr th {\n",
       "        vertical-align: top;\n",
       "    }\n",
       "\n",
       "    .dataframe thead th {\n",
       "        text-align: right;\n",
       "    }\n",
       "</style>\n",
       "<table border=\"1\" class=\"dataframe\">\n",
       "  <thead>\n",
       "    <tr style=\"text-align: right;\">\n",
       "      <th></th>\n",
       "      <th>symbol</th>\n",
       "      <th>isUTC</th>\n",
       "      <th>day</th>\n",
       "      <th>open</th>\n",
       "      <th>close</th>\n",
       "      <th>ExchangeOpen</th>\n",
       "      <th>PriceOpen</th>\n",
       "      <th>VolumeOpen</th>\n",
       "      <th>ConditionCodesOpen</th>\n",
       "      <th>IdOpen</th>\n",
       "      <th>TimestampOpen</th>\n",
       "      <th>ExchangeClose</th>\n",
       "      <th>PriceClose</th>\n",
       "      <th>VolumeClose</th>\n",
       "      <th>ConditionCodesClose</th>\n",
       "      <th>IdClose</th>\n",
       "      <th>TimestampClose</th>\n",
       "      <th>DateOpen</th>\n",
       "      <th>DateClose</th>\n",
       "    </tr>\n",
       "  </thead>\n",
       "  <tbody>\n",
       "    <tr>\n",
       "      <th>0</th>\n",
       "      <td>BTC-USD</td>\n",
       "      <td>True</td>\n",
       "      <td>2022-01-07T00:00:00Z</td>\n",
       "      <td>43081.79</td>\n",
       "      <td>41564.61</td>\n",
       "      <td>1</td>\n",
       "      <td>43081.79</td>\n",
       "      <td>0.000675</td>\n",
       "      <td>2</td>\n",
       "      <td>260333638</td>\n",
       "      <td>1641513600010</td>\n",
       "      <td>1</td>\n",
       "      <td>41564.61</td>\n",
       "      <td>0.000247</td>\n",
       "      <td>1</td>\n",
       "      <td>260893471</td>\n",
       "      <td>1641599999913</td>\n",
       "      <td>2022-01-07 00:00:00.009999872</td>\n",
       "      <td>2022-01-07 23:59:59.913000192</td>\n",
       "    </tr>\n",
       "    <tr>\n",
       "      <th>1</th>\n",
       "      <td>BTC-USD</td>\n",
       "      <td>True</td>\n",
       "      <td>2022-01-14T00:00:00Z</td>\n",
       "      <td>42576.27</td>\n",
       "      <td>43086.89</td>\n",
       "      <td>1</td>\n",
       "      <td>42576.27</td>\n",
       "      <td>0.001000</td>\n",
       "      <td>2</td>\n",
       "      <td>263672878</td>\n",
       "      <td>1642118400058</td>\n",
       "      <td>1</td>\n",
       "      <td>43086.89</td>\n",
       "      <td>0.000779</td>\n",
       "      <td>1</td>\n",
       "      <td>264133049</td>\n",
       "      <td>1642204799588</td>\n",
       "      <td>2022-01-14 00:00:00.058000128</td>\n",
       "      <td>2022-01-14 23:59:59.588000000</td>\n",
       "    </tr>\n",
       "    <tr>\n",
       "      <th>2</th>\n",
       "      <td>BTC-USD</td>\n",
       "      <td>True</td>\n",
       "      <td>2022-01-21T00:00:00Z</td>\n",
       "      <td>40671.77</td>\n",
       "      <td>36456.96</td>\n",
       "      <td>1</td>\n",
       "      <td>40671.77</td>\n",
       "      <td>0.000120</td>\n",
       "      <td>2</td>\n",
       "      <td>266526967</td>\n",
       "      <td>1642723200089</td>\n",
       "      <td>1</td>\n",
       "      <td>36456.96</td>\n",
       "      <td>0.001000</td>\n",
       "      <td>2</td>\n",
       "      <td>267665914</td>\n",
       "      <td>1642809599827</td>\n",
       "      <td>2022-01-21 00:00:00.088999936</td>\n",
       "      <td>2022-01-21 23:59:59.826999808</td>\n",
       "    </tr>\n",
       "    <tr>\n",
       "      <th>3</th>\n",
       "      <td>BTC-USD</td>\n",
       "      <td>True</td>\n",
       "      <td>2022-01-28T00:00:00Z</td>\n",
       "      <td>37188.37</td>\n",
       "      <td>37741.59</td>\n",
       "      <td>1</td>\n",
       "      <td>37188.37</td>\n",
       "      <td>0.000080</td>\n",
       "      <td>1</td>\n",
       "      <td>271657003</td>\n",
       "      <td>1643328000218</td>\n",
       "      <td>1</td>\n",
       "      <td>37741.59</td>\n",
       "      <td>0.000960</td>\n",
       "      <td>1</td>\n",
       "      <td>272374175</td>\n",
       "      <td>1643414399859</td>\n",
       "      <td>2022-01-28 00:00:00.217999872</td>\n",
       "      <td>2022-01-28 23:59:59.859000064</td>\n",
       "    </tr>\n",
       "    <tr>\n",
       "      <th>4</th>\n",
       "      <td>BTC-USD</td>\n",
       "      <td>True</td>\n",
       "      <td>2022-02-04T00:00:00Z</td>\n",
       "      <td>37367.00</td>\n",
       "      <td>41614.66</td>\n",
       "      <td>2</td>\n",
       "      <td>37367.00</td>\n",
       "      <td>0.005000</td>\n",
       "      <td>2</td>\n",
       "      <td>991190639</td>\n",
       "      <td>1643932800019</td>\n",
       "      <td>1</td>\n",
       "      <td>41614.66</td>\n",
       "      <td>0.006329</td>\n",
       "      <td>2</td>\n",
       "      <td>276280906</td>\n",
       "      <td>1644019199952</td>\n",
       "      <td>2022-02-04 00:00:00.019000064</td>\n",
       "      <td>2022-02-04 23:59:59.952000000</td>\n",
       "    </tr>\n",
       "  </tbody>\n",
       "</table>\n",
       "</div>"
      ],
      "text/plain": [
       "    symbol  isUTC                   day      open     close  ExchangeOpen  \\\n",
       "0  BTC-USD   True  2022-01-07T00:00:00Z  43081.79  41564.61             1   \n",
       "1  BTC-USD   True  2022-01-14T00:00:00Z  42576.27  43086.89             1   \n",
       "2  BTC-USD   True  2022-01-21T00:00:00Z  40671.77  36456.96             1   \n",
       "3  BTC-USD   True  2022-01-28T00:00:00Z  37188.37  37741.59             1   \n",
       "4  BTC-USD   True  2022-02-04T00:00:00Z  37367.00  41614.66             2   \n",
       "\n",
       "   PriceOpen  VolumeOpen  ConditionCodesOpen     IdOpen  TimestampOpen  \\\n",
       "0   43081.79    0.000675                   2  260333638  1641513600010   \n",
       "1   42576.27    0.001000                   2  263672878  1642118400058   \n",
       "2   40671.77    0.000120                   2  266526967  1642723200089   \n",
       "3   37188.37    0.000080                   1  271657003  1643328000218   \n",
       "4   37367.00    0.005000                   2  991190639  1643932800019   \n",
       "\n",
       "   ExchangeClose  PriceClose  VolumeClose  ConditionCodesClose    IdClose  \\\n",
       "0              1    41564.61     0.000247                    1  260893471   \n",
       "1              1    43086.89     0.000779                    1  264133049   \n",
       "2              1    36456.96     0.001000                    2  267665914   \n",
       "3              1    37741.59     0.000960                    1  272374175   \n",
       "4              1    41614.66     0.006329                    2  276280906   \n",
       "\n",
       "   TimestampClose                      DateOpen                     DateClose  \n",
       "0   1641599999913 2022-01-07 00:00:00.009999872 2022-01-07 23:59:59.913000192  \n",
       "1   1642204799588 2022-01-14 00:00:00.058000128 2022-01-14 23:59:59.588000000  \n",
       "2   1642809599827 2022-01-21 00:00:00.088999936 2022-01-21 23:59:59.826999808  \n",
       "3   1643414399859 2022-01-28 00:00:00.217999872 2022-01-28 23:59:59.859000064  \n",
       "4   1644019199952 2022-02-04 00:00:00.019000064 2022-02-04 23:59:59.952000000  "
      ]
     },
     "execution_count": 98,
     "metadata": {},
     "output_type": "execute_result"
    }
   ],
   "source": [
    "daily_results['DateOpen'] = pd.to_datetime(daily_results['TimestampOpen']/1000, unit='s')\n",
    "daily_results['DateClose'] = pd.to_datetime(daily_results['TimestampClose']/1000, unit='s')\n",
    "daily_results.head()"
   ]
  },
  {
   "cell_type": "code",
   "execution_count": 161,
   "metadata": {},
   "outputs": [
    {
     "data": {
      "text/plain": [
       "symbol                              object\n",
       "isUTC                                 bool\n",
       "day                    datetime64[ns, UTC]\n",
       "open                               float64\n",
       "close                              float64\n",
       "ExchangeOpen                         int64\n",
       "PriceOpen                          float64\n",
       "VolumeOpen                         float64\n",
       "ConditionCodesOpen                   int64\n",
       "IdOpen                              object\n",
       "TimestampOpen                        int64\n",
       "ExchangeClose                        int64\n",
       "PriceClose                         float64\n",
       "VolumeClose                        float64\n",
       "ConditionCodesClose                  int64\n",
       "IdClose                             object\n",
       "TimestampClose                       int64\n",
       "DateOpen                    datetime64[ns]\n",
       "DateClose                   datetime64[ns]\n",
       "dtype: object"
      ]
     },
     "execution_count": 161,
     "metadata": {},
     "output_type": "execute_result"
    }
   ],
   "source": [
    "daily_results['day'] = pd.to_datetime(daily_results['day'])\n",
    "daily_results.dtypes"
   ]
  },
  {
   "cell_type": "code",
   "execution_count": 162,
   "metadata": {},
   "outputs": [
    {
     "data": {
      "text/html": [
       "<div>\n",
       "<style scoped>\n",
       "    .dataframe tbody tr th:only-of-type {\n",
       "        vertical-align: middle;\n",
       "    }\n",
       "\n",
       "    .dataframe tbody tr th {\n",
       "        vertical-align: top;\n",
       "    }\n",
       "\n",
       "    .dataframe thead th {\n",
       "        text-align: right;\n",
       "    }\n",
       "</style>\n",
       "<table border=\"1\" class=\"dataframe\">\n",
       "  <thead>\n",
       "    <tr style=\"text-align: right;\">\n",
       "      <th></th>\n",
       "      <th>open</th>\n",
       "      <th>close</th>\n",
       "      <th>ExchangeOpen</th>\n",
       "      <th>PriceOpen</th>\n",
       "      <th>VolumeOpen</th>\n",
       "      <th>ConditionCodesOpen</th>\n",
       "      <th>TimestampOpen</th>\n",
       "      <th>ExchangeClose</th>\n",
       "      <th>PriceClose</th>\n",
       "      <th>VolumeClose</th>\n",
       "      <th>ConditionCodesClose</th>\n",
       "      <th>TimestampClose</th>\n",
       "    </tr>\n",
       "  </thead>\n",
       "  <tbody>\n",
       "    <tr>\n",
       "      <th>count</th>\n",
       "      <td>21.000000</td>\n",
       "      <td>21.000000</td>\n",
       "      <td>21.00000</td>\n",
       "      <td>21.000000</td>\n",
       "      <td>21.000000</td>\n",
       "      <td>21.000000</td>\n",
       "      <td>2.100000e+01</td>\n",
       "      <td>21.000000</td>\n",
       "      <td>21.000000</td>\n",
       "      <td>21.000000</td>\n",
       "      <td>21.000000</td>\n",
       "      <td>2.100000e+01</td>\n",
       "    </tr>\n",
       "    <tr>\n",
       "      <th>mean</th>\n",
       "      <td>39252.024525</td>\n",
       "      <td>38882.240485</td>\n",
       "      <td>2.52381</td>\n",
       "      <td>39252.024525</td>\n",
       "      <td>0.035497</td>\n",
       "      <td>1.476190</td>\n",
       "      <td>1.647562e+12</td>\n",
       "      <td>1.047619</td>\n",
       "      <td>38882.240485</td>\n",
       "      <td>0.002375</td>\n",
       "      <td>1.523810</td>\n",
       "      <td>1.647648e+12</td>\n",
       "    </tr>\n",
       "    <tr>\n",
       "      <th>std</th>\n",
       "      <td>4729.788359</td>\n",
       "      <td>4807.107933</td>\n",
       "      <td>4.82306</td>\n",
       "      <td>4729.788359</td>\n",
       "      <td>0.135182</td>\n",
       "      <td>0.601585</td>\n",
       "      <td>3.752685e+09</td>\n",
       "      <td>0.218218</td>\n",
       "      <td>4807.107933</td>\n",
       "      <td>0.003583</td>\n",
       "      <td>0.511766</td>\n",
       "      <td>3.752685e+09</td>\n",
       "    </tr>\n",
       "    <tr>\n",
       "      <th>min</th>\n",
       "      <td>28941.950000</td>\n",
       "      <td>28598.310000</td>\n",
       "      <td>1.00000</td>\n",
       "      <td>28941.950000</td>\n",
       "      <td>0.000080</td>\n",
       "      <td>0.000000</td>\n",
       "      <td>1.641514e+12</td>\n",
       "      <td>1.000000</td>\n",
       "      <td>28598.310000</td>\n",
       "      <td>0.000009</td>\n",
       "      <td>1.000000</td>\n",
       "      <td>1.641600e+12</td>\n",
       "    </tr>\n",
       "    <tr>\n",
       "      <th>25%</th>\n",
       "      <td>37367.000000</td>\n",
       "      <td>37741.590000</td>\n",
       "      <td>1.00000</td>\n",
       "      <td>37367.000000</td>\n",
       "      <td>0.000294</td>\n",
       "      <td>1.000000</td>\n",
       "      <td>1.644538e+12</td>\n",
       "      <td>1.000000</td>\n",
       "      <td>37741.590000</td>\n",
       "      <td>0.000436</td>\n",
       "      <td>1.000000</td>\n",
       "      <td>1.644624e+12</td>\n",
       "    </tr>\n",
       "    <tr>\n",
       "      <th>50%</th>\n",
       "      <td>40483.380000</td>\n",
       "      <td>39712.250000</td>\n",
       "      <td>1.00000</td>\n",
       "      <td>40483.380000</td>\n",
       "      <td>0.000710</td>\n",
       "      <td>2.000000</td>\n",
       "      <td>1.647562e+12</td>\n",
       "      <td>1.000000</td>\n",
       "      <td>39712.250000</td>\n",
       "      <td>0.001000</td>\n",
       "      <td>2.000000</td>\n",
       "      <td>1.647648e+12</td>\n",
       "    </tr>\n",
       "    <tr>\n",
       "      <th>75%</th>\n",
       "      <td>42576.270000</td>\n",
       "      <td>41774.980000</td>\n",
       "      <td>2.00000</td>\n",
       "      <td>42576.270000</td>\n",
       "      <td>0.004700</td>\n",
       "      <td>2.000000</td>\n",
       "      <td>1.650586e+12</td>\n",
       "      <td>1.000000</td>\n",
       "      <td>41774.980000</td>\n",
       "      <td>0.002710</td>\n",
       "      <td>2.000000</td>\n",
       "      <td>1.650672e+12</td>\n",
       "    </tr>\n",
       "    <tr>\n",
       "      <th>max</th>\n",
       "      <td>45525.250000</td>\n",
       "      <td>46296.340000</td>\n",
       "      <td>23.00000</td>\n",
       "      <td>45525.250000</td>\n",
       "      <td>0.621366</td>\n",
       "      <td>2.000000</td>\n",
       "      <td>1.653610e+12</td>\n",
       "      <td>2.000000</td>\n",
       "      <td>46296.340000</td>\n",
       "      <td>0.014692</td>\n",
       "      <td>2.000000</td>\n",
       "      <td>1.653696e+12</td>\n",
       "    </tr>\n",
       "  </tbody>\n",
       "</table>\n",
       "</div>"
      ],
      "text/plain": [
       "               open         close  ExchangeOpen     PriceOpen  VolumeOpen  \\\n",
       "count     21.000000     21.000000      21.00000     21.000000   21.000000   \n",
       "mean   39252.024525  38882.240485       2.52381  39252.024525    0.035497   \n",
       "std     4729.788359   4807.107933       4.82306   4729.788359    0.135182   \n",
       "min    28941.950000  28598.310000       1.00000  28941.950000    0.000080   \n",
       "25%    37367.000000  37741.590000       1.00000  37367.000000    0.000294   \n",
       "50%    40483.380000  39712.250000       1.00000  40483.380000    0.000710   \n",
       "75%    42576.270000  41774.980000       2.00000  42576.270000    0.004700   \n",
       "max    45525.250000  46296.340000      23.00000  45525.250000    0.621366   \n",
       "\n",
       "       ConditionCodesOpen  TimestampOpen  ExchangeClose    PriceClose  \\\n",
       "count           21.000000   2.100000e+01      21.000000     21.000000   \n",
       "mean             1.476190   1.647562e+12       1.047619  38882.240485   \n",
       "std              0.601585   3.752685e+09       0.218218   4807.107933   \n",
       "min              0.000000   1.641514e+12       1.000000  28598.310000   \n",
       "25%              1.000000   1.644538e+12       1.000000  37741.590000   \n",
       "50%              2.000000   1.647562e+12       1.000000  39712.250000   \n",
       "75%              2.000000   1.650586e+12       1.000000  41774.980000   \n",
       "max              2.000000   1.653610e+12       2.000000  46296.340000   \n",
       "\n",
       "       VolumeClose  ConditionCodesClose  TimestampClose  \n",
       "count    21.000000            21.000000    2.100000e+01  \n",
       "mean      0.002375             1.523810    1.647648e+12  \n",
       "std       0.003583             0.511766    3.752685e+09  \n",
       "min       0.000009             1.000000    1.641600e+12  \n",
       "25%       0.000436             1.000000    1.644624e+12  \n",
       "50%       0.001000             2.000000    1.647648e+12  \n",
       "75%       0.002710             2.000000    1.650672e+12  \n",
       "max       0.014692             2.000000    1.653696e+12  "
      ]
     },
     "execution_count": 162,
     "metadata": {},
     "output_type": "execute_result"
    }
   ],
   "source": [
    "daily_results.describe()"
   ]
  },
  {
   "cell_type": "code",
   "execution_count": 163,
   "metadata": {},
   "outputs": [
    {
     "data": {
      "text/plain": [
       "symbol                 21\n",
       "isUTC                  21\n",
       "day                    21\n",
       "open                   21\n",
       "close                  21\n",
       "ExchangeOpen           21\n",
       "PriceOpen              21\n",
       "VolumeOpen             21\n",
       "ConditionCodesOpen     21\n",
       "IdOpen                 20\n",
       "TimestampOpen          21\n",
       "ExchangeClose          21\n",
       "PriceClose             21\n",
       "VolumeClose            21\n",
       "ConditionCodesClose    21\n",
       "IdClose                21\n",
       "TimestampClose         21\n",
       "dtype: int64"
      ]
     },
     "execution_count": 163,
     "metadata": {},
     "output_type": "execute_result"
    }
   ],
   "source": [
    "countAnalisis_daily_results = daily_results[[\"symbol\", \"isUTC\", \"day\", \"open\", \"close\", \"ExchangeOpen\",\t\"PriceOpen\", \"VolumeOpen\", \"ConditionCodesOpen\", \"IdOpen\", \"TimestampOpen\", \"ExchangeClose\", \"PriceClose\", \"VolumeClose\", \"ConditionCodesClose\", \"IdClose\", \"TimestampClose\"]].count()\n",
    "countAnalisis_daily_results "
   ]
  },
  {
   "cell_type": "code",
   "execution_count": 164,
   "metadata": {},
   "outputs": [
    {
     "name": "stderr",
     "output_type": "stream",
     "text": [
      "C:\\Users\\julia\\AppData\\Local\\Temp\\ipykernel_13564\\1323079814.py:1: FutureWarning: DataFrame.mean and DataFrame.median with numeric_only=None will include datetime64 and datetime64tz columns in a future version.\n",
      "  meanAnalisis_daily_results  = daily_results[[\"symbol\", \"isUTC\", \"day\", \"open\", \"close\", \"ExchangeOpen\",\t\"PriceOpen\", \"VolumeOpen\", \"ConditionCodesOpen\", \"IdOpen\", \"TimestampOpen\", \"ExchangeClose\", \"PriceClose\", \"VolumeClose\", \"ConditionCodesClose\", \"IdClose\", \"TimestampClose\"]].mean()\n",
      "C:\\Users\\julia\\AppData\\Local\\Temp\\ipykernel_13564\\1323079814.py:1: FutureWarning: Dropping of nuisance columns in DataFrame reductions (with 'numeric_only=None') is deprecated; in a future version this will raise TypeError.  Select only valid columns before calling the reduction.\n",
      "  meanAnalisis_daily_results  = daily_results[[\"symbol\", \"isUTC\", \"day\", \"open\", \"close\", \"ExchangeOpen\",\t\"PriceOpen\", \"VolumeOpen\", \"ConditionCodesOpen\", \"IdOpen\", \"TimestampOpen\", \"ExchangeClose\", \"PriceClose\", \"VolumeClose\", \"ConditionCodesClose\", \"IdClose\", \"TimestampClose\"]].mean()\n"
     ]
    },
    {
     "data": {
      "text/plain": [
       "isUTC                   1.000000e+00\n",
       "open                    3.925202e+04\n",
       "close                   3.888224e+04\n",
       "ExchangeOpen            2.523810e+00\n",
       "PriceOpen               3.925202e+04\n",
       "VolumeOpen              3.549680e-02\n",
       "ConditionCodesOpen      1.476190e+00\n",
       "TimestampOpen           1.647562e+12\n",
       "ExchangeClose           1.047619e+00\n",
       "PriceClose              3.888224e+04\n",
       "VolumeClose             2.374596e-03\n",
       "ConditionCodesClose     1.523810e+00\n",
       "IdClose                1.242350e+188\n",
       "TimestampClose          1.647648e+12\n",
       "dtype: float64"
      ]
     },
     "execution_count": 164,
     "metadata": {},
     "output_type": "execute_result"
    }
   ],
   "source": [
    "meanAnalisis_daily_results  = daily_results[[\"symbol\", \"isUTC\", \"day\", \"open\", \"close\", \"ExchangeOpen\",\t\"PriceOpen\", \"VolumeOpen\", \"ConditionCodesOpen\", \"IdOpen\", \"TimestampOpen\", \"ExchangeClose\", \"PriceClose\", \"VolumeClose\", \"ConditionCodesClose\", \"IdClose\", \"TimestampClose\"]].mean()\n",
    "meanAnalisis_daily_results "
   ]
  },
  {
   "cell_type": "code",
   "execution_count": 166,
   "metadata": {},
   "outputs": [
    {
     "name": "stderr",
     "output_type": "stream",
     "text": [
      "C:\\Users\\julia\\AppData\\Local\\Temp\\ipykernel_13564\\2371734419.py:1: FutureWarning: Dropping of nuisance columns in DataFrame reductions (with 'numeric_only=None') is deprecated; in a future version this will raise TypeError.  Select only valid columns before calling the reduction.\n",
      "  minAnalisis_daily_results  = daily_results[[\"symbol\", \"isUTC\", \"day\", \"open\", \"close\", \"ExchangeOpen\",\t\"PriceOpen\", \"VolumeOpen\", \"ConditionCodesOpen\", \"IdOpen\", \"TimestampOpen\", \"ExchangeClose\", \"PriceClose\", \"VolumeClose\", \"ConditionCodesClose\", \"IdClose\", \"TimestampClose\"]].min()\n"
     ]
    },
    {
     "data": {
      "text/plain": [
       "symbol                                   BTC-USD\n",
       "isUTC                                       True\n",
       "day                    2022-01-07 00:00:00+00:00\n",
       "open                                    28941.95\n",
       "close                                   28598.31\n",
       "ExchangeOpen                                   1\n",
       "PriceOpen                               28941.95\n",
       "VolumeOpen                               0.00008\n",
       "ConditionCodesOpen                             0\n",
       "TimestampOpen                      1641513600010\n",
       "ExchangeClose                                  1\n",
       "PriceClose                              28598.31\n",
       "VolumeClose                             0.000009\n",
       "ConditionCodesClose                            1\n",
       "IdClose                               1109149659\n",
       "TimestampClose                     1641599999913\n",
       "dtype: object"
      ]
     },
     "execution_count": 166,
     "metadata": {},
     "output_type": "execute_result"
    }
   ],
   "source": [
    "minAnalisis_daily_results  = daily_results[[\"symbol\", \"isUTC\", \"day\", \"open\", \"close\", \"ExchangeOpen\",\t\"PriceOpen\", \"VolumeOpen\", \"ConditionCodesOpen\", \"IdOpen\", \"TimestampOpen\", \"ExchangeClose\", \"PriceClose\", \"VolumeClose\", \"ConditionCodesClose\", \"IdClose\", \"TimestampClose\"]].min()\n",
    "minAnalisis_daily_results  "
   ]
  },
  {
   "cell_type": "code",
   "execution_count": 167,
   "metadata": {},
   "outputs": [
    {
     "name": "stderr",
     "output_type": "stream",
     "text": [
      "C:\\Users\\julia\\AppData\\Local\\Temp\\ipykernel_13564\\1164570207.py:1: FutureWarning: Dropping of nuisance columns in DataFrame reductions (with 'numeric_only=None') is deprecated; in a future version this will raise TypeError.  Select only valid columns before calling the reduction.\n",
      "  maxAnalisis_daily_results  = daily_results[[\"symbol\", \"isUTC\", \"day\", \"open\", \"close\", \"ExchangeOpen\",\t\"PriceOpen\", \"VolumeOpen\", \"ConditionCodesOpen\", \"IdOpen\", \"TimestampOpen\", \"ExchangeClose\", \"PriceClose\", \"VolumeClose\", \"ConditionCodesClose\", \"IdClose\", \"TimestampClose\"]].max()\n"
     ]
    },
    {
     "data": {
      "text/plain": [
       "symbol                                   BTC-USD\n",
       "isUTC                                       True\n",
       "day                    2022-05-27 00:00:00+00:00\n",
       "open                                    45525.25\n",
       "close                                   46296.34\n",
       "ExchangeOpen                                  23\n",
       "PriceOpen                               45525.25\n",
       "VolumeOpen                              0.621366\n",
       "ConditionCodesOpen                             2\n",
       "TimestampOpen                      1653609600059\n",
       "ExchangeClose                                  2\n",
       "PriceClose                              46296.34\n",
       "VolumeClose                             0.014692\n",
       "ConditionCodesClose                            2\n",
       "IdClose                                345110241\n",
       "TimestampClose                     1653695999947\n",
       "dtype: object"
      ]
     },
     "execution_count": 167,
     "metadata": {},
     "output_type": "execute_result"
    }
   ],
   "source": [
    "maxAnalisis_daily_results  = daily_results[[\"symbol\", \"isUTC\", \"day\", \"open\", \"close\", \"ExchangeOpen\",\t\"PriceOpen\", \"VolumeOpen\", \"ConditionCodesOpen\", \"IdOpen\", \"TimestampOpen\", \"ExchangeClose\", \"PriceClose\", \"VolumeClose\", \"ConditionCodesClose\", \"IdClose\", \"TimestampClose\"]].max()\n",
    "maxAnalisis_daily_results "
   ]
  },
  {
   "cell_type": "code",
   "execution_count": 169,
   "metadata": {},
   "outputs": [],
   "source": [
    "#q25Analisis_daily_results  = daily_results[[\"symbol\", \"isUTC\", \"day\", \"open\", \"close\", \"ExchangeOpen\",\t\"PriceOpen\", \"VolumeOpen\", \"ConditionCodesOpen\", \"IdOpen\", \"TimestampOpen\", \"ExchangeClose\", \"PriceClose\", \"VolumeClose\", \"ConditionCodesClose\", \"IdClose\", \"TimestampClose\"]].quantile(0.25)\n",
    "#q25Analisis_daily_results "
   ]
  },
  {
   "cell_type": "code",
   "execution_count": 170,
   "metadata": {},
   "outputs": [],
   "source": [
    "#q50Analisis_daily_results  = daily_results[[\"symbol\", \"isUTC\", \"day\", \"open\", \"close\", \"ExchangeOpen\",\t\"PriceOpen\", \"VolumeOpen\", \"ConditionCodesOpen\", \"IdOpen\", \"TimestampOpen\", \"ExchangeClose\", \"PriceClose\", \"VolumeClose\", \"ConditionCodesClose\", \"IdClose\", \"TimestampClose\"]].quantile(0.5)\n",
    "#q50Analisis_daily_results "
   ]
  },
  {
   "cell_type": "code",
   "execution_count": 171,
   "metadata": {},
   "outputs": [],
   "source": [
    "#q75Analisis_daily_results  = daily_results[[\"symbol\", \"isUTC\", \"day\", \"open\", \"close\", \"ExchangeOpen\",\t\"PriceOpen\", \"VolumeOpen\", \"ConditionCodesOpen\", \"IdOpen\", \"TimestampOpen\", \"ExchangeClose\", \"PriceClose\", \"VolumeClose\", \"ConditionCodesClose\", \"IdClose\", \"TimestampClose\"]].quantile(0.75)\n",
    "#q75Analisis_daily_results "
   ]
  },
  {
   "cell_type": "code",
   "execution_count": 172,
   "metadata": {},
   "outputs": [],
   "source": [
    "#q95nalisis_daily_results  = daily_results[[\"symbol\", \"isUTC\", \"day\", \"open\", \"close\", \"ExchangeOpen\",\t\"PriceOpen\", \"VolumeOpen\", \"ConditionCodesOpen\", \"IdOpen\", \"TimestampOpen\", \"ExchangeClose\", \"PriceClose\", \"VolumeClose\", \"ConditionCodesClose\", \"IdClose\", \"TimestampClose\"]].quantile(0.95)\n",
    "#q95nalisis_daily_results"
   ]
  },
  {
   "cell_type": "code",
   "execution_count": 75,
   "metadata": {},
   "outputs": [
    {
     "data": {
      "text/html": [
       "<div>\n",
       "<style scoped>\n",
       "    .dataframe tbody tr th:only-of-type {\n",
       "        vertical-align: middle;\n",
       "    }\n",
       "\n",
       "    .dataframe tbody tr th {\n",
       "        vertical-align: top;\n",
       "    }\n",
       "\n",
       "    .dataframe thead th {\n",
       "        text-align: right;\n",
       "    }\n",
       "</style>\n",
       "<table border=\"1\" class=\"dataframe\">\n",
       "  <thead>\n",
       "    <tr style=\"text-align: right;\">\n",
       "      <th></th>\n",
       "      <th>ExchangeSymbol</th>\n",
       "      <th>TradingVolume</th>\n",
       "      <th>AvgPriceVolume</th>\n",
       "      <th>OpenPrice</th>\n",
       "      <th>ClosePrice</th>\n",
       "      <th>HighestPrice</th>\n",
       "      <th>LowestPrice</th>\n",
       "      <th>TimeStamp</th>\n",
       "      <th>#TransactionAggregateWindow</th>\n",
       "      <th>Date</th>\n",
       "    </tr>\n",
       "  </thead>\n",
       "  <tbody>\n",
       "    <tr>\n",
       "      <th>0</th>\n",
       "      <td>X:BTCUSD</td>\n",
       "      <td>36869.61995</td>\n",
       "      <td>30692.1045</td>\n",
       "      <td>31784.18</td>\n",
       "      <td>29833</td>\n",
       "      <td>31974.161427</td>\n",
       "      <td>29308.01</td>\n",
       "      <td>1654127999999</td>\n",
       "      <td>763425</td>\n",
       "      <td>2022-06-01 23:59:59.999000064</td>\n",
       "    </tr>\n",
       "  </tbody>\n",
       "</table>\n",
       "</div>"
      ],
      "text/plain": [
       "  ExchangeSymbol  TradingVolume  AvgPriceVolume  OpenPrice  ClosePrice  \\\n",
       "0       X:BTCUSD    36869.61995      30692.1045   31784.18       29833   \n",
       "\n",
       "   HighestPrice  LowestPrice      TimeStamp  #TransactionAggregateWindow  \\\n",
       "0  31974.161427     29308.01  1654127999999                       763425   \n",
       "\n",
       "                           Date  \n",
       "0 2022-06-01 23:59:59.999000064  "
      ]
     },
     "execution_count": 75,
     "metadata": {},
     "output_type": "execute_result"
    }
   ],
   "source": [
    "status, polygon_data = polygon.previous_close()\n",
    "if status:\n",
    "    #print(polygon_data)\n",
    "    polygon_previous_close = pd.DataFrame.from_dict(polygon_data['results'])\n",
    "n_columns_news4 = {'T':'ExchangeSymbol', 'v':'TradingVolume', 'vw':'AvgPriceVolume', 'o':'OpenPrice', 'c':'ClosePrice', 'h':'HighestPrice', 'l':'LowestPrice', 't':'TimeStamp', 'n':'#TransactionAggregateWindow'}\n",
    "polygon_previous_close.rename(columns = n_columns_news4, inplace = True)\n",
    "polygon_previous_close['Date'] = pd.to_datetime(polygon_previous_close['TimeStamp']/1000, unit='s')\n",
    "#polygon_previous_close['Date'] = datetime.fromtimestamp(polygon_previous_close['TimeStamp'])\n",
    "polygon_previous_close"
   ]
  },
  {
   "cell_type": "code",
   "execution_count": 89,
   "metadata": {},
   "outputs": [
    {
     "data": {
      "text/plain": [
       "ExchangeSymbol                         object\n",
       "TradingVolume                         float64\n",
       "AvgPriceVolume                        float64\n",
       "OpenPrice                             float64\n",
       "ClosePrice                              int64\n",
       "HighestPrice                          float64\n",
       "LowestPrice                           float64\n",
       "TimeStamp                               int64\n",
       "#TransactionAggregateWindow             int64\n",
       "Date                           datetime64[ns]\n",
       "dtype: object"
      ]
     },
     "execution_count": 89,
     "metadata": {},
     "output_type": "execute_result"
    }
   ],
   "source": [
    "polygon_previous_close.dtypes"
   ]
  },
  {
   "cell_type": "code",
   "execution_count": 88,
   "metadata": {},
   "outputs": [
    {
     "data": {
      "text/html": [
       "<div>\n",
       "<style scoped>\n",
       "    .dataframe tbody tr th:only-of-type {\n",
       "        vertical-align: middle;\n",
       "    }\n",
       "\n",
       "    .dataframe tbody tr th {\n",
       "        vertical-align: top;\n",
       "    }\n",
       "\n",
       "    .dataframe thead th {\n",
       "        text-align: right;\n",
       "    }\n",
       "</style>\n",
       "<table border=\"1\" class=\"dataframe\">\n",
       "  <thead>\n",
       "    <tr style=\"text-align: right;\">\n",
       "      <th></th>\n",
       "      <th>TradingVolume</th>\n",
       "      <th>AvgPriceVolume</th>\n",
       "      <th>OpenPrice</th>\n",
       "      <th>ClosePrice</th>\n",
       "      <th>HighestPrice</th>\n",
       "      <th>LowestPrice</th>\n",
       "      <th>TimeStamp</th>\n",
       "      <th>#TransactionAggregateWindow</th>\n",
       "    </tr>\n",
       "  </thead>\n",
       "  <tbody>\n",
       "    <tr>\n",
       "      <th>count</th>\n",
       "      <td>1.00000</td>\n",
       "      <td>1.0000</td>\n",
       "      <td>1.00</td>\n",
       "      <td>1.0</td>\n",
       "      <td>1.000000</td>\n",
       "      <td>1.00</td>\n",
       "      <td>1.000000e+00</td>\n",
       "      <td>1.0</td>\n",
       "    </tr>\n",
       "    <tr>\n",
       "      <th>mean</th>\n",
       "      <td>36869.61995</td>\n",
       "      <td>30692.1045</td>\n",
       "      <td>31784.18</td>\n",
       "      <td>29833.0</td>\n",
       "      <td>31974.161427</td>\n",
       "      <td>29308.01</td>\n",
       "      <td>1.654128e+12</td>\n",
       "      <td>763425.0</td>\n",
       "    </tr>\n",
       "    <tr>\n",
       "      <th>std</th>\n",
       "      <td>NaN</td>\n",
       "      <td>NaN</td>\n",
       "      <td>NaN</td>\n",
       "      <td>NaN</td>\n",
       "      <td>NaN</td>\n",
       "      <td>NaN</td>\n",
       "      <td>NaN</td>\n",
       "      <td>NaN</td>\n",
       "    </tr>\n",
       "    <tr>\n",
       "      <th>min</th>\n",
       "      <td>36869.61995</td>\n",
       "      <td>30692.1045</td>\n",
       "      <td>31784.18</td>\n",
       "      <td>29833.0</td>\n",
       "      <td>31974.161427</td>\n",
       "      <td>29308.01</td>\n",
       "      <td>1.654128e+12</td>\n",
       "      <td>763425.0</td>\n",
       "    </tr>\n",
       "    <tr>\n",
       "      <th>25%</th>\n",
       "      <td>36869.61995</td>\n",
       "      <td>30692.1045</td>\n",
       "      <td>31784.18</td>\n",
       "      <td>29833.0</td>\n",
       "      <td>31974.161427</td>\n",
       "      <td>29308.01</td>\n",
       "      <td>1.654128e+12</td>\n",
       "      <td>763425.0</td>\n",
       "    </tr>\n",
       "    <tr>\n",
       "      <th>50%</th>\n",
       "      <td>36869.61995</td>\n",
       "      <td>30692.1045</td>\n",
       "      <td>31784.18</td>\n",
       "      <td>29833.0</td>\n",
       "      <td>31974.161427</td>\n",
       "      <td>29308.01</td>\n",
       "      <td>1.654128e+12</td>\n",
       "      <td>763425.0</td>\n",
       "    </tr>\n",
       "    <tr>\n",
       "      <th>75%</th>\n",
       "      <td>36869.61995</td>\n",
       "      <td>30692.1045</td>\n",
       "      <td>31784.18</td>\n",
       "      <td>29833.0</td>\n",
       "      <td>31974.161427</td>\n",
       "      <td>29308.01</td>\n",
       "      <td>1.654128e+12</td>\n",
       "      <td>763425.0</td>\n",
       "    </tr>\n",
       "    <tr>\n",
       "      <th>max</th>\n",
       "      <td>36869.61995</td>\n",
       "      <td>30692.1045</td>\n",
       "      <td>31784.18</td>\n",
       "      <td>29833.0</td>\n",
       "      <td>31974.161427</td>\n",
       "      <td>29308.01</td>\n",
       "      <td>1.654128e+12</td>\n",
       "      <td>763425.0</td>\n",
       "    </tr>\n",
       "  </tbody>\n",
       "</table>\n",
       "</div>"
      ],
      "text/plain": [
       "       TradingVolume  AvgPriceVolume  OpenPrice  ClosePrice  HighestPrice  \\\n",
       "count        1.00000          1.0000       1.00         1.0      1.000000   \n",
       "mean     36869.61995      30692.1045   31784.18     29833.0  31974.161427   \n",
       "std              NaN             NaN        NaN         NaN           NaN   \n",
       "min      36869.61995      30692.1045   31784.18     29833.0  31974.161427   \n",
       "25%      36869.61995      30692.1045   31784.18     29833.0  31974.161427   \n",
       "50%      36869.61995      30692.1045   31784.18     29833.0  31974.161427   \n",
       "75%      36869.61995      30692.1045   31784.18     29833.0  31974.161427   \n",
       "max      36869.61995      30692.1045   31784.18     29833.0  31974.161427   \n",
       "\n",
       "       LowestPrice     TimeStamp  #TransactionAggregateWindow  \n",
       "count         1.00  1.000000e+00                          1.0  \n",
       "mean      29308.01  1.654128e+12                     763425.0  \n",
       "std            NaN           NaN                          NaN  \n",
       "min       29308.01  1.654128e+12                     763425.0  \n",
       "25%       29308.01  1.654128e+12                     763425.0  \n",
       "50%       29308.01  1.654128e+12                     763425.0  \n",
       "75%       29308.01  1.654128e+12                     763425.0  \n",
       "max       29308.01  1.654128e+12                     763425.0  "
      ]
     },
     "execution_count": 88,
     "metadata": {},
     "output_type": "execute_result"
    }
   ],
   "source": [
    "polygon_previous_close.describe()"
   ]
  },
  {
   "cell_type": "markdown",
   "metadata": {},
   "source": [
    "# AlphaAvantage"
   ]
  },
  {
   "cell_type": "code",
   "execution_count": 129,
   "metadata": {},
   "outputs": [
    {
     "data": {
      "text/html": [
       "<div>\n",
       "<style scoped>\n",
       "    .dataframe tbody tr th:only-of-type {\n",
       "        vertical-align: middle;\n",
       "    }\n",
       "\n",
       "    .dataframe tbody tr th {\n",
       "        vertical-align: top;\n",
       "    }\n",
       "\n",
       "    .dataframe thead th {\n",
       "        text-align: right;\n",
       "    }\n",
       "</style>\n",
       "<table border=\"1\" class=\"dataframe\">\n",
       "  <thead>\n",
       "    <tr style=\"text-align: right;\">\n",
       "      <th></th>\n",
       "      <th>DateTime</th>\n",
       "      <th>Open</th>\n",
       "      <th>High</th>\n",
       "      <th>Low</th>\n",
       "      <th>Close</th>\n",
       "      <th>Volume</th>\n",
       "    </tr>\n",
       "  </thead>\n",
       "  <tbody>\n",
       "    <tr>\n",
       "      <th>0</th>\n",
       "      <td>2022-06-03 00:45:00</td>\n",
       "      <td>1824.80000</td>\n",
       "      <td>1825.93000</td>\n",
       "      <td>1822.30000</td>\n",
       "      <td>1825.19000</td>\n",
       "      <td>1257</td>\n",
       "    </tr>\n",
       "    <tr>\n",
       "      <th>1</th>\n",
       "      <td>2022-06-03 00:40:00</td>\n",
       "      <td>1827.47000</td>\n",
       "      <td>1828.32000</td>\n",
       "      <td>1824.64000</td>\n",
       "      <td>1824.81000</td>\n",
       "      <td>1392</td>\n",
       "    </tr>\n",
       "    <tr>\n",
       "      <th>2</th>\n",
       "      <td>2022-06-03 00:35:00</td>\n",
       "      <td>1832.64000</td>\n",
       "      <td>1833.46000</td>\n",
       "      <td>1826.33000</td>\n",
       "      <td>1827.47000</td>\n",
       "      <td>1683</td>\n",
       "    </tr>\n",
       "    <tr>\n",
       "      <th>3</th>\n",
       "      <td>2022-06-03 00:30:00</td>\n",
       "      <td>1833.52000</td>\n",
       "      <td>1835.79000</td>\n",
       "      <td>1832.54000</td>\n",
       "      <td>1832.63000</td>\n",
       "      <td>1407</td>\n",
       "    </tr>\n",
       "    <tr>\n",
       "      <th>4</th>\n",
       "      <td>2022-06-03 00:25:00</td>\n",
       "      <td>1832.71000</td>\n",
       "      <td>1833.75000</td>\n",
       "      <td>1829.38000</td>\n",
       "      <td>1833.52000</td>\n",
       "      <td>1715</td>\n",
       "    </tr>\n",
       "    <tr>\n",
       "      <th>...</th>\n",
       "      <td>...</td>\n",
       "      <td>...</td>\n",
       "      <td>...</td>\n",
       "      <td>...</td>\n",
       "      <td>...</td>\n",
       "      <td>...</td>\n",
       "    </tr>\n",
       "    <tr>\n",
       "      <th>95</th>\n",
       "      <td>2022-06-02 16:50:00</td>\n",
       "      <td>1820.81000</td>\n",
       "      <td>1831.66000</td>\n",
       "      <td>1819.76000</td>\n",
       "      <td>1830.40000</td>\n",
       "      <td>3314</td>\n",
       "    </tr>\n",
       "    <tr>\n",
       "      <th>96</th>\n",
       "      <td>2022-06-02 16:45:00</td>\n",
       "      <td>1826.50000</td>\n",
       "      <td>1828.50000</td>\n",
       "      <td>1819.73000</td>\n",
       "      <td>1820.82000</td>\n",
       "      <td>3409</td>\n",
       "    </tr>\n",
       "    <tr>\n",
       "      <th>97</th>\n",
       "      <td>2022-06-02 16:40:00</td>\n",
       "      <td>1821.42000</td>\n",
       "      <td>1833.78000</td>\n",
       "      <td>1820.35000</td>\n",
       "      <td>1826.50000</td>\n",
       "      <td>4719</td>\n",
       "    </tr>\n",
       "    <tr>\n",
       "      <th>98</th>\n",
       "      <td>2022-06-02 16:35:00</td>\n",
       "      <td>1819.97000</td>\n",
       "      <td>1821.53000</td>\n",
       "      <td>1815.22000</td>\n",
       "      <td>1821.42000</td>\n",
       "      <td>3215</td>\n",
       "    </tr>\n",
       "    <tr>\n",
       "      <th>99</th>\n",
       "      <td>2022-06-02 16:30:00</td>\n",
       "      <td>1818.10000</td>\n",
       "      <td>1821.54000</td>\n",
       "      <td>1815.31000</td>\n",
       "      <td>1819.96000</td>\n",
       "      <td>3025</td>\n",
       "    </tr>\n",
       "  </tbody>\n",
       "</table>\n",
       "<p>100 rows × 6 columns</p>\n",
       "</div>"
      ],
      "text/plain": [
       "               DateTime        Open        High         Low       Close Volume\n",
       "0   2022-06-03 00:45:00  1824.80000  1825.93000  1822.30000  1825.19000   1257\n",
       "1   2022-06-03 00:40:00  1827.47000  1828.32000  1824.64000  1824.81000   1392\n",
       "2   2022-06-03 00:35:00  1832.64000  1833.46000  1826.33000  1827.47000   1683\n",
       "3   2022-06-03 00:30:00  1833.52000  1835.79000  1832.54000  1832.63000   1407\n",
       "4   2022-06-03 00:25:00  1832.71000  1833.75000  1829.38000  1833.52000   1715\n",
       "..                  ...         ...         ...         ...         ...    ...\n",
       "95  2022-06-02 16:50:00  1820.81000  1831.66000  1819.76000  1830.40000   3314\n",
       "96  2022-06-02 16:45:00  1826.50000  1828.50000  1819.73000  1820.82000   3409\n",
       "97  2022-06-02 16:40:00  1821.42000  1833.78000  1820.35000  1826.50000   4719\n",
       "98  2022-06-02 16:35:00  1819.97000  1821.53000  1815.22000  1821.42000   3215\n",
       "99  2022-06-02 16:30:00  1818.10000  1821.54000  1815.31000  1819.96000   3025\n",
       "\n",
       "[100 rows x 6 columns]"
      ]
     },
     "execution_count": 129,
     "metadata": {},
     "output_type": "execute_result"
    }
   ],
   "source": [
    "alphavantage=Alphavantage(environ.get(\"ALPHA_KEY\"))\n",
    "#print('polygon')\n",
    "status, alphavantage_data = alphavantage.intraday('ETH')\n",
    "if status:\n",
    "    #print(alphavantage_data)\n",
    "    alphavantage_intradayETH = pd.DataFrame.from_dict(alphavantage_data['Time Series Crypto (5min)'])\n",
    "alphavantage_intradayETH = alphavantage_intradayETH.T\n",
    "alphavantage_intradayETH = alphavantage_intradayETH.reset_index(level=0)\n",
    "n_columns_rename = {'index':'DateTime','1. open':'Open', '2. high':'High', '3. low':'Low', '4. close':'Close', '5. volume':'Volume'}\n",
    "alphavantage_intradayETH.rename(columns = n_columns_rename, inplace = True)\n",
    "alphavantage_intradayETH"
   ]
  },
  {
   "cell_type": "code",
   "execution_count": 130,
   "metadata": {},
   "outputs": [
    {
     "data": {
      "text/plain": [
       "DateTime     object\n",
       "Open        float64\n",
       "High        float64\n",
       "Low         float64\n",
       "Close       float64\n",
       "Volume        int64\n",
       "dtype: object"
      ]
     },
     "execution_count": 130,
     "metadata": {},
     "output_type": "execute_result"
    }
   ],
   "source": [
    "alphavantage_intradayETH[\"Open\"] = pd.to_numeric(alphavantage_intradayETH[\"Open\"])\n",
    "alphavantage_intradayETH[\"High\"] = pd.to_numeric(alphavantage_intradayETH[\"High\"])\n",
    "alphavantage_intradayETH[\"Low\"] = pd.to_numeric(alphavantage_intradayETH[\"Low\"])\n",
    "alphavantage_intradayETH[\"Close\"] = pd.to_numeric(alphavantage_intradayETH[\"Close\"])\n",
    "alphavantage_intradayETH[\"Volume\"] = pd.to_numeric(alphavantage_intradayETH[\"Volume\"])\n",
    "alphavantage_intradayETH.dtypes"
   ]
  },
  {
   "cell_type": "code",
   "execution_count": 131,
   "metadata": {},
   "outputs": [
    {
     "data": {
      "text/html": [
       "<div>\n",
       "<style scoped>\n",
       "    .dataframe tbody tr th:only-of-type {\n",
       "        vertical-align: middle;\n",
       "    }\n",
       "\n",
       "    .dataframe tbody tr th {\n",
       "        vertical-align: top;\n",
       "    }\n",
       "\n",
       "    .dataframe thead th {\n",
       "        text-align: right;\n",
       "    }\n",
       "</style>\n",
       "<table border=\"1\" class=\"dataframe\">\n",
       "  <thead>\n",
       "    <tr style=\"text-align: right;\">\n",
       "      <th></th>\n",
       "      <th>Open</th>\n",
       "      <th>High</th>\n",
       "      <th>Low</th>\n",
       "      <th>Close</th>\n",
       "      <th>Volume</th>\n",
       "    </tr>\n",
       "  </thead>\n",
       "  <tbody>\n",
       "    <tr>\n",
       "      <th>count</th>\n",
       "      <td>100.0000</td>\n",
       "      <td>100.000000</td>\n",
       "      <td>100.000000</td>\n",
       "      <td>100.000000</td>\n",
       "      <td>100.00000</td>\n",
       "    </tr>\n",
       "    <tr>\n",
       "      <th>mean</th>\n",
       "      <td>1826.2364</td>\n",
       "      <td>1829.019900</td>\n",
       "      <td>1823.475000</td>\n",
       "      <td>1826.306900</td>\n",
       "      <td>2124.70000</td>\n",
       "    </tr>\n",
       "    <tr>\n",
       "      <th>std</th>\n",
       "      <td>9.8481</td>\n",
       "      <td>9.862958</td>\n",
       "      <td>9.997355</td>\n",
       "      <td>9.815419</td>\n",
       "      <td>1282.82135</td>\n",
       "    </tr>\n",
       "    <tr>\n",
       "      <th>min</th>\n",
       "      <td>1802.4600</td>\n",
       "      <td>1807.330000</td>\n",
       "      <td>1800.710000</td>\n",
       "      <td>1802.450000</td>\n",
       "      <td>270.00000</td>\n",
       "    </tr>\n",
       "    <tr>\n",
       "      <th>25%</th>\n",
       "      <td>1820.3100</td>\n",
       "      <td>1822.897500</td>\n",
       "      <td>1818.000000</td>\n",
       "      <td>1820.642500</td>\n",
       "      <td>1376.00000</td>\n",
       "    </tr>\n",
       "    <tr>\n",
       "      <th>50%</th>\n",
       "      <td>1827.0900</td>\n",
       "      <td>1828.605000</td>\n",
       "      <td>1824.605000</td>\n",
       "      <td>1827.085000</td>\n",
       "      <td>1922.50000</td>\n",
       "    </tr>\n",
       "    <tr>\n",
       "      <th>75%</th>\n",
       "      <td>1832.9100</td>\n",
       "      <td>1835.185000</td>\n",
       "      <td>1831.022500</td>\n",
       "      <td>1832.915000</td>\n",
       "      <td>2739.25000</td>\n",
       "    </tr>\n",
       "    <tr>\n",
       "      <th>max</th>\n",
       "      <td>1845.9900</td>\n",
       "      <td>1853.050000</td>\n",
       "      <td>1842.200000</td>\n",
       "      <td>1846.000000</td>\n",
       "      <td>10011.00000</td>\n",
       "    </tr>\n",
       "  </tbody>\n",
       "</table>\n",
       "</div>"
      ],
      "text/plain": [
       "            Open         High          Low        Close       Volume\n",
       "count   100.0000   100.000000   100.000000   100.000000    100.00000\n",
       "mean   1826.2364  1829.019900  1823.475000  1826.306900   2124.70000\n",
       "std       9.8481     9.862958     9.997355     9.815419   1282.82135\n",
       "min    1802.4600  1807.330000  1800.710000  1802.450000    270.00000\n",
       "25%    1820.3100  1822.897500  1818.000000  1820.642500   1376.00000\n",
       "50%    1827.0900  1828.605000  1824.605000  1827.085000   1922.50000\n",
       "75%    1832.9100  1835.185000  1831.022500  1832.915000   2739.25000\n",
       "max    1845.9900  1853.050000  1842.200000  1846.000000  10011.00000"
      ]
     },
     "execution_count": 131,
     "metadata": {},
     "output_type": "execute_result"
    }
   ],
   "source": [
    "alphavantage_intradayETH.describe()"
   ]
  },
  {
   "cell_type": "code",
   "execution_count": 132,
   "metadata": {},
   "outputs": [
    {
     "data": {
      "text/plain": [
       "DateTime    100\n",
       "Open        100\n",
       "High        100\n",
       "Low         100\n",
       "Close       100\n",
       "Volume      100\n",
       "dtype: int64"
      ]
     },
     "execution_count": 132,
     "metadata": {},
     "output_type": "execute_result"
    }
   ],
   "source": [
    "countAnalisis_alphavantage_intradayETH = alphavantage_intradayETH[[\"DateTime\", \"Open\", \"High\", \"Low\", \"Close\", \"Volume\"]].count()\n",
    "countAnalisis_alphavantage_intradayETH"
   ]
  },
  {
   "cell_type": "code",
   "execution_count": 133,
   "metadata": {},
   "outputs": [
    {
     "name": "stderr",
     "output_type": "stream",
     "text": [
      "C:\\Users\\julia\\AppData\\Local\\Temp\\ipykernel_13564\\2292396230.py:1: FutureWarning: Dropping of nuisance columns in DataFrame reductions (with 'numeric_only=None') is deprecated; in a future version this will raise TypeError.  Select only valid columns before calling the reduction.\n",
      "  meanAnalisis_alphavantage_intradayETH = alphavantage_intradayETH[[\"DateTime\", \"Open\", \"High\", \"Low\", \"Close\", \"Volume\"]].mean()\n"
     ]
    },
    {
     "data": {
      "text/plain": [
       "Open      1826.2364\n",
       "High      1829.0199\n",
       "Low       1823.4750\n",
       "Close     1826.3069\n",
       "Volume    2124.7000\n",
       "dtype: float64"
      ]
     },
     "execution_count": 133,
     "metadata": {},
     "output_type": "execute_result"
    }
   ],
   "source": [
    "meanAnalisis_alphavantage_intradayETH = alphavantage_intradayETH[[\"DateTime\", \"Open\", \"High\", \"Low\", \"Close\", \"Volume\"]].mean()\n",
    "meanAnalisis_alphavantage_intradayETH"
   ]
  },
  {
   "cell_type": "code",
   "execution_count": 134,
   "metadata": {},
   "outputs": [
    {
     "data": {
      "text/plain": [
       "DateTime    2022-06-02 16:30:00\n",
       "Open                    1802.46\n",
       "High                    1807.33\n",
       "Low                     1800.71\n",
       "Close                   1802.45\n",
       "Volume                      270\n",
       "dtype: object"
      ]
     },
     "execution_count": 134,
     "metadata": {},
     "output_type": "execute_result"
    }
   ],
   "source": [
    "minAnalisis_alphavantage_intradayETH = alphavantage_intradayETH[[\"DateTime\", \"Open\", \"High\", \"Low\", \"Close\", \"Volume\"]].min()\n",
    "minAnalisis_alphavantage_intradayETH"
   ]
  },
  {
   "cell_type": "code",
   "execution_count": 135,
   "metadata": {},
   "outputs": [
    {
     "data": {
      "text/plain": [
       "DateTime    2022-06-03 00:45:00\n",
       "Open                    1845.99\n",
       "High                    1853.05\n",
       "Low                      1842.2\n",
       "Close                    1846.0\n",
       "Volume                    10011\n",
       "dtype: object"
      ]
     },
     "execution_count": 135,
     "metadata": {},
     "output_type": "execute_result"
    }
   ],
   "source": [
    "maxAnalisis_alphavantage_intradayETH = alphavantage_intradayETH[[\"DateTime\", \"Open\", \"High\", \"Low\", \"Close\", \"Volume\"]].max()\n",
    "maxAnalisis_alphavantage_intradayETH"
   ]
  },
  {
   "cell_type": "code",
   "execution_count": 136,
   "metadata": {},
   "outputs": [
    {
     "data": {
      "text/plain": [
       "Open      1820.3100\n",
       "High      1822.8975\n",
       "Low       1818.0000\n",
       "Close     1820.6425\n",
       "Volume    1376.0000\n",
       "Name: 0.25, dtype: float64"
      ]
     },
     "execution_count": 136,
     "metadata": {},
     "output_type": "execute_result"
    }
   ],
   "source": [
    "q25Analisis_alphavantage_intradayETH = alphavantage_intradayETH[[\"DateTime\", \"Open\", \"High\", \"Low\", \"Close\", \"Volume\"]].quantile(0.25)\n",
    "q25Analisis_alphavantage_intradayETH"
   ]
  },
  {
   "cell_type": "code",
   "execution_count": 137,
   "metadata": {},
   "outputs": [
    {
     "data": {
      "text/plain": [
       "Open      1827.090\n",
       "High      1828.605\n",
       "Low       1824.605\n",
       "Close     1827.085\n",
       "Volume    1922.500\n",
       "Name: 0.5, dtype: float64"
      ]
     },
     "execution_count": 137,
     "metadata": {},
     "output_type": "execute_result"
    }
   ],
   "source": [
    "q50Analisis_alphavantage_intradayETH = alphavantage_intradayETH[[\"DateTime\", \"Open\", \"High\", \"Low\", \"Close\", \"Volume\"]].quantile(0.5)\n",
    "q50Analisis_alphavantage_intradayETH"
   ]
  },
  {
   "cell_type": "code",
   "execution_count": 138,
   "metadata": {},
   "outputs": [
    {
     "data": {
      "text/plain": [
       "Open      1832.9100\n",
       "High      1835.1850\n",
       "Low       1831.0225\n",
       "Close     1832.9150\n",
       "Volume    2739.2500\n",
       "Name: 0.75, dtype: float64"
      ]
     },
     "execution_count": 138,
     "metadata": {},
     "output_type": "execute_result"
    }
   ],
   "source": [
    "q75Analisis_alphavantage_intradayETH = alphavantage_intradayETH[[\"DateTime\", \"Open\", \"High\", \"Low\", \"Close\", \"Volume\"]].quantile(0.75)\n",
    "q75Analisis_alphavantage_intradayETH"
   ]
  },
  {
   "cell_type": "code",
   "execution_count": 139,
   "metadata": {},
   "outputs": [
    {
     "data": {
      "text/plain": [
       "Open      1842.5765\n",
       "High      1844.9930\n",
       "Low       1839.6675\n",
       "Close     1842.5860\n",
       "Volume    3925.1000\n",
       "Name: 0.95, dtype: float64"
      ]
     },
     "execution_count": 139,
     "metadata": {},
     "output_type": "execute_result"
    }
   ],
   "source": [
    "q95nalisis_alphavantage_intradayETH = alphavantage_intradayETH[[\"DateTime\", \"Open\", \"High\", \"Low\", \"Close\", \"Volume\"]].quantile(0.95)\n",
    "q95nalisis_alphavantage_intradayETH"
   ]
  },
  {
   "cell_type": "code",
   "execution_count": 140,
   "metadata": {},
   "outputs": [
    {
     "data": {
      "text/html": [
       "<div>\n",
       "<style scoped>\n",
       "    .dataframe tbody tr th:only-of-type {\n",
       "        vertical-align: middle;\n",
       "    }\n",
       "\n",
       "    .dataframe tbody tr th {\n",
       "        vertical-align: top;\n",
       "    }\n",
       "\n",
       "    .dataframe thead th {\n",
       "        text-align: right;\n",
       "    }\n",
       "</style>\n",
       "<table border=\"1\" class=\"dataframe\">\n",
       "  <thead>\n",
       "    <tr style=\"text-align: right;\">\n",
       "      <th></th>\n",
       "      <th>DateTime</th>\n",
       "      <th>Open</th>\n",
       "      <th>High</th>\n",
       "      <th>Low</th>\n",
       "      <th>Close</th>\n",
       "      <th>Volume</th>\n",
       "    </tr>\n",
       "  </thead>\n",
       "  <tbody>\n",
       "    <tr>\n",
       "      <th>0</th>\n",
       "      <td>2022-06-03 00:45:00</td>\n",
       "      <td>30391.13000</td>\n",
       "      <td>30409.12000</td>\n",
       "      <td>30371.06000</td>\n",
       "      <td>30397.86000</td>\n",
       "      <td>66</td>\n",
       "    </tr>\n",
       "    <tr>\n",
       "      <th>1</th>\n",
       "      <td>2022-06-03 00:40:00</td>\n",
       "      <td>30409.69000</td>\n",
       "      <td>30425.38000</td>\n",
       "      <td>30385.43000</td>\n",
       "      <td>30391.14000</td>\n",
       "      <td>80</td>\n",
       "    </tr>\n",
       "    <tr>\n",
       "      <th>2</th>\n",
       "      <td>2022-06-03 00:35:00</td>\n",
       "      <td>30465.68000</td>\n",
       "      <td>30480.95000</td>\n",
       "      <td>30395.30000</td>\n",
       "      <td>30409.70000</td>\n",
       "      <td>113</td>\n",
       "    </tr>\n",
       "    <tr>\n",
       "      <th>3</th>\n",
       "      <td>2022-06-03 00:30:00</td>\n",
       "      <td>30472.32000</td>\n",
       "      <td>30500.98000</td>\n",
       "      <td>30461.06000</td>\n",
       "      <td>30465.68000</td>\n",
       "      <td>148</td>\n",
       "    </tr>\n",
       "    <tr>\n",
       "      <th>4</th>\n",
       "      <td>2022-06-03 00:25:00</td>\n",
       "      <td>30478.98000</td>\n",
       "      <td>30484.44000</td>\n",
       "      <td>30408.96000</td>\n",
       "      <td>30472.32000</td>\n",
       "      <td>153</td>\n",
       "    </tr>\n",
       "    <tr>\n",
       "      <th>...</th>\n",
       "      <td>...</td>\n",
       "      <td>...</td>\n",
       "      <td>...</td>\n",
       "      <td>...</td>\n",
       "      <td>...</td>\n",
       "      <td>...</td>\n",
       "    </tr>\n",
       "    <tr>\n",
       "      <th>95</th>\n",
       "      <td>2022-06-02 16:50:00</td>\n",
       "      <td>30239.00000</td>\n",
       "      <td>30319.69000</td>\n",
       "      <td>30226.52000</td>\n",
       "      <td>30303.16000</td>\n",
       "      <td>171</td>\n",
       "    </tr>\n",
       "    <tr>\n",
       "      <th>96</th>\n",
       "      <td>2022-06-02 16:45:00</td>\n",
       "      <td>30304.81000</td>\n",
       "      <td>30332.20000</td>\n",
       "      <td>30227.73000</td>\n",
       "      <td>30238.99000</td>\n",
       "      <td>259</td>\n",
       "    </tr>\n",
       "    <tr>\n",
       "      <th>97</th>\n",
       "      <td>2022-06-02 16:40:00</td>\n",
       "      <td>30268.30000</td>\n",
       "      <td>30354.74000</td>\n",
       "      <td>30256.00000</td>\n",
       "      <td>30304.80000</td>\n",
       "      <td>305</td>\n",
       "    </tr>\n",
       "    <tr>\n",
       "      <th>98</th>\n",
       "      <td>2022-06-02 16:35:00</td>\n",
       "      <td>30273.43000</td>\n",
       "      <td>30273.44000</td>\n",
       "      <td>30221.70000</td>\n",
       "      <td>30268.30000</td>\n",
       "      <td>171</td>\n",
       "    </tr>\n",
       "    <tr>\n",
       "      <th>99</th>\n",
       "      <td>2022-06-02 16:30:00</td>\n",
       "      <td>30260.69000</td>\n",
       "      <td>30297.25000</td>\n",
       "      <td>30231.72000</td>\n",
       "      <td>30273.44000</td>\n",
       "      <td>150</td>\n",
       "    </tr>\n",
       "  </tbody>\n",
       "</table>\n",
       "<p>100 rows × 6 columns</p>\n",
       "</div>"
      ],
      "text/plain": [
       "               DateTime         Open         High          Low        Close  \\\n",
       "0   2022-06-03 00:45:00  30391.13000  30409.12000  30371.06000  30397.86000   \n",
       "1   2022-06-03 00:40:00  30409.69000  30425.38000  30385.43000  30391.14000   \n",
       "2   2022-06-03 00:35:00  30465.68000  30480.95000  30395.30000  30409.70000   \n",
       "3   2022-06-03 00:30:00  30472.32000  30500.98000  30461.06000  30465.68000   \n",
       "4   2022-06-03 00:25:00  30478.98000  30484.44000  30408.96000  30472.32000   \n",
       "..                  ...          ...          ...          ...          ...   \n",
       "95  2022-06-02 16:50:00  30239.00000  30319.69000  30226.52000  30303.16000   \n",
       "96  2022-06-02 16:45:00  30304.81000  30332.20000  30227.73000  30238.99000   \n",
       "97  2022-06-02 16:40:00  30268.30000  30354.74000  30256.00000  30304.80000   \n",
       "98  2022-06-02 16:35:00  30273.43000  30273.44000  30221.70000  30268.30000   \n",
       "99  2022-06-02 16:30:00  30260.69000  30297.25000  30231.72000  30273.44000   \n",
       "\n",
       "   Volume  \n",
       "0      66  \n",
       "1      80  \n",
       "2     113  \n",
       "3     148  \n",
       "4     153  \n",
       "..    ...  \n",
       "95    171  \n",
       "96    259  \n",
       "97    305  \n",
       "98    171  \n",
       "99    150  \n",
       "\n",
       "[100 rows x 6 columns]"
      ]
     },
     "execution_count": 140,
     "metadata": {},
     "output_type": "execute_result"
    }
   ],
   "source": [
    "status, alphavantage_data = alphavantage.intraday('BTC')\n",
    "if status:\n",
    "    #print(alphavantage_data)\n",
    "    alphavantage_intradayBTC = pd.DataFrame.from_dict(alphavantage_data['Time Series Crypto (5min)'])\n",
    "alphavantage_intradayBTC = alphavantage_intradayBTC.T\n",
    "alphavantage_intradayBTC = alphavantage_intradayBTC.reset_index(level=0)\n",
    "alphavantage_intradayBTC.rename(columns = n_columns_rename, inplace = True)\n",
    "alphavantage_intradayBTC"
   ]
  },
  {
   "cell_type": "code",
   "execution_count": 141,
   "metadata": {},
   "outputs": [
    {
     "data": {
      "text/plain": [
       "DateTime     object\n",
       "Open        float64\n",
       "High        float64\n",
       "Low         float64\n",
       "Close       float64\n",
       "Volume        int64\n",
       "dtype: object"
      ]
     },
     "execution_count": 141,
     "metadata": {},
     "output_type": "execute_result"
    }
   ],
   "source": [
    "alphavantage_intradayBTC[\"Open\"] = pd.to_numeric(alphavantage_intradayBTC[\"Open\"])\n",
    "alphavantage_intradayBTC[\"High\"] = pd.to_numeric(alphavantage_intradayBTC[\"High\"])\n",
    "alphavantage_intradayBTC[\"Low\"] = pd.to_numeric(alphavantage_intradayBTC[\"Low\"])\n",
    "alphavantage_intradayBTC[\"Close\"] = pd.to_numeric(alphavantage_intradayBTC[\"Close\"])\n",
    "alphavantage_intradayBTC[\"Volume\"] = pd.to_numeric(alphavantage_intradayBTC[\"Volume\"])\n",
    "alphavantage_intradayBTC.dtypes"
   ]
  },
  {
   "cell_type": "code",
   "execution_count": 142,
   "metadata": {},
   "outputs": [
    {
     "data": {
      "text/html": [
       "<div>\n",
       "<style scoped>\n",
       "    .dataframe tbody tr th:only-of-type {\n",
       "        vertical-align: middle;\n",
       "    }\n",
       "\n",
       "    .dataframe tbody tr th {\n",
       "        vertical-align: top;\n",
       "    }\n",
       "\n",
       "    .dataframe thead th {\n",
       "        text-align: right;\n",
       "    }\n",
       "</style>\n",
       "<table border=\"1\" class=\"dataframe\">\n",
       "  <thead>\n",
       "    <tr style=\"text-align: right;\">\n",
       "      <th></th>\n",
       "      <th>Open</th>\n",
       "      <th>High</th>\n",
       "      <th>Low</th>\n",
       "      <th>Close</th>\n",
       "      <th>Volume</th>\n",
       "    </tr>\n",
       "  </thead>\n",
       "  <tbody>\n",
       "    <tr>\n",
       "      <th>count</th>\n",
       "      <td>100.000000</td>\n",
       "      <td>100.000000</td>\n",
       "      <td>100.000000</td>\n",
       "      <td>100.000000</td>\n",
       "      <td>100.000000</td>\n",
       "    </tr>\n",
       "    <tr>\n",
       "      <th>mean</th>\n",
       "      <td>30333.286100</td>\n",
       "      <td>30365.827100</td>\n",
       "      <td>30301.837200</td>\n",
       "      <td>30334.656600</td>\n",
       "      <td>156.780000</td>\n",
       "    </tr>\n",
       "    <tr>\n",
       "      <th>std</th>\n",
       "      <td>132.563513</td>\n",
       "      <td>136.658097</td>\n",
       "      <td>133.676909</td>\n",
       "      <td>132.512948</td>\n",
       "      <td>134.505272</td>\n",
       "    </tr>\n",
       "    <tr>\n",
       "      <th>min</th>\n",
       "      <td>30020.610000</td>\n",
       "      <td>30129.140000</td>\n",
       "      <td>29977.450000</td>\n",
       "      <td>30020.620000</td>\n",
       "      <td>27.000000</td>\n",
       "    </tr>\n",
       "    <tr>\n",
       "      <th>25%</th>\n",
       "      <td>30243.390000</td>\n",
       "      <td>30278.752500</td>\n",
       "      <td>30221.590000</td>\n",
       "      <td>30243.390000</td>\n",
       "      <td>89.750000</td>\n",
       "    </tr>\n",
       "    <tr>\n",
       "      <th>50%</th>\n",
       "      <td>30303.475000</td>\n",
       "      <td>30325.495000</td>\n",
       "      <td>30276.890000</td>\n",
       "      <td>30304.295000</td>\n",
       "      <td>139.500000</td>\n",
       "    </tr>\n",
       "    <tr>\n",
       "      <th>75%</th>\n",
       "      <td>30441.652500</td>\n",
       "      <td>30480.237500</td>\n",
       "      <td>30399.777500</td>\n",
       "      <td>30441.645000</td>\n",
       "      <td>171.250000</td>\n",
       "    </tr>\n",
       "    <tr>\n",
       "      <th>max</th>\n",
       "      <td>30642.780000</td>\n",
       "      <td>30689.000000</td>\n",
       "      <td>30591.900000</td>\n",
       "      <td>30642.780000</td>\n",
       "      <td>1265.000000</td>\n",
       "    </tr>\n",
       "  </tbody>\n",
       "</table>\n",
       "</div>"
      ],
      "text/plain": [
       "               Open          High           Low         Close       Volume\n",
       "count    100.000000    100.000000    100.000000    100.000000   100.000000\n",
       "mean   30333.286100  30365.827100  30301.837200  30334.656600   156.780000\n",
       "std      132.563513    136.658097    133.676909    132.512948   134.505272\n",
       "min    30020.610000  30129.140000  29977.450000  30020.620000    27.000000\n",
       "25%    30243.390000  30278.752500  30221.590000  30243.390000    89.750000\n",
       "50%    30303.475000  30325.495000  30276.890000  30304.295000   139.500000\n",
       "75%    30441.652500  30480.237500  30399.777500  30441.645000   171.250000\n",
       "max    30642.780000  30689.000000  30591.900000  30642.780000  1265.000000"
      ]
     },
     "execution_count": 142,
     "metadata": {},
     "output_type": "execute_result"
    }
   ],
   "source": [
    "alphavantage_intradayBTC.describe()"
   ]
  },
  {
   "cell_type": "code",
   "execution_count": 143,
   "metadata": {},
   "outputs": [
    {
     "data": {
      "text/plain": [
       "DateTime    100\n",
       "Open        100\n",
       "High        100\n",
       "Low         100\n",
       "Close       100\n",
       "Volume      100\n",
       "dtype: int64"
      ]
     },
     "execution_count": 143,
     "metadata": {},
     "output_type": "execute_result"
    }
   ],
   "source": [
    "countAnalisis_alphavantage_intradayBTC = alphavantage_intradayBTC[[\"DateTime\", \"Open\", \"High\", \"Low\", \"Close\", \"Volume\"]].count()\n",
    "countAnalisis_alphavantage_intradayBTC"
   ]
  },
  {
   "cell_type": "code",
   "execution_count": 144,
   "metadata": {},
   "outputs": [
    {
     "name": "stderr",
     "output_type": "stream",
     "text": [
      "C:\\Users\\julia\\AppData\\Local\\Temp\\ipykernel_13564\\630221912.py:1: FutureWarning: Dropping of nuisance columns in DataFrame reductions (with 'numeric_only=None') is deprecated; in a future version this will raise TypeError.  Select only valid columns before calling the reduction.\n",
      "  meanAnalisis_alphavantage_intradayBTC = alphavantage_intradayBTC[[\"DateTime\", \"Open\", \"High\", \"Low\", \"Close\", \"Volume\"]].mean()\n"
     ]
    },
    {
     "data": {
      "text/plain": [
       "Open      30333.2861\n",
       "High      30365.8271\n",
       "Low       30301.8372\n",
       "Close     30334.6566\n",
       "Volume      156.7800\n",
       "dtype: float64"
      ]
     },
     "execution_count": 144,
     "metadata": {},
     "output_type": "execute_result"
    }
   ],
   "source": [
    "meanAnalisis_alphavantage_intradayBTC = alphavantage_intradayBTC[[\"DateTime\", \"Open\", \"High\", \"Low\", \"Close\", \"Volume\"]].mean()\n",
    "meanAnalisis_alphavantage_intradayBTC"
   ]
  },
  {
   "cell_type": "code",
   "execution_count": 145,
   "metadata": {},
   "outputs": [
    {
     "data": {
      "text/plain": [
       "DateTime    2022-06-02 16:30:00\n",
       "Open                   30020.61\n",
       "High                   30129.14\n",
       "Low                    29977.45\n",
       "Close                  30020.62\n",
       "Volume                       27\n",
       "dtype: object"
      ]
     },
     "execution_count": 145,
     "metadata": {},
     "output_type": "execute_result"
    }
   ],
   "source": [
    "minAnalisis_alphavantage_intradayBTC = alphavantage_intradayBTC[[\"DateTime\", \"Open\", \"High\", \"Low\", \"Close\", \"Volume\"]].min()\n",
    "minAnalisis_alphavantage_intradayBTC"
   ]
  },
  {
   "cell_type": "code",
   "execution_count": 146,
   "metadata": {},
   "outputs": [
    {
     "data": {
      "text/plain": [
       "DateTime    2022-06-03 00:45:00\n",
       "Open                   30642.78\n",
       "High                    30689.0\n",
       "Low                     30591.9\n",
       "Close                  30642.78\n",
       "Volume                     1265\n",
       "dtype: object"
      ]
     },
     "execution_count": 146,
     "metadata": {},
     "output_type": "execute_result"
    }
   ],
   "source": [
    "maxAnalisis_alphavantage_intradayBTC = alphavantage_intradayBTC[[\"DateTime\", \"Open\", \"High\", \"Low\", \"Close\", \"Volume\"]].max()\n",
    "maxAnalisis_alphavantage_intradayBTC"
   ]
  },
  {
   "cell_type": "code",
   "execution_count": 147,
   "metadata": {},
   "outputs": [
    {
     "data": {
      "text/plain": [
       "Open      30243.3900\n",
       "High      30278.7525\n",
       "Low       30221.5900\n",
       "Close     30243.3900\n",
       "Volume       89.7500\n",
       "Name: 0.25, dtype: float64"
      ]
     },
     "execution_count": 147,
     "metadata": {},
     "output_type": "execute_result"
    }
   ],
   "source": [
    "q25Analisis_alphavantage_intradayBTC = alphavantage_intradayBTC[[\"DateTime\", \"Open\", \"High\", \"Low\", \"Close\", \"Volume\"]].quantile(0.25)\n",
    "q25Analisis_alphavantage_intradayBTC"
   ]
  },
  {
   "cell_type": "code",
   "execution_count": 148,
   "metadata": {},
   "outputs": [
    {
     "data": {
      "text/plain": [
       "Open      30303.475\n",
       "High      30325.495\n",
       "Low       30276.890\n",
       "Close     30304.295\n",
       "Volume      139.500\n",
       "Name: 0.5, dtype: float64"
      ]
     },
     "execution_count": 148,
     "metadata": {},
     "output_type": "execute_result"
    }
   ],
   "source": [
    "q50Analisis_alphavantage_intradayBTC = alphavantage_intradayBTC[[\"DateTime\", \"Open\", \"High\", \"Low\", \"Close\", \"Volume\"]].quantile(0.5)\n",
    "q50Analisis_alphavantage_intradayBTC"
   ]
  },
  {
   "cell_type": "code",
   "execution_count": 149,
   "metadata": {},
   "outputs": [
    {
     "data": {
      "text/plain": [
       "Open      30441.6525\n",
       "High      30480.2375\n",
       "Low       30399.7775\n",
       "Close     30441.6450\n",
       "Volume      171.2500\n",
       "Name: 0.75, dtype: float64"
      ]
     },
     "execution_count": 149,
     "metadata": {},
     "output_type": "execute_result"
    }
   ],
   "source": [
    "q75Analisis_alphavantage_intradayBTC = alphavantage_intradayBTC[[\"DateTime\", \"Open\", \"High\", \"Low\", \"Close\", \"Volume\"]].quantile(0.75)\n",
    "q75Analisis_alphavantage_intradayBTC"
   ]
  },
  {
   "cell_type": "code",
   "execution_count": 150,
   "metadata": {},
   "outputs": [
    {
     "data": {
      "text/plain": [
       "Open      30558.5685\n",
       "High      30604.4810\n",
       "Low       30529.6385\n",
       "Close     30558.5590\n",
       "Volume      305.6000\n",
       "Name: 0.95, dtype: float64"
      ]
     },
     "execution_count": 150,
     "metadata": {},
     "output_type": "execute_result"
    }
   ],
   "source": [
    "q95nalisis_alphavantage_intradayBTC = alphavantage_intradayBTC[[\"DateTime\", \"Open\", \"High\", \"Low\", \"Close\", \"Volume\"]].quantile(0.95)\n",
    "q95nalisis_alphavantage_intradayBTC"
   ]
  },
  {
   "cell_type": "code",
   "execution_count": 54,
   "metadata": {},
   "outputs": [
    {
     "name": "stdout",
     "output_type": "stream",
     "text": [
      "False\n"
     ]
    },
    {
     "ename": "NameError",
     "evalue": "name 'alphavantage_dailyBTC' is not defined",
     "output_type": "error",
     "traceback": [
      "\u001b[1;31m---------------------------------------------------------------------------\u001b[0m",
      "\u001b[1;31mNameError\u001b[0m                                 Traceback (most recent call last)",
      "\u001b[1;32mc:\\Users\\julia\\Downloads\\DS4A\\DS4A_project\\EDA.ipynb Cell 34'\u001b[0m in \u001b[0;36m<cell line: 6>\u001b[1;34m()\u001b[0m\n\u001b[0;32m      <a href='vscode-notebook-cell:/c%3A/Users/julia/Downloads/DS4A/DS4A_project/EDA.ipynb#ch0000035?line=3'>4</a>\u001b[0m     \u001b[39mprint\u001b[39m(status)\n\u001b[0;32m      <a href='vscode-notebook-cell:/c%3A/Users/julia/Downloads/DS4A/DS4A_project/EDA.ipynb#ch0000035?line=4'>5</a>\u001b[0m     alphavantage_dailyBTC \u001b[39m=\u001b[39m pd\u001b[39m.\u001b[39mDataFrame\u001b[39m.\u001b[39mfrom_dict(alphavantage_data)\n\u001b[1;32m----> <a href='vscode-notebook-cell:/c%3A/Users/julia/Downloads/DS4A/DS4A_project/EDA.ipynb#ch0000035?line=5'>6</a>\u001b[0m alphavantage_dailyBTC\n",
      "\u001b[1;31mNameError\u001b[0m: name 'alphavantage_dailyBTC' is not defined"
     ]
    }
   ],
   "source": [
    "# Este no nos funciona :(\n",
    "status, alphavantage_data = alphavantage.daily('BTC')\n",
    "print(status)\n",
    "if status:\n",
    "    print(status)\n",
    "    alphavantage_dailyBTC = pd.DataFrame.from_dict(alphavantage_data)\n",
    "alphavantage_dailyBTC\n",
    "#alphavantage_dailyBTC = alphavantage_dailyBTC.T\n",
    "#n_columns_rename = {'1. open':'Open', '2. high':'High', '3. low':'Low', '4. close':'Close', '5. volume':'Volume',}\n",
    "#alphavantage_dailyBTC"
   ]
  },
  {
   "cell_type": "code",
   "execution_count": 152,
   "metadata": {},
   "outputs": [
    {
     "data": {
      "text/html": [
       "<div>\n",
       "<style scoped>\n",
       "    .dataframe tbody tr th:only-of-type {\n",
       "        vertical-align: middle;\n",
       "    }\n",
       "\n",
       "    .dataframe tbody tr th {\n",
       "        vertical-align: top;\n",
       "    }\n",
       "\n",
       "    .dataframe thead th {\n",
       "        text-align: right;\n",
       "    }\n",
       "</style>\n",
       "<table border=\"1\" class=\"dataframe\">\n",
       "  <thead>\n",
       "    <tr style=\"text-align: right;\">\n",
       "      <th></th>\n",
       "      <th>FromCurrencyCode</th>\n",
       "      <th>FromCurrencyName</th>\n",
       "      <th>ToCurrencyCode</th>\n",
       "      <th>ToCurrencyName</th>\n",
       "      <th>ExchangeRate</th>\n",
       "      <th>LastRefreshed</th>\n",
       "      <th>TimeZone</th>\n",
       "      <th>BidPrice</th>\n",
       "      <th>AskPrice</th>\n",
       "    </tr>\n",
       "  </thead>\n",
       "  <tbody>\n",
       "    <tr>\n",
       "      <th>Realtime Currency Exchange Rate</th>\n",
       "      <td>BTC</td>\n",
       "      <td>Bitcoin</td>\n",
       "      <td>CNY</td>\n",
       "      <td>Chinese Yuan</td>\n",
       "      <td>202605.46016100</td>\n",
       "      <td>2022-06-03 00:54:51</td>\n",
       "      <td>UTC</td>\n",
       "      <td>202605.39355800</td>\n",
       "      <td>202605.46016100</td>\n",
       "    </tr>\n",
       "  </tbody>\n",
       "</table>\n",
       "</div>"
      ],
      "text/plain": [
       "                                FromCurrencyCode FromCurrencyName  \\\n",
       "Realtime Currency Exchange Rate              BTC          Bitcoin   \n",
       "\n",
       "                                ToCurrencyCode ToCurrencyName  \\\n",
       "Realtime Currency Exchange Rate            CNY   Chinese Yuan   \n",
       "\n",
       "                                    ExchangeRate        LastRefreshed  \\\n",
       "Realtime Currency Exchange Rate  202605.46016100  2022-06-03 00:54:51   \n",
       "\n",
       "                                TimeZone         BidPrice         AskPrice  \n",
       "Realtime Currency Exchange Rate      UTC  202605.39355800  202605.46016100  "
      ]
     },
     "execution_count": 152,
     "metadata": {},
     "output_type": "execute_result"
    }
   ],
   "source": [
    "status, alphavantage_data = alphavantage.exchange_rate('BTC')\n",
    "if status:\n",
    "    #print(alphavantage_data)\n",
    "    alphavantage_exchange_rateBTC = pd.DataFrame.from_dict(alphavantage_data)\n",
    "alphavantage_exchange_rateBTC\n",
    "alphavantage_exchange_rateBTC = alphavantage_exchange_rateBTC.T\n",
    "n_columns_rename2 = {'1. From_Currency Code':'FromCurrencyCode', '2. From_Currency Name':'FromCurrencyName', '3. To_Currency Code':'ToCurrencyCode', '4. To_Currency Name':'ToCurrencyName', '5. Exchange Rate':'ExchangeRate', '6. Last Refreshed':'LastRefreshed', '7. Time Zone':'TimeZone', '8. Bid Price':'BidPrice', '9. Ask Price':'AskPrice'}\n",
    "alphavantage_exchange_rateBTC.rename(columns = n_columns_rename2, inplace = True)\n",
    "alphavantage_exchange_rateBTC"
   ]
  },
  {
   "cell_type": "code",
   "execution_count": 157,
   "metadata": {},
   "outputs": [
    {
     "data": {
      "text/plain": [
       "FromCurrencyCode            object\n",
       "FromCurrencyName            object\n",
       "ToCurrencyCode              object\n",
       "ToCurrencyName              object\n",
       "ExchangeRate               float64\n",
       "LastRefreshed       datetime64[ns]\n",
       "TimeZone                    object\n",
       "BidPrice                   float64\n",
       "AskPrice                   float64\n",
       "dtype: object"
      ]
     },
     "execution_count": 157,
     "metadata": {},
     "output_type": "execute_result"
    }
   ],
   "source": [
    "alphavantage_exchange_rateBTC[\"ExchangeRate\"] = pd.to_numeric(alphavantage_exchange_rateBTC[\"ExchangeRate\"])\n",
    "alphavantage_exchange_rateBTC[\"BidPrice\"] = pd.to_numeric(alphavantage_exchange_rateBTC[\"BidPrice\"])\n",
    "alphavantage_exchange_rateBTC[\"AskPrice\"] = pd.to_numeric(alphavantage_exchange_rateBTC[\"AskPrice\"])\n",
    "alphavantage_exchange_rateBTC = alphavantage_exchange_rateBTC.astype({\"FromCurrencyCode\": str,\"FromCurrencyName\": str,\"ToCurrencyCode\": str,\"ToCurrencyName\": str,\"TimeZone\": str})\n",
    "alphavantage_exchange_rateBTC['LastRefreshed'] = pd.to_datetime(alphavantage_exchange_rateBTC['LastRefreshed'])\n",
    "alphavantage_exchange_rateBTC.dtypes"
   ]
  },
  {
   "cell_type": "code",
   "execution_count": 158,
   "metadata": {},
   "outputs": [
    {
     "data": {
      "text/html": [
       "<div>\n",
       "<style scoped>\n",
       "    .dataframe tbody tr th:only-of-type {\n",
       "        vertical-align: middle;\n",
       "    }\n",
       "\n",
       "    .dataframe tbody tr th {\n",
       "        vertical-align: top;\n",
       "    }\n",
       "\n",
       "    .dataframe thead th {\n",
       "        text-align: right;\n",
       "    }\n",
       "</style>\n",
       "<table border=\"1\" class=\"dataframe\">\n",
       "  <thead>\n",
       "    <tr style=\"text-align: right;\">\n",
       "      <th></th>\n",
       "      <th>ExchangeRate</th>\n",
       "      <th>BidPrice</th>\n",
       "      <th>AskPrice</th>\n",
       "    </tr>\n",
       "  </thead>\n",
       "  <tbody>\n",
       "    <tr>\n",
       "      <th>count</th>\n",
       "      <td>1.000000</td>\n",
       "      <td>1.000000</td>\n",
       "      <td>1.000000</td>\n",
       "    </tr>\n",
       "    <tr>\n",
       "      <th>mean</th>\n",
       "      <td>202605.460161</td>\n",
       "      <td>202605.393558</td>\n",
       "      <td>202605.460161</td>\n",
       "    </tr>\n",
       "    <tr>\n",
       "      <th>std</th>\n",
       "      <td>NaN</td>\n",
       "      <td>NaN</td>\n",
       "      <td>NaN</td>\n",
       "    </tr>\n",
       "    <tr>\n",
       "      <th>min</th>\n",
       "      <td>202605.460161</td>\n",
       "      <td>202605.393558</td>\n",
       "      <td>202605.460161</td>\n",
       "    </tr>\n",
       "    <tr>\n",
       "      <th>25%</th>\n",
       "      <td>202605.460161</td>\n",
       "      <td>202605.393558</td>\n",
       "      <td>202605.460161</td>\n",
       "    </tr>\n",
       "    <tr>\n",
       "      <th>50%</th>\n",
       "      <td>202605.460161</td>\n",
       "      <td>202605.393558</td>\n",
       "      <td>202605.460161</td>\n",
       "    </tr>\n",
       "    <tr>\n",
       "      <th>75%</th>\n",
       "      <td>202605.460161</td>\n",
       "      <td>202605.393558</td>\n",
       "      <td>202605.460161</td>\n",
       "    </tr>\n",
       "    <tr>\n",
       "      <th>max</th>\n",
       "      <td>202605.460161</td>\n",
       "      <td>202605.393558</td>\n",
       "      <td>202605.460161</td>\n",
       "    </tr>\n",
       "  </tbody>\n",
       "</table>\n",
       "</div>"
      ],
      "text/plain": [
       "        ExchangeRate       BidPrice       AskPrice\n",
       "count       1.000000       1.000000       1.000000\n",
       "mean   202605.460161  202605.393558  202605.460161\n",
       "std              NaN            NaN            NaN\n",
       "min    202605.460161  202605.393558  202605.460161\n",
       "25%    202605.460161  202605.393558  202605.460161\n",
       "50%    202605.460161  202605.393558  202605.460161\n",
       "75%    202605.460161  202605.393558  202605.460161\n",
       "max    202605.460161  202605.393558  202605.460161"
      ]
     },
     "execution_count": 158,
     "metadata": {},
     "output_type": "execute_result"
    }
   ],
   "source": [
    "alphavantage_exchange_rateBTC.describe()"
   ]
  },
  {
   "cell_type": "code",
   "execution_count": 62,
   "metadata": {},
   "outputs": [
    {
     "data": {
      "text/html": [
       "<div>\n",
       "<style scoped>\n",
       "    .dataframe tbody tr th:only-of-type {\n",
       "        vertical-align: middle;\n",
       "    }\n",
       "\n",
       "    .dataframe tbody tr th {\n",
       "        vertical-align: top;\n",
       "    }\n",
       "\n",
       "    .dataframe thead th {\n",
       "        text-align: right;\n",
       "    }\n",
       "</style>\n",
       "<table border=\"1\" class=\"dataframe\">\n",
       "  <thead>\n",
       "    <tr style=\"text-align: right;\">\n",
       "      <th></th>\n",
       "      <th>FromCurrencyCode</th>\n",
       "      <th>FromCurrencyName</th>\n",
       "      <th>ToCurrencyCode</th>\n",
       "      <th>ToCurrencyName</th>\n",
       "      <th>ExchangeRate</th>\n",
       "      <th>LastRefreshed</th>\n",
       "      <th>TimeZone</th>\n",
       "      <th>BidPrice</th>\n",
       "      <th>AskPrice</th>\n",
       "    </tr>\n",
       "  </thead>\n",
       "  <tbody>\n",
       "    <tr>\n",
       "      <th>Realtime Currency Exchange Rate</th>\n",
       "      <td>ETH</td>\n",
       "      <td>Ethereum</td>\n",
       "      <td>CNY</td>\n",
       "      <td>Chinese Yuan</td>\n",
       "      <td>12275.93194500</td>\n",
       "      <td>2022-06-02 23:25:46</td>\n",
       "      <td>UTC</td>\n",
       "      <td>12275.86534200</td>\n",
       "      <td>12275.93194500</td>\n",
       "    </tr>\n",
       "  </tbody>\n",
       "</table>\n",
       "</div>"
      ],
      "text/plain": [
       "                                FromCurrencyCode FromCurrencyName  \\\n",
       "Realtime Currency Exchange Rate              ETH         Ethereum   \n",
       "\n",
       "                                ToCurrencyCode ToCurrencyName    ExchangeRate  \\\n",
       "Realtime Currency Exchange Rate            CNY   Chinese Yuan  12275.93194500   \n",
       "\n",
       "                                       LastRefreshed TimeZone        BidPrice  \\\n",
       "Realtime Currency Exchange Rate  2022-06-02 23:25:46      UTC  12275.86534200   \n",
       "\n",
       "                                       AskPrice  \n",
       "Realtime Currency Exchange Rate  12275.93194500  "
      ]
     },
     "execution_count": 62,
     "metadata": {},
     "output_type": "execute_result"
    }
   ],
   "source": [
    "status, alphavantage_data = alphavantage.exchange_rate('ETH')\n",
    "if status:\n",
    "    #print(alphavantage_data)\n",
    "    alphavantage_exchange_rateETH = pd.DataFrame.from_dict(alphavantage_data)\n",
    "alphavantage_exchange_rateETH\n",
    "alphavantage_exchange_rateETH = alphavantage_exchange_rateETH.T\n",
    "n_columns_rename2 = {'1. From_Currency Code':'FromCurrencyCode', '2. From_Currency Name':'FromCurrencyName', '3. To_Currency Code':'ToCurrencyCode', '4. To_Currency Name':'ToCurrencyName', '5. Exchange Rate':'ExchangeRate', '6. Last Refreshed':'LastRefreshed', '7. Time Zone':'TimeZone', '8. Bid Price':'BidPrice', '9. Ask Price':'AskPrice'}\n",
    "alphavantage_exchange_rateETH.rename(columns = n_columns_rename2, inplace = True)\n",
    "alphavantage_exchange_rateETH"
   ]
  },
  {
   "cell_type": "code",
   "execution_count": 159,
   "metadata": {},
   "outputs": [
    {
     "data": {
      "text/plain": [
       "FromCurrencyCode            object\n",
       "FromCurrencyName            object\n",
       "ToCurrencyCode              object\n",
       "ToCurrencyName              object\n",
       "ExchangeRate               float64\n",
       "LastRefreshed       datetime64[ns]\n",
       "TimeZone                    object\n",
       "BidPrice                   float64\n",
       "AskPrice                   float64\n",
       "dtype: object"
      ]
     },
     "execution_count": 159,
     "metadata": {},
     "output_type": "execute_result"
    }
   ],
   "source": [
    "alphavantage_exchange_rateETH[\"ExchangeRate\"] = pd.to_numeric(alphavantage_exchange_rateETH[\"ExchangeRate\"])\n",
    "alphavantage_exchange_rateETH[\"BidPrice\"] = pd.to_numeric(alphavantage_exchange_rateETH[\"BidPrice\"])\n",
    "alphavantage_exchange_rateETH[\"AskPrice\"] = pd.to_numeric(alphavantage_exchange_rateETH[\"AskPrice\"])\n",
    "alphavantage_exchange_rateETH = alphavantage_exchange_rateETH.astype({\"FromCurrencyCode\": str,\"FromCurrencyName\": str,\"ToCurrencyCode\": str,\"ToCurrencyName\": str,\"TimeZone\": str})\n",
    "alphavantage_exchange_rateETH['LastRefreshed'] = pd.to_datetime(alphavantage_exchange_rateETH['LastRefreshed'])\n",
    "alphavantage_exchange_rateETH.dtypes"
   ]
  },
  {
   "cell_type": "code",
   "execution_count": 160,
   "metadata": {},
   "outputs": [
    {
     "data": {
      "text/html": [
       "<div>\n",
       "<style scoped>\n",
       "    .dataframe tbody tr th:only-of-type {\n",
       "        vertical-align: middle;\n",
       "    }\n",
       "\n",
       "    .dataframe tbody tr th {\n",
       "        vertical-align: top;\n",
       "    }\n",
       "\n",
       "    .dataframe thead th {\n",
       "        text-align: right;\n",
       "    }\n",
       "</style>\n",
       "<table border=\"1\" class=\"dataframe\">\n",
       "  <thead>\n",
       "    <tr style=\"text-align: right;\">\n",
       "      <th></th>\n",
       "      <th>ExchangeRate</th>\n",
       "      <th>BidPrice</th>\n",
       "      <th>AskPrice</th>\n",
       "    </tr>\n",
       "  </thead>\n",
       "  <tbody>\n",
       "    <tr>\n",
       "      <th>count</th>\n",
       "      <td>1.000000</td>\n",
       "      <td>1.000000</td>\n",
       "      <td>1.000000</td>\n",
       "    </tr>\n",
       "    <tr>\n",
       "      <th>mean</th>\n",
       "      <td>12275.931945</td>\n",
       "      <td>12275.865342</td>\n",
       "      <td>12275.931945</td>\n",
       "    </tr>\n",
       "    <tr>\n",
       "      <th>std</th>\n",
       "      <td>NaN</td>\n",
       "      <td>NaN</td>\n",
       "      <td>NaN</td>\n",
       "    </tr>\n",
       "    <tr>\n",
       "      <th>min</th>\n",
       "      <td>12275.931945</td>\n",
       "      <td>12275.865342</td>\n",
       "      <td>12275.931945</td>\n",
       "    </tr>\n",
       "    <tr>\n",
       "      <th>25%</th>\n",
       "      <td>12275.931945</td>\n",
       "      <td>12275.865342</td>\n",
       "      <td>12275.931945</td>\n",
       "    </tr>\n",
       "    <tr>\n",
       "      <th>50%</th>\n",
       "      <td>12275.931945</td>\n",
       "      <td>12275.865342</td>\n",
       "      <td>12275.931945</td>\n",
       "    </tr>\n",
       "    <tr>\n",
       "      <th>75%</th>\n",
       "      <td>12275.931945</td>\n",
       "      <td>12275.865342</td>\n",
       "      <td>12275.931945</td>\n",
       "    </tr>\n",
       "    <tr>\n",
       "      <th>max</th>\n",
       "      <td>12275.931945</td>\n",
       "      <td>12275.865342</td>\n",
       "      <td>12275.931945</td>\n",
       "    </tr>\n",
       "  </tbody>\n",
       "</table>\n",
       "</div>"
      ],
      "text/plain": [
       "       ExchangeRate      BidPrice      AskPrice\n",
       "count      1.000000      1.000000      1.000000\n",
       "mean   12275.931945  12275.865342  12275.931945\n",
       "std             NaN           NaN           NaN\n",
       "min    12275.931945  12275.865342  12275.931945\n",
       "25%    12275.931945  12275.865342  12275.931945\n",
       "50%    12275.931945  12275.865342  12275.931945\n",
       "75%    12275.931945  12275.865342  12275.931945\n",
       "max    12275.931945  12275.865342  12275.931945"
      ]
     },
     "execution_count": 160,
     "metadata": {},
     "output_type": "execute_result"
    }
   ],
   "source": [
    "alphavantage_exchange_rateETH.describe()"
   ]
  }
 ],
 "metadata": {
  "interpreter": {
   "hash": "e913b7897ac30ba1cf0615ffc95e0dcac655edcf15ece0252fa093eec079069f"
  },
  "kernelspec": {
   "display_name": "Python 3.10.4 64-bit",
   "language": "python",
   "name": "python3"
  },
  "language_info": {
   "codemirror_mode": {
    "name": "ipython",
    "version": 3
   },
   "file_extension": ".py",
   "mimetype": "text/x-python",
   "name": "python",
   "nbconvert_exporter": "python",
   "pygments_lexer": "ipython3",
   "version": "3.10.4"
  },
  "orig_nbformat": 4
 },
 "nbformat": 4,
 "nbformat_minor": 2
}
