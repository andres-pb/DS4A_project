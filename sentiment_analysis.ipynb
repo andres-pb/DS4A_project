{
 "cells": [
  {
   "cell_type": "code",
   "execution_count": 78,
   "metadata": {},
   "outputs": [],
   "source": [
    "\n",
    "from app.log import logging_config\n",
    "from dotenv import load_dotenv\n",
    "import logging\n",
    "from app.util.message import starting_message\n",
    "from app import Polygon\n",
    "from app import Sentiment_predict\n",
    "import pandas as pd\n",
    "from app.api import Twitter \n",
    "from os import environ\n"
   ]
  },
  {
   "cell_type": "markdown",
   "metadata": {},
   "source": [
    "## Polygon"
   ]
  },
  {
   "cell_type": "code",
   "execution_count": 79,
   "metadata": {},
   "outputs": [
    {
     "name": "stdout",
     "output_type": "stream",
     "text": [
      "PWRjSfmBc9xYnPZMQhA9ukDOuOIId90D\n",
      "in row 699 the text is divided into two parts\n",
      "in row 944 the text is divided into two parts\n",
      "in row 699 the text is divided into two parts\n",
      "in row 944 the text is divided into two parts\n"
     ]
    }
   ],
   "source": [
    "##Load and upgrade initial df\n",
    "polygon_prev = pd.read_csv(\"polygon_df_01_07_2022.csv\")\n",
    "#Polygon credentials\n",
    "load_dotenv()\n",
    "print(environ.get(\"POLYGON_KEY\"))\n",
    "logging_config.init_logging()\n",
    "__LOG = logging.getLogger(__name__)\n",
    "__LOG.info('...... Initialization Completed  ......')\n",
    "__LOG.info(starting_message())\n",
    "#Initialize Polygon\n",
    "polygon = Polygon(environ.get(\"POLYGON_KEY\"))\n",
    "#Download News\n",
    "status, polygon_data = polygon.get_news('')\n",
    "if status:\n",
    "    polygon_news_df = pd.DataFrame.from_dict(polygon_data['results'])\n",
    "polygon_news_df.drop(['publisher', 'keywords'], axis = 1, inplace = True)\n",
    "polygon_news_df['tickers'] = [' '.join(map(str, l)) for l in polygon_news_df['tickers']]\n",
    "#predict Sentiment\n",
    "sp = Sentiment_predict()\n",
    "polygon_news_df['title_finBERT'] = sp.sentiment_finBERT(polygon_news_df, 'title')\n",
    "polygon_news_df['title_financialBERT'] = sp.sentiment_financialBERT(polygon_news_df, 'title')\n",
    "polygon_news_df['description_finBERT'] = sp.sentiment_finBERT(polygon_news_df, 'description')\n",
    "polygon_news_df['description_financialBERT'] = sp.sentiment_financialBERT(polygon_news_df, 'description')\n",
    "#Upload df.\n",
    "polygon_news_df = pd.concat([polygon_news_df, polygon_prev], ignore_index = True).drop_duplicates().reset_index(drop = True)\n",
    "polygon_news_df.to_csv(\"polygon_df_01_07_2022.csv\", index = False, encoding='utf-8')\n",
    "\n"
   ]
  },
  {
   "cell_type": "code",
   "execution_count": 80,
   "metadata": {},
   "outputs": [
    {
     "data": {
      "text/plain": [
       "(1286, 13)"
      ]
     },
     "execution_count": 80,
     "metadata": {},
     "output_type": "execute_result"
    }
   ],
   "source": [
    "polygon_news_df.shape"
   ]
  },
  {
   "cell_type": "code",
   "execution_count": 81,
   "metadata": {},
   "outputs": [
    {
     "name": "stderr",
     "output_type": "stream",
     "text": [
      "C:\\Users\\andre\\AppData\\Local\\Temp\\ipykernel_20224\\1300864731.py:3: SettingWithCopyWarning:\n",
      "\n",
      "\n",
      "A value is trying to be set on a copy of a slice from a DataFrame.\n",
      "Try using .loc[row_indexer,col_indexer] = value instead\n",
      "\n",
      "See the caveats in the documentation: https://pandas.pydata.org/pandas-docs/stable/user_guide/indexing.html#returning-a-view-versus-a-copy\n",
      "\n",
      "C:\\Users\\andre\\AppData\\Local\\Temp\\ipykernel_20224\\1300864731.py:4: SettingWithCopyWarning:\n",
      "\n",
      "\n",
      "A value is trying to be set on a copy of a slice from a DataFrame.\n",
      "Try using .loc[row_indexer,col_indexer] = value instead\n",
      "\n",
      "See the caveats in the documentation: https://pandas.pydata.org/pandas-docs/stable/user_guide/indexing.html#returning-a-view-versus-a-copy\n",
      "\n"
     ]
    },
    {
     "data": {
      "text/html": [
       "<div>\n",
       "<style scoped>\n",
       "    .dataframe tbody tr th:only-of-type {\n",
       "        vertical-align: middle;\n",
       "    }\n",
       "\n",
       "    .dataframe tbody tr th {\n",
       "        vertical-align: top;\n",
       "    }\n",
       "\n",
       "    .dataframe thead th {\n",
       "        text-align: right;\n",
       "    }\n",
       "</style>\n",
       "<table border=\"1\" class=\"dataframe\">\n",
       "  <thead>\n",
       "    <tr style=\"text-align: right;\">\n",
       "      <th></th>\n",
       "      <th>date</th>\n",
       "      <th>title_finBERT</th>\n",
       "      <th>count</th>\n",
       "    </tr>\n",
       "  </thead>\n",
       "  <tbody>\n",
       "    <tr>\n",
       "      <th>0</th>\n",
       "      <td>2022-06-30</td>\n",
       "      <td>negative</td>\n",
       "      <td>87</td>\n",
       "    </tr>\n",
       "    <tr>\n",
       "      <th>1</th>\n",
       "      <td>2022-06-30</td>\n",
       "      <td>neutral</td>\n",
       "      <td>313</td>\n",
       "    </tr>\n",
       "    <tr>\n",
       "      <th>2</th>\n",
       "      <td>2022-06-30</td>\n",
       "      <td>positive</td>\n",
       "      <td>80</td>\n",
       "    </tr>\n",
       "    <tr>\n",
       "      <th>3</th>\n",
       "      <td>2022-07-01</td>\n",
       "      <td>negative</td>\n",
       "      <td>123</td>\n",
       "    </tr>\n",
       "    <tr>\n",
       "      <th>4</th>\n",
       "      <td>2022-07-01</td>\n",
       "      <td>neutral</td>\n",
       "      <td>462</td>\n",
       "    </tr>\n",
       "    <tr>\n",
       "      <th>5</th>\n",
       "      <td>2022-07-01</td>\n",
       "      <td>positive</td>\n",
       "      <td>98</td>\n",
       "    </tr>\n",
       "    <tr>\n",
       "      <th>6</th>\n",
       "      <td>2022-07-02</td>\n",
       "      <td>negative</td>\n",
       "      <td>27</td>\n",
       "    </tr>\n",
       "    <tr>\n",
       "      <th>7</th>\n",
       "      <td>2022-07-02</td>\n",
       "      <td>neutral</td>\n",
       "      <td>82</td>\n",
       "    </tr>\n",
       "    <tr>\n",
       "      <th>8</th>\n",
       "      <td>2022-07-02</td>\n",
       "      <td>positive</td>\n",
       "      <td>14</td>\n",
       "    </tr>\n",
       "  </tbody>\n",
       "</table>\n",
       "</div>"
      ],
      "text/plain": [
       "        date title_finBERT  count\n",
       "0 2022-06-30      negative     87\n",
       "1 2022-06-30       neutral    313\n",
       "2 2022-06-30      positive     80\n",
       "3 2022-07-01      negative    123\n",
       "4 2022-07-01       neutral    462\n",
       "5 2022-07-01      positive     98\n",
       "6 2022-07-02      negative     27\n",
       "7 2022-07-02       neutral     82\n",
       "8 2022-07-02      positive     14"
      ]
     },
     "execution_count": 81,
     "metadata": {},
     "output_type": "execute_result"
    }
   ],
   "source": [
    "#Polygon plots Data\n",
    "df_poly = polygon_news_df[['id','published_utc', 'title','description', 'title_finBERT', 'description_finBERT', 'title_financialBERT', 'description_financialBERT', 'article_url']]\n",
    "df_poly['date'] = df_poly['published_utc'].str[0:10]\n",
    "df_poly[\"total_news_day\"] = df_poly.groupby('date')['id'].transform(len)\n",
    "df_poly = df_poly.groupby(['date','title_finBERT']).size().reset_index()\n",
    "df_poly.rename({0:'count'}, axis = 1, inplace = True)\n",
    "df_poly['date'] = pd.to_datetime(df_poly['date'], format='%Y-%m-%d')\n",
    "df_poly"
   ]
  },
  {
   "cell_type": "code",
   "execution_count": 82,
   "metadata": {},
   "outputs": [
    {
     "data": {
      "text/plain": [
       "date             datetime64[ns]\n",
       "title_finBERT            object\n",
       "count                     int64\n",
       "dtype: object"
      ]
     },
     "execution_count": 82,
     "metadata": {},
     "output_type": "execute_result"
    }
   ],
   "source": [
    "df_poly.dtypes"
   ]
  },
  {
   "cell_type": "markdown",
   "metadata": {},
   "source": [
    "## Tweets"
   ]
  },
  {
   "cell_type": "code",
   "execution_count": 83,
   "metadata": {},
   "outputs": [
    {
     "data": {
      "text/plain": [
       "id                     object\n",
       "created_at             object\n",
       "full_text              object\n",
       "truncated                bool\n",
       "retweets                int64\n",
       "user_name              object\n",
       "user_verified            bool\n",
       "user_followers          int64\n",
       "user_image_url         object\n",
       "ticker                 object\n",
       "tweet_finBERT          object\n",
       "tweet_financialBERT    object\n",
       "dtype: object"
      ]
     },
     "execution_count": 83,
     "metadata": {},
     "output_type": "execute_result"
    }
   ],
   "source": [
    "twt = Twitter()\n",
    "df_twt = twt.get_tweets_df(ticker = 'BTC', query = 'bitcoin OR BTC AND crypto', limit = 100, popular =True)\n",
    "df_twt['tweet_finBERT'] = sp.sentiment_finBERT(df_twt, 'full_text')\n",
    "df_twt['tweet_financialBERT'] = sp.sentiment_financialBERT(df_twt, 'full_text')\n",
    "df_twt.dtypes"
   ]
  },
  {
   "cell_type": "code",
   "execution_count": 84,
   "metadata": {},
   "outputs": [
    {
     "data": {
      "text/html": [
       "<div>\n",
       "<style scoped>\n",
       "    .dataframe tbody tr th:only-of-type {\n",
       "        vertical-align: middle;\n",
       "    }\n",
       "\n",
       "    .dataframe tbody tr th {\n",
       "        vertical-align: top;\n",
       "    }\n",
       "\n",
       "    .dataframe thead th {\n",
       "        text-align: right;\n",
       "    }\n",
       "</style>\n",
       "<table border=\"1\" class=\"dataframe\">\n",
       "  <thead>\n",
       "    <tr style=\"text-align: right;\">\n",
       "      <th></th>\n",
       "      <th>id</th>\n",
       "      <th>created_at</th>\n",
       "      <th>full_text</th>\n",
       "      <th>truncated</th>\n",
       "      <th>retweets</th>\n",
       "      <th>user_name</th>\n",
       "      <th>user_verified</th>\n",
       "      <th>user_followers</th>\n",
       "      <th>user_image_url</th>\n",
       "      <th>ticker</th>\n",
       "      <th>tweet_finBERT</th>\n",
       "      <th>tweet_financialBERT</th>\n",
       "    </tr>\n",
       "  </thead>\n",
       "  <tbody>\n",
       "    <tr>\n",
       "      <th>0</th>\n",
       "      <td>1542876211235397632</td>\n",
       "      <td>Fri Jul 01 14:22:08 +0000 2022</td>\n",
       "      <td>Friday I'm in love 😍\\nWhich #Crypto will be my...</td>\n",
       "      <td>False</td>\n",
       "      <td>908</td>\n",
       "      <td>mariapazdelgado</td>\n",
       "      <td>True</td>\n",
       "      <td>161575</td>\n",
       "      <td>http://pbs.twimg.com/profile_images/1512065127...</td>\n",
       "      <td>BTC</td>\n",
       "      <td>neutral</td>\n",
       "      <td>neutral</td>\n",
       "    </tr>\n",
       "    <tr>\n",
       "      <th>1</th>\n",
       "      <td>1542883785200619521</td>\n",
       "      <td>Fri Jul 01 14:52:14 +0000 2022</td>\n",
       "      <td>We have another concurrent bear flag shown on ...</td>\n",
       "      <td>False</td>\n",
       "      <td>231</td>\n",
       "      <td>OfficialTravlad</td>\n",
       "      <td>True</td>\n",
       "      <td>316749</td>\n",
       "      <td>http://pbs.twimg.com/profile_images/1542527100...</td>\n",
       "      <td>BTC</td>\n",
       "      <td>neutral</td>\n",
       "      <td>neutral</td>\n",
       "    </tr>\n",
       "    <tr>\n",
       "      <th>2</th>\n",
       "      <td>1542960700728832000</td>\n",
       "      <td>Fri Jul 01 19:57:52 +0000 2022</td>\n",
       "      <td>Breaking! Voyager has suspended withdrawals! #...</td>\n",
       "      <td>False</td>\n",
       "      <td>183</td>\n",
       "      <td>TheCryptoLark</td>\n",
       "      <td>True</td>\n",
       "      <td>1023689</td>\n",
       "      <td>http://pbs.twimg.com/profile_images/1482889740...</td>\n",
       "      <td>BTC</td>\n",
       "      <td>negative</td>\n",
       "      <td>neutral</td>\n",
       "    </tr>\n",
       "    <tr>\n",
       "      <th>3</th>\n",
       "      <td>1543015091259555840</td>\n",
       "      <td>Fri Jul 01 23:34:00 +0000 2022</td>\n",
       "      <td>Many of the world's richest and most famous in...</td>\n",
       "      <td>False</td>\n",
       "      <td>138</td>\n",
       "      <td>TheCryptoLark</td>\n",
       "      <td>True</td>\n",
       "      <td>1023689</td>\n",
       "      <td>http://pbs.twimg.com/profile_images/1482889740...</td>\n",
       "      <td>BTC</td>\n",
       "      <td>neutral</td>\n",
       "      <td>neutral</td>\n",
       "    </tr>\n",
       "    <tr>\n",
       "      <th>4</th>\n",
       "      <td>1543098138612973568</td>\n",
       "      <td>Sat Jul 02 05:04:00 +0000 2022</td>\n",
       "      <td>I am just going to keep stacking #bitcoin and ...</td>\n",
       "      <td>False</td>\n",
       "      <td>141</td>\n",
       "      <td>TheCryptoLark</td>\n",
       "      <td>True</td>\n",
       "      <td>1023689</td>\n",
       "      <td>http://pbs.twimg.com/profile_images/1482889740...</td>\n",
       "      <td>BTC</td>\n",
       "      <td>neutral</td>\n",
       "      <td>neutral</td>\n",
       "    </tr>\n",
       "    <tr>\n",
       "      <th>5</th>\n",
       "      <td>1542863478750412800</td>\n",
       "      <td>Fri Jul 01 13:31:33 +0000 2022</td>\n",
       "      <td>El Salvador has doubled down on its #bitcoin c...</td>\n",
       "      <td>False</td>\n",
       "      <td>97</td>\n",
       "      <td>BTCTN</td>\n",
       "      <td>True</td>\n",
       "      <td>2633133</td>\n",
       "      <td>http://pbs.twimg.com/profile_images/1140965421...</td>\n",
       "      <td>BTC</td>\n",
       "      <td>negative</td>\n",
       "      <td>negative</td>\n",
       "    </tr>\n",
       "    <tr>\n",
       "      <th>6</th>\n",
       "      <td>1543241259451555842</td>\n",
       "      <td>Sat Jul 02 14:32:42 +0000 2022</td>\n",
       "      <td>Top #Bitcoin whale accumulates 4816 BTC, spend...</td>\n",
       "      <td>False</td>\n",
       "      <td>99</td>\n",
       "      <td>WhaleCoinTalk</td>\n",
       "      <td>True</td>\n",
       "      <td>132871</td>\n",
       "      <td>http://pbs.twimg.com/profile_images/1495764154...</td>\n",
       "      <td>BTC</td>\n",
       "      <td>neutral</td>\n",
       "      <td>neutral</td>\n",
       "    </tr>\n",
       "    <tr>\n",
       "      <th>7</th>\n",
       "      <td>1542948843041570823</td>\n",
       "      <td>Fri Jul 01 19:10:45 +0000 2022</td>\n",
       "      <td>What do the Terra Luna, Celsius, and Voyager f...</td>\n",
       "      <td>False</td>\n",
       "      <td>71</td>\n",
       "      <td>Bitboy_Crypto</td>\n",
       "      <td>True</td>\n",
       "      <td>858468</td>\n",
       "      <td>http://pbs.twimg.com/profile_images/1503382435...</td>\n",
       "      <td>BTC</td>\n",
       "      <td>neutral</td>\n",
       "      <td>neutral</td>\n",
       "    </tr>\n",
       "    <tr>\n",
       "      <th>8</th>\n",
       "      <td>1542749444726263809</td>\n",
       "      <td>Fri Jul 01 05:58:25 +0000 2022</td>\n",
       "      <td>Mechanism by which bitcoin/cryptos CAUSE infla...</td>\n",
       "      <td>False</td>\n",
       "      <td>135</td>\n",
       "      <td>nntaleb</td>\n",
       "      <td>True</td>\n",
       "      <td>871356</td>\n",
       "      <td>http://pbs.twimg.com/profile_images/1200820286...</td>\n",
       "      <td>BTC</td>\n",
       "      <td>neutral</td>\n",
       "      <td>neutral</td>\n",
       "    </tr>\n",
       "    <tr>\n",
       "      <th>9</th>\n",
       "      <td>1542742867856195584</td>\n",
       "      <td>Fri Jul 01 05:32:17 +0000 2022</td>\n",
       "      <td>During the last seven days, #LUNC has risen 96...</td>\n",
       "      <td>False</td>\n",
       "      <td>113</td>\n",
       "      <td>BTCTN</td>\n",
       "      <td>True</td>\n",
       "      <td>2633133</td>\n",
       "      <td>http://pbs.twimg.com/profile_images/1140965421...</td>\n",
       "      <td>BTC</td>\n",
       "      <td>positive</td>\n",
       "      <td>positive</td>\n",
       "    </tr>\n",
       "    <tr>\n",
       "      <th>10</th>\n",
       "      <td>1543059913475227648</td>\n",
       "      <td>Sat Jul 02 02:32:06 +0000 2022</td>\n",
       "      <td>The CFTC has taken action against South Africa...</td>\n",
       "      <td>False</td>\n",
       "      <td>47</td>\n",
       "      <td>BTCTN</td>\n",
       "      <td>True</td>\n",
       "      <td>2633133</td>\n",
       "      <td>http://pbs.twimg.com/profile_images/1140965421...</td>\n",
       "      <td>BTC</td>\n",
       "      <td>neutral</td>\n",
       "      <td>positive</td>\n",
       "    </tr>\n",
       "    <tr>\n",
       "      <th>11</th>\n",
       "      <td>1542645085073842176</td>\n",
       "      <td>Thu Jun 30 23:03:43 +0000 2022</td>\n",
       "      <td>Which crypto coin to invest in right now? I’m ...</td>\n",
       "      <td>False</td>\n",
       "      <td>249</td>\n",
       "      <td>souljaboy</td>\n",
       "      <td>True</td>\n",
       "      <td>5528518</td>\n",
       "      <td>http://pbs.twimg.com/profile_images/1542508381...</td>\n",
       "      <td>BTC</td>\n",
       "      <td>neutral</td>\n",
       "      <td>neutral</td>\n",
       "    </tr>\n",
       "    <tr>\n",
       "      <th>12</th>\n",
       "      <td>1542703355776090113</td>\n",
       "      <td>Fri Jul 01 02:55:16 +0000 2022</td>\n",
       "      <td>Bitcoin falls below $19,000, further shaking c...</td>\n",
       "      <td>False</td>\n",
       "      <td>54</td>\n",
       "      <td>Reuters</td>\n",
       "      <td>True</td>\n",
       "      <td>25344343</td>\n",
       "      <td>http://pbs.twimg.com/profile_images/1194751949...</td>\n",
       "      <td>BTC</td>\n",
       "      <td>negative</td>\n",
       "      <td>neutral</td>\n",
       "    </tr>\n",
       "    <tr>\n",
       "      <th>13</th>\n",
       "      <td>1542682448215085058</td>\n",
       "      <td>Fri Jul 01 01:32:11 +0000 2022</td>\n",
       "      <td>Deutsche Bank expects #bitcoin to rise to $28K...</td>\n",
       "      <td>False</td>\n",
       "      <td>78</td>\n",
       "      <td>BTCTN</td>\n",
       "      <td>True</td>\n",
       "      <td>2633133</td>\n",
       "      <td>http://pbs.twimg.com/profile_images/1140965421...</td>\n",
       "      <td>BTC</td>\n",
       "      <td>positive</td>\n",
       "      <td>positive</td>\n",
       "    </tr>\n",
       "    <tr>\n",
       "      <th>14</th>\n",
       "      <td>1542652304519749632</td>\n",
       "      <td>Thu Jun 30 23:32:25 +0000 2022</td>\n",
       "      <td>#Coinbase has revealed its plan to expand in s...</td>\n",
       "      <td>False</td>\n",
       "      <td>84</td>\n",
       "      <td>BTCTN</td>\n",
       "      <td>True</td>\n",
       "      <td>2633133</td>\n",
       "      <td>http://pbs.twimg.com/profile_images/1140965421...</td>\n",
       "      <td>BTC</td>\n",
       "      <td>neutral</td>\n",
       "      <td>positive</td>\n",
       "    </tr>\n",
       "    <tr>\n",
       "      <th>15</th>\n",
       "      <td>1542667208211456000</td>\n",
       "      <td>Fri Jul 01 00:31:38 +0000 2022</td>\n",
       "      <td>#EU seeks agreement on a broad regulatory fram...</td>\n",
       "      <td>False</td>\n",
       "      <td>48</td>\n",
       "      <td>BTCTN</td>\n",
       "      <td>True</td>\n",
       "      <td>2633133</td>\n",
       "      <td>http://pbs.twimg.com/profile_images/1140965421...</td>\n",
       "      <td>BTC</td>\n",
       "      <td>positive</td>\n",
       "      <td>neutral</td>\n",
       "    </tr>\n",
       "    <tr>\n",
       "      <th>16</th>\n",
       "      <td>1542728822205841415</td>\n",
       "      <td>Fri Jul 01 04:36:28 +0000 2022</td>\n",
       "      <td>What is #Blockchain Technology? How does Block...</td>\n",
       "      <td>False</td>\n",
       "      <td>19</td>\n",
       "      <td>KirkDBorne</td>\n",
       "      <td>True</td>\n",
       "      <td>326847</td>\n",
       "      <td>http://pbs.twimg.com/profile_images/1112733580...</td>\n",
       "      <td>BTC</td>\n",
       "      <td>neutral</td>\n",
       "      <td>neutral</td>\n",
       "    </tr>\n",
       "    <tr>\n",
       "      <th>17</th>\n",
       "      <td>1542648013025431554</td>\n",
       "      <td>Thu Jun 30 23:15:21 +0000 2022</td>\n",
       "      <td>Bitcoin falls below $19,000, further shaking c...</td>\n",
       "      <td>False</td>\n",
       "      <td>66</td>\n",
       "      <td>Reuters</td>\n",
       "      <td>True</td>\n",
       "      <td>25344343</td>\n",
       "      <td>http://pbs.twimg.com/profile_images/1194751949...</td>\n",
       "      <td>BTC</td>\n",
       "      <td>negative</td>\n",
       "      <td>neutral</td>\n",
       "    </tr>\n",
       "    <tr>\n",
       "      <th>18</th>\n",
       "      <td>1542701463624990721</td>\n",
       "      <td>Fri Jul 01 02:47:45 +0000 2022</td>\n",
       "      <td>One Year Return:\\n\\nPaypal - Down 75%\\nNetflix...</td>\n",
       "      <td>False</td>\n",
       "      <td>15</td>\n",
       "      <td>ToddHagopian</td>\n",
       "      <td>True</td>\n",
       "      <td>61071</td>\n",
       "      <td>http://pbs.twimg.com/profile_images/1522689116...</td>\n",
       "      <td>BTC</td>\n",
       "      <td>negative</td>\n",
       "      <td>negative</td>\n",
       "    </tr>\n",
       "    <tr>\n",
       "      <th>19</th>\n",
       "      <td>1542678680282996738</td>\n",
       "      <td>Fri Jul 01 01:17:13 +0000 2022</td>\n",
       "      <td>Deutsche Bank predicts that Bitcoin's price co...</td>\n",
       "      <td>False</td>\n",
       "      <td>29</td>\n",
       "      <td>crypto</td>\n",
       "      <td>True</td>\n",
       "      <td>923657</td>\n",
       "      <td>http://pbs.twimg.com/profile_images/1483830321...</td>\n",
       "      <td>BTC</td>\n",
       "      <td>positive</td>\n",
       "      <td>positive</td>\n",
       "    </tr>\n",
       "    <tr>\n",
       "      <th>20</th>\n",
       "      <td>1542585999242526721</td>\n",
       "      <td>Thu Jun 30 19:08:56 +0000 2022</td>\n",
       "      <td>We have an AMA with @_bitszer at 8 PM UTC.\\n\\n...</td>\n",
       "      <td>False</td>\n",
       "      <td>77</td>\n",
       "      <td>GollumsGems</td>\n",
       "      <td>True</td>\n",
       "      <td>30205</td>\n",
       "      <td>http://pbs.twimg.com/profile_images/1524397405...</td>\n",
       "      <td>BTC</td>\n",
       "      <td>neutral</td>\n",
       "      <td>positive</td>\n",
       "    </tr>\n",
       "    <tr>\n",
       "      <th>21</th>\n",
       "      <td>1542477332253925377</td>\n",
       "      <td>Thu Jun 30 11:57:08 +0000 2022</td>\n",
       "      <td>GM guys 🔥\\n\\nWhat #Crypto should I buy?\\n\\nWha...</td>\n",
       "      <td>False</td>\n",
       "      <td>984</td>\n",
       "      <td>lucasvelascook</td>\n",
       "      <td>True</td>\n",
       "      <td>244358</td>\n",
       "      <td>http://pbs.twimg.com/profile_images/1521554696...</td>\n",
       "      <td>BTC</td>\n",
       "      <td>neutral</td>\n",
       "      <td>neutral</td>\n",
       "    </tr>\n",
       "    <tr>\n",
       "      <th>22</th>\n",
       "      <td>1542644307315900416</td>\n",
       "      <td>Thu Jun 30 23:00:38 +0000 2022</td>\n",
       "      <td>\"The big takeaway for me is that this is not a...</td>\n",
       "      <td>False</td>\n",
       "      <td>59</td>\n",
       "      <td>CoinDesk</td>\n",
       "      <td>True</td>\n",
       "      <td>2889508</td>\n",
       "      <td>http://pbs.twimg.com/profile_images/1430879040...</td>\n",
       "      <td>BTC</td>\n",
       "      <td>neutral</td>\n",
       "      <td>neutral</td>\n",
       "    </tr>\n",
       "    <tr>\n",
       "      <th>23</th>\n",
       "      <td>1542368838892879875</td>\n",
       "      <td>Thu Jun 30 04:46:01 +0000 2022</td>\n",
       "      <td>Everyone is talking about bearish things, but ...</td>\n",
       "      <td>False</td>\n",
       "      <td>458</td>\n",
       "      <td>ki_young_ju</td>\n",
       "      <td>True</td>\n",
       "      <td>301729</td>\n",
       "      <td>http://pbs.twimg.com/profile_images/1527757002...</td>\n",
       "      <td>BTC</td>\n",
       "      <td>negative</td>\n",
       "      <td>neutral</td>\n",
       "    </tr>\n",
       "    <tr>\n",
       "      <th>24</th>\n",
       "      <td>1540778449719025664</td>\n",
       "      <td>Sat Jun 25 19:26:23 +0000 2022</td>\n",
       "      <td>I will send TWENTY people $100 each in #Bitcoi...</td>\n",
       "      <td>False</td>\n",
       "      <td>1502</td>\n",
       "      <td>OfficialTravlad</td>\n",
       "      <td>True</td>\n",
       "      <td>316749</td>\n",
       "      <td>http://pbs.twimg.com/profile_images/1542527100...</td>\n",
       "      <td>BTC</td>\n",
       "      <td>neutral</td>\n",
       "      <td>neutral</td>\n",
       "    </tr>\n",
       "    <tr>\n",
       "      <th>25</th>\n",
       "      <td>1541400160902815745</td>\n",
       "      <td>Mon Jun 27 12:36:50 +0000 2022</td>\n",
       "      <td>Goldman Sachs' crypto journey:\\n\\n2017: Bitcoi...</td>\n",
       "      <td>False</td>\n",
       "      <td>688</td>\n",
       "      <td>Blockworks_</td>\n",
       "      <td>True</td>\n",
       "      <td>350466</td>\n",
       "      <td>http://pbs.twimg.com/profile_images/1529547296...</td>\n",
       "      <td>BTC</td>\n",
       "      <td>neutral</td>\n",
       "      <td>neutral</td>\n",
       "    </tr>\n",
       "    <tr>\n",
       "      <th>26</th>\n",
       "      <td>1539940143850741762</td>\n",
       "      <td>Thu Jun 23 11:55:15 +0000 2022</td>\n",
       "      <td>🎮 While everyone has their eyes on #BTC, #P2E ...</td>\n",
       "      <td>False</td>\n",
       "      <td>1490</td>\n",
       "      <td>CryptoCoinCoach</td>\n",
       "      <td>True</td>\n",
       "      <td>49070</td>\n",
       "      <td>http://pbs.twimg.com/profile_images/1486682622...</td>\n",
       "      <td>BTC</td>\n",
       "      <td>positive</td>\n",
       "      <td>neutral</td>\n",
       "    </tr>\n",
       "    <tr>\n",
       "      <th>27</th>\n",
       "      <td>1539975991212118017</td>\n",
       "      <td>Thu Jun 23 14:17:42 +0000 2022</td>\n",
       "      <td>Headlines in 5 years:\\n\\n\"Bitcoin crashes from...</td>\n",
       "      <td>False</td>\n",
       "      <td>662</td>\n",
       "      <td>danheld</td>\n",
       "      <td>True</td>\n",
       "      <td>612422</td>\n",
       "      <td>http://pbs.twimg.com/profile_images/1366113307...</td>\n",
       "      <td>BTC</td>\n",
       "      <td>neutral</td>\n",
       "      <td>neutral</td>\n",
       "    </tr>\n",
       "    <tr>\n",
       "      <th>28</th>\n",
       "      <td>1542138018500411392</td>\n",
       "      <td>Wed Jun 29 13:28:49 +0000 2022</td>\n",
       "      <td>JUST IN: #Bitcoin and crypto hedge fund Three ...</td>\n",
       "      <td>False</td>\n",
       "      <td>339</td>\n",
       "      <td>BitcoinMagazine</td>\n",
       "      <td>True</td>\n",
       "      <td>2552175</td>\n",
       "      <td>http://pbs.twimg.com/profile_images/1444022922...</td>\n",
       "      <td>BTC</td>\n",
       "      <td>negative</td>\n",
       "      <td>neutral</td>\n",
       "    </tr>\n",
       "    <tr>\n",
       "      <th>29</th>\n",
       "      <td>1541815737408446466</td>\n",
       "      <td>Tue Jun 28 16:08:12 +0000 2022</td>\n",
       "      <td>I have 10 #BNB to invest! \\nWhat’s is the next...</td>\n",
       "      <td>False</td>\n",
       "      <td>1015</td>\n",
       "      <td>lucasvelascook</td>\n",
       "      <td>True</td>\n",
       "      <td>244358</td>\n",
       "      <td>http://pbs.twimg.com/profile_images/1521554696...</td>\n",
       "      <td>BTC</td>\n",
       "      <td>neutral</td>\n",
       "      <td>neutral</td>\n",
       "    </tr>\n",
       "    <tr>\n",
       "      <th>30</th>\n",
       "      <td>1540422895238877192</td>\n",
       "      <td>Fri Jun 24 19:53:32 +0000 2022</td>\n",
       "      <td>Last 48 hrs:\\n🔸#Binance at Zero Point Conf at ...</td>\n",
       "      <td>False</td>\n",
       "      <td>508</td>\n",
       "      <td>cz_binance</td>\n",
       "      <td>True</td>\n",
       "      <td>6554023</td>\n",
       "      <td>http://pbs.twimg.com/profile_images/1520776623...</td>\n",
       "      <td>BTC</td>\n",
       "      <td>neutral</td>\n",
       "      <td>neutral</td>\n",
       "    </tr>\n",
       "    <tr>\n",
       "      <th>31</th>\n",
       "      <td>1539986709685092352</td>\n",
       "      <td>Thu Jun 23 15:00:17 +0000 2022</td>\n",
       "      <td>📢 CONTEST ALERT 📢\\n\\nFriyay comes early! Here'...</td>\n",
       "      <td>False</td>\n",
       "      <td>911</td>\n",
       "      <td>CoinSwitchKuber</td>\n",
       "      <td>True</td>\n",
       "      <td>102878</td>\n",
       "      <td>http://pbs.twimg.com/profile_images/1258076387...</td>\n",
       "      <td>BTC</td>\n",
       "      <td>neutral</td>\n",
       "      <td>neutral</td>\n",
       "    </tr>\n",
       "    <tr>\n",
       "      <th>32</th>\n",
       "      <td>1540045712733351937</td>\n",
       "      <td>Thu Jun 23 18:54:45 +0000 2022</td>\n",
       "      <td>Thanks @Cointelegraph for having me on to expl...</td>\n",
       "      <td>False</td>\n",
       "      <td>295</td>\n",
       "      <td>coryklippsten</td>\n",
       "      <td>True</td>\n",
       "      <td>161342</td>\n",
       "      <td>http://pbs.twimg.com/profile_images/1498317659...</td>\n",
       "      <td>BTC</td>\n",
       "      <td>neutral</td>\n",
       "      <td>neutral</td>\n",
       "    </tr>\n",
       "    <tr>\n",
       "      <th>33</th>\n",
       "      <td>1539983775148408837</td>\n",
       "      <td>Thu Jun 23 14:48:38 +0000 2022</td>\n",
       "      <td>JUST IN - Former UK Chief Financial Minister: ...</td>\n",
       "      <td>False</td>\n",
       "      <td>452</td>\n",
       "      <td>BitcoinMagazine</td>\n",
       "      <td>True</td>\n",
       "      <td>2552175</td>\n",
       "      <td>http://pbs.twimg.com/profile_images/1444022922...</td>\n",
       "      <td>BTC</td>\n",
       "      <td>negative</td>\n",
       "      <td>negative</td>\n",
       "    </tr>\n",
       "    <tr>\n",
       "      <th>34</th>\n",
       "      <td>1542170511999995908</td>\n",
       "      <td>Wed Jun 29 15:37:56 +0000 2022</td>\n",
       "      <td>JUST IN - 🇷🇺 Head of Russia House Finance Comm...</td>\n",
       "      <td>False</td>\n",
       "      <td>348</td>\n",
       "      <td>BitcoinMagazine</td>\n",
       "      <td>True</td>\n",
       "      <td>2552175</td>\n",
       "      <td>http://pbs.twimg.com/profile_images/1444022922...</td>\n",
       "      <td>BTC</td>\n",
       "      <td>neutral</td>\n",
       "      <td>neutral</td>\n",
       "    </tr>\n",
       "    <tr>\n",
       "      <th>35</th>\n",
       "      <td>1540052701563731968</td>\n",
       "      <td>Thu Jun 23 19:22:31 +0000 2022</td>\n",
       "      <td>Who wouldn’t be bullish on #Crypto when they w...</td>\n",
       "      <td>False</td>\n",
       "      <td>335</td>\n",
       "      <td>OfficialTravlad</td>\n",
       "      <td>True</td>\n",
       "      <td>316749</td>\n",
       "      <td>http://pbs.twimg.com/profile_images/1542527100...</td>\n",
       "      <td>BTC</td>\n",
       "      <td>neutral</td>\n",
       "      <td>positive</td>\n",
       "    </tr>\n",
       "    <tr>\n",
       "      <th>36</th>\n",
       "      <td>1541423688272302080</td>\n",
       "      <td>Mon Jun 27 14:10:20 +0000 2022</td>\n",
       "      <td>BREAKING: Crypto brokerage Voyager Digital has...</td>\n",
       "      <td>False</td>\n",
       "      <td>283</td>\n",
       "      <td>CryptoWhale</td>\n",
       "      <td>True</td>\n",
       "      <td>525009</td>\n",
       "      <td>http://pbs.twimg.com/profile_images/1519079872...</td>\n",
       "      <td>BTC</td>\n",
       "      <td>negative</td>\n",
       "      <td>negative</td>\n",
       "    </tr>\n",
       "    <tr>\n",
       "      <th>37</th>\n",
       "      <td>1540457742023933958</td>\n",
       "      <td>Fri Jun 24 22:12:00 +0000 2022</td>\n",
       "      <td>Former Crypto Billionaire Insists Bitcoin Will...</td>\n",
       "      <td>False</td>\n",
       "      <td>167</td>\n",
       "      <td>ForbesCrypto</td>\n",
       "      <td>True</td>\n",
       "      <td>495363</td>\n",
       "      <td>http://pbs.twimg.com/profile_images/1379183988...</td>\n",
       "      <td>BTC</td>\n",
       "      <td>neutral</td>\n",
       "      <td>neutral</td>\n",
       "    </tr>\n",
       "    <tr>\n",
       "      <th>38</th>\n",
       "      <td>1539894789038022663</td>\n",
       "      <td>Thu Jun 23 08:55:02 +0000 2022</td>\n",
       "      <td>Choose your #crypto team:\\n\\nTeam 🅰️          ...</td>\n",
       "      <td>False</td>\n",
       "      <td>119</td>\n",
       "      <td>TheMoonCarl</td>\n",
       "      <td>True</td>\n",
       "      <td>1135456</td>\n",
       "      <td>http://pbs.twimg.com/profile_images/1490246864...</td>\n",
       "      <td>BTC</td>\n",
       "      <td>neutral</td>\n",
       "      <td>neutral</td>\n",
       "    </tr>\n",
       "    <tr>\n",
       "      <th>39</th>\n",
       "      <td>1539892385932533760</td>\n",
       "      <td>Thu Jun 23 08:45:29 +0000 2022</td>\n",
       "      <td>I do have some #Bitcoin and #crypto people as ...</td>\n",
       "      <td>False</td>\n",
       "      <td>65</td>\n",
       "      <td>tante</td>\n",
       "      <td>True</td>\n",
       "      <td>31006</td>\n",
       "      <td>http://pbs.twimg.com/profile_images/1273617971...</td>\n",
       "      <td>BTC</td>\n",
       "      <td>neutral</td>\n",
       "      <td>neutral</td>\n",
       "    </tr>\n",
       "    <tr>\n",
       "      <th>40</th>\n",
       "      <td>1539908890023923714</td>\n",
       "      <td>Thu Jun 23 09:51:04 +0000 2022</td>\n",
       "      <td>Rolex and Patek watches are proving timely inv...</td>\n",
       "      <td>False</td>\n",
       "      <td>58</td>\n",
       "      <td>business</td>\n",
       "      <td>True</td>\n",
       "      <td>8409569</td>\n",
       "      <td>http://pbs.twimg.com/profile_images/9918180202...</td>\n",
       "      <td>BTC</td>\n",
       "      <td>positive</td>\n",
       "      <td>positive</td>\n",
       "    </tr>\n",
       "    <tr>\n",
       "      <th>41</th>\n",
       "      <td>1539902800175534080</td>\n",
       "      <td>Thu Jun 23 09:26:52 +0000 2022</td>\n",
       "      <td>@tante While Bitcoin is technically cryptocurr...</td>\n",
       "      <td>False</td>\n",
       "      <td>22</td>\n",
       "      <td>lopp</td>\n",
       "      <td>True</td>\n",
       "      <td>404577</td>\n",
       "      <td>http://pbs.twimg.com/profile_images/1362539312...</td>\n",
       "      <td>BTC</td>\n",
       "      <td>neutral</td>\n",
       "      <td>neutral</td>\n",
       "    </tr>\n",
       "    <tr>\n",
       "      <th>42</th>\n",
       "      <td>1539935713776615426</td>\n",
       "      <td>Thu Jun 23 11:37:39 +0000 2022</td>\n",
       "      <td>Crypto chaos. Bitcoin is down about 70% since ...</td>\n",
       "      <td>False</td>\n",
       "      <td>17</td>\n",
       "      <td>BloombergTV</td>\n",
       "      <td>True</td>\n",
       "      <td>687248</td>\n",
       "      <td>http://pbs.twimg.com/profile_images/9917920420...</td>\n",
       "      <td>BTC</td>\n",
       "      <td>negative</td>\n",
       "      <td>negative</td>\n",
       "    </tr>\n",
       "    <tr>\n",
       "      <th>43</th>\n",
       "      <td>1539920749762420736</td>\n",
       "      <td>Thu Jun 23 10:38:11 +0000 2022</td>\n",
       "      <td>Don't miss the #ByBit $4,450 Deposit Blast-Off...</td>\n",
       "      <td>False</td>\n",
       "      <td>19</td>\n",
       "      <td>AltCryptoGems</td>\n",
       "      <td>True</td>\n",
       "      <td>202011</td>\n",
       "      <td>http://pbs.twimg.com/profile_images/1513864361...</td>\n",
       "      <td>BTC</td>\n",
       "      <td>neutral</td>\n",
       "      <td>neutral</td>\n",
       "    </tr>\n",
       "    <tr>\n",
       "      <th>44</th>\n",
       "      <td>1539922047467495425</td>\n",
       "      <td>Thu Jun 23 10:43:21 +0000 2022</td>\n",
       "      <td>Introducing @RobMcNealy, panelist for the spac...</td>\n",
       "      <td>False</td>\n",
       "      <td>33</td>\n",
       "      <td>MarioNawfal</td>\n",
       "      <td>True</td>\n",
       "      <td>60818</td>\n",
       "      <td>http://pbs.twimg.com/profile_images/1492271795...</td>\n",
       "      <td>BTC</td>\n",
       "      <td>neutral</td>\n",
       "      <td>neutral</td>\n",
       "    </tr>\n",
       "    <tr>\n",
       "      <th>45</th>\n",
       "      <td>1539929278673870848</td>\n",
       "      <td>Thu Jun 23 11:12:05 +0000 2022</td>\n",
       "      <td>11 Times Elon 'Dogefather' Musk Told People to...</td>\n",
       "      <td>False</td>\n",
       "      <td>24</td>\n",
       "      <td>Gizmodo</td>\n",
       "      <td>True</td>\n",
       "      <td>2809562</td>\n",
       "      <td>http://pbs.twimg.com/profile_images/5905087400...</td>\n",
       "      <td>BTC</td>\n",
       "      <td>neutral</td>\n",
       "      <td>neutral</td>\n",
       "    </tr>\n",
       "    <tr>\n",
       "      <th>46</th>\n",
       "      <td>1539898826357895168</td>\n",
       "      <td>Thu Jun 23 09:11:04 +0000 2022</td>\n",
       "      <td>(3/6) How will TDS be deducted on Crypto - Cry...</td>\n",
       "      <td>False</td>\n",
       "      <td>37</td>\n",
       "      <td>CryptooIndia</td>\n",
       "      <td>True</td>\n",
       "      <td>237849</td>\n",
       "      <td>http://pbs.twimg.com/profile_images/1540914609...</td>\n",
       "      <td>BTC</td>\n",
       "      <td>neutral</td>\n",
       "      <td>neutral</td>\n",
       "    </tr>\n",
       "    <tr>\n",
       "      <th>47</th>\n",
       "      <td>1539929665606803456</td>\n",
       "      <td>Thu Jun 23 11:13:37 +0000 2022</td>\n",
       "      <td>Don’t forget to follow Bitcoin․com News on Tik...</td>\n",
       "      <td>False</td>\n",
       "      <td>18</td>\n",
       "      <td>BTCTN</td>\n",
       "      <td>True</td>\n",
       "      <td>2633133</td>\n",
       "      <td>http://pbs.twimg.com/profile_images/1140965421...</td>\n",
       "      <td>BTC</td>\n",
       "      <td>neutral</td>\n",
       "      <td>neutral</td>\n",
       "    </tr>\n",
       "  </tbody>\n",
       "</table>\n",
       "</div>"
      ],
      "text/plain": [
       "                     id                      created_at  \\\n",
       "0   1542876211235397632  Fri Jul 01 14:22:08 +0000 2022   \n",
       "1   1542883785200619521  Fri Jul 01 14:52:14 +0000 2022   \n",
       "2   1542960700728832000  Fri Jul 01 19:57:52 +0000 2022   \n",
       "3   1543015091259555840  Fri Jul 01 23:34:00 +0000 2022   \n",
       "4   1543098138612973568  Sat Jul 02 05:04:00 +0000 2022   \n",
       "5   1542863478750412800  Fri Jul 01 13:31:33 +0000 2022   \n",
       "6   1543241259451555842  Sat Jul 02 14:32:42 +0000 2022   \n",
       "7   1542948843041570823  Fri Jul 01 19:10:45 +0000 2022   \n",
       "8   1542749444726263809  Fri Jul 01 05:58:25 +0000 2022   \n",
       "9   1542742867856195584  Fri Jul 01 05:32:17 +0000 2022   \n",
       "10  1543059913475227648  Sat Jul 02 02:32:06 +0000 2022   \n",
       "11  1542645085073842176  Thu Jun 30 23:03:43 +0000 2022   \n",
       "12  1542703355776090113  Fri Jul 01 02:55:16 +0000 2022   \n",
       "13  1542682448215085058  Fri Jul 01 01:32:11 +0000 2022   \n",
       "14  1542652304519749632  Thu Jun 30 23:32:25 +0000 2022   \n",
       "15  1542667208211456000  Fri Jul 01 00:31:38 +0000 2022   \n",
       "16  1542728822205841415  Fri Jul 01 04:36:28 +0000 2022   \n",
       "17  1542648013025431554  Thu Jun 30 23:15:21 +0000 2022   \n",
       "18  1542701463624990721  Fri Jul 01 02:47:45 +0000 2022   \n",
       "19  1542678680282996738  Fri Jul 01 01:17:13 +0000 2022   \n",
       "20  1542585999242526721  Thu Jun 30 19:08:56 +0000 2022   \n",
       "21  1542477332253925377  Thu Jun 30 11:57:08 +0000 2022   \n",
       "22  1542644307315900416  Thu Jun 30 23:00:38 +0000 2022   \n",
       "23  1542368838892879875  Thu Jun 30 04:46:01 +0000 2022   \n",
       "24  1540778449719025664  Sat Jun 25 19:26:23 +0000 2022   \n",
       "25  1541400160902815745  Mon Jun 27 12:36:50 +0000 2022   \n",
       "26  1539940143850741762  Thu Jun 23 11:55:15 +0000 2022   \n",
       "27  1539975991212118017  Thu Jun 23 14:17:42 +0000 2022   \n",
       "28  1542138018500411392  Wed Jun 29 13:28:49 +0000 2022   \n",
       "29  1541815737408446466  Tue Jun 28 16:08:12 +0000 2022   \n",
       "30  1540422895238877192  Fri Jun 24 19:53:32 +0000 2022   \n",
       "31  1539986709685092352  Thu Jun 23 15:00:17 +0000 2022   \n",
       "32  1540045712733351937  Thu Jun 23 18:54:45 +0000 2022   \n",
       "33  1539983775148408837  Thu Jun 23 14:48:38 +0000 2022   \n",
       "34  1542170511999995908  Wed Jun 29 15:37:56 +0000 2022   \n",
       "35  1540052701563731968  Thu Jun 23 19:22:31 +0000 2022   \n",
       "36  1541423688272302080  Mon Jun 27 14:10:20 +0000 2022   \n",
       "37  1540457742023933958  Fri Jun 24 22:12:00 +0000 2022   \n",
       "38  1539894789038022663  Thu Jun 23 08:55:02 +0000 2022   \n",
       "39  1539892385932533760  Thu Jun 23 08:45:29 +0000 2022   \n",
       "40  1539908890023923714  Thu Jun 23 09:51:04 +0000 2022   \n",
       "41  1539902800175534080  Thu Jun 23 09:26:52 +0000 2022   \n",
       "42  1539935713776615426  Thu Jun 23 11:37:39 +0000 2022   \n",
       "43  1539920749762420736  Thu Jun 23 10:38:11 +0000 2022   \n",
       "44  1539922047467495425  Thu Jun 23 10:43:21 +0000 2022   \n",
       "45  1539929278673870848  Thu Jun 23 11:12:05 +0000 2022   \n",
       "46  1539898826357895168  Thu Jun 23 09:11:04 +0000 2022   \n",
       "47  1539929665606803456  Thu Jun 23 11:13:37 +0000 2022   \n",
       "\n",
       "                                            full_text  truncated  retweets  \\\n",
       "0   Friday I'm in love 😍\\nWhich #Crypto will be my...      False       908   \n",
       "1   We have another concurrent bear flag shown on ...      False       231   \n",
       "2   Breaking! Voyager has suspended withdrawals! #...      False       183   \n",
       "3   Many of the world's richest and most famous in...      False       138   \n",
       "4   I am just going to keep stacking #bitcoin and ...      False       141   \n",
       "5   El Salvador has doubled down on its #bitcoin c...      False        97   \n",
       "6   Top #Bitcoin whale accumulates 4816 BTC, spend...      False        99   \n",
       "7   What do the Terra Luna, Celsius, and Voyager f...      False        71   \n",
       "8   Mechanism by which bitcoin/cryptos CAUSE infla...      False       135   \n",
       "9   During the last seven days, #LUNC has risen 96...      False       113   \n",
       "10  The CFTC has taken action against South Africa...      False        47   \n",
       "11  Which crypto coin to invest in right now? I’m ...      False       249   \n",
       "12  Bitcoin falls below $19,000, further shaking c...      False        54   \n",
       "13  Deutsche Bank expects #bitcoin to rise to $28K...      False        78   \n",
       "14  #Coinbase has revealed its plan to expand in s...      False        84   \n",
       "15  #EU seeks agreement on a broad regulatory fram...      False        48   \n",
       "16  What is #Blockchain Technology? How does Block...      False        19   \n",
       "17  Bitcoin falls below $19,000, further shaking c...      False        66   \n",
       "18  One Year Return:\\n\\nPaypal - Down 75%\\nNetflix...      False        15   \n",
       "19  Deutsche Bank predicts that Bitcoin's price co...      False        29   \n",
       "20  We have an AMA with @_bitszer at 8 PM UTC.\\n\\n...      False        77   \n",
       "21  GM guys 🔥\\n\\nWhat #Crypto should I buy?\\n\\nWha...      False       984   \n",
       "22  \"The big takeaway for me is that this is not a...      False        59   \n",
       "23  Everyone is talking about bearish things, but ...      False       458   \n",
       "24  I will send TWENTY people $100 each in #Bitcoi...      False      1502   \n",
       "25  Goldman Sachs' crypto journey:\\n\\n2017: Bitcoi...      False       688   \n",
       "26  🎮 While everyone has their eyes on #BTC, #P2E ...      False      1490   \n",
       "27  Headlines in 5 years:\\n\\n\"Bitcoin crashes from...      False       662   \n",
       "28  JUST IN: #Bitcoin and crypto hedge fund Three ...      False       339   \n",
       "29  I have 10 #BNB to invest! \\nWhat’s is the next...      False      1015   \n",
       "30  Last 48 hrs:\\n🔸#Binance at Zero Point Conf at ...      False       508   \n",
       "31  📢 CONTEST ALERT 📢\\n\\nFriyay comes early! Here'...      False       911   \n",
       "32  Thanks @Cointelegraph for having me on to expl...      False       295   \n",
       "33  JUST IN - Former UK Chief Financial Minister: ...      False       452   \n",
       "34  JUST IN - 🇷🇺 Head of Russia House Finance Comm...      False       348   \n",
       "35  Who wouldn’t be bullish on #Crypto when they w...      False       335   \n",
       "36  BREAKING: Crypto brokerage Voyager Digital has...      False       283   \n",
       "37  Former Crypto Billionaire Insists Bitcoin Will...      False       167   \n",
       "38  Choose your #crypto team:\\n\\nTeam 🅰️          ...      False       119   \n",
       "39  I do have some #Bitcoin and #crypto people as ...      False        65   \n",
       "40  Rolex and Patek watches are proving timely inv...      False        58   \n",
       "41  @tante While Bitcoin is technically cryptocurr...      False        22   \n",
       "42  Crypto chaos. Bitcoin is down about 70% since ...      False        17   \n",
       "43  Don't miss the #ByBit $4,450 Deposit Blast-Off...      False        19   \n",
       "44  Introducing @RobMcNealy, panelist for the spac...      False        33   \n",
       "45  11 Times Elon 'Dogefather' Musk Told People to...      False        24   \n",
       "46  (3/6) How will TDS be deducted on Crypto - Cry...      False        37   \n",
       "47  Don’t forget to follow Bitcoin․com News on Tik...      False        18   \n",
       "\n",
       "          user_name  user_verified  user_followers  \\\n",
       "0   mariapazdelgado           True          161575   \n",
       "1   OfficialTravlad           True          316749   \n",
       "2     TheCryptoLark           True         1023689   \n",
       "3     TheCryptoLark           True         1023689   \n",
       "4     TheCryptoLark           True         1023689   \n",
       "5             BTCTN           True         2633133   \n",
       "6     WhaleCoinTalk           True          132871   \n",
       "7     Bitboy_Crypto           True          858468   \n",
       "8           nntaleb           True          871356   \n",
       "9             BTCTN           True         2633133   \n",
       "10            BTCTN           True         2633133   \n",
       "11        souljaboy           True         5528518   \n",
       "12          Reuters           True        25344343   \n",
       "13            BTCTN           True         2633133   \n",
       "14            BTCTN           True         2633133   \n",
       "15            BTCTN           True         2633133   \n",
       "16       KirkDBorne           True          326847   \n",
       "17          Reuters           True        25344343   \n",
       "18     ToddHagopian           True           61071   \n",
       "19           crypto           True          923657   \n",
       "20      GollumsGems           True           30205   \n",
       "21   lucasvelascook           True          244358   \n",
       "22         CoinDesk           True         2889508   \n",
       "23      ki_young_ju           True          301729   \n",
       "24  OfficialTravlad           True          316749   \n",
       "25      Blockworks_           True          350466   \n",
       "26  CryptoCoinCoach           True           49070   \n",
       "27          danheld           True          612422   \n",
       "28  BitcoinMagazine           True         2552175   \n",
       "29   lucasvelascook           True          244358   \n",
       "30       cz_binance           True         6554023   \n",
       "31  CoinSwitchKuber           True          102878   \n",
       "32    coryklippsten           True          161342   \n",
       "33  BitcoinMagazine           True         2552175   \n",
       "34  BitcoinMagazine           True         2552175   \n",
       "35  OfficialTravlad           True          316749   \n",
       "36      CryptoWhale           True          525009   \n",
       "37     ForbesCrypto           True          495363   \n",
       "38      TheMoonCarl           True         1135456   \n",
       "39            tante           True           31006   \n",
       "40         business           True         8409569   \n",
       "41             lopp           True          404577   \n",
       "42      BloombergTV           True          687248   \n",
       "43    AltCryptoGems           True          202011   \n",
       "44      MarioNawfal           True           60818   \n",
       "45          Gizmodo           True         2809562   \n",
       "46     CryptooIndia           True          237849   \n",
       "47            BTCTN           True         2633133   \n",
       "\n",
       "                                       user_image_url ticker tweet_finBERT  \\\n",
       "0   http://pbs.twimg.com/profile_images/1512065127...    BTC       neutral   \n",
       "1   http://pbs.twimg.com/profile_images/1542527100...    BTC       neutral   \n",
       "2   http://pbs.twimg.com/profile_images/1482889740...    BTC      negative   \n",
       "3   http://pbs.twimg.com/profile_images/1482889740...    BTC       neutral   \n",
       "4   http://pbs.twimg.com/profile_images/1482889740...    BTC       neutral   \n",
       "5   http://pbs.twimg.com/profile_images/1140965421...    BTC      negative   \n",
       "6   http://pbs.twimg.com/profile_images/1495764154...    BTC       neutral   \n",
       "7   http://pbs.twimg.com/profile_images/1503382435...    BTC       neutral   \n",
       "8   http://pbs.twimg.com/profile_images/1200820286...    BTC       neutral   \n",
       "9   http://pbs.twimg.com/profile_images/1140965421...    BTC      positive   \n",
       "10  http://pbs.twimg.com/profile_images/1140965421...    BTC       neutral   \n",
       "11  http://pbs.twimg.com/profile_images/1542508381...    BTC       neutral   \n",
       "12  http://pbs.twimg.com/profile_images/1194751949...    BTC      negative   \n",
       "13  http://pbs.twimg.com/profile_images/1140965421...    BTC      positive   \n",
       "14  http://pbs.twimg.com/profile_images/1140965421...    BTC       neutral   \n",
       "15  http://pbs.twimg.com/profile_images/1140965421...    BTC      positive   \n",
       "16  http://pbs.twimg.com/profile_images/1112733580...    BTC       neutral   \n",
       "17  http://pbs.twimg.com/profile_images/1194751949...    BTC      negative   \n",
       "18  http://pbs.twimg.com/profile_images/1522689116...    BTC      negative   \n",
       "19  http://pbs.twimg.com/profile_images/1483830321...    BTC      positive   \n",
       "20  http://pbs.twimg.com/profile_images/1524397405...    BTC       neutral   \n",
       "21  http://pbs.twimg.com/profile_images/1521554696...    BTC       neutral   \n",
       "22  http://pbs.twimg.com/profile_images/1430879040...    BTC       neutral   \n",
       "23  http://pbs.twimg.com/profile_images/1527757002...    BTC      negative   \n",
       "24  http://pbs.twimg.com/profile_images/1542527100...    BTC       neutral   \n",
       "25  http://pbs.twimg.com/profile_images/1529547296...    BTC       neutral   \n",
       "26  http://pbs.twimg.com/profile_images/1486682622...    BTC      positive   \n",
       "27  http://pbs.twimg.com/profile_images/1366113307...    BTC       neutral   \n",
       "28  http://pbs.twimg.com/profile_images/1444022922...    BTC      negative   \n",
       "29  http://pbs.twimg.com/profile_images/1521554696...    BTC       neutral   \n",
       "30  http://pbs.twimg.com/profile_images/1520776623...    BTC       neutral   \n",
       "31  http://pbs.twimg.com/profile_images/1258076387...    BTC       neutral   \n",
       "32  http://pbs.twimg.com/profile_images/1498317659...    BTC       neutral   \n",
       "33  http://pbs.twimg.com/profile_images/1444022922...    BTC      negative   \n",
       "34  http://pbs.twimg.com/profile_images/1444022922...    BTC       neutral   \n",
       "35  http://pbs.twimg.com/profile_images/1542527100...    BTC       neutral   \n",
       "36  http://pbs.twimg.com/profile_images/1519079872...    BTC      negative   \n",
       "37  http://pbs.twimg.com/profile_images/1379183988...    BTC       neutral   \n",
       "38  http://pbs.twimg.com/profile_images/1490246864...    BTC       neutral   \n",
       "39  http://pbs.twimg.com/profile_images/1273617971...    BTC       neutral   \n",
       "40  http://pbs.twimg.com/profile_images/9918180202...    BTC      positive   \n",
       "41  http://pbs.twimg.com/profile_images/1362539312...    BTC       neutral   \n",
       "42  http://pbs.twimg.com/profile_images/9917920420...    BTC      negative   \n",
       "43  http://pbs.twimg.com/profile_images/1513864361...    BTC       neutral   \n",
       "44  http://pbs.twimg.com/profile_images/1492271795...    BTC       neutral   \n",
       "45  http://pbs.twimg.com/profile_images/5905087400...    BTC       neutral   \n",
       "46  http://pbs.twimg.com/profile_images/1540914609...    BTC       neutral   \n",
       "47  http://pbs.twimg.com/profile_images/1140965421...    BTC       neutral   \n",
       "\n",
       "   tweet_financialBERT  \n",
       "0              neutral  \n",
       "1              neutral  \n",
       "2              neutral  \n",
       "3              neutral  \n",
       "4              neutral  \n",
       "5             negative  \n",
       "6              neutral  \n",
       "7              neutral  \n",
       "8              neutral  \n",
       "9             positive  \n",
       "10            positive  \n",
       "11             neutral  \n",
       "12             neutral  \n",
       "13            positive  \n",
       "14            positive  \n",
       "15             neutral  \n",
       "16             neutral  \n",
       "17             neutral  \n",
       "18            negative  \n",
       "19            positive  \n",
       "20            positive  \n",
       "21             neutral  \n",
       "22             neutral  \n",
       "23             neutral  \n",
       "24             neutral  \n",
       "25             neutral  \n",
       "26             neutral  \n",
       "27             neutral  \n",
       "28             neutral  \n",
       "29             neutral  \n",
       "30             neutral  \n",
       "31             neutral  \n",
       "32             neutral  \n",
       "33            negative  \n",
       "34             neutral  \n",
       "35            positive  \n",
       "36            negative  \n",
       "37             neutral  \n",
       "38             neutral  \n",
       "39             neutral  \n",
       "40            positive  \n",
       "41             neutral  \n",
       "42            negative  \n",
       "43             neutral  \n",
       "44             neutral  \n",
       "45             neutral  \n",
       "46             neutral  \n",
       "47             neutral  "
      ]
     },
     "execution_count": 84,
     "metadata": {},
     "output_type": "execute_result"
    }
   ],
   "source": [
    "df_twt"
   ]
  },
  {
   "cell_type": "code",
   "execution_count": 85,
   "metadata": {},
   "outputs": [
    {
     "data": {
      "text/plain": [
       "'Who wouldn’t be bullish on #Crypto when they wake up and open up their @binance app and see this….. #Bitcoin #BNB #ETH https://t.co/Ig2khFS3Az'"
      ]
     },
     "execution_count": 85,
     "metadata": {},
     "output_type": "execute_result"
    }
   ],
   "source": [
    "df_twt['full_text'].iloc[35]"
   ]
  },
  {
   "cell_type": "code",
   "execution_count": 86,
   "metadata": {},
   "outputs": [
    {
     "data": {
      "text/html": [
       "<div>\n",
       "<style scoped>\n",
       "    .dataframe tbody tr th:only-of-type {\n",
       "        vertical-align: middle;\n",
       "    }\n",
       "\n",
       "    .dataframe tbody tr th {\n",
       "        vertical-align: top;\n",
       "    }\n",
       "\n",
       "    .dataframe thead th {\n",
       "        text-align: right;\n",
       "    }\n",
       "</style>\n",
       "<table border=\"1\" class=\"dataframe\">\n",
       "  <thead>\n",
       "    <tr style=\"text-align: right;\">\n",
       "      <th></th>\n",
       "      <th>date</th>\n",
       "      <th>tweet_finBERT</th>\n",
       "      <th>count</th>\n",
       "    </tr>\n",
       "  </thead>\n",
       "  <tbody>\n",
       "    <tr>\n",
       "      <th>0</th>\n",
       "      <td>2022-06-23</td>\n",
       "      <td>negative</td>\n",
       "      <td>2</td>\n",
       "    </tr>\n",
       "    <tr>\n",
       "      <th>1</th>\n",
       "      <td>2022-06-23</td>\n",
       "      <td>neutral</td>\n",
       "      <td>12</td>\n",
       "    </tr>\n",
       "    <tr>\n",
       "      <th>2</th>\n",
       "      <td>2022-06-23</td>\n",
       "      <td>positive</td>\n",
       "      <td>2</td>\n",
       "    </tr>\n",
       "    <tr>\n",
       "      <th>3</th>\n",
       "      <td>2022-06-24</td>\n",
       "      <td>neutral</td>\n",
       "      <td>2</td>\n",
       "    </tr>\n",
       "    <tr>\n",
       "      <th>4</th>\n",
       "      <td>2022-06-25</td>\n",
       "      <td>neutral</td>\n",
       "      <td>1</td>\n",
       "    </tr>\n",
       "    <tr>\n",
       "      <th>5</th>\n",
       "      <td>2022-06-27</td>\n",
       "      <td>negative</td>\n",
       "      <td>1</td>\n",
       "    </tr>\n",
       "    <tr>\n",
       "      <th>6</th>\n",
       "      <td>2022-06-27</td>\n",
       "      <td>neutral</td>\n",
       "      <td>1</td>\n",
       "    </tr>\n",
       "    <tr>\n",
       "      <th>7</th>\n",
       "      <td>2022-06-28</td>\n",
       "      <td>neutral</td>\n",
       "      <td>1</td>\n",
       "    </tr>\n",
       "    <tr>\n",
       "      <th>8</th>\n",
       "      <td>2022-06-29</td>\n",
       "      <td>negative</td>\n",
       "      <td>1</td>\n",
       "    </tr>\n",
       "    <tr>\n",
       "      <th>9</th>\n",
       "      <td>2022-06-29</td>\n",
       "      <td>neutral</td>\n",
       "      <td>1</td>\n",
       "    </tr>\n",
       "    <tr>\n",
       "      <th>10</th>\n",
       "      <td>2022-06-30</td>\n",
       "      <td>negative</td>\n",
       "      <td>2</td>\n",
       "    </tr>\n",
       "    <tr>\n",
       "      <th>11</th>\n",
       "      <td>2022-06-30</td>\n",
       "      <td>neutral</td>\n",
       "      <td>5</td>\n",
       "    </tr>\n",
       "    <tr>\n",
       "      <th>12</th>\n",
       "      <td>2022-07-01</td>\n",
       "      <td>negative</td>\n",
       "      <td>4</td>\n",
       "    </tr>\n",
       "    <tr>\n",
       "      <th>13</th>\n",
       "      <td>2022-07-01</td>\n",
       "      <td>neutral</td>\n",
       "      <td>6</td>\n",
       "    </tr>\n",
       "    <tr>\n",
       "      <th>14</th>\n",
       "      <td>2022-07-01</td>\n",
       "      <td>positive</td>\n",
       "      <td>4</td>\n",
       "    </tr>\n",
       "    <tr>\n",
       "      <th>15</th>\n",
       "      <td>2022-07-02</td>\n",
       "      <td>neutral</td>\n",
       "      <td>3</td>\n",
       "    </tr>\n",
       "  </tbody>\n",
       "</table>\n",
       "</div>"
      ],
      "text/plain": [
       "         date tweet_finBERT  count\n",
       "0  2022-06-23      negative      2\n",
       "1  2022-06-23       neutral     12\n",
       "2  2022-06-23      positive      2\n",
       "3  2022-06-24       neutral      2\n",
       "4  2022-06-25       neutral      1\n",
       "5  2022-06-27      negative      1\n",
       "6  2022-06-27       neutral      1\n",
       "7  2022-06-28       neutral      1\n",
       "8  2022-06-29      negative      1\n",
       "9  2022-06-29       neutral      1\n",
       "10 2022-06-30      negative      2\n",
       "11 2022-06-30       neutral      5\n",
       "12 2022-07-01      negative      4\n",
       "13 2022-07-01       neutral      6\n",
       "14 2022-07-01      positive      4\n",
       "15 2022-07-02       neutral      3"
      ]
     },
     "execution_count": 86,
     "metadata": {},
     "output_type": "execute_result"
    }
   ],
   "source": [
    "month_number = {'Jan':'01', 'Feb':'02', 'Mar':'03', 'Apr':'04', 'May': '05','Jun':'06', 'Jul':'07', 'Aug':'08', 'Sep':'09', 'Oct':'10', 'Nov':'11', 'Dec':'12'}\n",
    "\n",
    "df_twt['day'] = df_twt['created_at'].str[8:10]\n",
    "df_twt['month'] = df_twt['created_at'].str[4:7].map(month_number)\n",
    "df_twt['year'] = df_twt['created_at'].str[-4:]\n",
    "\n",
    "df_twt['date'] = df_twt['year'] + '-' + df_twt['month'] + '-' + df_twt['day'] \n",
    "#Twitter plots Data\n",
    "df_twt[\"total_news_day\"] = df_twt.groupby('date')['id'].transform(len)\n",
    "twt_df = df_twt.groupby(['date', 'tweet_finBERT']).size().reset_index()\n",
    "twt_df.rename({0:'count'}, axis = 1, inplace = True)\n",
    "twt_df['date'] = pd.to_datetime(twt_df['date'], format='%Y-%m-%d')\n",
    "twt_df"
   ]
  },
  {
   "cell_type": "markdown",
   "metadata": {},
   "source": [
    "## Dash plots"
   ]
  },
  {
   "cell_type": "code",
   "execution_count": 87,
   "metadata": {},
   "outputs": [],
   "source": [
    "import plotly.express as px\n",
    "def sent_pie(df, count, col_name, plot_title):\n",
    "    fig = px.pie(df, values = count, names = col_name, template='plotly_dark', title = plot_title)\n",
    "    fig.update_layout(\n",
    "    legend_traceorder=\"reversed\",\n",
    "    title={\n",
    "        'y':0.95,\n",
    "        'x':0.5,\n",
    "        'xanchor': 'center',\n",
    "        'yanchor': 'top',\n",
    "        'font': dict(\n",
    "        #family=\"Courier New, monospace\",\n",
    "        size=25)\n",
    "        },\n",
    "    )\n",
    "    \n",
    "    return fig\n",
    "def sent_bar(df, date, count, col_name, plot_title):\n",
    "    fig = px.bar(df, x=date, y=count, color=col_name, template='plotly_dark', category_orders= {col_name: [\"neutral\", \"negative\", \"positive\"]}, title= plot_title)\n",
    "    fig.update_layout(\n",
    "        legend_traceorder=\"reversed\",\n",
    "        legend_title = '',\n",
    "        title={\n",
    "            'y':0.95,\n",
    "            'x':0.5,\n",
    "            'xanchor': 'center',\n",
    "            'yanchor': 'top',\n",
    "            'font': dict(\n",
    "            #family=\"Courier New, monospace\",\n",
    "            size=25)\n",
    "            },\n",
    "        )\n",
    "    fig.layout.xaxis.dtick = 'D1'\n",
    "    return fig"
   ]
  },
  {
   "cell_type": "code",
   "execution_count": 88,
   "metadata": {},
   "outputs": [
    {
     "data": {
      "application/vnd.plotly.v1+json": {
       "config": {
        "plotlyServerURL": "https://plot.ly"
       },
       "data": [
        {
         "domain": {
          "x": [
           0,
           1
          ],
          "y": [
           0,
           1
          ]
         },
         "hovertemplate": "tweet_finBERT=%{label}<br>count=%{value}<extra></extra>",
         "labels": [
          "negative",
          "neutral",
          "positive",
          "neutral",
          "neutral",
          "negative",
          "neutral",
          "neutral",
          "negative",
          "neutral",
          "negative",
          "neutral",
          "negative",
          "neutral",
          "positive",
          "neutral"
         ],
         "legendgroup": "",
         "name": "",
         "showlegend": true,
         "type": "pie",
         "values": [
          2,
          12,
          2,
          2,
          1,
          1,
          1,
          1,
          1,
          1,
          2,
          5,
          4,
          6,
          4,
          3
         ]
        }
       ],
       "layout": {
        "legend": {
         "tracegroupgap": 0,
         "traceorder": "reversed"
        },
        "template": {
         "data": {
          "bar": [
           {
            "error_x": {
             "color": "#f2f5fa"
            },
            "error_y": {
             "color": "#f2f5fa"
            },
            "marker": {
             "line": {
              "color": "rgb(17,17,17)",
              "width": 0.5
             },
             "pattern": {
              "fillmode": "overlay",
              "size": 10,
              "solidity": 0.2
             }
            },
            "type": "bar"
           }
          ],
          "barpolar": [
           {
            "marker": {
             "line": {
              "color": "rgb(17,17,17)",
              "width": 0.5
             },
             "pattern": {
              "fillmode": "overlay",
              "size": 10,
              "solidity": 0.2
             }
            },
            "type": "barpolar"
           }
          ],
          "carpet": [
           {
            "aaxis": {
             "endlinecolor": "#A2B1C6",
             "gridcolor": "#506784",
             "linecolor": "#506784",
             "minorgridcolor": "#506784",
             "startlinecolor": "#A2B1C6"
            },
            "baxis": {
             "endlinecolor": "#A2B1C6",
             "gridcolor": "#506784",
             "linecolor": "#506784",
             "minorgridcolor": "#506784",
             "startlinecolor": "#A2B1C6"
            },
            "type": "carpet"
           }
          ],
          "choropleth": [
           {
            "colorbar": {
             "outlinewidth": 0,
             "ticks": ""
            },
            "type": "choropleth"
           }
          ],
          "contour": [
           {
            "colorbar": {
             "outlinewidth": 0,
             "ticks": ""
            },
            "colorscale": [
             [
              0,
              "#0d0887"
             ],
             [
              0.1111111111111111,
              "#46039f"
             ],
             [
              0.2222222222222222,
              "#7201a8"
             ],
             [
              0.3333333333333333,
              "#9c179e"
             ],
             [
              0.4444444444444444,
              "#bd3786"
             ],
             [
              0.5555555555555556,
              "#d8576b"
             ],
             [
              0.6666666666666666,
              "#ed7953"
             ],
             [
              0.7777777777777778,
              "#fb9f3a"
             ],
             [
              0.8888888888888888,
              "#fdca26"
             ],
             [
              1,
              "#f0f921"
             ]
            ],
            "type": "contour"
           }
          ],
          "contourcarpet": [
           {
            "colorbar": {
             "outlinewidth": 0,
             "ticks": ""
            },
            "type": "contourcarpet"
           }
          ],
          "heatmap": [
           {
            "colorbar": {
             "outlinewidth": 0,
             "ticks": ""
            },
            "colorscale": [
             [
              0,
              "#0d0887"
             ],
             [
              0.1111111111111111,
              "#46039f"
             ],
             [
              0.2222222222222222,
              "#7201a8"
             ],
             [
              0.3333333333333333,
              "#9c179e"
             ],
             [
              0.4444444444444444,
              "#bd3786"
             ],
             [
              0.5555555555555556,
              "#d8576b"
             ],
             [
              0.6666666666666666,
              "#ed7953"
             ],
             [
              0.7777777777777778,
              "#fb9f3a"
             ],
             [
              0.8888888888888888,
              "#fdca26"
             ],
             [
              1,
              "#f0f921"
             ]
            ],
            "type": "heatmap"
           }
          ],
          "heatmapgl": [
           {
            "colorbar": {
             "outlinewidth": 0,
             "ticks": ""
            },
            "colorscale": [
             [
              0,
              "#0d0887"
             ],
             [
              0.1111111111111111,
              "#46039f"
             ],
             [
              0.2222222222222222,
              "#7201a8"
             ],
             [
              0.3333333333333333,
              "#9c179e"
             ],
             [
              0.4444444444444444,
              "#bd3786"
             ],
             [
              0.5555555555555556,
              "#d8576b"
             ],
             [
              0.6666666666666666,
              "#ed7953"
             ],
             [
              0.7777777777777778,
              "#fb9f3a"
             ],
             [
              0.8888888888888888,
              "#fdca26"
             ],
             [
              1,
              "#f0f921"
             ]
            ],
            "type": "heatmapgl"
           }
          ],
          "histogram": [
           {
            "marker": {
             "pattern": {
              "fillmode": "overlay",
              "size": 10,
              "solidity": 0.2
             }
            },
            "type": "histogram"
           }
          ],
          "histogram2d": [
           {
            "colorbar": {
             "outlinewidth": 0,
             "ticks": ""
            },
            "colorscale": [
             [
              0,
              "#0d0887"
             ],
             [
              0.1111111111111111,
              "#46039f"
             ],
             [
              0.2222222222222222,
              "#7201a8"
             ],
             [
              0.3333333333333333,
              "#9c179e"
             ],
             [
              0.4444444444444444,
              "#bd3786"
             ],
             [
              0.5555555555555556,
              "#d8576b"
             ],
             [
              0.6666666666666666,
              "#ed7953"
             ],
             [
              0.7777777777777778,
              "#fb9f3a"
             ],
             [
              0.8888888888888888,
              "#fdca26"
             ],
             [
              1,
              "#f0f921"
             ]
            ],
            "type": "histogram2d"
           }
          ],
          "histogram2dcontour": [
           {
            "colorbar": {
             "outlinewidth": 0,
             "ticks": ""
            },
            "colorscale": [
             [
              0,
              "#0d0887"
             ],
             [
              0.1111111111111111,
              "#46039f"
             ],
             [
              0.2222222222222222,
              "#7201a8"
             ],
             [
              0.3333333333333333,
              "#9c179e"
             ],
             [
              0.4444444444444444,
              "#bd3786"
             ],
             [
              0.5555555555555556,
              "#d8576b"
             ],
             [
              0.6666666666666666,
              "#ed7953"
             ],
             [
              0.7777777777777778,
              "#fb9f3a"
             ],
             [
              0.8888888888888888,
              "#fdca26"
             ],
             [
              1,
              "#f0f921"
             ]
            ],
            "type": "histogram2dcontour"
           }
          ],
          "mesh3d": [
           {
            "colorbar": {
             "outlinewidth": 0,
             "ticks": ""
            },
            "type": "mesh3d"
           }
          ],
          "parcoords": [
           {
            "line": {
             "colorbar": {
              "outlinewidth": 0,
              "ticks": ""
             }
            },
            "type": "parcoords"
           }
          ],
          "pie": [
           {
            "automargin": true,
            "type": "pie"
           }
          ],
          "scatter": [
           {
            "marker": {
             "line": {
              "color": "#283442"
             }
            },
            "type": "scatter"
           }
          ],
          "scatter3d": [
           {
            "line": {
             "colorbar": {
              "outlinewidth": 0,
              "ticks": ""
             }
            },
            "marker": {
             "colorbar": {
              "outlinewidth": 0,
              "ticks": ""
             }
            },
            "type": "scatter3d"
           }
          ],
          "scattercarpet": [
           {
            "marker": {
             "colorbar": {
              "outlinewidth": 0,
              "ticks": ""
             }
            },
            "type": "scattercarpet"
           }
          ],
          "scattergeo": [
           {
            "marker": {
             "colorbar": {
              "outlinewidth": 0,
              "ticks": ""
             }
            },
            "type": "scattergeo"
           }
          ],
          "scattergl": [
           {
            "marker": {
             "line": {
              "color": "#283442"
             }
            },
            "type": "scattergl"
           }
          ],
          "scattermapbox": [
           {
            "marker": {
             "colorbar": {
              "outlinewidth": 0,
              "ticks": ""
             }
            },
            "type": "scattermapbox"
           }
          ],
          "scatterpolar": [
           {
            "marker": {
             "colorbar": {
              "outlinewidth": 0,
              "ticks": ""
             }
            },
            "type": "scatterpolar"
           }
          ],
          "scatterpolargl": [
           {
            "marker": {
             "colorbar": {
              "outlinewidth": 0,
              "ticks": ""
             }
            },
            "type": "scatterpolargl"
           }
          ],
          "scatterternary": [
           {
            "marker": {
             "colorbar": {
              "outlinewidth": 0,
              "ticks": ""
             }
            },
            "type": "scatterternary"
           }
          ],
          "surface": [
           {
            "colorbar": {
             "outlinewidth": 0,
             "ticks": ""
            },
            "colorscale": [
             [
              0,
              "#0d0887"
             ],
             [
              0.1111111111111111,
              "#46039f"
             ],
             [
              0.2222222222222222,
              "#7201a8"
             ],
             [
              0.3333333333333333,
              "#9c179e"
             ],
             [
              0.4444444444444444,
              "#bd3786"
             ],
             [
              0.5555555555555556,
              "#d8576b"
             ],
             [
              0.6666666666666666,
              "#ed7953"
             ],
             [
              0.7777777777777778,
              "#fb9f3a"
             ],
             [
              0.8888888888888888,
              "#fdca26"
             ],
             [
              1,
              "#f0f921"
             ]
            ],
            "type": "surface"
           }
          ],
          "table": [
           {
            "cells": {
             "fill": {
              "color": "#506784"
             },
             "line": {
              "color": "rgb(17,17,17)"
             }
            },
            "header": {
             "fill": {
              "color": "#2a3f5f"
             },
             "line": {
              "color": "rgb(17,17,17)"
             }
            },
            "type": "table"
           }
          ]
         },
         "layout": {
          "annotationdefaults": {
           "arrowcolor": "#f2f5fa",
           "arrowhead": 0,
           "arrowwidth": 1
          },
          "autotypenumbers": "strict",
          "coloraxis": {
           "colorbar": {
            "outlinewidth": 0,
            "ticks": ""
           }
          },
          "colorscale": {
           "diverging": [
            [
             0,
             "#8e0152"
            ],
            [
             0.1,
             "#c51b7d"
            ],
            [
             0.2,
             "#de77ae"
            ],
            [
             0.3,
             "#f1b6da"
            ],
            [
             0.4,
             "#fde0ef"
            ],
            [
             0.5,
             "#f7f7f7"
            ],
            [
             0.6,
             "#e6f5d0"
            ],
            [
             0.7,
             "#b8e186"
            ],
            [
             0.8,
             "#7fbc41"
            ],
            [
             0.9,
             "#4d9221"
            ],
            [
             1,
             "#276419"
            ]
           ],
           "sequential": [
            [
             0,
             "#0d0887"
            ],
            [
             0.1111111111111111,
             "#46039f"
            ],
            [
             0.2222222222222222,
             "#7201a8"
            ],
            [
             0.3333333333333333,
             "#9c179e"
            ],
            [
             0.4444444444444444,
             "#bd3786"
            ],
            [
             0.5555555555555556,
             "#d8576b"
            ],
            [
             0.6666666666666666,
             "#ed7953"
            ],
            [
             0.7777777777777778,
             "#fb9f3a"
            ],
            [
             0.8888888888888888,
             "#fdca26"
            ],
            [
             1,
             "#f0f921"
            ]
           ],
           "sequentialminus": [
            [
             0,
             "#0d0887"
            ],
            [
             0.1111111111111111,
             "#46039f"
            ],
            [
             0.2222222222222222,
             "#7201a8"
            ],
            [
             0.3333333333333333,
             "#9c179e"
            ],
            [
             0.4444444444444444,
             "#bd3786"
            ],
            [
             0.5555555555555556,
             "#d8576b"
            ],
            [
             0.6666666666666666,
             "#ed7953"
            ],
            [
             0.7777777777777778,
             "#fb9f3a"
            ],
            [
             0.8888888888888888,
             "#fdca26"
            ],
            [
             1,
             "#f0f921"
            ]
           ]
          },
          "colorway": [
           "#636efa",
           "#EF553B",
           "#00cc96",
           "#ab63fa",
           "#FFA15A",
           "#19d3f3",
           "#FF6692",
           "#B6E880",
           "#FF97FF",
           "#FECB52"
          ],
          "font": {
           "color": "#f2f5fa"
          },
          "geo": {
           "bgcolor": "rgb(17,17,17)",
           "lakecolor": "rgb(17,17,17)",
           "landcolor": "rgb(17,17,17)",
           "showlakes": true,
           "showland": true,
           "subunitcolor": "#506784"
          },
          "hoverlabel": {
           "align": "left"
          },
          "hovermode": "closest",
          "mapbox": {
           "style": "dark"
          },
          "paper_bgcolor": "rgb(17,17,17)",
          "plot_bgcolor": "rgb(17,17,17)",
          "polar": {
           "angularaxis": {
            "gridcolor": "#506784",
            "linecolor": "#506784",
            "ticks": ""
           },
           "bgcolor": "rgb(17,17,17)",
           "radialaxis": {
            "gridcolor": "#506784",
            "linecolor": "#506784",
            "ticks": ""
           }
          },
          "scene": {
           "xaxis": {
            "backgroundcolor": "rgb(17,17,17)",
            "gridcolor": "#506784",
            "gridwidth": 2,
            "linecolor": "#506784",
            "showbackground": true,
            "ticks": "",
            "zerolinecolor": "#C8D4E3"
           },
           "yaxis": {
            "backgroundcolor": "rgb(17,17,17)",
            "gridcolor": "#506784",
            "gridwidth": 2,
            "linecolor": "#506784",
            "showbackground": true,
            "ticks": "",
            "zerolinecolor": "#C8D4E3"
           },
           "zaxis": {
            "backgroundcolor": "rgb(17,17,17)",
            "gridcolor": "#506784",
            "gridwidth": 2,
            "linecolor": "#506784",
            "showbackground": true,
            "ticks": "",
            "zerolinecolor": "#C8D4E3"
           }
          },
          "shapedefaults": {
           "line": {
            "color": "#f2f5fa"
           }
          },
          "sliderdefaults": {
           "bgcolor": "#C8D4E3",
           "bordercolor": "rgb(17,17,17)",
           "borderwidth": 1,
           "tickwidth": 0
          },
          "ternary": {
           "aaxis": {
            "gridcolor": "#506784",
            "linecolor": "#506784",
            "ticks": ""
           },
           "baxis": {
            "gridcolor": "#506784",
            "linecolor": "#506784",
            "ticks": ""
           },
           "bgcolor": "rgb(17,17,17)",
           "caxis": {
            "gridcolor": "#506784",
            "linecolor": "#506784",
            "ticks": ""
           }
          },
          "title": {
           "x": 0.05
          },
          "updatemenudefaults": {
           "bgcolor": "#506784",
           "borderwidth": 0
          },
          "xaxis": {
           "automargin": true,
           "gridcolor": "#283442",
           "linecolor": "#506784",
           "ticks": "",
           "title": {
            "standoff": 15
           },
           "zerolinecolor": "#283442",
           "zerolinewidth": 2
          },
          "yaxis": {
           "automargin": true,
           "gridcolor": "#283442",
           "linecolor": "#506784",
           "ticks": "",
           "title": {
            "standoff": 15
           },
           "zerolinecolor": "#283442",
           "zerolinewidth": 2
          }
         }
        },
        "title": {
         "font": {
          "size": 25
         },
         "text": "Tweets by sentiment",
         "x": 0.5,
         "xanchor": "center",
         "y": 0.95,
         "yanchor": "top"
        }
       }
      }
     },
     "metadata": {},
     "output_type": "display_data"
    }
   ],
   "source": [
    "sent_pie(twt_df, 'count', 'tweet_finBERT', \"Tweets by sentiment\").show()"
   ]
  },
  {
   "cell_type": "code",
   "execution_count": 89,
   "metadata": {},
   "outputs": [
    {
     "data": {
      "application/vnd.plotly.v1+json": {
       "config": {
        "plotlyServerURL": "https://plot.ly"
       },
       "data": [
        {
         "domain": {
          "x": [
           0,
           1
          ],
          "y": [
           0,
           1
          ]
         },
         "hovertemplate": "title_finBERT=%{label}<br>count=%{value}<extra></extra>",
         "labels": [
          "negative",
          "neutral",
          "positive",
          "negative",
          "neutral",
          "positive",
          "negative",
          "neutral",
          "positive"
         ],
         "legendgroup": "",
         "name": "",
         "showlegend": true,
         "type": "pie",
         "values": [
          87,
          313,
          80,
          123,
          462,
          98,
          27,
          82,
          14
         ]
        }
       ],
       "layout": {
        "legend": {
         "tracegroupgap": 0,
         "traceorder": "reversed"
        },
        "template": {
         "data": {
          "bar": [
           {
            "error_x": {
             "color": "#f2f5fa"
            },
            "error_y": {
             "color": "#f2f5fa"
            },
            "marker": {
             "line": {
              "color": "rgb(17,17,17)",
              "width": 0.5
             },
             "pattern": {
              "fillmode": "overlay",
              "size": 10,
              "solidity": 0.2
             }
            },
            "type": "bar"
           }
          ],
          "barpolar": [
           {
            "marker": {
             "line": {
              "color": "rgb(17,17,17)",
              "width": 0.5
             },
             "pattern": {
              "fillmode": "overlay",
              "size": 10,
              "solidity": 0.2
             }
            },
            "type": "barpolar"
           }
          ],
          "carpet": [
           {
            "aaxis": {
             "endlinecolor": "#A2B1C6",
             "gridcolor": "#506784",
             "linecolor": "#506784",
             "minorgridcolor": "#506784",
             "startlinecolor": "#A2B1C6"
            },
            "baxis": {
             "endlinecolor": "#A2B1C6",
             "gridcolor": "#506784",
             "linecolor": "#506784",
             "minorgridcolor": "#506784",
             "startlinecolor": "#A2B1C6"
            },
            "type": "carpet"
           }
          ],
          "choropleth": [
           {
            "colorbar": {
             "outlinewidth": 0,
             "ticks": ""
            },
            "type": "choropleth"
           }
          ],
          "contour": [
           {
            "colorbar": {
             "outlinewidth": 0,
             "ticks": ""
            },
            "colorscale": [
             [
              0,
              "#0d0887"
             ],
             [
              0.1111111111111111,
              "#46039f"
             ],
             [
              0.2222222222222222,
              "#7201a8"
             ],
             [
              0.3333333333333333,
              "#9c179e"
             ],
             [
              0.4444444444444444,
              "#bd3786"
             ],
             [
              0.5555555555555556,
              "#d8576b"
             ],
             [
              0.6666666666666666,
              "#ed7953"
             ],
             [
              0.7777777777777778,
              "#fb9f3a"
             ],
             [
              0.8888888888888888,
              "#fdca26"
             ],
             [
              1,
              "#f0f921"
             ]
            ],
            "type": "contour"
           }
          ],
          "contourcarpet": [
           {
            "colorbar": {
             "outlinewidth": 0,
             "ticks": ""
            },
            "type": "contourcarpet"
           }
          ],
          "heatmap": [
           {
            "colorbar": {
             "outlinewidth": 0,
             "ticks": ""
            },
            "colorscale": [
             [
              0,
              "#0d0887"
             ],
             [
              0.1111111111111111,
              "#46039f"
             ],
             [
              0.2222222222222222,
              "#7201a8"
             ],
             [
              0.3333333333333333,
              "#9c179e"
             ],
             [
              0.4444444444444444,
              "#bd3786"
             ],
             [
              0.5555555555555556,
              "#d8576b"
             ],
             [
              0.6666666666666666,
              "#ed7953"
             ],
             [
              0.7777777777777778,
              "#fb9f3a"
             ],
             [
              0.8888888888888888,
              "#fdca26"
             ],
             [
              1,
              "#f0f921"
             ]
            ],
            "type": "heatmap"
           }
          ],
          "heatmapgl": [
           {
            "colorbar": {
             "outlinewidth": 0,
             "ticks": ""
            },
            "colorscale": [
             [
              0,
              "#0d0887"
             ],
             [
              0.1111111111111111,
              "#46039f"
             ],
             [
              0.2222222222222222,
              "#7201a8"
             ],
             [
              0.3333333333333333,
              "#9c179e"
             ],
             [
              0.4444444444444444,
              "#bd3786"
             ],
             [
              0.5555555555555556,
              "#d8576b"
             ],
             [
              0.6666666666666666,
              "#ed7953"
             ],
             [
              0.7777777777777778,
              "#fb9f3a"
             ],
             [
              0.8888888888888888,
              "#fdca26"
             ],
             [
              1,
              "#f0f921"
             ]
            ],
            "type": "heatmapgl"
           }
          ],
          "histogram": [
           {
            "marker": {
             "pattern": {
              "fillmode": "overlay",
              "size": 10,
              "solidity": 0.2
             }
            },
            "type": "histogram"
           }
          ],
          "histogram2d": [
           {
            "colorbar": {
             "outlinewidth": 0,
             "ticks": ""
            },
            "colorscale": [
             [
              0,
              "#0d0887"
             ],
             [
              0.1111111111111111,
              "#46039f"
             ],
             [
              0.2222222222222222,
              "#7201a8"
             ],
             [
              0.3333333333333333,
              "#9c179e"
             ],
             [
              0.4444444444444444,
              "#bd3786"
             ],
             [
              0.5555555555555556,
              "#d8576b"
             ],
             [
              0.6666666666666666,
              "#ed7953"
             ],
             [
              0.7777777777777778,
              "#fb9f3a"
             ],
             [
              0.8888888888888888,
              "#fdca26"
             ],
             [
              1,
              "#f0f921"
             ]
            ],
            "type": "histogram2d"
           }
          ],
          "histogram2dcontour": [
           {
            "colorbar": {
             "outlinewidth": 0,
             "ticks": ""
            },
            "colorscale": [
             [
              0,
              "#0d0887"
             ],
             [
              0.1111111111111111,
              "#46039f"
             ],
             [
              0.2222222222222222,
              "#7201a8"
             ],
             [
              0.3333333333333333,
              "#9c179e"
             ],
             [
              0.4444444444444444,
              "#bd3786"
             ],
             [
              0.5555555555555556,
              "#d8576b"
             ],
             [
              0.6666666666666666,
              "#ed7953"
             ],
             [
              0.7777777777777778,
              "#fb9f3a"
             ],
             [
              0.8888888888888888,
              "#fdca26"
             ],
             [
              1,
              "#f0f921"
             ]
            ],
            "type": "histogram2dcontour"
           }
          ],
          "mesh3d": [
           {
            "colorbar": {
             "outlinewidth": 0,
             "ticks": ""
            },
            "type": "mesh3d"
           }
          ],
          "parcoords": [
           {
            "line": {
             "colorbar": {
              "outlinewidth": 0,
              "ticks": ""
             }
            },
            "type": "parcoords"
           }
          ],
          "pie": [
           {
            "automargin": true,
            "type": "pie"
           }
          ],
          "scatter": [
           {
            "marker": {
             "line": {
              "color": "#283442"
             }
            },
            "type": "scatter"
           }
          ],
          "scatter3d": [
           {
            "line": {
             "colorbar": {
              "outlinewidth": 0,
              "ticks": ""
             }
            },
            "marker": {
             "colorbar": {
              "outlinewidth": 0,
              "ticks": ""
             }
            },
            "type": "scatter3d"
           }
          ],
          "scattercarpet": [
           {
            "marker": {
             "colorbar": {
              "outlinewidth": 0,
              "ticks": ""
             }
            },
            "type": "scattercarpet"
           }
          ],
          "scattergeo": [
           {
            "marker": {
             "colorbar": {
              "outlinewidth": 0,
              "ticks": ""
             }
            },
            "type": "scattergeo"
           }
          ],
          "scattergl": [
           {
            "marker": {
             "line": {
              "color": "#283442"
             }
            },
            "type": "scattergl"
           }
          ],
          "scattermapbox": [
           {
            "marker": {
             "colorbar": {
              "outlinewidth": 0,
              "ticks": ""
             }
            },
            "type": "scattermapbox"
           }
          ],
          "scatterpolar": [
           {
            "marker": {
             "colorbar": {
              "outlinewidth": 0,
              "ticks": ""
             }
            },
            "type": "scatterpolar"
           }
          ],
          "scatterpolargl": [
           {
            "marker": {
             "colorbar": {
              "outlinewidth": 0,
              "ticks": ""
             }
            },
            "type": "scatterpolargl"
           }
          ],
          "scatterternary": [
           {
            "marker": {
             "colorbar": {
              "outlinewidth": 0,
              "ticks": ""
             }
            },
            "type": "scatterternary"
           }
          ],
          "surface": [
           {
            "colorbar": {
             "outlinewidth": 0,
             "ticks": ""
            },
            "colorscale": [
             [
              0,
              "#0d0887"
             ],
             [
              0.1111111111111111,
              "#46039f"
             ],
             [
              0.2222222222222222,
              "#7201a8"
             ],
             [
              0.3333333333333333,
              "#9c179e"
             ],
             [
              0.4444444444444444,
              "#bd3786"
             ],
             [
              0.5555555555555556,
              "#d8576b"
             ],
             [
              0.6666666666666666,
              "#ed7953"
             ],
             [
              0.7777777777777778,
              "#fb9f3a"
             ],
             [
              0.8888888888888888,
              "#fdca26"
             ],
             [
              1,
              "#f0f921"
             ]
            ],
            "type": "surface"
           }
          ],
          "table": [
           {
            "cells": {
             "fill": {
              "color": "#506784"
             },
             "line": {
              "color": "rgb(17,17,17)"
             }
            },
            "header": {
             "fill": {
              "color": "#2a3f5f"
             },
             "line": {
              "color": "rgb(17,17,17)"
             }
            },
            "type": "table"
           }
          ]
         },
         "layout": {
          "annotationdefaults": {
           "arrowcolor": "#f2f5fa",
           "arrowhead": 0,
           "arrowwidth": 1
          },
          "autotypenumbers": "strict",
          "coloraxis": {
           "colorbar": {
            "outlinewidth": 0,
            "ticks": ""
           }
          },
          "colorscale": {
           "diverging": [
            [
             0,
             "#8e0152"
            ],
            [
             0.1,
             "#c51b7d"
            ],
            [
             0.2,
             "#de77ae"
            ],
            [
             0.3,
             "#f1b6da"
            ],
            [
             0.4,
             "#fde0ef"
            ],
            [
             0.5,
             "#f7f7f7"
            ],
            [
             0.6,
             "#e6f5d0"
            ],
            [
             0.7,
             "#b8e186"
            ],
            [
             0.8,
             "#7fbc41"
            ],
            [
             0.9,
             "#4d9221"
            ],
            [
             1,
             "#276419"
            ]
           ],
           "sequential": [
            [
             0,
             "#0d0887"
            ],
            [
             0.1111111111111111,
             "#46039f"
            ],
            [
             0.2222222222222222,
             "#7201a8"
            ],
            [
             0.3333333333333333,
             "#9c179e"
            ],
            [
             0.4444444444444444,
             "#bd3786"
            ],
            [
             0.5555555555555556,
             "#d8576b"
            ],
            [
             0.6666666666666666,
             "#ed7953"
            ],
            [
             0.7777777777777778,
             "#fb9f3a"
            ],
            [
             0.8888888888888888,
             "#fdca26"
            ],
            [
             1,
             "#f0f921"
            ]
           ],
           "sequentialminus": [
            [
             0,
             "#0d0887"
            ],
            [
             0.1111111111111111,
             "#46039f"
            ],
            [
             0.2222222222222222,
             "#7201a8"
            ],
            [
             0.3333333333333333,
             "#9c179e"
            ],
            [
             0.4444444444444444,
             "#bd3786"
            ],
            [
             0.5555555555555556,
             "#d8576b"
            ],
            [
             0.6666666666666666,
             "#ed7953"
            ],
            [
             0.7777777777777778,
             "#fb9f3a"
            ],
            [
             0.8888888888888888,
             "#fdca26"
            ],
            [
             1,
             "#f0f921"
            ]
           ]
          },
          "colorway": [
           "#636efa",
           "#EF553B",
           "#00cc96",
           "#ab63fa",
           "#FFA15A",
           "#19d3f3",
           "#FF6692",
           "#B6E880",
           "#FF97FF",
           "#FECB52"
          ],
          "font": {
           "color": "#f2f5fa"
          },
          "geo": {
           "bgcolor": "rgb(17,17,17)",
           "lakecolor": "rgb(17,17,17)",
           "landcolor": "rgb(17,17,17)",
           "showlakes": true,
           "showland": true,
           "subunitcolor": "#506784"
          },
          "hoverlabel": {
           "align": "left"
          },
          "hovermode": "closest",
          "mapbox": {
           "style": "dark"
          },
          "paper_bgcolor": "rgb(17,17,17)",
          "plot_bgcolor": "rgb(17,17,17)",
          "polar": {
           "angularaxis": {
            "gridcolor": "#506784",
            "linecolor": "#506784",
            "ticks": ""
           },
           "bgcolor": "rgb(17,17,17)",
           "radialaxis": {
            "gridcolor": "#506784",
            "linecolor": "#506784",
            "ticks": ""
           }
          },
          "scene": {
           "xaxis": {
            "backgroundcolor": "rgb(17,17,17)",
            "gridcolor": "#506784",
            "gridwidth": 2,
            "linecolor": "#506784",
            "showbackground": true,
            "ticks": "",
            "zerolinecolor": "#C8D4E3"
           },
           "yaxis": {
            "backgroundcolor": "rgb(17,17,17)",
            "gridcolor": "#506784",
            "gridwidth": 2,
            "linecolor": "#506784",
            "showbackground": true,
            "ticks": "",
            "zerolinecolor": "#C8D4E3"
           },
           "zaxis": {
            "backgroundcolor": "rgb(17,17,17)",
            "gridcolor": "#506784",
            "gridwidth": 2,
            "linecolor": "#506784",
            "showbackground": true,
            "ticks": "",
            "zerolinecolor": "#C8D4E3"
           }
          },
          "shapedefaults": {
           "line": {
            "color": "#f2f5fa"
           }
          },
          "sliderdefaults": {
           "bgcolor": "#C8D4E3",
           "bordercolor": "rgb(17,17,17)",
           "borderwidth": 1,
           "tickwidth": 0
          },
          "ternary": {
           "aaxis": {
            "gridcolor": "#506784",
            "linecolor": "#506784",
            "ticks": ""
           },
           "baxis": {
            "gridcolor": "#506784",
            "linecolor": "#506784",
            "ticks": ""
           },
           "bgcolor": "rgb(17,17,17)",
           "caxis": {
            "gridcolor": "#506784",
            "linecolor": "#506784",
            "ticks": ""
           }
          },
          "title": {
           "x": 0.05
          },
          "updatemenudefaults": {
           "bgcolor": "#506784",
           "borderwidth": 0
          },
          "xaxis": {
           "automargin": true,
           "gridcolor": "#283442",
           "linecolor": "#506784",
           "ticks": "",
           "title": {
            "standoff": 15
           },
           "zerolinecolor": "#283442",
           "zerolinewidth": 2
          },
          "yaxis": {
           "automargin": true,
           "gridcolor": "#283442",
           "linecolor": "#506784",
           "ticks": "",
           "title": {
            "standoff": 15
           },
           "zerolinecolor": "#283442",
           "zerolinewidth": 2
          }
         }
        },
        "title": {
         "font": {
          "size": 25
         },
         "text": "News by sentiment",
         "x": 0.5,
         "xanchor": "center",
         "y": 0.95,
         "yanchor": "top"
        }
       }
      }
     },
     "metadata": {},
     "output_type": "display_data"
    }
   ],
   "source": [
    "sent_pie(df_poly, 'count', 'title_finBERT', \"News by sentiment\").show()"
   ]
  },
  {
   "cell_type": "code",
   "execution_count": 90,
   "metadata": {},
   "outputs": [
    {
     "data": {
      "application/vnd.plotly.v1+json": {
       "config": {
        "plotlyServerURL": "https://plot.ly"
       },
       "data": [
        {
         "alignmentgroup": "True",
         "hovertemplate": "tweet_finBERT=neutral<br>date=%{x}<br>count=%{y}<extra></extra>",
         "legendgroup": "neutral",
         "marker": {
          "color": "#636efa",
          "pattern": {
           "shape": ""
          }
         },
         "name": "neutral",
         "offsetgroup": "neutral",
         "orientation": "v",
         "showlegend": true,
         "textposition": "auto",
         "type": "bar",
         "x": [
          "2022-06-23T00:00:00",
          "2022-06-24T00:00:00",
          "2022-06-25T00:00:00",
          "2022-06-27T00:00:00",
          "2022-06-28T00:00:00",
          "2022-06-29T00:00:00",
          "2022-06-30T00:00:00",
          "2022-07-01T00:00:00",
          "2022-07-02T00:00:00"
         ],
         "xaxis": "x",
         "y": [
          12,
          2,
          1,
          1,
          1,
          1,
          5,
          6,
          3
         ],
         "yaxis": "y"
        },
        {
         "alignmentgroup": "True",
         "hovertemplate": "tweet_finBERT=negative<br>date=%{x}<br>count=%{y}<extra></extra>",
         "legendgroup": "negative",
         "marker": {
          "color": "#EF553B",
          "pattern": {
           "shape": ""
          }
         },
         "name": "negative",
         "offsetgroup": "negative",
         "orientation": "v",
         "showlegend": true,
         "textposition": "auto",
         "type": "bar",
         "x": [
          "2022-06-23T00:00:00",
          "2022-06-27T00:00:00",
          "2022-06-29T00:00:00",
          "2022-06-30T00:00:00",
          "2022-07-01T00:00:00"
         ],
         "xaxis": "x",
         "y": [
          2,
          1,
          1,
          2,
          4
         ],
         "yaxis": "y"
        },
        {
         "alignmentgroup": "True",
         "hovertemplate": "tweet_finBERT=positive<br>date=%{x}<br>count=%{y}<extra></extra>",
         "legendgroup": "positive",
         "marker": {
          "color": "#00cc96",
          "pattern": {
           "shape": ""
          }
         },
         "name": "positive",
         "offsetgroup": "positive",
         "orientation": "v",
         "showlegend": true,
         "textposition": "auto",
         "type": "bar",
         "x": [
          "2022-06-23T00:00:00",
          "2022-07-01T00:00:00"
         ],
         "xaxis": "x",
         "y": [
          2,
          4
         ],
         "yaxis": "y"
        }
       ],
       "layout": {
        "barmode": "relative",
        "legend": {
         "title": {
          "text": ""
         },
         "tracegroupgap": 0,
         "traceorder": "reversed"
        },
        "template": {
         "data": {
          "bar": [
           {
            "error_x": {
             "color": "#f2f5fa"
            },
            "error_y": {
             "color": "#f2f5fa"
            },
            "marker": {
             "line": {
              "color": "rgb(17,17,17)",
              "width": 0.5
             },
             "pattern": {
              "fillmode": "overlay",
              "size": 10,
              "solidity": 0.2
             }
            },
            "type": "bar"
           }
          ],
          "barpolar": [
           {
            "marker": {
             "line": {
              "color": "rgb(17,17,17)",
              "width": 0.5
             },
             "pattern": {
              "fillmode": "overlay",
              "size": 10,
              "solidity": 0.2
             }
            },
            "type": "barpolar"
           }
          ],
          "carpet": [
           {
            "aaxis": {
             "endlinecolor": "#A2B1C6",
             "gridcolor": "#506784",
             "linecolor": "#506784",
             "minorgridcolor": "#506784",
             "startlinecolor": "#A2B1C6"
            },
            "baxis": {
             "endlinecolor": "#A2B1C6",
             "gridcolor": "#506784",
             "linecolor": "#506784",
             "minorgridcolor": "#506784",
             "startlinecolor": "#A2B1C6"
            },
            "type": "carpet"
           }
          ],
          "choropleth": [
           {
            "colorbar": {
             "outlinewidth": 0,
             "ticks": ""
            },
            "type": "choropleth"
           }
          ],
          "contour": [
           {
            "colorbar": {
             "outlinewidth": 0,
             "ticks": ""
            },
            "colorscale": [
             [
              0,
              "#0d0887"
             ],
             [
              0.1111111111111111,
              "#46039f"
             ],
             [
              0.2222222222222222,
              "#7201a8"
             ],
             [
              0.3333333333333333,
              "#9c179e"
             ],
             [
              0.4444444444444444,
              "#bd3786"
             ],
             [
              0.5555555555555556,
              "#d8576b"
             ],
             [
              0.6666666666666666,
              "#ed7953"
             ],
             [
              0.7777777777777778,
              "#fb9f3a"
             ],
             [
              0.8888888888888888,
              "#fdca26"
             ],
             [
              1,
              "#f0f921"
             ]
            ],
            "type": "contour"
           }
          ],
          "contourcarpet": [
           {
            "colorbar": {
             "outlinewidth": 0,
             "ticks": ""
            },
            "type": "contourcarpet"
           }
          ],
          "heatmap": [
           {
            "colorbar": {
             "outlinewidth": 0,
             "ticks": ""
            },
            "colorscale": [
             [
              0,
              "#0d0887"
             ],
             [
              0.1111111111111111,
              "#46039f"
             ],
             [
              0.2222222222222222,
              "#7201a8"
             ],
             [
              0.3333333333333333,
              "#9c179e"
             ],
             [
              0.4444444444444444,
              "#bd3786"
             ],
             [
              0.5555555555555556,
              "#d8576b"
             ],
             [
              0.6666666666666666,
              "#ed7953"
             ],
             [
              0.7777777777777778,
              "#fb9f3a"
             ],
             [
              0.8888888888888888,
              "#fdca26"
             ],
             [
              1,
              "#f0f921"
             ]
            ],
            "type": "heatmap"
           }
          ],
          "heatmapgl": [
           {
            "colorbar": {
             "outlinewidth": 0,
             "ticks": ""
            },
            "colorscale": [
             [
              0,
              "#0d0887"
             ],
             [
              0.1111111111111111,
              "#46039f"
             ],
             [
              0.2222222222222222,
              "#7201a8"
             ],
             [
              0.3333333333333333,
              "#9c179e"
             ],
             [
              0.4444444444444444,
              "#bd3786"
             ],
             [
              0.5555555555555556,
              "#d8576b"
             ],
             [
              0.6666666666666666,
              "#ed7953"
             ],
             [
              0.7777777777777778,
              "#fb9f3a"
             ],
             [
              0.8888888888888888,
              "#fdca26"
             ],
             [
              1,
              "#f0f921"
             ]
            ],
            "type": "heatmapgl"
           }
          ],
          "histogram": [
           {
            "marker": {
             "pattern": {
              "fillmode": "overlay",
              "size": 10,
              "solidity": 0.2
             }
            },
            "type": "histogram"
           }
          ],
          "histogram2d": [
           {
            "colorbar": {
             "outlinewidth": 0,
             "ticks": ""
            },
            "colorscale": [
             [
              0,
              "#0d0887"
             ],
             [
              0.1111111111111111,
              "#46039f"
             ],
             [
              0.2222222222222222,
              "#7201a8"
             ],
             [
              0.3333333333333333,
              "#9c179e"
             ],
             [
              0.4444444444444444,
              "#bd3786"
             ],
             [
              0.5555555555555556,
              "#d8576b"
             ],
             [
              0.6666666666666666,
              "#ed7953"
             ],
             [
              0.7777777777777778,
              "#fb9f3a"
             ],
             [
              0.8888888888888888,
              "#fdca26"
             ],
             [
              1,
              "#f0f921"
             ]
            ],
            "type": "histogram2d"
           }
          ],
          "histogram2dcontour": [
           {
            "colorbar": {
             "outlinewidth": 0,
             "ticks": ""
            },
            "colorscale": [
             [
              0,
              "#0d0887"
             ],
             [
              0.1111111111111111,
              "#46039f"
             ],
             [
              0.2222222222222222,
              "#7201a8"
             ],
             [
              0.3333333333333333,
              "#9c179e"
             ],
             [
              0.4444444444444444,
              "#bd3786"
             ],
             [
              0.5555555555555556,
              "#d8576b"
             ],
             [
              0.6666666666666666,
              "#ed7953"
             ],
             [
              0.7777777777777778,
              "#fb9f3a"
             ],
             [
              0.8888888888888888,
              "#fdca26"
             ],
             [
              1,
              "#f0f921"
             ]
            ],
            "type": "histogram2dcontour"
           }
          ],
          "mesh3d": [
           {
            "colorbar": {
             "outlinewidth": 0,
             "ticks": ""
            },
            "type": "mesh3d"
           }
          ],
          "parcoords": [
           {
            "line": {
             "colorbar": {
              "outlinewidth": 0,
              "ticks": ""
             }
            },
            "type": "parcoords"
           }
          ],
          "pie": [
           {
            "automargin": true,
            "type": "pie"
           }
          ],
          "scatter": [
           {
            "marker": {
             "line": {
              "color": "#283442"
             }
            },
            "type": "scatter"
           }
          ],
          "scatter3d": [
           {
            "line": {
             "colorbar": {
              "outlinewidth": 0,
              "ticks": ""
             }
            },
            "marker": {
             "colorbar": {
              "outlinewidth": 0,
              "ticks": ""
             }
            },
            "type": "scatter3d"
           }
          ],
          "scattercarpet": [
           {
            "marker": {
             "colorbar": {
              "outlinewidth": 0,
              "ticks": ""
             }
            },
            "type": "scattercarpet"
           }
          ],
          "scattergeo": [
           {
            "marker": {
             "colorbar": {
              "outlinewidth": 0,
              "ticks": ""
             }
            },
            "type": "scattergeo"
           }
          ],
          "scattergl": [
           {
            "marker": {
             "line": {
              "color": "#283442"
             }
            },
            "type": "scattergl"
           }
          ],
          "scattermapbox": [
           {
            "marker": {
             "colorbar": {
              "outlinewidth": 0,
              "ticks": ""
             }
            },
            "type": "scattermapbox"
           }
          ],
          "scatterpolar": [
           {
            "marker": {
             "colorbar": {
              "outlinewidth": 0,
              "ticks": ""
             }
            },
            "type": "scatterpolar"
           }
          ],
          "scatterpolargl": [
           {
            "marker": {
             "colorbar": {
              "outlinewidth": 0,
              "ticks": ""
             }
            },
            "type": "scatterpolargl"
           }
          ],
          "scatterternary": [
           {
            "marker": {
             "colorbar": {
              "outlinewidth": 0,
              "ticks": ""
             }
            },
            "type": "scatterternary"
           }
          ],
          "surface": [
           {
            "colorbar": {
             "outlinewidth": 0,
             "ticks": ""
            },
            "colorscale": [
             [
              0,
              "#0d0887"
             ],
             [
              0.1111111111111111,
              "#46039f"
             ],
             [
              0.2222222222222222,
              "#7201a8"
             ],
             [
              0.3333333333333333,
              "#9c179e"
             ],
             [
              0.4444444444444444,
              "#bd3786"
             ],
             [
              0.5555555555555556,
              "#d8576b"
             ],
             [
              0.6666666666666666,
              "#ed7953"
             ],
             [
              0.7777777777777778,
              "#fb9f3a"
             ],
             [
              0.8888888888888888,
              "#fdca26"
             ],
             [
              1,
              "#f0f921"
             ]
            ],
            "type": "surface"
           }
          ],
          "table": [
           {
            "cells": {
             "fill": {
              "color": "#506784"
             },
             "line": {
              "color": "rgb(17,17,17)"
             }
            },
            "header": {
             "fill": {
              "color": "#2a3f5f"
             },
             "line": {
              "color": "rgb(17,17,17)"
             }
            },
            "type": "table"
           }
          ]
         },
         "layout": {
          "annotationdefaults": {
           "arrowcolor": "#f2f5fa",
           "arrowhead": 0,
           "arrowwidth": 1
          },
          "autotypenumbers": "strict",
          "coloraxis": {
           "colorbar": {
            "outlinewidth": 0,
            "ticks": ""
           }
          },
          "colorscale": {
           "diverging": [
            [
             0,
             "#8e0152"
            ],
            [
             0.1,
             "#c51b7d"
            ],
            [
             0.2,
             "#de77ae"
            ],
            [
             0.3,
             "#f1b6da"
            ],
            [
             0.4,
             "#fde0ef"
            ],
            [
             0.5,
             "#f7f7f7"
            ],
            [
             0.6,
             "#e6f5d0"
            ],
            [
             0.7,
             "#b8e186"
            ],
            [
             0.8,
             "#7fbc41"
            ],
            [
             0.9,
             "#4d9221"
            ],
            [
             1,
             "#276419"
            ]
           ],
           "sequential": [
            [
             0,
             "#0d0887"
            ],
            [
             0.1111111111111111,
             "#46039f"
            ],
            [
             0.2222222222222222,
             "#7201a8"
            ],
            [
             0.3333333333333333,
             "#9c179e"
            ],
            [
             0.4444444444444444,
             "#bd3786"
            ],
            [
             0.5555555555555556,
             "#d8576b"
            ],
            [
             0.6666666666666666,
             "#ed7953"
            ],
            [
             0.7777777777777778,
             "#fb9f3a"
            ],
            [
             0.8888888888888888,
             "#fdca26"
            ],
            [
             1,
             "#f0f921"
            ]
           ],
           "sequentialminus": [
            [
             0,
             "#0d0887"
            ],
            [
             0.1111111111111111,
             "#46039f"
            ],
            [
             0.2222222222222222,
             "#7201a8"
            ],
            [
             0.3333333333333333,
             "#9c179e"
            ],
            [
             0.4444444444444444,
             "#bd3786"
            ],
            [
             0.5555555555555556,
             "#d8576b"
            ],
            [
             0.6666666666666666,
             "#ed7953"
            ],
            [
             0.7777777777777778,
             "#fb9f3a"
            ],
            [
             0.8888888888888888,
             "#fdca26"
            ],
            [
             1,
             "#f0f921"
            ]
           ]
          },
          "colorway": [
           "#636efa",
           "#EF553B",
           "#00cc96",
           "#ab63fa",
           "#FFA15A",
           "#19d3f3",
           "#FF6692",
           "#B6E880",
           "#FF97FF",
           "#FECB52"
          ],
          "font": {
           "color": "#f2f5fa"
          },
          "geo": {
           "bgcolor": "rgb(17,17,17)",
           "lakecolor": "rgb(17,17,17)",
           "landcolor": "rgb(17,17,17)",
           "showlakes": true,
           "showland": true,
           "subunitcolor": "#506784"
          },
          "hoverlabel": {
           "align": "left"
          },
          "hovermode": "closest",
          "mapbox": {
           "style": "dark"
          },
          "paper_bgcolor": "rgb(17,17,17)",
          "plot_bgcolor": "rgb(17,17,17)",
          "polar": {
           "angularaxis": {
            "gridcolor": "#506784",
            "linecolor": "#506784",
            "ticks": ""
           },
           "bgcolor": "rgb(17,17,17)",
           "radialaxis": {
            "gridcolor": "#506784",
            "linecolor": "#506784",
            "ticks": ""
           }
          },
          "scene": {
           "xaxis": {
            "backgroundcolor": "rgb(17,17,17)",
            "gridcolor": "#506784",
            "gridwidth": 2,
            "linecolor": "#506784",
            "showbackground": true,
            "ticks": "",
            "zerolinecolor": "#C8D4E3"
           },
           "yaxis": {
            "backgroundcolor": "rgb(17,17,17)",
            "gridcolor": "#506784",
            "gridwidth": 2,
            "linecolor": "#506784",
            "showbackground": true,
            "ticks": "",
            "zerolinecolor": "#C8D4E3"
           },
           "zaxis": {
            "backgroundcolor": "rgb(17,17,17)",
            "gridcolor": "#506784",
            "gridwidth": 2,
            "linecolor": "#506784",
            "showbackground": true,
            "ticks": "",
            "zerolinecolor": "#C8D4E3"
           }
          },
          "shapedefaults": {
           "line": {
            "color": "#f2f5fa"
           }
          },
          "sliderdefaults": {
           "bgcolor": "#C8D4E3",
           "bordercolor": "rgb(17,17,17)",
           "borderwidth": 1,
           "tickwidth": 0
          },
          "ternary": {
           "aaxis": {
            "gridcolor": "#506784",
            "linecolor": "#506784",
            "ticks": ""
           },
           "baxis": {
            "gridcolor": "#506784",
            "linecolor": "#506784",
            "ticks": ""
           },
           "bgcolor": "rgb(17,17,17)",
           "caxis": {
            "gridcolor": "#506784",
            "linecolor": "#506784",
            "ticks": ""
           }
          },
          "title": {
           "x": 0.05
          },
          "updatemenudefaults": {
           "bgcolor": "#506784",
           "borderwidth": 0
          },
          "xaxis": {
           "automargin": true,
           "gridcolor": "#283442",
           "linecolor": "#506784",
           "ticks": "",
           "title": {
            "standoff": 15
           },
           "zerolinecolor": "#283442",
           "zerolinewidth": 2
          },
          "yaxis": {
           "automargin": true,
           "gridcolor": "#283442",
           "linecolor": "#506784",
           "ticks": "",
           "title": {
            "standoff": 15
           },
           "zerolinecolor": "#283442",
           "zerolinewidth": 2
          }
         }
        },
        "title": {
         "font": {
          "size": 25
         },
         "text": "Daily Tweets by Sentiment",
         "x": 0.5,
         "xanchor": "center",
         "y": 0.95,
         "yanchor": "top"
        },
        "xaxis": {
         "anchor": "y",
         "domain": [
          0,
          1
         ],
         "dtick": "D1",
         "title": {
          "text": "date"
         }
        },
        "yaxis": {
         "anchor": "x",
         "domain": [
          0,
          1
         ],
         "title": {
          "text": "count"
         }
        }
       }
      }
     },
     "metadata": {},
     "output_type": "display_data"
    }
   ],
   "source": [
    "sent_bar(twt_df, 'date', 'count', 'tweet_finBERT', \"Daily Tweets by Sentiment\").show()\n"
   ]
  },
  {
   "cell_type": "code",
   "execution_count": 91,
   "metadata": {},
   "outputs": [
    {
     "data": {
      "application/vnd.plotly.v1+json": {
       "config": {
        "plotlyServerURL": "https://plot.ly"
       },
       "data": [
        {
         "alignmentgroup": "True",
         "hovertemplate": "title_finBERT=neutral<br>date=%{x}<br>count=%{y}<extra></extra>",
         "legendgroup": "neutral",
         "marker": {
          "color": "#636efa",
          "pattern": {
           "shape": ""
          }
         },
         "name": "neutral",
         "offsetgroup": "neutral",
         "orientation": "v",
         "showlegend": true,
         "textposition": "auto",
         "type": "bar",
         "x": [
          "2022-06-30T00:00:00",
          "2022-07-01T00:00:00",
          "2022-07-02T00:00:00"
         ],
         "xaxis": "x",
         "y": [
          313,
          462,
          82
         ],
         "yaxis": "y"
        },
        {
         "alignmentgroup": "True",
         "hovertemplate": "title_finBERT=negative<br>date=%{x}<br>count=%{y}<extra></extra>",
         "legendgroup": "negative",
         "marker": {
          "color": "#EF553B",
          "pattern": {
           "shape": ""
          }
         },
         "name": "negative",
         "offsetgroup": "negative",
         "orientation": "v",
         "showlegend": true,
         "textposition": "auto",
         "type": "bar",
         "x": [
          "2022-06-30T00:00:00",
          "2022-07-01T00:00:00",
          "2022-07-02T00:00:00"
         ],
         "xaxis": "x",
         "y": [
          87,
          123,
          27
         ],
         "yaxis": "y"
        },
        {
         "alignmentgroup": "True",
         "hovertemplate": "title_finBERT=positive<br>date=%{x}<br>count=%{y}<extra></extra>",
         "legendgroup": "positive",
         "marker": {
          "color": "#00cc96",
          "pattern": {
           "shape": ""
          }
         },
         "name": "positive",
         "offsetgroup": "positive",
         "orientation": "v",
         "showlegend": true,
         "textposition": "auto",
         "type": "bar",
         "x": [
          "2022-06-30T00:00:00",
          "2022-07-01T00:00:00",
          "2022-07-02T00:00:00"
         ],
         "xaxis": "x",
         "y": [
          80,
          98,
          14
         ],
         "yaxis": "y"
        }
       ],
       "layout": {
        "barmode": "relative",
        "legend": {
         "title": {
          "text": ""
         },
         "tracegroupgap": 0,
         "traceorder": "reversed"
        },
        "template": {
         "data": {
          "bar": [
           {
            "error_x": {
             "color": "#f2f5fa"
            },
            "error_y": {
             "color": "#f2f5fa"
            },
            "marker": {
             "line": {
              "color": "rgb(17,17,17)",
              "width": 0.5
             },
             "pattern": {
              "fillmode": "overlay",
              "size": 10,
              "solidity": 0.2
             }
            },
            "type": "bar"
           }
          ],
          "barpolar": [
           {
            "marker": {
             "line": {
              "color": "rgb(17,17,17)",
              "width": 0.5
             },
             "pattern": {
              "fillmode": "overlay",
              "size": 10,
              "solidity": 0.2
             }
            },
            "type": "barpolar"
           }
          ],
          "carpet": [
           {
            "aaxis": {
             "endlinecolor": "#A2B1C6",
             "gridcolor": "#506784",
             "linecolor": "#506784",
             "minorgridcolor": "#506784",
             "startlinecolor": "#A2B1C6"
            },
            "baxis": {
             "endlinecolor": "#A2B1C6",
             "gridcolor": "#506784",
             "linecolor": "#506784",
             "minorgridcolor": "#506784",
             "startlinecolor": "#A2B1C6"
            },
            "type": "carpet"
           }
          ],
          "choropleth": [
           {
            "colorbar": {
             "outlinewidth": 0,
             "ticks": ""
            },
            "type": "choropleth"
           }
          ],
          "contour": [
           {
            "colorbar": {
             "outlinewidth": 0,
             "ticks": ""
            },
            "colorscale": [
             [
              0,
              "#0d0887"
             ],
             [
              0.1111111111111111,
              "#46039f"
             ],
             [
              0.2222222222222222,
              "#7201a8"
             ],
             [
              0.3333333333333333,
              "#9c179e"
             ],
             [
              0.4444444444444444,
              "#bd3786"
             ],
             [
              0.5555555555555556,
              "#d8576b"
             ],
             [
              0.6666666666666666,
              "#ed7953"
             ],
             [
              0.7777777777777778,
              "#fb9f3a"
             ],
             [
              0.8888888888888888,
              "#fdca26"
             ],
             [
              1,
              "#f0f921"
             ]
            ],
            "type": "contour"
           }
          ],
          "contourcarpet": [
           {
            "colorbar": {
             "outlinewidth": 0,
             "ticks": ""
            },
            "type": "contourcarpet"
           }
          ],
          "heatmap": [
           {
            "colorbar": {
             "outlinewidth": 0,
             "ticks": ""
            },
            "colorscale": [
             [
              0,
              "#0d0887"
             ],
             [
              0.1111111111111111,
              "#46039f"
             ],
             [
              0.2222222222222222,
              "#7201a8"
             ],
             [
              0.3333333333333333,
              "#9c179e"
             ],
             [
              0.4444444444444444,
              "#bd3786"
             ],
             [
              0.5555555555555556,
              "#d8576b"
             ],
             [
              0.6666666666666666,
              "#ed7953"
             ],
             [
              0.7777777777777778,
              "#fb9f3a"
             ],
             [
              0.8888888888888888,
              "#fdca26"
             ],
             [
              1,
              "#f0f921"
             ]
            ],
            "type": "heatmap"
           }
          ],
          "heatmapgl": [
           {
            "colorbar": {
             "outlinewidth": 0,
             "ticks": ""
            },
            "colorscale": [
             [
              0,
              "#0d0887"
             ],
             [
              0.1111111111111111,
              "#46039f"
             ],
             [
              0.2222222222222222,
              "#7201a8"
             ],
             [
              0.3333333333333333,
              "#9c179e"
             ],
             [
              0.4444444444444444,
              "#bd3786"
             ],
             [
              0.5555555555555556,
              "#d8576b"
             ],
             [
              0.6666666666666666,
              "#ed7953"
             ],
             [
              0.7777777777777778,
              "#fb9f3a"
             ],
             [
              0.8888888888888888,
              "#fdca26"
             ],
             [
              1,
              "#f0f921"
             ]
            ],
            "type": "heatmapgl"
           }
          ],
          "histogram": [
           {
            "marker": {
             "pattern": {
              "fillmode": "overlay",
              "size": 10,
              "solidity": 0.2
             }
            },
            "type": "histogram"
           }
          ],
          "histogram2d": [
           {
            "colorbar": {
             "outlinewidth": 0,
             "ticks": ""
            },
            "colorscale": [
             [
              0,
              "#0d0887"
             ],
             [
              0.1111111111111111,
              "#46039f"
             ],
             [
              0.2222222222222222,
              "#7201a8"
             ],
             [
              0.3333333333333333,
              "#9c179e"
             ],
             [
              0.4444444444444444,
              "#bd3786"
             ],
             [
              0.5555555555555556,
              "#d8576b"
             ],
             [
              0.6666666666666666,
              "#ed7953"
             ],
             [
              0.7777777777777778,
              "#fb9f3a"
             ],
             [
              0.8888888888888888,
              "#fdca26"
             ],
             [
              1,
              "#f0f921"
             ]
            ],
            "type": "histogram2d"
           }
          ],
          "histogram2dcontour": [
           {
            "colorbar": {
             "outlinewidth": 0,
             "ticks": ""
            },
            "colorscale": [
             [
              0,
              "#0d0887"
             ],
             [
              0.1111111111111111,
              "#46039f"
             ],
             [
              0.2222222222222222,
              "#7201a8"
             ],
             [
              0.3333333333333333,
              "#9c179e"
             ],
             [
              0.4444444444444444,
              "#bd3786"
             ],
             [
              0.5555555555555556,
              "#d8576b"
             ],
             [
              0.6666666666666666,
              "#ed7953"
             ],
             [
              0.7777777777777778,
              "#fb9f3a"
             ],
             [
              0.8888888888888888,
              "#fdca26"
             ],
             [
              1,
              "#f0f921"
             ]
            ],
            "type": "histogram2dcontour"
           }
          ],
          "mesh3d": [
           {
            "colorbar": {
             "outlinewidth": 0,
             "ticks": ""
            },
            "type": "mesh3d"
           }
          ],
          "parcoords": [
           {
            "line": {
             "colorbar": {
              "outlinewidth": 0,
              "ticks": ""
             }
            },
            "type": "parcoords"
           }
          ],
          "pie": [
           {
            "automargin": true,
            "type": "pie"
           }
          ],
          "scatter": [
           {
            "marker": {
             "line": {
              "color": "#283442"
             }
            },
            "type": "scatter"
           }
          ],
          "scatter3d": [
           {
            "line": {
             "colorbar": {
              "outlinewidth": 0,
              "ticks": ""
             }
            },
            "marker": {
             "colorbar": {
              "outlinewidth": 0,
              "ticks": ""
             }
            },
            "type": "scatter3d"
           }
          ],
          "scattercarpet": [
           {
            "marker": {
             "colorbar": {
              "outlinewidth": 0,
              "ticks": ""
             }
            },
            "type": "scattercarpet"
           }
          ],
          "scattergeo": [
           {
            "marker": {
             "colorbar": {
              "outlinewidth": 0,
              "ticks": ""
             }
            },
            "type": "scattergeo"
           }
          ],
          "scattergl": [
           {
            "marker": {
             "line": {
              "color": "#283442"
             }
            },
            "type": "scattergl"
           }
          ],
          "scattermapbox": [
           {
            "marker": {
             "colorbar": {
              "outlinewidth": 0,
              "ticks": ""
             }
            },
            "type": "scattermapbox"
           }
          ],
          "scatterpolar": [
           {
            "marker": {
             "colorbar": {
              "outlinewidth": 0,
              "ticks": ""
             }
            },
            "type": "scatterpolar"
           }
          ],
          "scatterpolargl": [
           {
            "marker": {
             "colorbar": {
              "outlinewidth": 0,
              "ticks": ""
             }
            },
            "type": "scatterpolargl"
           }
          ],
          "scatterternary": [
           {
            "marker": {
             "colorbar": {
              "outlinewidth": 0,
              "ticks": ""
             }
            },
            "type": "scatterternary"
           }
          ],
          "surface": [
           {
            "colorbar": {
             "outlinewidth": 0,
             "ticks": ""
            },
            "colorscale": [
             [
              0,
              "#0d0887"
             ],
             [
              0.1111111111111111,
              "#46039f"
             ],
             [
              0.2222222222222222,
              "#7201a8"
             ],
             [
              0.3333333333333333,
              "#9c179e"
             ],
             [
              0.4444444444444444,
              "#bd3786"
             ],
             [
              0.5555555555555556,
              "#d8576b"
             ],
             [
              0.6666666666666666,
              "#ed7953"
             ],
             [
              0.7777777777777778,
              "#fb9f3a"
             ],
             [
              0.8888888888888888,
              "#fdca26"
             ],
             [
              1,
              "#f0f921"
             ]
            ],
            "type": "surface"
           }
          ],
          "table": [
           {
            "cells": {
             "fill": {
              "color": "#506784"
             },
             "line": {
              "color": "rgb(17,17,17)"
             }
            },
            "header": {
             "fill": {
              "color": "#2a3f5f"
             },
             "line": {
              "color": "rgb(17,17,17)"
             }
            },
            "type": "table"
           }
          ]
         },
         "layout": {
          "annotationdefaults": {
           "arrowcolor": "#f2f5fa",
           "arrowhead": 0,
           "arrowwidth": 1
          },
          "autotypenumbers": "strict",
          "coloraxis": {
           "colorbar": {
            "outlinewidth": 0,
            "ticks": ""
           }
          },
          "colorscale": {
           "diverging": [
            [
             0,
             "#8e0152"
            ],
            [
             0.1,
             "#c51b7d"
            ],
            [
             0.2,
             "#de77ae"
            ],
            [
             0.3,
             "#f1b6da"
            ],
            [
             0.4,
             "#fde0ef"
            ],
            [
             0.5,
             "#f7f7f7"
            ],
            [
             0.6,
             "#e6f5d0"
            ],
            [
             0.7,
             "#b8e186"
            ],
            [
             0.8,
             "#7fbc41"
            ],
            [
             0.9,
             "#4d9221"
            ],
            [
             1,
             "#276419"
            ]
           ],
           "sequential": [
            [
             0,
             "#0d0887"
            ],
            [
             0.1111111111111111,
             "#46039f"
            ],
            [
             0.2222222222222222,
             "#7201a8"
            ],
            [
             0.3333333333333333,
             "#9c179e"
            ],
            [
             0.4444444444444444,
             "#bd3786"
            ],
            [
             0.5555555555555556,
             "#d8576b"
            ],
            [
             0.6666666666666666,
             "#ed7953"
            ],
            [
             0.7777777777777778,
             "#fb9f3a"
            ],
            [
             0.8888888888888888,
             "#fdca26"
            ],
            [
             1,
             "#f0f921"
            ]
           ],
           "sequentialminus": [
            [
             0,
             "#0d0887"
            ],
            [
             0.1111111111111111,
             "#46039f"
            ],
            [
             0.2222222222222222,
             "#7201a8"
            ],
            [
             0.3333333333333333,
             "#9c179e"
            ],
            [
             0.4444444444444444,
             "#bd3786"
            ],
            [
             0.5555555555555556,
             "#d8576b"
            ],
            [
             0.6666666666666666,
             "#ed7953"
            ],
            [
             0.7777777777777778,
             "#fb9f3a"
            ],
            [
             0.8888888888888888,
             "#fdca26"
            ],
            [
             1,
             "#f0f921"
            ]
           ]
          },
          "colorway": [
           "#636efa",
           "#EF553B",
           "#00cc96",
           "#ab63fa",
           "#FFA15A",
           "#19d3f3",
           "#FF6692",
           "#B6E880",
           "#FF97FF",
           "#FECB52"
          ],
          "font": {
           "color": "#f2f5fa"
          },
          "geo": {
           "bgcolor": "rgb(17,17,17)",
           "lakecolor": "rgb(17,17,17)",
           "landcolor": "rgb(17,17,17)",
           "showlakes": true,
           "showland": true,
           "subunitcolor": "#506784"
          },
          "hoverlabel": {
           "align": "left"
          },
          "hovermode": "closest",
          "mapbox": {
           "style": "dark"
          },
          "paper_bgcolor": "rgb(17,17,17)",
          "plot_bgcolor": "rgb(17,17,17)",
          "polar": {
           "angularaxis": {
            "gridcolor": "#506784",
            "linecolor": "#506784",
            "ticks": ""
           },
           "bgcolor": "rgb(17,17,17)",
           "radialaxis": {
            "gridcolor": "#506784",
            "linecolor": "#506784",
            "ticks": ""
           }
          },
          "scene": {
           "xaxis": {
            "backgroundcolor": "rgb(17,17,17)",
            "gridcolor": "#506784",
            "gridwidth": 2,
            "linecolor": "#506784",
            "showbackground": true,
            "ticks": "",
            "zerolinecolor": "#C8D4E3"
           },
           "yaxis": {
            "backgroundcolor": "rgb(17,17,17)",
            "gridcolor": "#506784",
            "gridwidth": 2,
            "linecolor": "#506784",
            "showbackground": true,
            "ticks": "",
            "zerolinecolor": "#C8D4E3"
           },
           "zaxis": {
            "backgroundcolor": "rgb(17,17,17)",
            "gridcolor": "#506784",
            "gridwidth": 2,
            "linecolor": "#506784",
            "showbackground": true,
            "ticks": "",
            "zerolinecolor": "#C8D4E3"
           }
          },
          "shapedefaults": {
           "line": {
            "color": "#f2f5fa"
           }
          },
          "sliderdefaults": {
           "bgcolor": "#C8D4E3",
           "bordercolor": "rgb(17,17,17)",
           "borderwidth": 1,
           "tickwidth": 0
          },
          "ternary": {
           "aaxis": {
            "gridcolor": "#506784",
            "linecolor": "#506784",
            "ticks": ""
           },
           "baxis": {
            "gridcolor": "#506784",
            "linecolor": "#506784",
            "ticks": ""
           },
           "bgcolor": "rgb(17,17,17)",
           "caxis": {
            "gridcolor": "#506784",
            "linecolor": "#506784",
            "ticks": ""
           }
          },
          "title": {
           "x": 0.05
          },
          "updatemenudefaults": {
           "bgcolor": "#506784",
           "borderwidth": 0
          },
          "xaxis": {
           "automargin": true,
           "gridcolor": "#283442",
           "linecolor": "#506784",
           "ticks": "",
           "title": {
            "standoff": 15
           },
           "zerolinecolor": "#283442",
           "zerolinewidth": 2
          },
          "yaxis": {
           "automargin": true,
           "gridcolor": "#283442",
           "linecolor": "#506784",
           "ticks": "",
           "title": {
            "standoff": 15
           },
           "zerolinecolor": "#283442",
           "zerolinewidth": 2
          }
         }
        },
        "title": {
         "font": {
          "size": 25
         },
         "text": "Daily News by Sentiment",
         "x": 0.5,
         "xanchor": "center",
         "y": 0.95,
         "yanchor": "top"
        },
        "xaxis": {
         "anchor": "y",
         "domain": [
          0,
          1
         ],
         "dtick": "D1",
         "title": {
          "text": "date"
         }
        },
        "yaxis": {
         "anchor": "x",
         "domain": [
          0,
          1
         ],
         "title": {
          "text": "count"
         }
        }
       }
      }
     },
     "metadata": {},
     "output_type": "display_data"
    }
   ],
   "source": [
    "sent_bar(df_poly, 'date', 'count', 'title_finBERT', \"Daily News by Sentiment\").show()"
   ]
  }
 ],
 "metadata": {
  "kernelspec": {
   "display_name": "Python 3.10.4 ('DS4A_PF')",
   "language": "python",
   "name": "python3"
  },
  "language_info": {
   "codemirror_mode": {
    "name": "ipython",
    "version": 3
   },
   "file_extension": ".py",
   "mimetype": "text/x-python",
   "name": "python",
   "nbconvert_exporter": "python",
   "pygments_lexer": "ipython3",
   "version": "3.10.4"
  },
  "orig_nbformat": 4,
  "vscode": {
   "interpreter": {
    "hash": "13466a67c9f9701c67a7e5e914ed61b6a6d8e5113815e6d2cd12d59afa0108d3"
   }
  }
 },
 "nbformat": 4,
 "nbformat_minor": 2
}
