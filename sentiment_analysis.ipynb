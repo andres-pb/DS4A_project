{
 "cells": [
  {
   "cell_type": "code",
   "execution_count": 1,
   "metadata": {},
   "outputs": [
    {
     "name": "stderr",
     "output_type": "stream",
     "text": [
      "c:\\Users\\andre\\Anaconda3\\envs\\DS4A_PF\\lib\\site-packages\\tqdm\\auto.py:22: TqdmWarning: IProgress not found. Please update jupyter and ipywidgets. See https://ipywidgets.readthedocs.io/en/stable/user_install.html\n",
      "  from .autonotebook import tqdm as notebook_tqdm\n"
     ]
    }
   ],
   "source": [
    "\n",
    "from app.log import logging_config\n",
    "from dotenv import load_dotenv\n",
    "import logging\n",
    "from app.util.message import starting_message\n",
    "from app import Polygon\n",
    "from app import Sentiment_predict\n",
    "import pandas as pd\n",
    "from app.api import Twitter \n",
    "from os import environ\n"
   ]
  },
  {
   "cell_type": "markdown",
   "metadata": {},
   "source": [
    "## Polygon"
   ]
  },
  {
   "cell_type": "code",
   "execution_count": 2,
   "metadata": {},
   "outputs": [
    {
     "name": "stdout",
     "output_type": "stream",
     "text": [
      "PWRjSfmBc9xYnPZMQhA9ukDOuOIId90D\n"
     ]
    },
    {
     "name": "stderr",
     "output_type": "stream",
     "text": [
      "Token indices sequence length is longer than the specified maximum sequence length for this model (774 > 512). Running this sequence through the model will result in indexing errors\n"
     ]
    },
    {
     "name": "stdout",
     "output_type": "stream",
     "text": [
      "in row 752 the text is divided into two parts\n",
      "in row 997 the text is divided into two parts\n"
     ]
    },
    {
     "name": "stderr",
     "output_type": "stream",
     "text": [
      "Token indices sequence length is longer than the specified maximum sequence length for this model (720 > 512). Running this sequence through the model will result in indexing errors\n"
     ]
    },
    {
     "name": "stdout",
     "output_type": "stream",
     "text": [
      "in row 752 the text is divided into two parts\n",
      "in row 997 the text is divided into two parts\n"
     ]
    }
   ],
   "source": [
    "##Load and upgrade initial df\n",
    "polygon_prev = pd.read_csv(\"polygon_df_01_07_2022.csv\")\n",
    "#Polygon credentials\n",
    "load_dotenv()\n",
    "print(environ.get(\"POLYGON_KEY\"))\n",
    "logging_config.init_logging()\n",
    "__LOG = logging.getLogger(__name__)\n",
    "__LOG.info('...... Initialization Completed  ......')\n",
    "__LOG.info(starting_message())\n",
    "#Initialize Polygon\n",
    "polygon = Polygon(environ.get(\"POLYGON_KEY\"))\n",
    "#Download News\n",
    "status, polygon_data = polygon.get_news('')\n",
    "if status:\n",
    "    polygon_news_df = pd.DataFrame.from_dict(polygon_data['results'])\n",
    "polygon_news_df.drop(['publisher', 'keywords'], axis = 1, inplace = True)\n",
    "polygon_news_df['tickers'] = [' '.join(map(str, l)) for l in polygon_news_df['tickers']]\n",
    "#predict Sentiment\n",
    "sp = Sentiment_predict()\n",
    "polygon_news_df['title_finBERT'] = sp.sentiment_finBERT(polygon_news_df, 'title')\n",
    "polygon_news_df['title_financialBERT'] = sp.sentiment_financialBERT(polygon_news_df, 'title')\n",
    "polygon_news_df['description_finBERT'] = sp.sentiment_finBERT(polygon_news_df, 'description')\n",
    "polygon_news_df['description_financialBERT'] = sp.sentiment_financialBERT(polygon_news_df, 'description')\n",
    "#Upload df.\n",
    "polygon_news_df = pd.concat([polygon_news_df, polygon_prev], ignore_index = True).drop_duplicates().reset_index(drop = True)\n",
    "polygon_news_df.to_csv(\"polygon_df_01_07_2022.csv\", index = False, encoding='utf-8')\n",
    "\n"
   ]
  },
  {
   "cell_type": "code",
   "execution_count": 3,
   "metadata": {},
   "outputs": [
    {
     "data": {
      "text/plain": [
       "(1345, 13)"
      ]
     },
     "execution_count": 3,
     "metadata": {},
     "output_type": "execute_result"
    }
   ],
   "source": [
    "polygon_news_df.shape"
   ]
  },
  {
   "cell_type": "code",
   "execution_count": 4,
   "metadata": {},
   "outputs": [
    {
     "name": "stderr",
     "output_type": "stream",
     "text": [
      "C:\\Users\\andre\\AppData\\Local\\Temp\\ipykernel_31892\\1300864731.py:3: SettingWithCopyWarning: \n",
      "A value is trying to be set on a copy of a slice from a DataFrame.\n",
      "Try using .loc[row_indexer,col_indexer] = value instead\n",
      "\n",
      "See the caveats in the documentation: https://pandas.pydata.org/pandas-docs/stable/user_guide/indexing.html#returning-a-view-versus-a-copy\n",
      "  df_poly['date'] = df_poly['published_utc'].str[0:10]\n",
      "C:\\Users\\andre\\AppData\\Local\\Temp\\ipykernel_31892\\1300864731.py:4: SettingWithCopyWarning: \n",
      "A value is trying to be set on a copy of a slice from a DataFrame.\n",
      "Try using .loc[row_indexer,col_indexer] = value instead\n",
      "\n",
      "See the caveats in the documentation: https://pandas.pydata.org/pandas-docs/stable/user_guide/indexing.html#returning-a-view-versus-a-copy\n",
      "  df_poly[\"total_news_day\"] = df_poly.groupby('date')['id'].transform(len)\n"
     ]
    },
    {
     "data": {
      "text/html": [
       "<div>\n",
       "<style scoped>\n",
       "    .dataframe tbody tr th:only-of-type {\n",
       "        vertical-align: middle;\n",
       "    }\n",
       "\n",
       "    .dataframe tbody tr th {\n",
       "        vertical-align: top;\n",
       "    }\n",
       "\n",
       "    .dataframe thead th {\n",
       "        text-align: right;\n",
       "    }\n",
       "</style>\n",
       "<table border=\"1\" class=\"dataframe\">\n",
       "  <thead>\n",
       "    <tr style=\"text-align: right;\">\n",
       "      <th></th>\n",
       "      <th>date</th>\n",
       "      <th>title_finBERT</th>\n",
       "      <th>count</th>\n",
       "    </tr>\n",
       "  </thead>\n",
       "  <tbody>\n",
       "    <tr>\n",
       "      <th>0</th>\n",
       "      <td>2022-06-30</td>\n",
       "      <td>negative</td>\n",
       "      <td>87</td>\n",
       "    </tr>\n",
       "    <tr>\n",
       "      <th>1</th>\n",
       "      <td>2022-06-30</td>\n",
       "      <td>neutral</td>\n",
       "      <td>312</td>\n",
       "    </tr>\n",
       "    <tr>\n",
       "      <th>2</th>\n",
       "      <td>2022-06-30</td>\n",
       "      <td>positive</td>\n",
       "      <td>80</td>\n",
       "    </tr>\n",
       "    <tr>\n",
       "      <th>3</th>\n",
       "      <td>2022-07-01</td>\n",
       "      <td>negative</td>\n",
       "      <td>123</td>\n",
       "    </tr>\n",
       "    <tr>\n",
       "      <th>4</th>\n",
       "      <td>2022-07-01</td>\n",
       "      <td>neutral</td>\n",
       "      <td>464</td>\n",
       "    </tr>\n",
       "    <tr>\n",
       "      <th>5</th>\n",
       "      <td>2022-07-01</td>\n",
       "      <td>positive</td>\n",
       "      <td>98</td>\n",
       "    </tr>\n",
       "    <tr>\n",
       "      <th>6</th>\n",
       "      <td>2022-07-02</td>\n",
       "      <td>negative</td>\n",
       "      <td>29</td>\n",
       "    </tr>\n",
       "    <tr>\n",
       "      <th>7</th>\n",
       "      <td>2022-07-02</td>\n",
       "      <td>neutral</td>\n",
       "      <td>84</td>\n",
       "    </tr>\n",
       "    <tr>\n",
       "      <th>8</th>\n",
       "      <td>2022-07-02</td>\n",
       "      <td>positive</td>\n",
       "      <td>15</td>\n",
       "    </tr>\n",
       "    <tr>\n",
       "      <th>9</th>\n",
       "      <td>2022-07-03</td>\n",
       "      <td>negative</td>\n",
       "      <td>10</td>\n",
       "    </tr>\n",
       "    <tr>\n",
       "      <th>10</th>\n",
       "      <td>2022-07-03</td>\n",
       "      <td>neutral</td>\n",
       "      <td>39</td>\n",
       "    </tr>\n",
       "    <tr>\n",
       "      <th>11</th>\n",
       "      <td>2022-07-03</td>\n",
       "      <td>positive</td>\n",
       "      <td>4</td>\n",
       "    </tr>\n",
       "  </tbody>\n",
       "</table>\n",
       "</div>"
      ],
      "text/plain": [
       "         date title_finBERT  count\n",
       "0  2022-06-30      negative     87\n",
       "1  2022-06-30       neutral    312\n",
       "2  2022-06-30      positive     80\n",
       "3  2022-07-01      negative    123\n",
       "4  2022-07-01       neutral    464\n",
       "5  2022-07-01      positive     98\n",
       "6  2022-07-02      negative     29\n",
       "7  2022-07-02       neutral     84\n",
       "8  2022-07-02      positive     15\n",
       "9  2022-07-03      negative     10\n",
       "10 2022-07-03       neutral     39\n",
       "11 2022-07-03      positive      4"
      ]
     },
     "execution_count": 4,
     "metadata": {},
     "output_type": "execute_result"
    }
   ],
   "source": [
    "#Polygon plots Data\n",
    "df_poly = polygon_news_df[['id','published_utc', 'title','description', 'title_finBERT', 'description_finBERT', 'title_financialBERT', 'description_financialBERT', 'article_url']]\n",
    "df_poly['date'] = df_poly['published_utc'].str[0:10]\n",
    "df_poly[\"total_news_day\"] = df_poly.groupby('date')['id'].transform(len)\n",
    "df_poly = df_poly.groupby(['date','title_finBERT']).size().reset_index()\n",
    "df_poly.rename({0:'count'}, axis = 1, inplace = True)\n",
    "df_poly['date'] = pd.to_datetime(df_poly['date'], format='%Y-%m-%d')\n",
    "df_poly"
   ]
  },
  {
   "cell_type": "code",
   "execution_count": 5,
   "metadata": {},
   "outputs": [
    {
     "data": {
      "text/plain": [
       "date             datetime64[ns]\n",
       "title_finBERT            object\n",
       "count                     int64\n",
       "dtype: object"
      ]
     },
     "execution_count": 5,
     "metadata": {},
     "output_type": "execute_result"
    }
   ],
   "source": [
    "df_poly.dtypes"
   ]
  },
  {
   "cell_type": "markdown",
   "metadata": {},
   "source": [
    "## Tweets"
   ]
  },
  {
   "cell_type": "code",
   "execution_count": 6,
   "metadata": {},
   "outputs": [
    {
     "data": {
      "text/plain": [
       "id                     object\n",
       "created_at             object\n",
       "full_text              object\n",
       "truncated                bool\n",
       "retweets                int64\n",
       "user_name              object\n",
       "user_verified            bool\n",
       "user_followers          int64\n",
       "user_image_url         object\n",
       "ticker                 object\n",
       "tweet_finBERT          object\n",
       "tweet_financialBERT    object\n",
       "dtype: object"
      ]
     },
     "execution_count": 6,
     "metadata": {},
     "output_type": "execute_result"
    }
   ],
   "source": [
    "twt = Twitter()\n",
    "df_twt = twt.get_tweets_df(ticker = 'BTC', query = 'bitcoin OR BTC AND crypto', limit = 100, popular =True)\n",
    "df_twt['tweet_finBERT'] = sp.sentiment_finBERT(df_twt, 'full_text')\n",
    "df_twt['tweet_financialBERT'] = sp.sentiment_financialBERT(df_twt, 'full_text')\n",
    "df_twt.dtypes"
   ]
  },
  {
   "cell_type": "code",
   "execution_count": 7,
   "metadata": {},
   "outputs": [
    {
     "data": {
      "text/html": [
       "<div>\n",
       "<style scoped>\n",
       "    .dataframe tbody tr th:only-of-type {\n",
       "        vertical-align: middle;\n",
       "    }\n",
       "\n",
       "    .dataframe tbody tr th {\n",
       "        vertical-align: top;\n",
       "    }\n",
       "\n",
       "    .dataframe thead th {\n",
       "        text-align: right;\n",
       "    }\n",
       "</style>\n",
       "<table border=\"1\" class=\"dataframe\">\n",
       "  <thead>\n",
       "    <tr style=\"text-align: right;\">\n",
       "      <th></th>\n",
       "      <th>id</th>\n",
       "      <th>created_at</th>\n",
       "      <th>full_text</th>\n",
       "      <th>truncated</th>\n",
       "      <th>retweets</th>\n",
       "      <th>user_name</th>\n",
       "      <th>user_verified</th>\n",
       "      <th>user_followers</th>\n",
       "      <th>user_image_url</th>\n",
       "      <th>ticker</th>\n",
       "      <th>tweet_finBERT</th>\n",
       "      <th>tweet_financialBERT</th>\n",
       "    </tr>\n",
       "  </thead>\n",
       "  <tbody>\n",
       "    <tr>\n",
       "      <th>0</th>\n",
       "      <td>1543591384602533888</td>\n",
       "      <td>Sun Jul 03 13:43:59 +0000 2022</td>\n",
       "      <td>bitcoin was $45,000 and ethereum was $3000 whe...</td>\n",
       "      <td>False</td>\n",
       "      <td>337</td>\n",
       "      <td>cobie</td>\n",
       "      <td>True</td>\n",
       "      <td>713006</td>\n",
       "      <td>http://pbs.twimg.com/profile_images/1542300448...</td>\n",
       "      <td>BTC</td>\n",
       "      <td>neutral</td>\n",
       "      <td>neutral</td>\n",
       "    </tr>\n",
       "    <tr>\n",
       "      <th>1</th>\n",
       "      <td>1543315422740525056</td>\n",
       "      <td>Sat Jul 02 19:27:24 +0000 2022</td>\n",
       "      <td>The El Salvador Bitcoin \"Experiment\" has not o...</td>\n",
       "      <td>False</td>\n",
       "      <td>91</td>\n",
       "      <td>ncweaver</td>\n",
       "      <td>True</td>\n",
       "      <td>24077</td>\n",
       "      <td>http://pbs.twimg.com/profile_images/1509903909...</td>\n",
       "      <td>BTC</td>\n",
       "      <td>neutral</td>\n",
       "      <td>negative</td>\n",
       "    </tr>\n",
       "    <tr>\n",
       "      <th>2</th>\n",
       "      <td>1543098138612973568</td>\n",
       "      <td>Sat Jul 02 05:04:00 +0000 2022</td>\n",
       "      <td>I am just going to keep stacking #bitcoin and ...</td>\n",
       "      <td>False</td>\n",
       "      <td>165</td>\n",
       "      <td>TheCryptoLark</td>\n",
       "      <td>True</td>\n",
       "      <td>1023967</td>\n",
       "      <td>http://pbs.twimg.com/profile_images/1482889740...</td>\n",
       "      <td>BTC</td>\n",
       "      <td>neutral</td>\n",
       "      <td>neutral</td>\n",
       "    </tr>\n",
       "    <tr>\n",
       "      <th>3</th>\n",
       "      <td>1543621772687335430</td>\n",
       "      <td>Sun Jul 03 15:44:44 +0000 2022</td>\n",
       "      <td>We have an AMA with @metfxmetaverse at 5 PM UT...</td>\n",
       "      <td>False</td>\n",
       "      <td>77</td>\n",
       "      <td>GollumsGems</td>\n",
       "      <td>True</td>\n",
       "      <td>29394</td>\n",
       "      <td>http://pbs.twimg.com/profile_images/1524397405...</td>\n",
       "      <td>BTC</td>\n",
       "      <td>neutral</td>\n",
       "      <td>positive</td>\n",
       "    </tr>\n",
       "    <tr>\n",
       "      <th>4</th>\n",
       "      <td>1543241259451555842</td>\n",
       "      <td>Sat Jul 02 14:32:42 +0000 2022</td>\n",
       "      <td>Top #Bitcoin whale accumulates 4816 BTC, spend...</td>\n",
       "      <td>False</td>\n",
       "      <td>126</td>\n",
       "      <td>WhaleCoinTalk</td>\n",
       "      <td>True</td>\n",
       "      <td>125195</td>\n",
       "      <td>http://pbs.twimg.com/profile_images/1495764154...</td>\n",
       "      <td>BTC</td>\n",
       "      <td>neutral</td>\n",
       "      <td>neutral</td>\n",
       "    </tr>\n",
       "    <tr>\n",
       "      <th>5</th>\n",
       "      <td>1543263478827298820</td>\n",
       "      <td>Sat Jul 02 16:01:00 +0000 2022</td>\n",
       "      <td>Blackrock, $BLK, has said #Bitcoin and crypto ...</td>\n",
       "      <td>False</td>\n",
       "      <td>83</td>\n",
       "      <td>unusual_whales</td>\n",
       "      <td>True</td>\n",
       "      <td>657481</td>\n",
       "      <td>http://pbs.twimg.com/profile_images/1479920678...</td>\n",
       "      <td>BTC</td>\n",
       "      <td>neutral</td>\n",
       "      <td>neutral</td>\n",
       "    </tr>\n",
       "    <tr>\n",
       "      <th>6</th>\n",
       "      <td>1543015091259555840</td>\n",
       "      <td>Fri Jul 01 23:34:00 +0000 2022</td>\n",
       "      <td>Many of the world's richest and most famous in...</td>\n",
       "      <td>False</td>\n",
       "      <td>150</td>\n",
       "      <td>TheCryptoLark</td>\n",
       "      <td>True</td>\n",
       "      <td>1023967</td>\n",
       "      <td>http://pbs.twimg.com/profile_images/1482889740...</td>\n",
       "      <td>BTC</td>\n",
       "      <td>neutral</td>\n",
       "      <td>neutral</td>\n",
       "    </tr>\n",
       "    <tr>\n",
       "      <th>7</th>\n",
       "      <td>1543425444615139328</td>\n",
       "      <td>Sun Jul 03 02:44:36 +0000 2022</td>\n",
       "      <td>Vote for your favorite #UFC276 athletes to win...</td>\n",
       "      <td>False</td>\n",
       "      <td>55</td>\n",
       "      <td>ufc</td>\n",
       "      <td>True</td>\n",
       "      <td>9957141</td>\n",
       "      <td>http://pbs.twimg.com/profile_images/1543467453...</td>\n",
       "      <td>BTC</td>\n",
       "      <td>neutral</td>\n",
       "      <td>positive</td>\n",
       "    </tr>\n",
       "    <tr>\n",
       "      <th>8</th>\n",
       "      <td>1543588682967531528</td>\n",
       "      <td>Sun Jul 03 13:33:15 +0000 2022</td>\n",
       "      <td>Pick your #crypto team:\\n\\nTeam 🅰️           T...</td>\n",
       "      <td>False</td>\n",
       "      <td>58</td>\n",
       "      <td>TheMoonCarl</td>\n",
       "      <td>True</td>\n",
       "      <td>1135770</td>\n",
       "      <td>http://pbs.twimg.com/profile_images/1490246864...</td>\n",
       "      <td>BTC</td>\n",
       "      <td>neutral</td>\n",
       "      <td>neutral</td>\n",
       "    </tr>\n",
       "    <tr>\n",
       "      <th>9</th>\n",
       "      <td>1543600482127646720</td>\n",
       "      <td>Sun Jul 03 14:20:08 +0000 2022</td>\n",
       "      <td>In 2019, Maastricht University (Netherlands) p...</td>\n",
       "      <td>False</td>\n",
       "      <td>43</td>\n",
       "      <td>campuscodi</td>\n",
       "      <td>True</td>\n",
       "      <td>103050</td>\n",
       "      <td>http://pbs.twimg.com/profile_images/1312122090...</td>\n",
       "      <td>BTC</td>\n",
       "      <td>neutral</td>\n",
       "      <td>neutral</td>\n",
       "    </tr>\n",
       "    <tr>\n",
       "      <th>10</th>\n",
       "      <td>1543346983032786945</td>\n",
       "      <td>Sat Jul 02 21:32:49 +0000 2022</td>\n",
       "      <td>#EU institutions agree to put the “Wild West” ...</td>\n",
       "      <td>False</td>\n",
       "      <td>62</td>\n",
       "      <td>BTCTN</td>\n",
       "      <td>True</td>\n",
       "      <td>2633008</td>\n",
       "      <td>http://pbs.twimg.com/profile_images/1140965421...</td>\n",
       "      <td>BTC</td>\n",
       "      <td>positive</td>\n",
       "      <td>neutral</td>\n",
       "    </tr>\n",
       "    <tr>\n",
       "      <th>11</th>\n",
       "      <td>1543261467532836870</td>\n",
       "      <td>Sat Jul 02 15:53:00 +0000 2022</td>\n",
       "      <td>When Bitcoiners cheer for President Bukele, th...</td>\n",
       "      <td>False</td>\n",
       "      <td>107</td>\n",
       "      <td>raudaz_</td>\n",
       "      <td>True</td>\n",
       "      <td>32473</td>\n",
       "      <td>http://pbs.twimg.com/profile_images/1512452568...</td>\n",
       "      <td>BTC</td>\n",
       "      <td>neutral</td>\n",
       "      <td>neutral</td>\n",
       "    </tr>\n",
       "    <tr>\n",
       "      <th>12</th>\n",
       "      <td>1543487234350796800</td>\n",
       "      <td>Sun Jul 03 06:50:07 +0000 2022</td>\n",
       "      <td>How systemic is the dislocation being experien...</td>\n",
       "      <td>False</td>\n",
       "      <td>45</td>\n",
       "      <td>elerianm</td>\n",
       "      <td>True</td>\n",
       "      <td>521870</td>\n",
       "      <td>http://pbs.twimg.com/profile_images/1016847534...</td>\n",
       "      <td>BTC</td>\n",
       "      <td>neutral</td>\n",
       "      <td>neutral</td>\n",
       "    </tr>\n",
       "    <tr>\n",
       "      <th>13</th>\n",
       "      <td>1543391987142987776</td>\n",
       "      <td>Sun Jul 03 00:31:39 +0000 2022</td>\n",
       "      <td>The Nasdaq-listed cryptocurrency exchange #Coi...</td>\n",
       "      <td>False</td>\n",
       "      <td>63</td>\n",
       "      <td>BTCTN</td>\n",
       "      <td>True</td>\n",
       "      <td>2633008</td>\n",
       "      <td>http://pbs.twimg.com/profile_images/1140965421...</td>\n",
       "      <td>BTC</td>\n",
       "      <td>neutral</td>\n",
       "      <td>neutral</td>\n",
       "    </tr>\n",
       "    <tr>\n",
       "      <th>14</th>\n",
       "      <td>1543158279656058880</td>\n",
       "      <td>Sat Jul 02 09:02:59 +0000 2022</td>\n",
       "      <td>What is #Bitcoin Dominance :\\n\\nBitcoin domina...</td>\n",
       "      <td>False</td>\n",
       "      <td>58</td>\n",
       "      <td>CryptooIndia</td>\n",
       "      <td>True</td>\n",
       "      <td>237886</td>\n",
       "      <td>http://pbs.twimg.com/profile_images/1540914609...</td>\n",
       "      <td>BTC</td>\n",
       "      <td>neutral</td>\n",
       "      <td>neutral</td>\n",
       "    </tr>\n",
       "    <tr>\n",
       "      <th>15</th>\n",
       "      <td>1542960700728832000</td>\n",
       "      <td>Fri Jul 01 19:57:52 +0000 2022</td>\n",
       "      <td>Breaking! Voyager has suspended withdrawals! #...</td>\n",
       "      <td>False</td>\n",
       "      <td>186</td>\n",
       "      <td>TheCryptoLark</td>\n",
       "      <td>True</td>\n",
       "      <td>1023967</td>\n",
       "      <td>http://pbs.twimg.com/profile_images/1482889740...</td>\n",
       "      <td>BTC</td>\n",
       "      <td>negative</td>\n",
       "      <td>neutral</td>\n",
       "    </tr>\n",
       "    <tr>\n",
       "      <th>16</th>\n",
       "      <td>1543014621472333824</td>\n",
       "      <td>Fri Jul 01 23:32:08 +0000 2022</td>\n",
       "      <td>#Coincoinx, a #cryptocurrency exchange in #Ven...</td>\n",
       "      <td>False</td>\n",
       "      <td>67</td>\n",
       "      <td>BTCTN</td>\n",
       "      <td>True</td>\n",
       "      <td>2633008</td>\n",
       "      <td>http://pbs.twimg.com/profile_images/1140965421...</td>\n",
       "      <td>BTC</td>\n",
       "      <td>positive</td>\n",
       "      <td>positive</td>\n",
       "    </tr>\n",
       "    <tr>\n",
       "      <th>17</th>\n",
       "      <td>1542876211235397632</td>\n",
       "      <td>Fri Jul 01 14:22:08 +0000 2022</td>\n",
       "      <td>Friday I'm in love 😍\\nWhich #Crypto will be my...</td>\n",
       "      <td>False</td>\n",
       "      <td>774</td>\n",
       "      <td>mariapazdelgado</td>\n",
       "      <td>True</td>\n",
       "      <td>161406</td>\n",
       "      <td>http://pbs.twimg.com/profile_images/1512065127...</td>\n",
       "      <td>BTC</td>\n",
       "      <td>neutral</td>\n",
       "      <td>neutral</td>\n",
       "    </tr>\n",
       "    <tr>\n",
       "      <th>18</th>\n",
       "      <td>1543000437871239168</td>\n",
       "      <td>Fri Jul 01 22:35:46 +0000 2022</td>\n",
       "      <td>Imagine having your crypto assets on exchanges...</td>\n",
       "      <td>False</td>\n",
       "      <td>17</td>\n",
       "      <td>davidgokhshtein</td>\n",
       "      <td>True</td>\n",
       "      <td>664872</td>\n",
       "      <td>http://pbs.twimg.com/profile_images/1541965125...</td>\n",
       "      <td>BTC</td>\n",
       "      <td>neutral</td>\n",
       "      <td>neutral</td>\n",
       "    </tr>\n",
       "    <tr>\n",
       "      <th>19</th>\n",
       "      <td>1542948843041570823</td>\n",
       "      <td>Fri Jul 01 19:10:45 +0000 2022</td>\n",
       "      <td>What do the Terra Luna, Celsius, and Voyager f...</td>\n",
       "      <td>False</td>\n",
       "      <td>73</td>\n",
       "      <td>Bitboy_Crypto</td>\n",
       "      <td>True</td>\n",
       "      <td>858609</td>\n",
       "      <td>http://pbs.twimg.com/profile_images/1503382435...</td>\n",
       "      <td>BTC</td>\n",
       "      <td>neutral</td>\n",
       "      <td>neutral</td>\n",
       "    </tr>\n",
       "    <tr>\n",
       "      <th>20</th>\n",
       "      <td>1542977126655221761</td>\n",
       "      <td>Fri Jul 01 21:03:08 +0000 2022</td>\n",
       "      <td>On July 1, the #crypto firm #Voyager announced...</td>\n",
       "      <td>False</td>\n",
       "      <td>49</td>\n",
       "      <td>BTCTN</td>\n",
       "      <td>True</td>\n",
       "      <td>2633008</td>\n",
       "      <td>http://pbs.twimg.com/profile_images/1140965421...</td>\n",
       "      <td>BTC</td>\n",
       "      <td>negative</td>\n",
       "      <td>neutral</td>\n",
       "    </tr>\n",
       "    <tr>\n",
       "      <th>21</th>\n",
       "      <td>1542944401575403521</td>\n",
       "      <td>Fri Jul 01 18:53:06 +0000 2022</td>\n",
       "      <td>#Bitcoin over #crypto with THE Dave Portnoy, @...</td>\n",
       "      <td>False</td>\n",
       "      <td>52</td>\n",
       "      <td>natbrunell</td>\n",
       "      <td>True</td>\n",
       "      <td>238514</td>\n",
       "      <td>http://pbs.twimg.com/profile_images/1539217266...</td>\n",
       "      <td>BTC</td>\n",
       "      <td>neutral</td>\n",
       "      <td>neutral</td>\n",
       "    </tr>\n",
       "    <tr>\n",
       "      <th>22</th>\n",
       "      <td>1542883785200619521</td>\n",
       "      <td>Fri Jul 01 14:52:14 +0000 2022</td>\n",
       "      <td>We have another concurrent bear flag shown on ...</td>\n",
       "      <td>False</td>\n",
       "      <td>237</td>\n",
       "      <td>OfficialTravlad</td>\n",
       "      <td>True</td>\n",
       "      <td>315020</td>\n",
       "      <td>http://pbs.twimg.com/profile_images/1542527100...</td>\n",
       "      <td>BTC</td>\n",
       "      <td>neutral</td>\n",
       "      <td>neutral</td>\n",
       "    </tr>\n",
       "    <tr>\n",
       "      <th>23</th>\n",
       "      <td>1542954673497325570</td>\n",
       "      <td>Fri Jul 01 19:33:55 +0000 2022</td>\n",
       "      <td>You are brave to hold your #bitcoin or any oth...</td>\n",
       "      <td>False</td>\n",
       "      <td>23</td>\n",
       "      <td>davidgokhshtein</td>\n",
       "      <td>True</td>\n",
       "      <td>664872</td>\n",
       "      <td>http://pbs.twimg.com/profile_images/1541965125...</td>\n",
       "      <td>BTC</td>\n",
       "      <td>neutral</td>\n",
       "      <td>neutral</td>\n",
       "    </tr>\n",
       "    <tr>\n",
       "      <th>24</th>\n",
       "      <td>1542947688882343936</td>\n",
       "      <td>Fri Jul 01 19:06:10 +0000 2022</td>\n",
       "      <td>I hope you are learning. SELF-CUSTODY is the o...</td>\n",
       "      <td>False</td>\n",
       "      <td>50</td>\n",
       "      <td>Bitboy_Crypto</td>\n",
       "      <td>True</td>\n",
       "      <td>858609</td>\n",
       "      <td>http://pbs.twimg.com/profile_images/1503382435...</td>\n",
       "      <td>BTC</td>\n",
       "      <td>neutral</td>\n",
       "      <td>neutral</td>\n",
       "    </tr>\n",
       "    <tr>\n",
       "      <th>25</th>\n",
       "      <td>1540778449719025664</td>\n",
       "      <td>Sat Jun 25 19:26:23 +0000 2022</td>\n",
       "      <td>I will send TWENTY people $100 each in #Bitcoi...</td>\n",
       "      <td>False</td>\n",
       "      <td>1453</td>\n",
       "      <td>OfficialTravlad</td>\n",
       "      <td>True</td>\n",
       "      <td>315020</td>\n",
       "      <td>http://pbs.twimg.com/profile_images/1542527100...</td>\n",
       "      <td>BTC</td>\n",
       "      <td>neutral</td>\n",
       "      <td>neutral</td>\n",
       "    </tr>\n",
       "    <tr>\n",
       "      <th>26</th>\n",
       "      <td>1542368838892879875</td>\n",
       "      <td>Thu Jun 30 04:46:01 +0000 2022</td>\n",
       "      <td>Everyone is talking about bearish things, but ...</td>\n",
       "      <td>False</td>\n",
       "      <td>458</td>\n",
       "      <td>ki_young_ju</td>\n",
       "      <td>True</td>\n",
       "      <td>301818</td>\n",
       "      <td>http://pbs.twimg.com/profile_images/1527757002...</td>\n",
       "      <td>BTC</td>\n",
       "      <td>negative</td>\n",
       "      <td>neutral</td>\n",
       "    </tr>\n",
       "    <tr>\n",
       "      <th>27</th>\n",
       "      <td>1541400160902815745</td>\n",
       "      <td>Mon Jun 27 12:36:50 +0000 2022</td>\n",
       "      <td>Goldman Sachs' crypto journey:\\n\\n2017: Bitcoi...</td>\n",
       "      <td>False</td>\n",
       "      <td>690</td>\n",
       "      <td>Blockworks_</td>\n",
       "      <td>True</td>\n",
       "      <td>350482</td>\n",
       "      <td>http://pbs.twimg.com/profile_images/1529547296...</td>\n",
       "      <td>BTC</td>\n",
       "      <td>neutral</td>\n",
       "      <td>neutral</td>\n",
       "    </tr>\n",
       "    <tr>\n",
       "      <th>28</th>\n",
       "      <td>1542370457898422273</td>\n",
       "      <td>Thu Jun 30 04:52:27 +0000 2022</td>\n",
       "      <td>🇪🇺 European Union has reached a provisional po...</td>\n",
       "      <td>False</td>\n",
       "      <td>379</td>\n",
       "      <td>WatcherGuru</td>\n",
       "      <td>True</td>\n",
       "      <td>1206934</td>\n",
       "      <td>http://pbs.twimg.com/profile_images/1475973046...</td>\n",
       "      <td>BTC</td>\n",
       "      <td>positive</td>\n",
       "      <td>neutral</td>\n",
       "    </tr>\n",
       "    <tr>\n",
       "      <th>29</th>\n",
       "      <td>1542138018500411392</td>\n",
       "      <td>Wed Jun 29 13:28:49 +0000 2022</td>\n",
       "      <td>JUST IN: #Bitcoin and crypto hedge fund Three ...</td>\n",
       "      <td>False</td>\n",
       "      <td>337</td>\n",
       "      <td>BitcoinMagazine</td>\n",
       "      <td>True</td>\n",
       "      <td>2553315</td>\n",
       "      <td>http://pbs.twimg.com/profile_images/1444022922...</td>\n",
       "      <td>BTC</td>\n",
       "      <td>negative</td>\n",
       "      <td>neutral</td>\n",
       "    </tr>\n",
       "    <tr>\n",
       "      <th>30</th>\n",
       "      <td>1540422895238877192</td>\n",
       "      <td>Fri Jun 24 19:53:32 +0000 2022</td>\n",
       "      <td>Last 48 hrs:\\n🔸#Binance at Zero Point Conf at ...</td>\n",
       "      <td>False</td>\n",
       "      <td>508</td>\n",
       "      <td>cz_binance</td>\n",
       "      <td>True</td>\n",
       "      <td>6557393</td>\n",
       "      <td>http://pbs.twimg.com/profile_images/1520776623...</td>\n",
       "      <td>BTC</td>\n",
       "      <td>neutral</td>\n",
       "      <td>neutral</td>\n",
       "    </tr>\n",
       "    <tr>\n",
       "      <th>31</th>\n",
       "      <td>1540457742023933958</td>\n",
       "      <td>Fri Jun 24 22:12:00 +0000 2022</td>\n",
       "      <td>Former Crypto Billionaire Insists Bitcoin Will...</td>\n",
       "      <td>False</td>\n",
       "      <td>167</td>\n",
       "      <td>ForbesCrypto</td>\n",
       "      <td>True</td>\n",
       "      <td>495478</td>\n",
       "      <td>http://pbs.twimg.com/profile_images/1379183988...</td>\n",
       "      <td>BTC</td>\n",
       "      <td>neutral</td>\n",
       "      <td>neutral</td>\n",
       "    </tr>\n",
       "    <tr>\n",
       "      <th>32</th>\n",
       "      <td>1540717063311749120</td>\n",
       "      <td>Sat Jun 25 15:22:27 +0000 2022</td>\n",
       "      <td>I have 3 #ETH to invest! \\nWhat’s is the next ...</td>\n",
       "      <td>False</td>\n",
       "      <td>304</td>\n",
       "      <td>lucasvelascook</td>\n",
       "      <td>True</td>\n",
       "      <td>244129</td>\n",
       "      <td>http://pbs.twimg.com/profile_images/1521554696...</td>\n",
       "      <td>BTC</td>\n",
       "      <td>neutral</td>\n",
       "      <td>neutral</td>\n",
       "    </tr>\n",
       "    <tr>\n",
       "      <th>33</th>\n",
       "      <td>1540289919096086533</td>\n",
       "      <td>Fri Jun 24 11:05:08 +0000 2022</td>\n",
       "      <td>Do you believe #Bitcoin and #crypto education ...</td>\n",
       "      <td>False</td>\n",
       "      <td>175</td>\n",
       "      <td>TheMoonCarl</td>\n",
       "      <td>True</td>\n",
       "      <td>1135770</td>\n",
       "      <td>http://pbs.twimg.com/profile_images/1490246864...</td>\n",
       "      <td>BTC</td>\n",
       "      <td>neutral</td>\n",
       "      <td>neutral</td>\n",
       "    </tr>\n",
       "    <tr>\n",
       "      <th>34</th>\n",
       "      <td>1540770322852417537</td>\n",
       "      <td>Sat Jun 25 18:54:05 +0000 2022</td>\n",
       "      <td>Bitcoin has never paid a single dollar to get ...</td>\n",
       "      <td>False</td>\n",
       "      <td>175</td>\n",
       "      <td>RufasKe</td>\n",
       "      <td>True</td>\n",
       "      <td>20572</td>\n",
       "      <td>http://pbs.twimg.com/profile_images/1534994709...</td>\n",
       "      <td>BTC</td>\n",
       "      <td>neutral</td>\n",
       "      <td>neutral</td>\n",
       "    </tr>\n",
       "    <tr>\n",
       "      <th>35</th>\n",
       "      <td>1540759009874944002</td>\n",
       "      <td>Sat Jun 25 18:09:08 +0000 2022</td>\n",
       "      <td>The prolonged slump in Bitcoin is making it mo...</td>\n",
       "      <td>False</td>\n",
       "      <td>138</td>\n",
       "      <td>crypto</td>\n",
       "      <td>True</td>\n",
       "      <td>923861</td>\n",
       "      <td>http://pbs.twimg.com/profile_images/1483830321...</td>\n",
       "      <td>BTC</td>\n",
       "      <td>negative</td>\n",
       "      <td>negative</td>\n",
       "    </tr>\n",
       "    <tr>\n",
       "      <th>36</th>\n",
       "      <td>1540728872026509312</td>\n",
       "      <td>Sat Jun 25 16:09:23 +0000 2022</td>\n",
       "      <td>‘Heading To Zero’—China Issues Shock Bitcoin P...</td>\n",
       "      <td>False</td>\n",
       "      <td>84</td>\n",
       "      <td>Forbes</td>\n",
       "      <td>True</td>\n",
       "      <td>18074197</td>\n",
       "      <td>http://pbs.twimg.com/profile_images/1448413506...</td>\n",
       "      <td>BTC</td>\n",
       "      <td>negative</td>\n",
       "      <td>neutral</td>\n",
       "    </tr>\n",
       "    <tr>\n",
       "      <th>37</th>\n",
       "      <td>1540355113969397760</td>\n",
       "      <td>Fri Jun 24 15:24:12 +0000 2022</td>\n",
       "      <td>Never forget.  The only people in crypto that ...</td>\n",
       "      <td>False</td>\n",
       "      <td>150</td>\n",
       "      <td>digitalassetbuy</td>\n",
       "      <td>True</td>\n",
       "      <td>276119</td>\n",
       "      <td>http://pbs.twimg.com/profile_images/1076901702...</td>\n",
       "      <td>BTC</td>\n",
       "      <td>neutral</td>\n",
       "      <td>neutral</td>\n",
       "    </tr>\n",
       "    <tr>\n",
       "      <th>38</th>\n",
       "      <td>1540508134975881216</td>\n",
       "      <td>Sat Jun 25 01:32:15 +0000 2022</td>\n",
       "      <td>A Chinese state-run newspaper has warned about...</td>\n",
       "      <td>False</td>\n",
       "      <td>94</td>\n",
       "      <td>BTCTN</td>\n",
       "      <td>True</td>\n",
       "      <td>2633008</td>\n",
       "      <td>http://pbs.twimg.com/profile_images/1140965421...</td>\n",
       "      <td>BTC</td>\n",
       "      <td>negative</td>\n",
       "      <td>negative</td>\n",
       "    </tr>\n",
       "    <tr>\n",
       "      <th>39</th>\n",
       "      <td>1540349597054279680</td>\n",
       "      <td>Fri Jun 24 15:02:16 +0000 2022</td>\n",
       "      <td>Will we close the week above or below 20k?🤨 #B...</td>\n",
       "      <td>False</td>\n",
       "      <td>284</td>\n",
       "      <td>Mechilambre</td>\n",
       "      <td>True</td>\n",
       "      <td>1058447</td>\n",
       "      <td>http://pbs.twimg.com/profile_images/1528873851...</td>\n",
       "      <td>BTC</td>\n",
       "      <td>neutral</td>\n",
       "      <td>neutral</td>\n",
       "    </tr>\n",
       "    <tr>\n",
       "      <th>40</th>\n",
       "      <td>1540733305850675207</td>\n",
       "      <td>Sat Jun 25 16:27:00 +0000 2022</td>\n",
       "      <td>What is the best #crypto to hold in a bear mar...</td>\n",
       "      <td>False</td>\n",
       "      <td>122</td>\n",
       "      <td>rovercrc</td>\n",
       "      <td>True</td>\n",
       "      <td>263435</td>\n",
       "      <td>http://pbs.twimg.com/profile_images/1492942875...</td>\n",
       "      <td>BTC</td>\n",
       "      <td>neutral</td>\n",
       "      <td>positive</td>\n",
       "    </tr>\n",
       "    <tr>\n",
       "      <th>41</th>\n",
       "      <td>1540626286544134147</td>\n",
       "      <td>Sat Jun 25 09:21:44 +0000 2022</td>\n",
       "      <td>The largest current known non-exchange Bitcoin...</td>\n",
       "      <td>False</td>\n",
       "      <td>35</td>\n",
       "      <td>AltCryptoGems</td>\n",
       "      <td>True</td>\n",
       "      <td>200993</td>\n",
       "      <td>http://pbs.twimg.com/profile_images/1513864361...</td>\n",
       "      <td>BTC</td>\n",
       "      <td>neutral</td>\n",
       "      <td>neutral</td>\n",
       "    </tr>\n",
       "    <tr>\n",
       "      <th>42</th>\n",
       "      <td>1540385170800484355</td>\n",
       "      <td>Fri Jun 24 17:23:38 +0000 2022</td>\n",
       "      <td>Bitcoin doesn’t need regulation. \\n\\nIt’s perf...</td>\n",
       "      <td>False</td>\n",
       "      <td>50</td>\n",
       "      <td>scottmelker</td>\n",
       "      <td>True</td>\n",
       "      <td>850996</td>\n",
       "      <td>http://pbs.twimg.com/profile_images/1410248424...</td>\n",
       "      <td>BTC</td>\n",
       "      <td>neutral</td>\n",
       "      <td>neutral</td>\n",
       "    </tr>\n",
       "    <tr>\n",
       "      <th>43</th>\n",
       "      <td>1540613692693397504</td>\n",
       "      <td>Sat Jun 25 08:31:42 +0000 2022</td>\n",
       "      <td>#Bybit stated that this decision was made \"tak...</td>\n",
       "      <td>False</td>\n",
       "      <td>80</td>\n",
       "      <td>BTCTN</td>\n",
       "      <td>True</td>\n",
       "      <td>2633008</td>\n",
       "      <td>http://pbs.twimg.com/profile_images/1140965421...</td>\n",
       "      <td>BTC</td>\n",
       "      <td>neutral</td>\n",
       "      <td>neutral</td>\n",
       "    </tr>\n",
       "    <tr>\n",
       "      <th>44</th>\n",
       "      <td>1540334568921784322</td>\n",
       "      <td>Fri Jun 24 14:02:33 +0000 2022</td>\n",
       "      <td>The first #crypto derivatives investment vehic...</td>\n",
       "      <td>False</td>\n",
       "      <td>36</td>\n",
       "      <td>BTCTN</td>\n",
       "      <td>True</td>\n",
       "      <td>2633008</td>\n",
       "      <td>http://pbs.twimg.com/profile_images/1140965421...</td>\n",
       "      <td>BTC</td>\n",
       "      <td>neutral</td>\n",
       "      <td>neutral</td>\n",
       "    </tr>\n",
       "    <tr>\n",
       "      <th>45</th>\n",
       "      <td>1540236349470642179</td>\n",
       "      <td>Fri Jun 24 07:32:16 +0000 2022</td>\n",
       "      <td>#Swiss regulator compares current #crypto mark...</td>\n",
       "      <td>False</td>\n",
       "      <td>44</td>\n",
       "      <td>BTCTN</td>\n",
       "      <td>True</td>\n",
       "      <td>2633008</td>\n",
       "      <td>http://pbs.twimg.com/profile_images/1140965421...</td>\n",
       "      <td>BTC</td>\n",
       "      <td>neutral</td>\n",
       "      <td>neutral</td>\n",
       "    </tr>\n",
       "    <tr>\n",
       "      <th>46</th>\n",
       "      <td>1540286973709017090</td>\n",
       "      <td>Fri Jun 24 10:53:26 +0000 2022</td>\n",
       "      <td>🗞 Crypto weekly headlines:\\n\\n👉 RBI to launch ...</td>\n",
       "      <td>False</td>\n",
       "      <td>42</td>\n",
       "      <td>WazirXIndia</td>\n",
       "      <td>True</td>\n",
       "      <td>595477</td>\n",
       "      <td>http://pbs.twimg.com/profile_images/1410508801...</td>\n",
       "      <td>BTC</td>\n",
       "      <td>positive</td>\n",
       "      <td>positive</td>\n",
       "    </tr>\n",
       "  </tbody>\n",
       "</table>\n",
       "</div>"
      ],
      "text/plain": [
       "                     id                      created_at  \\\n",
       "0   1543591384602533888  Sun Jul 03 13:43:59 +0000 2022   \n",
       "1   1543315422740525056  Sat Jul 02 19:27:24 +0000 2022   \n",
       "2   1543098138612973568  Sat Jul 02 05:04:00 +0000 2022   \n",
       "3   1543621772687335430  Sun Jul 03 15:44:44 +0000 2022   \n",
       "4   1543241259451555842  Sat Jul 02 14:32:42 +0000 2022   \n",
       "5   1543263478827298820  Sat Jul 02 16:01:00 +0000 2022   \n",
       "6   1543015091259555840  Fri Jul 01 23:34:00 +0000 2022   \n",
       "7   1543425444615139328  Sun Jul 03 02:44:36 +0000 2022   \n",
       "8   1543588682967531528  Sun Jul 03 13:33:15 +0000 2022   \n",
       "9   1543600482127646720  Sun Jul 03 14:20:08 +0000 2022   \n",
       "10  1543346983032786945  Sat Jul 02 21:32:49 +0000 2022   \n",
       "11  1543261467532836870  Sat Jul 02 15:53:00 +0000 2022   \n",
       "12  1543487234350796800  Sun Jul 03 06:50:07 +0000 2022   \n",
       "13  1543391987142987776  Sun Jul 03 00:31:39 +0000 2022   \n",
       "14  1543158279656058880  Sat Jul 02 09:02:59 +0000 2022   \n",
       "15  1542960700728832000  Fri Jul 01 19:57:52 +0000 2022   \n",
       "16  1543014621472333824  Fri Jul 01 23:32:08 +0000 2022   \n",
       "17  1542876211235397632  Fri Jul 01 14:22:08 +0000 2022   \n",
       "18  1543000437871239168  Fri Jul 01 22:35:46 +0000 2022   \n",
       "19  1542948843041570823  Fri Jul 01 19:10:45 +0000 2022   \n",
       "20  1542977126655221761  Fri Jul 01 21:03:08 +0000 2022   \n",
       "21  1542944401575403521  Fri Jul 01 18:53:06 +0000 2022   \n",
       "22  1542883785200619521  Fri Jul 01 14:52:14 +0000 2022   \n",
       "23  1542954673497325570  Fri Jul 01 19:33:55 +0000 2022   \n",
       "24  1542947688882343936  Fri Jul 01 19:06:10 +0000 2022   \n",
       "25  1540778449719025664  Sat Jun 25 19:26:23 +0000 2022   \n",
       "26  1542368838892879875  Thu Jun 30 04:46:01 +0000 2022   \n",
       "27  1541400160902815745  Mon Jun 27 12:36:50 +0000 2022   \n",
       "28  1542370457898422273  Thu Jun 30 04:52:27 +0000 2022   \n",
       "29  1542138018500411392  Wed Jun 29 13:28:49 +0000 2022   \n",
       "30  1540422895238877192  Fri Jun 24 19:53:32 +0000 2022   \n",
       "31  1540457742023933958  Fri Jun 24 22:12:00 +0000 2022   \n",
       "32  1540717063311749120  Sat Jun 25 15:22:27 +0000 2022   \n",
       "33  1540289919096086533  Fri Jun 24 11:05:08 +0000 2022   \n",
       "34  1540770322852417537  Sat Jun 25 18:54:05 +0000 2022   \n",
       "35  1540759009874944002  Sat Jun 25 18:09:08 +0000 2022   \n",
       "36  1540728872026509312  Sat Jun 25 16:09:23 +0000 2022   \n",
       "37  1540355113969397760  Fri Jun 24 15:24:12 +0000 2022   \n",
       "38  1540508134975881216  Sat Jun 25 01:32:15 +0000 2022   \n",
       "39  1540349597054279680  Fri Jun 24 15:02:16 +0000 2022   \n",
       "40  1540733305850675207  Sat Jun 25 16:27:00 +0000 2022   \n",
       "41  1540626286544134147  Sat Jun 25 09:21:44 +0000 2022   \n",
       "42  1540385170800484355  Fri Jun 24 17:23:38 +0000 2022   \n",
       "43  1540613692693397504  Sat Jun 25 08:31:42 +0000 2022   \n",
       "44  1540334568921784322  Fri Jun 24 14:02:33 +0000 2022   \n",
       "45  1540236349470642179  Fri Jun 24 07:32:16 +0000 2022   \n",
       "46  1540286973709017090  Fri Jun 24 10:53:26 +0000 2022   \n",
       "\n",
       "                                            full_text  truncated  retweets  \\\n",
       "0   bitcoin was $45,000 and ethereum was $3000 whe...      False       337   \n",
       "1   The El Salvador Bitcoin \"Experiment\" has not o...      False        91   \n",
       "2   I am just going to keep stacking #bitcoin and ...      False       165   \n",
       "3   We have an AMA with @metfxmetaverse at 5 PM UT...      False        77   \n",
       "4   Top #Bitcoin whale accumulates 4816 BTC, spend...      False       126   \n",
       "5   Blackrock, $BLK, has said #Bitcoin and crypto ...      False        83   \n",
       "6   Many of the world's richest and most famous in...      False       150   \n",
       "7   Vote for your favorite #UFC276 athletes to win...      False        55   \n",
       "8   Pick your #crypto team:\\n\\nTeam 🅰️           T...      False        58   \n",
       "9   In 2019, Maastricht University (Netherlands) p...      False        43   \n",
       "10  #EU institutions agree to put the “Wild West” ...      False        62   \n",
       "11  When Bitcoiners cheer for President Bukele, th...      False       107   \n",
       "12  How systemic is the dislocation being experien...      False        45   \n",
       "13  The Nasdaq-listed cryptocurrency exchange #Coi...      False        63   \n",
       "14  What is #Bitcoin Dominance :\\n\\nBitcoin domina...      False        58   \n",
       "15  Breaking! Voyager has suspended withdrawals! #...      False       186   \n",
       "16  #Coincoinx, a #cryptocurrency exchange in #Ven...      False        67   \n",
       "17  Friday I'm in love 😍\\nWhich #Crypto will be my...      False       774   \n",
       "18  Imagine having your crypto assets on exchanges...      False        17   \n",
       "19  What do the Terra Luna, Celsius, and Voyager f...      False        73   \n",
       "20  On July 1, the #crypto firm #Voyager announced...      False        49   \n",
       "21  #Bitcoin over #crypto with THE Dave Portnoy, @...      False        52   \n",
       "22  We have another concurrent bear flag shown on ...      False       237   \n",
       "23  You are brave to hold your #bitcoin or any oth...      False        23   \n",
       "24  I hope you are learning. SELF-CUSTODY is the o...      False        50   \n",
       "25  I will send TWENTY people $100 each in #Bitcoi...      False      1453   \n",
       "26  Everyone is talking about bearish things, but ...      False       458   \n",
       "27  Goldman Sachs' crypto journey:\\n\\n2017: Bitcoi...      False       690   \n",
       "28  🇪🇺 European Union has reached a provisional po...      False       379   \n",
       "29  JUST IN: #Bitcoin and crypto hedge fund Three ...      False       337   \n",
       "30  Last 48 hrs:\\n🔸#Binance at Zero Point Conf at ...      False       508   \n",
       "31  Former Crypto Billionaire Insists Bitcoin Will...      False       167   \n",
       "32  I have 3 #ETH to invest! \\nWhat’s is the next ...      False       304   \n",
       "33  Do you believe #Bitcoin and #crypto education ...      False       175   \n",
       "34  Bitcoin has never paid a single dollar to get ...      False       175   \n",
       "35  The prolonged slump in Bitcoin is making it mo...      False       138   \n",
       "36  ‘Heading To Zero’—China Issues Shock Bitcoin P...      False        84   \n",
       "37  Never forget.  The only people in crypto that ...      False       150   \n",
       "38  A Chinese state-run newspaper has warned about...      False        94   \n",
       "39  Will we close the week above or below 20k?🤨 #B...      False       284   \n",
       "40  What is the best #crypto to hold in a bear mar...      False       122   \n",
       "41  The largest current known non-exchange Bitcoin...      False        35   \n",
       "42  Bitcoin doesn’t need regulation. \\n\\nIt’s perf...      False        50   \n",
       "43  #Bybit stated that this decision was made \"tak...      False        80   \n",
       "44  The first #crypto derivatives investment vehic...      False        36   \n",
       "45  #Swiss regulator compares current #crypto mark...      False        44   \n",
       "46  🗞 Crypto weekly headlines:\\n\\n👉 RBI to launch ...      False        42   \n",
       "\n",
       "          user_name  user_verified  user_followers  \\\n",
       "0             cobie           True          713006   \n",
       "1          ncweaver           True           24077   \n",
       "2     TheCryptoLark           True         1023967   \n",
       "3       GollumsGems           True           29394   \n",
       "4     WhaleCoinTalk           True          125195   \n",
       "5    unusual_whales           True          657481   \n",
       "6     TheCryptoLark           True         1023967   \n",
       "7               ufc           True         9957141   \n",
       "8       TheMoonCarl           True         1135770   \n",
       "9        campuscodi           True          103050   \n",
       "10            BTCTN           True         2633008   \n",
       "11          raudaz_           True           32473   \n",
       "12         elerianm           True          521870   \n",
       "13            BTCTN           True         2633008   \n",
       "14     CryptooIndia           True          237886   \n",
       "15    TheCryptoLark           True         1023967   \n",
       "16            BTCTN           True         2633008   \n",
       "17  mariapazdelgado           True          161406   \n",
       "18  davidgokhshtein           True          664872   \n",
       "19    Bitboy_Crypto           True          858609   \n",
       "20            BTCTN           True         2633008   \n",
       "21       natbrunell           True          238514   \n",
       "22  OfficialTravlad           True          315020   \n",
       "23  davidgokhshtein           True          664872   \n",
       "24    Bitboy_Crypto           True          858609   \n",
       "25  OfficialTravlad           True          315020   \n",
       "26      ki_young_ju           True          301818   \n",
       "27      Blockworks_           True          350482   \n",
       "28      WatcherGuru           True         1206934   \n",
       "29  BitcoinMagazine           True         2553315   \n",
       "30       cz_binance           True         6557393   \n",
       "31     ForbesCrypto           True          495478   \n",
       "32   lucasvelascook           True          244129   \n",
       "33      TheMoonCarl           True         1135770   \n",
       "34          RufasKe           True           20572   \n",
       "35           crypto           True          923861   \n",
       "36           Forbes           True        18074197   \n",
       "37  digitalassetbuy           True          276119   \n",
       "38            BTCTN           True         2633008   \n",
       "39      Mechilambre           True         1058447   \n",
       "40         rovercrc           True          263435   \n",
       "41    AltCryptoGems           True          200993   \n",
       "42      scottmelker           True          850996   \n",
       "43            BTCTN           True         2633008   \n",
       "44            BTCTN           True         2633008   \n",
       "45            BTCTN           True         2633008   \n",
       "46      WazirXIndia           True          595477   \n",
       "\n",
       "                                       user_image_url ticker tweet_finBERT  \\\n",
       "0   http://pbs.twimg.com/profile_images/1542300448...    BTC       neutral   \n",
       "1   http://pbs.twimg.com/profile_images/1509903909...    BTC       neutral   \n",
       "2   http://pbs.twimg.com/profile_images/1482889740...    BTC       neutral   \n",
       "3   http://pbs.twimg.com/profile_images/1524397405...    BTC       neutral   \n",
       "4   http://pbs.twimg.com/profile_images/1495764154...    BTC       neutral   \n",
       "5   http://pbs.twimg.com/profile_images/1479920678...    BTC       neutral   \n",
       "6   http://pbs.twimg.com/profile_images/1482889740...    BTC       neutral   \n",
       "7   http://pbs.twimg.com/profile_images/1543467453...    BTC       neutral   \n",
       "8   http://pbs.twimg.com/profile_images/1490246864...    BTC       neutral   \n",
       "9   http://pbs.twimg.com/profile_images/1312122090...    BTC       neutral   \n",
       "10  http://pbs.twimg.com/profile_images/1140965421...    BTC      positive   \n",
       "11  http://pbs.twimg.com/profile_images/1512452568...    BTC       neutral   \n",
       "12  http://pbs.twimg.com/profile_images/1016847534...    BTC       neutral   \n",
       "13  http://pbs.twimg.com/profile_images/1140965421...    BTC       neutral   \n",
       "14  http://pbs.twimg.com/profile_images/1540914609...    BTC       neutral   \n",
       "15  http://pbs.twimg.com/profile_images/1482889740...    BTC      negative   \n",
       "16  http://pbs.twimg.com/profile_images/1140965421...    BTC      positive   \n",
       "17  http://pbs.twimg.com/profile_images/1512065127...    BTC       neutral   \n",
       "18  http://pbs.twimg.com/profile_images/1541965125...    BTC       neutral   \n",
       "19  http://pbs.twimg.com/profile_images/1503382435...    BTC       neutral   \n",
       "20  http://pbs.twimg.com/profile_images/1140965421...    BTC      negative   \n",
       "21  http://pbs.twimg.com/profile_images/1539217266...    BTC       neutral   \n",
       "22  http://pbs.twimg.com/profile_images/1542527100...    BTC       neutral   \n",
       "23  http://pbs.twimg.com/profile_images/1541965125...    BTC       neutral   \n",
       "24  http://pbs.twimg.com/profile_images/1503382435...    BTC       neutral   \n",
       "25  http://pbs.twimg.com/profile_images/1542527100...    BTC       neutral   \n",
       "26  http://pbs.twimg.com/profile_images/1527757002...    BTC      negative   \n",
       "27  http://pbs.twimg.com/profile_images/1529547296...    BTC       neutral   \n",
       "28  http://pbs.twimg.com/profile_images/1475973046...    BTC      positive   \n",
       "29  http://pbs.twimg.com/profile_images/1444022922...    BTC      negative   \n",
       "30  http://pbs.twimg.com/profile_images/1520776623...    BTC       neutral   \n",
       "31  http://pbs.twimg.com/profile_images/1379183988...    BTC       neutral   \n",
       "32  http://pbs.twimg.com/profile_images/1521554696...    BTC       neutral   \n",
       "33  http://pbs.twimg.com/profile_images/1490246864...    BTC       neutral   \n",
       "34  http://pbs.twimg.com/profile_images/1534994709...    BTC       neutral   \n",
       "35  http://pbs.twimg.com/profile_images/1483830321...    BTC      negative   \n",
       "36  http://pbs.twimg.com/profile_images/1448413506...    BTC      negative   \n",
       "37  http://pbs.twimg.com/profile_images/1076901702...    BTC       neutral   \n",
       "38  http://pbs.twimg.com/profile_images/1140965421...    BTC      negative   \n",
       "39  http://pbs.twimg.com/profile_images/1528873851...    BTC       neutral   \n",
       "40  http://pbs.twimg.com/profile_images/1492942875...    BTC       neutral   \n",
       "41  http://pbs.twimg.com/profile_images/1513864361...    BTC       neutral   \n",
       "42  http://pbs.twimg.com/profile_images/1410248424...    BTC       neutral   \n",
       "43  http://pbs.twimg.com/profile_images/1140965421...    BTC       neutral   \n",
       "44  http://pbs.twimg.com/profile_images/1140965421...    BTC       neutral   \n",
       "45  http://pbs.twimg.com/profile_images/1140965421...    BTC       neutral   \n",
       "46  http://pbs.twimg.com/profile_images/1410508801...    BTC      positive   \n",
       "\n",
       "   tweet_financialBERT  \n",
       "0              neutral  \n",
       "1             negative  \n",
       "2              neutral  \n",
       "3             positive  \n",
       "4              neutral  \n",
       "5              neutral  \n",
       "6              neutral  \n",
       "7             positive  \n",
       "8              neutral  \n",
       "9              neutral  \n",
       "10             neutral  \n",
       "11             neutral  \n",
       "12             neutral  \n",
       "13             neutral  \n",
       "14             neutral  \n",
       "15             neutral  \n",
       "16            positive  \n",
       "17             neutral  \n",
       "18             neutral  \n",
       "19             neutral  \n",
       "20             neutral  \n",
       "21             neutral  \n",
       "22             neutral  \n",
       "23             neutral  \n",
       "24             neutral  \n",
       "25             neutral  \n",
       "26             neutral  \n",
       "27             neutral  \n",
       "28             neutral  \n",
       "29             neutral  \n",
       "30             neutral  \n",
       "31             neutral  \n",
       "32             neutral  \n",
       "33             neutral  \n",
       "34             neutral  \n",
       "35            negative  \n",
       "36             neutral  \n",
       "37             neutral  \n",
       "38            negative  \n",
       "39             neutral  \n",
       "40            positive  \n",
       "41             neutral  \n",
       "42             neutral  \n",
       "43             neutral  \n",
       "44             neutral  \n",
       "45             neutral  \n",
       "46            positive  "
      ]
     },
     "execution_count": 7,
     "metadata": {},
     "output_type": "execute_result"
    }
   ],
   "source": [
    "df_twt"
   ]
  },
  {
   "cell_type": "code",
   "execution_count": 8,
   "metadata": {},
   "outputs": [
    {
     "data": {
      "text/plain": [
       "'The prolonged slump in Bitcoin is making it more difficult for some miners to repay the up to $4 billion in loans they have backed by their equipment, posing a potential risk to major crypto lenders https://t.co/tx9VOfQl32'"
      ]
     },
     "execution_count": 8,
     "metadata": {},
     "output_type": "execute_result"
    }
   ],
   "source": [
    "df_twt['full_text'].iloc[35]"
   ]
  },
  {
   "cell_type": "code",
   "execution_count": 9,
   "metadata": {},
   "outputs": [
    {
     "data": {
      "text/html": [
       "<div>\n",
       "<style scoped>\n",
       "    .dataframe tbody tr th:only-of-type {\n",
       "        vertical-align: middle;\n",
       "    }\n",
       "\n",
       "    .dataframe tbody tr th {\n",
       "        vertical-align: top;\n",
       "    }\n",
       "\n",
       "    .dataframe thead th {\n",
       "        text-align: right;\n",
       "    }\n",
       "</style>\n",
       "<table border=\"1\" class=\"dataframe\">\n",
       "  <thead>\n",
       "    <tr style=\"text-align: right;\">\n",
       "      <th></th>\n",
       "      <th>date</th>\n",
       "      <th>tweet_finBERT</th>\n",
       "      <th>count</th>\n",
       "    </tr>\n",
       "  </thead>\n",
       "  <tbody>\n",
       "    <tr>\n",
       "      <th>0</th>\n",
       "      <td>2022-06-24</td>\n",
       "      <td>neutral</td>\n",
       "      <td>8</td>\n",
       "    </tr>\n",
       "    <tr>\n",
       "      <th>1</th>\n",
       "      <td>2022-06-24</td>\n",
       "      <td>positive</td>\n",
       "      <td>1</td>\n",
       "    </tr>\n",
       "    <tr>\n",
       "      <th>2</th>\n",
       "      <td>2022-06-25</td>\n",
       "      <td>negative</td>\n",
       "      <td>3</td>\n",
       "    </tr>\n",
       "    <tr>\n",
       "      <th>3</th>\n",
       "      <td>2022-06-25</td>\n",
       "      <td>neutral</td>\n",
       "      <td>6</td>\n",
       "    </tr>\n",
       "    <tr>\n",
       "      <th>4</th>\n",
       "      <td>2022-06-27</td>\n",
       "      <td>neutral</td>\n",
       "      <td>1</td>\n",
       "    </tr>\n",
       "    <tr>\n",
       "      <th>5</th>\n",
       "      <td>2022-06-29</td>\n",
       "      <td>negative</td>\n",
       "      <td>1</td>\n",
       "    </tr>\n",
       "    <tr>\n",
       "      <th>6</th>\n",
       "      <td>2022-06-30</td>\n",
       "      <td>negative</td>\n",
       "      <td>1</td>\n",
       "    </tr>\n",
       "    <tr>\n",
       "      <th>7</th>\n",
       "      <td>2022-06-30</td>\n",
       "      <td>positive</td>\n",
       "      <td>1</td>\n",
       "    </tr>\n",
       "    <tr>\n",
       "      <th>8</th>\n",
       "      <td>2022-07-01</td>\n",
       "      <td>negative</td>\n",
       "      <td>2</td>\n",
       "    </tr>\n",
       "    <tr>\n",
       "      <th>9</th>\n",
       "      <td>2022-07-01</td>\n",
       "      <td>neutral</td>\n",
       "      <td>8</td>\n",
       "    </tr>\n",
       "    <tr>\n",
       "      <th>10</th>\n",
       "      <td>2022-07-01</td>\n",
       "      <td>positive</td>\n",
       "      <td>1</td>\n",
       "    </tr>\n",
       "    <tr>\n",
       "      <th>11</th>\n",
       "      <td>2022-07-02</td>\n",
       "      <td>neutral</td>\n",
       "      <td>6</td>\n",
       "    </tr>\n",
       "    <tr>\n",
       "      <th>12</th>\n",
       "      <td>2022-07-02</td>\n",
       "      <td>positive</td>\n",
       "      <td>1</td>\n",
       "    </tr>\n",
       "    <tr>\n",
       "      <th>13</th>\n",
       "      <td>2022-07-03</td>\n",
       "      <td>neutral</td>\n",
       "      <td>7</td>\n",
       "    </tr>\n",
       "  </tbody>\n",
       "</table>\n",
       "</div>"
      ],
      "text/plain": [
       "         date tweet_finBERT  count\n",
       "0  2022-06-24       neutral      8\n",
       "1  2022-06-24      positive      1\n",
       "2  2022-06-25      negative      3\n",
       "3  2022-06-25       neutral      6\n",
       "4  2022-06-27       neutral      1\n",
       "5  2022-06-29      negative      1\n",
       "6  2022-06-30      negative      1\n",
       "7  2022-06-30      positive      1\n",
       "8  2022-07-01      negative      2\n",
       "9  2022-07-01       neutral      8\n",
       "10 2022-07-01      positive      1\n",
       "11 2022-07-02       neutral      6\n",
       "12 2022-07-02      positive      1\n",
       "13 2022-07-03       neutral      7"
      ]
     },
     "execution_count": 9,
     "metadata": {},
     "output_type": "execute_result"
    }
   ],
   "source": [
    "month_number = {'Jan':'01', 'Feb':'02', 'Mar':'03', 'Apr':'04', 'May': '05','Jun':'06', 'Jul':'07', 'Aug':'08', 'Sep':'09', 'Oct':'10', 'Nov':'11', 'Dec':'12'}\n",
    "\n",
    "df_twt['day'] = df_twt['created_at'].str[8:10]\n",
    "df_twt['month'] = df_twt['created_at'].str[4:7].map(month_number)\n",
    "df_twt['year'] = df_twt['created_at'].str[-4:]\n",
    "\n",
    "df_twt['date'] = df_twt['year'] + '-' + df_twt['month'] + '-' + df_twt['day'] \n",
    "#Twitter plots Data\n",
    "df_twt[\"total_news_day\"] = df_twt.groupby('date')['id'].transform(len)\n",
    "twt_df = df_twt.groupby(['date', 'tweet_finBERT']).size().reset_index()\n",
    "twt_df.rename({0:'count'}, axis = 1, inplace = True)\n",
    "twt_df['date'] = pd.to_datetime(twt_df['date'], format='%Y-%m-%d')\n",
    "twt_df"
   ]
  },
  {
   "cell_type": "markdown",
   "metadata": {},
   "source": [
    "## Dash plots"
   ]
  },
  {
   "cell_type": "code",
   "execution_count": 10,
   "metadata": {},
   "outputs": [],
   "source": [
    "import plotly.express as px\n",
    "def sent_pie(df, count, col_name, plot_title):\n",
    "    fig = px.pie(df, values = count, names = col_name, template='plotly_dark', title = plot_title)\n",
    "    fig.update_layout(\n",
    "    legend_traceorder=\"reversed\",\n",
    "    title={\n",
    "        'y':0.95,\n",
    "        'x':0.5,\n",
    "        'xanchor': 'center',\n",
    "        'yanchor': 'top',\n",
    "        'font': dict(\n",
    "        #family=\"Courier New, monospace\",\n",
    "        size=25)\n",
    "        },\n",
    "    )\n",
    "    \n",
    "    return fig\n",
    "def sent_bar(df, date, count, col_name, plot_title):\n",
    "    fig = px.bar(df, x=date, y=count, color=col_name, template='plotly_dark', category_orders= {col_name: [\"neutral\", \"negative\", \"positive\"]}, title= plot_title)\n",
    "    fig.update_layout(\n",
    "        legend_traceorder=\"reversed\",\n",
    "        legend_title = '',\n",
    "        title={\n",
    "            'y':0.95,\n",
    "            'x':0.5,\n",
    "            'xanchor': 'center',\n",
    "            'yanchor': 'top',\n",
    "            'font': dict(\n",
    "            #family=\"Courier New, monospace\",\n",
    "            size=25)\n",
    "            },\n",
    "        )\n",
    "    fig.layout.xaxis.dtick = 'D1'\n",
    "    return fig"
   ]
  },
  {
   "cell_type": "code",
   "execution_count": 11,
   "metadata": {},
   "outputs": [
    {
     "data": {
      "application/vnd.plotly.v1+json": {
       "config": {
        "plotlyServerURL": "https://plot.ly"
       },
       "data": [
        {
         "domain": {
          "x": [
           0,
           1
          ],
          "y": [
           0,
           1
          ]
         },
         "hovertemplate": "tweet_finBERT=%{label}<br>count=%{value}<extra></extra>",
         "labels": [
          "neutral",
          "positive",
          "negative",
          "neutral",
          "neutral",
          "negative",
          "negative",
          "positive",
          "negative",
          "neutral",
          "positive",
          "neutral",
          "positive",
          "neutral"
         ],
         "legendgroup": "",
         "name": "",
         "showlegend": true,
         "type": "pie",
         "values": [
          8,
          1,
          3,
          6,
          1,
          1,
          1,
          1,
          2,
          8,
          1,
          6,
          1,
          7
         ]
        }
       ],
       "layout": {
        "legend": {
         "tracegroupgap": 0,
         "traceorder": "reversed"
        },
        "template": {
         "data": {
          "bar": [
           {
            "error_x": {
             "color": "#f2f5fa"
            },
            "error_y": {
             "color": "#f2f5fa"
            },
            "marker": {
             "line": {
              "color": "rgb(17,17,17)",
              "width": 0.5
             },
             "pattern": {
              "fillmode": "overlay",
              "size": 10,
              "solidity": 0.2
             }
            },
            "type": "bar"
           }
          ],
          "barpolar": [
           {
            "marker": {
             "line": {
              "color": "rgb(17,17,17)",
              "width": 0.5
             },
             "pattern": {
              "fillmode": "overlay",
              "size": 10,
              "solidity": 0.2
             }
            },
            "type": "barpolar"
           }
          ],
          "carpet": [
           {
            "aaxis": {
             "endlinecolor": "#A2B1C6",
             "gridcolor": "#506784",
             "linecolor": "#506784",
             "minorgridcolor": "#506784",
             "startlinecolor": "#A2B1C6"
            },
            "baxis": {
             "endlinecolor": "#A2B1C6",
             "gridcolor": "#506784",
             "linecolor": "#506784",
             "minorgridcolor": "#506784",
             "startlinecolor": "#A2B1C6"
            },
            "type": "carpet"
           }
          ],
          "choropleth": [
           {
            "colorbar": {
             "outlinewidth": 0,
             "ticks": ""
            },
            "type": "choropleth"
           }
          ],
          "contour": [
           {
            "colorbar": {
             "outlinewidth": 0,
             "ticks": ""
            },
            "colorscale": [
             [
              0,
              "#0d0887"
             ],
             [
              0.1111111111111111,
              "#46039f"
             ],
             [
              0.2222222222222222,
              "#7201a8"
             ],
             [
              0.3333333333333333,
              "#9c179e"
             ],
             [
              0.4444444444444444,
              "#bd3786"
             ],
             [
              0.5555555555555556,
              "#d8576b"
             ],
             [
              0.6666666666666666,
              "#ed7953"
             ],
             [
              0.7777777777777778,
              "#fb9f3a"
             ],
             [
              0.8888888888888888,
              "#fdca26"
             ],
             [
              1,
              "#f0f921"
             ]
            ],
            "type": "contour"
           }
          ],
          "contourcarpet": [
           {
            "colorbar": {
             "outlinewidth": 0,
             "ticks": ""
            },
            "type": "contourcarpet"
           }
          ],
          "heatmap": [
           {
            "colorbar": {
             "outlinewidth": 0,
             "ticks": ""
            },
            "colorscale": [
             [
              0,
              "#0d0887"
             ],
             [
              0.1111111111111111,
              "#46039f"
             ],
             [
              0.2222222222222222,
              "#7201a8"
             ],
             [
              0.3333333333333333,
              "#9c179e"
             ],
             [
              0.4444444444444444,
              "#bd3786"
             ],
             [
              0.5555555555555556,
              "#d8576b"
             ],
             [
              0.6666666666666666,
              "#ed7953"
             ],
             [
              0.7777777777777778,
              "#fb9f3a"
             ],
             [
              0.8888888888888888,
              "#fdca26"
             ],
             [
              1,
              "#f0f921"
             ]
            ],
            "type": "heatmap"
           }
          ],
          "heatmapgl": [
           {
            "colorbar": {
             "outlinewidth": 0,
             "ticks": ""
            },
            "colorscale": [
             [
              0,
              "#0d0887"
             ],
             [
              0.1111111111111111,
              "#46039f"
             ],
             [
              0.2222222222222222,
              "#7201a8"
             ],
             [
              0.3333333333333333,
              "#9c179e"
             ],
             [
              0.4444444444444444,
              "#bd3786"
             ],
             [
              0.5555555555555556,
              "#d8576b"
             ],
             [
              0.6666666666666666,
              "#ed7953"
             ],
             [
              0.7777777777777778,
              "#fb9f3a"
             ],
             [
              0.8888888888888888,
              "#fdca26"
             ],
             [
              1,
              "#f0f921"
             ]
            ],
            "type": "heatmapgl"
           }
          ],
          "histogram": [
           {
            "marker": {
             "pattern": {
              "fillmode": "overlay",
              "size": 10,
              "solidity": 0.2
             }
            },
            "type": "histogram"
           }
          ],
          "histogram2d": [
           {
            "colorbar": {
             "outlinewidth": 0,
             "ticks": ""
            },
            "colorscale": [
             [
              0,
              "#0d0887"
             ],
             [
              0.1111111111111111,
              "#46039f"
             ],
             [
              0.2222222222222222,
              "#7201a8"
             ],
             [
              0.3333333333333333,
              "#9c179e"
             ],
             [
              0.4444444444444444,
              "#bd3786"
             ],
             [
              0.5555555555555556,
              "#d8576b"
             ],
             [
              0.6666666666666666,
              "#ed7953"
             ],
             [
              0.7777777777777778,
              "#fb9f3a"
             ],
             [
              0.8888888888888888,
              "#fdca26"
             ],
             [
              1,
              "#f0f921"
             ]
            ],
            "type": "histogram2d"
           }
          ],
          "histogram2dcontour": [
           {
            "colorbar": {
             "outlinewidth": 0,
             "ticks": ""
            },
            "colorscale": [
             [
              0,
              "#0d0887"
             ],
             [
              0.1111111111111111,
              "#46039f"
             ],
             [
              0.2222222222222222,
              "#7201a8"
             ],
             [
              0.3333333333333333,
              "#9c179e"
             ],
             [
              0.4444444444444444,
              "#bd3786"
             ],
             [
              0.5555555555555556,
              "#d8576b"
             ],
             [
              0.6666666666666666,
              "#ed7953"
             ],
             [
              0.7777777777777778,
              "#fb9f3a"
             ],
             [
              0.8888888888888888,
              "#fdca26"
             ],
             [
              1,
              "#f0f921"
             ]
            ],
            "type": "histogram2dcontour"
           }
          ],
          "mesh3d": [
           {
            "colorbar": {
             "outlinewidth": 0,
             "ticks": ""
            },
            "type": "mesh3d"
           }
          ],
          "parcoords": [
           {
            "line": {
             "colorbar": {
              "outlinewidth": 0,
              "ticks": ""
             }
            },
            "type": "parcoords"
           }
          ],
          "pie": [
           {
            "automargin": true,
            "type": "pie"
           }
          ],
          "scatter": [
           {
            "marker": {
             "line": {
              "color": "#283442"
             }
            },
            "type": "scatter"
           }
          ],
          "scatter3d": [
           {
            "line": {
             "colorbar": {
              "outlinewidth": 0,
              "ticks": ""
             }
            },
            "marker": {
             "colorbar": {
              "outlinewidth": 0,
              "ticks": ""
             }
            },
            "type": "scatter3d"
           }
          ],
          "scattercarpet": [
           {
            "marker": {
             "colorbar": {
              "outlinewidth": 0,
              "ticks": ""
             }
            },
            "type": "scattercarpet"
           }
          ],
          "scattergeo": [
           {
            "marker": {
             "colorbar": {
              "outlinewidth": 0,
              "ticks": ""
             }
            },
            "type": "scattergeo"
           }
          ],
          "scattergl": [
           {
            "marker": {
             "line": {
              "color": "#283442"
             }
            },
            "type": "scattergl"
           }
          ],
          "scattermapbox": [
           {
            "marker": {
             "colorbar": {
              "outlinewidth": 0,
              "ticks": ""
             }
            },
            "type": "scattermapbox"
           }
          ],
          "scatterpolar": [
           {
            "marker": {
             "colorbar": {
              "outlinewidth": 0,
              "ticks": ""
             }
            },
            "type": "scatterpolar"
           }
          ],
          "scatterpolargl": [
           {
            "marker": {
             "colorbar": {
              "outlinewidth": 0,
              "ticks": ""
             }
            },
            "type": "scatterpolargl"
           }
          ],
          "scatterternary": [
           {
            "marker": {
             "colorbar": {
              "outlinewidth": 0,
              "ticks": ""
             }
            },
            "type": "scatterternary"
           }
          ],
          "surface": [
           {
            "colorbar": {
             "outlinewidth": 0,
             "ticks": ""
            },
            "colorscale": [
             [
              0,
              "#0d0887"
             ],
             [
              0.1111111111111111,
              "#46039f"
             ],
             [
              0.2222222222222222,
              "#7201a8"
             ],
             [
              0.3333333333333333,
              "#9c179e"
             ],
             [
              0.4444444444444444,
              "#bd3786"
             ],
             [
              0.5555555555555556,
              "#d8576b"
             ],
             [
              0.6666666666666666,
              "#ed7953"
             ],
             [
              0.7777777777777778,
              "#fb9f3a"
             ],
             [
              0.8888888888888888,
              "#fdca26"
             ],
             [
              1,
              "#f0f921"
             ]
            ],
            "type": "surface"
           }
          ],
          "table": [
           {
            "cells": {
             "fill": {
              "color": "#506784"
             },
             "line": {
              "color": "rgb(17,17,17)"
             }
            },
            "header": {
             "fill": {
              "color": "#2a3f5f"
             },
             "line": {
              "color": "rgb(17,17,17)"
             }
            },
            "type": "table"
           }
          ]
         },
         "layout": {
          "annotationdefaults": {
           "arrowcolor": "#f2f5fa",
           "arrowhead": 0,
           "arrowwidth": 1
          },
          "autotypenumbers": "strict",
          "coloraxis": {
           "colorbar": {
            "outlinewidth": 0,
            "ticks": ""
           }
          },
          "colorscale": {
           "diverging": [
            [
             0,
             "#8e0152"
            ],
            [
             0.1,
             "#c51b7d"
            ],
            [
             0.2,
             "#de77ae"
            ],
            [
             0.3,
             "#f1b6da"
            ],
            [
             0.4,
             "#fde0ef"
            ],
            [
             0.5,
             "#f7f7f7"
            ],
            [
             0.6,
             "#e6f5d0"
            ],
            [
             0.7,
             "#b8e186"
            ],
            [
             0.8,
             "#7fbc41"
            ],
            [
             0.9,
             "#4d9221"
            ],
            [
             1,
             "#276419"
            ]
           ],
           "sequential": [
            [
             0,
             "#0d0887"
            ],
            [
             0.1111111111111111,
             "#46039f"
            ],
            [
             0.2222222222222222,
             "#7201a8"
            ],
            [
             0.3333333333333333,
             "#9c179e"
            ],
            [
             0.4444444444444444,
             "#bd3786"
            ],
            [
             0.5555555555555556,
             "#d8576b"
            ],
            [
             0.6666666666666666,
             "#ed7953"
            ],
            [
             0.7777777777777778,
             "#fb9f3a"
            ],
            [
             0.8888888888888888,
             "#fdca26"
            ],
            [
             1,
             "#f0f921"
            ]
           ],
           "sequentialminus": [
            [
             0,
             "#0d0887"
            ],
            [
             0.1111111111111111,
             "#46039f"
            ],
            [
             0.2222222222222222,
             "#7201a8"
            ],
            [
             0.3333333333333333,
             "#9c179e"
            ],
            [
             0.4444444444444444,
             "#bd3786"
            ],
            [
             0.5555555555555556,
             "#d8576b"
            ],
            [
             0.6666666666666666,
             "#ed7953"
            ],
            [
             0.7777777777777778,
             "#fb9f3a"
            ],
            [
             0.8888888888888888,
             "#fdca26"
            ],
            [
             1,
             "#f0f921"
            ]
           ]
          },
          "colorway": [
           "#636efa",
           "#EF553B",
           "#00cc96",
           "#ab63fa",
           "#FFA15A",
           "#19d3f3",
           "#FF6692",
           "#B6E880",
           "#FF97FF",
           "#FECB52"
          ],
          "font": {
           "color": "#f2f5fa"
          },
          "geo": {
           "bgcolor": "rgb(17,17,17)",
           "lakecolor": "rgb(17,17,17)",
           "landcolor": "rgb(17,17,17)",
           "showlakes": true,
           "showland": true,
           "subunitcolor": "#506784"
          },
          "hoverlabel": {
           "align": "left"
          },
          "hovermode": "closest",
          "mapbox": {
           "style": "dark"
          },
          "paper_bgcolor": "rgb(17,17,17)",
          "plot_bgcolor": "rgb(17,17,17)",
          "polar": {
           "angularaxis": {
            "gridcolor": "#506784",
            "linecolor": "#506784",
            "ticks": ""
           },
           "bgcolor": "rgb(17,17,17)",
           "radialaxis": {
            "gridcolor": "#506784",
            "linecolor": "#506784",
            "ticks": ""
           }
          },
          "scene": {
           "xaxis": {
            "backgroundcolor": "rgb(17,17,17)",
            "gridcolor": "#506784",
            "gridwidth": 2,
            "linecolor": "#506784",
            "showbackground": true,
            "ticks": "",
            "zerolinecolor": "#C8D4E3"
           },
           "yaxis": {
            "backgroundcolor": "rgb(17,17,17)",
            "gridcolor": "#506784",
            "gridwidth": 2,
            "linecolor": "#506784",
            "showbackground": true,
            "ticks": "",
            "zerolinecolor": "#C8D4E3"
           },
           "zaxis": {
            "backgroundcolor": "rgb(17,17,17)",
            "gridcolor": "#506784",
            "gridwidth": 2,
            "linecolor": "#506784",
            "showbackground": true,
            "ticks": "",
            "zerolinecolor": "#C8D4E3"
           }
          },
          "shapedefaults": {
           "line": {
            "color": "#f2f5fa"
           }
          },
          "sliderdefaults": {
           "bgcolor": "#C8D4E3",
           "bordercolor": "rgb(17,17,17)",
           "borderwidth": 1,
           "tickwidth": 0
          },
          "ternary": {
           "aaxis": {
            "gridcolor": "#506784",
            "linecolor": "#506784",
            "ticks": ""
           },
           "baxis": {
            "gridcolor": "#506784",
            "linecolor": "#506784",
            "ticks": ""
           },
           "bgcolor": "rgb(17,17,17)",
           "caxis": {
            "gridcolor": "#506784",
            "linecolor": "#506784",
            "ticks": ""
           }
          },
          "title": {
           "x": 0.05
          },
          "updatemenudefaults": {
           "bgcolor": "#506784",
           "borderwidth": 0
          },
          "xaxis": {
           "automargin": true,
           "gridcolor": "#283442",
           "linecolor": "#506784",
           "ticks": "",
           "title": {
            "standoff": 15
           },
           "zerolinecolor": "#283442",
           "zerolinewidth": 2
          },
          "yaxis": {
           "automargin": true,
           "gridcolor": "#283442",
           "linecolor": "#506784",
           "ticks": "",
           "title": {
            "standoff": 15
           },
           "zerolinecolor": "#283442",
           "zerolinewidth": 2
          }
         }
        },
        "title": {
         "font": {
          "size": 25
         },
         "text": "Tweets by sentiment",
         "x": 0.5,
         "xanchor": "center",
         "y": 0.95,
         "yanchor": "top"
        }
       }
      }
     },
     "metadata": {},
     "output_type": "display_data"
    }
   ],
   "source": [
    "sent_pie(twt_df, 'count', 'tweet_finBERT', \"Tweets by sentiment\").show()"
   ]
  },
  {
   "cell_type": "code",
   "execution_count": 12,
   "metadata": {},
   "outputs": [
    {
     "data": {
      "application/vnd.plotly.v1+json": {
       "config": {
        "plotlyServerURL": "https://plot.ly"
       },
       "data": [
        {
         "domain": {
          "x": [
           0,
           1
          ],
          "y": [
           0,
           1
          ]
         },
         "hovertemplate": "title_finBERT=%{label}<br>count=%{value}<extra></extra>",
         "labels": [
          "negative",
          "neutral",
          "positive",
          "negative",
          "neutral",
          "positive",
          "negative",
          "neutral",
          "positive",
          "negative",
          "neutral",
          "positive"
         ],
         "legendgroup": "",
         "name": "",
         "showlegend": true,
         "type": "pie",
         "values": [
          87,
          312,
          80,
          123,
          464,
          98,
          29,
          84,
          15,
          10,
          39,
          4
         ]
        }
       ],
       "layout": {
        "legend": {
         "tracegroupgap": 0,
         "traceorder": "reversed"
        },
        "template": {
         "data": {
          "bar": [
           {
            "error_x": {
             "color": "#f2f5fa"
            },
            "error_y": {
             "color": "#f2f5fa"
            },
            "marker": {
             "line": {
              "color": "rgb(17,17,17)",
              "width": 0.5
             },
             "pattern": {
              "fillmode": "overlay",
              "size": 10,
              "solidity": 0.2
             }
            },
            "type": "bar"
           }
          ],
          "barpolar": [
           {
            "marker": {
             "line": {
              "color": "rgb(17,17,17)",
              "width": 0.5
             },
             "pattern": {
              "fillmode": "overlay",
              "size": 10,
              "solidity": 0.2
             }
            },
            "type": "barpolar"
           }
          ],
          "carpet": [
           {
            "aaxis": {
             "endlinecolor": "#A2B1C6",
             "gridcolor": "#506784",
             "linecolor": "#506784",
             "minorgridcolor": "#506784",
             "startlinecolor": "#A2B1C6"
            },
            "baxis": {
             "endlinecolor": "#A2B1C6",
             "gridcolor": "#506784",
             "linecolor": "#506784",
             "minorgridcolor": "#506784",
             "startlinecolor": "#A2B1C6"
            },
            "type": "carpet"
           }
          ],
          "choropleth": [
           {
            "colorbar": {
             "outlinewidth": 0,
             "ticks": ""
            },
            "type": "choropleth"
           }
          ],
          "contour": [
           {
            "colorbar": {
             "outlinewidth": 0,
             "ticks": ""
            },
            "colorscale": [
             [
              0,
              "#0d0887"
             ],
             [
              0.1111111111111111,
              "#46039f"
             ],
             [
              0.2222222222222222,
              "#7201a8"
             ],
             [
              0.3333333333333333,
              "#9c179e"
             ],
             [
              0.4444444444444444,
              "#bd3786"
             ],
             [
              0.5555555555555556,
              "#d8576b"
             ],
             [
              0.6666666666666666,
              "#ed7953"
             ],
             [
              0.7777777777777778,
              "#fb9f3a"
             ],
             [
              0.8888888888888888,
              "#fdca26"
             ],
             [
              1,
              "#f0f921"
             ]
            ],
            "type": "contour"
           }
          ],
          "contourcarpet": [
           {
            "colorbar": {
             "outlinewidth": 0,
             "ticks": ""
            },
            "type": "contourcarpet"
           }
          ],
          "heatmap": [
           {
            "colorbar": {
             "outlinewidth": 0,
             "ticks": ""
            },
            "colorscale": [
             [
              0,
              "#0d0887"
             ],
             [
              0.1111111111111111,
              "#46039f"
             ],
             [
              0.2222222222222222,
              "#7201a8"
             ],
             [
              0.3333333333333333,
              "#9c179e"
             ],
             [
              0.4444444444444444,
              "#bd3786"
             ],
             [
              0.5555555555555556,
              "#d8576b"
             ],
             [
              0.6666666666666666,
              "#ed7953"
             ],
             [
              0.7777777777777778,
              "#fb9f3a"
             ],
             [
              0.8888888888888888,
              "#fdca26"
             ],
             [
              1,
              "#f0f921"
             ]
            ],
            "type": "heatmap"
           }
          ],
          "heatmapgl": [
           {
            "colorbar": {
             "outlinewidth": 0,
             "ticks": ""
            },
            "colorscale": [
             [
              0,
              "#0d0887"
             ],
             [
              0.1111111111111111,
              "#46039f"
             ],
             [
              0.2222222222222222,
              "#7201a8"
             ],
             [
              0.3333333333333333,
              "#9c179e"
             ],
             [
              0.4444444444444444,
              "#bd3786"
             ],
             [
              0.5555555555555556,
              "#d8576b"
             ],
             [
              0.6666666666666666,
              "#ed7953"
             ],
             [
              0.7777777777777778,
              "#fb9f3a"
             ],
             [
              0.8888888888888888,
              "#fdca26"
             ],
             [
              1,
              "#f0f921"
             ]
            ],
            "type": "heatmapgl"
           }
          ],
          "histogram": [
           {
            "marker": {
             "pattern": {
              "fillmode": "overlay",
              "size": 10,
              "solidity": 0.2
             }
            },
            "type": "histogram"
           }
          ],
          "histogram2d": [
           {
            "colorbar": {
             "outlinewidth": 0,
             "ticks": ""
            },
            "colorscale": [
             [
              0,
              "#0d0887"
             ],
             [
              0.1111111111111111,
              "#46039f"
             ],
             [
              0.2222222222222222,
              "#7201a8"
             ],
             [
              0.3333333333333333,
              "#9c179e"
             ],
             [
              0.4444444444444444,
              "#bd3786"
             ],
             [
              0.5555555555555556,
              "#d8576b"
             ],
             [
              0.6666666666666666,
              "#ed7953"
             ],
             [
              0.7777777777777778,
              "#fb9f3a"
             ],
             [
              0.8888888888888888,
              "#fdca26"
             ],
             [
              1,
              "#f0f921"
             ]
            ],
            "type": "histogram2d"
           }
          ],
          "histogram2dcontour": [
           {
            "colorbar": {
             "outlinewidth": 0,
             "ticks": ""
            },
            "colorscale": [
             [
              0,
              "#0d0887"
             ],
             [
              0.1111111111111111,
              "#46039f"
             ],
             [
              0.2222222222222222,
              "#7201a8"
             ],
             [
              0.3333333333333333,
              "#9c179e"
             ],
             [
              0.4444444444444444,
              "#bd3786"
             ],
             [
              0.5555555555555556,
              "#d8576b"
             ],
             [
              0.6666666666666666,
              "#ed7953"
             ],
             [
              0.7777777777777778,
              "#fb9f3a"
             ],
             [
              0.8888888888888888,
              "#fdca26"
             ],
             [
              1,
              "#f0f921"
             ]
            ],
            "type": "histogram2dcontour"
           }
          ],
          "mesh3d": [
           {
            "colorbar": {
             "outlinewidth": 0,
             "ticks": ""
            },
            "type": "mesh3d"
           }
          ],
          "parcoords": [
           {
            "line": {
             "colorbar": {
              "outlinewidth": 0,
              "ticks": ""
             }
            },
            "type": "parcoords"
           }
          ],
          "pie": [
           {
            "automargin": true,
            "type": "pie"
           }
          ],
          "scatter": [
           {
            "marker": {
             "line": {
              "color": "#283442"
             }
            },
            "type": "scatter"
           }
          ],
          "scatter3d": [
           {
            "line": {
             "colorbar": {
              "outlinewidth": 0,
              "ticks": ""
             }
            },
            "marker": {
             "colorbar": {
              "outlinewidth": 0,
              "ticks": ""
             }
            },
            "type": "scatter3d"
           }
          ],
          "scattercarpet": [
           {
            "marker": {
             "colorbar": {
              "outlinewidth": 0,
              "ticks": ""
             }
            },
            "type": "scattercarpet"
           }
          ],
          "scattergeo": [
           {
            "marker": {
             "colorbar": {
              "outlinewidth": 0,
              "ticks": ""
             }
            },
            "type": "scattergeo"
           }
          ],
          "scattergl": [
           {
            "marker": {
             "line": {
              "color": "#283442"
             }
            },
            "type": "scattergl"
           }
          ],
          "scattermapbox": [
           {
            "marker": {
             "colorbar": {
              "outlinewidth": 0,
              "ticks": ""
             }
            },
            "type": "scattermapbox"
           }
          ],
          "scatterpolar": [
           {
            "marker": {
             "colorbar": {
              "outlinewidth": 0,
              "ticks": ""
             }
            },
            "type": "scatterpolar"
           }
          ],
          "scatterpolargl": [
           {
            "marker": {
             "colorbar": {
              "outlinewidth": 0,
              "ticks": ""
             }
            },
            "type": "scatterpolargl"
           }
          ],
          "scatterternary": [
           {
            "marker": {
             "colorbar": {
              "outlinewidth": 0,
              "ticks": ""
             }
            },
            "type": "scatterternary"
           }
          ],
          "surface": [
           {
            "colorbar": {
             "outlinewidth": 0,
             "ticks": ""
            },
            "colorscale": [
             [
              0,
              "#0d0887"
             ],
             [
              0.1111111111111111,
              "#46039f"
             ],
             [
              0.2222222222222222,
              "#7201a8"
             ],
             [
              0.3333333333333333,
              "#9c179e"
             ],
             [
              0.4444444444444444,
              "#bd3786"
             ],
             [
              0.5555555555555556,
              "#d8576b"
             ],
             [
              0.6666666666666666,
              "#ed7953"
             ],
             [
              0.7777777777777778,
              "#fb9f3a"
             ],
             [
              0.8888888888888888,
              "#fdca26"
             ],
             [
              1,
              "#f0f921"
             ]
            ],
            "type": "surface"
           }
          ],
          "table": [
           {
            "cells": {
             "fill": {
              "color": "#506784"
             },
             "line": {
              "color": "rgb(17,17,17)"
             }
            },
            "header": {
             "fill": {
              "color": "#2a3f5f"
             },
             "line": {
              "color": "rgb(17,17,17)"
             }
            },
            "type": "table"
           }
          ]
         },
         "layout": {
          "annotationdefaults": {
           "arrowcolor": "#f2f5fa",
           "arrowhead": 0,
           "arrowwidth": 1
          },
          "autotypenumbers": "strict",
          "coloraxis": {
           "colorbar": {
            "outlinewidth": 0,
            "ticks": ""
           }
          },
          "colorscale": {
           "diverging": [
            [
             0,
             "#8e0152"
            ],
            [
             0.1,
             "#c51b7d"
            ],
            [
             0.2,
             "#de77ae"
            ],
            [
             0.3,
             "#f1b6da"
            ],
            [
             0.4,
             "#fde0ef"
            ],
            [
             0.5,
             "#f7f7f7"
            ],
            [
             0.6,
             "#e6f5d0"
            ],
            [
             0.7,
             "#b8e186"
            ],
            [
             0.8,
             "#7fbc41"
            ],
            [
             0.9,
             "#4d9221"
            ],
            [
             1,
             "#276419"
            ]
           ],
           "sequential": [
            [
             0,
             "#0d0887"
            ],
            [
             0.1111111111111111,
             "#46039f"
            ],
            [
             0.2222222222222222,
             "#7201a8"
            ],
            [
             0.3333333333333333,
             "#9c179e"
            ],
            [
             0.4444444444444444,
             "#bd3786"
            ],
            [
             0.5555555555555556,
             "#d8576b"
            ],
            [
             0.6666666666666666,
             "#ed7953"
            ],
            [
             0.7777777777777778,
             "#fb9f3a"
            ],
            [
             0.8888888888888888,
             "#fdca26"
            ],
            [
             1,
             "#f0f921"
            ]
           ],
           "sequentialminus": [
            [
             0,
             "#0d0887"
            ],
            [
             0.1111111111111111,
             "#46039f"
            ],
            [
             0.2222222222222222,
             "#7201a8"
            ],
            [
             0.3333333333333333,
             "#9c179e"
            ],
            [
             0.4444444444444444,
             "#bd3786"
            ],
            [
             0.5555555555555556,
             "#d8576b"
            ],
            [
             0.6666666666666666,
             "#ed7953"
            ],
            [
             0.7777777777777778,
             "#fb9f3a"
            ],
            [
             0.8888888888888888,
             "#fdca26"
            ],
            [
             1,
             "#f0f921"
            ]
           ]
          },
          "colorway": [
           "#636efa",
           "#EF553B",
           "#00cc96",
           "#ab63fa",
           "#FFA15A",
           "#19d3f3",
           "#FF6692",
           "#B6E880",
           "#FF97FF",
           "#FECB52"
          ],
          "font": {
           "color": "#f2f5fa"
          },
          "geo": {
           "bgcolor": "rgb(17,17,17)",
           "lakecolor": "rgb(17,17,17)",
           "landcolor": "rgb(17,17,17)",
           "showlakes": true,
           "showland": true,
           "subunitcolor": "#506784"
          },
          "hoverlabel": {
           "align": "left"
          },
          "hovermode": "closest",
          "mapbox": {
           "style": "dark"
          },
          "paper_bgcolor": "rgb(17,17,17)",
          "plot_bgcolor": "rgb(17,17,17)",
          "polar": {
           "angularaxis": {
            "gridcolor": "#506784",
            "linecolor": "#506784",
            "ticks": ""
           },
           "bgcolor": "rgb(17,17,17)",
           "radialaxis": {
            "gridcolor": "#506784",
            "linecolor": "#506784",
            "ticks": ""
           }
          },
          "scene": {
           "xaxis": {
            "backgroundcolor": "rgb(17,17,17)",
            "gridcolor": "#506784",
            "gridwidth": 2,
            "linecolor": "#506784",
            "showbackground": true,
            "ticks": "",
            "zerolinecolor": "#C8D4E3"
           },
           "yaxis": {
            "backgroundcolor": "rgb(17,17,17)",
            "gridcolor": "#506784",
            "gridwidth": 2,
            "linecolor": "#506784",
            "showbackground": true,
            "ticks": "",
            "zerolinecolor": "#C8D4E3"
           },
           "zaxis": {
            "backgroundcolor": "rgb(17,17,17)",
            "gridcolor": "#506784",
            "gridwidth": 2,
            "linecolor": "#506784",
            "showbackground": true,
            "ticks": "",
            "zerolinecolor": "#C8D4E3"
           }
          },
          "shapedefaults": {
           "line": {
            "color": "#f2f5fa"
           }
          },
          "sliderdefaults": {
           "bgcolor": "#C8D4E3",
           "bordercolor": "rgb(17,17,17)",
           "borderwidth": 1,
           "tickwidth": 0
          },
          "ternary": {
           "aaxis": {
            "gridcolor": "#506784",
            "linecolor": "#506784",
            "ticks": ""
           },
           "baxis": {
            "gridcolor": "#506784",
            "linecolor": "#506784",
            "ticks": ""
           },
           "bgcolor": "rgb(17,17,17)",
           "caxis": {
            "gridcolor": "#506784",
            "linecolor": "#506784",
            "ticks": ""
           }
          },
          "title": {
           "x": 0.05
          },
          "updatemenudefaults": {
           "bgcolor": "#506784",
           "borderwidth": 0
          },
          "xaxis": {
           "automargin": true,
           "gridcolor": "#283442",
           "linecolor": "#506784",
           "ticks": "",
           "title": {
            "standoff": 15
           },
           "zerolinecolor": "#283442",
           "zerolinewidth": 2
          },
          "yaxis": {
           "automargin": true,
           "gridcolor": "#283442",
           "linecolor": "#506784",
           "ticks": "",
           "title": {
            "standoff": 15
           },
           "zerolinecolor": "#283442",
           "zerolinewidth": 2
          }
         }
        },
        "title": {
         "font": {
          "size": 25
         },
         "text": "News by sentiment",
         "x": 0.5,
         "xanchor": "center",
         "y": 0.95,
         "yanchor": "top"
        }
       }
      }
     },
     "metadata": {},
     "output_type": "display_data"
    }
   ],
   "source": [
    "sent_pie(df_poly, 'count', 'title_finBERT', \"News by sentiment\").show()"
   ]
  },
  {
   "cell_type": "code",
   "execution_count": 13,
   "metadata": {},
   "outputs": [
    {
     "data": {
      "application/vnd.plotly.v1+json": {
       "config": {
        "plotlyServerURL": "https://plot.ly"
       },
       "data": [
        {
         "alignmentgroup": "True",
         "hovertemplate": "tweet_finBERT=neutral<br>date=%{x}<br>count=%{y}<extra></extra>",
         "legendgroup": "neutral",
         "marker": {
          "color": "#636efa",
          "pattern": {
           "shape": ""
          }
         },
         "name": "neutral",
         "offsetgroup": "neutral",
         "orientation": "v",
         "showlegend": true,
         "textposition": "auto",
         "type": "bar",
         "x": [
          "2022-06-24T00:00:00",
          "2022-06-25T00:00:00",
          "2022-06-27T00:00:00",
          "2022-07-01T00:00:00",
          "2022-07-02T00:00:00",
          "2022-07-03T00:00:00"
         ],
         "xaxis": "x",
         "y": [
          8,
          6,
          1,
          8,
          6,
          7
         ],
         "yaxis": "y"
        },
        {
         "alignmentgroup": "True",
         "hovertemplate": "tweet_finBERT=negative<br>date=%{x}<br>count=%{y}<extra></extra>",
         "legendgroup": "negative",
         "marker": {
          "color": "#EF553B",
          "pattern": {
           "shape": ""
          }
         },
         "name": "negative",
         "offsetgroup": "negative",
         "orientation": "v",
         "showlegend": true,
         "textposition": "auto",
         "type": "bar",
         "x": [
          "2022-06-25T00:00:00",
          "2022-06-29T00:00:00",
          "2022-06-30T00:00:00",
          "2022-07-01T00:00:00"
         ],
         "xaxis": "x",
         "y": [
          3,
          1,
          1,
          2
         ],
         "yaxis": "y"
        },
        {
         "alignmentgroup": "True",
         "hovertemplate": "tweet_finBERT=positive<br>date=%{x}<br>count=%{y}<extra></extra>",
         "legendgroup": "positive",
         "marker": {
          "color": "#00cc96",
          "pattern": {
           "shape": ""
          }
         },
         "name": "positive",
         "offsetgroup": "positive",
         "orientation": "v",
         "showlegend": true,
         "textposition": "auto",
         "type": "bar",
         "x": [
          "2022-06-24T00:00:00",
          "2022-06-30T00:00:00",
          "2022-07-01T00:00:00",
          "2022-07-02T00:00:00"
         ],
         "xaxis": "x",
         "y": [
          1,
          1,
          1,
          1
         ],
         "yaxis": "y"
        }
       ],
       "layout": {
        "barmode": "relative",
        "legend": {
         "title": {
          "text": ""
         },
         "tracegroupgap": 0,
         "traceorder": "reversed"
        },
        "template": {
         "data": {
          "bar": [
           {
            "error_x": {
             "color": "#f2f5fa"
            },
            "error_y": {
             "color": "#f2f5fa"
            },
            "marker": {
             "line": {
              "color": "rgb(17,17,17)",
              "width": 0.5
             },
             "pattern": {
              "fillmode": "overlay",
              "size": 10,
              "solidity": 0.2
             }
            },
            "type": "bar"
           }
          ],
          "barpolar": [
           {
            "marker": {
             "line": {
              "color": "rgb(17,17,17)",
              "width": 0.5
             },
             "pattern": {
              "fillmode": "overlay",
              "size": 10,
              "solidity": 0.2
             }
            },
            "type": "barpolar"
           }
          ],
          "carpet": [
           {
            "aaxis": {
             "endlinecolor": "#A2B1C6",
             "gridcolor": "#506784",
             "linecolor": "#506784",
             "minorgridcolor": "#506784",
             "startlinecolor": "#A2B1C6"
            },
            "baxis": {
             "endlinecolor": "#A2B1C6",
             "gridcolor": "#506784",
             "linecolor": "#506784",
             "minorgridcolor": "#506784",
             "startlinecolor": "#A2B1C6"
            },
            "type": "carpet"
           }
          ],
          "choropleth": [
           {
            "colorbar": {
             "outlinewidth": 0,
             "ticks": ""
            },
            "type": "choropleth"
           }
          ],
          "contour": [
           {
            "colorbar": {
             "outlinewidth": 0,
             "ticks": ""
            },
            "colorscale": [
             [
              0,
              "#0d0887"
             ],
             [
              0.1111111111111111,
              "#46039f"
             ],
             [
              0.2222222222222222,
              "#7201a8"
             ],
             [
              0.3333333333333333,
              "#9c179e"
             ],
             [
              0.4444444444444444,
              "#bd3786"
             ],
             [
              0.5555555555555556,
              "#d8576b"
             ],
             [
              0.6666666666666666,
              "#ed7953"
             ],
             [
              0.7777777777777778,
              "#fb9f3a"
             ],
             [
              0.8888888888888888,
              "#fdca26"
             ],
             [
              1,
              "#f0f921"
             ]
            ],
            "type": "contour"
           }
          ],
          "contourcarpet": [
           {
            "colorbar": {
             "outlinewidth": 0,
             "ticks": ""
            },
            "type": "contourcarpet"
           }
          ],
          "heatmap": [
           {
            "colorbar": {
             "outlinewidth": 0,
             "ticks": ""
            },
            "colorscale": [
             [
              0,
              "#0d0887"
             ],
             [
              0.1111111111111111,
              "#46039f"
             ],
             [
              0.2222222222222222,
              "#7201a8"
             ],
             [
              0.3333333333333333,
              "#9c179e"
             ],
             [
              0.4444444444444444,
              "#bd3786"
             ],
             [
              0.5555555555555556,
              "#d8576b"
             ],
             [
              0.6666666666666666,
              "#ed7953"
             ],
             [
              0.7777777777777778,
              "#fb9f3a"
             ],
             [
              0.8888888888888888,
              "#fdca26"
             ],
             [
              1,
              "#f0f921"
             ]
            ],
            "type": "heatmap"
           }
          ],
          "heatmapgl": [
           {
            "colorbar": {
             "outlinewidth": 0,
             "ticks": ""
            },
            "colorscale": [
             [
              0,
              "#0d0887"
             ],
             [
              0.1111111111111111,
              "#46039f"
             ],
             [
              0.2222222222222222,
              "#7201a8"
             ],
             [
              0.3333333333333333,
              "#9c179e"
             ],
             [
              0.4444444444444444,
              "#bd3786"
             ],
             [
              0.5555555555555556,
              "#d8576b"
             ],
             [
              0.6666666666666666,
              "#ed7953"
             ],
             [
              0.7777777777777778,
              "#fb9f3a"
             ],
             [
              0.8888888888888888,
              "#fdca26"
             ],
             [
              1,
              "#f0f921"
             ]
            ],
            "type": "heatmapgl"
           }
          ],
          "histogram": [
           {
            "marker": {
             "pattern": {
              "fillmode": "overlay",
              "size": 10,
              "solidity": 0.2
             }
            },
            "type": "histogram"
           }
          ],
          "histogram2d": [
           {
            "colorbar": {
             "outlinewidth": 0,
             "ticks": ""
            },
            "colorscale": [
             [
              0,
              "#0d0887"
             ],
             [
              0.1111111111111111,
              "#46039f"
             ],
             [
              0.2222222222222222,
              "#7201a8"
             ],
             [
              0.3333333333333333,
              "#9c179e"
             ],
             [
              0.4444444444444444,
              "#bd3786"
             ],
             [
              0.5555555555555556,
              "#d8576b"
             ],
             [
              0.6666666666666666,
              "#ed7953"
             ],
             [
              0.7777777777777778,
              "#fb9f3a"
             ],
             [
              0.8888888888888888,
              "#fdca26"
             ],
             [
              1,
              "#f0f921"
             ]
            ],
            "type": "histogram2d"
           }
          ],
          "histogram2dcontour": [
           {
            "colorbar": {
             "outlinewidth": 0,
             "ticks": ""
            },
            "colorscale": [
             [
              0,
              "#0d0887"
             ],
             [
              0.1111111111111111,
              "#46039f"
             ],
             [
              0.2222222222222222,
              "#7201a8"
             ],
             [
              0.3333333333333333,
              "#9c179e"
             ],
             [
              0.4444444444444444,
              "#bd3786"
             ],
             [
              0.5555555555555556,
              "#d8576b"
             ],
             [
              0.6666666666666666,
              "#ed7953"
             ],
             [
              0.7777777777777778,
              "#fb9f3a"
             ],
             [
              0.8888888888888888,
              "#fdca26"
             ],
             [
              1,
              "#f0f921"
             ]
            ],
            "type": "histogram2dcontour"
           }
          ],
          "mesh3d": [
           {
            "colorbar": {
             "outlinewidth": 0,
             "ticks": ""
            },
            "type": "mesh3d"
           }
          ],
          "parcoords": [
           {
            "line": {
             "colorbar": {
              "outlinewidth": 0,
              "ticks": ""
             }
            },
            "type": "parcoords"
           }
          ],
          "pie": [
           {
            "automargin": true,
            "type": "pie"
           }
          ],
          "scatter": [
           {
            "marker": {
             "line": {
              "color": "#283442"
             }
            },
            "type": "scatter"
           }
          ],
          "scatter3d": [
           {
            "line": {
             "colorbar": {
              "outlinewidth": 0,
              "ticks": ""
             }
            },
            "marker": {
             "colorbar": {
              "outlinewidth": 0,
              "ticks": ""
             }
            },
            "type": "scatter3d"
           }
          ],
          "scattercarpet": [
           {
            "marker": {
             "colorbar": {
              "outlinewidth": 0,
              "ticks": ""
             }
            },
            "type": "scattercarpet"
           }
          ],
          "scattergeo": [
           {
            "marker": {
             "colorbar": {
              "outlinewidth": 0,
              "ticks": ""
             }
            },
            "type": "scattergeo"
           }
          ],
          "scattergl": [
           {
            "marker": {
             "line": {
              "color": "#283442"
             }
            },
            "type": "scattergl"
           }
          ],
          "scattermapbox": [
           {
            "marker": {
             "colorbar": {
              "outlinewidth": 0,
              "ticks": ""
             }
            },
            "type": "scattermapbox"
           }
          ],
          "scatterpolar": [
           {
            "marker": {
             "colorbar": {
              "outlinewidth": 0,
              "ticks": ""
             }
            },
            "type": "scatterpolar"
           }
          ],
          "scatterpolargl": [
           {
            "marker": {
             "colorbar": {
              "outlinewidth": 0,
              "ticks": ""
             }
            },
            "type": "scatterpolargl"
           }
          ],
          "scatterternary": [
           {
            "marker": {
             "colorbar": {
              "outlinewidth": 0,
              "ticks": ""
             }
            },
            "type": "scatterternary"
           }
          ],
          "surface": [
           {
            "colorbar": {
             "outlinewidth": 0,
             "ticks": ""
            },
            "colorscale": [
             [
              0,
              "#0d0887"
             ],
             [
              0.1111111111111111,
              "#46039f"
             ],
             [
              0.2222222222222222,
              "#7201a8"
             ],
             [
              0.3333333333333333,
              "#9c179e"
             ],
             [
              0.4444444444444444,
              "#bd3786"
             ],
             [
              0.5555555555555556,
              "#d8576b"
             ],
             [
              0.6666666666666666,
              "#ed7953"
             ],
             [
              0.7777777777777778,
              "#fb9f3a"
             ],
             [
              0.8888888888888888,
              "#fdca26"
             ],
             [
              1,
              "#f0f921"
             ]
            ],
            "type": "surface"
           }
          ],
          "table": [
           {
            "cells": {
             "fill": {
              "color": "#506784"
             },
             "line": {
              "color": "rgb(17,17,17)"
             }
            },
            "header": {
             "fill": {
              "color": "#2a3f5f"
             },
             "line": {
              "color": "rgb(17,17,17)"
             }
            },
            "type": "table"
           }
          ]
         },
         "layout": {
          "annotationdefaults": {
           "arrowcolor": "#f2f5fa",
           "arrowhead": 0,
           "arrowwidth": 1
          },
          "autotypenumbers": "strict",
          "coloraxis": {
           "colorbar": {
            "outlinewidth": 0,
            "ticks": ""
           }
          },
          "colorscale": {
           "diverging": [
            [
             0,
             "#8e0152"
            ],
            [
             0.1,
             "#c51b7d"
            ],
            [
             0.2,
             "#de77ae"
            ],
            [
             0.3,
             "#f1b6da"
            ],
            [
             0.4,
             "#fde0ef"
            ],
            [
             0.5,
             "#f7f7f7"
            ],
            [
             0.6,
             "#e6f5d0"
            ],
            [
             0.7,
             "#b8e186"
            ],
            [
             0.8,
             "#7fbc41"
            ],
            [
             0.9,
             "#4d9221"
            ],
            [
             1,
             "#276419"
            ]
           ],
           "sequential": [
            [
             0,
             "#0d0887"
            ],
            [
             0.1111111111111111,
             "#46039f"
            ],
            [
             0.2222222222222222,
             "#7201a8"
            ],
            [
             0.3333333333333333,
             "#9c179e"
            ],
            [
             0.4444444444444444,
             "#bd3786"
            ],
            [
             0.5555555555555556,
             "#d8576b"
            ],
            [
             0.6666666666666666,
             "#ed7953"
            ],
            [
             0.7777777777777778,
             "#fb9f3a"
            ],
            [
             0.8888888888888888,
             "#fdca26"
            ],
            [
             1,
             "#f0f921"
            ]
           ],
           "sequentialminus": [
            [
             0,
             "#0d0887"
            ],
            [
             0.1111111111111111,
             "#46039f"
            ],
            [
             0.2222222222222222,
             "#7201a8"
            ],
            [
             0.3333333333333333,
             "#9c179e"
            ],
            [
             0.4444444444444444,
             "#bd3786"
            ],
            [
             0.5555555555555556,
             "#d8576b"
            ],
            [
             0.6666666666666666,
             "#ed7953"
            ],
            [
             0.7777777777777778,
             "#fb9f3a"
            ],
            [
             0.8888888888888888,
             "#fdca26"
            ],
            [
             1,
             "#f0f921"
            ]
           ]
          },
          "colorway": [
           "#636efa",
           "#EF553B",
           "#00cc96",
           "#ab63fa",
           "#FFA15A",
           "#19d3f3",
           "#FF6692",
           "#B6E880",
           "#FF97FF",
           "#FECB52"
          ],
          "font": {
           "color": "#f2f5fa"
          },
          "geo": {
           "bgcolor": "rgb(17,17,17)",
           "lakecolor": "rgb(17,17,17)",
           "landcolor": "rgb(17,17,17)",
           "showlakes": true,
           "showland": true,
           "subunitcolor": "#506784"
          },
          "hoverlabel": {
           "align": "left"
          },
          "hovermode": "closest",
          "mapbox": {
           "style": "dark"
          },
          "paper_bgcolor": "rgb(17,17,17)",
          "plot_bgcolor": "rgb(17,17,17)",
          "polar": {
           "angularaxis": {
            "gridcolor": "#506784",
            "linecolor": "#506784",
            "ticks": ""
           },
           "bgcolor": "rgb(17,17,17)",
           "radialaxis": {
            "gridcolor": "#506784",
            "linecolor": "#506784",
            "ticks": ""
           }
          },
          "scene": {
           "xaxis": {
            "backgroundcolor": "rgb(17,17,17)",
            "gridcolor": "#506784",
            "gridwidth": 2,
            "linecolor": "#506784",
            "showbackground": true,
            "ticks": "",
            "zerolinecolor": "#C8D4E3"
           },
           "yaxis": {
            "backgroundcolor": "rgb(17,17,17)",
            "gridcolor": "#506784",
            "gridwidth": 2,
            "linecolor": "#506784",
            "showbackground": true,
            "ticks": "",
            "zerolinecolor": "#C8D4E3"
           },
           "zaxis": {
            "backgroundcolor": "rgb(17,17,17)",
            "gridcolor": "#506784",
            "gridwidth": 2,
            "linecolor": "#506784",
            "showbackground": true,
            "ticks": "",
            "zerolinecolor": "#C8D4E3"
           }
          },
          "shapedefaults": {
           "line": {
            "color": "#f2f5fa"
           }
          },
          "sliderdefaults": {
           "bgcolor": "#C8D4E3",
           "bordercolor": "rgb(17,17,17)",
           "borderwidth": 1,
           "tickwidth": 0
          },
          "ternary": {
           "aaxis": {
            "gridcolor": "#506784",
            "linecolor": "#506784",
            "ticks": ""
           },
           "baxis": {
            "gridcolor": "#506784",
            "linecolor": "#506784",
            "ticks": ""
           },
           "bgcolor": "rgb(17,17,17)",
           "caxis": {
            "gridcolor": "#506784",
            "linecolor": "#506784",
            "ticks": ""
           }
          },
          "title": {
           "x": 0.05
          },
          "updatemenudefaults": {
           "bgcolor": "#506784",
           "borderwidth": 0
          },
          "xaxis": {
           "automargin": true,
           "gridcolor": "#283442",
           "linecolor": "#506784",
           "ticks": "",
           "title": {
            "standoff": 15
           },
           "zerolinecolor": "#283442",
           "zerolinewidth": 2
          },
          "yaxis": {
           "automargin": true,
           "gridcolor": "#283442",
           "linecolor": "#506784",
           "ticks": "",
           "title": {
            "standoff": 15
           },
           "zerolinecolor": "#283442",
           "zerolinewidth": 2
          }
         }
        },
        "title": {
         "font": {
          "size": 25
         },
         "text": "Daily Tweets by Sentiment",
         "x": 0.5,
         "xanchor": "center",
         "y": 0.95,
         "yanchor": "top"
        },
        "xaxis": {
         "anchor": "y",
         "domain": [
          0,
          1
         ],
         "dtick": "D1",
         "title": {
          "text": "date"
         }
        },
        "yaxis": {
         "anchor": "x",
         "domain": [
          0,
          1
         ],
         "title": {
          "text": "count"
         }
        }
       }
      }
     },
     "metadata": {},
     "output_type": "display_data"
    }
   ],
   "source": [
    "sent_bar(twt_df, 'date', 'count', 'tweet_finBERT', \"Daily Tweets by Sentiment\").show()\n"
   ]
  },
  {
   "cell_type": "code",
   "execution_count": 14,
   "metadata": {},
   "outputs": [
    {
     "data": {
      "application/vnd.plotly.v1+json": {
       "config": {
        "plotlyServerURL": "https://plot.ly"
       },
       "data": [
        {
         "alignmentgroup": "True",
         "hovertemplate": "title_finBERT=neutral<br>date=%{x}<br>count=%{y}<extra></extra>",
         "legendgroup": "neutral",
         "marker": {
          "color": "#636efa",
          "pattern": {
           "shape": ""
          }
         },
         "name": "neutral",
         "offsetgroup": "neutral",
         "orientation": "v",
         "showlegend": true,
         "textposition": "auto",
         "type": "bar",
         "x": [
          "2022-06-30T00:00:00",
          "2022-07-01T00:00:00",
          "2022-07-02T00:00:00",
          "2022-07-03T00:00:00"
         ],
         "xaxis": "x",
         "y": [
          312,
          464,
          84,
          39
         ],
         "yaxis": "y"
        },
        {
         "alignmentgroup": "True",
         "hovertemplate": "title_finBERT=negative<br>date=%{x}<br>count=%{y}<extra></extra>",
         "legendgroup": "negative",
         "marker": {
          "color": "#EF553B",
          "pattern": {
           "shape": ""
          }
         },
         "name": "negative",
         "offsetgroup": "negative",
         "orientation": "v",
         "showlegend": true,
         "textposition": "auto",
         "type": "bar",
         "x": [
          "2022-06-30T00:00:00",
          "2022-07-01T00:00:00",
          "2022-07-02T00:00:00",
          "2022-07-03T00:00:00"
         ],
         "xaxis": "x",
         "y": [
          87,
          123,
          29,
          10
         ],
         "yaxis": "y"
        },
        {
         "alignmentgroup": "True",
         "hovertemplate": "title_finBERT=positive<br>date=%{x}<br>count=%{y}<extra></extra>",
         "legendgroup": "positive",
         "marker": {
          "color": "#00cc96",
          "pattern": {
           "shape": ""
          }
         },
         "name": "positive",
         "offsetgroup": "positive",
         "orientation": "v",
         "showlegend": true,
         "textposition": "auto",
         "type": "bar",
         "x": [
          "2022-06-30T00:00:00",
          "2022-07-01T00:00:00",
          "2022-07-02T00:00:00",
          "2022-07-03T00:00:00"
         ],
         "xaxis": "x",
         "y": [
          80,
          98,
          15,
          4
         ],
         "yaxis": "y"
        }
       ],
       "layout": {
        "barmode": "relative",
        "legend": {
         "title": {
          "text": ""
         },
         "tracegroupgap": 0,
         "traceorder": "reversed"
        },
        "template": {
         "data": {
          "bar": [
           {
            "error_x": {
             "color": "#f2f5fa"
            },
            "error_y": {
             "color": "#f2f5fa"
            },
            "marker": {
             "line": {
              "color": "rgb(17,17,17)",
              "width": 0.5
             },
             "pattern": {
              "fillmode": "overlay",
              "size": 10,
              "solidity": 0.2
             }
            },
            "type": "bar"
           }
          ],
          "barpolar": [
           {
            "marker": {
             "line": {
              "color": "rgb(17,17,17)",
              "width": 0.5
             },
             "pattern": {
              "fillmode": "overlay",
              "size": 10,
              "solidity": 0.2
             }
            },
            "type": "barpolar"
           }
          ],
          "carpet": [
           {
            "aaxis": {
             "endlinecolor": "#A2B1C6",
             "gridcolor": "#506784",
             "linecolor": "#506784",
             "minorgridcolor": "#506784",
             "startlinecolor": "#A2B1C6"
            },
            "baxis": {
             "endlinecolor": "#A2B1C6",
             "gridcolor": "#506784",
             "linecolor": "#506784",
             "minorgridcolor": "#506784",
             "startlinecolor": "#A2B1C6"
            },
            "type": "carpet"
           }
          ],
          "choropleth": [
           {
            "colorbar": {
             "outlinewidth": 0,
             "ticks": ""
            },
            "type": "choropleth"
           }
          ],
          "contour": [
           {
            "colorbar": {
             "outlinewidth": 0,
             "ticks": ""
            },
            "colorscale": [
             [
              0,
              "#0d0887"
             ],
             [
              0.1111111111111111,
              "#46039f"
             ],
             [
              0.2222222222222222,
              "#7201a8"
             ],
             [
              0.3333333333333333,
              "#9c179e"
             ],
             [
              0.4444444444444444,
              "#bd3786"
             ],
             [
              0.5555555555555556,
              "#d8576b"
             ],
             [
              0.6666666666666666,
              "#ed7953"
             ],
             [
              0.7777777777777778,
              "#fb9f3a"
             ],
             [
              0.8888888888888888,
              "#fdca26"
             ],
             [
              1,
              "#f0f921"
             ]
            ],
            "type": "contour"
           }
          ],
          "contourcarpet": [
           {
            "colorbar": {
             "outlinewidth": 0,
             "ticks": ""
            },
            "type": "contourcarpet"
           }
          ],
          "heatmap": [
           {
            "colorbar": {
             "outlinewidth": 0,
             "ticks": ""
            },
            "colorscale": [
             [
              0,
              "#0d0887"
             ],
             [
              0.1111111111111111,
              "#46039f"
             ],
             [
              0.2222222222222222,
              "#7201a8"
             ],
             [
              0.3333333333333333,
              "#9c179e"
             ],
             [
              0.4444444444444444,
              "#bd3786"
             ],
             [
              0.5555555555555556,
              "#d8576b"
             ],
             [
              0.6666666666666666,
              "#ed7953"
             ],
             [
              0.7777777777777778,
              "#fb9f3a"
             ],
             [
              0.8888888888888888,
              "#fdca26"
             ],
             [
              1,
              "#f0f921"
             ]
            ],
            "type": "heatmap"
           }
          ],
          "heatmapgl": [
           {
            "colorbar": {
             "outlinewidth": 0,
             "ticks": ""
            },
            "colorscale": [
             [
              0,
              "#0d0887"
             ],
             [
              0.1111111111111111,
              "#46039f"
             ],
             [
              0.2222222222222222,
              "#7201a8"
             ],
             [
              0.3333333333333333,
              "#9c179e"
             ],
             [
              0.4444444444444444,
              "#bd3786"
             ],
             [
              0.5555555555555556,
              "#d8576b"
             ],
             [
              0.6666666666666666,
              "#ed7953"
             ],
             [
              0.7777777777777778,
              "#fb9f3a"
             ],
             [
              0.8888888888888888,
              "#fdca26"
             ],
             [
              1,
              "#f0f921"
             ]
            ],
            "type": "heatmapgl"
           }
          ],
          "histogram": [
           {
            "marker": {
             "pattern": {
              "fillmode": "overlay",
              "size": 10,
              "solidity": 0.2
             }
            },
            "type": "histogram"
           }
          ],
          "histogram2d": [
           {
            "colorbar": {
             "outlinewidth": 0,
             "ticks": ""
            },
            "colorscale": [
             [
              0,
              "#0d0887"
             ],
             [
              0.1111111111111111,
              "#46039f"
             ],
             [
              0.2222222222222222,
              "#7201a8"
             ],
             [
              0.3333333333333333,
              "#9c179e"
             ],
             [
              0.4444444444444444,
              "#bd3786"
             ],
             [
              0.5555555555555556,
              "#d8576b"
             ],
             [
              0.6666666666666666,
              "#ed7953"
             ],
             [
              0.7777777777777778,
              "#fb9f3a"
             ],
             [
              0.8888888888888888,
              "#fdca26"
             ],
             [
              1,
              "#f0f921"
             ]
            ],
            "type": "histogram2d"
           }
          ],
          "histogram2dcontour": [
           {
            "colorbar": {
             "outlinewidth": 0,
             "ticks": ""
            },
            "colorscale": [
             [
              0,
              "#0d0887"
             ],
             [
              0.1111111111111111,
              "#46039f"
             ],
             [
              0.2222222222222222,
              "#7201a8"
             ],
             [
              0.3333333333333333,
              "#9c179e"
             ],
             [
              0.4444444444444444,
              "#bd3786"
             ],
             [
              0.5555555555555556,
              "#d8576b"
             ],
             [
              0.6666666666666666,
              "#ed7953"
             ],
             [
              0.7777777777777778,
              "#fb9f3a"
             ],
             [
              0.8888888888888888,
              "#fdca26"
             ],
             [
              1,
              "#f0f921"
             ]
            ],
            "type": "histogram2dcontour"
           }
          ],
          "mesh3d": [
           {
            "colorbar": {
             "outlinewidth": 0,
             "ticks": ""
            },
            "type": "mesh3d"
           }
          ],
          "parcoords": [
           {
            "line": {
             "colorbar": {
              "outlinewidth": 0,
              "ticks": ""
             }
            },
            "type": "parcoords"
           }
          ],
          "pie": [
           {
            "automargin": true,
            "type": "pie"
           }
          ],
          "scatter": [
           {
            "marker": {
             "line": {
              "color": "#283442"
             }
            },
            "type": "scatter"
           }
          ],
          "scatter3d": [
           {
            "line": {
             "colorbar": {
              "outlinewidth": 0,
              "ticks": ""
             }
            },
            "marker": {
             "colorbar": {
              "outlinewidth": 0,
              "ticks": ""
             }
            },
            "type": "scatter3d"
           }
          ],
          "scattercarpet": [
           {
            "marker": {
             "colorbar": {
              "outlinewidth": 0,
              "ticks": ""
             }
            },
            "type": "scattercarpet"
           }
          ],
          "scattergeo": [
           {
            "marker": {
             "colorbar": {
              "outlinewidth": 0,
              "ticks": ""
             }
            },
            "type": "scattergeo"
           }
          ],
          "scattergl": [
           {
            "marker": {
             "line": {
              "color": "#283442"
             }
            },
            "type": "scattergl"
           }
          ],
          "scattermapbox": [
           {
            "marker": {
             "colorbar": {
              "outlinewidth": 0,
              "ticks": ""
             }
            },
            "type": "scattermapbox"
           }
          ],
          "scatterpolar": [
           {
            "marker": {
             "colorbar": {
              "outlinewidth": 0,
              "ticks": ""
             }
            },
            "type": "scatterpolar"
           }
          ],
          "scatterpolargl": [
           {
            "marker": {
             "colorbar": {
              "outlinewidth": 0,
              "ticks": ""
             }
            },
            "type": "scatterpolargl"
           }
          ],
          "scatterternary": [
           {
            "marker": {
             "colorbar": {
              "outlinewidth": 0,
              "ticks": ""
             }
            },
            "type": "scatterternary"
           }
          ],
          "surface": [
           {
            "colorbar": {
             "outlinewidth": 0,
             "ticks": ""
            },
            "colorscale": [
             [
              0,
              "#0d0887"
             ],
             [
              0.1111111111111111,
              "#46039f"
             ],
             [
              0.2222222222222222,
              "#7201a8"
             ],
             [
              0.3333333333333333,
              "#9c179e"
             ],
             [
              0.4444444444444444,
              "#bd3786"
             ],
             [
              0.5555555555555556,
              "#d8576b"
             ],
             [
              0.6666666666666666,
              "#ed7953"
             ],
             [
              0.7777777777777778,
              "#fb9f3a"
             ],
             [
              0.8888888888888888,
              "#fdca26"
             ],
             [
              1,
              "#f0f921"
             ]
            ],
            "type": "surface"
           }
          ],
          "table": [
           {
            "cells": {
             "fill": {
              "color": "#506784"
             },
             "line": {
              "color": "rgb(17,17,17)"
             }
            },
            "header": {
             "fill": {
              "color": "#2a3f5f"
             },
             "line": {
              "color": "rgb(17,17,17)"
             }
            },
            "type": "table"
           }
          ]
         },
         "layout": {
          "annotationdefaults": {
           "arrowcolor": "#f2f5fa",
           "arrowhead": 0,
           "arrowwidth": 1
          },
          "autotypenumbers": "strict",
          "coloraxis": {
           "colorbar": {
            "outlinewidth": 0,
            "ticks": ""
           }
          },
          "colorscale": {
           "diverging": [
            [
             0,
             "#8e0152"
            ],
            [
             0.1,
             "#c51b7d"
            ],
            [
             0.2,
             "#de77ae"
            ],
            [
             0.3,
             "#f1b6da"
            ],
            [
             0.4,
             "#fde0ef"
            ],
            [
             0.5,
             "#f7f7f7"
            ],
            [
             0.6,
             "#e6f5d0"
            ],
            [
             0.7,
             "#b8e186"
            ],
            [
             0.8,
             "#7fbc41"
            ],
            [
             0.9,
             "#4d9221"
            ],
            [
             1,
             "#276419"
            ]
           ],
           "sequential": [
            [
             0,
             "#0d0887"
            ],
            [
             0.1111111111111111,
             "#46039f"
            ],
            [
             0.2222222222222222,
             "#7201a8"
            ],
            [
             0.3333333333333333,
             "#9c179e"
            ],
            [
             0.4444444444444444,
             "#bd3786"
            ],
            [
             0.5555555555555556,
             "#d8576b"
            ],
            [
             0.6666666666666666,
             "#ed7953"
            ],
            [
             0.7777777777777778,
             "#fb9f3a"
            ],
            [
             0.8888888888888888,
             "#fdca26"
            ],
            [
             1,
             "#f0f921"
            ]
           ],
           "sequentialminus": [
            [
             0,
             "#0d0887"
            ],
            [
             0.1111111111111111,
             "#46039f"
            ],
            [
             0.2222222222222222,
             "#7201a8"
            ],
            [
             0.3333333333333333,
             "#9c179e"
            ],
            [
             0.4444444444444444,
             "#bd3786"
            ],
            [
             0.5555555555555556,
             "#d8576b"
            ],
            [
             0.6666666666666666,
             "#ed7953"
            ],
            [
             0.7777777777777778,
             "#fb9f3a"
            ],
            [
             0.8888888888888888,
             "#fdca26"
            ],
            [
             1,
             "#f0f921"
            ]
           ]
          },
          "colorway": [
           "#636efa",
           "#EF553B",
           "#00cc96",
           "#ab63fa",
           "#FFA15A",
           "#19d3f3",
           "#FF6692",
           "#B6E880",
           "#FF97FF",
           "#FECB52"
          ],
          "font": {
           "color": "#f2f5fa"
          },
          "geo": {
           "bgcolor": "rgb(17,17,17)",
           "lakecolor": "rgb(17,17,17)",
           "landcolor": "rgb(17,17,17)",
           "showlakes": true,
           "showland": true,
           "subunitcolor": "#506784"
          },
          "hoverlabel": {
           "align": "left"
          },
          "hovermode": "closest",
          "mapbox": {
           "style": "dark"
          },
          "paper_bgcolor": "rgb(17,17,17)",
          "plot_bgcolor": "rgb(17,17,17)",
          "polar": {
           "angularaxis": {
            "gridcolor": "#506784",
            "linecolor": "#506784",
            "ticks": ""
           },
           "bgcolor": "rgb(17,17,17)",
           "radialaxis": {
            "gridcolor": "#506784",
            "linecolor": "#506784",
            "ticks": ""
           }
          },
          "scene": {
           "xaxis": {
            "backgroundcolor": "rgb(17,17,17)",
            "gridcolor": "#506784",
            "gridwidth": 2,
            "linecolor": "#506784",
            "showbackground": true,
            "ticks": "",
            "zerolinecolor": "#C8D4E3"
           },
           "yaxis": {
            "backgroundcolor": "rgb(17,17,17)",
            "gridcolor": "#506784",
            "gridwidth": 2,
            "linecolor": "#506784",
            "showbackground": true,
            "ticks": "",
            "zerolinecolor": "#C8D4E3"
           },
           "zaxis": {
            "backgroundcolor": "rgb(17,17,17)",
            "gridcolor": "#506784",
            "gridwidth": 2,
            "linecolor": "#506784",
            "showbackground": true,
            "ticks": "",
            "zerolinecolor": "#C8D4E3"
           }
          },
          "shapedefaults": {
           "line": {
            "color": "#f2f5fa"
           }
          },
          "sliderdefaults": {
           "bgcolor": "#C8D4E3",
           "bordercolor": "rgb(17,17,17)",
           "borderwidth": 1,
           "tickwidth": 0
          },
          "ternary": {
           "aaxis": {
            "gridcolor": "#506784",
            "linecolor": "#506784",
            "ticks": ""
           },
           "baxis": {
            "gridcolor": "#506784",
            "linecolor": "#506784",
            "ticks": ""
           },
           "bgcolor": "rgb(17,17,17)",
           "caxis": {
            "gridcolor": "#506784",
            "linecolor": "#506784",
            "ticks": ""
           }
          },
          "title": {
           "x": 0.05
          },
          "updatemenudefaults": {
           "bgcolor": "#506784",
           "borderwidth": 0
          },
          "xaxis": {
           "automargin": true,
           "gridcolor": "#283442",
           "linecolor": "#506784",
           "ticks": "",
           "title": {
            "standoff": 15
           },
           "zerolinecolor": "#283442",
           "zerolinewidth": 2
          },
          "yaxis": {
           "automargin": true,
           "gridcolor": "#283442",
           "linecolor": "#506784",
           "ticks": "",
           "title": {
            "standoff": 15
           },
           "zerolinecolor": "#283442",
           "zerolinewidth": 2
          }
         }
        },
        "title": {
         "font": {
          "size": 25
         },
         "text": "Daily News by Sentiment",
         "x": 0.5,
         "xanchor": "center",
         "y": 0.95,
         "yanchor": "top"
        },
        "xaxis": {
         "anchor": "y",
         "domain": [
          0,
          1
         ],
         "dtick": "D1",
         "title": {
          "text": "date"
         }
        },
        "yaxis": {
         "anchor": "x",
         "domain": [
          0,
          1
         ],
         "title": {
          "text": "count"
         }
        }
       }
      }
     },
     "metadata": {},
     "output_type": "display_data"
    }
   ],
   "source": [
    "sent_bar(df_poly, 'date', 'count', 'title_finBERT', \"Daily News by Sentiment\").show()"
   ]
  }
 ],
 "metadata": {
  "kernelspec": {
   "display_name": "Python 3.10.4 ('DS4A_PF')",
   "language": "python",
   "name": "python3"
  },
  "language_info": {
   "codemirror_mode": {
    "name": "ipython",
    "version": 3
   },
   "file_extension": ".py",
   "mimetype": "text/x-python",
   "name": "python",
   "nbconvert_exporter": "python",
   "pygments_lexer": "ipython3",
   "version": "3.10.4"
  },
  "orig_nbformat": 4,
  "vscode": {
   "interpreter": {
    "hash": "13466a67c9f9701c67a7e5e914ed61b6a6d8e5113815e6d2cd12d59afa0108d3"
   }
  }
 },
 "nbformat": 4,
 "nbformat_minor": 2
}
