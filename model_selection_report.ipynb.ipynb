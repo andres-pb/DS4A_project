{
  "cells": [
    {
      "cell_type": "code",
      "execution_count": 19,
      "metadata": {
        "id": "oNX9ewbvR3-0"
      },
      "outputs": [],
      "source": [
        "import pandas as pd\n",
        "import numpy as np\n",
        "import datetime as dt\n",
        "import matplotlib.pyplot as plt\n",
        "from os import environ\n",
        "import tensorflow as tf\n",
        "from tensorflow import keras\n",
        "import joblib\n",
        "\n",
        "from keras.models import Sequential, Model\n",
        "from keras.layers import LSTM, Bidirectional\n",
        "from keras.layers import Dense, BatchNormalization, ReLU, MaxPooling2D\n",
        "from keras.layers import Activation, Masking \n",
        "from keras.layers import Dropout, PReLU\n",
        "from keras.layers import Conv1D, Input, SpatialDropout2D\n",
        "from keras.layers import MaxPooling1D, Reshape, ConvLSTM2D, Conv2D\n",
        "from keras.layers import Flatten, RepeatVector\n",
        "from keras.layers import TimeDistributed, Permute, Concatenate, Multiply, Lambda\n",
        "from keras.constraints import maxnorm\n",
        "from tensorflow.keras.optimizers import Adam\n",
        "from tensorflow.keras.utils import plot_model\n",
        "from keras.callbacks import EarlyStopping\n",
        "import keras.backend as K\n",
        "from sklearn.preprocessing import MinMaxScaler, StandardScaler\n",
        "from sklearn.metrics import mean_squared_error, mean_absolute_error\n",
        "from tensorflow.keras.models import Sequential, model_from_json\n",
        "\n",
        "import plotly.express as px\n",
        "import plotly.graph_objects as go"
      ]
    },
    {
      "cell_type": "markdown",
      "metadata": {
        "id": "lIMjaAk2R3-4"
      },
      "source": [
        "## LSTM Neural Network Architectures\n",
        "\n",
        "We defined custom architectures for the long short term memory neural networks. Defined as Keras Sequential models, they take a series of parameters to customize them in terms of number of Recurrent Neural Layers, the number of units for each one of them, the number of units in the final dense layer, how many steps into the future of the target we are forecasting, and some other parameters such as dropout, learning rate and model name. We have considered 3 types of recurrent neural networks here: a simple LSTM, a bidirectional LSTM and a bidirectional LSTM with attention.\n",
        "\n",
        "Later, we test different versions of these models, compare them and choose one or two to make it available for the final user."
      ]
    },
    {
      "cell_type": "code",
      "execution_count": 20,
      "metadata": {
        "id": "7oJacECsR3-6"
      },
      "outputs": [],
      "source": [
        "# Functions to define NN with different architectures\n",
        "\n",
        "def build_LSTM(in_shape, \n",
        "               num_rnns=1, \n",
        "               dim_rnn=128,\n",
        "               dense_units=100,\n",
        "               num_ysteps=1, \n",
        "               lr=1e-3,\n",
        "               decay=6e-8,\n",
        "               drop=False,\n",
        "               drop_rate=0.2,\n",
        "               masking=False,\n",
        "               mv=-np.inf,\n",
        "               model_name='LSTM',\n",
        "               summarize: bool = False\n",
        "               ):\n",
        "  \n",
        "  \"\"\"Builds a classifier with LSTM layers with the given parameters\n",
        "\n",
        "      Parameters:\n",
        "      - in_shape: the constant shape of the input data X\n",
        "      - num_rnns: how many lstm layers to add\n",
        "      - dim_rnns: the number of units for each lstm layer\n",
        "      - dense_units: number of units for the dense layer that goes after lstms\n",
        "      - num_ysteps: how many time steps of the target to predict\n",
        "      - drop: would you like to use dropout layers to prevent overfitting?\n",
        "      - **masking: do not set this parameter to True because you cannot\n",
        "                  manipulate the data to use a masking value.\n",
        "      - extra Neural Network training parameters...\n",
        "\n",
        "      Returns a keras model for classification that has not yet been trained\"\"\"\n",
        "\n",
        "  # sequence input\n",
        "  in_seq = Input(shape=in_shape, name='sequential_input')\n",
        "\n",
        "  if masking:\n",
        "    # tell rnns to ignore masked-padded timesteps\n",
        "    x = Masking(mask_value=mv)(in_seq)\n",
        "  else:\n",
        "    x = in_seq\n",
        "\n",
        "  lstm_out = LSTM(dim_rnn, activation='relu',\n",
        "                  return_sequences=True)(x)\n",
        "  if drop:\n",
        "    lstm_out = Dropout(drop_rate)(lstm_out)\n",
        "\n",
        "  rnn_layers = 1\n",
        "  while rnn_layers < num_rnns:\n",
        "    rnn_layers +=1\n",
        "    rs = not (rnn_layers == num_rnns)\n",
        "    lstm_out = LSTM(dim_rnn, activation='relu',\n",
        "                    return_sequences=rs)(lstm_out)\n",
        "  if drop:\n",
        "    lstm_out = Dropout(drop_rate)(lstm_out)\n",
        "\n",
        "  xx = Dense(dense_units, activation='relu')(lstm_out)\n",
        "  pred_out = Dense(num_ysteps, activation='relu')(xx)\n",
        "\n",
        "  # Define Model\n",
        "  lags = in_shape[0]\n",
        "  features = in_shape[1]\n",
        "  predictor = Model(in_seq, pred_out, name=model_name + '_' + str(lags) + '_lags_' + str(features) + '_fts')\n",
        "  # compile model\n",
        "  opt = Adam(learning_rate=lr, decay=decay)\n",
        "  predictor.compile(loss='mse', \n",
        "                    optimizer=opt, \n",
        "                    metrics=['mse'])\n",
        "  if summarize:\n",
        "    predictor.summary()\n",
        "\n",
        "  return predictor\n",
        "\n",
        "\n",
        "def build_BLSTM(in_shape, \n",
        "                num_rnns=1, \n",
        "                dim_rnn=128,\n",
        "                dense_units=100, \n",
        "                num_ysteps=1,\n",
        "                lr=1e-3, \n",
        "                decay=6e-8,\n",
        "                drop=False,\n",
        "                drop_rate=0.2,\n",
        "                masking=False,\n",
        "                mv=-np.inf,\n",
        "                model_name='Bidirectional_LSTM',\n",
        "               summarize: bool = False\n",
        "                ):\n",
        "\n",
        "  \"\"\"Builds classifier with Bidirectional LSTM layers from the given parameters\n",
        "\n",
        "    Parameters:\n",
        "    - in_shape: the constant shape of the input data X\n",
        "    - num_rnns: how many lstm layers to add\n",
        "    - dim_rnns: the number of units for each lstm layer\n",
        "    - dense_units: number of units for the dense layer that goes after lstms\n",
        "    - num_ysteps: how many timesteps of the target to predict\n",
        "    - drop: would you like to use dropout layers to prevent overfitting?\n",
        "    - extra Neural Network training parameters...\n",
        "\n",
        "    Returns a keras model for classification that has not yet been trained\"\"\"\n",
        "\n",
        "  # sequence input\n",
        "  in_seq = Input(shape=in_shape, name='sequential_input')\n",
        "\n",
        "  if masking:\n",
        "    # tell rnns to ignore masked-padded timesteps\n",
        "    x = Masking(mask_value=mv)(in_seq)\n",
        "  else:\n",
        "    x = in_seq\n",
        "  lstm_out = Bidirectional(LSTM(dim_rnn, activation='relu',\n",
        "                                return_sequences=True))(x)\n",
        "  rnn_layers = 1\n",
        "  while rnn_layers < num_rnns:\n",
        "    rnn_layers +=1\n",
        "    rs = not (rnn_layers == num_rnns)\n",
        "    lstm_out = Bidirectional(LSTM(dim_rnn, activation='relu',\n",
        "                                  return_sequences=rs))(lstm_out)\n",
        "  if drop:\n",
        "    lstm_out = Dropout(drop_rate)(lstm_out)\n",
        "\n",
        "  xx = Dense(dense_units, activation='relu')(lstm_out)\n",
        "  pred_out = Dense(num_ysteps, activation='relu')(xx)\n",
        "\n",
        "  # Define Model\n",
        "  lags = in_shape[0]\n",
        "  features = in_shape[1]\n",
        "  predictor = Model(in_seq, pred_out, name=model_name + '_' + str(lags) + '_lags_' + str(features) + '_fts')\n",
        "  # compile model\n",
        "  opt = Adam(learning_rate=lr, decay=decay)\n",
        "  predictor.compile(loss='mse', \n",
        "                     optimizer=opt, metrics=['mse'])\n",
        "  if summarize:\n",
        "    predictor.summary()\n",
        "\n",
        "  return predictor\n",
        "\n",
        "\n",
        "def build_AttentiveBLSTM(\n",
        "    in_shape,    # (num_timesteps, num_features)\n",
        "    num_rnns=1, \n",
        "    dim_rnn=64, \n",
        "    num_ysteps=1, \n",
        "    lr=1e-3, \n",
        "    decay=6e-8,\n",
        "    drop=False,\n",
        "    drop_rate=0.2,\n",
        "    masking=False,\n",
        "    mv=-np.inf,\n",
        "    model_name='Attentive_BLSTM',\n",
        "    suffix='',\n",
        "    summarize: bool = False):\n",
        "  \n",
        "  \"\"\"Builds classifier with Bidirectional LSTM layers and Attention \n",
        "      implementation from the given parameters\n",
        "\n",
        "     Parameters:\n",
        "     - in_shape: Tuple (num_timesteps, num_features)\n",
        "                 the constant shape of each sample in the input data X\n",
        "     - num_rnns: how many lstm layers to add\n",
        "     - dim_rnns: the number of units for each lstm layer\n",
        "     - dense_units: number of units for the dense layer that goes after lstms\n",
        "     - num_ysteps: how many timesteps of the target to predict\n",
        "     - drop: would you like to use dropout layers to prevent overfitting?\n",
        "     - extra Neural Network training parameters...\n",
        "     Returns a keras model for classification that has not yet been trained\"\"\"\n",
        "  \n",
        "  # sequence input\n",
        "  in_seq = Input(shape=in_shape, name='sequential_input')\n",
        "  \n",
        "  if masking:\n",
        "    # tell rnns to ignore masked-padded timesteps\n",
        "    x = Masking(mask_value=mv)(in_seq)\n",
        "  else:\n",
        "    x = in_seq\n",
        "  lstm_out = Bidirectional(LSTM(dim_rnn, return_sequences=True,input_shape=in_shape))(x)\n",
        "  rnn_layers = 1\n",
        "  if drop:\n",
        "    lstm_out = Dropout(drop_rate)(lstm_out)\n",
        "  while rnn_layers < num_rnns:\n",
        "    rnn_layers +=1\n",
        "    lstm_out = Bidirectional(LSTM(dim_rnn, return_sequences=True))(lstm_out)   \n",
        "  if drop:\n",
        "    lstm_out = Dropout(drop_rate)(lstm_out)\n",
        "  # adding attention\n",
        "  e = Dense(1, activation='tanh')(lstm_out)\n",
        "  e = Flatten(data_format=None)(e)\n",
        "  a = Activation('softmax')(e)\n",
        "  temp = RepeatVector(2*dim_rnn)(a)\n",
        "  temp = Permute([2, 1])(temp)\n",
        "  # multiply weights with lstm output\n",
        "  att_out = Multiply()([lstm_out, temp])\n",
        "  # attention adjusted output state\n",
        "  att_out = Lambda(lambda values: K.sum(values, axis=1))(att_out)\n",
        "  pred_out = Dense(num_ysteps, activation='relu')(att_out)\n",
        "\n",
        "  # Define Model\n",
        "  lags = in_shape[0]\n",
        "  features = in_shape[1]\n",
        "  predictor = Model(in_seq, pred_out, name=model_name + '_' + str(lags) + '_lags_' + str(features) + '_fts' + '_' + suffix)\n",
        "  # compile model\n",
        "  opt = Adam(learning_rate=lr, decay=decay)\n",
        "  predictor.compile(loss='mae', \n",
        "                     optimizer=opt, metrics=['mse'])\n",
        "  if summarize:\n",
        "    predictor.summary()\n",
        "\n",
        "  return predictor"
      ]
    },
    {
      "cell_type": "markdown",
      "metadata": {
        "id": "Jcl5uEw7R3_A"
      },
      "source": [
        "## Data Preprocessing Functions"
      ]
    },
    {
      "cell_type": "code",
      "execution_count": 21,
      "metadata": {
        "id": "zbxQE7GJR3_A"
      },
      "outputs": [],
      "source": [
        "def build_dset(n_coins: int, gtrends: bool = False):\n",
        "\n",
        "    \"\"\"\n",
        "    Builds a dataframe with price and volume daily data from yahoofinance for each of a given\n",
        "    number of coins and returns a dictionary with the coin name as the key and the dataframe as the value.\n",
        "    The dataframe also cointains the risk free rate as the US treasury bonds yield at different maturities,\n",
        "    which is thought to capture the effect of inflation and inflation expectations that might have certain effect\n",
        "    on crypto prices.\n",
        "    Coins are sorted by market cap and days of history available.\n",
        "    \"\"\"\n",
        "\n",
        "    # Get top n_coins coins by mktcap\n",
        "    load_dotenv()\n",
        "    mktcap_key = environ.get('COIN_MKTCAP_KEY')\n",
        "    cmc = CoinMarketCap(mktcap_key)\n",
        "    coins_df = cmc.get_top_coins(n_coins)\n",
        "\n",
        "    # Daily US yield curve to account for interest rate (inflation) effect\n",
        "    yield_curve = ['^FVX', '^TNX', '^TYX']\n",
        "    ir_dfs = []\n",
        "    for ir in yield_curve:\n",
        "        min_date = coins_df['first_historical_data'].min()\n",
        "        status, ir_data = yahoo_finance.market_value(ir, hist=min_date, interval='1d')\n",
        "        ir_data.rename(columns={'Close': ir[1:]}, inplace=True)\n",
        "        ir_close =  ir_data[ir[1:]]\n",
        "        ir_dfs.append(ir_close)\n",
        "    us_treasury = pd.concat(ir_dfs, axis=1)\n",
        "\n",
        "    # Get daily market data for top 10 coins\n",
        "    data_dict = {}\n",
        "    for idx, coin in coins_df.iterrows():\n",
        "        coin_name = coin['name']\n",
        "        ticker = coin['symbol'] + '-USD'\n",
        "        start = coin['first_historical_data']\n",
        "\n",
        "        # Get daily market data from yahoo\n",
        "        status, data = yahoo_finance.market_value(ticker, hist=start, interval='1d')\n",
        "        print(coin_name, coin['days_history'])\n",
        "        print(data.shape)\n",
        "        # Add yield curve data\n",
        "        data = data.merge(us_treasury, how='left', left_index=True, right_index=True)\n",
        "        xcols = ['High', 'Low', 'Volume'] + [s[1:] for s in yield_curve]\n",
        "\n",
        "        if gtrends:\n",
        "            gt = GoogleTrends()\n",
        "            # Get daily google trend data\n",
        "            start_str = dt.datetime.strftime(start, r'%Y-%m-%d')\n",
        "            end_str = dt.datetime.strftime(dt.datetime.today(), r'%Y-%m-%d')\n",
        "            gtrend = gt.get_daily_trend_df([coin_name], start_date=start_str, end_date=end_str)\n",
        "            data = data.merge(gtrend, how='left', left_index=True, right_index=True)\n",
        "            data = data.rename(columns={coin_name: 'Google_Trend'})\n",
        "            xcols = ['High', 'Low', 'Volume'] + [s[1:] for s in yield_curve] + ['Google_Trend']\n",
        "\n",
        "        data = data.fillna(method='ffill')[xcols + ['Close']]\n",
        "        data_dict[coin_name] = data\n",
        "        \n",
        "    return data_dict\n",
        "\n",
        "\n",
        "def select_features(data_dict, keep=['Volume', 'Gtrend']):\n",
        "    \"\"\"\n",
        "    Simple feature selection rule for each coin.\n",
        "    Keep the volume and select the US treasury bond maturity with the highest correlation to the target.\n",
        "    \"\"\"\n",
        "\n",
        "    for coin, dset in data_dict.items():\n",
        "        selected_features = keep\n",
        "        corr = dsets[coin].corr()\n",
        "        yield_curve = ['FVX', 'TNX', 'TYX']\n",
        "        corr_yield = np.abs(corr[yield_curve])\n",
        "        ir_index = corr_yield.loc['Close', :].argmax()\n",
        "        selected_features = keep + [yield_curve[ir_index]]\n",
        "        \n",
        "        data_dict[coin] = dset[list(set(selected_features)) + ['Close']]\n",
        "\n",
        "\n",
        "def series_to_supervised(df, n_in=1, n_out=1, target_idx=-1, \n",
        "                         dropnan=True, min_input=None, trajectory=False):\n",
        "\n",
        "    \"\"\"\n",
        "    Takes the dataframe and sets as many as n_in lags of the features as columns. (Reframes the df)\n",
        "    This is required for LSTM neural networks which take 3D input (n_samples, n_lags, n_features).\n",
        "    \"\"\"\n",
        "    \n",
        "    df = df.copy(deep=True)\n",
        "    n_in = int(n_in)\n",
        "    min_input = int(min_input)\n",
        "    target = df.columns[target_idx]\n",
        "    df[target + '_t'] = df[target]\n",
        "    n_vars = df.shape[1] - 1\n",
        "    \n",
        "    vars = list(df.columns)\n",
        "    vars.remove(target)\n",
        "    cols, names = list(), list()\n",
        "    # input sequences (t-n, ... t-1)\n",
        "    for i in range(n_in, 0, -1):\n",
        "      cols.append(df.iloc[:,:target_idx].shift(i))\n",
        "      names += [(var + '(t-%d)' % i) for var in vars]\n",
        "    if trajectory or n_out==1:    \n",
        "        # current features (t)\n",
        "        cols.append(df)\n",
        "        names += [(var + '(t)') for var in vars]\n",
        "        names += [target + '(t)']\n",
        "        # forecast sequence (t, t+1, ... t+n)\n",
        "        for i in range(1, n_out):\n",
        "            cols.append(df[target].shift(-i))    \n",
        "            names += [target + '(t+%d)' % i]\n",
        "    else:\n",
        "        # current features (t)\n",
        "        cols.append(df.iloc[:,:-1])\n",
        "        names += [(var + '(t)') for var in vars]\n",
        "        cols.append(df[target].shift(-n_out))    \n",
        "        names += [target + '(t+%d)' % n_out]\n",
        "    # put it all together\n",
        "    agg = pd.concat(cols, axis=1)\n",
        "    agg.columns = names\n",
        "    # drop rows with NaN values\n",
        "    if dropnan and min_input:\n",
        "      agg.dropna(inplace=True, thresh=n_vars*(min_input+1))\n",
        "    agg.drop(columns=[(var + '(t)') for var in vars], inplace=True)\n",
        "    return agg\n",
        "\n",
        "\n",
        "def prep_data(df, timesteps, test_days=365, scaler=None):\n",
        "    \"\"\"\n",
        "    Final data preparations: \n",
        "    - extracts np.arrays from df,\n",
        "    - rescales the data with a minmax scaler,\n",
        "    - reshapes data into the 3D sequential arrays as required by LSTMs\n",
        "    - Train-Test split using the last test_days parameter as training samples.\n",
        "    \"\"\"\n",
        "\n",
        "    reframed = series_to_supervised(df, n_in=timesteps, min_input=timesteps)\n",
        "    seqs = reframed.values \n",
        "\n",
        "    if not scaler:\n",
        "        scaler = MinMaxScaler(feature_range=(0, 1))\n",
        "    scaled_seqs = scaler.fit_transform(seqs)\n",
        "\n",
        "    X = scaled_seqs[:,:-1].reshape((seqs.shape[0], \n",
        "                            timesteps, \n",
        "                            int(seqs.shape[1]/timesteps)\n",
        "                            ))\n",
        "    y = scaled_seqs[:, -1]\n",
        "\n",
        "    X_train, X_test = X[:-test_days, :, :], X[-test_days:, :, :]\n",
        "    y_train, y_test = y[:-test_days], y[-test_days:]\n",
        "\n",
        "    test_dates = df.iloc[-test_days:, :].index\n",
        "    \n",
        "    return X_train, y_train, X_test, y_test, scaler, test_dates"
      ]
    },
    {
      "cell_type": "markdown",
      "metadata": {
        "id": "0LH3GvbWR3_D"
      },
      "source": [
        "## Model Training Functions"
      ]
    },
    {
      "cell_type": "code",
      "execution_count": 22,
      "metadata": {
        "id": "GTRJcB-xR3_F"
      },
      "outputs": [],
      "source": [
        "def train_model(\n",
        "    prep_dsets: dict, \n",
        "    coin_name: str,\n",
        "    model_builder,\n",
        "    n_epochs=1,\n",
        "    batch_size=1,\n",
        "    early_stop: bool = False,\n",
        "    patience: int = None,\n",
        "    model_kwargs: dict = {}):\n",
        "\n",
        "    X_train, y_train, X_test, y_test, _, _ = prep_dsets[coin_name]\n",
        "    # Build lstm model\n",
        "    model = model_builder(\n",
        "                    in_shape=(X_train.shape[1], X_train.shape[2]),\n",
        "                    **model_kwargs\n",
        "                    )\n",
        "    if early_stop and patience:\n",
        "        # This EarlyStopping callback stops training once it stops improving\n",
        "        # so that you can set a high number of epochs and let it choose when to stop\n",
        "        monitor = EarlyStopping(monitor='val_loss', \n",
        "                                min_delta=1e-3, \n",
        "                                patience=patience, \n",
        "                                verbose=0, \n",
        "                                mode='auto', \n",
        "                                restore_best_weights=True)\n",
        "    # Train the model\n",
        "    history = model.fit(\n",
        "                    X_train, y_train, \n",
        "                    validation_data=(X_test, y_test),\n",
        "                    callbacks=[monitor] if early_stop else None,\n",
        "                    verbose=2, \n",
        "                    epochs=n_epochs,\n",
        "                    batch_size=batch_size\n",
        "                    )\n",
        "    # visualize training\n",
        "    plt.plot(history.history['mse'], label='train')\n",
        "    plt.plot(history.history['val_mse'], label='test')\n",
        "    plt.legend()\n",
        "    plt.show()\n",
        "\n",
        "    return model"
      ]
    },
    {
      "cell_type": "code",
      "execution_count": 23,
      "metadata": {
        "id": "YjAmh4VgR3_G"
      },
      "outputs": [],
      "source": [
        "def save_model(model, full_path: str= None, path=\"./models/\", coin_ticker='BTC'):\n",
        "    \n",
        "    # serialize model\n",
        "    model_json = model.to_json()\n",
        "    if not full_path:\n",
        "        full_path = path + coin_ticker + '_' + model.name + '.json'\n",
        "    with open(full_path, \"w\") as json_file:\n",
        "        json_file.write(model_json)\n",
        "    # serialize weights\n",
        "    weights_path = full_path.replace('.json', '.h5')\n",
        "    model.save_weights(weights_path)\n",
        "\n",
        "\n",
        "def save_scaler(fitted_scaler, full_path: str= None, path=\"./models/\", coin_ticker='BTC'):\n",
        "    if not full_path:\n",
        "        full_path = path + coin_ticker + '_scaler.gz'\n",
        "    joblib.dump(fitted_scaler, full_path)\n",
        "\n",
        "\n",
        "def load_scaler(full_path: str= None, path=\"./models/\", coin_ticker='BTC'):\n",
        "    \n",
        "    if not full_path:\n",
        "        full_path = path + coin_ticker + '_scaler.gz'\n",
        "    my_scaler = joblib.load(full_path)\n",
        "    return my_scaler\n",
        "\n",
        "\n",
        "def load_model(full_path: str= None, path=\"./models/\", coin_ticker='BTC', model_name='blstm'):\n",
        "    \n",
        "    if not full_path:\n",
        "    # load json and create model\n",
        "        full_path = path + coin_ticker + '_' + model_name + '.json'\n",
        "    json_file = open(full_path, 'r')\n",
        "    loaded_model_json = json_file.read()\n",
        "    json_file.close()\n",
        "    loaded_model = model_from_json(loaded_model_json)\n",
        "    # load weights into new model\n",
        "    weights_path = full_path.replace('.json', '.h5')\n",
        "    loaded_model.load_weights(weights_path)\n",
        "\n",
        "    return loaded_model"
      ]
    },
    {
      "cell_type": "markdown",
      "metadata": {
        "id": "7IMjv5CnR3_G"
      },
      "source": [
        "## Model Testing Functions"
      ]
    },
    {
      "cell_type": "code",
      "execution_count": 38,
      "metadata": {
        "id": "ACpdd-7eR3_H"
      },
      "outputs": [],
      "source": [
        "def get_test_df(model, x_test, y_test, scaler, test_dates):\n",
        "    \n",
        "    predicted = model.predict(x_test)\n",
        "    X_test_2d = X_test.reshape((X_test.shape[0], timesteps * X_test.shape[2]))\n",
        "    xpred_2d = np.append(X_test_2d, predicted, axis=1)\n",
        "    pred_y = scaler.inverse_transform(xpred_2d)[:, -1]\n",
        "    xtrue_2d = np.append(X_test_2d, y_test.reshape(predicted.shape), axis=1)\n",
        "    true_y = scaler.inverse_transform(xtrue_2d)[:, -1]\n",
        "\n",
        "    test_df = pd.DataFrame()\n",
        "    test_df['Observed'] = true_y\n",
        "    test_df['Predicted'] = pred_y\n",
        "    test_df.index = test_dates\n",
        "\n",
        "    return test_df\n",
        "\n",
        "\n",
        "def plot_model_test(test_df, px_theme='plotly_dark'):\n",
        "\n",
        "    fig = px.line(\n",
        "            test_df, \n",
        "            x=test_df.index, \n",
        "            y=test_df.columns,\n",
        "            template=px_theme,\n",
        "            labels={\n",
        "                    'variable': ''\n",
        "                },\n",
        "            )\n",
        "    fig.update_layout(\n",
        "        legend=dict(\n",
        "            yanchor=\"top\",\n",
        "            y=0.99,\n",
        "            xanchor=\"right\",\n",
        "            x=0.99\n",
        "        )\n",
        "    )\n",
        "    fig.update_yaxes(title_text = 'Close Price')\n",
        "    fig.update_layout(\n",
        "        yaxis_tickformat = '$',\n",
        "        title={\n",
        "            'text': \"Model Performance\",\n",
        "            'y':0.9,\n",
        "            'x':0.5,\n",
        "            'xanchor': 'center',\n",
        "            'yanchor': 'top',\n",
        "            'font': dict(\n",
        "            #family=\"Courier New, monospace\",\n",
        "            size=25)\n",
        "            },\n",
        "        )\n",
        "    fig.update_traces(hovertemplate='%{y:$,.2f}')\n",
        "    fig.update_layout(hovermode=\"x unified\")\n",
        "\n",
        "    fig.update_xaxes(\n",
        "        title_text = 'Date',\n",
        "        rangeslider_visible = True\n",
        "        )\n",
        "\n",
        "    return fig"
      ]
    },
    {
      "cell_type": "markdown",
      "metadata": {
        "id": "ldHqebDuR3_I"
      },
      "source": [
        "## Feature Importance Functions"
      ]
    },
    {
      "cell_type": "code",
      "execution_count": 25,
      "metadata": {
        "id": "ajbanN_9R3_I"
      },
      "outputs": [],
      "source": [
        "def get_importance_df(model, dset, timesteps):\n",
        "\n",
        "    reframed = series_to_supervised(dset, n_in=timesteps, min_input=60)\n",
        "    feature_names = reframed.iloc[:, :-1].columns\n",
        "    feature_names = list(feature_names)\n",
        "    _, _, X_test, y_test, _, _ = prep_data(dset, timesteps)\n",
        "    results = []\n",
        "\n",
        "    mae_err = mean_absolute_error\n",
        "    mse_err = mean_squared_error \n",
        "    oof_preds = model.predict(X_test, verbose=0).squeeze() \n",
        "    baseline_mae = mae_err(y_test, oof_preds)\n",
        "    baseline_mse = mse_err(y_test, oof_preds)\n",
        "\n",
        "    np.random.seed(888)\n",
        "    for k in range(timesteps):\n",
        "        for f in range(3):\n",
        "            # SHUFFLE LAG k OF FEATURE f\n",
        "            save_col = X_test[:,k,f].copy()\n",
        "            np.random.shuffle(X_test[:,k,f])\n",
        "            current_ft = feature_names.pop(0)\n",
        "            # COMPUTE OOF MAE WITH FEATURE K SHUFFLED\n",
        "            oof_preds = model.predict(X_test, verbose=0).squeeze() \n",
        "            mae = mae_err(y_test, oof_preds) - baseline_mae\n",
        "            results.append(\n",
        "                {'Feature':current_ft,\n",
        "                'Importance':mae,\n",
        "                'Metric': 'mae'\n",
        "                })\n",
        "            mse = mse_err(y_test, oof_preds) - baseline_mse\n",
        "            results.append(\n",
        "                {'Feature':current_ft,\n",
        "                'Importance':mse,\n",
        "                'Metric': 'mse'\n",
        "                })\n",
        "            X_test[:,k,f] = save_col\n",
        "\n",
        "    importance_df = pd.DataFrame(results).sort_values(['Metric', 'Importance'])\n",
        "\n",
        "    return importance_df\n",
        "  \n",
        "\n",
        "def plot_importance(importance_df: pd.DataFrame, theme: str ='plotly_dark'):\n",
        "\n",
        "    fig = go.Figure()\n",
        "    fig.update_xaxes(showgrid=True, gridwidth=0.1, gridcolor='DarkGrey')\n",
        "\n",
        "    metrics_list = list(importance_df['Metric'].unique())\n",
        "\n",
        "    for metric in metrics_list:\n",
        "        vis = metric == 'mse'\n",
        "        mdf = importance_df[importance_df['Metric']==metric]\n",
        "\n",
        "        mdf = mdf.sort_values('Importance').tail(20)\n",
        "        fig.add_trace(\n",
        "            go.Bar(\n",
        "                orientation='h', \n",
        "                x = mdf['Importance'],\n",
        "                y = mdf['Feature'],\n",
        "                name = metric, \n",
        "                visible=vis\n",
        "            )\n",
        "        )\n",
        "                \n",
        "    buttons = []\n",
        "\n",
        "    for i, metric in enumerate(metrics_list):\n",
        "        args = [False] * len(metrics_list)\n",
        "        args[i] = True\n",
        "        \n",
        "        button = dict(\n",
        "                    label = metric.upper(),\n",
        "                    method = \"update\",\n",
        "                    args=[{\"visible\": args}])\n",
        "        \n",
        "        buttons.append(button)\n",
        "        \n",
        "    fig.update_layout(\n",
        "        updatemenus=[dict(\n",
        "                        active=0,\n",
        "                        type=\"buttons\",\n",
        "                        direction = \"left\",\n",
        "                        buttons=buttons,\n",
        "                        x = 1,\n",
        "                        y = 1,\n",
        "                        xanchor = 'left',\n",
        "                        yanchor = 'bottom'\n",
        "                    )], \n",
        "        autosize=True,\n",
        "    )\n",
        "    fig.update_layout(\n",
        "        title={\n",
        "            'text': \"Feature Importance\",\n",
        "            'y':0.9,\n",
        "            'x':0.5,\n",
        "            'xanchor': 'center',\n",
        "            'yanchor': 'top',\n",
        "            'font': dict(\n",
        "            #family=\"Courier New, monospace\",\n",
        "            size=25\n",
        "            )\n",
        "            },\n",
        "        template=theme\n",
        "    )\n",
        "\n",
        "    fig.update_yaxes(tickmode='linear')\n",
        "    fig.update_layout(updatemenus=[dict(font=dict(color='black'))])\n",
        "    fig.update_traces(marker_color='rgba(50, 171, 96, 0.6)')\n",
        "\n",
        "    return fig"
      ]
    },
    {
      "cell_type": "markdown",
      "metadata": {
        "id": "cj-vUID0R3_J"
      },
      "source": [
        "# Data Pre-processing"
      ]
    },
    {
      "cell_type": "markdown",
      "metadata": {
        "id": "3yq0kRkxR3_J"
      },
      "source": [
        "## Feature Selection\n",
        "Since we find that some features are highly correlated to each other, we reduce the number of features to 3: the cryptocurrency daily close, traded volume, and the only one of the treasure bond yield maturities available (FVX, TNX, TYX). \n",
        "We decided to leave out the daily high and low price because they have a correlation of 0.99 with the daily close, which suggests that using the daily close as predictor int he autoregressive part of the model is enough and they would not add valuable information. \n",
        "As for the interest rate, we notice that the 5, 10 and 30 year maturities of US treasury bonds are also highly correlated. Different cryptocurrencies are affected by different maturities of the risk free rate. We noticed that, depending on the cryptocurrency, one of the maturities will exhibit a higher correlation with the price. This is why we stablish a simple feature selection rule to include only the most relevant bond yield."
      ]
    },
    {
      "cell_type": "code",
      "execution_count": 26,
      "metadata": {
        "colab": {
          "base_uri": "https://localhost:8080/",
          "height": 0
        },
        "id": "RBPcXOAfKFaB",
        "outputId": "381a6992-8000-4b22-ee37-eda811a7225d"
      },
      "outputs": [
        {
          "data": {
            "text/html": [
              "<div>\n",
              "<style scoped>\n",
              "    .dataframe tbody tr th:only-of-type {\n",
              "        vertical-align: middle;\n",
              "    }\n",
              "\n",
              "    .dataframe tbody tr th {\n",
              "        vertical-align: top;\n",
              "    }\n",
              "\n",
              "    .dataframe thead th {\n",
              "        text-align: right;\n",
              "    }\n",
              "</style>\n",
              "<table border=\"1\" class=\"dataframe\">\n",
              "  <thead>\n",
              "    <tr style=\"text-align: right;\">\n",
              "      <th></th>\n",
              "      <th>High</th>\n",
              "      <th>Low</th>\n",
              "      <th>Volume</th>\n",
              "      <th>FVX</th>\n",
              "      <th>TNX</th>\n",
              "      <th>TYX</th>\n",
              "      <th>Close</th>\n",
              "      <th>Ticker</th>\n",
              "      <th>Name</th>\n",
              "      <th>Slug</th>\n",
              "      <th>Gtrend</th>\n",
              "    </tr>\n",
              "    <tr>\n",
              "      <th>Date</th>\n",
              "      <th></th>\n",
              "      <th></th>\n",
              "      <th></th>\n",
              "      <th></th>\n",
              "      <th></th>\n",
              "      <th></th>\n",
              "      <th></th>\n",
              "      <th></th>\n",
              "      <th></th>\n",
              "      <th></th>\n",
              "      <th></th>\n",
              "    </tr>\n",
              "  </thead>\n",
              "  <tbody>\n",
              "    <tr>\n",
              "      <th>2014-09-17</th>\n",
              "      <td>468.174011</td>\n",
              "      <td>452.421997</td>\n",
              "      <td>21056800</td>\n",
              "      <td>1.804</td>\n",
              "      <td>2.600</td>\n",
              "      <td>3.364</td>\n",
              "      <td>457.334015</td>\n",
              "      <td>BTC-USD</td>\n",
              "      <td>Bitcoin</td>\n",
              "      <td>bitcoin</td>\n",
              "      <td>47.0</td>\n",
              "    </tr>\n",
              "    <tr>\n",
              "      <th>2014-09-18</th>\n",
              "      <td>456.859985</td>\n",
              "      <td>413.104004</td>\n",
              "      <td>34483200</td>\n",
              "      <td>1.841</td>\n",
              "      <td>2.629</td>\n",
              "      <td>3.359</td>\n",
              "      <td>424.440002</td>\n",
              "      <td>BTC-USD</td>\n",
              "      <td>Bitcoin</td>\n",
              "      <td>bitcoin</td>\n",
              "      <td>46.0</td>\n",
              "    </tr>\n",
              "    <tr>\n",
              "      <th>2014-09-19</th>\n",
              "      <td>427.834991</td>\n",
              "      <td>384.532013</td>\n",
              "      <td>37919700</td>\n",
              "      <td>1.819</td>\n",
              "      <td>2.587</td>\n",
              "      <td>3.299</td>\n",
              "      <td>394.795990</td>\n",
              "      <td>BTC-USD</td>\n",
              "      <td>Bitcoin</td>\n",
              "      <td>bitcoin</td>\n",
              "      <td>53.0</td>\n",
              "    </tr>\n",
              "    <tr>\n",
              "      <th>2014-09-20</th>\n",
              "      <td>423.295990</td>\n",
              "      <td>389.882996</td>\n",
              "      <td>36863600</td>\n",
              "      <td>1.819</td>\n",
              "      <td>2.587</td>\n",
              "      <td>3.299</td>\n",
              "      <td>408.903992</td>\n",
              "      <td>BTC-USD</td>\n",
              "      <td>Bitcoin</td>\n",
              "      <td>bitcoin</td>\n",
              "      <td>46.0</td>\n",
              "    </tr>\n",
              "    <tr>\n",
              "      <th>2014-09-21</th>\n",
              "      <td>412.425995</td>\n",
              "      <td>393.181000</td>\n",
              "      <td>26580100</td>\n",
              "      <td>1.819</td>\n",
              "      <td>2.587</td>\n",
              "      <td>3.299</td>\n",
              "      <td>398.821014</td>\n",
              "      <td>BTC-USD</td>\n",
              "      <td>Bitcoin</td>\n",
              "      <td>bitcoin</td>\n",
              "      <td>48.0</td>\n",
              "    </tr>\n",
              "    <tr>\n",
              "      <th>...</th>\n",
              "      <td>...</td>\n",
              "      <td>...</td>\n",
              "      <td>...</td>\n",
              "      <td>...</td>\n",
              "      <td>...</td>\n",
              "      <td>...</td>\n",
              "      <td>...</td>\n",
              "      <td>...</td>\n",
              "      <td>...</td>\n",
              "      <td>...</td>\n",
              "      <td>...</td>\n",
              "    </tr>\n",
              "    <tr>\n",
              "      <th>2022-06-19</th>\n",
              "      <td>0.006439</td>\n",
              "      <td>0.005534</td>\n",
              "      <td>0</td>\n",
              "      <td>3.340</td>\n",
              "      <td>3.239</td>\n",
              "      <td>3.294</td>\n",
              "      <td>0.006392</td>\n",
              "      <td>FTC-USD</td>\n",
              "      <td>Feathercoin</td>\n",
              "      <td>feathercoin</td>\n",
              "      <td>0.0</td>\n",
              "    </tr>\n",
              "    <tr>\n",
              "      <th>2022-06-20</th>\n",
              "      <td>0.006488</td>\n",
              "      <td>0.006123</td>\n",
              "      <td>0</td>\n",
              "      <td>3.340</td>\n",
              "      <td>3.239</td>\n",
              "      <td>3.294</td>\n",
              "      <td>0.006428</td>\n",
              "      <td>FTC-USD</td>\n",
              "      <td>Feathercoin</td>\n",
              "      <td>feathercoin</td>\n",
              "      <td>0.0</td>\n",
              "    </tr>\n",
              "    <tr>\n",
              "      <th>2022-06-21</th>\n",
              "      <td>0.007936</td>\n",
              "      <td>0.006325</td>\n",
              "      <td>0</td>\n",
              "      <td>3.379</td>\n",
              "      <td>3.307</td>\n",
              "      <td>3.390</td>\n",
              "      <td>0.006420</td>\n",
              "      <td>FTC-USD</td>\n",
              "      <td>Feathercoin</td>\n",
              "      <td>feathercoin</td>\n",
              "      <td>0.0</td>\n",
              "    </tr>\n",
              "    <tr>\n",
              "      <th>2022-06-22</th>\n",
              "      <td>0.006710</td>\n",
              "      <td>0.006167</td>\n",
              "      <td>0</td>\n",
              "      <td>3.227</td>\n",
              "      <td>3.156</td>\n",
              "      <td>3.243</td>\n",
              "      <td>0.006196</td>\n",
              "      <td>FTC-USD</td>\n",
              "      <td>Feathercoin</td>\n",
              "      <td>feathercoin</td>\n",
              "      <td>0.0</td>\n",
              "    </tr>\n",
              "    <tr>\n",
              "      <th>2022-06-23</th>\n",
              "      <td>0.009128</td>\n",
              "      <td>0.006185</td>\n",
              "      <td>0</td>\n",
              "      <td>3.133</td>\n",
              "      <td>3.068</td>\n",
              "      <td>3.179</td>\n",
              "      <td>0.006776</td>\n",
              "      <td>FTC-USD</td>\n",
              "      <td>Feathercoin</td>\n",
              "      <td>feathercoin</td>\n",
              "      <td>0.0</td>\n",
              "    </tr>\n",
              "  </tbody>\n",
              "</table>\n",
              "<p>14225 rows × 11 columns</p>\n",
              "</div>"
            ],
            "text/plain": [
              "                  High         Low    Volume    FVX    TNX    TYX       Close  \\\n",
              "Date                                                                            \n",
              "2014-09-17  468.174011  452.421997  21056800  1.804  2.600  3.364  457.334015   \n",
              "2014-09-18  456.859985  413.104004  34483200  1.841  2.629  3.359  424.440002   \n",
              "2014-09-19  427.834991  384.532013  37919700  1.819  2.587  3.299  394.795990   \n",
              "2014-09-20  423.295990  389.882996  36863600  1.819  2.587  3.299  408.903992   \n",
              "2014-09-21  412.425995  393.181000  26580100  1.819  2.587  3.299  398.821014   \n",
              "...                ...         ...       ...    ...    ...    ...         ...   \n",
              "2022-06-19    0.006439    0.005534         0  3.340  3.239  3.294    0.006392   \n",
              "2022-06-20    0.006488    0.006123         0  3.340  3.239  3.294    0.006428   \n",
              "2022-06-21    0.007936    0.006325         0  3.379  3.307  3.390    0.006420   \n",
              "2022-06-22    0.006710    0.006167         0  3.227  3.156  3.243    0.006196   \n",
              "2022-06-23    0.009128    0.006185         0  3.133  3.068  3.179    0.006776   \n",
              "\n",
              "             Ticker         Name         Slug  Gtrend  \n",
              "Date                                                   \n",
              "2014-09-17  BTC-USD      Bitcoin      bitcoin    47.0  \n",
              "2014-09-18  BTC-USD      Bitcoin      bitcoin    46.0  \n",
              "2014-09-19  BTC-USD      Bitcoin      bitcoin    53.0  \n",
              "2014-09-20  BTC-USD      Bitcoin      bitcoin    46.0  \n",
              "2014-09-21  BTC-USD      Bitcoin      bitcoin    48.0  \n",
              "...             ...          ...          ...     ...  \n",
              "2022-06-19  FTC-USD  Feathercoin  feathercoin     0.0  \n",
              "2022-06-20  FTC-USD  Feathercoin  feathercoin     0.0  \n",
              "2022-06-21  FTC-USD  Feathercoin  feathercoin     0.0  \n",
              "2022-06-22  FTC-USD  Feathercoin  feathercoin     0.0  \n",
              "2022-06-23  FTC-USD  Feathercoin  feathercoin     0.0  \n",
              "\n",
              "[14225 rows x 11 columns]"
            ]
          },
          "execution_count": 26,
          "metadata": {},
          "output_type": "execute_result"
        }
      ],
      "source": [
        "data = pd.read_csv('hist_data_all.csv', parse_dates=['Date'], index_col='Date')\n",
        "data"
      ]
    },
    {
      "cell_type": "code",
      "execution_count": 27,
      "metadata": {
        "colab": {
          "base_uri": "https://localhost:8080/",
          "height": 0
        },
        "id": "HeUPQQF6R3_J",
        "outputId": "f87a7125-9a96-46eb-8bde-6e14e92379a7"
      },
      "outputs": [
        {
          "data": {
            "text/html": [
              "<div>\n",
              "<style scoped>\n",
              "    .dataframe tbody tr th:only-of-type {\n",
              "        vertical-align: middle;\n",
              "    }\n",
              "\n",
              "    .dataframe tbody tr th {\n",
              "        vertical-align: top;\n",
              "    }\n",
              "\n",
              "    .dataframe thead th {\n",
              "        text-align: right;\n",
              "    }\n",
              "</style>\n",
              "<table border=\"1\" class=\"dataframe\">\n",
              "  <thead>\n",
              "    <tr style=\"text-align: right;\">\n",
              "      <th></th>\n",
              "      <th>High</th>\n",
              "      <th>Low</th>\n",
              "      <th>Volume</th>\n",
              "      <th>FVX</th>\n",
              "      <th>TNX</th>\n",
              "      <th>TYX</th>\n",
              "      <th>Gtrend</th>\n",
              "      <th>Close</th>\n",
              "    </tr>\n",
              "  </thead>\n",
              "  <tbody>\n",
              "    <tr>\n",
              "      <th>High</th>\n",
              "      <td>1.000000</td>\n",
              "      <td>0.995398</td>\n",
              "      <td>0.549324</td>\n",
              "      <td>-0.029777</td>\n",
              "      <td>-0.079143</td>\n",
              "      <td>-0.229124</td>\n",
              "      <td>0.105532</td>\n",
              "      <td>0.997945</td>\n",
              "    </tr>\n",
              "    <tr>\n",
              "      <th>Low</th>\n",
              "      <td>0.995398</td>\n",
              "      <td>1.000000</td>\n",
              "      <td>0.531960</td>\n",
              "      <td>-0.026606</td>\n",
              "      <td>-0.080986</td>\n",
              "      <td>-0.236605</td>\n",
              "      <td>0.094159</td>\n",
              "      <td>0.997499</td>\n",
              "    </tr>\n",
              "    <tr>\n",
              "      <th>Volume</th>\n",
              "      <td>0.549324</td>\n",
              "      <td>0.531960</td>\n",
              "      <td>1.000000</td>\n",
              "      <td>-0.446194</td>\n",
              "      <td>-0.492117</td>\n",
              "      <td>-0.544885</td>\n",
              "      <td>0.231137</td>\n",
              "      <td>0.543421</td>\n",
              "    </tr>\n",
              "    <tr>\n",
              "      <th>FVX</th>\n",
              "      <td>-0.029777</td>\n",
              "      <td>-0.026606</td>\n",
              "      <td>-0.446194</td>\n",
              "      <td>1.000000</td>\n",
              "      <td>0.963210</td>\n",
              "      <td>0.845929</td>\n",
              "      <td>0.074189</td>\n",
              "      <td>-0.029358</td>\n",
              "    </tr>\n",
              "    <tr>\n",
              "      <th>TNX</th>\n",
              "      <td>-0.079143</td>\n",
              "      <td>-0.080986</td>\n",
              "      <td>-0.492117</td>\n",
              "      <td>0.963210</td>\n",
              "      <td>1.000000</td>\n",
              "      <td>0.951630</td>\n",
              "      <td>0.071340</td>\n",
              "      <td>-0.080769</td>\n",
              "    </tr>\n",
              "    <tr>\n",
              "      <th>TYX</th>\n",
              "      <td>-0.229124</td>\n",
              "      <td>-0.236605</td>\n",
              "      <td>-0.544885</td>\n",
              "      <td>0.845929</td>\n",
              "      <td>0.951630</td>\n",
              "      <td>1.000000</td>\n",
              "      <td>0.028029</td>\n",
              "      <td>-0.232945</td>\n",
              "    </tr>\n",
              "    <tr>\n",
              "      <th>Gtrend</th>\n",
              "      <td>0.105532</td>\n",
              "      <td>0.094159</td>\n",
              "      <td>0.231137</td>\n",
              "      <td>0.074189</td>\n",
              "      <td>0.071340</td>\n",
              "      <td>0.028029</td>\n",
              "      <td>1.000000</td>\n",
              "      <td>0.101093</td>\n",
              "    </tr>\n",
              "    <tr>\n",
              "      <th>Close</th>\n",
              "      <td>0.997945</td>\n",
              "      <td>0.997499</td>\n",
              "      <td>0.543421</td>\n",
              "      <td>-0.029358</td>\n",
              "      <td>-0.080769</td>\n",
              "      <td>-0.232945</td>\n",
              "      <td>0.101093</td>\n",
              "      <td>1.000000</td>\n",
              "    </tr>\n",
              "  </tbody>\n",
              "</table>\n",
              "</div>"
            ],
            "text/plain": [
              "            High       Low    Volume       FVX       TNX       TYX    Gtrend  \\\n",
              "High    1.000000  0.995398  0.549324 -0.029777 -0.079143 -0.229124  0.105532   \n",
              "Low     0.995398  1.000000  0.531960 -0.026606 -0.080986 -0.236605  0.094159   \n",
              "Volume  0.549324  0.531960  1.000000 -0.446194 -0.492117 -0.544885  0.231137   \n",
              "FVX    -0.029777 -0.026606 -0.446194  1.000000  0.963210  0.845929  0.074189   \n",
              "TNX    -0.079143 -0.080986 -0.492117  0.963210  1.000000  0.951630  0.071340   \n",
              "TYX    -0.229124 -0.236605 -0.544885  0.845929  0.951630  1.000000  0.028029   \n",
              "Gtrend  0.105532  0.094159  0.231137  0.074189  0.071340  0.028029  1.000000   \n",
              "Close   0.997945  0.997499  0.543421 -0.029358 -0.080769 -0.232945  0.101093   \n",
              "\n",
              "           Close  \n",
              "High    0.997945  \n",
              "Low     0.997499  \n",
              "Volume  0.543421  \n",
              "FVX    -0.029358  \n",
              "TNX    -0.080769  \n",
              "TYX    -0.232945  \n",
              "Gtrend  0.101093  \n",
              "Close   1.000000  "
            ]
          },
          "execution_count": 27,
          "metadata": {},
          "output_type": "execute_result"
        }
      ],
      "source": [
        "# Build the dataset of pre-selected coins\n",
        "dsets = {}\n",
        "for t in list(data.Ticker.unique()):\n",
        "  df = data.query('Ticker==@t')\n",
        "  dsets[t] = df[['High', 'Low', 'Volume', 'FVX', 'TNX', 'TYX', 'Gtrend', 'Close']]\n",
        "\n",
        "# An example of feature correlation\n",
        "dsets['LTC-USD'].corr()"
      ]
    },
    {
      "cell_type": "code",
      "execution_count": 28,
      "metadata": {
        "id": "W8lFgaAzR3_K"
      },
      "outputs": [],
      "source": [
        "# Use our simple rule to discard redundant features\n",
        "select_features(dsets)"
      ]
    },
    {
      "cell_type": "code",
      "execution_count": 29,
      "metadata": {
        "colab": {
          "base_uri": "https://localhost:8080/",
          "height": 0
        },
        "id": "D93wS-ObcWjr",
        "outputId": "0df510d7-187f-40a4-a449-30f58314c502"
      },
      "outputs": [
        {
          "data": {
            "text/html": [
              "<div>\n",
              "<style scoped>\n",
              "    .dataframe tbody tr th:only-of-type {\n",
              "        vertical-align: middle;\n",
              "    }\n",
              "\n",
              "    .dataframe tbody tr th {\n",
              "        vertical-align: top;\n",
              "    }\n",
              "\n",
              "    .dataframe thead th {\n",
              "        text-align: right;\n",
              "    }\n",
              "</style>\n",
              "<table border=\"1\" class=\"dataframe\">\n",
              "  <thead>\n",
              "    <tr style=\"text-align: right;\">\n",
              "      <th></th>\n",
              "      <th>TYX</th>\n",
              "      <th>Volume</th>\n",
              "      <th>Gtrend</th>\n",
              "      <th>Close</th>\n",
              "    </tr>\n",
              "    <tr>\n",
              "      <th>Date</th>\n",
              "      <th></th>\n",
              "      <th></th>\n",
              "      <th></th>\n",
              "      <th></th>\n",
              "    </tr>\n",
              "  </thead>\n",
              "  <tbody>\n",
              "    <tr>\n",
              "      <th>2014-09-17</th>\n",
              "      <td>3.364</td>\n",
              "      <td>3071840</td>\n",
              "      <td>71.0</td>\n",
              "      <td>5.058550</td>\n",
              "    </tr>\n",
              "    <tr>\n",
              "      <th>2014-09-18</th>\n",
              "      <td>3.359</td>\n",
              "      <td>4569260</td>\n",
              "      <td>87.0</td>\n",
              "      <td>4.685230</td>\n",
              "    </tr>\n",
              "    <tr>\n",
              "      <th>2014-09-19</th>\n",
              "      <td>3.299</td>\n",
              "      <td>3917450</td>\n",
              "      <td>57.0</td>\n",
              "      <td>4.327770</td>\n",
              "    </tr>\n",
              "    <tr>\n",
              "      <th>2014-09-20</th>\n",
              "      <td>3.299</td>\n",
              "      <td>5490660</td>\n",
              "      <td>60.0</td>\n",
              "      <td>4.286440</td>\n",
              "    </tr>\n",
              "    <tr>\n",
              "      <th>2014-09-21</th>\n",
              "      <td>3.299</td>\n",
              "      <td>2931220</td>\n",
              "      <td>73.0</td>\n",
              "      <td>4.245920</td>\n",
              "    </tr>\n",
              "    <tr>\n",
              "      <th>...</th>\n",
              "      <td>...</td>\n",
              "      <td>...</td>\n",
              "      <td>...</td>\n",
              "      <td>...</td>\n",
              "    </tr>\n",
              "    <tr>\n",
              "      <th>2022-06-19</th>\n",
              "      <td>3.294</td>\n",
              "      <td>1408560758</td>\n",
              "      <td>96.0</td>\n",
              "      <td>54.323166</td>\n",
              "    </tr>\n",
              "    <tr>\n",
              "      <th>2022-06-20</th>\n",
              "      <td>3.294</td>\n",
              "      <td>867331545</td>\n",
              "      <td>73.0</td>\n",
              "      <td>52.905594</td>\n",
              "    </tr>\n",
              "    <tr>\n",
              "      <th>2022-06-21</th>\n",
              "      <td>3.390</td>\n",
              "      <td>683095131</td>\n",
              "      <td>80.0</td>\n",
              "      <td>53.507679</td>\n",
              "    </tr>\n",
              "    <tr>\n",
              "      <th>2022-06-22</th>\n",
              "      <td>3.243</td>\n",
              "      <td>571710882</td>\n",
              "      <td>66.0</td>\n",
              "      <td>52.105392</td>\n",
              "    </tr>\n",
              "    <tr>\n",
              "      <th>2022-06-23</th>\n",
              "      <td>3.179</td>\n",
              "      <td>675234042</td>\n",
              "      <td>67.0</td>\n",
              "      <td>55.762833</td>\n",
              "    </tr>\n",
              "  </tbody>\n",
              "</table>\n",
              "<p>2845 rows × 4 columns</p>\n",
              "</div>"
            ],
            "text/plain": [
              "              TYX      Volume  Gtrend      Close\n",
              "Date                                            \n",
              "2014-09-17  3.364     3071840    71.0   5.058550\n",
              "2014-09-18  3.359     4569260    87.0   4.685230\n",
              "2014-09-19  3.299     3917450    57.0   4.327770\n",
              "2014-09-20  3.299     5490660    60.0   4.286440\n",
              "2014-09-21  3.299     2931220    73.0   4.245920\n",
              "...           ...         ...     ...        ...\n",
              "2022-06-19  3.294  1408560758    96.0  54.323166\n",
              "2022-06-20  3.294   867331545    73.0  52.905594\n",
              "2022-06-21  3.390   683095131    80.0  53.507679\n",
              "2022-06-22  3.243   571710882    66.0  52.105392\n",
              "2022-06-23  3.179   675234042    67.0  55.762833\n",
              "\n",
              "[2845 rows x 4 columns]"
            ]
          },
          "execution_count": 29,
          "metadata": {},
          "output_type": "execute_result"
        }
      ],
      "source": [
        "dsets['LTC-USD']"
      ]
    },
    {
      "cell_type": "markdown",
      "metadata": {
        "id": "5-QItKUbcrbc"
      },
      "source": [
        "### SET CURRENT COIN HERE"
      ]
    },
    {
      "cell_type": "code",
      "execution_count": 30,
      "metadata": {
        "id": "G2Wu8bfacq37"
      },
      "outputs": [],
      "source": [
        "cc = 'BTC-USD'"
      ]
    },
    {
      "cell_type": "markdown",
      "metadata": {
        "id": "5xEdfZ2DR3_K"
      },
      "source": [
        "## Data Structure"
      ]
    },
    {
      "cell_type": "code",
      "execution_count": 31,
      "metadata": {
        "colab": {
          "base_uri": "https://localhost:8080/"
        },
        "id": "4wMYB7cUR3_L",
        "outputId": "3b5920db-0529-4295-c29d-048f728a77a4"
      },
      "outputs": [
        {
          "name": "stdout",
          "output_type": "stream",
          "text": [
            "(2420, 60, 4) (2420,) (365, 60, 4) (365,)\n"
          ]
        }
      ],
      "source": [
        "# Prepare the data as 3D np.arrays to pass to LSTM nn\n",
        "timesteps = 60  # How many lags of features to consider\n",
        "prep_dsets = {\n",
        "    coin: prep_data(df, timesteps) for coin, df in dsets.items()\n",
        "}\n",
        "X_train, y_train, X_test, y_test, scaler, test_dates = prep_dsets[cc]\n",
        "print(X_train.shape, y_train.shape, X_test.shape, y_test.shape)"
      ]
    },
    {
      "cell_type": "markdown",
      "metadata": {
        "id": "MguZ9VKnR3_L"
      },
      "source": [
        "# Models"
      ]
    },
    {
      "cell_type": "markdown",
      "metadata": {
        "id": "kM9Ne2C3R3_L"
      },
      "source": [
        "### LSTM"
      ]
    },
    {
      "cell_type": "code",
      "execution_count": null,
      "metadata": {
        "colab": {
          "base_uri": "https://localhost:8080/",
          "height": 771
        },
        "id": "1nxVVQpSR3_M",
        "outputId": "9cb82cd9-ccf3-40d0-ac7b-95c1e8cea3ea"
      },
      "outputs": [
        {
          "name": "stdout",
          "output_type": "stream",
          "text": [
            "WARNING:tensorflow:Layer lstm_6 will not use cuDNN kernels since it doesn't meet the criteria. It will use a generic GPU kernel as fallback when running on GPU.\n",
            "WARNING:tensorflow:Layer lstm_7 will not use cuDNN kernels since it doesn't meet the criteria. It will use a generic GPU kernel as fallback when running on GPU.\n",
            "Epoch 1/20\n",
            "2420/2420 - 228s - loss: 0.0032 - mse: 0.0032 - val_loss: 0.0049 - val_mse: 0.0049 - 228s/epoch - 94ms/step\n",
            "Epoch 2/20\n",
            "2420/2420 - 221s - loss: 0.0011 - mse: 0.0011 - val_loss: 0.0071 - val_mse: 0.0071 - 221s/epoch - 91ms/step\n",
            "Epoch 3/20\n",
            "2420/2420 - 221s - loss: 8.3189e-04 - mse: 8.3189e-04 - val_loss: 0.0030 - val_mse: 0.0030 - 221s/epoch - 91ms/step\n",
            "Epoch 4/20\n",
            "2420/2420 - 225s - loss: 7.6553e-04 - mse: 7.6553e-04 - val_loss: 0.0021 - val_mse: 0.0021 - 225s/epoch - 93ms/step\n",
            "Epoch 5/20\n",
            "2420/2420 - 223s - loss: 5.2762e-04 - mse: 5.2762e-04 - val_loss: 0.0020 - val_mse: 0.0020 - 223s/epoch - 92ms/step\n",
            "Epoch 6/20\n",
            "2420/2420 - 223s - loss: 4.0877e-04 - mse: 4.0877e-04 - val_loss: 0.0014 - val_mse: 0.0014 - 223s/epoch - 92ms/step\n",
            "Epoch 7/20\n",
            "2420/2420 - 222s - loss: 4.5098e-04 - mse: 4.5098e-04 - val_loss: 0.0014 - val_mse: 0.0014 - 222s/epoch - 92ms/step\n",
            "Epoch 8/20\n",
            "2420/2420 - 230s - loss: 3.3136e-04 - mse: 3.3136e-04 - val_loss: 8.7225e-04 - val_mse: 8.7225e-04 - 230s/epoch - 95ms/step\n",
            "Epoch 9/20\n",
            "2420/2420 - 223s - loss: 3.4869e-04 - mse: 3.4869e-04 - val_loss: 0.0014 - val_mse: 0.0014 - 223s/epoch - 92ms/step\n",
            "Epoch 10/20\n",
            "2420/2420 - 224s - loss: 2.7930e-04 - mse: 2.7930e-04 - val_loss: 0.0018 - val_mse: 0.0018 - 224s/epoch - 93ms/step\n",
            "Epoch 11/20\n",
            "2420/2420 - 224s - loss: 2.8169e-04 - mse: 2.8169e-04 - val_loss: 0.0018 - val_mse: 0.0018 - 224s/epoch - 92ms/step\n",
            "Epoch 12/20\n",
            "2420/2420 - 221s - loss: 3.2061e-04 - mse: 3.2061e-04 - val_loss: 0.0034 - val_mse: 0.0034 - 221s/epoch - 91ms/step\n",
            "Epoch 13/20\n",
            "2420/2420 - 223s - loss: 3.0244e-04 - mse: 3.0244e-04 - val_loss: 0.0017 - val_mse: 0.0017 - 223s/epoch - 92ms/step\n"
          ]
        },
        {
          "data": {
            "image/png": "[encoded data removed]",
            "text/plain": [
              "<Figure size 432x288 with 1 Axes>"
            ]
          },
          "metadata": {
            "needs_background": "light"
          },
          "output_type": "display_data"
        }
      ],
      "source": [
        "lstm_model = train_model(\n",
        "    prep_dsets=prep_dsets, \n",
        "    coin_name=cc, \n",
        "    model_builder=build_LSTM,\n",
        "    model_kwargs=dict(\n",
        "        num_rnns=2,\n",
        "        dim_rnn=50, \n",
        "        dense_units=100, \n",
        "        drop=False, \n",
        "        drop_rate=0.5,\n",
        "    ),\n",
        "    batch_size=1,\n",
        "    n_epochs=20,\n",
        "    early_stop=True,\n",
        "    patience=5\n",
        ")"
      ]
    },
    {
      "cell_type": "code",
      "execution_count": 40,
      "metadata": {
        "colab": {
          "base_uri": "https://localhost:8080/",
          "height": 542
        },
        "id": "3iIaAblxR3_N",
        "outputId": "73b36941-4d04-4abf-ddbc-b41508571e88"
      },
      "outputs": [
        {
          "name": "stdout",
          "output_type": "stream",
          "text": [
            "12/12 [==============================] - 0s 15ms/step\n"
          ]
        },
        {
          "data": {
            "application/vnd.plotly.v1+json": {
              "config": {
                "plotlyServerURL": "https://plot.ly"
              },
              "data": [
                {
                  "hovertemplate": "%{y:$,.2f}",
                  "legendgroup": "Observed",
                  "line": {
                    "color": "#636efa",
                    "dash": "solid"
                  },
                  "marker": {
                    "symbol": "circle"
                  },
                  "mode": "lines",
                  "name": "Observed",
                  "orientation": "v",
                  "showlegend": true,
                  "type": "scatter",
                  "x": [
                    "2021-06-25T00:00:00",
                    "2021-06-26T00:00:00",
                    "2021-06-27T00:00:00",
                    "2021-06-28T00:00:00",
                    "2021-06-29T00:00:00",
                    "2021-06-30T00:00:00",
                    "2021-07-01T00:00:00",
                    "2021-07-02T00:00:00",
                    "2021-07-03T00:00:00",
                    "2021-07-04T00:00:00",
                    "2021-07-05T00:00:00",
                    "2021-07-06T00:00:00",
                    "2021-07-07T00:00:00",
                    "2021-07-08T00:00:00",
                    "2021-07-09T00:00:00",
                    "2021-07-10T00:00:00",
                    "2021-07-11T00:00:00",
                    "2021-07-12T00:00:00",
                    "2021-07-13T00:00:00",
                    "2021-07-14T00:00:00",
                    "2021-07-15T00:00:00",
                    "2021-07-16T00:00:00",
                    "2021-07-17T00:00:00",
                    "2021-07-18T00:00:00",
                    "2021-07-19T00:00:00",
                    "2021-07-20T00:00:00",
                    "2021-07-21T00:00:00",
                    "2021-07-22T00:00:00",
                    "2021-07-23T00:00:00",
                    "2021-07-24T00:00:00",
                    "2021-07-25T00:00:00",
                    "2021-07-26T00:00:00",
                    "2021-07-27T00:00:00",
                    "2021-07-28T00:00:00",
                    "2021-07-29T00:00:00",
                    "2021-07-30T00:00:00",
                    "2021-07-31T00:00:00",
                    "2021-08-01T00:00:00",
                    "2021-08-02T00:00:00",
                    "2021-08-03T00:00:00",
                    "2021-08-04T00:00:00",
                    "2021-08-05T00:00:00",
                    "2021-08-06T00:00:00",
                    "2021-08-07T00:00:00",
                    "2021-08-08T00:00:00",
                    "2021-08-09T00:00:00",
                    "2021-08-10T00:00:00",
                    "2021-08-11T00:00:00",
                    "2021-08-12T00:00:00",
                    "2021-08-13T00:00:00",
                    "2021-08-14T00:00:00",
                    "2021-08-15T00:00:00",
                    "2021-08-16T00:00:00",
                    "2021-08-17T00:00:00",
                    "2021-08-18T00:00:00",
                    "2021-08-19T00:00:00",
                    "2021-08-20T00:00:00",
                    "2021-08-21T00:00:00",
                    "2021-08-22T00:00:00",
                    "2021-08-23T00:00:00",
                    "2021-08-24T00:00:00",
                    "2021-08-25T00:00:00",
                    "2021-08-26T00:00:00",
                    "2021-08-27T00:00:00",
                    "2021-08-28T00:00:00",
                    "2021-08-29T00:00:00",
                    "2021-08-30T00:00:00",
                    "2021-08-31T00:00:00",
                    "2021-09-01T00:00:00",
                    "2021-09-02T00:00:00",
                    "2021-09-03T00:00:00",
                    "2021-09-04T00:00:00",
                    "2021-09-05T00:00:00",
                    "2021-09-06T00:00:00",
                    "2021-09-07T00:00:00",
                    "2021-09-08T00:00:00",
                    "2021-09-09T00:00:00",
                    "2021-09-10T00:00:00",
                    "2021-09-11T00:00:00",
                    "2021-09-12T00:00:00",
                    "2021-09-13T00:00:00",
                    "2021-09-14T00:00:00",
                    "2021-09-15T00:00:00",
                    "2021-09-16T00:00:00",
                    "2021-09-17T00:00:00",
                    "2021-09-18T00:00:00",
                    "2021-09-19T00:00:00",
                    "2021-09-20T00:00:00",
                    "2021-09-21T00:00:00",
                    "2021-09-22T00:00:00",
                    "2021-09-23T00:00:00",
                    "2021-09-24T00:00:00",
                    "2021-09-25T00:00:00",
                    "2021-09-26T00:00:00",
                    "2021-09-27T00:00:00",
                    "2021-09-28T00:00:00",
                    "2021-09-29T00:00:00",
                    "2021-09-30T00:00:00",
                    "2021-10-01T00:00:00",
                    "2021-10-02T00:00:00",
                    "2021-10-03T00:00:00",
                    "2021-10-04T00:00:00",
                    "2021-10-05T00:00:00",
                    "2021-10-06T00:00:00",
                    "2021-10-07T00:00:00",
                    "2021-10-08T00:00:00",
                    "2021-10-09T00:00:00",
                    "2021-10-10T00:00:00",
                    "2021-10-11T00:00:00",
                    "2021-10-12T00:00:00",
                    "2021-10-13T00:00:00",
                    "2021-10-14T00:00:00",
                    "2021-10-15T00:00:00",
                    "2021-10-16T00:00:00",
                    "2021-10-17T00:00:00",
                    "2021-10-18T00:00:00",
                    "2021-10-19T00:00:00",
                    "2021-10-20T00:00:00",
                    "2021-10-21T00:00:00",
                    "2021-10-22T00:00:00",
                    "2021-10-23T00:00:00",
                    "2021-10-24T00:00:00",
                    "2021-10-25T00:00:00",
                    "2021-10-26T00:00:00",
                    "2021-10-27T00:00:00",
                    "2021-10-28T00:00:00",
                    "2021-10-29T00:00:00",
                    "2021-10-30T00:00:00",
                    "2021-10-31T00:00:00",
                    "2021-11-01T00:00:00",
                    "2021-11-02T00:00:00",
                    "2021-11-03T00:00:00",
                    "2021-11-04T00:00:00",
                    "2021-11-05T00:00:00",
                    "2021-11-06T00:00:00",
                    "2021-11-07T00:00:00",
                    "2021-11-08T00:00:00",
                    "2021-11-09T00:00:00",
                    "2021-11-10T00:00:00",
                    "2021-11-11T00:00:00",
                    "2021-11-12T00:00:00",
                    "2021-11-13T00:00:00",
                    "2021-11-14T00:00:00",
                    "2021-11-15T00:00:00",
                    "2021-11-16T00:00:00",
                    "2021-11-17T00:00:00",
                    "2021-11-18T00:00:00",
                    "2021-11-19T00:00:00",
                    "2021-11-20T00:00:00",
                    "2021-11-21T00:00:00",
                    "2021-11-22T00:00:00",
                    "2021-11-23T00:00:00",
                    "2021-11-24T00:00:00",
                    "2021-11-25T00:00:00",
                    "2021-11-26T00:00:00",
                    "2021-11-27T00:00:00",
                    "2021-11-28T00:00:00",
                    "2021-11-29T00:00:00",
                    "2021-11-30T00:00:00",
                    "2021-12-01T00:00:00",
                    "2021-12-02T00:00:00",
                    "2021-12-03T00:00:00",
                    "2021-12-04T00:00:00",
                    "2021-12-05T00:00:00",
                    "2021-12-06T00:00:00",
                    "2021-12-07T00:00:00",
                    "2021-12-08T00:00:00",
                    "2021-12-09T00:00:00",
                    "2021-12-10T00:00:00",
                    "2021-12-11T00:00:00",
                    "2021-12-12T00:00:00",
                    "2021-12-13T00:00:00",
                    "2021-12-14T00:00:00",
                    "2021-12-15T00:00:00",
                    "2021-12-16T00:00:00",
                    "2021-12-17T00:00:00",
                    "2021-12-18T00:00:00",
                    "2021-12-19T00:00:00",
                    "2021-12-20T00:00:00",
                    "2021-12-21T00:00:00",
                    "2021-12-22T00:00:00",
                    "2021-12-23T00:00:00",
                    "2021-12-24T00:00:00",
                    "2021-12-25T00:00:00",
                    "2021-12-26T00:00:00",
                    "2021-12-27T00:00:00",
                    "2021-12-28T00:00:00",
                    "2021-12-29T00:00:00",
                    "2021-12-30T00:00:00",
                    "2021-12-31T00:00:00",
                    "2022-01-01T00:00:00",
                    "2022-01-02T00:00:00",
                    "2022-01-03T00:00:00",
                    "2022-01-04T00:00:00",
                    "2022-01-05T00:00:00",
                    "2022-01-06T00:00:00",
                    "2022-01-07T00:00:00",
                    "2022-01-08T00:00:00",
                    "2022-01-09T00:00:00",
                    "2022-01-10T00:00:00",
                    "2022-01-11T00:00:00",
                    "2022-01-12T00:00:00",
                    "2022-01-13T00:00:00",
                    "2022-01-14T00:00:00",
                    "2022-01-15T00:00:00",
                    "2022-01-16T00:00:00",
                    "2022-01-17T00:00:00",
                    "2022-01-18T00:00:00",
                    "2022-01-19T00:00:00",
                    "2022-01-20T00:00:00",
                    "2022-01-21T00:00:00",
                    "2022-01-22T00:00:00",
                    "2022-01-23T00:00:00",
                    "2022-01-24T00:00:00",
                    "2022-01-25T00:00:00",
                    "2022-01-26T00:00:00",
                    "2022-01-27T00:00:00",
                    "2022-01-28T00:00:00",
                    "2022-01-29T00:00:00",
                    "2022-01-29T00:00:00",
                    "2022-01-30T00:00:00",
                    "2022-01-31T00:00:00",
                    "2022-02-01T00:00:00",
                    "2022-02-02T00:00:00",
                    "2022-02-03T00:00:00",
                    "2022-02-04T00:00:00",
                    "2022-02-05T00:00:00",
                    "2022-02-06T00:00:00",
                    "2022-02-07T00:00:00",
                    "2022-02-08T00:00:00",
                    "2022-02-09T00:00:00",
                    "2022-02-10T00:00:00",
                    "2022-02-11T00:00:00",
                    "2022-02-12T00:00:00",
                    "2022-02-13T00:00:00",
                    "2022-02-14T00:00:00",
                    "2022-02-15T00:00:00",
                    "2022-02-16T00:00:00",
                    "2022-02-17T00:00:00",
                    "2022-02-18T00:00:00",
                    "2022-02-19T00:00:00",
                    "2022-02-20T00:00:00",
                    "2022-02-21T00:00:00",
                    "2022-02-22T00:00:00",
                    "2022-02-23T00:00:00",
                    "2022-02-24T00:00:00",
                    "2022-02-25T00:00:00",
                    "2022-02-26T00:00:00",
                    "2022-02-27T00:00:00",
                    "2022-02-28T00:00:00",
                    "2022-03-01T00:00:00",
                    "2022-03-02T00:00:00",
                    "2022-03-03T00:00:00",
                    "2022-03-04T00:00:00",
                    "2022-03-05T00:00:00",
                    "2022-03-06T00:00:00",
                    "2022-03-07T00:00:00",
                    "2022-03-08T00:00:00",
                    "2022-03-09T00:00:00",
                    "2022-03-10T00:00:00",
                    "2022-03-11T00:00:00",
                    "2022-03-12T00:00:00",
                    "2022-03-13T00:00:00",
                    "2022-03-14T00:00:00",
                    "2022-03-15T00:00:00",
                    "2022-03-16T00:00:00",
                    "2022-03-17T00:00:00",
                    "2022-03-18T00:00:00",
                    "2022-03-19T00:00:00",
                    "2022-03-20T00:00:00",
                    "2022-03-21T00:00:00",
                    "2022-03-22T00:00:00",
                    "2022-03-23T00:00:00",
                    "2022-03-24T00:00:00",
                    "2022-03-25T00:00:00",
                    "2022-03-26T00:00:00",
                    "2022-03-27T00:00:00",
                    "2022-03-28T00:00:00",
                    "2022-03-29T00:00:00",
                    "2022-03-30T00:00:00",
                    "2022-03-31T00:00:00",
                    "2022-04-01T00:00:00",
                    "2022-04-02T00:00:00",
                    "2022-04-03T00:00:00",
                    "2022-04-04T00:00:00",
                    "2022-04-05T00:00:00",
                    "2022-04-06T00:00:00",
                    "2022-04-07T00:00:00",
                    "2022-04-08T00:00:00",
                    "2022-04-09T00:00:00",
                    "2022-04-10T00:00:00",
                    "2022-04-11T00:00:00",
                    "2022-04-12T00:00:00",
                    "2022-04-13T00:00:00",
                    "2022-04-14T00:00:00",
                    "2022-04-15T00:00:00",
                    "2022-04-16T00:00:00",
                    "2022-04-17T00:00:00",
                    "2022-04-18T00:00:00",
                    "2022-04-19T00:00:00",
                    "2022-04-20T00:00:00",
                    "2022-04-21T00:00:00",
                    "2022-04-22T00:00:00",
                    "2022-04-23T00:00:00",
                    "2022-04-24T00:00:00",
                    "2022-04-25T00:00:00",
                    "2022-04-26T00:00:00",
                    "2022-04-27T00:00:00",
                    "2022-04-28T00:00:00",
                    "2022-04-29T00:00:00",
                    "2022-04-30T00:00:00",
                    "2022-05-01T00:00:00",
                    "2022-05-02T00:00:00",
                    "2022-05-03T00:00:00",
                    "2022-05-04T00:00:00",
                    "2022-05-05T00:00:00",
                    "2022-05-06T00:00:00",
                    "2022-05-07T00:00:00",
                    "2022-05-08T00:00:00",
                    "2022-05-09T00:00:00",
                    "2022-05-10T00:00:00",
                    "2022-05-11T00:00:00",
                    "2022-05-12T00:00:00",
                    "2022-05-13T00:00:00",
                    "2022-05-14T00:00:00",
                    "2022-05-15T00:00:00",
                    "2022-05-16T00:00:00",
                    "2022-05-17T00:00:00",
                    "2022-05-18T00:00:00",
                    "2022-05-19T00:00:00",
                    "2022-05-20T00:00:00",
                    "2022-05-21T00:00:00",
                    "2022-05-22T00:00:00",
                    "2022-05-23T00:00:00",
                    "2022-05-24T00:00:00",
                    "2022-05-25T00:00:00",
                    "2022-05-26T00:00:00",
                    "2022-05-27T00:00:00",
                    "2022-05-28T00:00:00",
                    "2022-05-29T00:00:00",
                    "2022-05-30T00:00:00",
                    "2022-05-31T00:00:00",
                    "2022-06-01T00:00:00",
                    "2022-06-02T00:00:00",
                    "2022-06-03T00:00:00",
                    "2022-06-04T00:00:00",
                    "2022-06-05T00:00:00",
                    "2022-06-06T00:00:00",
                    "2022-06-07T00:00:00",
                    "2022-06-08T00:00:00",
                    "2022-06-09T00:00:00",
                    "2022-06-10T00:00:00",
                    "2022-06-11T00:00:00",
                    "2022-06-12T00:00:00",
                    "2022-06-13T00:00:00",
                    "2022-06-14T00:00:00",
                    "2022-06-15T00:00:00",
                    "2022-06-16T00:00:00",
                    "2022-06-17T00:00:00",
                    "2022-06-18T00:00:00",
                    "2022-06-19T00:00:00",
                    "2022-06-20T00:00:00",
                    "2022-06-21T00:00:00",
                    "2022-06-22T00:00:00",
                    "2022-06-23T00:00:00"
                  ],
                  "xaxis": "x",
                  "y": [
                    31637.779296875,
                    32186.27734375,
                    34649.64453125,
                    34434.3359375,
                    35867.77734375,
                    35040.8359375,
                    33572.1171875,
                    33897.046875,
                    34668.546875,
                    35287.78125,
                    33746.00390625,
                    34235.1953125,
                    33855.328125,
                    32877.37109375,
                    33798.01171875,
                    33520.51953125,
                    34240.1875,
                    33155.84765625,
                    32702.025390625,
                    32822.34765625,
                    31780.73046875,
                    31421.5390625,
                    31533.068359375,
                    31796.810546875,
                    30817.83203125,
                    29807.34765625,
                    32110.693359375,
                    32313.10546875,
                    33581.55078125,
                    34292.4453125,
                    35350.1875,
                    37337.53515625,
                    39406.94140625,
                    39995.90625,
                    40008.421875,
                    42235.546875,
                    41626.1953125,
                    39974.89453125,
                    39201.9453125,
                    38152.98046875,
                    39747.50390625,
                    40869.5546875,
                    42816.5,
                    44555.80078125,
                    43798.1171875,
                    46365.40234375,
                    45585.03125,
                    45593.63671875,
                    44428.2890625,
                    47793.3203125,
                    47096.9453125,
                    47047.00390625,
                    46004.484375,
                    44695.359375,
                    44801.18750000001,
                    46717.578125,
                    49339.17578125,
                    48905.4921875,
                    49321.65234375,
                    49546.1484375,
                    47706.1171875,
                    48960.7890625,
                    46942.21875,
                    49058.66796875,
                    48902.40234375,
                    48829.83203125,
                    47054.984375,
                    47166.6875,
                    48847.02734375,
                    49327.72265625,
                    50025.375,
                    49944.62500000001,
                    51753.41015625,
                    52633.53515625,
                    46811.12890625,
                    46091.390625,
                    46391.421875,
                    44883.91015625,
                    45201.45703125,
                    46063.26953125,
                    44963.07421875,
                    47092.4921875,
                    48176.34765625,
                    47783.359375,
                    47267.51953125,
                    48278.36328125,
                    47260.21875,
                    42843.80078125,
                    40693.67578125,
                    43574.5078125,
                    44895.09765625,
                    42839.75,
                    42716.59375,
                    43208.5390625,
                    42235.73046875,
                    41034.54296874999,
                    41564.36328125,
                    43790.89453125,
                    48116.94140625,
                    47711.48828125,
                    48199.953125,
                    49112.90234375,
                    51514.8125,
                    55361.44921875,
                    53805.984375,
                    53967.84765625,
                    54968.22265625,
                    54771.578125,
                    57484.78906250001,
                    56041.05859375,
                    57401.09765625,
                    57321.5234375,
                    61593.94921875,
                    60892.1796875,
                    61553.6171875,
                    62026.078125,
                    64261.9921875,
                    65992.8359375,
                    62210.171875,
                    60692.265625,
                    61393.6171875,
                    60930.8359375,
                    63039.82421875,
                    60363.79296875,
                    58482.38671875,
                    60622.13671875,
                    62227.96484375,
                    61888.83203125,
                    61318.95703125,
                    61004.40625,
                    63226.40234375,
                    62970.046875,
                    61452.23046875,
                    61125.67578125,
                    61527.48046875,
                    63326.98828125,
                    67566.828125,
                    66971.828125,
                    64995.23046875,
                    64949.9609375,
                    64155.94140625,
                    64469.52734375,
                    65466.83984375,
                    63557.87109375,
                    60161.24609375,
                    60368.01171875,
                    56942.13671875,
                    58119.578125,
                    59697.19531250001,
                    58730.4765625,
                    56289.2890625,
                    57569.07421875,
                    56280.42578125,
                    57274.6796875,
                    53569.765625,
                    54815.078125,
                    57248.45703124999,
                    57806.56640625,
                    57005.42578125,
                    57229.828125,
                    56477.81640625,
                    53598.24609375,
                    49200.703125,
                    49368.84765625,
                    50582.625,
                    50700.0859375,
                    50504.796875,
                    47672.12109375,
                    47243.3046875,
                    49362.5078125,
                    50098.3359375,
                    46737.48046875,
                    46612.6328125,
                    48896.72265625,
                    47665.42578125,
                    46202.14453125,
                    46848.77734375,
                    46707.015625,
                    46880.27734375,
                    48936.61328125,
                    48628.51171875,
                    50784.5390625,
                    50822.1953125,
                    50429.85937500001,
                    50809.515625,
                    50640.41796875,
                    47588.85546875,
                    46444.7109375,
                    47178.125,
                    46306.4453125,
                    47686.8125,
                    47345.21875,
                    46458.1171875,
                    45897.57421875,
                    43569.00390625,
                    43160.9296875,
                    41557.90234375,
                    41733.94140625,
                    41911.6015625,
                    41821.26171875,
                    42735.85546875,
                    43949.1015625,
                    42591.5703125,
                    43099.69921875,
                    43177.3984375,
                    43113.87890625,
                    42250.55078125,
                    42375.6328125,
                    41744.328125,
                    40680.41796875,
                    36457.31640625,
                    35030.25,
                    36276.8046875,
                    36654.328125,
                    36954.00390625,
                    36852.12109375,
                    37138.234375,
                    37784.33203125,
                    38138.1796875,
                    38138.1796875,
                    37917.6015625,
                    38483.125,
                    38743.2734375,
                    36952.984375,
                    37154.6015625,
                    41500.875,
                    41441.1640625,
                    42412.43359375,
                    43840.28515625,
                    44118.4453125,
                    44338.796875,
                    43565.11328125,
                    42407.9375,
                    42244.46875,
                    42197.515625,
                    42586.91796875,
                    44575.203125,
                    43961.859375,
                    40538.01171875,
                    40030.9765625,
                    40122.15625,
                    38431.37890625,
                    37075.28125,
                    38286.02734375,
                    37296.5703125,
                    38332.609375,
                    39214.21875,
                    39105.1484375,
                    37709.78515625,
                    43193.234375,
                    44354.63671875,
                    43924.1171875,
                    42451.7890625,
                    39137.60546875,
                    39400.5859375,
                    38419.984375,
                    38062.0390625,
                    38737.26953125,
                    41982.92578125,
                    39437.4609375,
                    38794.97265625,
                    38904.01171875,
                    37849.6640625,
                    39666.75390625,
                    39338.78515625,
                    41143.9296875,
                    40951.37890625,
                    41801.15625,
                    42190.65234375,
                    41247.82421875,
                    41077.99609375,
                    42358.80859375,
                    42892.95703125,
                    43960.93359375,
                    44348.73046875,
                    44500.828125,
                    46820.4921875,
                    47128.00390625,
                    47465.73046875,
                    47062.6640625,
                    45538.67578125,
                    46281.64453125,
                    45868.94921875,
                    46453.56640625,
                    46622.67578125,
                    45555.9921875,
                    43206.73828125,
                    43503.84765625,
                    42287.6640625,
                    42782.13671875,
                    42207.671875,
                    39521.90234375,
                    40127.18359375,
                    41166.73046875,
                    39935.515625,
                    40553.46484375,
                    40424.484375,
                    39716.953125,
                    40826.21484375,
                    41502.75,
                    41374.37890625,
                    40527.36328125,
                    39740.3203125,
                    39486.73046875,
                    39469.29296875,
                    40458.30859375,
                    38117.4609375,
                    39241.12109375,
                    39773.828125,
                    38609.82421875,
                    37714.875,
                    38469.09375,
                    38529.328125,
                    37750.453125,
                    39698.37109375,
                    36575.140625,
                    36040.921875,
                    35501.953125,
                    34059.265625,
                    30296.953125,
                    31022.90625,
                    28936.35546875,
                    29047.751953125,
                    29283.103515625,
                    30101.265625,
                    31305.11328125,
                    29862.91796875,
                    30425.857421875,
                    28720.271484375,
                    30314.333984375,
                    29200.740234375,
                    29432.2265625,
                    30323.722656250004,
                    29098.91015625,
                    29655.5859375,
                    29562.361328125,
                    29267.224609375,
                    28627.57421875,
                    28814.900390625,
                    29445.95703125,
                    31726.390625,
                    31792.310546875,
                    29799.080078125,
                    30467.48828125,
                    29704.390625,
                    29832.9140625,
                    29906.662109375,
                    31370.671875,
                    31155.478515625,
                    30214.35546875,
                    30111.998046875,
                    29083.8046875,
                    28360.810546875,
                    26762.6484375,
                    22487.388671875,
                    22206.79296875,
                    22572.839843750004,
                    20381.650390625,
                    20471.482421875,
                    19017.642578125,
                    20553.271484375,
                    20599.537109375,
                    20710.59765625,
                    19987.029296875,
                    21085.876953125
                  ],
                  "yaxis": "y"
                },
                {
                  "hovertemplate": "%{y:$,.2f}",
                  "legendgroup": "Predicted",
                  "line": {
                    "color": "#EF553B",
                    "dash": "solid"
                  },
                  "marker": {
                    "symbol": "circle"
                  },
                  "mode": "lines",
                  "name": "Predicted",
                  "orientation": "v",
                  "showlegend": true,
                  "type": "scatter",
                  "x": [
                    "2021-06-25T00:00:00",
                    "2021-06-26T00:00:00",
                    "2021-06-27T00:00:00",
                    "2021-06-28T00:00:00",
                    "2021-06-29T00:00:00",
                    "2021-06-30T00:00:00",
                    "2021-07-01T00:00:00",
                    "2021-07-02T00:00:00",
                    "2021-07-03T00:00:00",
                    "2021-07-04T00:00:00",
                    "2021-07-05T00:00:00",
                    "2021-07-06T00:00:00",
                    "2021-07-07T00:00:00",
                    "2021-07-08T00:00:00",
                    "2021-07-09T00:00:00",
                    "2021-07-10T00:00:00",
                    "2021-07-11T00:00:00",
                    "2021-07-12T00:00:00",
                    "2021-07-13T00:00:00",
                    "2021-07-14T00:00:00",
                    "2021-07-15T00:00:00",
                    "2021-07-16T00:00:00",
                    "2021-07-17T00:00:00",
                    "2021-07-18T00:00:00",
                    "2021-07-19T00:00:00",
                    "2021-07-20T00:00:00",
                    "2021-07-21T00:00:00",
                    "2021-07-22T00:00:00",
                    "2021-07-23T00:00:00",
                    "2021-07-24T00:00:00",
                    "2021-07-25T00:00:00",
                    "2021-07-26T00:00:00",
                    "2021-07-27T00:00:00",
                    "2021-07-28T00:00:00",
                    "2021-07-29T00:00:00",
                    "2021-07-30T00:00:00",
                    "2021-07-31T00:00:00",
                    "2021-08-01T00:00:00",
                    "2021-08-02T00:00:00",
                    "2021-08-03T00:00:00",
                    "2021-08-04T00:00:00",
                    "2021-08-05T00:00:00",
                    "2021-08-06T00:00:00",
                    "2021-08-07T00:00:00",
                    "2021-08-08T00:00:00",
                    "2021-08-09T00:00:00",
                    "2021-08-10T00:00:00",
                    "2021-08-11T00:00:00",
                    "2021-08-12T00:00:00",
                    "2021-08-13T00:00:00",
                    "2021-08-14T00:00:00",
                    "2021-08-15T00:00:00",
                    "2021-08-16T00:00:00",
                    "2021-08-17T00:00:00",
                    "2021-08-18T00:00:00",
                    "2021-08-19T00:00:00",
                    "2021-08-20T00:00:00",
                    "2021-08-21T00:00:00",
                    "2021-08-22T00:00:00",
                    "2021-08-23T00:00:00",
                    "2021-08-24T00:00:00",
                    "2021-08-25T00:00:00",
                    "2021-08-26T00:00:00",
                    "2021-08-27T00:00:00",
                    "2021-08-28T00:00:00",
                    "2021-08-29T00:00:00",
                    "2021-08-30T00:00:00",
                    "2021-08-31T00:00:00",
                    "2021-09-01T00:00:00",
                    "2021-09-02T00:00:00",
                    "2021-09-03T00:00:00",
                    "2021-09-04T00:00:00",
                    "2021-09-05T00:00:00",
                    "2021-09-06T00:00:00",
                    "2021-09-07T00:00:00",
                    "2021-09-08T00:00:00",
                    "2021-09-09T00:00:00",
                    "2021-09-10T00:00:00",
                    "2021-09-11T00:00:00",
                    "2021-09-12T00:00:00",
                    "2021-09-13T00:00:00",
                    "2021-09-14T00:00:00",
                    "2021-09-15T00:00:00",
                    "2021-09-16T00:00:00",
                    "2021-09-17T00:00:00",
                    "2021-09-18T00:00:00",
                    "2021-09-19T00:00:00",
                    "2021-09-20T00:00:00",
                    "2021-09-21T00:00:00",
                    "2021-09-22T00:00:00",
                    "2021-09-23T00:00:00",
                    "2021-09-24T00:00:00",
                    "2021-09-25T00:00:00",
                    "2021-09-26T00:00:00",
                    "2021-09-27T00:00:00",
                    "2021-09-28T00:00:00",
                    "2021-09-29T00:00:00",
                    "2021-09-30T00:00:00",
                    "2021-10-01T00:00:00",
                    "2021-10-02T00:00:00",
                    "2021-10-03T00:00:00",
                    "2021-10-04T00:00:00",
                    "2021-10-05T00:00:00",
                    "2021-10-06T00:00:00",
                    "2021-10-07T00:00:00",
                    "2021-10-08T00:00:00",
                    "2021-10-09T00:00:00",
                    "2021-10-10T00:00:00",
                    "2021-10-11T00:00:00",
                    "2021-10-12T00:00:00",
                    "2021-10-13T00:00:00",
                    "2021-10-14T00:00:00",
                    "2021-10-15T00:00:00",
                    "2021-10-16T00:00:00",
                    "2021-10-17T00:00:00",
                    "2021-10-18T00:00:00",
                    "2021-10-19T00:00:00",
                    "2021-10-20T00:00:00",
                    "2021-10-21T00:00:00",
                    "2021-10-22T00:00:00",
                    "2021-10-23T00:00:00",
                    "2021-10-24T00:00:00",
                    "2021-10-25T00:00:00",
                    "2021-10-26T00:00:00",
                    "2021-10-27T00:00:00",
                    "2021-10-28T00:00:00",
                    "2021-10-29T00:00:00",
                    "2021-10-30T00:00:00",
                    "2021-10-31T00:00:00",
                    "2021-11-01T00:00:00",
                    "2021-11-02T00:00:00",
                    "2021-11-03T00:00:00",
                    "2021-11-04T00:00:00",
                    "2021-11-05T00:00:00",
                    "2021-11-06T00:00:00",
                    "2021-11-07T00:00:00",
                    "2021-11-08T00:00:00",
                    "2021-11-09T00:00:00",
                    "2021-11-10T00:00:00",
                    "2021-11-11T00:00:00",
                    "2021-11-12T00:00:00",
                    "2021-11-13T00:00:00",
                    "2021-11-14T00:00:00",
                    "2021-11-15T00:00:00",
                    "2021-11-16T00:00:00",
                    "2021-11-17T00:00:00",
                    "2021-11-18T00:00:00",
                    "2021-11-19T00:00:00",
                    "2021-11-20T00:00:00",
                    "2021-11-21T00:00:00",
                    "2021-11-22T00:00:00",
                    "2021-11-23T00:00:00",
                    "2021-11-24T00:00:00",
                    "2021-11-25T00:00:00",
                    "2021-11-26T00:00:00",
                    "2021-11-27T00:00:00",
                    "2021-11-28T00:00:00",
                    "2021-11-29T00:00:00",
                    "2021-11-30T00:00:00",
                    "2021-12-01T00:00:00",
                    "2021-12-02T00:00:00",
                    "2021-12-03T00:00:00",
                    "2021-12-04T00:00:00",
                    "2021-12-05T00:00:00",
                    "2021-12-06T00:00:00",
                    "2021-12-07T00:00:00",
                    "2021-12-08T00:00:00",
                    "2021-12-09T00:00:00",
                    "2021-12-10T00:00:00",
                    "2021-12-11T00:00:00",
                    "2021-12-12T00:00:00",
                    "2021-12-13T00:00:00",
                    "2021-12-14T00:00:00",
                    "2021-12-15T00:00:00",
                    "2021-12-16T00:00:00",
                    "2021-12-17T00:00:00",
                    "2021-12-18T00:00:00",
                    "2021-12-19T00:00:00",
                    "2021-12-20T00:00:00",
                    "2021-12-21T00:00:00",
                    "2021-12-22T00:00:00",
                    "2021-12-23T00:00:00",
                    "2021-12-24T00:00:00",
                    "2021-12-25T00:00:00",
                    "2021-12-26T00:00:00",
                    "2021-12-27T00:00:00",
                    "2021-12-28T00:00:00",
                    "2021-12-29T00:00:00",
                    "2021-12-30T00:00:00",
                    "2021-12-31T00:00:00",
                    "2022-01-01T00:00:00",
                    "2022-01-02T00:00:00",
                    "2022-01-03T00:00:00",
                    "2022-01-04T00:00:00",
                    "2022-01-05T00:00:00",
                    "2022-01-06T00:00:00",
                    "2022-01-07T00:00:00",
                    "2022-01-08T00:00:00",
                    "2022-01-09T00:00:00",
                    "2022-01-10T00:00:00",
                    "2022-01-11T00:00:00",
                    "2022-01-12T00:00:00",
                    "2022-01-13T00:00:00",
                    "2022-01-14T00:00:00",
                    "2022-01-15T00:00:00",
                    "2022-01-16T00:00:00",
                    "2022-01-17T00:00:00",
                    "2022-01-18T00:00:00",
                    "2022-01-19T00:00:00",
                    "2022-01-20T00:00:00",
                    "2022-01-21T00:00:00",
                    "2022-01-22T00:00:00",
                    "2022-01-23T00:00:00",
                    "2022-01-24T00:00:00",
                    "2022-01-25T00:00:00",
                    "2022-01-26T00:00:00",
                    "2022-01-27T00:00:00",
                    "2022-01-28T00:00:00",
                    "2022-01-29T00:00:00",
                    "2022-01-29T00:00:00",
                    "2022-01-30T00:00:00",
                    "2022-01-31T00:00:00",
                    "2022-02-01T00:00:00",
                    "2022-02-02T00:00:00",
                    "2022-02-03T00:00:00",
                    "2022-02-04T00:00:00",
                    "2022-02-05T00:00:00",
                    "2022-02-06T00:00:00",
                    "2022-02-07T00:00:00",
                    "2022-02-08T00:00:00",
                    "2022-02-09T00:00:00",
                    "2022-02-10T00:00:00",
                    "2022-02-11T00:00:00",
                    "2022-02-12T00:00:00",
                    "2022-02-13T00:00:00",
                    "2022-02-14T00:00:00",
                    "2022-02-15T00:00:00",
                    "2022-02-16T00:00:00",
                    "2022-02-17T00:00:00",
                    "2022-02-18T00:00:00",
                    "2022-02-19T00:00:00",
                    "2022-02-20T00:00:00",
                    "2022-02-21T00:00:00",
                    "2022-02-22T00:00:00",
                    "2022-02-23T00:00:00",
                    "2022-02-24T00:00:00",
                    "2022-02-25T00:00:00",
                    "2022-02-26T00:00:00",
                    "2022-02-27T00:00:00",
                    "2022-02-28T00:00:00",
                    "2022-03-01T00:00:00",
                    "2022-03-02T00:00:00",
                    "2022-03-03T00:00:00",
                    "2022-03-04T00:00:00",
                    "2022-03-05T00:00:00",
                    "2022-03-06T00:00:00",
                    "2022-03-07T00:00:00",
                    "2022-03-08T00:00:00",
                    "2022-03-09T00:00:00",
                    "2022-03-10T00:00:00",
                    "2022-03-11T00:00:00",
                    "2022-03-12T00:00:00",
                    "2022-03-13T00:00:00",
                    "2022-03-14T00:00:00",
                    "2022-03-15T00:00:00",
                    "2022-03-16T00:00:00",
                    "2022-03-17T00:00:00",
                    "2022-03-18T00:00:00",
                    "2022-03-19T00:00:00",
                    "2022-03-20T00:00:00",
                    "2022-03-21T00:00:00",
                    "2022-03-22T00:00:00",
                    "2022-03-23T00:00:00",
                    "2022-03-24T00:00:00",
                    "2022-03-25T00:00:00",
                    "2022-03-26T00:00:00",
                    "2022-03-27T00:00:00",
                    "2022-03-28T00:00:00",
                    "2022-03-29T00:00:00",
                    "2022-03-30T00:00:00",
                    "2022-03-31T00:00:00",
                    "2022-04-01T00:00:00",
                    "2022-04-02T00:00:00",
                    "2022-04-03T00:00:00",
                    "2022-04-04T00:00:00",
                    "2022-04-05T00:00:00",
                    "2022-04-06T00:00:00",
                    "2022-04-07T00:00:00",
                    "2022-04-08T00:00:00",
                    "2022-04-09T00:00:00",
                    "2022-04-10T00:00:00",
                    "2022-04-11T00:00:00",
                    "2022-04-12T00:00:00",
                    "2022-04-13T00:00:00",
                    "2022-04-14T00:00:00",
                    "2022-04-15T00:00:00",
                    "2022-04-16T00:00:00",
                    "2022-04-17T00:00:00",
                    "2022-04-18T00:00:00",
                    "2022-04-19T00:00:00",
                    "2022-04-20T00:00:00",
                    "2022-04-21T00:00:00",
                    "2022-04-22T00:00:00",
                    "2022-04-23T00:00:00",
                    "2022-04-24T00:00:00",
                    "2022-04-25T00:00:00",
                    "2022-04-26T00:00:00",
                    "2022-04-27T00:00:00",
                    "2022-04-28T00:00:00",
                    "2022-04-29T00:00:00",
                    "2022-04-30T00:00:00",
                    "2022-05-01T00:00:00",
                    "2022-05-02T00:00:00",
                    "2022-05-03T00:00:00",
                    "2022-05-04T00:00:00",
                    "2022-05-05T00:00:00",
                    "2022-05-06T00:00:00",
                    "2022-05-07T00:00:00",
                    "2022-05-08T00:00:00",
                    "2022-05-09T00:00:00",
                    "2022-05-10T00:00:00",
                    "2022-05-11T00:00:00",
                    "2022-05-12T00:00:00",
                    "2022-05-13T00:00:00",
                    "2022-05-14T00:00:00",
                    "2022-05-15T00:00:00",
                    "2022-05-16T00:00:00",
                    "2022-05-17T00:00:00",
                    "2022-05-18T00:00:00",
                    "2022-05-19T00:00:00",
                    "2022-05-20T00:00:00",
                    "2022-05-21T00:00:00",
                    "2022-05-22T00:00:00",
                    "2022-05-23T00:00:00",
                    "2022-05-24T00:00:00",
                    "2022-05-25T00:00:00",
                    "2022-05-26T00:00:00",
                    "2022-05-27T00:00:00",
                    "2022-05-28T00:00:00",
                    "2022-05-29T00:00:00",
                    "2022-05-30T00:00:00",
                    "2022-05-31T00:00:00",
                    "2022-06-01T00:00:00",
                    "2022-06-02T00:00:00",
                    "2022-06-03T00:00:00",
                    "2022-06-04T00:00:00",
                    "2022-06-05T00:00:00",
                    "2022-06-06T00:00:00",
                    "2022-06-07T00:00:00",
                    "2022-06-08T00:00:00",
                    "2022-06-09T00:00:00",
                    "2022-06-10T00:00:00",
                    "2022-06-11T00:00:00",
                    "2022-06-12T00:00:00",
                    "2022-06-13T00:00:00",
                    "2022-06-14T00:00:00",
                    "2022-06-15T00:00:00",
                    "2022-06-16T00:00:00",
                    "2022-06-17T00:00:00",
                    "2022-06-18T00:00:00",
                    "2022-06-19T00:00:00",
                    "2022-06-20T00:00:00",
                    "2022-06-21T00:00:00",
                    "2022-06-22T00:00:00",
                    "2022-06-23T00:00:00"
                  ],
                  "xaxis": "x",
                  "y": [
                    32939.936827858844,
                    32518.892256290135,
                    32285.14953751106,
                    33112.40909431108,
                    33811.432092766605,
                    34861.43267902334,
                    35334.694103892754,
                    35014.122791436654,
                    34699.45198340353,
                    34856.16681020202,
                    35284.626174939425,
                    35036.62825520926,
                    34883.54450805568,
                    34635.22525384366,
                    34069.75288272622,
                    34044.074240945345,
                    34057.51807232976,
                    34410.96993564122,
                    34311.255829241985,
                    34033.55455334576,
                    33754.604089651344,
                    33117.164844642466,
                    32488.963965986786,
                    32139.85011818031,
                    32092.52558236578,
                    31711.583554132012,
                    31063.632654885594,
                    31393.972535589954,
                    31962.7626852325,
                    32950.50069894968,
                    34055.09199699179,
                    35265.19748883054,
                    36728.96442064208,
                    38448.77468427311,
                    40031.780808937314,
                    41067.62661126854,
                    42514.13386472368,
                    43251.556333760345,
                    42721.48698918078,
                    41732.49978766541,
                    40504.53613199782,
                    40239.15000011851,
                    40628.62747552643,
                    42008.35339029099,
                    43951.29430143799,
                    44868.3106123809,
                    46456.83164008986,
                    47062.73592238614,
                    47161.566358960285,
                    46433.52284011264,
                    47335.03877898728,
                    47829.134728323676,
                    48062.64849628443,
                    47615.82486590927,
                    46542.79664734692,
                    45817.50053831909,
                    46274.679172371885,
                    48163.80860785199,
                    49321.27951156363,
                    50287.18686392009,
                    50848.84740474658,
                    50051.974039886554,
                    49943.672269459865,
                    48906.88656376923,
                    49109.88962267828,
                    49432.75445999859,
                    49689.09502621381,
                    48940.76726819934,
                    48370.96893161999,
                    48754.1241510975,
                    49438.630864335435,
                    50256.812722023176,
                    50745.815519822245,
                    51948.08848366589,
                    53100.45418579712,
                    50769.220720144025,
                    48170.134880463425,
                    46622.608099276535,
                    45339.12989518825,
                    44891.1454439974,
                    45373.143150092124,
                    45342.13437259355,
                    46306.39086904951,
                    47783.36866474612,
                    48642.39213507706,
                    48846.73676544784,
                    49314.6921546857,
                    49105.56365721637,
                    46644.58336115409,
                    43662.02096751412,
                    42890.60131029768,
                    43529.048742243365,
                    43448.55847122084,
                    43192.80032375398,
                    43291.47812644924,
                    43053.28894177756,
                    42418.673423527944,
                    42131.312029771085,
                    42897.52205170053,
                    45710.9861909477,
                    47626.906888852085,
                    48986.35659781188,
                    50041.41418547674,
                    51684.45362471267,
                    54250.38979590937,
                    55121.84087732587,
                    55293.91549235681,
                    55555.393393600614,
                    55482.414316091345,
                    56561.61215670522,
                    56536.48380022451,
                    56904.39973190027,
                    57210.08924116567,
                    59084.73452487637,
                    60043.9862367775,
                    60694.35919468086,
                    61192.58429210904,
                    62179.229768587924,
                    63358.13368223899,
                    62282.6151214423,
                    60592.970132294984,
                    59883.24267891281,
                    59506.706949761414,
                    60252.33148144731,
                    59796.84788678628,
                    58507.75034594663,
                    58553.29147538689,
                    59599.41194777528,
                    60353.37912594623,
                    60675.749911500694,
                    60654.790869922,
                    61343.567315087515,
                    61696.17567538412,
                    61317.1174705502,
                    60804.08688687076,
                    60606.144846050855,
                    61266.17792181485,
                    63315.062811627955,
                    64541.27519436946,
                    64222.12177031452,
                    63743.24502537477,
                    63054.480630252314,
                    62674.69942283424,
                    62907.83562277882,
                    62356.74296972419,
                    60507.28227602853,
                    59195.58287107172,
                    56987.042943951186,
                    56294.8161697868,
                    56956.379601020606,
                    57480.35162380705,
                    56876.12229749742,
                    56883.4808571318,
                    56358.76173167505,
                    56461.315631557634,
                    54999.10717198307,
                    54528.27985581368,
                    55630.50934541419,
                    56917.871680051845,
                    57409.425070300604,
                    57693.741819841925,
                    57569.11625773723,
                    56048.94709099889,
                    52628.89583368151,
                    49980.505234441975,
                    49395.08602536367,
                    49615.324662542975,
                    50111.589619631864,
                    49212.37523898348,
                    48304.283993273966,
                    48823.13876443694,
                    49853.48974712852,
                    48935.38893230937,
                    47953.025237801136,
                    48404.65281867997,
                    48456.07035245707,
                    47738.61078810537,
                    47586.254060216976,
                    47558.442560812815,
                    47705.80253750843,
                    48822.19484439651,
                    49499.8008996367,
                    50878.687328067426,
                    51845.992485419934,
                    52139.55965135753,
                    52311.5177826388,
                    52227.464715548755,
                    50510.66294600405,
                    48624.8954725403,
                    47759.54171291691,
                    46880.99315613252,
                    47245.00085717277,
                    47569.55671720382,
                    47447.05597936036,
                    46930.651383621494,
                    45489.96028428785,
                    44331.191992605745,
                    42468.67306890388,
                    41650.523344664325,
                    41412.76394486211,
                    41345.785788801404,
                    41763.07074693246,
                    42647.09403995137,
                    42758.81802260976,
                    43224.65662094843,
                    43588.720555523,
                    43817.40627289395,
                    43501.21715943409,
                    43248.632189975506,
                    42729.54445131318,
                    41965.19415269745,
                    39539.335715501424,
                    36816.52806694634,
                    35543.77038450878,
                    35145.24734343677,
                    35437.93083954928,
                    35907.521017963554,
                    36449.355221259866,
                    37177.40275678854,
                    37913.78892212124,
                    38482.92048965075,
                    38728.40798374146,
                    39008.94905312104,
                    39278.75755080681,
                    38706.673722725296,
                    38260.22364368528,
                    39600.98373584444,
                    40867.9935477379,
                    42060.26497583394,
                    43472.30107274857,
                    44393.95665027319,
                    44980.25149581454,
                    44749.26020353631,
                    43892.08842315704,
                    43214.98445304473,
                    42765.405379487696,
                    42680.16739149583,
                    43451.362114574986,
                    43877.19858660429,
                    42683.99127182985,
                    41363.33065151044,
                    40516.730775584045,
                    39403.00152821431,
                    38044.391305588346,
                    37640.028010308706,
                    37204.96923865029,
                    37383.04879181081,
                    37905.169124645596,
                    38464.749024702105,
                    38376.97249430361,
                    40229.610382688574,
                    42383.91708263478,
                    43833.589480736155,
                    43929.61225727513,
                    42282.13438550864,
                    41002.170777315594,
                    39764.75587120058,
                    38795.558857086166,
                    38514.45143568233,
                    39784.30505774015,
                    39974.67565483146,
                    39666.51990341785,
                    39443.55795650486,
                    38868.292917053026,
                    39147.560698548274,
                    39313.63037544963,
                    39982.10249804323,
                    40606.37104597726,
                    41186.9501544227,
                    41846.25621092151,
                    41897.18370961379,
                    41785.090192301264,
                    42062.6709677668,
                    42447.4047428864,
                    43085.12917224792,
                    43739.83612897524,
                    44253.85079950535,
                    45478.03475833018,
                    46506.44166740656,
                    47084.22918254092,
                    47152.97467825181,
                    46301.68733557142,
                    45933.474169499954,
                    45633.403996985915,
                    45848.151831206604,
                    46132.22757988654,
                    45864.897374392036,
                    44525.55517063404,
                    43686.31787102304,
                    42673.760785263934,
                    42229.09812927921,
                    41787.60061794072,
                    40468.27755240201,
                    39634.10930424221,
                    39580.55087947978,
                    39365.05192590776,
                    39451.784119240234,
                    39508.39120489922,
                    39289.49413918164,
                    39488.03868215502,
                    39978.70036921664,
                    40222.0268889169,
                    40056.154029385674,
                    39596.7742541322,
                    39165.59559634214,
                    38851.01315529152,
                    38960.748880843465,
                    38225.62395335203,
                    38088.112878525135,
                    38297.36589310618,
                    38115.38614267219,
                    37624.366970999516,
                    37512.45420433303,
                    37544.4510853633,
                    37262.64877814245,
                    37701.25026246327,
                    37047.796510215165,
                    36197.53342119567,
                    35335.156022210416,
                    34126.55678575534,
                    31661.383074704918,
                    30048.038958273,
                    28131.258690629656,
                    26984.98629361051,
                    26890.682656549434,
                    27596.0158608923,
                    28845.083158655423,
                    29201.5595827773,
                    29595.43532390555,
                    28986.7755984274,
                    29044.61580516049,
                    28672.285541040317,
                    28574.87299286734,
                    28932.253170219417,
                    28757.125877610895,
                    28729.390695146176,
                    28678.310562575014,
                    28523.507675943536,
                    28114.207879686463,
                    27874.66105682896,
                    28149.574756095135,
                    29295.802969623026,
                    30326.149935633584,
                    30175.809581618803,
                    30113.992860672814,
                    29738.48138518232,
                    29476.589765793142,
                    29308.322964372128,
                    29772.687440775306,
                    29981.032685445123,
                    29804.242486893025,
                    29593.274349515104,
                    28935.675382451125,
                    28085.617144163814,
                    26776.849916353895,
                    23940.64332915376,
                    21797.01698404806,
                    20740.591716494822,
                    19642.883001385842,
                    18946.84640527101,
                    18172.21139489555,
                    18118.211135220572,
                    18269.10579121654,
                    18548.457923013273,
                    18481.36127486238
                  ],
                  "yaxis": "y"
                }
              ],
              "layout": {
                "hovermode": "x unified",
                "legend": {
                  "title": {
                    "text": ""
                  },
                  "tracegroupgap": 0,
                  "x": 0.99,
                  "xanchor": "right",
                  "y": 0.99,
                  "yanchor": "top"
                },
                "margin": {
                  "t": 60
                },
                "template": {
                  "data": {
                    "bar": [
                      {
                        "error_x": {
                          "color": "#f2f5fa"
                        },
                        "error_y": {
                          "color": "#f2f5fa"
                        },
                        "marker": {
                          "line": {
                            "color": "rgb(17,17,17)",
                            "width": 0.5
                          },
                          "pattern": {
                            "fillmode": "overlay",
                            "size": 10,
                            "solidity": 0.2
                          }
                        },
                        "type": "bar"
                      }
                    ],
                    "barpolar": [
                      {
                        "marker": {
                          "line": {
                            "color": "rgb(17,17,17)",
                            "width": 0.5
                          },
                          "pattern": {
                            "fillmode": "overlay",
                            "size": 10,
                            "solidity": 0.2
                          }
                        },
                        "type": "barpolar"
                      }
                    ],
                    "carpet": [
                      {
                        "aaxis": {
                          "endlinecolor": "#A2B1C6",
                          "gridcolor": "#506784",
                          "linecolor": "#506784",
                          "minorgridcolor": "#506784",
                          "startlinecolor": "#A2B1C6"
                        },
                        "baxis": {
                          "endlinecolor": "#A2B1C6",
                          "gridcolor": "#506784",
                          "linecolor": "#506784",
                          "minorgridcolor": "#506784",
                          "startlinecolor": "#A2B1C6"
                        },
                        "type": "carpet"
                      }
                    ],
                    "choropleth": [
                      {
                        "colorbar": {
                          "outlinewidth": 0,
                          "ticks": ""
                        },
                        "type": "choropleth"
                      }
                    ],
                    "contour": [
                      {
                        "colorbar": {
                          "outlinewidth": 0,
                          "ticks": ""
                        },
                        "colorscale": [
                          [
                            0,
                            "#0d0887"
                          ],
                          [
                            0.1111111111111111,
                            "#46039f"
                          ],
                          [
                            0.2222222222222222,
                            "#7201a8"
                          ],
                          [
                            0.3333333333333333,
                            "#9c179e"
                          ],
                          [
                            0.4444444444444444,
                            "#bd3786"
                          ],
                          [
                            0.5555555555555556,
                            "#d8576b"
                          ],
                          [
                            0.6666666666666666,
                            "#ed7953"
                          ],
                          [
                            0.7777777777777778,
                            "#fb9f3a"
                          ],
                          [
                            0.8888888888888888,
                            "#fdca26"
                          ],
                          [
                            1,
                            "#f0f921"
                          ]
                        ],
                        "type": "contour"
                      }
                    ],
                    "contourcarpet": [
                      {
                        "colorbar": {
                          "outlinewidth": 0,
                          "ticks": ""
                        },
                        "type": "contourcarpet"
                      }
                    ],
                    "heatmap": [
                      {
                        "colorbar": {
                          "outlinewidth": 0,
                          "ticks": ""
                        },
                        "colorscale": [
                          [
                            0,
                            "#0d0887"
                          ],
                          [
                            0.1111111111111111,
                            "#46039f"
                          ],
                          [
                            0.2222222222222222,
                            "#7201a8"
                          ],
                          [
                            0.3333333333333333,
                            "#9c179e"
                          ],
                          [
                            0.4444444444444444,
                            "#bd3786"
                          ],
                          [
                            0.5555555555555556,
                            "#d8576b"
                          ],
                          [
                            0.6666666666666666,
                            "#ed7953"
                          ],
                          [
                            0.7777777777777778,
                            "#fb9f3a"
                          ],
                          [
                            0.8888888888888888,
                            "#fdca26"
                          ],
                          [
                            1,
                            "#f0f921"
                          ]
                        ],
                        "type": "heatmap"
                      }
                    ],
                    "heatmapgl": [
                      {
                        "colorbar": {
                          "outlinewidth": 0,
                          "ticks": ""
                        },
                        "colorscale": [
                          [
                            0,
                            "#0d0887"
                          ],
                          [
                            0.1111111111111111,
                            "#46039f"
                          ],
                          [
                            0.2222222222222222,
                            "#7201a8"
                          ],
                          [
                            0.3333333333333333,
                            "#9c179e"
                          ],
                          [
                            0.4444444444444444,
                            "#bd3786"
                          ],
                          [
                            0.5555555555555556,
                            "#d8576b"
                          ],
                          [
                            0.6666666666666666,
                            "#ed7953"
                          ],
                          [
                            0.7777777777777778,
                            "#fb9f3a"
                          ],
                          [
                            0.8888888888888888,
                            "#fdca26"
                          ],
                          [
                            1,
                            "#f0f921"
                          ]
                        ],
                        "type": "heatmapgl"
                      }
                    ],
                    "histogram": [
                      {
                        "marker": {
                          "pattern": {
                            "fillmode": "overlay",
                            "size": 10,
                            "solidity": 0.2
                          }
                        },
                        "type": "histogram"
                      }
                    ],
                    "histogram2d": [
                      {
                        "colorbar": {
                          "outlinewidth": 0,
                          "ticks": ""
                        },
                        "colorscale": [
                          [
                            0,
                            "#0d0887"
                          ],
                          [
                            0.1111111111111111,
                            "#46039f"
                          ],
                          [
                            0.2222222222222222,
                            "#7201a8"
                          ],
                          [
                            0.3333333333333333,
                            "#9c179e"
                          ],
                          [
                            0.4444444444444444,
                            "#bd3786"
                          ],
                          [
                            0.5555555555555556,
                            "#d8576b"
                          ],
                          [
                            0.6666666666666666,
                            "#ed7953"
                          ],
                          [
                            0.7777777777777778,
                            "#fb9f3a"
                          ],
                          [
                            0.8888888888888888,
                            "#fdca26"
                          ],
                          [
                            1,
                            "#f0f921"
                          ]
                        ],
                        "type": "histogram2d"
                      }
                    ],
                    "histogram2dcontour": [
                      {
                        "colorbar": {
                          "outlinewidth": 0,
                          "ticks": ""
                        },
                        "colorscale": [
                          [
                            0,
                            "#0d0887"
                          ],
                          [
                            0.1111111111111111,
                            "#46039f"
                          ],
                          [
                            0.2222222222222222,
                            "#7201a8"
                          ],
                          [
                            0.3333333333333333,
                            "#9c179e"
                          ],
                          [
                            0.4444444444444444,
                            "#bd3786"
                          ],
                          [
                            0.5555555555555556,
                            "#d8576b"
                          ],
                          [
                            0.6666666666666666,
                            "#ed7953"
                          ],
                          [
                            0.7777777777777778,
                            "#fb9f3a"
                          ],
                          [
                            0.8888888888888888,
                            "#fdca26"
                          ],
                          [
                            1,
                            "#f0f921"
                          ]
                        ],
                        "type": "histogram2dcontour"
                      }
                    ],
                    "mesh3d": [
                      {
                        "colorbar": {
                          "outlinewidth": 0,
                          "ticks": ""
                        },
                        "type": "mesh3d"
                      }
                    ],
                    "parcoords": [
                      {
                        "line": {
                          "colorbar": {
                            "outlinewidth": 0,
                            "ticks": ""
                          }
                        },
                        "type": "parcoords"
                      }
                    ],
                    "pie": [
                      {
                        "automargin": true,
                        "type": "pie"
                      }
                    ],
                    "scatter": [
                      {
                        "marker": {
                          "line": {
                            "color": "#283442"
                          }
                        },
                        "type": "scatter"
                      }
                    ],
                    "scatter3d": [
                      {
                        "line": {
                          "colorbar": {
                            "outlinewidth": 0,
                            "ticks": ""
                          }
                        },
                        "marker": {
                          "colorbar": {
                            "outlinewidth": 0,
                            "ticks": ""
                          }
                        },
                        "type": "scatter3d"
                      }
                    ],
                    "scattercarpet": [
                      {
                        "marker": {
                          "colorbar": {
                            "outlinewidth": 0,
                            "ticks": ""
                          }
                        },
                        "type": "scattercarpet"
                      }
                    ],
                    "scattergeo": [
                      {
                        "marker": {
                          "colorbar": {
                            "outlinewidth": 0,
                            "ticks": ""
                          }
                        },
                        "type": "scattergeo"
                      }
                    ],
                    "scattergl": [
                      {
                        "marker": {
                          "line": {
                            "color": "#283442"
                          }
                        },
                        "type": "scattergl"
                      }
                    ],
                    "scattermapbox": [
                      {
                        "marker": {
                          "colorbar": {
                            "outlinewidth": 0,
                            "ticks": ""
                          }
                        },
                        "type": "scattermapbox"
                      }
                    ],
                    "scatterpolar": [
                      {
                        "marker": {
                          "colorbar": {
                            "outlinewidth": 0,
                            "ticks": ""
                          }
                        },
                        "type": "scatterpolar"
                      }
                    ],
                    "scatterpolargl": [
                      {
                        "marker": {
                          "colorbar": {
                            "outlinewidth": 0,
                            "ticks": ""
                          }
                        },
                        "type": "scatterpolargl"
                      }
                    ],
                    "scatterternary": [
                      {
                        "marker": {
                          "colorbar": {
                            "outlinewidth": 0,
                            "ticks": ""
                          }
                        },
                        "type": "scatterternary"
                      }
                    ],
                    "surface": [
                      {
                        "colorbar": {
                          "outlinewidth": 0,
                          "ticks": ""
                        },
                        "colorscale": [
                          [
                            0,
                            "#0d0887"
                          ],
                          [
                            0.1111111111111111,
                            "#46039f"
                          ],
                          [
                            0.2222222222222222,
                            "#7201a8"
                          ],
                          [
                            0.3333333333333333,
                            "#9c179e"
                          ],
                          [
                            0.4444444444444444,
                            "#bd3786"
                          ],
                          [
                            0.5555555555555556,
                            "#d8576b"
                          ],
                          [
                            0.6666666666666666,
                            "#ed7953"
                          ],
                          [
                            0.7777777777777778,
                            "#fb9f3a"
                          ],
                          [
                            0.8888888888888888,
                            "#fdca26"
                          ],
                          [
                            1,
                            "#f0f921"
                          ]
                        ],
                        "type": "surface"
                      }
                    ],
                    "table": [
                      {
                        "cells": {
                          "fill": {
                            "color": "#506784"
                          },
                          "line": {
                            "color": "rgb(17,17,17)"
                          }
                        },
                        "header": {
                          "fill": {
                            "color": "#2a3f5f"
                          },
                          "line": {
                            "color": "rgb(17,17,17)"
                          }
                        },
                        "type": "table"
                      }
                    ]
                  },
                  "layout": {
                    "annotationdefaults": {
                      "arrowcolor": "#f2f5fa",
                      "arrowhead": 0,
                      "arrowwidth": 1
                    },
                    "autotypenumbers": "strict",
                    "coloraxis": {
                      "colorbar": {
                        "outlinewidth": 0,
                        "ticks": ""
                      }
                    },
                    "colorscale": {
                      "diverging": [
                        [
                          0,
                          "#8e0152"
                        ],
                        [
                          0.1,
                          "#c51b7d"
                        ],
                        [
                          0.2,
                          "#de77ae"
                        ],
                        [
                          0.3,
                          "#f1b6da"
                        ],
                        [
                          0.4,
                          "#fde0ef"
                        ],
                        [
                          0.5,
                          "#f7f7f7"
                        ],
                        [
                          0.6,
                          "#e6f5d0"
                        ],
                        [
                          0.7,
                          "#b8e186"
                        ],
                        [
                          0.8,
                          "#7fbc41"
                        ],
                        [
                          0.9,
                          "#4d9221"
                        ],
                        [
                          1,
                          "#276419"
                        ]
                      ],
                      "sequential": [
                        [
                          0,
                          "#0d0887"
                        ],
                        [
                          0.1111111111111111,
                          "#46039f"
                        ],
                        [
                          0.2222222222222222,
                          "#7201a8"
                        ],
                        [
                          0.3333333333333333,
                          "#9c179e"
                        ],
                        [
                          0.4444444444444444,
                          "#bd3786"
                        ],
                        [
                          0.5555555555555556,
                          "#d8576b"
                        ],
                        [
                          0.6666666666666666,
                          "#ed7953"
                        ],
                        [
                          0.7777777777777778,
                          "#fb9f3a"
                        ],
                        [
                          0.8888888888888888,
                          "#fdca26"
                        ],
                        [
                          1,
                          "#f0f921"
                        ]
                      ],
                      "sequentialminus": [
                        [
                          0,
                          "#0d0887"
                        ],
                        [
                          0.1111111111111111,
                          "#46039f"
                        ],
                        [
                          0.2222222222222222,
                          "#7201a8"
                        ],
                        [
                          0.3333333333333333,
                          "#9c179e"
                        ],
                        [
                          0.4444444444444444,
                          "#bd3786"
                        ],
                        [
                          0.5555555555555556,
                          "#d8576b"
                        ],
                        [
                          0.6666666666666666,
                          "#ed7953"
                        ],
                        [
                          0.7777777777777778,
                          "#fb9f3a"
                        ],
                        [
                          0.8888888888888888,
                          "#fdca26"
                        ],
                        [
                          1,
                          "#f0f921"
                        ]
                      ]
                    },
                    "colorway": [
                      "#636efa",
                      "#EF553B",
                      "#00cc96",
                      "#ab63fa",
                      "#FFA15A",
                      "#19d3f3",
                      "#FF6692",
                      "#B6E880",
                      "#FF97FF",
                      "#FECB52"
                    ],
                    "font": {
                      "color": "#f2f5fa"
                    },
                    "geo": {
                      "bgcolor": "rgb(17,17,17)",
                      "lakecolor": "rgb(17,17,17)",
                      "landcolor": "rgb(17,17,17)",
                      "showlakes": true,
                      "showland": true,
                      "subunitcolor": "#506784"
                    },
                    "hoverlabel": {
                      "align": "left"
                    },
                    "hovermode": "closest",
                    "mapbox": {
                      "style": "dark"
                    },
                    "paper_bgcolor": "rgb(17,17,17)",
                    "plot_bgcolor": "rgb(17,17,17)",
                    "polar": {
                      "angularaxis": {
                        "gridcolor": "#506784",
                        "linecolor": "#506784",
                        "ticks": ""
                      },
                      "bgcolor": "rgb(17,17,17)",
                      "radialaxis": {
                        "gridcolor": "#506784",
                        "linecolor": "#506784",
                        "ticks": ""
                      }
                    },
                    "scene": {
                      "xaxis": {
                        "backgroundcolor": "rgb(17,17,17)",
                        "gridcolor": "#506784",
                        "gridwidth": 2,
                        "linecolor": "#506784",
                        "showbackground": true,
                        "ticks": "",
                        "zerolinecolor": "#C8D4E3"
                      },
                      "yaxis": {
                        "backgroundcolor": "rgb(17,17,17)",
                        "gridcolor": "#506784",
                        "gridwidth": 2,
                        "linecolor": "#506784",
                        "showbackground": true,
                        "ticks": "",
                        "zerolinecolor": "#C8D4E3"
                      },
                      "zaxis": {
                        "backgroundcolor": "rgb(17,17,17)",
                        "gridcolor": "#506784",
                        "gridwidth": 2,
                        "linecolor": "#506784",
                        "showbackground": true,
                        "ticks": "",
                        "zerolinecolor": "#C8D4E3"
                      }
                    },
                    "shapedefaults": {
                      "line": {
                        "color": "#f2f5fa"
                      }
                    },
                    "sliderdefaults": {
                      "bgcolor": "#C8D4E3",
                      "bordercolor": "rgb(17,17,17)",
                      "borderwidth": 1,
                      "tickwidth": 0
                    },
                    "ternary": {
                      "aaxis": {
                        "gridcolor": "#506784",
                        "linecolor": "#506784",
                        "ticks": ""
                      },
                      "baxis": {
                        "gridcolor": "#506784",
                        "linecolor": "#506784",
                        "ticks": ""
                      },
                      "bgcolor": "rgb(17,17,17)",
                      "caxis": {
                        "gridcolor": "#506784",
                        "linecolor": "#506784",
                        "ticks": ""
                      }
                    },
                    "title": {
                      "x": 0.05
                    },
                    "updatemenudefaults": {
                      "bgcolor": "#506784",
                      "borderwidth": 0
                    },
                    "xaxis": {
                      "automargin": true,
                      "gridcolor": "#283442",
                      "linecolor": "#506784",
                      "ticks": "",
                      "title": {
                        "standoff": 15
                      },
                      "zerolinecolor": "#283442",
                      "zerolinewidth": 2
                    },
                    "yaxis": {
                      "automargin": true,
                      "gridcolor": "#283442",
                      "linecolor": "#506784",
                      "ticks": "",
                      "title": {
                        "standoff": 15
                      },
                      "zerolinecolor": "#283442",
                      "zerolinewidth": 2
                    }
                  }
                },
                "title": {
                  "font": {
                    "size": 25
                  },
                  "text": "Model Performance",
                  "x": 0.5,
                  "xanchor": "center",
                  "y": 0.9,
                  "yanchor": "top"
                },
                "xaxis": {
                  "anchor": "y",
                  "domain": [
                    0,
                    1
                  ],
                  "rangeslider": {
                    "visible": true
                  },
                  "title": {
                    "text": "Date"
                  }
                },
                "yaxis": {
                  "anchor": "x",
                  "domain": [
                    0,
                    1
                  ],
                  "tickformat": "$",
                  "title": {
                    "text": "Close Price"
                  }
                }
              }
            }
          },
          "metadata": {},
          "output_type": "display_data"
        }
      ],
      "source": [
        "# This is what we would call in the dashboard\n",
        "from app.modules.models_meta import pred_models\n",
        "\n",
        "model_meta = pred_models['BTC-USD']['1D']['BTC_LSTM_VGC_1D']\n",
        "model_builder = model_meta['builder']\n",
        "builder_kwargs = model_meta['model_kwargs']\n",
        "test_weights_path = model_meta['test_weights_path']\n",
        "lstm_model = model_builder(in_shape=(model_meta['lags'], model_meta['n_features']), **builder_kwargs)\n",
        "lstm_model.load_weights(test_weights_path)\n",
        "test_df = get_test_df(lstm_model, X_test, y_test, scaler, test_dates)\n",
        "test_fig = plot_model_test(test_df)\n",
        "#test_fig.update_layout(width=750, height=500)\n",
        "test_fig.show()\n",
        "test_df['Scope'] = '1D'\n",
        "test_df['Ticker'] = cc\n",
        "test_df['Model'] = 'BTC_LSTM_VGC_1D'\n",
        "test_df.reset_index().to_csv('./app/dash/test_models/predictions.csv', index=False)"
      ]
    },
    {
      "cell_type": "code",
      "execution_count": 16,
      "metadata": {
        "colab": {
          "base_uri": "https://localhost:8080/",
          "height": 542
        },
        "id": "_s60ygs6R3_O",
        "outputId": "db0f2efc-adaa-4653-f6d7-0d726a5a251c"
      },
      "outputs": [
        {
          "data": {
            "application/vnd.plotly.v1+json": {
              "config": {
                "plotlyServerURL": "https://plot.ly"
              },
              "data": [
                {
                  "marker": {
                    "color": "rgba(50, 171, 96, 0.6)"
                  },
                  "name": "mae",
                  "orientation": "h",
                  "type": "bar",
                  "visible": false,
                  "x": [
                    0.00000840548572826616,
                    0.000009009125644464377,
                    0.000009564830832285015,
                    0.000009923275202921439,
                    0.00001026530788369312,
                    0.000012336120213549129,
                    0.000015245111624300617,
                    0.000018447694507945506,
                    0.00002255986814629629,
                    0.00002568968354839385,
                    0.000030638713785256094,
                    0.0000429456157276277,
                    0.00005083190251703104,
                    0.00006588196043856576,
                    0.00009799014272235396,
                    0.00013066942383059207,
                    0.00013087088481641973,
                    0.00015951535919217497,
                    0.00018269352827431085,
                    0.00020297142348141978
                  ],
                  "y": [
                    "Gtrend(t-26)",
                    "TYX(t-25)",
                    "Close_t(t-19)",
                    "Volume(t-21)",
                    "Gtrend(t-22)",
                    "Close_t(t-26)",
                    "TYX(t-24)",
                    "Close_t(t-24)",
                    "TYX(t-20)",
                    "TYX(t-22)",
                    "Volume(t-25)",
                    "Gtrend(t-24)",
                    "Volume(t-23)",
                    "Close_t(t-20)",
                    "Gtrend(t-23)",
                    "TYX(t-16)",
                    "Close_t(t-23)",
                    "TYX(t-21)",
                    "Gtrend(t-20)",
                    "Volume(t-22)"
                  ]
                },
                {
                  "marker": {
                    "color": "rgba(50, 171, 96, 0.6)"
                  },
                  "name": "mse",
                  "orientation": "h",
                  "type": "bar",
                  "visible": true,
                  "x": [
                    5.966375569896841e-7,
                    7.246667068712583e-7,
                    8.403148249055102e-7,
                    8.408400887559373e-7,
                    0.0000014667711833720332,
                    0.0000014709470937711907,
                    0.0000016269424617540527,
                    0.0000017233687976034827,
                    0.0000018084066041332367,
                    0.0000021331730708019133,
                    0.0000024704025449486227,
                    0.0000033305697259061653,
                    0.000003390863169576647,
                    0.000003524120764776843,
                    0.000006117449495343869,
                    0.000006796779958241324,
                    0.00001070437609940406,
                    0.000011889569486736801,
                    0.000012594839883372372,
                    0.000017225447743664463
                  ],
                  "y": [
                    "Gtrend(t-22)",
                    "Volume(t-26)",
                    "Gtrend(t-19)",
                    "Close_t(t-26)",
                    "TYX(t-25)",
                    "Volume(t-21)",
                    "Close_t(t-24)",
                    "TYX(t-20)",
                    "TYX(t-22)",
                    "Gtrend(t-24)",
                    "Volume(t-25)",
                    "Gtrend(t-23)",
                    "TYX(t-24)",
                    "Volume(t-23)",
                    "TYX(t-16)",
                    "Close_t(t-20)",
                    "Close_t(t-23)",
                    "TYX(t-21)",
                    "Gtrend(t-20)",
                    "Volume(t-22)"
                  ]
                }
              ],
              "layout": {
                "autosize": true,
                "template": {
                  "data": {
                    "bar": [
                      {
                        "error_x": {
                          "color": "#f2f5fa"
                        },
                        "error_y": {
                          "color": "#f2f5fa"
                        },
                        "marker": {
                          "line": {
                            "color": "rgb(17,17,17)",
                            "width": 0.5
                          },
                          "pattern": {
                            "fillmode": "overlay",
                            "size": 10,
                            "solidity": 0.2
                          }
                        },
                        "type": "bar"
                      }
                    ],
                    "barpolar": [
                      {
                        "marker": {
                          "line": {
                            "color": "rgb(17,17,17)",
                            "width": 0.5
                          },
                          "pattern": {
                            "fillmode": "overlay",
                            "size": 10,
                            "solidity": 0.2
                          }
                        },
                        "type": "barpolar"
                      }
                    ],
                    "carpet": [
                      {
                        "aaxis": {
                          "endlinecolor": "#A2B1C6",
                          "gridcolor": "#506784",
                          "linecolor": "#506784",
                          "minorgridcolor": "#506784",
                          "startlinecolor": "#A2B1C6"
                        },
                        "baxis": {
                          "endlinecolor": "#A2B1C6",
                          "gridcolor": "#506784",
                          "linecolor": "#506784",
                          "minorgridcolor": "#506784",
                          "startlinecolor": "#A2B1C6"
                        },
                        "type": "carpet"
                      }
                    ],
                    "choropleth": [
                      {
                        "colorbar": {
                          "outlinewidth": 0,
                          "ticks": ""
                        },
                        "type": "choropleth"
                      }
                    ],
                    "contour": [
                      {
                        "colorbar": {
                          "outlinewidth": 0,
                          "ticks": ""
                        },
                        "colorscale": [
                          [
                            0,
                            "#0d0887"
                          ],
                          [
                            0.1111111111111111,
                            "#46039f"
                          ],
                          [
                            0.2222222222222222,
                            "#7201a8"
                          ],
                          [
                            0.3333333333333333,
                            "#9c179e"
                          ],
                          [
                            0.4444444444444444,
                            "#bd3786"
                          ],
                          [
                            0.5555555555555556,
                            "#d8576b"
                          ],
                          [
                            0.6666666666666666,
                            "#ed7953"
                          ],
                          [
                            0.7777777777777778,
                            "#fb9f3a"
                          ],
                          [
                            0.8888888888888888,
                            "#fdca26"
                          ],
                          [
                            1,
                            "#f0f921"
                          ]
                        ],
                        "type": "contour"
                      }
                    ],
                    "contourcarpet": [
                      {
                        "colorbar": {
                          "outlinewidth": 0,
                          "ticks": ""
                        },
                        "type": "contourcarpet"
                      }
                    ],
                    "heatmap": [
                      {
                        "colorbar": {
                          "outlinewidth": 0,
                          "ticks": ""
                        },
                        "colorscale": [
                          [
                            0,
                            "#0d0887"
                          ],
                          [
                            0.1111111111111111,
                            "#46039f"
                          ],
                          [
                            0.2222222222222222,
                            "#7201a8"
                          ],
                          [
                            0.3333333333333333,
                            "#9c179e"
                          ],
                          [
                            0.4444444444444444,
                            "#bd3786"
                          ],
                          [
                            0.5555555555555556,
                            "#d8576b"
                          ],
                          [
                            0.6666666666666666,
                            "#ed7953"
                          ],
                          [
                            0.7777777777777778,
                            "#fb9f3a"
                          ],
                          [
                            0.8888888888888888,
                            "#fdca26"
                          ],
                          [
                            1,
                            "#f0f921"
                          ]
                        ],
                        "type": "heatmap"
                      }
                    ],
                    "heatmapgl": [
                      {
                        "colorbar": {
                          "outlinewidth": 0,
                          "ticks": ""
                        },
                        "colorscale": [
                          [
                            0,
                            "#0d0887"
                          ],
                          [
                            0.1111111111111111,
                            "#46039f"
                          ],
                          [
                            0.2222222222222222,
                            "#7201a8"
                          ],
                          [
                            0.3333333333333333,
                            "#9c179e"
                          ],
                          [
                            0.4444444444444444,
                            "#bd3786"
                          ],
                          [
                            0.5555555555555556,
                            "#d8576b"
                          ],
                          [
                            0.6666666666666666,
                            "#ed7953"
                          ],
                          [
                            0.7777777777777778,
                            "#fb9f3a"
                          ],
                          [
                            0.8888888888888888,
                            "#fdca26"
                          ],
                          [
                            1,
                            "#f0f921"
                          ]
                        ],
                        "type": "heatmapgl"
                      }
                    ],
                    "histogram": [
                      {
                        "marker": {
                          "pattern": {
                            "fillmode": "overlay",
                            "size": 10,
                            "solidity": 0.2
                          }
                        },
                        "type": "histogram"
                      }
                    ],
                    "histogram2d": [
                      {
                        "colorbar": {
                          "outlinewidth": 0,
                          "ticks": ""
                        },
                        "colorscale": [
                          [
                            0,
                            "#0d0887"
                          ],
                          [
                            0.1111111111111111,
                            "#46039f"
                          ],
                          [
                            0.2222222222222222,
                            "#7201a8"
                          ],
                          [
                            0.3333333333333333,
                            "#9c179e"
                          ],
                          [
                            0.4444444444444444,
                            "#bd3786"
                          ],
                          [
                            0.5555555555555556,
                            "#d8576b"
                          ],
                          [
                            0.6666666666666666,
                            "#ed7953"
                          ],
                          [
                            0.7777777777777778,
                            "#fb9f3a"
                          ],
                          [
                            0.8888888888888888,
                            "#fdca26"
                          ],
                          [
                            1,
                            "#f0f921"
                          ]
                        ],
                        "type": "histogram2d"
                      }
                    ],
                    "histogram2dcontour": [
                      {
                        "colorbar": {
                          "outlinewidth": 0,
                          "ticks": ""
                        },
                        "colorscale": [
                          [
                            0,
                            "#0d0887"
                          ],
                          [
                            0.1111111111111111,
                            "#46039f"
                          ],
                          [
                            0.2222222222222222,
                            "#7201a8"
                          ],
                          [
                            0.3333333333333333,
                            "#9c179e"
                          ],
                          [
                            0.4444444444444444,
                            "#bd3786"
                          ],
                          [
                            0.5555555555555556,
                            "#d8576b"
                          ],
                          [
                            0.6666666666666666,
                            "#ed7953"
                          ],
                          [
                            0.7777777777777778,
                            "#fb9f3a"
                          ],
                          [
                            0.8888888888888888,
                            "#fdca26"
                          ],
                          [
                            1,
                            "#f0f921"
                          ]
                        ],
                        "type": "histogram2dcontour"
                      }
                    ],
                    "mesh3d": [
                      {
                        "colorbar": {
                          "outlinewidth": 0,
                          "ticks": ""
                        },
                        "type": "mesh3d"
                      }
                    ],
                    "parcoords": [
                      {
                        "line": {
                          "colorbar": {
                            "outlinewidth": 0,
                            "ticks": ""
                          }
                        },
                        "type": "parcoords"
                      }
                    ],
                    "pie": [
                      {
                        "automargin": true,
                        "type": "pie"
                      }
                    ],
                    "scatter": [
                      {
                        "marker": {
                          "line": {
                            "color": "#283442"
                          }
                        },
                        "type": "scatter"
                      }
                    ],
                    "scatter3d": [
                      {
                        "line": {
                          "colorbar": {
                            "outlinewidth": 0,
                            "ticks": ""
                          }
                        },
                        "marker": {
                          "colorbar": {
                            "outlinewidth": 0,
                            "ticks": ""
                          }
                        },
                        "type": "scatter3d"
                      }
                    ],
                    "scattercarpet": [
                      {
                        "marker": {
                          "colorbar": {
                            "outlinewidth": 0,
                            "ticks": ""
                          }
                        },
                        "type": "scattercarpet"
                      }
                    ],
                    "scattergeo": [
                      {
                        "marker": {
                          "colorbar": {
                            "outlinewidth": 0,
                            "ticks": ""
                          }
                        },
                        "type": "scattergeo"
                      }
                    ],
                    "scattergl": [
                      {
                        "marker": {
                          "line": {
                            "color": "#283442"
                          }
                        },
                        "type": "scattergl"
                      }
                    ],
                    "scattermapbox": [
                      {
                        "marker": {
                          "colorbar": {
                            "outlinewidth": 0,
                            "ticks": ""
                          }
                        },
                        "type": "scattermapbox"
                      }
                    ],
                    "scatterpolar": [
                      {
                        "marker": {
                          "colorbar": {
                            "outlinewidth": 0,
                            "ticks": ""
                          }
                        },
                        "type": "scatterpolar"
                      }
                    ],
                    "scatterpolargl": [
                      {
                        "marker": {
                          "colorbar": {
                            "outlinewidth": 0,
                            "ticks": ""
                          }
                        },
                        "type": "scatterpolargl"
                      }
                    ],
                    "scatterternary": [
                      {
                        "marker": {
                          "colorbar": {
                            "outlinewidth": 0,
                            "ticks": ""
                          }
                        },
                        "type": "scatterternary"
                      }
                    ],
                    "surface": [
                      {
                        "colorbar": {
                          "outlinewidth": 0,
                          "ticks": ""
                        },
                        "colorscale": [
                          [
                            0,
                            "#0d0887"
                          ],
                          [
                            0.1111111111111111,
                            "#46039f"
                          ],
                          [
                            0.2222222222222222,
                            "#7201a8"
                          ],
                          [
                            0.3333333333333333,
                            "#9c179e"
                          ],
                          [
                            0.4444444444444444,
                            "#bd3786"
                          ],
                          [
                            0.5555555555555556,
                            "#d8576b"
                          ],
                          [
                            0.6666666666666666,
                            "#ed7953"
                          ],
                          [
                            0.7777777777777778,
                            "#fb9f3a"
                          ],
                          [
                            0.8888888888888888,
                            "#fdca26"
                          ],
                          [
                            1,
                            "#f0f921"
                          ]
                        ],
                        "type": "surface"
                      }
                    ],
                    "table": [
                      {
                        "cells": {
                          "fill": {
                            "color": "#506784"
                          },
                          "line": {
                            "color": "rgb(17,17,17)"
                          }
                        },
                        "header": {
                          "fill": {
                            "color": "#2a3f5f"
                          },
                          "line": {
                            "color": "rgb(17,17,17)"
                          }
                        },
                        "type": "table"
                      }
                    ]
                  },
                  "layout": {
                    "annotationdefaults": {
                      "arrowcolor": "#f2f5fa",
                      "arrowhead": 0,
                      "arrowwidth": 1
                    },
                    "autotypenumbers": "strict",
                    "coloraxis": {
                      "colorbar": {
                        "outlinewidth": 0,
                        "ticks": ""
                      }
                    },
                    "colorscale": {
                      "diverging": [
                        [
                          0,
                          "#8e0152"
                        ],
                        [
                          0.1,
                          "#c51b7d"
                        ],
                        [
                          0.2,
                          "#de77ae"
                        ],
                        [
                          0.3,
                          "#f1b6da"
                        ],
                        [
                          0.4,
                          "#fde0ef"
                        ],
                        [
                          0.5,
                          "#f7f7f7"
                        ],
                        [
                          0.6,
                          "#e6f5d0"
                        ],
                        [
                          0.7,
                          "#b8e186"
                        ],
                        [
                          0.8,
                          "#7fbc41"
                        ],
                        [
                          0.9,
                          "#4d9221"
                        ],
                        [
                          1,
                          "#276419"
                        ]
                      ],
                      "sequential": [
                        [
                          0,
                          "#0d0887"
                        ],
                        [
                          0.1111111111111111,
                          "#46039f"
                        ],
                        [
                          0.2222222222222222,
                          "#7201a8"
                        ],
                        [
                          0.3333333333333333,
                          "#9c179e"
                        ],
                        [
                          0.4444444444444444,
                          "#bd3786"
                        ],
                        [
                          0.5555555555555556,
                          "#d8576b"
                        ],
                        [
                          0.6666666666666666,
                          "#ed7953"
                        ],
                        [
                          0.7777777777777778,
                          "#fb9f3a"
                        ],
                        [
                          0.8888888888888888,
                          "#fdca26"
                        ],
                        [
                          1,
                          "#f0f921"
                        ]
                      ],
                      "sequentialminus": [
                        [
                          0,
                          "#0d0887"
                        ],
                        [
                          0.1111111111111111,
                          "#46039f"
                        ],
                        [
                          0.2222222222222222,
                          "#7201a8"
                        ],
                        [
                          0.3333333333333333,
                          "#9c179e"
                        ],
                        [
                          0.4444444444444444,
                          "#bd3786"
                        ],
                        [
                          0.5555555555555556,
                          "#d8576b"
                        ],
                        [
                          0.6666666666666666,
                          "#ed7953"
                        ],
                        [
                          0.7777777777777778,
                          "#fb9f3a"
                        ],
                        [
                          0.8888888888888888,
                          "#fdca26"
                        ],
                        [
                          1,
                          "#f0f921"
                        ]
                      ]
                    },
                    "colorway": [
                      "#636efa",
                      "#EF553B",
                      "#00cc96",
                      "#ab63fa",
                      "#FFA15A",
                      "#19d3f3",
                      "#FF6692",
                      "#B6E880",
                      "#FF97FF",
                      "#FECB52"
                    ],
                    "font": {
                      "color": "#f2f5fa"
                    },
                    "geo": {
                      "bgcolor": "rgb(17,17,17)",
                      "lakecolor": "rgb(17,17,17)",
                      "landcolor": "rgb(17,17,17)",
                      "showlakes": true,
                      "showland": true,
                      "subunitcolor": "#506784"
                    },
                    "hoverlabel": {
                      "align": "left"
                    },
                    "hovermode": "closest",
                    "mapbox": {
                      "style": "dark"
                    },
                    "paper_bgcolor": "rgb(17,17,17)",
                    "plot_bgcolor": "rgb(17,17,17)",
                    "polar": {
                      "angularaxis": {
                        "gridcolor": "#506784",
                        "linecolor": "#506784",
                        "ticks": ""
                      },
                      "bgcolor": "rgb(17,17,17)",
                      "radialaxis": {
                        "gridcolor": "#506784",
                        "linecolor": "#506784",
                        "ticks": ""
                      }
                    },
                    "scene": {
                      "xaxis": {
                        "backgroundcolor": "rgb(17,17,17)",
                        "gridcolor": "#506784",
                        "gridwidth": 2,
                        "linecolor": "#506784",
                        "showbackground": true,
                        "ticks": "",
                        "zerolinecolor": "#C8D4E3"
                      },
                      "yaxis": {
                        "backgroundcolor": "rgb(17,17,17)",
                        "gridcolor": "#506784",
                        "gridwidth": 2,
                        "linecolor": "#506784",
                        "showbackground": true,
                        "ticks": "",
                        "zerolinecolor": "#C8D4E3"
                      },
                      "zaxis": {
                        "backgroundcolor": "rgb(17,17,17)",
                        "gridcolor": "#506784",
                        "gridwidth": 2,
                        "linecolor": "#506784",
                        "showbackground": true,
                        "ticks": "",
                        "zerolinecolor": "#C8D4E3"
                      }
                    },
                    "shapedefaults": {
                      "line": {
                        "color": "#f2f5fa"
                      }
                    },
                    "sliderdefaults": {
                      "bgcolor": "#C8D4E3",
                      "bordercolor": "rgb(17,17,17)",
                      "borderwidth": 1,
                      "tickwidth": 0
                    },
                    "ternary": {
                      "aaxis": {
                        "gridcolor": "#506784",
                        "linecolor": "#506784",
                        "ticks": ""
                      },
                      "baxis": {
                        "gridcolor": "#506784",
                        "linecolor": "#506784",
                        "ticks": ""
                      },
                      "bgcolor": "rgb(17,17,17)",
                      "caxis": {
                        "gridcolor": "#506784",
                        "linecolor": "#506784",
                        "ticks": ""
                      }
                    },
                    "title": {
                      "x": 0.05
                    },
                    "updatemenudefaults": {
                      "bgcolor": "#506784",
                      "borderwidth": 0
                    },
                    "xaxis": {
                      "automargin": true,
                      "gridcolor": "#283442",
                      "linecolor": "#506784",
                      "ticks": "",
                      "title": {
                        "standoff": 15
                      },
                      "zerolinecolor": "#283442",
                      "zerolinewidth": 2
                    },
                    "yaxis": {
                      "automargin": true,
                      "gridcolor": "#283442",
                      "linecolor": "#506784",
                      "ticks": "",
                      "title": {
                        "standoff": 15
                      },
                      "zerolinecolor": "#283442",
                      "zerolinewidth": 2
                    }
                  }
                },
                "title": {
                  "font": {
                    "size": 25
                  },
                  "text": "Feature Importance",
                  "x": 0.5,
                  "xanchor": "center",
                  "y": 0.9,
                  "yanchor": "top"
                },
                "updatemenus": [
                  {
                    "active": 0,
                    "buttons": [
                      {
                        "args": [
                          {
                            "visible": [
                              true,
                              false
                            ]
                          }
                        ],
                        "label": "MAE",
                        "method": "update"
                      },
                      {
                        "args": [
                          {
                            "visible": [
                              false,
                              true
                            ]
                          }
                        ],
                        "label": "MSE",
                        "method": "update"
                      }
                    ],
                    "direction": "left",
                    "font": {
                      "color": "black"
                    },
                    "type": "buttons",
                    "x": 1,
                    "xanchor": "left",
                    "y": 1,
                    "yanchor": "bottom"
                  }
                ],
                "xaxis": {
                  "gridcolor": "DarkGrey",
                  "gridwidth": 0.1,
                  "showgrid": true
                },
                "yaxis": {
                  "tickmode": "linear"
                }
              }
            }
          },
          "metadata": {},
          "output_type": "display_data"
        }
      ],
      "source": [
        "lstm_idf = get_importance_df(lstm_model, dsets[cc], timesteps)\n",
        "figi = plot_importance(lstm_idf)\n",
        "#fig.update_layout(width=750, height=500)\n",
        "figi.show()"
      ]
    },
    {
      "cell_type": "code",
      "execution_count": null,
      "metadata": {
        "id": "j68jrl_Zu2dn"
      },
      "outputs": [],
      "source": [
        "model_name = 'BTC_LSTM_VGC_1D'\n",
        "save_model(full_path=model_name + '.json', model=lstm_model)\n",
        "preds_df = get_test_df(lstm_model, X_test, y_test, scaler, test_dates)\n",
        "preds_df['Ticker'] = cc\n",
        "preds_df['Model'] = model_name\n",
        "preds_df.to_csv('predictions.csv', index=False)\n",
        "imp_df = get_importance_df(lstm_model, dsets[cc], timesteps)\n",
        "imp_df['Model'] = model_name\n",
        "imp_df['Ticker'] = cc\n",
        "imp_df.to_csv('ft_importance.csv', index=False)"
      ]
    },
    {
      "cell_type": "markdown",
      "metadata": {
        "id": "-8Fo2jQ4R3_M"
      },
      "source": [
        "### BLSTM"
      ]
    },
    {
      "cell_type": "code",
      "execution_count": null,
      "metadata": {
        "colab": {
          "base_uri": "https://localhost:8080/"
        },
        "id": "ubXZbg8SR3_M",
        "outputId": "6792b3ca-88e5-4a87-9722-976b2ba5b058"
      },
      "outputs": [
        {
          "name": "stdout",
          "output_type": "stream",
          "text": [
            "WARNING:tensorflow:Layer lstm_2 will not use cuDNN kernels since it doesn't meet the criteria. It will use a generic GPU kernel as fallback when running on GPU.\n",
            "WARNING:tensorflow:Layer lstm_2 will not use cuDNN kernels since it doesn't meet the criteria. It will use a generic GPU kernel as fallback when running on GPU.\n",
            "WARNING:tensorflow:Layer lstm_2 will not use cuDNN kernels since it doesn't meet the criteria. It will use a generic GPU kernel as fallback when running on GPU.\n",
            "WARNING:tensorflow:Layer lstm_3 will not use cuDNN kernels since it doesn't meet the criteria. It will use a generic GPU kernel as fallback when running on GPU.\n",
            "WARNING:tensorflow:Layer lstm_3 will not use cuDNN kernels since it doesn't meet the criteria. It will use a generic GPU kernel as fallback when running on GPU.\n",
            "WARNING:tensorflow:Layer lstm_3 will not use cuDNN kernels since it doesn't meet the criteria. It will use a generic GPU kernel as fallback when running on GPU.\n",
            "Epoch 1/30\n"
          ]
        }
      ],
      "source": [
        "blstm_model = train_model(\n",
        "    prep_dsets=prep_dsets, \n",
        "    coin_name=cc, \n",
        "    model_builder=build_BLSTM, \n",
        "    model_kwargs=dict(\n",
        "        num_rnns=2,\n",
        "        dim_rnn=25, \n",
        "        dense_units=50, \n",
        "        drop=False,\n",
        "        drop_rate=0.2\n",
        "    ),\n",
        "    n_epochs=30,\n",
        "    early_stop=True,\n",
        "    patience=15\n",
        ")"
      ]
    },
    {
      "cell_type": "code",
      "execution_count": 18,
      "metadata": {
        "id": "1Q8E5kHNHuX2"
      },
      "outputs": [],
      "source": [
        "model_name = 'BTC_BLSTM_VGC_1D'\n",
        "save_model(full_path=model_name + '.json', model=blstm_model)\n",
        "preds_df = get_test_df(blstm_model, X_test, y_test, scaler, test_dates)\n",
        "preds_df['Ticker'] = cc\n",
        "preds_df['Model'] = model_name\n",
        "preds_df.to_csv('blstm_predictions.csv', index=False)\n",
        "imp_df = get_importance_df(blstm_model, dsets[cc], timesteps)\n",
        "imp_df['Model'] = model_name\n",
        "imp_df['Ticker'] = cc\n",
        "imp_df.to_csv('blstm_ft_importance.csv', index=False)"
      ]
    },
    {
      "cell_type": "code",
      "execution_count": null,
      "metadata": {
        "id": "pXcG27cSGQyf"
      },
      "outputs": [],
      "source": [
        "# This is what we would call in the dashboard\n",
        "test_df = get_test_df(blstm_model, X_test, y_test, scaler, test_dates)\n",
        "test_fig = plot_model_test(test_df)\n",
        "#test_fig.update_layout(width=750, height=500)\n",
        "test_fig.show()"
      ]
    },
    {
      "cell_type": "code",
      "execution_count": 16,
      "metadata": {
        "colab": {
          "base_uri": "https://localhost:8080/",
          "height": 542
        },
        "id": "PluDGMcBGt0f",
        "outputId": "51e1030e-8349-4d09-fb19-eeed16d830a1"
      },
      "outputs": [
        {
          "data": {
            "text/html": [
              "<html>\n",
              "<head><meta charset=\"utf-8\" /></head>\n",
              "<body>\n",
              "    <div>            <script src=\"https://cdnjs.cloudflare.com/ajax/libs/mathjax/2.7.5/MathJax.js?config=TeX-AMS-MML_SVG\"></script><script type=\"text/javascript\">if (window.MathJax) {MathJax.Hub.Config({SVG: {font: \"STIX-Web\"}});}</script>                <script type=\"text/javascript\">window.PlotlyConfig = {MathJaxConfig: 'local'};</script>\n",
              "        <script src=\"https://cdn.plot.ly/plotly-2.8.3.min.js\"></script>                <div id=\"818124a2-01ff-4ec0-9ccb-d6720a38bba9\" class=\"plotly-graph-div\" style=\"height:525px; width:100%;\"></div>            <script type=\"text/javascript\">                                    window.PLOTLYENV=window.PLOTLYENV || {};                                    if (document.getElementById(\"818124a2-01ff-4ec0-9ccb-d6720a38bba9\")) {                    Plotly.newPlot(                        \"818124a2-01ff-4ec0-9ccb-d6720a38bba9\",                        [{\"name\":\"mae\",\"orientation\":\"h\",\"visible\":false,\"x\":[1.0514504288967885e-05,1.071389407327622e-05,1.1135780648006965e-05,1.2157142978821978e-05,1.2934371216653806e-05,1.4113808331418787e-05,1.637739677951694e-05,1.7119597082268512e-05,2.2425467505332586e-05,2.3077612053855334e-05,2.3649081791914106e-05,2.8871836727610567e-05,4.294857586899237e-05,5.5584588639953636e-05,5.624490241481345e-05,6.043971973720974e-05,6.84956165209194e-05,7.136813573348916e-05,0.00025679637088045493,0.00048107902673055064],\"y\":[\"TYX(t-52)\",\"Close_t(t-54)\",\"TYX(t-55)\",\"TYX(t-58)\",\"Volume(t-54)\",\"Gtrend(t-55)\",\"Gtrend(t-56)\",\"Volume(t-57)\",\"Gtrend(t-60)\",\"Volume(t-22)\",\"Close_t(t-57)\",\"Close_t(t-56)\",\"Close_t(t-59)\",\"TYX(t-60)\",\"Volume(t-59)\",\"Volume(t-56)\",\"TYX(t-57)\",\"Gtrend(t-58)\",\"Close_t(t-17)\",\"Gtrend(t-16)\"],\"type\":\"bar\",\"marker\":{\"color\":\"rgba(50, 171, 96, 0.6)\"}},{\"name\":\"mse\",\"orientation\":\"h\",\"visible\":true,\"x\":[8.72977421886769e-07,8.868949686912427e-07,9.337925373957903e-07,1.1112151536529606e-06,1.1504984664112688e-06,1.2102956636595406e-06,1.2231474479599408e-06,1.3293691641009815e-06,1.3738190077004601e-06,1.4043281501481021e-06,1.6279859946632252e-06,2.4163048280873446e-06,4.186910630091072e-06,4.243246185034726e-06,5.89724775216789e-06,6.950251791036947e-06,6.993418927445745e-06,7.575162771820227e-06,1.3740000635863473e-05,3.588350616266973e-05],\"y\":[\"Close_t(t-60)\",\"Gtrend(t-49)\",\"TYX(t-17)\",\"Gtrend(t-60)\",\"Gtrend(t-56)\",\"Close_t(t-54)\",\"Volume(t-54)\",\"Gtrend(t-55)\",\"TYX(t-58)\",\"Volume(t-57)\",\"Close_t(t-57)\",\"Close_t(t-56)\",\"Volume(t-56)\",\"Volume(t-59)\",\"Gtrend(t-58)\",\"TYX(t-57)\",\"Close_t(t-59)\",\"TYX(t-60)\",\"Close_t(t-17)\",\"Gtrend(t-16)\"],\"type\":\"bar\",\"marker\":{\"color\":\"rgba(50, 171, 96, 0.6)\"}}],                        {\"template\":{\"data\":{\"barpolar\":[{\"marker\":{\"line\":{\"color\":\"rgb(17,17,17)\",\"width\":0.5},\"pattern\":{\"fillmode\":\"overlay\",\"size\":10,\"solidity\":0.2}},\"type\":\"barpolar\"}],\"bar\":[{\"error_x\":{\"color\":\"#f2f5fa\"},\"error_y\":{\"color\":\"#f2f5fa\"},\"marker\":{\"line\":{\"color\":\"rgb(17,17,17)\",\"width\":0.5},\"pattern\":{\"fillmode\":\"overlay\",\"size\":10,\"solidity\":0.2}},\"type\":\"bar\"}],\"carpet\":[{\"aaxis\":{\"endlinecolor\":\"#A2B1C6\",\"gridcolor\":\"#506784\",\"linecolor\":\"#506784\",\"minorgridcolor\":\"#506784\",\"startlinecolor\":\"#A2B1C6\"},\"baxis\":{\"endlinecolor\":\"#A2B1C6\",\"gridcolor\":\"#506784\",\"linecolor\":\"#506784\",\"minorgridcolor\":\"#506784\",\"startlinecolor\":\"#A2B1C6\"},\"type\":\"carpet\"}],\"choropleth\":[{\"colorbar\":{\"outlinewidth\":0,\"ticks\":\"\"},\"type\":\"choropleth\"}],\"contourcarpet\":[{\"colorbar\":{\"outlinewidth\":0,\"ticks\":\"\"},\"type\":\"contourcarpet\"}],\"contour\":[{\"colorbar\":{\"outlinewidth\":0,\"ticks\":\"\"},\"colorscale\":[[0.0,\"#0d0887\"],[0.1111111111111111,\"#46039f\"],[0.2222222222222222,\"#7201a8\"],[0.3333333333333333,\"#9c179e\"],[0.4444444444444444,\"#bd3786\"],[0.5555555555555556,\"#d8576b\"],[0.6666666666666666,\"#ed7953\"],[0.7777777777777778,\"#fb9f3a\"],[0.8888888888888888,\"#fdca26\"],[1.0,\"#f0f921\"]],\"type\":\"contour\"}],\"heatmapgl\":[{\"colorbar\":{\"outlinewidth\":0,\"ticks\":\"\"},\"colorscale\":[[0.0,\"#0d0887\"],[0.1111111111111111,\"#46039f\"],[0.2222222222222222,\"#7201a8\"],[0.3333333333333333,\"#9c179e\"],[0.4444444444444444,\"#bd3786\"],[0.5555555555555556,\"#d8576b\"],[0.6666666666666666,\"#ed7953\"],[0.7777777777777778,\"#fb9f3a\"],[0.8888888888888888,\"#fdca26\"],[1.0,\"#f0f921\"]],\"type\":\"heatmapgl\"}],\"heatmap\":[{\"colorbar\":{\"outlinewidth\":0,\"ticks\":\"\"},\"colorscale\":[[0.0,\"#0d0887\"],[0.1111111111111111,\"#46039f\"],[0.2222222222222222,\"#7201a8\"],[0.3333333333333333,\"#9c179e\"],[0.4444444444444444,\"#bd3786\"],[0.5555555555555556,\"#d8576b\"],[0.6666666666666666,\"#ed7953\"],[0.7777777777777778,\"#fb9f3a\"],[0.8888888888888888,\"#fdca26\"],[1.0,\"#f0f921\"]],\"type\":\"heatmap\"}],\"histogram2dcontour\":[{\"colorbar\":{\"outlinewidth\":0,\"ticks\":\"\"},\"colorscale\":[[0.0,\"#0d0887\"],[0.1111111111111111,\"#46039f\"],[0.2222222222222222,\"#7201a8\"],[0.3333333333333333,\"#9c179e\"],[0.4444444444444444,\"#bd3786\"],[0.5555555555555556,\"#d8576b\"],[0.6666666666666666,\"#ed7953\"],[0.7777777777777778,\"#fb9f3a\"],[0.8888888888888888,\"#fdca26\"],[1.0,\"#f0f921\"]],\"type\":\"histogram2dcontour\"}],\"histogram2d\":[{\"colorbar\":{\"outlinewidth\":0,\"ticks\":\"\"},\"colorscale\":[[0.0,\"#0d0887\"],[0.1111111111111111,\"#46039f\"],[0.2222222222222222,\"#7201a8\"],[0.3333333333333333,\"#9c179e\"],[0.4444444444444444,\"#bd3786\"],[0.5555555555555556,\"#d8576b\"],[0.6666666666666666,\"#ed7953\"],[0.7777777777777778,\"#fb9f3a\"],[0.8888888888888888,\"#fdca26\"],[1.0,\"#f0f921\"]],\"type\":\"histogram2d\"}],\"histogram\":[{\"marker\":{\"pattern\":{\"fillmode\":\"overlay\",\"size\":10,\"solidity\":0.2}},\"type\":\"histogram\"}],\"mesh3d\":[{\"colorbar\":{\"outlinewidth\":0,\"ticks\":\"\"},\"type\":\"mesh3d\"}],\"parcoords\":[{\"line\":{\"colorbar\":{\"outlinewidth\":0,\"ticks\":\"\"}},\"type\":\"parcoords\"}],\"pie\":[{\"automargin\":true,\"type\":\"pie\"}],\"scatter3d\":[{\"line\":{\"colorbar\":{\"outlinewidth\":0,\"ticks\":\"\"}},\"marker\":{\"colorbar\":{\"outlinewidth\":0,\"ticks\":\"\"}},\"type\":\"scatter3d\"}],\"scattercarpet\":[{\"marker\":{\"colorbar\":{\"outlinewidth\":0,\"ticks\":\"\"}},\"type\":\"scattercarpet\"}],\"scattergeo\":[{\"marker\":{\"colorbar\":{\"outlinewidth\":0,\"ticks\":\"\"}},\"type\":\"scattergeo\"}],\"scattergl\":[{\"marker\":{\"line\":{\"color\":\"#283442\"}},\"type\":\"scattergl\"}],\"scattermapbox\":[{\"marker\":{\"colorbar\":{\"outlinewidth\":0,\"ticks\":\"\"}},\"type\":\"scattermapbox\"}],\"scatterpolargl\":[{\"marker\":{\"colorbar\":{\"outlinewidth\":0,\"ticks\":\"\"}},\"type\":\"scatterpolargl\"}],\"scatterpolar\":[{\"marker\":{\"colorbar\":{\"outlinewidth\":0,\"ticks\":\"\"}},\"type\":\"scatterpolar\"}],\"scatter\":[{\"marker\":{\"line\":{\"color\":\"#283442\"}},\"type\":\"scatter\"}],\"scatterternary\":[{\"marker\":{\"colorbar\":{\"outlinewidth\":0,\"ticks\":\"\"}},\"type\":\"scatterternary\"}],\"surface\":[{\"colorbar\":{\"outlinewidth\":0,\"ticks\":\"\"},\"colorscale\":[[0.0,\"#0d0887\"],[0.1111111111111111,\"#46039f\"],[0.2222222222222222,\"#7201a8\"],[0.3333333333333333,\"#9c179e\"],[0.4444444444444444,\"#bd3786\"],[0.5555555555555556,\"#d8576b\"],[0.6666666666666666,\"#ed7953\"],[0.7777777777777778,\"#fb9f3a\"],[0.8888888888888888,\"#fdca26\"],[1.0,\"#f0f921\"]],\"type\":\"surface\"}],\"table\":[{\"cells\":{\"fill\":{\"color\":\"#506784\"},\"line\":{\"color\":\"rgb(17,17,17)\"}},\"header\":{\"fill\":{\"color\":\"#2a3f5f\"},\"line\":{\"color\":\"rgb(17,17,17)\"}},\"type\":\"table\"}]},\"layout\":{\"annotationdefaults\":{\"arrowcolor\":\"#f2f5fa\",\"arrowhead\":0,\"arrowwidth\":1},\"autotypenumbers\":\"strict\",\"coloraxis\":{\"colorbar\":{\"outlinewidth\":0,\"ticks\":\"\"}},\"colorscale\":{\"diverging\":[[0,\"#8e0152\"],[0.1,\"#c51b7d\"],[0.2,\"#de77ae\"],[0.3,\"#f1b6da\"],[0.4,\"#fde0ef\"],[0.5,\"#f7f7f7\"],[0.6,\"#e6f5d0\"],[0.7,\"#b8e186\"],[0.8,\"#7fbc41\"],[0.9,\"#4d9221\"],[1,\"#276419\"]],\"sequential\":[[0.0,\"#0d0887\"],[0.1111111111111111,\"#46039f\"],[0.2222222222222222,\"#7201a8\"],[0.3333333333333333,\"#9c179e\"],[0.4444444444444444,\"#bd3786\"],[0.5555555555555556,\"#d8576b\"],[0.6666666666666666,\"#ed7953\"],[0.7777777777777778,\"#fb9f3a\"],[0.8888888888888888,\"#fdca26\"],[1.0,\"#f0f921\"]],\"sequentialminus\":[[0.0,\"#0d0887\"],[0.1111111111111111,\"#46039f\"],[0.2222222222222222,\"#7201a8\"],[0.3333333333333333,\"#9c179e\"],[0.4444444444444444,\"#bd3786\"],[0.5555555555555556,\"#d8576b\"],[0.6666666666666666,\"#ed7953\"],[0.7777777777777778,\"#fb9f3a\"],[0.8888888888888888,\"#fdca26\"],[1.0,\"#f0f921\"]]},\"colorway\":[\"#636efa\",\"#EF553B\",\"#00cc96\",\"#ab63fa\",\"#FFA15A\",\"#19d3f3\",\"#FF6692\",\"#B6E880\",\"#FF97FF\",\"#FECB52\"],\"font\":{\"color\":\"#f2f5fa\"},\"geo\":{\"bgcolor\":\"rgb(17,17,17)\",\"lakecolor\":\"rgb(17,17,17)\",\"landcolor\":\"rgb(17,17,17)\",\"showlakes\":true,\"showland\":true,\"subunitcolor\":\"#506784\"},\"hoverlabel\":{\"align\":\"left\"},\"hovermode\":\"closest\",\"mapbox\":{\"style\":\"dark\"},\"paper_bgcolor\":\"rgb(17,17,17)\",\"plot_bgcolor\":\"rgb(17,17,17)\",\"polar\":{\"angularaxis\":{\"gridcolor\":\"#506784\",\"linecolor\":\"#506784\",\"ticks\":\"\"},\"bgcolor\":\"rgb(17,17,17)\",\"radialaxis\":{\"gridcolor\":\"#506784\",\"linecolor\":\"#506784\",\"ticks\":\"\"}},\"scene\":{\"xaxis\":{\"backgroundcolor\":\"rgb(17,17,17)\",\"gridcolor\":\"#506784\",\"gridwidth\":2,\"linecolor\":\"#506784\",\"showbackground\":true,\"ticks\":\"\",\"zerolinecolor\":\"#C8D4E3\"},\"yaxis\":{\"backgroundcolor\":\"rgb(17,17,17)\",\"gridcolor\":\"#506784\",\"gridwidth\":2,\"linecolor\":\"#506784\",\"showbackground\":true,\"ticks\":\"\",\"zerolinecolor\":\"#C8D4E3\"},\"zaxis\":{\"backgroundcolor\":\"rgb(17,17,17)\",\"gridcolor\":\"#506784\",\"gridwidth\":2,\"linecolor\":\"#506784\",\"showbackground\":true,\"ticks\":\"\",\"zerolinecolor\":\"#C8D4E3\"}},\"shapedefaults\":{\"line\":{\"color\":\"#f2f5fa\"}},\"sliderdefaults\":{\"bgcolor\":\"#C8D4E3\",\"bordercolor\":\"rgb(17,17,17)\",\"borderwidth\":1,\"tickwidth\":0},\"ternary\":{\"aaxis\":{\"gridcolor\":\"#506784\",\"linecolor\":\"#506784\",\"ticks\":\"\"},\"baxis\":{\"gridcolor\":\"#506784\",\"linecolor\":\"#506784\",\"ticks\":\"\"},\"bgcolor\":\"rgb(17,17,17)\",\"caxis\":{\"gridcolor\":\"#506784\",\"linecolor\":\"#506784\",\"ticks\":\"\"}},\"title\":{\"x\":0.05},\"updatemenudefaults\":{\"bgcolor\":\"#506784\",\"borderwidth\":0},\"xaxis\":{\"automargin\":true,\"gridcolor\":\"#283442\",\"linecolor\":\"#506784\",\"ticks\":\"\",\"title\":{\"standoff\":15},\"zerolinecolor\":\"#283442\",\"zerolinewidth\":2},\"yaxis\":{\"automargin\":true,\"gridcolor\":\"#283442\",\"linecolor\":\"#506784\",\"ticks\":\"\",\"title\":{\"standoff\":15},\"zerolinecolor\":\"#283442\",\"zerolinewidth\":2}}},\"xaxis\":{\"showgrid\":true,\"gridwidth\":0.1,\"gridcolor\":\"DarkGrey\"},\"updatemenus\":[{\"active\":0,\"buttons\":[{\"args\":[{\"visible\":[true,false]}],\"label\":\"MAE\",\"method\":\"update\"},{\"args\":[{\"visible\":[false,true]}],\"label\":\"MSE\",\"method\":\"update\"}],\"direction\":\"left\",\"type\":\"buttons\",\"x\":1,\"xanchor\":\"left\",\"y\":1,\"yanchor\":\"bottom\",\"font\":{\"color\":\"black\"}}],\"autosize\":true,\"title\":{\"font\":{\"size\":25},\"text\":\"Feature Importance\",\"y\":0.9,\"x\":0.5,\"xanchor\":\"center\",\"yanchor\":\"top\"},\"yaxis\":{\"tickmode\":\"linear\"}},                        {\"responsive\": true}                    ).then(function(){\n",
              "                            \n",
              "var gd = document.getElementById('818124a2-01ff-4ec0-9ccb-d6720a38bba9');\n",
              "var x = new MutationObserver(function (mutations, observer) {{\n",
              "        var display = window.getComputedStyle(gd).display;\n",
              "        if (!display || display === 'none') {{\n",
              "            console.log([gd, 'removed!']);\n",
              "            Plotly.purge(gd);\n",
              "            observer.disconnect();\n",
              "        }}\n",
              "}});\n",
              "\n",
              "// Listen for the removal of the full notebook cells\n",
              "var notebookContainer = gd.closest('#notebook-container');\n",
              "if (notebookContainer) {{\n",
              "    x.observe(notebookContainer, {childList: true});\n",
              "}}\n",
              "\n",
              "// Listen for the clearing of the current output cell\n",
              "var outputEl = gd.closest('.output');\n",
              "if (outputEl) {{\n",
              "    x.observe(outputEl, {childList: true});\n",
              "}}\n",
              "\n",
              "                        })                };                            </script>        </div>\n",
              "</body>\n",
              "</html>"
            ]
          },
          "metadata": {},
          "output_type": "display_data"
        }
      ],
      "source": [
        "blstm_idf = get_importance_df(blstm_model, dsets[cc], timesteps)\n",
        "figi = plot_importance(blstm_idf)\n",
        "#fig.update_layout(width=750, height=500)\n",
        "figi.show()"
      ]
    },
    {
      "cell_type": "markdown",
      "metadata": {
        "id": "bMMHYyE5R3_M"
      },
      "source": [
        "### BLSTM with Attenttion"
      ]
    },
    {
      "cell_type": "code",
      "execution_count": null,
      "metadata": {
        "id": "ZfO3CvqrR3_N"
      },
      "outputs": [],
      "source": [
        "ablstm_model = train_model(\n",
        "    prep_dsets=prep_dsets, \n",
        "    coin_name=cc', \n",
        "    model_builder=build_AttentiveBLSTM,\n",
        "    model_kwargs=dict(\n",
        "        num_rnns=4,\n",
        "        dim_rnn=50, \n",
        "        drop=True, \n",
        "        drop_rate=0.5,\n",
        "        suffix='4RNN_d50'\n",
        "    ),\n",
        "    n_epochs=300,\n",
        "    early_stop=True,\n",
        "    patience=50    \n",
        ")"
      ]
    },
    {
      "cell_type": "markdown",
      "metadata": {
        "id": "3VFraahPR3_N"
      },
      "source": [
        "# Prediction and Validation"
      ]
    },
    {
      "cell_type": "code",
      "execution_count": null,
      "metadata": {
        "id": "pC3Sg56FR3_N",
        "outputId": "02cb247c-a3fe-4c0b-fce2-14efdf976951"
      },
      "outputs": [
        {
          "name": "stdout",
          "output_type": "stream",
          "text": [
            "12/12 [==============================] - 1s 14ms/step\n"
          ]
        },
        {
          "data": {
            "application/vnd.plotly.v1+json": {
              "config": {
                "plotlyServerURL": "https://plot.ly"
              },
              "data": [
                {
                  "hovertemplate": "%{y:$,.2f}",
                  "legendgroup": "Observed",
                  "line": {
                    "color": "#636efa",
                    "dash": "solid"
                  },
                  "marker": {
                    "symbol": "circle"
                  },
                  "mode": "lines",
                  "name": "Observed",
                  "orientation": "v",
                  "showlegend": true,
                  "type": "scatter",
                  "x": [
                    "2021-06-23T00:00:00",
                    "2021-06-24T00:00:00",
                    "2021-06-25T00:00:00",
                    "2021-06-26T00:00:00",
                    "2021-06-27T00:00:00",
                    "2021-06-28T00:00:00",
                    "2021-06-29T00:00:00",
                    "2021-06-30T00:00:00",
                    "2021-07-01T00:00:00",
                    "2021-07-02T00:00:00",
                    "2021-07-03T00:00:00",
                    "2021-07-04T00:00:00",
                    "2021-07-05T00:00:00",
                    "2021-07-06T00:00:00",
                    "2021-07-07T00:00:00",
                    "2021-07-08T00:00:00",
                    "2021-07-09T00:00:00",
                    "2021-07-10T00:00:00",
                    "2021-07-11T00:00:00",
                    "2021-07-12T00:00:00",
                    "2021-07-13T00:00:00",
                    "2021-07-14T00:00:00",
                    "2021-07-15T00:00:00",
                    "2021-07-16T00:00:00",
                    "2021-07-17T00:00:00",
                    "2021-07-18T00:00:00",
                    "2021-07-19T00:00:00",
                    "2021-07-20T00:00:00",
                    "2021-07-21T00:00:00",
                    "2021-07-22T00:00:00",
                    "2021-07-23T00:00:00",
                    "2021-07-24T00:00:00",
                    "2021-07-25T00:00:00",
                    "2021-07-26T00:00:00",
                    "2021-07-27T00:00:00",
                    "2021-07-28T00:00:00",
                    "2021-07-29T00:00:00",
                    "2021-07-30T00:00:00",
                    "2021-07-31T00:00:00",
                    "2021-08-01T00:00:00",
                    "2021-08-02T00:00:00",
                    "2021-08-03T00:00:00",
                    "2021-08-04T00:00:00",
                    "2021-08-05T00:00:00",
                    "2021-08-06T00:00:00",
                    "2021-08-07T00:00:00",
                    "2021-08-08T00:00:00",
                    "2021-08-09T00:00:00",
                    "2021-08-10T00:00:00",
                    "2021-08-11T00:00:00",
                    "2021-08-12T00:00:00",
                    "2021-08-13T00:00:00",
                    "2021-08-14T00:00:00",
                    "2021-08-15T00:00:00",
                    "2021-08-16T00:00:00",
                    "2021-08-17T00:00:00",
                    "2021-08-18T00:00:00",
                    "2021-08-19T00:00:00",
                    "2021-08-20T00:00:00",
                    "2021-08-21T00:00:00",
                    "2021-08-22T00:00:00",
                    "2021-08-23T00:00:00",
                    "2021-08-24T00:00:00",
                    "2021-08-25T00:00:00",
                    "2021-08-26T00:00:00",
                    "2021-08-27T00:00:00",
                    "2021-08-28T00:00:00",
                    "2021-08-29T00:00:00",
                    "2021-08-30T00:00:00",
                    "2021-08-31T00:00:00",
                    "2021-09-01T00:00:00",
                    "2021-09-02T00:00:00",
                    "2021-09-03T00:00:00",
                    "2021-09-04T00:00:00",
                    "2021-09-05T00:00:00",
                    "2021-09-06T00:00:00",
                    "2021-09-07T00:00:00",
                    "2021-09-08T00:00:00",
                    "2021-09-09T00:00:00",
                    "2021-09-10T00:00:00",
                    "2021-09-11T00:00:00",
                    "2021-09-12T00:00:00",
                    "2021-09-13T00:00:00",
                    "2021-09-14T00:00:00",
                    "2021-09-15T00:00:00",
                    "2021-09-16T00:00:00",
                    "2021-09-17T00:00:00",
                    "2021-09-18T00:00:00",
                    "2021-09-19T00:00:00",
                    "2021-09-20T00:00:00",
                    "2021-09-21T00:00:00",
                    "2021-09-22T00:00:00",
                    "2021-09-23T00:00:00",
                    "2021-09-24T00:00:00",
                    "2021-09-25T00:00:00",
                    "2021-09-26T00:00:00",
                    "2021-09-27T00:00:00",
                    "2021-09-28T00:00:00",
                    "2021-09-29T00:00:00",
                    "2021-09-30T00:00:00",
                    "2021-10-01T00:00:00",
                    "2021-10-02T00:00:00",
                    "2021-10-03T00:00:00",
                    "2021-10-04T00:00:00",
                    "2021-10-05T00:00:00",
                    "2021-10-06T00:00:00",
                    "2021-10-07T00:00:00",
                    "2021-10-08T00:00:00",
                    "2021-10-09T00:00:00",
                    "2021-10-10T00:00:00",
                    "2021-10-11T00:00:00",
                    "2021-10-12T00:00:00",
                    "2021-10-13T00:00:00",
                    "2021-10-14T00:00:00",
                    "2021-10-15T00:00:00",
                    "2021-10-16T00:00:00",
                    "2021-10-17T00:00:00",
                    "2021-10-18T00:00:00",
                    "2021-10-19T00:00:00",
                    "2021-10-20T00:00:00",
                    "2021-10-21T00:00:00",
                    "2021-10-22T00:00:00",
                    "2021-10-23T00:00:00",
                    "2021-10-24T00:00:00",
                    "2021-10-25T00:00:00",
                    "2021-10-26T00:00:00",
                    "2021-10-27T00:00:00",
                    "2021-10-28T00:00:00",
                    "2021-10-29T00:00:00",
                    "2021-10-30T00:00:00",
                    "2021-10-31T00:00:00",
                    "2021-11-01T00:00:00",
                    "2021-11-02T00:00:00",
                    "2021-11-03T00:00:00",
                    "2021-11-04T00:00:00",
                    "2021-11-05T00:00:00",
                    "2021-11-06T00:00:00",
                    "2021-11-07T00:00:00",
                    "2021-11-08T00:00:00",
                    "2021-11-09T00:00:00",
                    "2021-11-10T00:00:00",
                    "2021-11-11T00:00:00",
                    "2021-11-12T00:00:00",
                    "2021-11-13T00:00:00",
                    "2021-11-14T00:00:00",
                    "2021-11-15T00:00:00",
                    "2021-11-16T00:00:00",
                    "2021-11-17T00:00:00",
                    "2021-11-18T00:00:00",
                    "2021-11-19T00:00:00",
                    "2021-11-20T00:00:00",
                    "2021-11-21T00:00:00",
                    "2021-11-22T00:00:00",
                    "2021-11-23T00:00:00",
                    "2021-11-24T00:00:00",
                    "2021-11-25T00:00:00",
                    "2021-11-26T00:00:00",
                    "2021-11-27T00:00:00",
                    "2021-11-28T00:00:00",
                    "2021-11-29T00:00:00",
                    "2021-11-30T00:00:00",
                    "2021-12-01T00:00:00",
                    "2021-12-02T00:00:00",
                    "2021-12-03T00:00:00",
                    "2021-12-04T00:00:00",
                    "2021-12-05T00:00:00",
                    "2021-12-06T00:00:00",
                    "2021-12-07T00:00:00",
                    "2021-12-08T00:00:00",
                    "2021-12-09T00:00:00",
                    "2021-12-10T00:00:00",
                    "2021-12-11T00:00:00",
                    "2021-12-12T00:00:00",
                    "2021-12-13T00:00:00",
                    "2021-12-14T00:00:00",
                    "2021-12-15T00:00:00",
                    "2021-12-16T00:00:00",
                    "2021-12-17T00:00:00",
                    "2021-12-18T00:00:00",
                    "2021-12-19T00:00:00",
                    "2021-12-20T00:00:00",
                    "2021-12-21T00:00:00",
                    "2021-12-22T00:00:00",
                    "2021-12-23T00:00:00",
                    "2021-12-24T00:00:00",
                    "2021-12-25T00:00:00",
                    "2021-12-26T00:00:00",
                    "2021-12-27T00:00:00",
                    "2021-12-28T00:00:00",
                    "2021-12-29T00:00:00",
                    "2021-12-30T00:00:00",
                    "2021-12-31T00:00:00",
                    "2022-01-01T00:00:00",
                    "2022-01-02T00:00:00",
                    "2022-01-03T00:00:00",
                    "2022-01-04T00:00:00",
                    "2022-01-05T00:00:00",
                    "2022-01-06T00:00:00",
                    "2022-01-07T00:00:00",
                    "2022-01-08T00:00:00",
                    "2022-01-09T00:00:00",
                    "2022-01-10T00:00:00",
                    "2022-01-11T00:00:00",
                    "2022-01-12T00:00:00",
                    "2022-01-13T00:00:00",
                    "2022-01-14T00:00:00",
                    "2022-01-15T00:00:00",
                    "2022-01-16T00:00:00",
                    "2022-01-17T00:00:00",
                    "2022-01-18T00:00:00",
                    "2022-01-19T00:00:00",
                    "2022-01-20T00:00:00",
                    "2022-01-21T00:00:00",
                    "2022-01-22T00:00:00",
                    "2022-01-23T00:00:00",
                    "2022-01-24T00:00:00",
                    "2022-01-25T00:00:00",
                    "2022-01-26T00:00:00",
                    "2022-01-27T00:00:00",
                    "2022-01-28T00:00:00",
                    "2022-01-29T00:00:00",
                    "2022-01-30T00:00:00",
                    "2022-01-31T00:00:00",
                    "2022-02-01T00:00:00",
                    "2022-02-02T00:00:00",
                    "2022-02-03T00:00:00",
                    "2022-02-04T00:00:00",
                    "2022-02-05T00:00:00",
                    "2022-02-06T00:00:00",
                    "2022-02-07T00:00:00",
                    "2022-02-08T00:00:00",
                    "2022-02-09T00:00:00",
                    "2022-02-10T00:00:00",
                    "2022-02-11T00:00:00",
                    "2022-02-12T00:00:00",
                    "2022-02-13T00:00:00",
                    "2022-02-14T00:00:00",
                    "2022-02-15T00:00:00",
                    "2022-02-16T00:00:00",
                    "2022-02-17T00:00:00",
                    "2022-02-18T00:00:00",
                    "2022-02-19T00:00:00",
                    "2022-02-20T00:00:00",
                    "2022-02-21T00:00:00",
                    "2022-02-22T00:00:00",
                    "2022-02-23T00:00:00",
                    "2022-02-24T00:00:00",
                    "2022-02-25T00:00:00",
                    "2022-02-26T00:00:00",
                    "2022-02-27T00:00:00",
                    "2022-02-28T00:00:00",
                    "2022-03-01T00:00:00",
                    "2022-03-02T00:00:00",
                    "2022-03-03T00:00:00",
                    "2022-03-04T00:00:00",
                    "2022-03-05T00:00:00",
                    "2022-03-06T00:00:00",
                    "2022-03-07T00:00:00",
                    "2022-03-08T00:00:00",
                    "2022-03-09T00:00:00",
                    "2022-03-10T00:00:00",
                    "2022-03-11T00:00:00",
                    "2022-03-12T00:00:00",
                    "2022-03-13T00:00:00",
                    "2022-03-14T00:00:00",
                    "2022-03-15T00:00:00",
                    "2022-03-16T00:00:00",
                    "2022-03-17T00:00:00",
                    "2022-03-18T00:00:00",
                    "2022-03-19T00:00:00",
                    "2022-03-20T00:00:00",
                    "2022-03-21T00:00:00",
                    "2022-03-22T00:00:00",
                    "2022-03-23T00:00:00",
                    "2022-03-24T00:00:00",
                    "2022-03-25T00:00:00",
                    "2022-03-26T00:00:00",
                    "2022-03-27T00:00:00",
                    "2022-03-28T00:00:00",
                    "2022-03-29T00:00:00",
                    "2022-03-30T00:00:00",
                    "2022-03-31T00:00:00",
                    "2022-04-01T00:00:00",
                    "2022-04-02T00:00:00",
                    "2022-04-03T00:00:00",
                    "2022-04-04T00:00:00",
                    "2022-04-05T00:00:00",
                    "2022-04-06T00:00:00",
                    "2022-04-07T00:00:00",
                    "2022-04-08T00:00:00",
                    "2022-04-09T00:00:00",
                    "2022-04-10T00:00:00",
                    "2022-04-11T00:00:00",
                    "2022-04-12T00:00:00",
                    "2022-04-13T00:00:00",
                    "2022-04-14T00:00:00",
                    "2022-04-15T00:00:00",
                    "2022-04-16T00:00:00",
                    "2022-04-17T00:00:00",
                    "2022-04-18T00:00:00",
                    "2022-04-19T00:00:00",
                    "2022-04-20T00:00:00",
                    "2022-04-21T00:00:00",
                    "2022-04-22T00:00:00",
                    "2022-04-23T00:00:00",
                    "2022-04-24T00:00:00",
                    "2022-04-25T00:00:00",
                    "2022-04-26T00:00:00",
                    "2022-04-27T00:00:00",
                    "2022-04-28T00:00:00",
                    "2022-04-29T00:00:00",
                    "2022-04-30T00:00:00",
                    "2022-05-01T00:00:00",
                    "2022-05-02T00:00:00",
                    "2022-05-03T00:00:00",
                    "2022-05-04T00:00:00",
                    "2022-05-05T00:00:00",
                    "2022-05-06T00:00:00",
                    "2022-05-07T00:00:00",
                    "2022-05-08T00:00:00",
                    "2022-05-09T00:00:00",
                    "2022-05-10T00:00:00",
                    "2022-05-11T00:00:00",
                    "2022-05-12T00:00:00",
                    "2022-05-13T00:00:00",
                    "2022-05-14T00:00:00",
                    "2022-05-15T00:00:00",
                    "2022-05-16T00:00:00",
                    "2022-05-17T00:00:00",
                    "2022-05-18T00:00:00",
                    "2022-05-19T00:00:00",
                    "2022-05-20T00:00:00",
                    "2022-05-21T00:00:00",
                    "2022-05-22T00:00:00",
                    "2022-05-23T00:00:00",
                    "2022-05-24T00:00:00",
                    "2022-05-25T00:00:00",
                    "2022-05-26T00:00:00",
                    "2022-05-27T00:00:00",
                    "2022-05-28T00:00:00",
                    "2022-05-29T00:00:00",
                    "2022-05-30T00:00:00",
                    "2022-05-31T00:00:00",
                    "2022-06-01T00:00:00",
                    "2022-06-02T00:00:00",
                    "2022-06-03T00:00:00",
                    "2022-06-04T00:00:00",
                    "2022-06-05T00:00:00",
                    "2022-06-06T00:00:00",
                    "2022-06-07T00:00:00",
                    "2022-06-08T00:00:00",
                    "2022-06-09T00:00:00",
                    "2022-06-10T00:00:00",
                    "2022-06-11T00:00:00",
                    "2022-06-12T00:00:00",
                    "2022-06-13T00:00:00",
                    "2022-06-14T00:00:00",
                    "2022-06-15T00:00:00",
                    "2022-06-16T00:00:00",
                    "2022-06-17T00:00:00",
                    "2022-06-18T00:00:00",
                    "2022-06-19T00:00:00",
                    "2022-06-20T00:00:00",
                    "2022-06-21T00:00:00",
                    "2022-06-22T00:00:00"
                  ],
                  "xaxis": "x",
                  "y": [
                    33723.02734375,
                    34662.4375,
                    31637.779296875,
                    32186.27734375,
                    34649.64453125,
                    34434.3359375,
                    35867.77734375,
                    35040.8359375,
                    33572.1171875,
                    33897.046875,
                    34668.546875,
                    35287.78125,
                    33746.00390625,
                    34235.1953125,
                    33855.328125,
                    32877.37109375,
                    33798.01171875,
                    33520.51953125,
                    34240.1875,
                    33155.84765625,
                    32702.025390625,
                    32822.34765625,
                    31780.73046875,
                    31421.5390625,
                    31533.068359375,
                    31796.810546875,
                    30817.83203125,
                    29807.34765625,
                    32110.693359375,
                    32313.10546875,
                    33581.55078125,
                    34292.4453125,
                    35350.1875,
                    37337.53515625,
                    39406.94140625,
                    39995.90625,
                    40008.421875,
                    42235.546875,
                    41626.1953125,
                    39974.89453125,
                    39201.9453125,
                    38152.98046875,
                    39747.50390625,
                    40869.5546875,
                    42816.5,
                    44555.80078125,
                    43798.1171875,
                    46365.40234375,
                    45585.03125,
                    45593.63671875,
                    44428.2890625,
                    47793.3203125,
                    47096.9453125,
                    47047.00390625,
                    46004.484375,
                    44695.359375,
                    44801.18750000001,
                    46717.578125,
                    49339.17578125,
                    48905.4921875,
                    49321.65234375,
                    49546.1484375,
                    47706.1171875,
                    48960.7890625,
                    46942.21875,
                    49058.66796875,
                    48902.40234375,
                    48829.83203125,
                    47054.984375,
                    47166.6875,
                    48847.02734375,
                    49327.72265625,
                    50025.375,
                    49944.62500000001,
                    51753.41015625,
                    52633.53515625,
                    46811.12890625,
                    46091.390625,
                    46391.421875,
                    44883.91015625,
                    45201.45703125,
                    46063.26953125,
                    44963.07421875,
                    47092.4921875,
                    48176.34765625,
                    47783.359375,
                    47267.51953125,
                    48278.36328125,
                    47260.21875,
                    42843.80078125,
                    40693.67578125,
                    43574.5078125,
                    44895.09765625,
                    42839.75,
                    42716.59375,
                    43208.5390625,
                    42235.73046875,
                    41034.54296874999,
                    41564.36328125,
                    43790.89453125,
                    48116.94140625,
                    47711.48828125,
                    48199.953125,
                    49112.90234375,
                    51514.8125,
                    55361.44921875,
                    53805.984375,
                    53967.84765625,
                    54968.22265625,
                    54771.578125,
                    57484.78906250001,
                    56041.05859375,
                    57401.09765625,
                    57321.5234375,
                    61593.94921875,
                    60892.1796875,
                    61553.6171875,
                    62026.078125,
                    64261.9921875,
                    65992.8359375,
                    62210.171875,
                    60692.265625,
                    61393.6171875,
                    60930.8359375,
                    63039.82421875,
                    60363.79296875,
                    58482.38671875,
                    60622.13671875,
                    62227.96484375,
                    61888.83203125,
                    61318.95703125,
                    61004.40625,
                    63226.40234375,
                    62970.046875,
                    61452.23046875,
                    61125.67578125,
                    61527.48046875,
                    63326.98828125,
                    67566.828125,
                    66971.828125,
                    64995.23046875,
                    64949.9609375,
                    64155.94140625,
                    64469.52734375,
                    65466.83984375,
                    63557.87109375,
                    60161.24609375,
                    60368.01171875,
                    56942.13671875,
                    58119.578125,
                    59697.19531250001,
                    58730.4765625,
                    56289.2890625,
                    57569.07421875,
                    56280.42578125,
                    57274.6796875,
                    53569.765625,
                    54815.078125,
                    57248.45703124999,
                    57806.56640625,
                    57005.42578125,
                    57229.828125,
                    56477.81640625,
                    53598.24609375,
                    49200.703125,
                    49368.84765625,
                    50582.625,
                    50700.0859375,
                    50504.796875,
                    47672.12109375,
                    47243.3046875,
                    49362.5078125,
                    50098.3359375,
                    46737.48046875,
                    46612.6328125,
                    48896.72265625,
                    47665.42578125,
                    46202.14453125,
                    46848.77734375,
                    46707.015625,
                    46880.27734375,
                    48936.61328125,
                    48628.51171875,
                    50784.5390625,
                    50822.1953125,
                    50429.85937500001,
                    50809.515625,
                    50640.41796875,
                    47588.85546875,
                    46444.7109375,
                    47178.125,
                    46306.4453125,
                    47686.8125,
                    47345.21875,
                    46458.1171875,
                    45897.57421875,
                    43569.00390625,
                    43160.9296875,
                    41557.90234375,
                    41733.94140625,
                    41911.6015625,
                    41821.26171875,
                    42735.85546875,
                    43949.1015625,
                    42591.5703125,
                    43099.69921875,
                    43177.3984375,
                    43113.87890625,
                    42250.55078125,
                    42375.6328125,
                    41744.328125,
                    40680.41796875,
                    36457.31640625,
                    35030.25,
                    36276.8046875,
                    36654.328125,
                    36954.00390625,
                    36852.12109375,
                    37138.234375,
                    37784.33203125,
                    38138.1796875,
                    37917.6015625,
                    38483.125,
                    38743.2734375,
                    36952.984375,
                    37154.6015625,
                    41500.875,
                    41441.1640625,
                    42412.43359375,
                    43840.28515625,
                    44118.4453125,
                    44338.796875,
                    43565.11328125,
                    42407.9375,
                    42244.46875,
                    42197.515625,
                    42586.91796875,
                    44575.203125,
                    43961.859375,
                    40538.01171875,
                    40030.9765625,
                    40122.15625,
                    38431.37890625,
                    37075.28125,
                    38286.02734375,
                    37296.5703125,
                    38332.609375,
                    39214.21875,
                    39105.1484375,
                    37709.78515625,
                    43193.234375,
                    44354.63671875,
                    43924.1171875,
                    42451.7890625,
                    39137.60546875,
                    39400.5859375,
                    38419.984375,
                    38062.0390625,
                    38737.26953125,
                    41982.92578125,
                    39437.4609375,
                    38794.97265625,
                    38904.01171875,
                    37849.6640625,
                    39666.75390625,
                    39338.78515625,
                    41143.9296875,
                    40951.37890625,
                    41801.15625,
                    42190.65234375,
                    41247.82421875,
                    41077.99609375,
                    42358.80859375,
                    42892.95703125,
                    43960.93359375,
                    44348.73046875,
                    44500.828125,
                    46820.4921875,
                    47128.00390625,
                    47465.73046875,
                    47062.6640625,
                    45538.67578125,
                    46281.64453125,
                    45868.94921875,
                    46453.56640625,
                    46622.67578125,
                    45555.9921875,
                    43206.73828125,
                    43503.84765625,
                    42287.6640625,
                    42782.13671875,
                    42207.671875,
                    39521.90234375,
                    40127.18359375,
                    41166.73046875,
                    39935.515625,
                    40553.46484375,
                    40424.484375,
                    39716.953125,
                    40826.21484375,
                    41502.75,
                    41374.37890625,
                    40527.36328125,
                    39740.3203125,
                    39486.73046875,
                    39469.29296875,
                    40458.30859375,
                    38117.4609375,
                    39241.12109375,
                    39773.828125,
                    38609.82421875,
                    37714.875,
                    38469.09375,
                    38529.328125,
                    37750.453125,
                    39698.37109375,
                    36575.140625,
                    36040.921875,
                    35501.953125,
                    34059.265625,
                    30296.953125,
                    31022.90625,
                    28936.35546875,
                    29047.751953125,
                    29283.103515625,
                    30101.265625,
                    31305.11328125,
                    29862.91796875,
                    30425.857421875,
                    28720.271484375,
                    30314.333984375,
                    29200.740234375,
                    29432.2265625,
                    30323.722656250004,
                    29098.91015625,
                    29655.5859375,
                    29562.361328125,
                    29267.224609375,
                    28627.57421875,
                    28814.900390625,
                    29445.95703125,
                    31726.390625,
                    31792.310546875,
                    29799.080078125,
                    30467.48828125,
                    29704.390625,
                    29832.9140625,
                    29906.662109375,
                    31370.671875,
                    31155.478515625,
                    30214.35546875,
                    30111.998046875,
                    29083.8046875,
                    28360.810546875,
                    26762.6484375,
                    22487.388671875,
                    22206.79296875,
                    22572.839843750004,
                    20381.650390625,
                    20471.482421875,
                    19017.642578125,
                    20553.271484375,
                    20599.537109375,
                    20710.59765625,
                    20435.345703125
                  ],
                  "yaxis": "y"
                },
                {
                  "hovertemplate": "%{y:$,.2f}",
                  "legendgroup": "Predicted",
                  "line": {
                    "color": "#EF553B",
                    "dash": "solid"
                  },
                  "marker": {
                    "symbol": "circle"
                  },
                  "mode": "lines",
                  "name": "Predicted",
                  "orientation": "v",
                  "showlegend": true,
                  "type": "scatter",
                  "x": [
                    "2021-06-23T00:00:00",
                    "2021-06-24T00:00:00",
                    "2021-06-25T00:00:00",
                    "2021-06-26T00:00:00",
                    "2021-06-27T00:00:00",
                    "2021-06-28T00:00:00",
                    "2021-06-29T00:00:00",
                    "2021-06-30T00:00:00",
                    "2021-07-01T00:00:00",
                    "2021-07-02T00:00:00",
                    "2021-07-03T00:00:00",
                    "2021-07-04T00:00:00",
                    "2021-07-05T00:00:00",
                    "2021-07-06T00:00:00",
                    "2021-07-07T00:00:00",
                    "2021-07-08T00:00:00",
                    "2021-07-09T00:00:00",
                    "2021-07-10T00:00:00",
                    "2021-07-11T00:00:00",
                    "2021-07-12T00:00:00",
                    "2021-07-13T00:00:00",
                    "2021-07-14T00:00:00",
                    "2021-07-15T00:00:00",
                    "2021-07-16T00:00:00",
                    "2021-07-17T00:00:00",
                    "2021-07-18T00:00:00",
                    "2021-07-19T00:00:00",
                    "2021-07-20T00:00:00",
                    "2021-07-21T00:00:00",
                    "2021-07-22T00:00:00",
                    "2021-07-23T00:00:00",
                    "2021-07-24T00:00:00",
                    "2021-07-25T00:00:00",
                    "2021-07-26T00:00:00",
                    "2021-07-27T00:00:00",
                    "2021-07-28T00:00:00",
                    "2021-07-29T00:00:00",
                    "2021-07-30T00:00:00",
                    "2021-07-31T00:00:00",
                    "2021-08-01T00:00:00",
                    "2021-08-02T00:00:00",
                    "2021-08-03T00:00:00",
                    "2021-08-04T00:00:00",
                    "2021-08-05T00:00:00",
                    "2021-08-06T00:00:00",
                    "2021-08-07T00:00:00",
                    "2021-08-08T00:00:00",
                    "2021-08-09T00:00:00",
                    "2021-08-10T00:00:00",
                    "2021-08-11T00:00:00",
                    "2021-08-12T00:00:00",
                    "2021-08-13T00:00:00",
                    "2021-08-14T00:00:00",
                    "2021-08-15T00:00:00",
                    "2021-08-16T00:00:00",
                    "2021-08-17T00:00:00",
                    "2021-08-18T00:00:00",
                    "2021-08-19T00:00:00",
                    "2021-08-20T00:00:00",
                    "2021-08-21T00:00:00",
                    "2021-08-22T00:00:00",
                    "2021-08-23T00:00:00",
                    "2021-08-24T00:00:00",
                    "2021-08-25T00:00:00",
                    "2021-08-26T00:00:00",
                    "2021-08-27T00:00:00",
                    "2021-08-28T00:00:00",
                    "2021-08-29T00:00:00",
                    "2021-08-30T00:00:00",
                    "2021-08-31T00:00:00",
                    "2021-09-01T00:00:00",
                    "2021-09-02T00:00:00",
                    "2021-09-03T00:00:00",
                    "2021-09-04T00:00:00",
                    "2021-09-05T00:00:00",
                    "2021-09-06T00:00:00",
                    "2021-09-07T00:00:00",
                    "2021-09-08T00:00:00",
                    "2021-09-09T00:00:00",
                    "2021-09-10T00:00:00",
                    "2021-09-11T00:00:00",
                    "2021-09-12T00:00:00",
                    "2021-09-13T00:00:00",
                    "2021-09-14T00:00:00",
                    "2021-09-15T00:00:00",
                    "2021-09-16T00:00:00",
                    "2021-09-17T00:00:00",
                    "2021-09-18T00:00:00",
                    "2021-09-19T00:00:00",
                    "2021-09-20T00:00:00",
                    "2021-09-21T00:00:00",
                    "2021-09-22T00:00:00",
                    "2021-09-23T00:00:00",
                    "2021-09-24T00:00:00",
                    "2021-09-25T00:00:00",
                    "2021-09-26T00:00:00",
                    "2021-09-27T00:00:00",
                    "2021-09-28T00:00:00",
                    "2021-09-29T00:00:00",
                    "2021-09-30T00:00:00",
                    "2021-10-01T00:00:00",
                    "2021-10-02T00:00:00",
                    "2021-10-03T00:00:00",
                    "2021-10-04T00:00:00",
                    "2021-10-05T00:00:00",
                    "2021-10-06T00:00:00",
                    "2021-10-07T00:00:00",
                    "2021-10-08T00:00:00",
                    "2021-10-09T00:00:00",
                    "2021-10-10T00:00:00",
                    "2021-10-11T00:00:00",
                    "2021-10-12T00:00:00",
                    "2021-10-13T00:00:00",
                    "2021-10-14T00:00:00",
                    "2021-10-15T00:00:00",
                    "2021-10-16T00:00:00",
                    "2021-10-17T00:00:00",
                    "2021-10-18T00:00:00",
                    "2021-10-19T00:00:00",
                    "2021-10-20T00:00:00",
                    "2021-10-21T00:00:00",
                    "2021-10-22T00:00:00",
                    "2021-10-23T00:00:00",
                    "2021-10-24T00:00:00",
                    "2021-10-25T00:00:00",
                    "2021-10-26T00:00:00",
                    "2021-10-27T00:00:00",
                    "2021-10-28T00:00:00",
                    "2021-10-29T00:00:00",
                    "2021-10-30T00:00:00",
                    "2021-10-31T00:00:00",
                    "2021-11-01T00:00:00",
                    "2021-11-02T00:00:00",
                    "2021-11-03T00:00:00",
                    "2021-11-04T00:00:00",
                    "2021-11-05T00:00:00",
                    "2021-11-06T00:00:00",
                    "2021-11-07T00:00:00",
                    "2021-11-08T00:00:00",
                    "2021-11-09T00:00:00",
                    "2021-11-10T00:00:00",
                    "2021-11-11T00:00:00",
                    "2021-11-12T00:00:00",
                    "2021-11-13T00:00:00",
                    "2021-11-14T00:00:00",
                    "2021-11-15T00:00:00",
                    "2021-11-16T00:00:00",
                    "2021-11-17T00:00:00",
                    "2021-11-18T00:00:00",
                    "2021-11-19T00:00:00",
                    "2021-11-20T00:00:00",
                    "2021-11-21T00:00:00",
                    "2021-11-22T00:00:00",
                    "2021-11-23T00:00:00",
                    "2021-11-24T00:00:00",
                    "2021-11-25T00:00:00",
                    "2021-11-26T00:00:00",
                    "2021-11-27T00:00:00",
                    "2021-11-28T00:00:00",
                    "2021-11-29T00:00:00",
                    "2021-11-30T00:00:00",
                    "2021-12-01T00:00:00",
                    "2021-12-02T00:00:00",
                    "2021-12-03T00:00:00",
                    "2021-12-04T00:00:00",
                    "2021-12-05T00:00:00",
                    "2021-12-06T00:00:00",
                    "2021-12-07T00:00:00",
                    "2021-12-08T00:00:00",
                    "2021-12-09T00:00:00",
                    "2021-12-10T00:00:00",
                    "2021-12-11T00:00:00",
                    "2021-12-12T00:00:00",
                    "2021-12-13T00:00:00",
                    "2021-12-14T00:00:00",
                    "2021-12-15T00:00:00",
                    "2021-12-16T00:00:00",
                    "2021-12-17T00:00:00",
                    "2021-12-18T00:00:00",
                    "2021-12-19T00:00:00",
                    "2021-12-20T00:00:00",
                    "2021-12-21T00:00:00",
                    "2021-12-22T00:00:00",
                    "2021-12-23T00:00:00",
                    "2021-12-24T00:00:00",
                    "2021-12-25T00:00:00",
                    "2021-12-26T00:00:00",
                    "2021-12-27T00:00:00",
                    "2021-12-28T00:00:00",
                    "2021-12-29T00:00:00",
                    "2021-12-30T00:00:00",
                    "2021-12-31T00:00:00",
                    "2022-01-01T00:00:00",
                    "2022-01-02T00:00:00",
                    "2022-01-03T00:00:00",
                    "2022-01-04T00:00:00",
                    "2022-01-05T00:00:00",
                    "2022-01-06T00:00:00",
                    "2022-01-07T00:00:00",
                    "2022-01-08T00:00:00",
                    "2022-01-09T00:00:00",
                    "2022-01-10T00:00:00",
                    "2022-01-11T00:00:00",
                    "2022-01-12T00:00:00",
                    "2022-01-13T00:00:00",
                    "2022-01-14T00:00:00",
                    "2022-01-15T00:00:00",
                    "2022-01-16T00:00:00",
                    "2022-01-17T00:00:00",
                    "2022-01-18T00:00:00",
                    "2022-01-19T00:00:00",
                    "2022-01-20T00:00:00",
                    "2022-01-21T00:00:00",
                    "2022-01-22T00:00:00",
                    "2022-01-23T00:00:00",
                    "2022-01-24T00:00:00",
                    "2022-01-25T00:00:00",
                    "2022-01-26T00:00:00",
                    "2022-01-27T00:00:00",
                    "2022-01-28T00:00:00",
                    "2022-01-29T00:00:00",
                    "2022-01-30T00:00:00",
                    "2022-01-31T00:00:00",
                    "2022-02-01T00:00:00",
                    "2022-02-02T00:00:00",
                    "2022-02-03T00:00:00",
                    "2022-02-04T00:00:00",
                    "2022-02-05T00:00:00",
                    "2022-02-06T00:00:00",
                    "2022-02-07T00:00:00",
                    "2022-02-08T00:00:00",
                    "2022-02-09T00:00:00",
                    "2022-02-10T00:00:00",
                    "2022-02-11T00:00:00",
                    "2022-02-12T00:00:00",
                    "2022-02-13T00:00:00",
                    "2022-02-14T00:00:00",
                    "2022-02-15T00:00:00",
                    "2022-02-16T00:00:00",
                    "2022-02-17T00:00:00",
                    "2022-02-18T00:00:00",
                    "2022-02-19T00:00:00",
                    "2022-02-20T00:00:00",
                    "2022-02-21T00:00:00",
                    "2022-02-22T00:00:00",
                    "2022-02-23T00:00:00",
                    "2022-02-24T00:00:00",
                    "2022-02-25T00:00:00",
                    "2022-02-26T00:00:00",
                    "2022-02-27T00:00:00",
                    "2022-02-28T00:00:00",
                    "2022-03-01T00:00:00",
                    "2022-03-02T00:00:00",
                    "2022-03-03T00:00:00",
                    "2022-03-04T00:00:00",
                    "2022-03-05T00:00:00",
                    "2022-03-06T00:00:00",
                    "2022-03-07T00:00:00",
                    "2022-03-08T00:00:00",
                    "2022-03-09T00:00:00",
                    "2022-03-10T00:00:00",
                    "2022-03-11T00:00:00",
                    "2022-03-12T00:00:00",
                    "2022-03-13T00:00:00",
                    "2022-03-14T00:00:00",
                    "2022-03-15T00:00:00",
                    "2022-03-16T00:00:00",
                    "2022-03-17T00:00:00",
                    "2022-03-18T00:00:00",
                    "2022-03-19T00:00:00",
                    "2022-03-20T00:00:00",
                    "2022-03-21T00:00:00",
                    "2022-03-22T00:00:00",
                    "2022-03-23T00:00:00",
                    "2022-03-24T00:00:00",
                    "2022-03-25T00:00:00",
                    "2022-03-26T00:00:00",
                    "2022-03-27T00:00:00",
                    "2022-03-28T00:00:00",
                    "2022-03-29T00:00:00",
                    "2022-03-30T00:00:00",
                    "2022-03-31T00:00:00",
                    "2022-04-01T00:00:00",
                    "2022-04-02T00:00:00",
                    "2022-04-03T00:00:00",
                    "2022-04-04T00:00:00",
                    "2022-04-05T00:00:00",
                    "2022-04-06T00:00:00",
                    "2022-04-07T00:00:00",
                    "2022-04-08T00:00:00",
                    "2022-04-09T00:00:00",
                    "2022-04-10T00:00:00",
                    "2022-04-11T00:00:00",
                    "2022-04-12T00:00:00",
                    "2022-04-13T00:00:00",
                    "2022-04-14T00:00:00",
                    "2022-04-15T00:00:00",
                    "2022-04-16T00:00:00",
                    "2022-04-17T00:00:00",
                    "2022-04-18T00:00:00",
                    "2022-04-19T00:00:00",
                    "2022-04-20T00:00:00",
                    "2022-04-21T00:00:00",
                    "2022-04-22T00:00:00",
                    "2022-04-23T00:00:00",
                    "2022-04-24T00:00:00",
                    "2022-04-25T00:00:00",
                    "2022-04-26T00:00:00",
                    "2022-04-27T00:00:00",
                    "2022-04-28T00:00:00",
                    "2022-04-29T00:00:00",
                    "2022-04-30T00:00:00",
                    "2022-05-01T00:00:00",
                    "2022-05-02T00:00:00",
                    "2022-05-03T00:00:00",
                    "2022-05-04T00:00:00",
                    "2022-05-05T00:00:00",
                    "2022-05-06T00:00:00",
                    "2022-05-07T00:00:00",
                    "2022-05-08T00:00:00",
                    "2022-05-09T00:00:00",
                    "2022-05-10T00:00:00",
                    "2022-05-11T00:00:00",
                    "2022-05-12T00:00:00",
                    "2022-05-13T00:00:00",
                    "2022-05-14T00:00:00",
                    "2022-05-15T00:00:00",
                    "2022-05-16T00:00:00",
                    "2022-05-17T00:00:00",
                    "2022-05-18T00:00:00",
                    "2022-05-19T00:00:00",
                    "2022-05-20T00:00:00",
                    "2022-05-21T00:00:00",
                    "2022-05-22T00:00:00",
                    "2022-05-23T00:00:00",
                    "2022-05-24T00:00:00",
                    "2022-05-25T00:00:00",
                    "2022-05-26T00:00:00",
                    "2022-05-27T00:00:00",
                    "2022-05-28T00:00:00",
                    "2022-05-29T00:00:00",
                    "2022-05-30T00:00:00",
                    "2022-05-31T00:00:00",
                    "2022-06-01T00:00:00",
                    "2022-06-02T00:00:00",
                    "2022-06-03T00:00:00",
                    "2022-06-04T00:00:00",
                    "2022-06-05T00:00:00",
                    "2022-06-06T00:00:00",
                    "2022-06-07T00:00:00",
                    "2022-06-08T00:00:00",
                    "2022-06-09T00:00:00",
                    "2022-06-10T00:00:00",
                    "2022-06-11T00:00:00",
                    "2022-06-12T00:00:00",
                    "2022-06-13T00:00:00",
                    "2022-06-14T00:00:00",
                    "2022-06-15T00:00:00",
                    "2022-06-16T00:00:00",
                    "2022-06-17T00:00:00",
                    "2022-06-18T00:00:00",
                    "2022-06-19T00:00:00",
                    "2022-06-20T00:00:00",
                    "2022-06-21T00:00:00",
                    "2022-06-22T00:00:00"
                  ],
                  "xaxis": "x",
                  "y": [
                    34095.69662545463,
                    33643.69147655962,
                    33756.89560617504,
                    33297.13022954335,
                    33020.47128237263,
                    33400.515582397726,
                    33735.98476476862,
                    34400.659115454844,
                    34773.30669737584,
                    34684.95176491002,
                    34586.89253109232,
                    34802.77708604256,
                    35228.65774156312,
                    35120.78173932488,
                    35143.33941995078,
                    35110.87258724082,
                    34767.13305864329,
                    34739.95217815976,
                    34759.5294814665,
                    35048.65018151149,
                    34937.6733015234,
                    34774.71655241496,
                    34547.271989480156,
                    33990.70058350998,
                    33434.83812174038,
                    33024.46185496911,
                    32902.9934041486,
                    32498.407183072166,
                    31797.685128543853,
                    32007.49244510609,
                    32456.97511831857,
                    33246.42967332887,
                    34165.18119047377,
                    35199.745671558616,
                    36366.98916019953,
                    38219.04864651716,
                    39854.950443574984,
                    41160.64892708324,
                    42708.02709107227,
                    43699.56488503733,
                    43723.8698219083,
                    43227.492397750764,
                    42383.045462852766,
                    42199.81250793957,
                    42361.785170197334,
                    43155.75849135866,
                    44428.608557459745,
                    45196.192284299104,
                    46532.20867616995,
                    47310.44865776367,
                    47800.37930887908,
                    47618.1746243078,
                    48557.89723307447,
                    49061.8099508314,
                    49350.08714786153,
                    49072.875907050126,
                    48330.82622147482,
                    47694.804864867096,
                    47875.6237944854,
                    49010.87843545809,
                    49644.44559996068,
                    50437.527217934876,
                    50886.45558916616,
                    50574.9740258654,
                    50713.76240525766,
                    50209.63278672547,
                    50448.139289197985,
                    50615.14083609671,
                    50791.878817795514,
                    50159.99464264162,
                    49638.31614471938,
                    49843.92602961245,
                    50156.524230237635,
                    50647.16181721311,
                    51061.46639802501,
                    52060.96525377792,
                    52987.53323219383,
                    51316.324808942685,
                    49798.18004944,
                    48953.88976510191,
                    47792.91229885708,
                    47106.96761381286,
                    47023.32424818718,
                    46542.41907933074,
                    47073.18732640833,
                    47993.16794794631,
                    48575.22921168928,
                    48833.57410173504,
                    49348.44030864204,
                    49415.82013280507,
                    47689.6313797093,
                    45435.33743905429,
                    44813.30216576911,
                    45000.69640222228,
                    44466.41355924946,
                    44132.583182735994,
                    44109.06551534556,
                    43782.99536656879,
                    43091.69644572074,
                    42695.90073106343,
                    43240.61087797231,
                    45138.279777307594,
                    46766.88326494639,
                    48192.36720992646,
                    49380.589823551185,
                    50958.06899512756,
                    53214.09010862253,
                    54544.56348068145,
                    55403.09691592757,
                    56317.23728325791,
                    56783.4614829748,
                    57817.79299656031,
                    58147.84769291202,
                    58628.274876726704,
                    58914.76866738257,
                    60184.521872414814,
                    61168.721190150616,
                    62066.83098351765,
                    62682.39136699353,
                    63687.055674542185,
                    64973.3857221569,
                    64567.55633830381,
                    63824.22934816314,
                    63567.45096371641,
                    63191.16426878845,
                    63500.82225890471,
                    62848.55342755842,
                    61553.61161583012,
                    61253.216092153205,
                    61809.341646529814,
                    62185.26282348467,
                    62193.29216884991,
                    62047.201463357604,
                    62701.06491707007,
                    63167.570284458576,
                    63023.568253098296,
                    62739.528654547576,
                    62629.47962787582,
                    63190.666200341584,
                    64794.16141490478,
                    65773.61301567125,
                    65615.9864022805,
                    65665.5442127439,
                    65426.28659092006,
                    65428.22263117321,
                    65835.85550480569,
                    65358.525182059835,
                    63614.02036349859,
                    62557.24765303685,
                    60658.40588284282,
                    59726.93353689765,
                    59769.711189794005,
                    59597.14653967824,
                    58486.907788117605,
                    58120.15267725754,
                    57600.35398605412,
                    57611.65290977219,
                    56436.1310415426,
                    56004.377998366224,
                    56535.40732971031,
                    57167.68513960447,
                    57273.95045275243,
                    57407.36852961676,
                    57299.60499444717,
                    56065.48376677112,
                    53317.81687936387,
                    51604.212387913576,
                    50740.083716002235,
                    50329.799832894496,
                    50173.699558292545,
                    49214.70491397689,
                    48330.364303157156,
                    48544.0798503549,
                    49124.44607470611,
                    48388.22860997638,
                    47689.08511109016,
                    47880.60447895408,
                    47875.74429491609,
                    47385.93012755035,
                    47266.582484310056,
                    47152.70154394224,
                    47072.16307274743,
                    47763.220992734095,
                    48356.37231278193,
                    49384.204836472,
                    50288.41596831317,
                    50773.14903418465,
                    51208.49299019571,
                    51374.50643356275,
                    50230.66412856259,
                    48941.61880457625,
                    48286.891764443804,
                    47473.7869915693,
                    47516.09870946697,
                    47487.89357532254,
                    47039.23833840083,
                    46439.82501263793,
                    45274.525597612206,
                    44310.939886887114,
                    42527.33267856569,
                    41933.13300477081,
                    41628.873433949644,
                    41342.01010863966,
                    41596.40660123967,
                    42197.28601557601,
                    42158.07919210923,
                    42548.02260251583,
                    42924.81941593373,
                    43193.63579340679,
                    43059.47864723421,
                    42913.404008465994,
                    42606.28857743738,
                    42000.32404492575,
                    39996.293432097955,
                    38026.79020934499,
                    36948.536288771546,
                    36244.99452416499,
                    36127.249536652926,
                    36161.849226986174,
                    36345.89355146605,
                    36813.01748773212,
                    37424.72989078784,
                    37892.96644769733,
                    38362.87796059345,
                    38772.09742323006,
                    38567.93756018634,
                    38340.36044677778,
                    39451.466801439405,
                    40552.15388552704,
                    41766.35237532836,
                    43051.943353634815,
                    44060.09414031154,
                    44904.70174245047,
                    45172.67863358969,
                    44827.09946508357,
                    44474.05730323648,
                    44172.14749081384,
                    43963.54116187752,
                    44458.58103125435,
                    44699.84297690873,
                    43732.78685377965,
                    42628.13530552219,
                    41867.53257030103,
                    40734.19790285739,
                    39461.9543555908,
                    38909.75309857379,
                    38374.72315293066,
                    38184.119588340014,
                    38577.70211175358,
                    39046.37648689457,
                    38984.88110043044,
                    40408.09160395141,
                    42190.67054193092,
                    43482.54762603858,
                    43993.57388588747,
                    43112.75590432502,
                    42394.9107385951,
                    41457.079986590325,
                    40447.748295692785,
                    40070.83499852522,
                    40798.035014358014,
                    40896.52001636417,
                    40720.86653854162,
                    40585.006319615226,
                    40151.50200351277,
                    40329.461056242595,
                    40472.90476894066,
                    40935.20467129795,
                    41407.1004246195,
                    41876.015800621884,
                    42468.319600973846,
                    42640.54283320264,
                    42770.161129819084,
                    43188.614942127875,
                    43557.64751112806,
                    44074.21679078887,
                    44768.55232249041,
                    45315.79699512488,
                    46293.513389689346,
                    47060.56289795263,
                    47734.86724139181,
                    48009.70864039956,
                    47679.858794780026,
                    47515.88582537274,
                    47334.31979308414,
                    47416.64970401526,
                    47517.69734851417,
                    47425.09276752588,
                    46672.55151111815,
                    46123.27439788598,
                    45494.04123220735,
                    44939.20503243917,
                    44392.908296526155,
                    43285.66197232775,
                    42537.281997459984,
                    42261.25969423143,
                    42034.9398019831,
                    42077.45637061294,
                    42054.252004342314,
                    41818.54512854292,
                    41929.0159067221,
                    42291.545469145836,
                    42415.37572840795,
                    42309.475933233094,
                    42155.6250000041,
                    41915.222624088674,
                    41739.29601195655,
                    41639.86708990995,
                    41001.479908179615,
                    40882.06799804295,
                    41012.37314711435,
                    40895.527896151456,
                    40601.430528318815,
                    40441.8116411406,
                    40565.477216480765,
                    40335.811428940164,
                    40584.72113526259,
                    40295.034083193335,
                    39945.08476573405,
                    39502.26576633895,
                    38612.90028755928,
                    36574.22981758799,
                    35103.99602932922,
                    33250.04870293072,
                    31678.526269311642,
                    31131.53464758163,
                    31180.708865007313,
                    31605.571291888507,
                    31622.2224430699,
                    31981.757569790887,
                    31608.54564418614,
                    31617.075066338755,
                    31390.741115706845,
                    31292.232013614554,
                    31401.34113692689,
                    31425.93326649101,
                    31355.52486483654,
                    31324.58035423434,
                    31275.12898581806,
                    31068.58120590609,
                    30930.092069250062,
                    31033.718422965827,
                    31548.34965403298,
                    32343.869397388215,
                    32582.566692209326,
                    32755.753927883674,
                    32688.63317964664,
                    32624.291974677613,
                    32400.237490526328,
                    32700.09277060563,
                    32803.60063223122,
                    32831.08276379148,
                    32720.995578650007,
                    32249.61797718044,
                    31657.55116100885,
                    30603.58611058228,
                    28524.746822039175,
                    27031.79468591357,
                    25937.05228974017,
                    24643.223098655275,
                    23620.521884972248,
                    22470.610374946144,
                    21887.05289752206,
                    21548.1173194282,
                    21484.872668378484
                  ],
                  "yaxis": "y"
                }
              ],
              "layout": {
                "height": 500,
                "hovermode": "x unified",
                "legend": {
                  "title": {
                    "text": ""
                  },
                  "tracegroupgap": 0,
                  "x": 0.99,
                  "xanchor": "right",
                  "y": 0.99,
                  "yanchor": "top"
                },
                "template": {
                  "data": {
                    "bar": [
                      {
                        "error_x": {
                          "color": "#f2f5fa"
                        },
                        "error_y": {
                          "color": "#f2f5fa"
                        },
                        "marker": {
                          "line": {
                            "color": "rgb(17,17,17)",
                            "width": 0.5
                          },
                          "pattern": {
                            "fillmode": "overlay",
                            "size": 10,
                            "solidity": 0.2
                          }
                        },
                        "type": "bar"
                      }
                    ],
                    "barpolar": [
                      {
                        "marker": {
                          "line": {
                            "color": "rgb(17,17,17)",
                            "width": 0.5
                          },
                          "pattern": {
                            "fillmode": "overlay",
                            "size": 10,
                            "solidity": 0.2
                          }
                        },
                        "type": "barpolar"
                      }
                    ],
                    "carpet": [
                      {
                        "aaxis": {
                          "endlinecolor": "#A2B1C6",
                          "gridcolor": "#506784",
                          "linecolor": "#506784",
                          "minorgridcolor": "#506784",
                          "startlinecolor": "#A2B1C6"
                        },
                        "baxis": {
                          "endlinecolor": "#A2B1C6",
                          "gridcolor": "#506784",
                          "linecolor": "#506784",
                          "minorgridcolor": "#506784",
                          "startlinecolor": "#A2B1C6"
                        },
                        "type": "carpet"
                      }
                    ],
                    "choropleth": [
                      {
                        "colorbar": {
                          "outlinewidth": 0,
                          "ticks": ""
                        },
                        "type": "choropleth"
                      }
                    ],
                    "contour": [
                      {
                        "colorbar": {
                          "outlinewidth": 0,
                          "ticks": ""
                        },
                        "colorscale": [
                          [
                            0,
                            "#0d0887"
                          ],
                          [
                            0.1111111111111111,
                            "#46039f"
                          ],
                          [
                            0.2222222222222222,
                            "#7201a8"
                          ],
                          [
                            0.3333333333333333,
                            "#9c179e"
                          ],
                          [
                            0.4444444444444444,
                            "#bd3786"
                          ],
                          [
                            0.5555555555555556,
                            "#d8576b"
                          ],
                          [
                            0.6666666666666666,
                            "#ed7953"
                          ],
                          [
                            0.7777777777777778,
                            "#fb9f3a"
                          ],
                          [
                            0.8888888888888888,
                            "#fdca26"
                          ],
                          [
                            1,
                            "#f0f921"
                          ]
                        ],
                        "type": "contour"
                      }
                    ],
                    "contourcarpet": [
                      {
                        "colorbar": {
                          "outlinewidth": 0,
                          "ticks": ""
                        },
                        "type": "contourcarpet"
                      }
                    ],
                    "heatmap": [
                      {
                        "colorbar": {
                          "outlinewidth": 0,
                          "ticks": ""
                        },
                        "colorscale": [
                          [
                            0,
                            "#0d0887"
                          ],
                          [
                            0.1111111111111111,
                            "#46039f"
                          ],
                          [
                            0.2222222222222222,
                            "#7201a8"
                          ],
                          [
                            0.3333333333333333,
                            "#9c179e"
                          ],
                          [
                            0.4444444444444444,
                            "#bd3786"
                          ],
                          [
                            0.5555555555555556,
                            "#d8576b"
                          ],
                          [
                            0.6666666666666666,
                            "#ed7953"
                          ],
                          [
                            0.7777777777777778,
                            "#fb9f3a"
                          ],
                          [
                            0.8888888888888888,
                            "#fdca26"
                          ],
                          [
                            1,
                            "#f0f921"
                          ]
                        ],
                        "type": "heatmap"
                      }
                    ],
                    "heatmapgl": [
                      {
                        "colorbar": {
                          "outlinewidth": 0,
                          "ticks": ""
                        },
                        "colorscale": [
                          [
                            0,
                            "#0d0887"
                          ],
                          [
                            0.1111111111111111,
                            "#46039f"
                          ],
                          [
                            0.2222222222222222,
                            "#7201a8"
                          ],
                          [
                            0.3333333333333333,
                            "#9c179e"
                          ],
                          [
                            0.4444444444444444,
                            "#bd3786"
                          ],
                          [
                            0.5555555555555556,
                            "#d8576b"
                          ],
                          [
                            0.6666666666666666,
                            "#ed7953"
                          ],
                          [
                            0.7777777777777778,
                            "#fb9f3a"
                          ],
                          [
                            0.8888888888888888,
                            "#fdca26"
                          ],
                          [
                            1,
                            "#f0f921"
                          ]
                        ],
                        "type": "heatmapgl"
                      }
                    ],
                    "histogram": [
                      {
                        "marker": {
                          "pattern": {
                            "fillmode": "overlay",
                            "size": 10,
                            "solidity": 0.2
                          }
                        },
                        "type": "histogram"
                      }
                    ],
                    "histogram2d": [
                      {
                        "colorbar": {
                          "outlinewidth": 0,
                          "ticks": ""
                        },
                        "colorscale": [
                          [
                            0,
                            "#0d0887"
                          ],
                          [
                            0.1111111111111111,
                            "#46039f"
                          ],
                          [
                            0.2222222222222222,
                            "#7201a8"
                          ],
                          [
                            0.3333333333333333,
                            "#9c179e"
                          ],
                          [
                            0.4444444444444444,
                            "#bd3786"
                          ],
                          [
                            0.5555555555555556,
                            "#d8576b"
                          ],
                          [
                            0.6666666666666666,
                            "#ed7953"
                          ],
                          [
                            0.7777777777777778,
                            "#fb9f3a"
                          ],
                          [
                            0.8888888888888888,
                            "#fdca26"
                          ],
                          [
                            1,
                            "#f0f921"
                          ]
                        ],
                        "type": "histogram2d"
                      }
                    ],
                    "histogram2dcontour": [
                      {
                        "colorbar": {
                          "outlinewidth": 0,
                          "ticks": ""
                        },
                        "colorscale": [
                          [
                            0,
                            "#0d0887"
                          ],
                          [
                            0.1111111111111111,
                            "#46039f"
                          ],
                          [
                            0.2222222222222222,
                            "#7201a8"
                          ],
                          [
                            0.3333333333333333,
                            "#9c179e"
                          ],
                          [
                            0.4444444444444444,
                            "#bd3786"
                          ],
                          [
                            0.5555555555555556,
                            "#d8576b"
                          ],
                          [
                            0.6666666666666666,
                            "#ed7953"
                          ],
                          [
                            0.7777777777777778,
                            "#fb9f3a"
                          ],
                          [
                            0.8888888888888888,
                            "#fdca26"
                          ],
                          [
                            1,
                            "#f0f921"
                          ]
                        ],
                        "type": "histogram2dcontour"
                      }
                    ],
                    "mesh3d": [
                      {
                        "colorbar": {
                          "outlinewidth": 0,
                          "ticks": ""
                        },
                        "type": "mesh3d"
                      }
                    ],
                    "parcoords": [
                      {
                        "line": {
                          "colorbar": {
                            "outlinewidth": 0,
                            "ticks": ""
                          }
                        },
                        "type": "parcoords"
                      }
                    ],
                    "pie": [
                      {
                        "automargin": true,
                        "type": "pie"
                      }
                    ],
                    "scatter": [
                      {
                        "marker": {
                          "line": {
                            "color": "#283442"
                          }
                        },
                        "type": "scatter"
                      }
                    ],
                    "scatter3d": [
                      {
                        "line": {
                          "colorbar": {
                            "outlinewidth": 0,
                            "ticks": ""
                          }
                        },
                        "marker": {
                          "colorbar": {
                            "outlinewidth": 0,
                            "ticks": ""
                          }
                        },
                        "type": "scatter3d"
                      }
                    ],
                    "scattercarpet": [
                      {
                        "marker": {
                          "colorbar": {
                            "outlinewidth": 0,
                            "ticks": ""
                          }
                        },
                        "type": "scattercarpet"
                      }
                    ],
                    "scattergeo": [
                      {
                        "marker": {
                          "colorbar": {
                            "outlinewidth": 0,
                            "ticks": ""
                          }
                        },
                        "type": "scattergeo"
                      }
                    ],
                    "scattergl": [
                      {
                        "marker": {
                          "line": {
                            "color": "#283442"
                          }
                        },
                        "type": "scattergl"
                      }
                    ],
                    "scattermapbox": [
                      {
                        "marker": {
                          "colorbar": {
                            "outlinewidth": 0,
                            "ticks": ""
                          }
                        },
                        "type": "scattermapbox"
                      }
                    ],
                    "scatterpolar": [
                      {
                        "marker": {
                          "colorbar": {
                            "outlinewidth": 0,
                            "ticks": ""
                          }
                        },
                        "type": "scatterpolar"
                      }
                    ],
                    "scatterpolargl": [
                      {
                        "marker": {
                          "colorbar": {
                            "outlinewidth": 0,
                            "ticks": ""
                          }
                        },
                        "type": "scatterpolargl"
                      }
                    ],
                    "scatterternary": [
                      {
                        "marker": {
                          "colorbar": {
                            "outlinewidth": 0,
                            "ticks": ""
                          }
                        },
                        "type": "scatterternary"
                      }
                    ],
                    "surface": [
                      {
                        "colorbar": {
                          "outlinewidth": 0,
                          "ticks": ""
                        },
                        "colorscale": [
                          [
                            0,
                            "#0d0887"
                          ],
                          [
                            0.1111111111111111,
                            "#46039f"
                          ],
                          [
                            0.2222222222222222,
                            "#7201a8"
                          ],
                          [
                            0.3333333333333333,
                            "#9c179e"
                          ],
                          [
                            0.4444444444444444,
                            "#bd3786"
                          ],
                          [
                            0.5555555555555556,
                            "#d8576b"
                          ],
                          [
                            0.6666666666666666,
                            "#ed7953"
                          ],
                          [
                            0.7777777777777778,
                            "#fb9f3a"
                          ],
                          [
                            0.8888888888888888,
                            "#fdca26"
                          ],
                          [
                            1,
                            "#f0f921"
                          ]
                        ],
                        "type": "surface"
                      }
                    ],
                    "table": [
                      {
                        "cells": {
                          "fill": {
                            "color": "#506784"
                          },
                          "line": {
                            "color": "rgb(17,17,17)"
                          }
                        },
                        "header": {
                          "fill": {
                            "color": "#2a3f5f"
                          },
                          "line": {
                            "color": "rgb(17,17,17)"
                          }
                        },
                        "type": "table"
                      }
                    ]
                  },
                  "layout": {
                    "annotationdefaults": {
                      "arrowcolor": "#f2f5fa",
                      "arrowhead": 0,
                      "arrowwidth": 1
                    },
                    "autotypenumbers": "strict",
                    "coloraxis": {
                      "colorbar": {
                        "outlinewidth": 0,
                        "ticks": ""
                      }
                    },
                    "colorscale": {
                      "diverging": [
                        [
                          0,
                          "#8e0152"
                        ],
                        [
                          0.1,
                          "#c51b7d"
                        ],
                        [
                          0.2,
                          "#de77ae"
                        ],
                        [
                          0.3,
                          "#f1b6da"
                        ],
                        [
                          0.4,
                          "#fde0ef"
                        ],
                        [
                          0.5,
                          "#f7f7f7"
                        ],
                        [
                          0.6,
                          "#e6f5d0"
                        ],
                        [
                          0.7,
                          "#b8e186"
                        ],
                        [
                          0.8,
                          "#7fbc41"
                        ],
                        [
                          0.9,
                          "#4d9221"
                        ],
                        [
                          1,
                          "#276419"
                        ]
                      ],
                      "sequential": [
                        [
                          0,
                          "#0d0887"
                        ],
                        [
                          0.1111111111111111,
                          "#46039f"
                        ],
                        [
                          0.2222222222222222,
                          "#7201a8"
                        ],
                        [
                          0.3333333333333333,
                          "#9c179e"
                        ],
                        [
                          0.4444444444444444,
                          "#bd3786"
                        ],
                        [
                          0.5555555555555556,
                          "#d8576b"
                        ],
                        [
                          0.6666666666666666,
                          "#ed7953"
                        ],
                        [
                          0.7777777777777778,
                          "#fb9f3a"
                        ],
                        [
                          0.8888888888888888,
                          "#fdca26"
                        ],
                        [
                          1,
                          "#f0f921"
                        ]
                      ],
                      "sequentialminus": [
                        [
                          0,
                          "#0d0887"
                        ],
                        [
                          0.1111111111111111,
                          "#46039f"
                        ],
                        [
                          0.2222222222222222,
                          "#7201a8"
                        ],
                        [
                          0.3333333333333333,
                          "#9c179e"
                        ],
                        [
                          0.4444444444444444,
                          "#bd3786"
                        ],
                        [
                          0.5555555555555556,
                          "#d8576b"
                        ],
                        [
                          0.6666666666666666,
                          "#ed7953"
                        ],
                        [
                          0.7777777777777778,
                          "#fb9f3a"
                        ],
                        [
                          0.8888888888888888,
                          "#fdca26"
                        ],
                        [
                          1,
                          "#f0f921"
                        ]
                      ]
                    },
                    "colorway": [
                      "#636efa",
                      "#EF553B",
                      "#00cc96",
                      "#ab63fa",
                      "#FFA15A",
                      "#19d3f3",
                      "#FF6692",
                      "#B6E880",
                      "#FF97FF",
                      "#FECB52"
                    ],
                    "font": {
                      "color": "#f2f5fa"
                    },
                    "geo": {
                      "bgcolor": "rgb(17,17,17)",
                      "lakecolor": "rgb(17,17,17)",
                      "landcolor": "rgb(17,17,17)",
                      "showlakes": true,
                      "showland": true,
                      "subunitcolor": "#506784"
                    },
                    "hoverlabel": {
                      "align": "left"
                    },
                    "hovermode": "closest",
                    "mapbox": {
                      "style": "dark"
                    },
                    "paper_bgcolor": "rgb(17,17,17)",
                    "plot_bgcolor": "rgb(17,17,17)",
                    "polar": {
                      "angularaxis": {
                        "gridcolor": "#506784",
                        "linecolor": "#506784",
                        "ticks": ""
                      },
                      "bgcolor": "rgb(17,17,17)",
                      "radialaxis": {
                        "gridcolor": "#506784",
                        "linecolor": "#506784",
                        "ticks": ""
                      }
                    },
                    "scene": {
                      "xaxis": {
                        "backgroundcolor": "rgb(17,17,17)",
                        "gridcolor": "#506784",
                        "gridwidth": 2,
                        "linecolor": "#506784",
                        "showbackground": true,
                        "ticks": "",
                        "zerolinecolor": "#C8D4E3"
                      },
                      "yaxis": {
                        "backgroundcolor": "rgb(17,17,17)",
                        "gridcolor": "#506784",
                        "gridwidth": 2,
                        "linecolor": "#506784",
                        "showbackground": true,
                        "ticks": "",
                        "zerolinecolor": "#C8D4E3"
                      },
                      "zaxis": {
                        "backgroundcolor": "rgb(17,17,17)",
                        "gridcolor": "#506784",
                        "gridwidth": 2,
                        "linecolor": "#506784",
                        "showbackground": true,
                        "ticks": "",
                        "zerolinecolor": "#C8D4E3"
                      }
                    },
                    "shapedefaults": {
                      "line": {
                        "color": "#f2f5fa"
                      }
                    },
                    "sliderdefaults": {
                      "bgcolor": "#C8D4E3",
                      "bordercolor": "rgb(17,17,17)",
                      "borderwidth": 1,
                      "tickwidth": 0
                    },
                    "ternary": {
                      "aaxis": {
                        "gridcolor": "#506784",
                        "linecolor": "#506784",
                        "ticks": ""
                      },
                      "baxis": {
                        "gridcolor": "#506784",
                        "linecolor": "#506784",
                        "ticks": ""
                      },
                      "bgcolor": "rgb(17,17,17)",
                      "caxis": {
                        "gridcolor": "#506784",
                        "linecolor": "#506784",
                        "ticks": ""
                      }
                    },
                    "title": {
                      "x": 0.05
                    },
                    "updatemenudefaults": {
                      "bgcolor": "#506784",
                      "borderwidth": 0
                    },
                    "xaxis": {
                      "automargin": true,
                      "gridcolor": "#283442",
                      "linecolor": "#506784",
                      "ticks": "",
                      "title": {
                        "standoff": 15
                      },
                      "zerolinecolor": "#283442",
                      "zerolinewidth": 2
                    },
                    "yaxis": {
                      "automargin": true,
                      "gridcolor": "#283442",
                      "linecolor": "#506784",
                      "ticks": "",
                      "title": {
                        "standoff": 15
                      },
                      "zerolinecolor": "#283442",
                      "zerolinewidth": 2
                    }
                  }
                },
                "title": {
                  "font": {
                    "size": 25
                  },
                  "text": "Model Performance",
                  "x": 0.5,
                  "xanchor": "center",
                  "y": 0.9,
                  "yanchor": "top"
                },
                "width": 750,
                "xaxis": {
                  "anchor": "y",
                  "domain": [
                    0,
                    1
                  ],
                  "rangeslider": {
                    "visible": true
                  },
                  "title": {
                    "text": "Date"
                  }
                },
                "yaxis": {
                  "anchor": "x",
                  "domain": [
                    0,
                    1
                  ],
                  "tickformat": "$",
                  "title": {
                    "text": "Close Price"
                  }
                }
              }
            }
          },
          "metadata": {},
          "output_type": "display_data"
        }
      ],
      "source": [
        "# This is what we would call in the dashboard\n",
        "model = load_model(model_name='blstm', coin_ticker='BTC')\n",
        "scaler = load_scaler(coin_ticker='BTC')\n",
        "test_df = get_test_df(model, X_test, y_test, scaler, test_dates)\n",
        "test_fig = plot_model_test(test_df)\n",
        "test_fig.update_layout(width=750, height=500)"
      ]
    },
    {
      "cell_type": "code",
      "execution_count": null,
      "metadata": {
        "id": "-sJ5noSBR3_N",
        "outputId": "557bdd05-67bf-4320-e12f-59497defeefa"
      },
      "outputs": [
        {
          "name": "stdout",
          "output_type": "stream",
          "text": [
            "Model: \"Attentive_BLSTM_60_lags_3_fts_4RNN_d50\"\n",
            "__________________________________________________________________________________________________\n",
            " Layer (type)                   Output Shape         Param #     Connected to                     \n",
            "==================================================================================================\n",
            " sequential_input (InputLayer)  [(None, 60, 3)]      0           []                               \n",
            "                                                                                                  \n",
            " bidirectional_12 (Bidirectiona  (None, 60, 100)     21600       ['sequential_input[0][0]']       \n",
            " l)                                                                                               \n",
            "                                                                                                  \n",
            " dropout_6 (Dropout)            (None, 60, 100)      0           ['bidirectional_12[0][0]']       \n",
            "                                                                                                  \n",
            " bidirectional_13 (Bidirectiona  (None, 60, 100)     60400       ['dropout_6[0][0]']              \n",
            " l)                                                                                               \n",
            "                                                                                                  \n",
            " bidirectional_14 (Bidirectiona  (None, 60, 100)     60400       ['bidirectional_13[0][0]']       \n",
            " l)                                                                                               \n",
            "                                                                                                  \n",
            " bidirectional_15 (Bidirectiona  (None, 60, 100)     60400       ['bidirectional_14[0][0]']       \n",
            " l)                                                                                               \n",
            "                                                                                                  \n",
            " dropout_7 (Dropout)            (None, 60, 100)      0           ['bidirectional_15[0][0]']       \n",
            "                                                                                                  \n",
            " dense_6 (Dense)                (None, 60, 1)        101         ['dropout_7[0][0]']              \n",
            "                                                                                                  \n",
            " flatten_3 (Flatten)            (None, 60)           0           ['dense_6[0][0]']                \n",
            "                                                                                                  \n",
            " activation_3 (Activation)      (None, 60)           0           ['flatten_3[0][0]']              \n",
            "                                                                                                  \n",
            " repeat_vector_3 (RepeatVector)  (None, 100, 60)     0           ['activation_3[0][0]']           \n",
            "                                                                                                  \n",
            " permute_3 (Permute)            (None, 60, 100)      0           ['repeat_vector_3[0][0]']        \n",
            "                                                                                                  \n",
            " multiply_3 (Multiply)          (None, 60, 100)      0           ['dropout_7[0][0]',              \n",
            "                                                                  'permute_3[0][0]']              \n",
            "                                                                                                  \n",
            " lambda_3 (Lambda)              (None, 100)          0           ['multiply_3[0][0]']             \n",
            "                                                                                                  \n",
            " dense_7 (Dense)                (None, 1)            101         ['lambda_3[0][0]']               \n",
            "                                                                                                  \n",
            "==================================================================================================\n",
            "Total params: 203,002\n",
            "Trainable params: 203,002\n",
            "Non-trainable params: 0\n",
            "__________________________________________________________________________________________________\n"
          ]
        },
        {
          "name": "stderr",
          "output_type": "stream",
          "text": [
            "c:\\Users\\Priscilla\\AppData\\Local\\Programs\\Python\\Python310\\lib\\site-packages\\keras\\optimizers\\optimizer_v2\\adam.py:110: UserWarning:\n",
            "\n",
            "The `lr` argument is deprecated, use `learning_rate` instead.\n",
            "\n"
          ]
        },
        {
          "name": "stdout",
          "output_type": "stream",
          "text": [
            "12/12 [==============================] - 4s 33ms/step\n"
          ]
        },
        {
          "data": {
            "application/vnd.plotly.v1+json": {
              "config": {
                "plotlyServerURL": "https://plot.ly"
              },
              "data": [
                {
                  "hovertemplate": "%{y:$,.2f}",
                  "legendgroup": "Observed",
                  "line": {
                    "color": "#636efa",
                    "dash": "solid"
                  },
                  "marker": {
                    "symbol": "circle"
                  },
                  "mode": "lines",
                  "name": "Observed",
                  "orientation": "v",
                  "showlegend": true,
                  "type": "scatter",
                  "x": [
                    "2021-06-23T00:00:00",
                    "2021-06-24T00:00:00",
                    "2021-06-25T00:00:00",
                    "2021-06-26T00:00:00",
                    "2021-06-27T00:00:00",
                    "2021-06-28T00:00:00",
                    "2021-06-29T00:00:00",
                    "2021-06-30T00:00:00",
                    "2021-07-01T00:00:00",
                    "2021-07-02T00:00:00",
                    "2021-07-03T00:00:00",
                    "2021-07-04T00:00:00",
                    "2021-07-05T00:00:00",
                    "2021-07-06T00:00:00",
                    "2021-07-07T00:00:00",
                    "2021-07-08T00:00:00",
                    "2021-07-09T00:00:00",
                    "2021-07-10T00:00:00",
                    "2021-07-11T00:00:00",
                    "2021-07-12T00:00:00",
                    "2021-07-13T00:00:00",
                    "2021-07-14T00:00:00",
                    "2021-07-15T00:00:00",
                    "2021-07-16T00:00:00",
                    "2021-07-17T00:00:00",
                    "2021-07-18T00:00:00",
                    "2021-07-19T00:00:00",
                    "2021-07-20T00:00:00",
                    "2021-07-21T00:00:00",
                    "2021-07-22T00:00:00",
                    "2021-07-23T00:00:00",
                    "2021-07-24T00:00:00",
                    "2021-07-25T00:00:00",
                    "2021-07-26T00:00:00",
                    "2021-07-27T00:00:00",
                    "2021-07-28T00:00:00",
                    "2021-07-29T00:00:00",
                    "2021-07-30T00:00:00",
                    "2021-07-31T00:00:00",
                    "2021-08-01T00:00:00",
                    "2021-08-02T00:00:00",
                    "2021-08-03T00:00:00",
                    "2021-08-04T00:00:00",
                    "2021-08-05T00:00:00",
                    "2021-08-06T00:00:00",
                    "2021-08-07T00:00:00",
                    "2021-08-08T00:00:00",
                    "2021-08-09T00:00:00",
                    "2021-08-10T00:00:00",
                    "2021-08-11T00:00:00",
                    "2021-08-12T00:00:00",
                    "2021-08-13T00:00:00",
                    "2021-08-14T00:00:00",
                    "2021-08-15T00:00:00",
                    "2021-08-16T00:00:00",
                    "2021-08-17T00:00:00",
                    "2021-08-18T00:00:00",
                    "2021-08-19T00:00:00",
                    "2021-08-20T00:00:00",
                    "2021-08-21T00:00:00",
                    "2021-08-22T00:00:00",
                    "2021-08-23T00:00:00",
                    "2021-08-24T00:00:00",
                    "2021-08-25T00:00:00",
                    "2021-08-26T00:00:00",
                    "2021-08-27T00:00:00",
                    "2021-08-28T00:00:00",
                    "2021-08-29T00:00:00",
                    "2021-08-30T00:00:00",
                    "2021-08-31T00:00:00",
                    "2021-09-01T00:00:00",
                    "2021-09-02T00:00:00",
                    "2021-09-03T00:00:00",
                    "2021-09-04T00:00:00",
                    "2021-09-05T00:00:00",
                    "2021-09-06T00:00:00",
                    "2021-09-07T00:00:00",
                    "2021-09-08T00:00:00",
                    "2021-09-09T00:00:00",
                    "2021-09-10T00:00:00",
                    "2021-09-11T00:00:00",
                    "2021-09-12T00:00:00",
                    "2021-09-13T00:00:00",
                    "2021-09-14T00:00:00",
                    "2021-09-15T00:00:00",
                    "2021-09-16T00:00:00",
                    "2021-09-17T00:00:00",
                    "2021-09-18T00:00:00",
                    "2021-09-19T00:00:00",
                    "2021-09-20T00:00:00",
                    "2021-09-21T00:00:00",
                    "2021-09-22T00:00:00",
                    "2021-09-23T00:00:00",
                    "2021-09-24T00:00:00",
                    "2021-09-25T00:00:00",
                    "2021-09-26T00:00:00",
                    "2021-09-27T00:00:00",
                    "2021-09-28T00:00:00",
                    "2021-09-29T00:00:00",
                    "2021-09-30T00:00:00",
                    "2021-10-01T00:00:00",
                    "2021-10-02T00:00:00",
                    "2021-10-03T00:00:00",
                    "2021-10-04T00:00:00",
                    "2021-10-05T00:00:00",
                    "2021-10-06T00:00:00",
                    "2021-10-07T00:00:00",
                    "2021-10-08T00:00:00",
                    "2021-10-09T00:00:00",
                    "2021-10-10T00:00:00",
                    "2021-10-11T00:00:00",
                    "2021-10-12T00:00:00",
                    "2021-10-13T00:00:00",
                    "2021-10-14T00:00:00",
                    "2021-10-15T00:00:00",
                    "2021-10-16T00:00:00",
                    "2021-10-17T00:00:00",
                    "2021-10-18T00:00:00",
                    "2021-10-19T00:00:00",
                    "2021-10-20T00:00:00",
                    "2021-10-21T00:00:00",
                    "2021-10-22T00:00:00",
                    "2021-10-23T00:00:00",
                    "2021-10-24T00:00:00",
                    "2021-10-25T00:00:00",
                    "2021-10-26T00:00:00",
                    "2021-10-27T00:00:00",
                    "2021-10-28T00:00:00",
                    "2021-10-29T00:00:00",
                    "2021-10-30T00:00:00",
                    "2021-10-31T00:00:00",
                    "2021-11-01T00:00:00",
                    "2021-11-02T00:00:00",
                    "2021-11-03T00:00:00",
                    "2021-11-04T00:00:00",
                    "2021-11-05T00:00:00",
                    "2021-11-06T00:00:00",
                    "2021-11-07T00:00:00",
                    "2021-11-08T00:00:00",
                    "2021-11-09T00:00:00",
                    "2021-11-10T00:00:00",
                    "2021-11-11T00:00:00",
                    "2021-11-12T00:00:00",
                    "2021-11-13T00:00:00",
                    "2021-11-14T00:00:00",
                    "2021-11-15T00:00:00",
                    "2021-11-16T00:00:00",
                    "2021-11-17T00:00:00",
                    "2021-11-18T00:00:00",
                    "2021-11-19T00:00:00",
                    "2021-11-20T00:00:00",
                    "2021-11-21T00:00:00",
                    "2021-11-22T00:00:00",
                    "2021-11-23T00:00:00",
                    "2021-11-24T00:00:00",
                    "2021-11-25T00:00:00",
                    "2021-11-26T00:00:00",
                    "2021-11-27T00:00:00",
                    "2021-11-28T00:00:00",
                    "2021-11-29T00:00:00",
                    "2021-11-30T00:00:00",
                    "2021-12-01T00:00:00",
                    "2021-12-02T00:00:00",
                    "2021-12-03T00:00:00",
                    "2021-12-04T00:00:00",
                    "2021-12-05T00:00:00",
                    "2021-12-06T00:00:00",
                    "2021-12-07T00:00:00",
                    "2021-12-08T00:00:00",
                    "2021-12-09T00:00:00",
                    "2021-12-10T00:00:00",
                    "2021-12-11T00:00:00",
                    "2021-12-12T00:00:00",
                    "2021-12-13T00:00:00",
                    "2021-12-14T00:00:00",
                    "2021-12-15T00:00:00",
                    "2021-12-16T00:00:00",
                    "2021-12-17T00:00:00",
                    "2021-12-18T00:00:00",
                    "2021-12-19T00:00:00",
                    "2021-12-20T00:00:00",
                    "2021-12-21T00:00:00",
                    "2021-12-22T00:00:00",
                    "2021-12-23T00:00:00",
                    "2021-12-24T00:00:00",
                    "2021-12-25T00:00:00",
                    "2021-12-26T00:00:00",
                    "2021-12-27T00:00:00",
                    "2021-12-28T00:00:00",
                    "2021-12-29T00:00:00",
                    "2021-12-30T00:00:00",
                    "2021-12-31T00:00:00",
                    "2022-01-01T00:00:00",
                    "2022-01-02T00:00:00",
                    "2022-01-03T00:00:00",
                    "2022-01-04T00:00:00",
                    "2022-01-05T00:00:00",
                    "2022-01-06T00:00:00",
                    "2022-01-07T00:00:00",
                    "2022-01-08T00:00:00",
                    "2022-01-09T00:00:00",
                    "2022-01-10T00:00:00",
                    "2022-01-11T00:00:00",
                    "2022-01-12T00:00:00",
                    "2022-01-13T00:00:00",
                    "2022-01-14T00:00:00",
                    "2022-01-15T00:00:00",
                    "2022-01-16T00:00:00",
                    "2022-01-17T00:00:00",
                    "2022-01-18T00:00:00",
                    "2022-01-19T00:00:00",
                    "2022-01-20T00:00:00",
                    "2022-01-21T00:00:00",
                    "2022-01-22T00:00:00",
                    "2022-01-23T00:00:00",
                    "2022-01-24T00:00:00",
                    "2022-01-25T00:00:00",
                    "2022-01-26T00:00:00",
                    "2022-01-27T00:00:00",
                    "2022-01-28T00:00:00",
                    "2022-01-29T00:00:00",
                    "2022-01-30T00:00:00",
                    "2022-01-31T00:00:00",
                    "2022-02-01T00:00:00",
                    "2022-02-02T00:00:00",
                    "2022-02-03T00:00:00",
                    "2022-02-04T00:00:00",
                    "2022-02-05T00:00:00",
                    "2022-02-06T00:00:00",
                    "2022-02-07T00:00:00",
                    "2022-02-08T00:00:00",
                    "2022-02-09T00:00:00",
                    "2022-02-10T00:00:00",
                    "2022-02-11T00:00:00",
                    "2022-02-12T00:00:00",
                    "2022-02-13T00:00:00",
                    "2022-02-14T00:00:00",
                    "2022-02-15T00:00:00",
                    "2022-02-16T00:00:00",
                    "2022-02-17T00:00:00",
                    "2022-02-18T00:00:00",
                    "2022-02-19T00:00:00",
                    "2022-02-20T00:00:00",
                    "2022-02-21T00:00:00",
                    "2022-02-22T00:00:00",
                    "2022-02-23T00:00:00",
                    "2022-02-24T00:00:00",
                    "2022-02-25T00:00:00",
                    "2022-02-26T00:00:00",
                    "2022-02-27T00:00:00",
                    "2022-02-28T00:00:00",
                    "2022-03-01T00:00:00",
                    "2022-03-02T00:00:00",
                    "2022-03-03T00:00:00",
                    "2022-03-04T00:00:00",
                    "2022-03-05T00:00:00",
                    "2022-03-06T00:00:00",
                    "2022-03-07T00:00:00",
                    "2022-03-08T00:00:00",
                    "2022-03-09T00:00:00",
                    "2022-03-10T00:00:00",
                    "2022-03-11T00:00:00",
                    "2022-03-12T00:00:00",
                    "2022-03-13T00:00:00",
                    "2022-03-14T00:00:00",
                    "2022-03-15T00:00:00",
                    "2022-03-16T00:00:00",
                    "2022-03-17T00:00:00",
                    "2022-03-18T00:00:00",
                    "2022-03-19T00:00:00",
                    "2022-03-20T00:00:00",
                    "2022-03-21T00:00:00",
                    "2022-03-22T00:00:00",
                    "2022-03-23T00:00:00",
                    "2022-03-24T00:00:00",
                    "2022-03-25T00:00:00",
                    "2022-03-26T00:00:00",
                    "2022-03-27T00:00:00",
                    "2022-03-28T00:00:00",
                    "2022-03-29T00:00:00",
                    "2022-03-30T00:00:00",
                    "2022-03-31T00:00:00",
                    "2022-04-01T00:00:00",
                    "2022-04-02T00:00:00",
                    "2022-04-03T00:00:00",
                    "2022-04-04T00:00:00",
                    "2022-04-05T00:00:00",
                    "2022-04-06T00:00:00",
                    "2022-04-07T00:00:00",
                    "2022-04-08T00:00:00",
                    "2022-04-09T00:00:00",
                    "2022-04-10T00:00:00",
                    "2022-04-11T00:00:00",
                    "2022-04-12T00:00:00",
                    "2022-04-13T00:00:00",
                    "2022-04-14T00:00:00",
                    "2022-04-15T00:00:00",
                    "2022-04-16T00:00:00",
                    "2022-04-17T00:00:00",
                    "2022-04-18T00:00:00",
                    "2022-04-19T00:00:00",
                    "2022-04-20T00:00:00",
                    "2022-04-21T00:00:00",
                    "2022-04-22T00:00:00",
                    "2022-04-23T00:00:00",
                    "2022-04-24T00:00:00",
                    "2022-04-25T00:00:00",
                    "2022-04-26T00:00:00",
                    "2022-04-27T00:00:00",
                    "2022-04-28T00:00:00",
                    "2022-04-29T00:00:00",
                    "2022-04-30T00:00:00",
                    "2022-05-01T00:00:00",
                    "2022-05-02T00:00:00",
                    "2022-05-03T00:00:00",
                    "2022-05-04T00:00:00",
                    "2022-05-05T00:00:00",
                    "2022-05-06T00:00:00",
                    "2022-05-07T00:00:00",
                    "2022-05-08T00:00:00",
                    "2022-05-09T00:00:00",
                    "2022-05-10T00:00:00",
                    "2022-05-11T00:00:00",
                    "2022-05-12T00:00:00",
                    "2022-05-13T00:00:00",
                    "2022-05-14T00:00:00",
                    "2022-05-15T00:00:00",
                    "2022-05-16T00:00:00",
                    "2022-05-17T00:00:00",
                    "2022-05-18T00:00:00",
                    "2022-05-19T00:00:00",
                    "2022-05-20T00:00:00",
                    "2022-05-21T00:00:00",
                    "2022-05-22T00:00:00",
                    "2022-05-23T00:00:00",
                    "2022-05-24T00:00:00",
                    "2022-05-25T00:00:00",
                    "2022-05-26T00:00:00",
                    "2022-05-27T00:00:00",
                    "2022-05-28T00:00:00",
                    "2022-05-29T00:00:00",
                    "2022-05-30T00:00:00",
                    "2022-05-31T00:00:00",
                    "2022-06-01T00:00:00",
                    "2022-06-02T00:00:00",
                    "2022-06-03T00:00:00",
                    "2022-06-04T00:00:00",
                    "2022-06-05T00:00:00",
                    "2022-06-06T00:00:00",
                    "2022-06-07T00:00:00",
                    "2022-06-08T00:00:00",
                    "2022-06-09T00:00:00",
                    "2022-06-10T00:00:00",
                    "2022-06-11T00:00:00",
                    "2022-06-12T00:00:00",
                    "2022-06-13T00:00:00",
                    "2022-06-14T00:00:00",
                    "2022-06-15T00:00:00",
                    "2022-06-16T00:00:00",
                    "2022-06-17T00:00:00",
                    "2022-06-18T00:00:00",
                    "2022-06-19T00:00:00",
                    "2022-06-20T00:00:00",
                    "2022-06-21T00:00:00",
                    "2022-06-22T00:00:00"
                  ],
                  "xaxis": "x",
                  "y": [
                    33723.02734375,
                    34662.4375,
                    31637.779296875,
                    32186.27734375,
                    34649.64453125,
                    34434.3359375,
                    35867.77734375,
                    35040.8359375,
                    33572.1171875,
                    33897.046875,
                    34668.546875,
                    35287.78125,
                    33746.00390625,
                    34235.1953125,
                    33855.328125,
                    32877.37109375,
                    33798.01171875,
                    33520.51953125,
                    34240.1875,
                    33155.84765625,
                    32702.025390625,
                    32822.34765625,
                    31780.73046875,
                    31421.5390625,
                    31533.068359375,
                    31796.810546875,
                    30817.83203125,
                    29807.34765625,
                    32110.693359375,
                    32313.10546875,
                    33581.55078125,
                    34292.4453125,
                    35350.1875,
                    37337.53515625,
                    39406.94140625,
                    39995.90625,
                    40008.421875,
                    42235.546875,
                    41626.1953125,
                    39974.89453125,
                    39201.9453125,
                    38152.98046875,
                    39747.50390625,
                    40869.5546875,
                    42816.5,
                    44555.80078125,
                    43798.1171875,
                    46365.40234375,
                    45585.03125,
                    45593.63671875,
                    44428.2890625,
                    47793.3203125,
                    47096.9453125,
                    47047.00390625,
                    46004.484375,
                    44695.359375,
                    44801.18750000001,
                    46717.578125,
                    49339.17578125,
                    48905.4921875,
                    49321.65234375,
                    49546.1484375,
                    47706.1171875,
                    48960.7890625,
                    46942.21875,
                    49058.66796875,
                    48902.40234375,
                    48829.83203125,
                    47054.984375,
                    47166.6875,
                    48847.02734375,
                    49327.72265625,
                    50025.375,
                    49944.62500000001,
                    51753.41015625,
                    52633.53515625,
                    46811.12890625,
                    46091.390625,
                    46391.421875,
                    44883.91015625,
                    45201.45703125,
                    46063.26953125,
                    44963.07421875,
                    47092.4921875,
                    48176.34765625,
                    47783.359375,
                    47267.51953125,
                    48278.36328125,
                    47260.21875,
                    42843.80078125,
                    40693.67578125,
                    43574.5078125,
                    44895.09765625,
                    42839.75,
                    42716.59375,
                    43208.5390625,
                    42235.73046875,
                    41034.54296874999,
                    41564.36328125,
                    43790.89453125,
                    48116.94140625,
                    47711.48828125,
                    48199.953125,
                    49112.90234375,
                    51514.8125,
                    55361.44921875,
                    53805.984375,
                    53967.84765625,
                    54968.22265625,
                    54771.578125,
                    57484.78906250001,
                    56041.05859375,
                    57401.09765625,
                    57321.5234375,
                    61593.94921875,
                    60892.1796875,
                    61553.6171875,
                    62026.078125,
                    64261.9921875,
                    65992.8359375,
                    62210.171875,
                    60692.265625,
                    61393.6171875,
                    60930.8359375,
                    63039.82421875,
                    60363.79296875,
                    58482.38671875,
                    60622.13671875,
                    62227.96484375,
                    61888.83203125,
                    61318.95703125,
                    61004.40625,
                    63226.40234375,
                    62970.046875,
                    61452.23046875,
                    61125.67578125,
                    61527.48046875,
                    63326.98828125,
                    67566.828125,
                    66971.828125,
                    64995.23046875,
                    64949.9609375,
                    64155.94140625,
                    64469.52734375,
                    65466.83984375,
                    63557.87109375,
                    60161.24609375,
                    60368.01171875,
                    56942.13671875,
                    58119.578125,
                    59697.19531250001,
                    58730.4765625,
                    56289.2890625,
                    57569.07421875,
                    56280.42578125,
                    57274.6796875,
                    53569.765625,
                    54815.078125,
                    57248.45703124999,
                    57806.56640625,
                    57005.42578125,
                    57229.828125,
                    56477.81640625,
                    53598.24609375,
                    49200.703125,
                    49368.84765625,
                    50582.625,
                    50700.0859375,
                    50504.796875,
                    47672.12109375,
                    47243.3046875,
                    49362.5078125,
                    50098.3359375,
                    46737.48046875,
                    46612.6328125,
                    48896.72265625,
                    47665.42578125,
                    46202.14453125,
                    46848.77734375,
                    46707.015625,
                    46880.27734375,
                    48936.61328125,
                    48628.51171875,
                    50784.5390625,
                    50822.1953125,
                    50429.85937500001,
                    50809.515625,
                    50640.41796875,
                    47588.85546875,
                    46444.7109375,
                    47178.125,
                    46306.4453125,
                    47686.8125,
                    47345.21875,
                    46458.1171875,
                    45897.57421875,
                    43569.00390625,
                    43160.9296875,
                    41557.90234375,
                    41733.94140625,
                    41911.6015625,
                    41821.26171875,
                    42735.85546875,
                    43949.1015625,
                    42591.5703125,
                    43099.69921875,
                    43177.3984375,
                    43113.87890625,
                    42250.55078125,
                    42375.6328125,
                    41744.328125,
                    40680.41796875,
                    36457.31640625,
                    35030.25,
                    36276.8046875,
                    36654.328125,
                    36954.00390625,
                    36852.12109375,
                    37138.234375,
                    37784.33203125,
                    38138.1796875,
                    37917.6015625,
                    38483.125,
                    38743.2734375,
                    36952.984375,
                    37154.6015625,
                    41500.875,
                    41441.1640625,
                    42412.43359375,
                    43840.28515625,
                    44118.4453125,
                    44338.796875,
                    43565.11328125,
                    42407.9375,
                    42244.46875,
                    42197.515625,
                    42586.91796875,
                    44575.203125,
                    43961.859375,
                    40538.01171875,
                    40030.9765625,
                    40122.15625,
                    38431.37890625,
                    37075.28125,
                    38286.02734375,
                    37296.5703125,
                    38332.609375,
                    39214.21875,
                    39105.1484375,
                    37709.78515625,
                    43193.234375,
                    44354.63671875,
                    43924.1171875,
                    42451.7890625,
                    39137.60546875,
                    39400.5859375,
                    38419.984375,
                    38062.0390625,
                    38737.26953125,
                    41982.92578125,
                    39437.4609375,
                    38794.97265625,
                    38904.01171875,
                    37849.6640625,
                    39666.75390625,
                    39338.78515625,
                    41143.9296875,
                    40951.37890625,
                    41801.15625,
                    42190.65234375,
                    41247.82421875,
                    41077.99609375,
                    42358.80859375,
                    42892.95703125,
                    43960.93359375,
                    44348.73046875,
                    44500.828125,
                    46820.4921875,
                    47128.00390625,
                    47465.73046875,
                    47062.6640625,
                    45538.67578125,
                    46281.64453125,
                    45868.94921875,
                    46453.56640625,
                    46622.67578125,
                    45555.9921875,
                    43206.73828125,
                    43503.84765625,
                    42287.6640625,
                    42782.13671875,
                    42207.671875,
                    39521.90234375,
                    40127.18359375,
                    41166.73046875,
                    39935.515625,
                    40553.46484375,
                    40424.484375,
                    39716.953125,
                    40826.21484375,
                    41502.75,
                    41374.37890625,
                    40527.36328125,
                    39740.3203125,
                    39486.73046875,
                    39469.29296875,
                    40458.30859375,
                    38117.4609375,
                    39241.12109375,
                    39773.828125,
                    38609.82421875,
                    37714.875,
                    38469.09375,
                    38529.328125,
                    37750.453125,
                    39698.37109375,
                    36575.140625,
                    36040.921875,
                    35501.953125,
                    34059.265625,
                    30296.953125,
                    31022.90625,
                    28936.35546875,
                    29047.751953125,
                    29283.103515625,
                    30101.265625,
                    31305.11328125,
                    29862.91796875,
                    30425.857421875,
                    28720.271484375,
                    30314.333984375,
                    29200.740234375,
                    29432.2265625,
                    30323.722656250004,
                    29098.91015625,
                    29655.5859375,
                    29562.361328125,
                    29267.224609375,
                    28627.57421875,
                    28814.900390625,
                    29445.95703125,
                    31726.390625,
                    31792.310546875,
                    29799.080078125,
                    30467.48828125,
                    29704.390625,
                    29832.9140625,
                    29906.662109375,
                    31370.671875,
                    31155.478515625,
                    30214.35546875,
                    30111.998046875,
                    29083.8046875,
                    28360.810546875,
                    26762.6484375,
                    22487.388671875,
                    22206.79296875,
                    22572.839843750004,
                    20381.650390625,
                    20471.482421875,
                    19017.642578125,
                    20553.271484375,
                    20599.537109375,
                    20710.59765625,
                    20435.345703125
                  ],
                  "yaxis": "y"
                },
                {
                  "hovertemplate": "%{y:$,.2f}",
                  "legendgroup": "Predicted",
                  "line": {
                    "color": "#EF553B",
                    "dash": "solid"
                  },
                  "marker": {
                    "symbol": "circle"
                  },
                  "mode": "lines",
                  "name": "Predicted",
                  "orientation": "v",
                  "showlegend": true,
                  "type": "scatter",
                  "x": [
                    "2021-06-23T00:00:00",
                    "2021-06-24T00:00:00",
                    "2021-06-25T00:00:00",
                    "2021-06-26T00:00:00",
                    "2021-06-27T00:00:00",
                    "2021-06-28T00:00:00",
                    "2021-06-29T00:00:00",
                    "2021-06-30T00:00:00",
                    "2021-07-01T00:00:00",
                    "2021-07-02T00:00:00",
                    "2021-07-03T00:00:00",
                    "2021-07-04T00:00:00",
                    "2021-07-05T00:00:00",
                    "2021-07-06T00:00:00",
                    "2021-07-07T00:00:00",
                    "2021-07-08T00:00:00",
                    "2021-07-09T00:00:00",
                    "2021-07-10T00:00:00",
                    "2021-07-11T00:00:00",
                    "2021-07-12T00:00:00",
                    "2021-07-13T00:00:00",
                    "2021-07-14T00:00:00",
                    "2021-07-15T00:00:00",
                    "2021-07-16T00:00:00",
                    "2021-07-17T00:00:00",
                    "2021-07-18T00:00:00",
                    "2021-07-19T00:00:00",
                    "2021-07-20T00:00:00",
                    "2021-07-21T00:00:00",
                    "2021-07-22T00:00:00",
                    "2021-07-23T00:00:00",
                    "2021-07-24T00:00:00",
                    "2021-07-25T00:00:00",
                    "2021-07-26T00:00:00",
                    "2021-07-27T00:00:00",
                    "2021-07-28T00:00:00",
                    "2021-07-29T00:00:00",
                    "2021-07-30T00:00:00",
                    "2021-07-31T00:00:00",
                    "2021-08-01T00:00:00",
                    "2021-08-02T00:00:00",
                    "2021-08-03T00:00:00",
                    "2021-08-04T00:00:00",
                    "2021-08-05T00:00:00",
                    "2021-08-06T00:00:00",
                    "2021-08-07T00:00:00",
                    "2021-08-08T00:00:00",
                    "2021-08-09T00:00:00",
                    "2021-08-10T00:00:00",
                    "2021-08-11T00:00:00",
                    "2021-08-12T00:00:00",
                    "2021-08-13T00:00:00",
                    "2021-08-14T00:00:00",
                    "2021-08-15T00:00:00",
                    "2021-08-16T00:00:00",
                    "2021-08-17T00:00:00",
                    "2021-08-18T00:00:00",
                    "2021-08-19T00:00:00",
                    "2021-08-20T00:00:00",
                    "2021-08-21T00:00:00",
                    "2021-08-22T00:00:00",
                    "2021-08-23T00:00:00",
                    "2021-08-24T00:00:00",
                    "2021-08-25T00:00:00",
                    "2021-08-26T00:00:00",
                    "2021-08-27T00:00:00",
                    "2021-08-28T00:00:00",
                    "2021-08-29T00:00:00",
                    "2021-08-30T00:00:00",
                    "2021-08-31T00:00:00",
                    "2021-09-01T00:00:00",
                    "2021-09-02T00:00:00",
                    "2021-09-03T00:00:00",
                    "2021-09-04T00:00:00",
                    "2021-09-05T00:00:00",
                    "2021-09-06T00:00:00",
                    "2021-09-07T00:00:00",
                    "2021-09-08T00:00:00",
                    "2021-09-09T00:00:00",
                    "2021-09-10T00:00:00",
                    "2021-09-11T00:00:00",
                    "2021-09-12T00:00:00",
                    "2021-09-13T00:00:00",
                    "2021-09-14T00:00:00",
                    "2021-09-15T00:00:00",
                    "2021-09-16T00:00:00",
                    "2021-09-17T00:00:00",
                    "2021-09-18T00:00:00",
                    "2021-09-19T00:00:00",
                    "2021-09-20T00:00:00",
                    "2021-09-21T00:00:00",
                    "2021-09-22T00:00:00",
                    "2021-09-23T00:00:00",
                    "2021-09-24T00:00:00",
                    "2021-09-25T00:00:00",
                    "2021-09-26T00:00:00",
                    "2021-09-27T00:00:00",
                    "2021-09-28T00:00:00",
                    "2021-09-29T00:00:00",
                    "2021-09-30T00:00:00",
                    "2021-10-01T00:00:00",
                    "2021-10-02T00:00:00",
                    "2021-10-03T00:00:00",
                    "2021-10-04T00:00:00",
                    "2021-10-05T00:00:00",
                    "2021-10-06T00:00:00",
                    "2021-10-07T00:00:00",
                    "2021-10-08T00:00:00",
                    "2021-10-09T00:00:00",
                    "2021-10-10T00:00:00",
                    "2021-10-11T00:00:00",
                    "2021-10-12T00:00:00",
                    "2021-10-13T00:00:00",
                    "2021-10-14T00:00:00",
                    "2021-10-15T00:00:00",
                    "2021-10-16T00:00:00",
                    "2021-10-17T00:00:00",
                    "2021-10-18T00:00:00",
                    "2021-10-19T00:00:00",
                    "2021-10-20T00:00:00",
                    "2021-10-21T00:00:00",
                    "2021-10-22T00:00:00",
                    "2021-10-23T00:00:00",
                    "2021-10-24T00:00:00",
                    "2021-10-25T00:00:00",
                    "2021-10-26T00:00:00",
                    "2021-10-27T00:00:00",
                    "2021-10-28T00:00:00",
                    "2021-10-29T00:00:00",
                    "2021-10-30T00:00:00",
                    "2021-10-31T00:00:00",
                    "2021-11-01T00:00:00",
                    "2021-11-02T00:00:00",
                    "2021-11-03T00:00:00",
                    "2021-11-04T00:00:00",
                    "2021-11-05T00:00:00",
                    "2021-11-06T00:00:00",
                    "2021-11-07T00:00:00",
                    "2021-11-08T00:00:00",
                    "2021-11-09T00:00:00",
                    "2021-11-10T00:00:00",
                    "2021-11-11T00:00:00",
                    "2021-11-12T00:00:00",
                    "2021-11-13T00:00:00",
                    "2021-11-14T00:00:00",
                    "2021-11-15T00:00:00",
                    "2021-11-16T00:00:00",
                    "2021-11-17T00:00:00",
                    "2021-11-18T00:00:00",
                    "2021-11-19T00:00:00",
                    "2021-11-20T00:00:00",
                    "2021-11-21T00:00:00",
                    "2021-11-22T00:00:00",
                    "2021-11-23T00:00:00",
                    "2021-11-24T00:00:00",
                    "2021-11-25T00:00:00",
                    "2021-11-26T00:00:00",
                    "2021-11-27T00:00:00",
                    "2021-11-28T00:00:00",
                    "2021-11-29T00:00:00",
                    "2021-11-30T00:00:00",
                    "2021-12-01T00:00:00",
                    "2021-12-02T00:00:00",
                    "2021-12-03T00:00:00",
                    "2021-12-04T00:00:00",
                    "2021-12-05T00:00:00",
                    "2021-12-06T00:00:00",
                    "2021-12-07T00:00:00",
                    "2021-12-08T00:00:00",
                    "2021-12-09T00:00:00",
                    "2021-12-10T00:00:00",
                    "2021-12-11T00:00:00",
                    "2021-12-12T00:00:00",
                    "2021-12-13T00:00:00",
                    "2021-12-14T00:00:00",
                    "2021-12-15T00:00:00",
                    "2021-12-16T00:00:00",
                    "2021-12-17T00:00:00",
                    "2021-12-18T00:00:00",
                    "2021-12-19T00:00:00",
                    "2021-12-20T00:00:00",
                    "2021-12-21T00:00:00",
                    "2021-12-22T00:00:00",
                    "2021-12-23T00:00:00",
                    "2021-12-24T00:00:00",
                    "2021-12-25T00:00:00",
                    "2021-12-26T00:00:00",
                    "2021-12-27T00:00:00",
                    "2021-12-28T00:00:00",
                    "2021-12-29T00:00:00",
                    "2021-12-30T00:00:00",
                    "2021-12-31T00:00:00",
                    "2022-01-01T00:00:00",
                    "2022-01-02T00:00:00",
                    "2022-01-03T00:00:00",
                    "2022-01-04T00:00:00",
                    "2022-01-05T00:00:00",
                    "2022-01-06T00:00:00",
                    "2022-01-07T00:00:00",
                    "2022-01-08T00:00:00",
                    "2022-01-09T00:00:00",
                    "2022-01-10T00:00:00",
                    "2022-01-11T00:00:00",
                    "2022-01-12T00:00:00",
                    "2022-01-13T00:00:00",
                    "2022-01-14T00:00:00",
                    "2022-01-15T00:00:00",
                    "2022-01-16T00:00:00",
                    "2022-01-17T00:00:00",
                    "2022-01-18T00:00:00",
                    "2022-01-19T00:00:00",
                    "2022-01-20T00:00:00",
                    "2022-01-21T00:00:00",
                    "2022-01-22T00:00:00",
                    "2022-01-23T00:00:00",
                    "2022-01-24T00:00:00",
                    "2022-01-25T00:00:00",
                    "2022-01-26T00:00:00",
                    "2022-01-27T00:00:00",
                    "2022-01-28T00:00:00",
                    "2022-01-29T00:00:00",
                    "2022-01-30T00:00:00",
                    "2022-01-31T00:00:00",
                    "2022-02-01T00:00:00",
                    "2022-02-02T00:00:00",
                    "2022-02-03T00:00:00",
                    "2022-02-04T00:00:00",
                    "2022-02-05T00:00:00",
                    "2022-02-06T00:00:00",
                    "2022-02-07T00:00:00",
                    "2022-02-08T00:00:00",
                    "2022-02-09T00:00:00",
                    "2022-02-10T00:00:00",
                    "2022-02-11T00:00:00",
                    "2022-02-12T00:00:00",
                    "2022-02-13T00:00:00",
                    "2022-02-14T00:00:00",
                    "2022-02-15T00:00:00",
                    "2022-02-16T00:00:00",
                    "2022-02-17T00:00:00",
                    "2022-02-18T00:00:00",
                    "2022-02-19T00:00:00",
                    "2022-02-20T00:00:00",
                    "2022-02-21T00:00:00",
                    "2022-02-22T00:00:00",
                    "2022-02-23T00:00:00",
                    "2022-02-24T00:00:00",
                    "2022-02-25T00:00:00",
                    "2022-02-26T00:00:00",
                    "2022-02-27T00:00:00",
                    "2022-02-28T00:00:00",
                    "2022-03-01T00:00:00",
                    "2022-03-02T00:00:00",
                    "2022-03-03T00:00:00",
                    "2022-03-04T00:00:00",
                    "2022-03-05T00:00:00",
                    "2022-03-06T00:00:00",
                    "2022-03-07T00:00:00",
                    "2022-03-08T00:00:00",
                    "2022-03-09T00:00:00",
                    "2022-03-10T00:00:00",
                    "2022-03-11T00:00:00",
                    "2022-03-12T00:00:00",
                    "2022-03-13T00:00:00",
                    "2022-03-14T00:00:00",
                    "2022-03-15T00:00:00",
                    "2022-03-16T00:00:00",
                    "2022-03-17T00:00:00",
                    "2022-03-18T00:00:00",
                    "2022-03-19T00:00:00",
                    "2022-03-20T00:00:00",
                    "2022-03-21T00:00:00",
                    "2022-03-22T00:00:00",
                    "2022-03-23T00:00:00",
                    "2022-03-24T00:00:00",
                    "2022-03-25T00:00:00",
                    "2022-03-26T00:00:00",
                    "2022-03-27T00:00:00",
                    "2022-03-28T00:00:00",
                    "2022-03-29T00:00:00",
                    "2022-03-30T00:00:00",
                    "2022-03-31T00:00:00",
                    "2022-04-01T00:00:00",
                    "2022-04-02T00:00:00",
                    "2022-04-03T00:00:00",
                    "2022-04-04T00:00:00",
                    "2022-04-05T00:00:00",
                    "2022-04-06T00:00:00",
                    "2022-04-07T00:00:00",
                    "2022-04-08T00:00:00",
                    "2022-04-09T00:00:00",
                    "2022-04-10T00:00:00",
                    "2022-04-11T00:00:00",
                    "2022-04-12T00:00:00",
                    "2022-04-13T00:00:00",
                    "2022-04-14T00:00:00",
                    "2022-04-15T00:00:00",
                    "2022-04-16T00:00:00",
                    "2022-04-17T00:00:00",
                    "2022-04-18T00:00:00",
                    "2022-04-19T00:00:00",
                    "2022-04-20T00:00:00",
                    "2022-04-21T00:00:00",
                    "2022-04-22T00:00:00",
                    "2022-04-23T00:00:00",
                    "2022-04-24T00:00:00",
                    "2022-04-25T00:00:00",
                    "2022-04-26T00:00:00",
                    "2022-04-27T00:00:00",
                    "2022-04-28T00:00:00",
                    "2022-04-29T00:00:00",
                    "2022-04-30T00:00:00",
                    "2022-05-01T00:00:00",
                    "2022-05-02T00:00:00",
                    "2022-05-03T00:00:00",
                    "2022-05-04T00:00:00",
                    "2022-05-05T00:00:00",
                    "2022-05-06T00:00:00",
                    "2022-05-07T00:00:00",
                    "2022-05-08T00:00:00",
                    "2022-05-09T00:00:00",
                    "2022-05-10T00:00:00",
                    "2022-05-11T00:00:00",
                    "2022-05-12T00:00:00",
                    "2022-05-13T00:00:00",
                    "2022-05-14T00:00:00",
                    "2022-05-15T00:00:00",
                    "2022-05-16T00:00:00",
                    "2022-05-17T00:00:00",
                    "2022-05-18T00:00:00",
                    "2022-05-19T00:00:00",
                    "2022-05-20T00:00:00",
                    "2022-05-21T00:00:00",
                    "2022-05-22T00:00:00",
                    "2022-05-23T00:00:00",
                    "2022-05-24T00:00:00",
                    "2022-05-25T00:00:00",
                    "2022-05-26T00:00:00",
                    "2022-05-27T00:00:00",
                    "2022-05-28T00:00:00",
                    "2022-05-29T00:00:00",
                    "2022-05-30T00:00:00",
                    "2022-05-31T00:00:00",
                    "2022-06-01T00:00:00",
                    "2022-06-02T00:00:00",
                    "2022-06-03T00:00:00",
                    "2022-06-04T00:00:00",
                    "2022-06-05T00:00:00",
                    "2022-06-06T00:00:00",
                    "2022-06-07T00:00:00",
                    "2022-06-08T00:00:00",
                    "2022-06-09T00:00:00",
                    "2022-06-10T00:00:00",
                    "2022-06-11T00:00:00",
                    "2022-06-12T00:00:00",
                    "2022-06-13T00:00:00",
                    "2022-06-14T00:00:00",
                    "2022-06-15T00:00:00",
                    "2022-06-16T00:00:00",
                    "2022-06-17T00:00:00",
                    "2022-06-18T00:00:00",
                    "2022-06-19T00:00:00",
                    "2022-06-20T00:00:00",
                    "2022-06-21T00:00:00",
                    "2022-06-22T00:00:00"
                  ],
                  "xaxis": "x",
                  "y": [
                    35799.82978305238,
                    35216.29439737392,
                    34943.304688317825,
                    34236.429078462075,
                    33754.0758960968,
                    33718.3033349048,
                    33800.980688744414,
                    34201.07425209647,
                    34525.16417712884,
                    34640.70400675921,
                    34767.64317713323,
                    35043.846231007825,
                    35548.494001391984,
                    35609.5676363487,
                    35842.12543422595,
                    35962.810632246954,
                    35994.767346466986,
                    36002.98547584031,
                    36022.24947802725,
                    36130.237947334135,
                    36051.261965057325,
                    35890.41799016706,
                    35792.87289152032,
                    35483.33138515373,
                    35154.13625854096,
                    34759.83876590528,
                    34528.67073966203,
                    34172.033648299235,
                    33696.99685041759,
                    33604.58908679944,
                    33571.79891126711,
                    33827.972785219856,
                    34221.33037449612,
                    34763.100310896065,
                    35462.982879090545,
                    36484.786364564905,
                    37495.507827096444,
                    38431.54312268388,
                    39542.846294715644,
                    40447.18596034955,
                    40936.176708105544,
                    41115.84285027021,
                    41096.63909829862,
                    41194.45733125493,
                    41365.77681025353,
                    41706.817129203504,
                    42223.129341278844,
                    42625.9662977697,
                    43337.388790543635,
                    43905.873672428424,
                    44388.92374895121,
                    44609.39937031088,
                    45259.884795282895,
                    45764.90611700221,
                    46201.27834335519,
                    46402.37347877825,
                    46390.29130226067,
                    46320.06766793327,
                    46487.04511474586,
                    47009.78803313923,
                    47398.3898720841,
                    47971.42163688708,
                    48442.14451934987,
                    48601.02835390085,
                    48883.758514438035,
                    48909.35280591743,
                    49107.72061492579,
                    49248.7944858202,
                    49450.38768969014,
                    49308.301615177894,
                    49225.5419193773,
                    49388.799919562465,
                    49492.703424268824,
                    49733.949303199115,
                    49945.3632921706,
                    50425.111656892375,
                    50983.26965186669,
                    50521.55216825775,
                    50001.28352537464,
                    49620.550364554074,
                    48979.72505744269,
                    48477.49934571548,
                    48159.43042553678,
                    47728.31201796206,
                    47703.468845833995,
                    47911.93860761553,
                    48113.39122764965,
                    48239.31417772482,
                    48514.07524311211,
                    48659.30637886546,
                    48078.98032132449,
                    47114.06910586176,
                    46636.70263298671,
                    46366.96241887833,
                    45798.457453588424,
                    45321.05081390314,
                    45007.215475522826,
                    44603.85233381794,
                    44101.00403653214,
                    43701.71380938471,
                    43737.54662079206,
                    44355.70981357094,
                    44963.85942055914,
                    45675.442580574,
                    46430.8597805943,
                    47390.4368436583,
                    48702.50979995026,
                    49683.282888773334,
                    50434.012622039634,
                    51169.43478392678,
                    51736.32102676436,
                    52434.88210690223,
                    52913.61425132515,
                    53433.10767477081,
                    53889.44682248977,
                    54636.738276800264,
                    55320.967839047604,
                    56009.398849645135,
                    56647.38837995419,
                    57334.156484608146,
                    58169.445386773405,
                    58462.96033585769,
                    58634.17939783071,
                    58802.317665458984,
                    58965.05349711115,
                    59217.72281687122,
                    59294.5940582919,
                    59130.87413978907,
                    59155.25539359948,
                    59388.50406061271,
                    59627.809882608824,
                    59747.05309214252,
                    59856.15819877383,
                    60145.780983946715,
                    60406.18643135733,
                    60533.80442082426,
                    60496.40912049891,
                    60485.491781478035,
                    60667.58801566169,
                    61151.44544507013,
                    61442.23708442074,
                    61588.22335620644,
                    61659.42706070349,
                    61569.12403794145,
                    61579.9329265747,
                    61659.378860531215,
                    61542.29662538796,
                    61108.66779217378,
                    60717.27435991783,
                    60036.250109126944,
                    59475.48930484964,
                    59129.327717595166,
                    58716.08354057338,
                    58181.35886268801,
                    57815.11387031788,
                    57377.21530517611,
                    57002.382648778526,
                    56413.533194106465,
                    55971.84288207886,
                    55786.04326799188,
                    55794.61888197626,
                    55571.64890170123,
                    55520.910187017034,
                    55406.66774535713,
                    54976.95517614051,
                    54087.039412060665,
                    53422.57593712815,
                    52797.552253161775,
                    52272.833127705024,
                    51802.917598127875,
                    51096.63645706355,
                    50403.397479281324,
                    50041.24950155479,
                    49871.56079505159,
                    49303.457497864,
                    48841.91273153906,
                    48668.19127728863,
                    48449.63562945801,
                    48083.033152476826,
                    47827.63248962103,
                    47611.02493208663,
                    47442.92281458756,
                    47529.936175591654,
                    47673.21118768674,
                    47990.63743890174,
                    48393.44627862543,
                    48576.66718349556,
                    48894.67585345891,
                    49127.33406836174,
                    48826.63729360809,
                    48465.88310419658,
                    48176.52140329021,
                    47744.29840843412,
                    47565.16246816451,
                    47386.38802918699,
                    47072.09077248901,
                    46705.11072749165,
                    46091.89206905225,
                    45470.51151477385,
                    44387.98786227282,
                    43696.86567538979,
                    43143.67631484108,
                    42638.586709544375,
                    42431.093001251465,
                    42490.80096466031,
                    42348.618489803506,
                    42474.35667255161,
                    42642.80824129969,
                    42799.33428409009,
                    42870.12427044175,
                    42947.786798024,
                    42923.56621145451,
                    42749.03740431844,
                    41790.46451151022,
                    40707.54320758789,
                    39895.59925552907,
                    39089.05372276535,
                    38493.41607716419,
                    38001.762269889856,
                    37706.86156585258,
                    37628.00608400647,
                    37723.21749097877,
                    37839.79362431311,
                    38063.32593993139,
                    38291.87910682858,
                    38366.85447480635,
                    38271.819801799065,
                    38898.707225760176,
                    39503.2819866378,
                    40225.031366322204,
                    41001.37949115404,
                    41743.4733602206,
                    42356.29035055769,
                    42766.244865821536,
                    42842.136037072574,
                    42902.87227082334,
                    42954.072903825196,
                    42904.67576060273,
                    43194.12582849161,
                    43299.463288323226,
                    42950.429774137214,
                    42520.57260440376,
                    42213.782524538015,
                    41600.310815194156,
                    40859.39383366737,
                    40359.32507964958,
                    39803.44454281538,
                    39299.16229040432,
                    39174.21539381777,
                    39109.908330637445,
                    38867.975599252204,
                    39515.27981285389,
                    40391.09300986152,
                    41203.643480754836,
                    41726.936684448374,
                    41674.3623465366,
                    41631.83774454472,
                    41381.02413141733,
                    40922.58425952327,
                    40656.16182394,
                    40826.07144789947,
                    40581.80502483979,
                    40308.61849841357,
                    40079.458812681885,
                    39787.578652774006,
                    39669.69709810715,
                    39560.720525268574,
                    39714.085440093775,
                    39889.54210054619,
                    40187.242431256585,
                    40581.39130669441,
                    40828.61802366814,
                    40933.834983069064,
                    41150.45459064653,
                    41430.94344317281,
                    41800.0121623022,
                    42187.07561241522,
                    42557.85945434149,
                    43201.73743903045,
                    43797.29876769216,
                    44458.78588198653,
                    44867.84066070119,
                    45035.974911648445,
                    45227.53444632259,
                    45330.377547238844,
                    45536.545750794125,
                    45638.292297791064,
                    45586.951080953404,
                    45147.28517616146,
                    44742.50816273643,
                    44343.31031925253,
                    43802.331669014144,
                    43382.77728610502,
                    42525.52517210528,
                    41811.323136063336,
                    41412.88444529281,
                    40871.343459711185,
                    40576.87254054339,
                    40310.44207159807,
                    40015.758268336045,
                    39900.25458883488,
                    39920.819995673315,
                    40049.83579013629,
                    39898.64389974461,
                    39789.11704160587,
                    39594.970764352816,
                    39471.91974120919,
                    39377.38313664877,
                    38956.18994788221,
                    38751.732850442786,
                    38588.4547668525,
                    38278.40314199597,
                    37945.27166798054,
                    37684.94655419038,
                    37456.41748737933,
                    37071.07317674421,
                    37035.24036533685,
                    36434.48948479325,
                    35743.71674915923,
                    35101.98768881765,
                    34201.40763662139,
                    32559.091199969633,
                    31187.82240709928,
                    29567.364748575397,
                    28011.12176956831,
                    26841.193129663432,
                    26021.141506959426,
                    25614.209544165486,
                    25073.263027375287,
                    24874.18024914481,
                    24463.430431038385,
                    24433.56239095038,
                    24427.58556958796,
                    24548.331017824312,
                    24904.4278655895,
                    25140.833643886912,
                    25366.514883852564,
                    25625.020441139244,
                    25833.403844278782,
                    25877.229850922165,
                    25940.16923421412,
                    26177.14538121682,
                    26637.143725347854,
                    27103.022490496754,
                    27254.17622241872,
                    27349.15667023219,
                    27393.64141256337,
                    27528.595869919045,
                    27475.119787117586,
                    27673.421320889065,
                    27774.163697630218,
                    27785.332079215037,
                    27785.60923020563,
                    27500.095509719416,
                    27153.753171818902,
                    26576.977860302373,
                    25095.89702494063,
                    23739.210792524755,
                    22477.231873612778,
                    21055.97548540955,
                    19835.47482308294,
                    18518.144031331703,
                    17534.577340857046,
                    16741.4264351352,
                    16148.351432026804
                  ],
                  "yaxis": "y"
                }
              ],
              "layout": {
                "height": 500,
                "hovermode": "x unified",
                "legend": {
                  "title": {
                    "text": ""
                  },
                  "tracegroupgap": 0,
                  "x": 0.99,
                  "xanchor": "right",
                  "y": 0.99,
                  "yanchor": "top"
                },
                "template": {
                  "data": {
                    "bar": [
                      {
                        "error_x": {
                          "color": "#f2f5fa"
                        },
                        "error_y": {
                          "color": "#f2f5fa"
                        },
                        "marker": {
                          "line": {
                            "color": "rgb(17,17,17)",
                            "width": 0.5
                          },
                          "pattern": {
                            "fillmode": "overlay",
                            "size": 10,
                            "solidity": 0.2
                          }
                        },
                        "type": "bar"
                      }
                    ],
                    "barpolar": [
                      {
                        "marker": {
                          "line": {
                            "color": "rgb(17,17,17)",
                            "width": 0.5
                          },
                          "pattern": {
                            "fillmode": "overlay",
                            "size": 10,
                            "solidity": 0.2
                          }
                        },
                        "type": "barpolar"
                      }
                    ],
                    "carpet": [
                      {
                        "aaxis": {
                          "endlinecolor": "#A2B1C6",
                          "gridcolor": "#506784",
                          "linecolor": "#506784",
                          "minorgridcolor": "#506784",
                          "startlinecolor": "#A2B1C6"
                        },
                        "baxis": {
                          "endlinecolor": "#A2B1C6",
                          "gridcolor": "#506784",
                          "linecolor": "#506784",
                          "minorgridcolor": "#506784",
                          "startlinecolor": "#A2B1C6"
                        },
                        "type": "carpet"
                      }
                    ],
                    "choropleth": [
                      {
                        "colorbar": {
                          "outlinewidth": 0,
                          "ticks": ""
                        },
                        "type": "choropleth"
                      }
                    ],
                    "contour": [
                      {
                        "colorbar": {
                          "outlinewidth": 0,
                          "ticks": ""
                        },
                        "colorscale": [
                          [
                            0,
                            "#0d0887"
                          ],
                          [
                            0.1111111111111111,
                            "#46039f"
                          ],
                          [
                            0.2222222222222222,
                            "#7201a8"
                          ],
                          [
                            0.3333333333333333,
                            "#9c179e"
                          ],
                          [
                            0.4444444444444444,
                            "#bd3786"
                          ],
                          [
                            0.5555555555555556,
                            "#d8576b"
                          ],
                          [
                            0.6666666666666666,
                            "#ed7953"
                          ],
                          [
                            0.7777777777777778,
                            "#fb9f3a"
                          ],
                          [
                            0.8888888888888888,
                            "#fdca26"
                          ],
                          [
                            1,
                            "#f0f921"
                          ]
                        ],
                        "type": "contour"
                      }
                    ],
                    "contourcarpet": [
                      {
                        "colorbar": {
                          "outlinewidth": 0,
                          "ticks": ""
                        },
                        "type": "contourcarpet"
                      }
                    ],
                    "heatmap": [
                      {
                        "colorbar": {
                          "outlinewidth": 0,
                          "ticks": ""
                        },
                        "colorscale": [
                          [
                            0,
                            "#0d0887"
                          ],
                          [
                            0.1111111111111111,
                            "#46039f"
                          ],
                          [
                            0.2222222222222222,
                            "#7201a8"
                          ],
                          [
                            0.3333333333333333,
                            "#9c179e"
                          ],
                          [
                            0.4444444444444444,
                            "#bd3786"
                          ],
                          [
                            0.5555555555555556,
                            "#d8576b"
                          ],
                          [
                            0.6666666666666666,
                            "#ed7953"
                          ],
                          [
                            0.7777777777777778,
                            "#fb9f3a"
                          ],
                          [
                            0.8888888888888888,
                            "#fdca26"
                          ],
                          [
                            1,
                            "#f0f921"
                          ]
                        ],
                        "type": "heatmap"
                      }
                    ],
                    "heatmapgl": [
                      {
                        "colorbar": {
                          "outlinewidth": 0,
                          "ticks": ""
                        },
                        "colorscale": [
                          [
                            0,
                            "#0d0887"
                          ],
                          [
                            0.1111111111111111,
                            "#46039f"
                          ],
                          [
                            0.2222222222222222,
                            "#7201a8"
                          ],
                          [
                            0.3333333333333333,
                            "#9c179e"
                          ],
                          [
                            0.4444444444444444,
                            "#bd3786"
                          ],
                          [
                            0.5555555555555556,
                            "#d8576b"
                          ],
                          [
                            0.6666666666666666,
                            "#ed7953"
                          ],
                          [
                            0.7777777777777778,
                            "#fb9f3a"
                          ],
                          [
                            0.8888888888888888,
                            "#fdca26"
                          ],
                          [
                            1,
                            "#f0f921"
                          ]
                        ],
                        "type": "heatmapgl"
                      }
                    ],
                    "histogram": [
                      {
                        "marker": {
                          "pattern": {
                            "fillmode": "overlay",
                            "size": 10,
                            "solidity": 0.2
                          }
                        },
                        "type": "histogram"
                      }
                    ],
                    "histogram2d": [
                      {
                        "colorbar": {
                          "outlinewidth": 0,
                          "ticks": ""
                        },
                        "colorscale": [
                          [
                            0,
                            "#0d0887"
                          ],
                          [
                            0.1111111111111111,
                            "#46039f"
                          ],
                          [
                            0.2222222222222222,
                            "#7201a8"
                          ],
                          [
                            0.3333333333333333,
                            "#9c179e"
                          ],
                          [
                            0.4444444444444444,
                            "#bd3786"
                          ],
                          [
                            0.5555555555555556,
                            "#d8576b"
                          ],
                          [
                            0.6666666666666666,
                            "#ed7953"
                          ],
                          [
                            0.7777777777777778,
                            "#fb9f3a"
                          ],
                          [
                            0.8888888888888888,
                            "#fdca26"
                          ],
                          [
                            1,
                            "#f0f921"
                          ]
                        ],
                        "type": "histogram2d"
                      }
                    ],
                    "histogram2dcontour": [
                      {
                        "colorbar": {
                          "outlinewidth": 0,
                          "ticks": ""
                        },
                        "colorscale": [
                          [
                            0,
                            "#0d0887"
                          ],
                          [
                            0.1111111111111111,
                            "#46039f"
                          ],
                          [
                            0.2222222222222222,
                            "#7201a8"
                          ],
                          [
                            0.3333333333333333,
                            "#9c179e"
                          ],
                          [
                            0.4444444444444444,
                            "#bd3786"
                          ],
                          [
                            0.5555555555555556,
                            "#d8576b"
                          ],
                          [
                            0.6666666666666666,
                            "#ed7953"
                          ],
                          [
                            0.7777777777777778,
                            "#fb9f3a"
                          ],
                          [
                            0.8888888888888888,
                            "#fdca26"
                          ],
                          [
                            1,
                            "#f0f921"
                          ]
                        ],
                        "type": "histogram2dcontour"
                      }
                    ],
                    "mesh3d": [
                      {
                        "colorbar": {
                          "outlinewidth": 0,
                          "ticks": ""
                        },
                        "type": "mesh3d"
                      }
                    ],
                    "parcoords": [
                      {
                        "line": {
                          "colorbar": {
                            "outlinewidth": 0,
                            "ticks": ""
                          }
                        },
                        "type": "parcoords"
                      }
                    ],
                    "pie": [
                      {
                        "automargin": true,
                        "type": "pie"
                      }
                    ],
                    "scatter": [
                      {
                        "marker": {
                          "line": {
                            "color": "#283442"
                          }
                        },
                        "type": "scatter"
                      }
                    ],
                    "scatter3d": [
                      {
                        "line": {
                          "colorbar": {
                            "outlinewidth": 0,
                            "ticks": ""
                          }
                        },
                        "marker": {
                          "colorbar": {
                            "outlinewidth": 0,
                            "ticks": ""
                          }
                        },
                        "type": "scatter3d"
                      }
                    ],
                    "scattercarpet": [
                      {
                        "marker": {
                          "colorbar": {
                            "outlinewidth": 0,
                            "ticks": ""
                          }
                        },
                        "type": "scattercarpet"
                      }
                    ],
                    "scattergeo": [
                      {
                        "marker": {
                          "colorbar": {
                            "outlinewidth": 0,
                            "ticks": ""
                          }
                        },
                        "type": "scattergeo"
                      }
                    ],
                    "scattergl": [
                      {
                        "marker": {
                          "line": {
                            "color": "#283442"
                          }
                        },
                        "type": "scattergl"
                      }
                    ],
                    "scattermapbox": [
                      {
                        "marker": {
                          "colorbar": {
                            "outlinewidth": 0,
                            "ticks": ""
                          }
                        },
                        "type": "scattermapbox"
                      }
                    ],
                    "scatterpolar": [
                      {
                        "marker": {
                          "colorbar": {
                            "outlinewidth": 0,
                            "ticks": ""
                          }
                        },
                        "type": "scatterpolar"
                      }
                    ],
                    "scatterpolargl": [
                      {
                        "marker": {
                          "colorbar": {
                            "outlinewidth": 0,
                            "ticks": ""
                          }
                        },
                        "type": "scatterpolargl"
                      }
                    ],
                    "scatterternary": [
                      {
                        "marker": {
                          "colorbar": {
                            "outlinewidth": 0,
                            "ticks": ""
                          }
                        },
                        "type": "scatterternary"
                      }
                    ],
                    "surface": [
                      {
                        "colorbar": {
                          "outlinewidth": 0,
                          "ticks": ""
                        },
                        "colorscale": [
                          [
                            0,
                            "#0d0887"
                          ],
                          [
                            0.1111111111111111,
                            "#46039f"
                          ],
                          [
                            0.2222222222222222,
                            "#7201a8"
                          ],
                          [
                            0.3333333333333333,
                            "#9c179e"
                          ],
                          [
                            0.4444444444444444,
                            "#bd3786"
                          ],
                          [
                            0.5555555555555556,
                            "#d8576b"
                          ],
                          [
                            0.6666666666666666,
                            "#ed7953"
                          ],
                          [
                            0.7777777777777778,
                            "#fb9f3a"
                          ],
                          [
                            0.8888888888888888,
                            "#fdca26"
                          ],
                          [
                            1,
                            "#f0f921"
                          ]
                        ],
                        "type": "surface"
                      }
                    ],
                    "table": [
                      {
                        "cells": {
                          "fill": {
                            "color": "#506784"
                          },
                          "line": {
                            "color": "rgb(17,17,17)"
                          }
                        },
                        "header": {
                          "fill": {
                            "color": "#2a3f5f"
                          },
                          "line": {
                            "color": "rgb(17,17,17)"
                          }
                        },
                        "type": "table"
                      }
                    ]
                  },
                  "layout": {
                    "annotationdefaults": {
                      "arrowcolor": "#f2f5fa",
                      "arrowhead": 0,
                      "arrowwidth": 1
                    },
                    "autotypenumbers": "strict",
                    "coloraxis": {
                      "colorbar": {
                        "outlinewidth": 0,
                        "ticks": ""
                      }
                    },
                    "colorscale": {
                      "diverging": [
                        [
                          0,
                          "#8e0152"
                        ],
                        [
                          0.1,
                          "#c51b7d"
                        ],
                        [
                          0.2,
                          "#de77ae"
                        ],
                        [
                          0.3,
                          "#f1b6da"
                        ],
                        [
                          0.4,
                          "#fde0ef"
                        ],
                        [
                          0.5,
                          "#f7f7f7"
                        ],
                        [
                          0.6,
                          "#e6f5d0"
                        ],
                        [
                          0.7,
                          "#b8e186"
                        ],
                        [
                          0.8,
                          "#7fbc41"
                        ],
                        [
                          0.9,
                          "#4d9221"
                        ],
                        [
                          1,
                          "#276419"
                        ]
                      ],
                      "sequential": [
                        [
                          0,
                          "#0d0887"
                        ],
                        [
                          0.1111111111111111,
                          "#46039f"
                        ],
                        [
                          0.2222222222222222,
                          "#7201a8"
                        ],
                        [
                          0.3333333333333333,
                          "#9c179e"
                        ],
                        [
                          0.4444444444444444,
                          "#bd3786"
                        ],
                        [
                          0.5555555555555556,
                          "#d8576b"
                        ],
                        [
                          0.6666666666666666,
                          "#ed7953"
                        ],
                        [
                          0.7777777777777778,
                          "#fb9f3a"
                        ],
                        [
                          0.8888888888888888,
                          "#fdca26"
                        ],
                        [
                          1,
                          "#f0f921"
                        ]
                      ],
                      "sequentialminus": [
                        [
                          0,
                          "#0d0887"
                        ],
                        [
                          0.1111111111111111,
                          "#46039f"
                        ],
                        [
                          0.2222222222222222,
                          "#7201a8"
                        ],
                        [
                          0.3333333333333333,
                          "#9c179e"
                        ],
                        [
                          0.4444444444444444,
                          "#bd3786"
                        ],
                        [
                          0.5555555555555556,
                          "#d8576b"
                        ],
                        [
                          0.6666666666666666,
                          "#ed7953"
                        ],
                        [
                          0.7777777777777778,
                          "#fb9f3a"
                        ],
                        [
                          0.8888888888888888,
                          "#fdca26"
                        ],
                        [
                          1,
                          "#f0f921"
                        ]
                      ]
                    },
                    "colorway": [
                      "#636efa",
                      "#EF553B",
                      "#00cc96",
                      "#ab63fa",
                      "#FFA15A",
                      "#19d3f3",
                      "#FF6692",
                      "#B6E880",
                      "#FF97FF",
                      "#FECB52"
                    ],
                    "font": {
                      "color": "#f2f5fa"
                    },
                    "geo": {
                      "bgcolor": "rgb(17,17,17)",
                      "lakecolor": "rgb(17,17,17)",
                      "landcolor": "rgb(17,17,17)",
                      "showlakes": true,
                      "showland": true,
                      "subunitcolor": "#506784"
                    },
                    "hoverlabel": {
                      "align": "left"
                    },
                    "hovermode": "closest",
                    "mapbox": {
                      "style": "dark"
                    },
                    "paper_bgcolor": "rgb(17,17,17)",
                    "plot_bgcolor": "rgb(17,17,17)",
                    "polar": {
                      "angularaxis": {
                        "gridcolor": "#506784",
                        "linecolor": "#506784",
                        "ticks": ""
                      },
                      "bgcolor": "rgb(17,17,17)",
                      "radialaxis": {
                        "gridcolor": "#506784",
                        "linecolor": "#506784",
                        "ticks": ""
                      }
                    },
                    "scene": {
                      "xaxis": {
                        "backgroundcolor": "rgb(17,17,17)",
                        "gridcolor": "#506784",
                        "gridwidth": 2,
                        "linecolor": "#506784",
                        "showbackground": true,
                        "ticks": "",
                        "zerolinecolor": "#C8D4E3"
                      },
                      "yaxis": {
                        "backgroundcolor": "rgb(17,17,17)",
                        "gridcolor": "#506784",
                        "gridwidth": 2,
                        "linecolor": "#506784",
                        "showbackground": true,
                        "ticks": "",
                        "zerolinecolor": "#C8D4E3"
                      },
                      "zaxis": {
                        "backgroundcolor": "rgb(17,17,17)",
                        "gridcolor": "#506784",
                        "gridwidth": 2,
                        "linecolor": "#506784",
                        "showbackground": true,
                        "ticks": "",
                        "zerolinecolor": "#C8D4E3"
                      }
                    },
                    "shapedefaults": {
                      "line": {
                        "color": "#f2f5fa"
                      }
                    },
                    "sliderdefaults": {
                      "bgcolor": "#C8D4E3",
                      "bordercolor": "rgb(17,17,17)",
                      "borderwidth": 1,
                      "tickwidth": 0
                    },
                    "ternary": {
                      "aaxis": {
                        "gridcolor": "#506784",
                        "linecolor": "#506784",
                        "ticks": ""
                      },
                      "baxis": {
                        "gridcolor": "#506784",
                        "linecolor": "#506784",
                        "ticks": ""
                      },
                      "bgcolor": "rgb(17,17,17)",
                      "caxis": {
                        "gridcolor": "#506784",
                        "linecolor": "#506784",
                        "ticks": ""
                      }
                    },
                    "title": {
                      "x": 0.05
                    },
                    "updatemenudefaults": {
                      "bgcolor": "#506784",
                      "borderwidth": 0
                    },
                    "xaxis": {
                      "automargin": true,
                      "gridcolor": "#283442",
                      "linecolor": "#506784",
                      "ticks": "",
                      "title": {
                        "standoff": 15
                      },
                      "zerolinecolor": "#283442",
                      "zerolinewidth": 2
                    },
                    "yaxis": {
                      "automargin": true,
                      "gridcolor": "#283442",
                      "linecolor": "#506784",
                      "ticks": "",
                      "title": {
                        "standoff": 15
                      },
                      "zerolinecolor": "#283442",
                      "zerolinewidth": 2
                    }
                  }
                },
                "title": {
                  "font": {
                    "size": 25
                  },
                  "text": "Model Performance",
                  "x": 0.5,
                  "xanchor": "center",
                  "y": 0.9,
                  "yanchor": "top"
                },
                "width": 750,
                "xaxis": {
                  "anchor": "y",
                  "domain": [
                    0,
                    1
                  ],
                  "rangeslider": {
                    "visible": true
                  },
                  "title": {
                    "text": "Date"
                  }
                },
                "yaxis": {
                  "anchor": "x",
                  "domain": [
                    0,
                    1
                  ],
                  "tickformat": "$",
                  "title": {
                    "text": "Close Price"
                  }
                }
              }
            }
          },
          "metadata": {},
          "output_type": "display_data"
        }
      ],
      "source": [
        "# This is what we would call in the dashboard\n",
        "ab_model = build_AttentiveBLSTM(\n",
        "                        in_shape=(X_train.shape[1], X_train.shape[2]),\n",
        "                        num_rnns=4,\n",
        "                        dim_rnn=50,\n",
        "                        drop=True,\n",
        "                        drop_rate=0.5,\n",
        "                        suffix='4RNN_d50'\n",
        "                        )\n",
        "ab_model.load_weights('./models/BTC_Attentive_BLSTM_60_lags_3_fts_4RNN_d50.h5')\n",
        "test_df = get_test_df(ab_model, X_test, y_test, scaler, test_dates)\n",
        "test_fig = plot_model_test(test_df)\n",
        "test_fig.update_layout(width=750, height=500)"
      ]
    },
    {
      "cell_type": "markdown",
      "metadata": {
        "id": "NGYkW1abR3_O"
      },
      "source": [
        "# Feature Importance"
      ]
    },
    {
      "cell_type": "code",
      "execution_count": null,
      "metadata": {
        "id": "UQ5b46K5R3_O",
        "outputId": "178cef7f-b74e-4ede-8aaf-aa7318ecb7f9"
      },
      "outputs": [
        {
          "data": {
            "application/vnd.plotly.v1+json": {
              "config": {
                "plotlyServerURL": "https://plot.ly"
              },
              "data": [
                {
                  "marker": {
                    "color": "rgba(50, 171, 96, 0.6)"
                  },
                  "name": "mae",
                  "orientation": "h",
                  "type": "bar",
                  "visible": false,
                  "x": [
                    0.00015259255875193709,
                    0.00016232906524694599,
                    0.00020033096613949336,
                    0.0002987587778223201,
                    0.00031655898057084825,
                    0.00038846751343838207,
                    0.00048601701061118385,
                    0.0005203329598536116,
                    0.0005375427868733913,
                    0.000585241103574323,
                    0.0007237073324172227,
                    0.0008021906843029072,
                    0.0008476147106536748,
                    0.0013984544800856383,
                    0.003995376603669554,
                    0.006784708197977295,
                    0.013934702909935898,
                    0.024420970311324584,
                    0.027863464189589272,
                    0.02839847454498466
                  ],
                  "y": [
                    "Volume(t-1)",
                    "Close_t(t-10)",
                    "TYX(t-11)",
                    "Close_t(t-9)",
                    "TYX(t-10)",
                    "Close_t(t-8)",
                    "TYX(t-4)",
                    "TYX(t-9)",
                    "TYX(t-8)",
                    "Close_t(t-7)",
                    "TYX(t-5)",
                    "TYX(t-6)",
                    "TYX(t-7)",
                    "Close_t(t-6)",
                    "Close_t(t-5)",
                    "Close_t(t-4)",
                    "Close_t(t-3)",
                    "Close_t(t-2)",
                    "Close_t(t-1)",
                    "BASELINE"
                  ]
                },
                {
                  "marker": {
                    "color": "rgba(50, 171, 96, 0.6)"
                  },
                  "name": "mse",
                  "orientation": "h",
                  "type": "bar",
                  "visible": true,
                  "x": [
                    0.000013261630869542892,
                    0.000014103420678323892,
                    0.000018999270358657566,
                    0.000021609153051766698,
                    0.00002655293104458713,
                    0.000034658051573872254,
                    0.00003820287170725476,
                    0.00004336195409700844,
                    0.000049178965991013724,
                    0.0000592340957977517,
                    0.00007254202979235596,
                    0.00007526575699647975,
                    0.00008050050259754567,
                    0.0001492118924927312,
                    0.00037919990289946135,
                    0.000664052868851774,
                    0.0013044414864358438,
                    0.0015679900478364835,
                    0.003003425398057813,
                    0.0037841247309170984
                  ],
                  "y": [
                    "Volume(t-1)",
                    "Close_t(t-10)",
                    "TYX(t-11)",
                    "Close_t(t-9)",
                    "TYX(t-10)",
                    "Close_t(t-8)",
                    "TYX(t-4)",
                    "TYX(t-9)",
                    "TYX(t-8)",
                    "TYX(t-5)",
                    "Close_t(t-7)",
                    "TYX(t-7)",
                    "TYX(t-6)",
                    "Close_t(t-6)",
                    "Close_t(t-5)",
                    "Close_t(t-4)",
                    "BASELINE",
                    "Close_t(t-3)",
                    "Close_t(t-2)",
                    "Close_t(t-1)"
                  ]
                }
              ],
              "layout": {
                "autosize": true,
                "height": 500,
                "template": {
                  "data": {
                    "bar": [
                      {
                        "error_x": {
                          "color": "#f2f5fa"
                        },
                        "error_y": {
                          "color": "#f2f5fa"
                        },
                        "marker": {
                          "line": {
                            "color": "rgb(17,17,17)",
                            "width": 0.5
                          },
                          "pattern": {
                            "fillmode": "overlay",
                            "size": 10,
                            "solidity": 0.2
                          }
                        },
                        "type": "bar"
                      }
                    ],
                    "barpolar": [
                      {
                        "marker": {
                          "line": {
                            "color": "rgb(17,17,17)",
                            "width": 0.5
                          },
                          "pattern": {
                            "fillmode": "overlay",
                            "size": 10,
                            "solidity": 0.2
                          }
                        },
                        "type": "barpolar"
                      }
                    ],
                    "carpet": [
                      {
                        "aaxis": {
                          "endlinecolor": "#A2B1C6",
                          "gridcolor": "#506784",
                          "linecolor": "#506784",
                          "minorgridcolor": "#506784",
                          "startlinecolor": "#A2B1C6"
                        },
                        "baxis": {
                          "endlinecolor": "#A2B1C6",
                          "gridcolor": "#506784",
                          "linecolor": "#506784",
                          "minorgridcolor": "#506784",
                          "startlinecolor": "#A2B1C6"
                        },
                        "type": "carpet"
                      }
                    ],
                    "choropleth": [
                      {
                        "colorbar": {
                          "outlinewidth": 0,
                          "ticks": ""
                        },
                        "type": "choropleth"
                      }
                    ],
                    "contour": [
                      {
                        "colorbar": {
                          "outlinewidth": 0,
                          "ticks": ""
                        },
                        "colorscale": [
                          [
                            0,
                            "#0d0887"
                          ],
                          [
                            0.1111111111111111,
                            "#46039f"
                          ],
                          [
                            0.2222222222222222,
                            "#7201a8"
                          ],
                          [
                            0.3333333333333333,
                            "#9c179e"
                          ],
                          [
                            0.4444444444444444,
                            "#bd3786"
                          ],
                          [
                            0.5555555555555556,
                            "#d8576b"
                          ],
                          [
                            0.6666666666666666,
                            "#ed7953"
                          ],
                          [
                            0.7777777777777778,
                            "#fb9f3a"
                          ],
                          [
                            0.8888888888888888,
                            "#fdca26"
                          ],
                          [
                            1,
                            "#f0f921"
                          ]
                        ],
                        "type": "contour"
                      }
                    ],
                    "contourcarpet": [
                      {
                        "colorbar": {
                          "outlinewidth": 0,
                          "ticks": ""
                        },
                        "type": "contourcarpet"
                      }
                    ],
                    "heatmap": [
                      {
                        "colorbar": {
                          "outlinewidth": 0,
                          "ticks": ""
                        },
                        "colorscale": [
                          [
                            0,
                            "#0d0887"
                          ],
                          [
                            0.1111111111111111,
                            "#46039f"
                          ],
                          [
                            0.2222222222222222,
                            "#7201a8"
                          ],
                          [
                            0.3333333333333333,
                            "#9c179e"
                          ],
                          [
                            0.4444444444444444,
                            "#bd3786"
                          ],
                          [
                            0.5555555555555556,
                            "#d8576b"
                          ],
                          [
                            0.6666666666666666,
                            "#ed7953"
                          ],
                          [
                            0.7777777777777778,
                            "#fb9f3a"
                          ],
                          [
                            0.8888888888888888,
                            "#fdca26"
                          ],
                          [
                            1,
                            "#f0f921"
                          ]
                        ],
                        "type": "heatmap"
                      }
                    ],
                    "heatmapgl": [
                      {
                        "colorbar": {
                          "outlinewidth": 0,
                          "ticks": ""
                        },
                        "colorscale": [
                          [
                            0,
                            "#0d0887"
                          ],
                          [
                            0.1111111111111111,
                            "#46039f"
                          ],
                          [
                            0.2222222222222222,
                            "#7201a8"
                          ],
                          [
                            0.3333333333333333,
                            "#9c179e"
                          ],
                          [
                            0.4444444444444444,
                            "#bd3786"
                          ],
                          [
                            0.5555555555555556,
                            "#d8576b"
                          ],
                          [
                            0.6666666666666666,
                            "#ed7953"
                          ],
                          [
                            0.7777777777777778,
                            "#fb9f3a"
                          ],
                          [
                            0.8888888888888888,
                            "#fdca26"
                          ],
                          [
                            1,
                            "#f0f921"
                          ]
                        ],
                        "type": "heatmapgl"
                      }
                    ],
                    "histogram": [
                      {
                        "marker": {
                          "pattern": {
                            "fillmode": "overlay",
                            "size": 10,
                            "solidity": 0.2
                          }
                        },
                        "type": "histogram"
                      }
                    ],
                    "histogram2d": [
                      {
                        "colorbar": {
                          "outlinewidth": 0,
                          "ticks": ""
                        },
                        "colorscale": [
                          [
                            0,
                            "#0d0887"
                          ],
                          [
                            0.1111111111111111,
                            "#46039f"
                          ],
                          [
                            0.2222222222222222,
                            "#7201a8"
                          ],
                          [
                            0.3333333333333333,
                            "#9c179e"
                          ],
                          [
                            0.4444444444444444,
                            "#bd3786"
                          ],
                          [
                            0.5555555555555556,
                            "#d8576b"
                          ],
                          [
                            0.6666666666666666,
                            "#ed7953"
                          ],
                          [
                            0.7777777777777778,
                            "#fb9f3a"
                          ],
                          [
                            0.8888888888888888,
                            "#fdca26"
                          ],
                          [
                            1,
                            "#f0f921"
                          ]
                        ],
                        "type": "histogram2d"
                      }
                    ],
                    "histogram2dcontour": [
                      {
                        "colorbar": {
                          "outlinewidth": 0,
                          "ticks": ""
                        },
                        "colorscale": [
                          [
                            0,
                            "#0d0887"
                          ],
                          [
                            0.1111111111111111,
                            "#46039f"
                          ],
                          [
                            0.2222222222222222,
                            "#7201a8"
                          ],
                          [
                            0.3333333333333333,
                            "#9c179e"
                          ],
                          [
                            0.4444444444444444,
                            "#bd3786"
                          ],
                          [
                            0.5555555555555556,
                            "#d8576b"
                          ],
                          [
                            0.6666666666666666,
                            "#ed7953"
                          ],
                          [
                            0.7777777777777778,
                            "#fb9f3a"
                          ],
                          [
                            0.8888888888888888,
                            "#fdca26"
                          ],
                          [
                            1,
                            "#f0f921"
                          ]
                        ],
                        "type": "histogram2dcontour"
                      }
                    ],
                    "mesh3d": [
                      {
                        "colorbar": {
                          "outlinewidth": 0,
                          "ticks": ""
                        },
                        "type": "mesh3d"
                      }
                    ],
                    "parcoords": [
                      {
                        "line": {
                          "colorbar": {
                            "outlinewidth": 0,
                            "ticks": ""
                          }
                        },
                        "type": "parcoords"
                      }
                    ],
                    "pie": [
                      {
                        "automargin": true,
                        "type": "pie"
                      }
                    ],
                    "scatter": [
                      {
                        "marker": {
                          "line": {
                            "color": "#283442"
                          }
                        },
                        "type": "scatter"
                      }
                    ],
                    "scatter3d": [
                      {
                        "line": {
                          "colorbar": {
                            "outlinewidth": 0,
                            "ticks": ""
                          }
                        },
                        "marker": {
                          "colorbar": {
                            "outlinewidth": 0,
                            "ticks": ""
                          }
                        },
                        "type": "scatter3d"
                      }
                    ],
                    "scattercarpet": [
                      {
                        "marker": {
                          "colorbar": {
                            "outlinewidth": 0,
                            "ticks": ""
                          }
                        },
                        "type": "scattercarpet"
                      }
                    ],
                    "scattergeo": [
                      {
                        "marker": {
                          "colorbar": {
                            "outlinewidth": 0,
                            "ticks": ""
                          }
                        },
                        "type": "scattergeo"
                      }
                    ],
                    "scattergl": [
                      {
                        "marker": {
                          "line": {
                            "color": "#283442"
                          }
                        },
                        "type": "scattergl"
                      }
                    ],
                    "scattermapbox": [
                      {
                        "marker": {
                          "colorbar": {
                            "outlinewidth": 0,
                            "ticks": ""
                          }
                        },
                        "type": "scattermapbox"
                      }
                    ],
                    "scatterpolar": [
                      {
                        "marker": {
                          "colorbar": {
                            "outlinewidth": 0,
                            "ticks": ""
                          }
                        },
                        "type": "scatterpolar"
                      }
                    ],
                    "scatterpolargl": [
                      {
                        "marker": {
                          "colorbar": {
                            "outlinewidth": 0,
                            "ticks": ""
                          }
                        },
                        "type": "scatterpolargl"
                      }
                    ],
                    "scatterternary": [
                      {
                        "marker": {
                          "colorbar": {
                            "outlinewidth": 0,
                            "ticks": ""
                          }
                        },
                        "type": "scatterternary"
                      }
                    ],
                    "surface": [
                      {
                        "colorbar": {
                          "outlinewidth": 0,
                          "ticks": ""
                        },
                        "colorscale": [
                          [
                            0,
                            "#0d0887"
                          ],
                          [
                            0.1111111111111111,
                            "#46039f"
                          ],
                          [
                            0.2222222222222222,
                            "#7201a8"
                          ],
                          [
                            0.3333333333333333,
                            "#9c179e"
                          ],
                          [
                            0.4444444444444444,
                            "#bd3786"
                          ],
                          [
                            0.5555555555555556,
                            "#d8576b"
                          ],
                          [
                            0.6666666666666666,
                            "#ed7953"
                          ],
                          [
                            0.7777777777777778,
                            "#fb9f3a"
                          ],
                          [
                            0.8888888888888888,
                            "#fdca26"
                          ],
                          [
                            1,
                            "#f0f921"
                          ]
                        ],
                        "type": "surface"
                      }
                    ],
                    "table": [
                      {
                        "cells": {
                          "fill": {
                            "color": "#506784"
                          },
                          "line": {
                            "color": "rgb(17,17,17)"
                          }
                        },
                        "header": {
                          "fill": {
                            "color": "#2a3f5f"
                          },
                          "line": {
                            "color": "rgb(17,17,17)"
                          }
                        },
                        "type": "table"
                      }
                    ]
                  },
                  "layout": {
                    "annotationdefaults": {
                      "arrowcolor": "#f2f5fa",
                      "arrowhead": 0,
                      "arrowwidth": 1
                    },
                    "autotypenumbers": "strict",
                    "coloraxis": {
                      "colorbar": {
                        "outlinewidth": 0,
                        "ticks": ""
                      }
                    },
                    "colorscale": {
                      "diverging": [
                        [
                          0,
                          "#8e0152"
                        ],
                        [
                          0.1,
                          "#c51b7d"
                        ],
                        [
                          0.2,
                          "#de77ae"
                        ],
                        [
                          0.3,
                          "#f1b6da"
                        ],
                        [
                          0.4,
                          "#fde0ef"
                        ],
                        [
                          0.5,
                          "#f7f7f7"
                        ],
                        [
                          0.6,
                          "#e6f5d0"
                        ],
                        [
                          0.7,
                          "#b8e186"
                        ],
                        [
                          0.8,
                          "#7fbc41"
                        ],
                        [
                          0.9,
                          "#4d9221"
                        ],
                        [
                          1,
                          "#276419"
                        ]
                      ],
                      "sequential": [
                        [
                          0,
                          "#0d0887"
                        ],
                        [
                          0.1111111111111111,
                          "#46039f"
                        ],
                        [
                          0.2222222222222222,
                          "#7201a8"
                        ],
                        [
                          0.3333333333333333,
                          "#9c179e"
                        ],
                        [
                          0.4444444444444444,
                          "#bd3786"
                        ],
                        [
                          0.5555555555555556,
                          "#d8576b"
                        ],
                        [
                          0.6666666666666666,
                          "#ed7953"
                        ],
                        [
                          0.7777777777777778,
                          "#fb9f3a"
                        ],
                        [
                          0.8888888888888888,
                          "#fdca26"
                        ],
                        [
                          1,
                          "#f0f921"
                        ]
                      ],
                      "sequentialminus": [
                        [
                          0,
                          "#0d0887"
                        ],
                        [
                          0.1111111111111111,
                          "#46039f"
                        ],
                        [
                          0.2222222222222222,
                          "#7201a8"
                        ],
                        [
                          0.3333333333333333,
                          "#9c179e"
                        ],
                        [
                          0.4444444444444444,
                          "#bd3786"
                        ],
                        [
                          0.5555555555555556,
                          "#d8576b"
                        ],
                        [
                          0.6666666666666666,
                          "#ed7953"
                        ],
                        [
                          0.7777777777777778,
                          "#fb9f3a"
                        ],
                        [
                          0.8888888888888888,
                          "#fdca26"
                        ],
                        [
                          1,
                          "#f0f921"
                        ]
                      ]
                    },
                    "colorway": [
                      "#636efa",
                      "#EF553B",
                      "#00cc96",
                      "#ab63fa",
                      "#FFA15A",
                      "#19d3f3",
                      "#FF6692",
                      "#B6E880",
                      "#FF97FF",
                      "#FECB52"
                    ],
                    "font": {
                      "color": "#f2f5fa"
                    },
                    "geo": {
                      "bgcolor": "rgb(17,17,17)",
                      "lakecolor": "rgb(17,17,17)",
                      "landcolor": "rgb(17,17,17)",
                      "showlakes": true,
                      "showland": true,
                      "subunitcolor": "#506784"
                    },
                    "hoverlabel": {
                      "align": "left"
                    },
                    "hovermode": "closest",
                    "mapbox": {
                      "style": "dark"
                    },
                    "paper_bgcolor": "rgb(17,17,17)",
                    "plot_bgcolor": "rgb(17,17,17)",
                    "polar": {
                      "angularaxis": {
                        "gridcolor": "#506784",
                        "linecolor": "#506784",
                        "ticks": ""
                      },
                      "bgcolor": "rgb(17,17,17)",
                      "radialaxis": {
                        "gridcolor": "#506784",
                        "linecolor": "#506784",
                        "ticks": ""
                      }
                    },
                    "scene": {
                      "xaxis": {
                        "backgroundcolor": "rgb(17,17,17)",
                        "gridcolor": "#506784",
                        "gridwidth": 2,
                        "linecolor": "#506784",
                        "showbackground": true,
                        "ticks": "",
                        "zerolinecolor": "#C8D4E3"
                      },
                      "yaxis": {
                        "backgroundcolor": "rgb(17,17,17)",
                        "gridcolor": "#506784",
                        "gridwidth": 2,
                        "linecolor": "#506784",
                        "showbackground": true,
                        "ticks": "",
                        "zerolinecolor": "#C8D4E3"
                      },
                      "zaxis": {
                        "backgroundcolor": "rgb(17,17,17)",
                        "gridcolor": "#506784",
                        "gridwidth": 2,
                        "linecolor": "#506784",
                        "showbackground": true,
                        "ticks": "",
                        "zerolinecolor": "#C8D4E3"
                      }
                    },
                    "shapedefaults": {
                      "line": {
                        "color": "#f2f5fa"
                      }
                    },
                    "sliderdefaults": {
                      "bgcolor": "#C8D4E3",
                      "bordercolor": "rgb(17,17,17)",
                      "borderwidth": 1,
                      "tickwidth": 0
                    },
                    "ternary": {
                      "aaxis": {
                        "gridcolor": "#506784",
                        "linecolor": "#506784",
                        "ticks": ""
                      },
                      "baxis": {
                        "gridcolor": "#506784",
                        "linecolor": "#506784",
                        "ticks": ""
                      },
                      "bgcolor": "rgb(17,17,17)",
                      "caxis": {
                        "gridcolor": "#506784",
                        "linecolor": "#506784",
                        "ticks": ""
                      }
                    },
                    "title": {
                      "x": 0.05
                    },
                    "updatemenudefaults": {
                      "bgcolor": "#506784",
                      "borderwidth": 0
                    },
                    "xaxis": {
                      "automargin": true,
                      "gridcolor": "#283442",
                      "linecolor": "#506784",
                      "ticks": "",
                      "title": {
                        "standoff": 15
                      },
                      "zerolinecolor": "#283442",
                      "zerolinewidth": 2
                    },
                    "yaxis": {
                      "automargin": true,
                      "gridcolor": "#283442",
                      "linecolor": "#506784",
                      "ticks": "",
                      "title": {
                        "standoff": 15
                      },
                      "zerolinecolor": "#283442",
                      "zerolinewidth": 2
                    }
                  }
                },
                "title": {
                  "font": {
                    "size": 25
                  },
                  "text": "Feature Importance",
                  "x": 0.5,
                  "xanchor": "center",
                  "y": 0.9,
                  "yanchor": "top"
                },
                "updatemenus": [
                  {
                    "active": 0,
                    "buttons": [
                      {
                        "args": [
                          {
                            "visible": [
                              true,
                              false
                            ]
                          }
                        ],
                        "label": "MAE",
                        "method": "update"
                      },
                      {
                        "args": [
                          {
                            "visible": [
                              false,
                              true
                            ]
                          }
                        ],
                        "label": "MSE",
                        "method": "update"
                      }
                    ],
                    "direction": "left",
                    "font": {
                      "color": "black"
                    },
                    "type": "buttons",
                    "x": 1,
                    "xanchor": "left",
                    "y": 1,
                    "yanchor": "bottom"
                  }
                ],
                "width": 750,
                "xaxis": {
                  "gridcolor": "DarkGrey",
                  "gridwidth": 0.1,
                  "showgrid": true
                },
                "yaxis": {
                  "tickmode": "linear"
                }
              }
            }
          },
          "metadata": {},
          "output_type": "display_data"
        }
      ],
      "source": [
        "blstm_idf = get_importance_df(blstm_model, dsets['Bitcoin'], timesteps)\n",
        "fig = plot_importance(blstm_idf)\n",
        "fig.update_layout(width=750, height=500)"
      ]
    },
    {
      "cell_type": "code",
      "execution_count": null,
      "metadata": {
        "id": "ojyrFcyrR3_O",
        "outputId": "b5cc49e5-01b0-46ec-a53a-0779814039a5"
      },
      "outputs": [
        {
          "data": {
            "application/vnd.plotly.v1+json": {
              "config": {
                "plotlyServerURL": "https://plot.ly"
              },
              "data": [
                {
                  "marker": {
                    "color": "rgba(50, 171, 96, 0.6)"
                  },
                  "name": "mae",
                  "orientation": "h",
                  "type": "bar",
                  "visible": false,
                  "x": [
                    0.0001470496263709098,
                    0.00015100748671863923,
                    0.0001542359855299727,
                    0.00015425662022808262,
                    0.0001551464572574629,
                    0.00015747512394031354,
                    0.00016627637824583041,
                    0.00018545740979263037,
                    0.00021009584627437738,
                    0.00021049287036371822,
                    0.0002208540046053295,
                    0.00022701363279512,
                    0.00024274658642359226,
                    0.0006794636667664805,
                    0.0007398820144884563,
                    0.0028053401407074838,
                    0.0034229643080893046,
                    0.005697168317734189,
                    0.00740620622028107,
                    0.008168000792512294
                  ],
                  "y": [
                    "Close_t(t-21)",
                    "Close_t(t-50)",
                    "Close_t(t-57)",
                    "Close_t(t-52)",
                    "Close_t(t-15)",
                    "Close_t(t-53)",
                    "Close_t(t-55)",
                    "Close_t(t-56)",
                    "Close_t(t-19)",
                    "Close_t(t-18)",
                    "Close_t(t-20)",
                    "Close_t(t-16)",
                    "Close_t(t-17)",
                    "Close_t(t-7)",
                    "Close_t(t-6)",
                    "Close_t(t-5)",
                    "Close_t(t-4)",
                    "Close_t(t-3)",
                    "Close_t(t-1)",
                    "Close_t(t-2)"
                  ]
                },
                {
                  "marker": {
                    "color": "rgba(50, 171, 96, 0.6)"
                  },
                  "name": "mse",
                  "orientation": "h",
                  "type": "bar",
                  "visible": true,
                  "x": [
                    0.000010963180416967942,
                    0.000011733152393632535,
                    0.0000133715037420345,
                    0.000013490260853591448,
                    0.000013490784577695463,
                    0.000013775666512191517,
                    0.000016159160011530466,
                    0.000022073852428164138,
                    0.000024775819971749888,
                    0.00002486286990847366,
                    0.000026643200261325774,
                    0.00002806882982316224,
                    0.000028564450824318,
                    0.00011501776897744945,
                    0.0001486442553140174,
                    0.0003385949969310978,
                    0.000420779111130567,
                    0.0007560582663453178,
                    0.00090347699136788,
                    0.0010135806956852373
                  ],
                  "y": [
                    "Close_t(t-56)",
                    "Close_t(t-52)",
                    "Close_t(t-55)",
                    "Close_t(t-25)",
                    "Close_t(t-50)",
                    "Close_t(t-22)",
                    "Close_t(t-21)",
                    "Close_t(t-15)",
                    "Close_t(t-20)",
                    "Close_t(t-18)",
                    "Close_t(t-16)",
                    "Close_t(t-19)",
                    "Close_t(t-17)",
                    "Close_t(t-7)",
                    "Close_t(t-6)",
                    "Close_t(t-5)",
                    "Close_t(t-4)",
                    "Close_t(t-3)",
                    "Close_t(t-1)",
                    "Close_t(t-2)"
                  ]
                }
              ],
              "layout": {
                "autosize": true,
                "height": 500,
                "template": {
                  "data": {
                    "bar": [
                      {
                        "error_x": {
                          "color": "#f2f5fa"
                        },
                        "error_y": {
                          "color": "#f2f5fa"
                        },
                        "marker": {
                          "line": {
                            "color": "rgb(17,17,17)",
                            "width": 0.5
                          },
                          "pattern": {
                            "fillmode": "overlay",
                            "size": 10,
                            "solidity": 0.2
                          }
                        },
                        "type": "bar"
                      }
                    ],
                    "barpolar": [
                      {
                        "marker": {
                          "line": {
                            "color": "rgb(17,17,17)",
                            "width": 0.5
                          },
                          "pattern": {
                            "fillmode": "overlay",
                            "size": 10,
                            "solidity": 0.2
                          }
                        },
                        "type": "barpolar"
                      }
                    ],
                    "carpet": [
                      {
                        "aaxis": {
                          "endlinecolor": "#A2B1C6",
                          "gridcolor": "#506784",
                          "linecolor": "#506784",
                          "minorgridcolor": "#506784",
                          "startlinecolor": "#A2B1C6"
                        },
                        "baxis": {
                          "endlinecolor": "#A2B1C6",
                          "gridcolor": "#506784",
                          "linecolor": "#506784",
                          "minorgridcolor": "#506784",
                          "startlinecolor": "#A2B1C6"
                        },
                        "type": "carpet"
                      }
                    ],
                    "choropleth": [
                      {
                        "colorbar": {
                          "outlinewidth": 0,
                          "ticks": ""
                        },
                        "type": "choropleth"
                      }
                    ],
                    "contour": [
                      {
                        "colorbar": {
                          "outlinewidth": 0,
                          "ticks": ""
                        },
                        "colorscale": [
                          [
                            0,
                            "#0d0887"
                          ],
                          [
                            0.1111111111111111,
                            "#46039f"
                          ],
                          [
                            0.2222222222222222,
                            "#7201a8"
                          ],
                          [
                            0.3333333333333333,
                            "#9c179e"
                          ],
                          [
                            0.4444444444444444,
                            "#bd3786"
                          ],
                          [
                            0.5555555555555556,
                            "#d8576b"
                          ],
                          [
                            0.6666666666666666,
                            "#ed7953"
                          ],
                          [
                            0.7777777777777778,
                            "#fb9f3a"
                          ],
                          [
                            0.8888888888888888,
                            "#fdca26"
                          ],
                          [
                            1,
                            "#f0f921"
                          ]
                        ],
                        "type": "contour"
                      }
                    ],
                    "contourcarpet": [
                      {
                        "colorbar": {
                          "outlinewidth": 0,
                          "ticks": ""
                        },
                        "type": "contourcarpet"
                      }
                    ],
                    "heatmap": [
                      {
                        "colorbar": {
                          "outlinewidth": 0,
                          "ticks": ""
                        },
                        "colorscale": [
                          [
                            0,
                            "#0d0887"
                          ],
                          [
                            0.1111111111111111,
                            "#46039f"
                          ],
                          [
                            0.2222222222222222,
                            "#7201a8"
                          ],
                          [
                            0.3333333333333333,
                            "#9c179e"
                          ],
                          [
                            0.4444444444444444,
                            "#bd3786"
                          ],
                          [
                            0.5555555555555556,
                            "#d8576b"
                          ],
                          [
                            0.6666666666666666,
                            "#ed7953"
                          ],
                          [
                            0.7777777777777778,
                            "#fb9f3a"
                          ],
                          [
                            0.8888888888888888,
                            "#fdca26"
                          ],
                          [
                            1,
                            "#f0f921"
                          ]
                        ],
                        "type": "heatmap"
                      }
                    ],
                    "heatmapgl": [
                      {
                        "colorbar": {
                          "outlinewidth": 0,
                          "ticks": ""
                        },
                        "colorscale": [
                          [
                            0,
                            "#0d0887"
                          ],
                          [
                            0.1111111111111111,
                            "#46039f"
                          ],
                          [
                            0.2222222222222222,
                            "#7201a8"
                          ],
                          [
                            0.3333333333333333,
                            "#9c179e"
                          ],
                          [
                            0.4444444444444444,
                            "#bd3786"
                          ],
                          [
                            0.5555555555555556,
                            "#d8576b"
                          ],
                          [
                            0.6666666666666666,
                            "#ed7953"
                          ],
                          [
                            0.7777777777777778,
                            "#fb9f3a"
                          ],
                          [
                            0.8888888888888888,
                            "#fdca26"
                          ],
                          [
                            1,
                            "#f0f921"
                          ]
                        ],
                        "type": "heatmapgl"
                      }
                    ],
                    "histogram": [
                      {
                        "marker": {
                          "pattern": {
                            "fillmode": "overlay",
                            "size": 10,
                            "solidity": 0.2
                          }
                        },
                        "type": "histogram"
                      }
                    ],
                    "histogram2d": [
                      {
                        "colorbar": {
                          "outlinewidth": 0,
                          "ticks": ""
                        },
                        "colorscale": [
                          [
                            0,
                            "#0d0887"
                          ],
                          [
                            0.1111111111111111,
                            "#46039f"
                          ],
                          [
                            0.2222222222222222,
                            "#7201a8"
                          ],
                          [
                            0.3333333333333333,
                            "#9c179e"
                          ],
                          [
                            0.4444444444444444,
                            "#bd3786"
                          ],
                          [
                            0.5555555555555556,
                            "#d8576b"
                          ],
                          [
                            0.6666666666666666,
                            "#ed7953"
                          ],
                          [
                            0.7777777777777778,
                            "#fb9f3a"
                          ],
                          [
                            0.8888888888888888,
                            "#fdca26"
                          ],
                          [
                            1,
                            "#f0f921"
                          ]
                        ],
                        "type": "histogram2d"
                      }
                    ],
                    "histogram2dcontour": [
                      {
                        "colorbar": {
                          "outlinewidth": 0,
                          "ticks": ""
                        },
                        "colorscale": [
                          [
                            0,
                            "#0d0887"
                          ],
                          [
                            0.1111111111111111,
                            "#46039f"
                          ],
                          [
                            0.2222222222222222,
                            "#7201a8"
                          ],
                          [
                            0.3333333333333333,
                            "#9c179e"
                          ],
                          [
                            0.4444444444444444,
                            "#bd3786"
                          ],
                          [
                            0.5555555555555556,
                            "#d8576b"
                          ],
                          [
                            0.6666666666666666,
                            "#ed7953"
                          ],
                          [
                            0.7777777777777778,
                            "#fb9f3a"
                          ],
                          [
                            0.8888888888888888,
                            "#fdca26"
                          ],
                          [
                            1,
                            "#f0f921"
                          ]
                        ],
                        "type": "histogram2dcontour"
                      }
                    ],
                    "mesh3d": [
                      {
                        "colorbar": {
                          "outlinewidth": 0,
                          "ticks": ""
                        },
                        "type": "mesh3d"
                      }
                    ],
                    "parcoords": [
                      {
                        "line": {
                          "colorbar": {
                            "outlinewidth": 0,
                            "ticks": ""
                          }
                        },
                        "type": "parcoords"
                      }
                    ],
                    "pie": [
                      {
                        "automargin": true,
                        "type": "pie"
                      }
                    ],
                    "scatter": [
                      {
                        "marker": {
                          "line": {
                            "color": "#283442"
                          }
                        },
                        "type": "scatter"
                      }
                    ],
                    "scatter3d": [
                      {
                        "line": {
                          "colorbar": {
                            "outlinewidth": 0,
                            "ticks": ""
                          }
                        },
                        "marker": {
                          "colorbar": {
                            "outlinewidth": 0,
                            "ticks": ""
                          }
                        },
                        "type": "scatter3d"
                      }
                    ],
                    "scattercarpet": [
                      {
                        "marker": {
                          "colorbar": {
                            "outlinewidth": 0,
                            "ticks": ""
                          }
                        },
                        "type": "scattercarpet"
                      }
                    ],
                    "scattergeo": [
                      {
                        "marker": {
                          "colorbar": {
                            "outlinewidth": 0,
                            "ticks": ""
                          }
                        },
                        "type": "scattergeo"
                      }
                    ],
                    "scattergl": [
                      {
                        "marker": {
                          "line": {
                            "color": "#283442"
                          }
                        },
                        "type": "scattergl"
                      }
                    ],
                    "scattermapbox": [
                      {
                        "marker": {
                          "colorbar": {
                            "outlinewidth": 0,
                            "ticks": ""
                          }
                        },
                        "type": "scattermapbox"
                      }
                    ],
                    "scatterpolar": [
                      {
                        "marker": {
                          "colorbar": {
                            "outlinewidth": 0,
                            "ticks": ""
                          }
                        },
                        "type": "scatterpolar"
                      }
                    ],
                    "scatterpolargl": [
                      {
                        "marker": {
                          "colorbar": {
                            "outlinewidth": 0,
                            "ticks": ""
                          }
                        },
                        "type": "scatterpolargl"
                      }
                    ],
                    "scatterternary": [
                      {
                        "marker": {
                          "colorbar": {
                            "outlinewidth": 0,
                            "ticks": ""
                          }
                        },
                        "type": "scatterternary"
                      }
                    ],
                    "surface": [
                      {
                        "colorbar": {
                          "outlinewidth": 0,
                          "ticks": ""
                        },
                        "colorscale": [
                          [
                            0,
                            "#0d0887"
                          ],
                          [
                            0.1111111111111111,
                            "#46039f"
                          ],
                          [
                            0.2222222222222222,
                            "#7201a8"
                          ],
                          [
                            0.3333333333333333,
                            "#9c179e"
                          ],
                          [
                            0.4444444444444444,
                            "#bd3786"
                          ],
                          [
                            0.5555555555555556,
                            "#d8576b"
                          ],
                          [
                            0.6666666666666666,
                            "#ed7953"
                          ],
                          [
                            0.7777777777777778,
                            "#fb9f3a"
                          ],
                          [
                            0.8888888888888888,
                            "#fdca26"
                          ],
                          [
                            1,
                            "#f0f921"
                          ]
                        ],
                        "type": "surface"
                      }
                    ],
                    "table": [
                      {
                        "cells": {
                          "fill": {
                            "color": "#506784"
                          },
                          "line": {
                            "color": "rgb(17,17,17)"
                          }
                        },
                        "header": {
                          "fill": {
                            "color": "#2a3f5f"
                          },
                          "line": {
                            "color": "rgb(17,17,17)"
                          }
                        },
                        "type": "table"
                      }
                    ]
                  },
                  "layout": {
                    "annotationdefaults": {
                      "arrowcolor": "#f2f5fa",
                      "arrowhead": 0,
                      "arrowwidth": 1
                    },
                    "autotypenumbers": "strict",
                    "coloraxis": {
                      "colorbar": {
                        "outlinewidth": 0,
                        "ticks": ""
                      }
                    },
                    "colorscale": {
                      "diverging": [
                        [
                          0,
                          "#8e0152"
                        ],
                        [
                          0.1,
                          "#c51b7d"
                        ],
                        [
                          0.2,
                          "#de77ae"
                        ],
                        [
                          0.3,
                          "#f1b6da"
                        ],
                        [
                          0.4,
                          "#fde0ef"
                        ],
                        [
                          0.5,
                          "#f7f7f7"
                        ],
                        [
                          0.6,
                          "#e6f5d0"
                        ],
                        [
                          0.7,
                          "#b8e186"
                        ],
                        [
                          0.8,
                          "#7fbc41"
                        ],
                        [
                          0.9,
                          "#4d9221"
                        ],
                        [
                          1,
                          "#276419"
                        ]
                      ],
                      "sequential": [
                        [
                          0,
                          "#0d0887"
                        ],
                        [
                          0.1111111111111111,
                          "#46039f"
                        ],
                        [
                          0.2222222222222222,
                          "#7201a8"
                        ],
                        [
                          0.3333333333333333,
                          "#9c179e"
                        ],
                        [
                          0.4444444444444444,
                          "#bd3786"
                        ],
                        [
                          0.5555555555555556,
                          "#d8576b"
                        ],
                        [
                          0.6666666666666666,
                          "#ed7953"
                        ],
                        [
                          0.7777777777777778,
                          "#fb9f3a"
                        ],
                        [
                          0.8888888888888888,
                          "#fdca26"
                        ],
                        [
                          1,
                          "#f0f921"
                        ]
                      ],
                      "sequentialminus": [
                        [
                          0,
                          "#0d0887"
                        ],
                        [
                          0.1111111111111111,
                          "#46039f"
                        ],
                        [
                          0.2222222222222222,
                          "#7201a8"
                        ],
                        [
                          0.3333333333333333,
                          "#9c179e"
                        ],
                        [
                          0.4444444444444444,
                          "#bd3786"
                        ],
                        [
                          0.5555555555555556,
                          "#d8576b"
                        ],
                        [
                          0.6666666666666666,
                          "#ed7953"
                        ],
                        [
                          0.7777777777777778,
                          "#fb9f3a"
                        ],
                        [
                          0.8888888888888888,
                          "#fdca26"
                        ],
                        [
                          1,
                          "#f0f921"
                        ]
                      ]
                    },
                    "colorway": [
                      "#636efa",
                      "#EF553B",
                      "#00cc96",
                      "#ab63fa",
                      "#FFA15A",
                      "#19d3f3",
                      "#FF6692",
                      "#B6E880",
                      "#FF97FF",
                      "#FECB52"
                    ],
                    "font": {
                      "color": "#f2f5fa"
                    },
                    "geo": {
                      "bgcolor": "rgb(17,17,17)",
                      "lakecolor": "rgb(17,17,17)",
                      "landcolor": "rgb(17,17,17)",
                      "showlakes": true,
                      "showland": true,
                      "subunitcolor": "#506784"
                    },
                    "hoverlabel": {
                      "align": "left"
                    },
                    "hovermode": "closest",
                    "mapbox": {
                      "style": "dark"
                    },
                    "paper_bgcolor": "rgb(17,17,17)",
                    "plot_bgcolor": "rgb(17,17,17)",
                    "polar": {
                      "angularaxis": {
                        "gridcolor": "#506784",
                        "linecolor": "#506784",
                        "ticks": ""
                      },
                      "bgcolor": "rgb(17,17,17)",
                      "radialaxis": {
                        "gridcolor": "#506784",
                        "linecolor": "#506784",
                        "ticks": ""
                      }
                    },
                    "scene": {
                      "xaxis": {
                        "backgroundcolor": "rgb(17,17,17)",
                        "gridcolor": "#506784",
                        "gridwidth": 2,
                        "linecolor": "#506784",
                        "showbackground": true,
                        "ticks": "",
                        "zerolinecolor": "#C8D4E3"
                      },
                      "yaxis": {
                        "backgroundcolor": "rgb(17,17,17)",
                        "gridcolor": "#506784",
                        "gridwidth": 2,
                        "linecolor": "#506784",
                        "showbackground": true,
                        "ticks": "",
                        "zerolinecolor": "#C8D4E3"
                      },
                      "zaxis": {
                        "backgroundcolor": "rgb(17,17,17)",
                        "gridcolor": "#506784",
                        "gridwidth": 2,
                        "linecolor": "#506784",
                        "showbackground": true,
                        "ticks": "",
                        "zerolinecolor": "#C8D4E3"
                      }
                    },
                    "shapedefaults": {
                      "line": {
                        "color": "#f2f5fa"
                      }
                    },
                    "sliderdefaults": {
                      "bgcolor": "#C8D4E3",
                      "bordercolor": "rgb(17,17,17)",
                      "borderwidth": 1,
                      "tickwidth": 0
                    },
                    "ternary": {
                      "aaxis": {
                        "gridcolor": "#506784",
                        "linecolor": "#506784",
                        "ticks": ""
                      },
                      "baxis": {
                        "gridcolor": "#506784",
                        "linecolor": "#506784",
                        "ticks": ""
                      },
                      "bgcolor": "rgb(17,17,17)",
                      "caxis": {
                        "gridcolor": "#506784",
                        "linecolor": "#506784",
                        "ticks": ""
                      }
                    },
                    "title": {
                      "x": 0.05
                    },
                    "updatemenudefaults": {
                      "bgcolor": "#506784",
                      "borderwidth": 0
                    },
                    "xaxis": {
                      "automargin": true,
                      "gridcolor": "#283442",
                      "linecolor": "#506784",
                      "ticks": "",
                      "title": {
                        "standoff": 15
                      },
                      "zerolinecolor": "#283442",
                      "zerolinewidth": 2
                    },
                    "yaxis": {
                      "automargin": true,
                      "gridcolor": "#283442",
                      "linecolor": "#506784",
                      "ticks": "",
                      "title": {
                        "standoff": 15
                      },
                      "zerolinecolor": "#283442",
                      "zerolinewidth": 2
                    }
                  }
                },
                "title": {
                  "font": {
                    "size": 25
                  },
                  "text": "Feature Importance",
                  "x": 0.5,
                  "xanchor": "center",
                  "y": 0.9,
                  "yanchor": "top"
                },
                "updatemenus": [
                  {
                    "active": 0,
                    "buttons": [
                      {
                        "args": [
                          {
                            "visible": [
                              true,
                              false
                            ]
                          }
                        ],
                        "label": "MAE",
                        "method": "update"
                      },
                      {
                        "args": [
                          {
                            "visible": [
                              false,
                              true
                            ]
                          }
                        ],
                        "label": "MSE",
                        "method": "update"
                      }
                    ],
                    "direction": "left",
                    "font": {
                      "color": "black"
                    },
                    "type": "buttons",
                    "x": 1,
                    "xanchor": "left",
                    "y": 1,
                    "yanchor": "bottom"
                  }
                ],
                "width": 750,
                "xaxis": {
                  "gridcolor": "DarkGrey",
                  "gridwidth": 0.1,
                  "showgrid": true
                },
                "yaxis": {
                  "tickmode": "linear"
                }
              }
            }
          },
          "metadata": {},
          "output_type": "display_data"
        }
      ],
      "source": [
        "ablstm_idf = get_importance_df(ab_model, dsets['Bitcoin'], timesteps)\n",
        "fig = plot_importance(ablstm_idf)\n",
        "fig.update_layout(width=750, height=500)"
      ]
    }
  ],
  "metadata": {
    "accelerator": "GPU",
    "colab": {
      "name": "Copy of model_selection_colab.ipynb.ipynb",
      "provenance": []
    },
    "gpuClass": "standard",
    "kernelspec": {
      "display_name": "Python 3.10.5 64-bit",
      "language": "python",
      "name": "python3"
    },
    "language_info": {
      "codemirror_mode": {
        "name": "ipython",
        "version": 3
      },
      "file_extension": ".py",
      "mimetype": "text/x-python",
      "name": "python",
      "nbconvert_exporter": "python",
      "pygments_lexer": "ipython3",
      "version": "3.10.5"
    },
    "orig_nbformat": 4,
    "vscode": {
      "interpreter": {
        "hash": "73da7b675d0e46932e09253241b381c08dc26557dee69f9b22a307f235e53dce"
      }
    }
  },
  "nbformat": 4,
  "nbformat_minor": 0
}
