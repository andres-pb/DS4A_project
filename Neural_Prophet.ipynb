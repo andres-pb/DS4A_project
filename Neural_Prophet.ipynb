{
  "nbformat": 4,
  "nbformat_minor": 0,
  "metadata": {
    "colab": {
      "name": "Neural_Prophet.ipynb",
      "provenance": [],
      "collapsed_sections": []
    },
    "kernelspec": {
      "name": "python3",
      "display_name": "Python 3"
    },
    "language_info": {
      "name": "python"
    },
    "accelerator": "GPU",
    "gpuClass": "standard",
    "widgets": {
      "application/vnd.jupyter.widget-state+json": {
<<<<<<< HEAD
<<<<<<< HEAD
        "50a95117d09c4b05a90daf1fbc4ee4a5": {
=======
        "8fd8df024171481b8f769d691d1623e9": {
>>>>>>> 043a282815e330e79882eb927d74c15f11ae2ce2
=======
        "8fd8df024171481b8f769d691d1623e9": {
>>>>>>> 8d31783db698437b09448df3e24b6b6699ee0f70
          "model_module": "@jupyter-widgets/controls",
          "model_name": "HBoxModel",
          "model_module_version": "1.5.0",
          "state": {
            "_dom_classes": [],
            "_model_module": "@jupyter-widgets/controls",
            "_model_module_version": "1.5.0",
            "_model_name": "HBoxModel",
            "_view_count": null,
            "_view_module": "@jupyter-widgets/controls",
            "_view_module_version": "1.5.0",
            "_view_name": "HBoxView",
            "box_style": "",
            "children": [
<<<<<<< HEAD
<<<<<<< HEAD
              "IPY_MODEL_bf7c39e58f064033b95323c9e37d9729",
              "IPY_MODEL_af7074d355f047d58e9fd985d0210f05",
              "IPY_MODEL_45431283291344cdac0c84f75e4d87c8"
            ],
            "layout": "IPY_MODEL_db524b94e9c84a9a87575bb6776af230"
          }
        },
        "bf7c39e58f064033b95323c9e37d9729": {
=======
=======
>>>>>>> 8d31783db698437b09448df3e24b6b6699ee0f70
              "IPY_MODEL_1941cc70641e47a38e0ca1af9c69a237",
              "IPY_MODEL_5ed40dcbcb4f4c86a5c120481a45cbd0",
              "IPY_MODEL_5d17a910c3ce4783943b19f65892d594"
            ],
            "layout": "IPY_MODEL_d733074a1d9c420dbd7c2548364f1cec"
          }
        },
        "1941cc70641e47a38e0ca1af9c69a237": {
<<<<<<< HEAD
>>>>>>> 043a282815e330e79882eb927d74c15f11ae2ce2
=======
>>>>>>> 8d31783db698437b09448df3e24b6b6699ee0f70
          "model_module": "@jupyter-widgets/controls",
          "model_name": "HTMLModel",
          "model_module_version": "1.5.0",
          "state": {
            "_dom_classes": [],
            "_model_module": "@jupyter-widgets/controls",
            "_model_module_version": "1.5.0",
            "_model_name": "HTMLModel",
            "_view_count": null,
            "_view_module": "@jupyter-widgets/controls",
            "_view_module_version": "1.5.0",
            "_view_name": "HTMLView",
            "description": "",
            "description_tooltip": null,
<<<<<<< HEAD
<<<<<<< HEAD
            "layout": "IPY_MODEL_9643617f10f3452085609a6c83fa74f8",
            "placeholder": "​",
            "style": "IPY_MODEL_9872346ac2b24ab693a53cfc7d3e0a02",
            "value": "100%"
          }
        },
        "af7074d355f047d58e9fd985d0210f05": {
=======
=======
>>>>>>> 8d31783db698437b09448df3e24b6b6699ee0f70
            "layout": "IPY_MODEL_edfa936a197642138903833e322f623c",
            "placeholder": "​",
            "style": "IPY_MODEL_f7dad60ef0c9430083bff5e5c69f221d",
            "value": "100%"
          }
        },
        "5ed40dcbcb4f4c86a5c120481a45cbd0": {
<<<<<<< HEAD
>>>>>>> 043a282815e330e79882eb927d74c15f11ae2ce2
=======
>>>>>>> 8d31783db698437b09448df3e24b6b6699ee0f70
          "model_module": "@jupyter-widgets/controls",
          "model_name": "FloatProgressModel",
          "model_module_version": "1.5.0",
          "state": {
            "_dom_classes": [],
            "_model_module": "@jupyter-widgets/controls",
            "_model_module_version": "1.5.0",
            "_model_name": "FloatProgressModel",
            "_view_count": null,
            "_view_module": "@jupyter-widgets/controls",
            "_view_module_version": "1.5.0",
            "_view_name": "ProgressView",
            "bar_style": "success",
            "description": "",
            "description_tooltip": null,
<<<<<<< HEAD
<<<<<<< HEAD
            "layout": "IPY_MODEL_50cead409f234f4098e0fde26433bcda",
            "max": 135,
            "min": 0,
            "orientation": "horizontal",
            "style": "IPY_MODEL_53b21ebcc3424904b13d94dc7cc3b39c",
            "value": 135
          }
        },
        "45431283291344cdac0c84f75e4d87c8": {
=======
=======
>>>>>>> 8d31783db698437b09448df3e24b6b6699ee0f70
            "layout": "IPY_MODEL_f13a9bd243ac4d31b9b0f2db41181ddf",
            "max": 135,
            "min": 0,
            "orientation": "horizontal",
            "style": "IPY_MODEL_5ea59a985bc744fcab57bc9f9103a85e",
            "value": 135
          }
        },
        "5d17a910c3ce4783943b19f65892d594": {
<<<<<<< HEAD
>>>>>>> 043a282815e330e79882eb927d74c15f11ae2ce2
=======
>>>>>>> 8d31783db698437b09448df3e24b6b6699ee0f70
          "model_module": "@jupyter-widgets/controls",
          "model_name": "HTMLModel",
          "model_module_version": "1.5.0",
          "state": {
            "_dom_classes": [],
            "_model_module": "@jupyter-widgets/controls",
            "_model_module_version": "1.5.0",
            "_model_name": "HTMLModel",
            "_view_count": null,
            "_view_module": "@jupyter-widgets/controls",
            "_view_module_version": "1.5.0",
            "_view_name": "HTMLView",
            "description": "",
            "description_tooltip": null,
<<<<<<< HEAD
<<<<<<< HEAD
            "layout": "IPY_MODEL_faf035769f6d4e94839b84b2e68bd5b0",
            "placeholder": "​",
            "style": "IPY_MODEL_91864f43851e4ece91e8ca63b88b1196",
            "value": " 135/135 [00:01&lt;00:00, 152.17it/s]"
          }
        },
        "db524b94e9c84a9a87575bb6776af230": {
=======
=======
>>>>>>> 8d31783db698437b09448df3e24b6b6699ee0f70
            "layout": "IPY_MODEL_4e9c6825f3944fec9c37d7cc0264be64",
            "placeholder": "​",
            "style": "IPY_MODEL_5513cb8916a042cdbe6bcc4ab75cfb78",
            "value": " 135/135 [00:00&lt;00:00, 242.30it/s]"
          }
        },
        "d733074a1d9c420dbd7c2548364f1cec": {
<<<<<<< HEAD
>>>>>>> 043a282815e330e79882eb927d74c15f11ae2ce2
=======
>>>>>>> 8d31783db698437b09448df3e24b6b6699ee0f70
          "model_module": "@jupyter-widgets/base",
          "model_name": "LayoutModel",
          "model_module_version": "1.2.0",
          "state": {
            "_model_module": "@jupyter-widgets/base",
            "_model_module_version": "1.2.0",
            "_model_name": "LayoutModel",
            "_view_count": null,
            "_view_module": "@jupyter-widgets/base",
            "_view_module_version": "1.2.0",
            "_view_name": "LayoutView",
            "align_content": null,
            "align_items": null,
            "align_self": null,
            "border": null,
            "bottom": null,
            "display": null,
            "flex": null,
            "flex_flow": null,
            "grid_area": null,
            "grid_auto_columns": null,
            "grid_auto_flow": null,
            "grid_auto_rows": null,
            "grid_column": null,
            "grid_gap": null,
            "grid_row": null,
            "grid_template_areas": null,
            "grid_template_columns": null,
            "grid_template_rows": null,
            "height": null,
            "justify_content": null,
            "justify_items": null,
            "left": null,
            "margin": null,
            "max_height": null,
            "max_width": null,
            "min_height": null,
            "min_width": null,
            "object_fit": null,
            "object_position": null,
            "order": null,
            "overflow": null,
            "overflow_x": null,
            "overflow_y": null,
            "padding": null,
            "right": null,
            "top": null,
            "visibility": null,
            "width": null
          }
        },
<<<<<<< HEAD
<<<<<<< HEAD
        "9643617f10f3452085609a6c83fa74f8": {
=======
        "edfa936a197642138903833e322f623c": {
>>>>>>> 043a282815e330e79882eb927d74c15f11ae2ce2
=======
        "edfa936a197642138903833e322f623c": {
>>>>>>> 8d31783db698437b09448df3e24b6b6699ee0f70
          "model_module": "@jupyter-widgets/base",
          "model_name": "LayoutModel",
          "model_module_version": "1.2.0",
          "state": {
            "_model_module": "@jupyter-widgets/base",
            "_model_module_version": "1.2.0",
            "_model_name": "LayoutModel",
            "_view_count": null,
            "_view_module": "@jupyter-widgets/base",
            "_view_module_version": "1.2.0",
            "_view_name": "LayoutView",
            "align_content": null,
            "align_items": null,
            "align_self": null,
            "border": null,
            "bottom": null,
            "display": null,
            "flex": null,
            "flex_flow": null,
            "grid_area": null,
            "grid_auto_columns": null,
            "grid_auto_flow": null,
            "grid_auto_rows": null,
            "grid_column": null,
            "grid_gap": null,
            "grid_row": null,
            "grid_template_areas": null,
            "grid_template_columns": null,
            "grid_template_rows": null,
            "height": null,
            "justify_content": null,
            "justify_items": null,
            "left": null,
            "margin": null,
            "max_height": null,
            "max_width": null,
            "min_height": null,
            "min_width": null,
            "object_fit": null,
            "object_position": null,
            "order": null,
            "overflow": null,
            "overflow_x": null,
            "overflow_y": null,
            "padding": null,
            "right": null,
            "top": null,
            "visibility": null,
            "width": null
          }
        },
<<<<<<< HEAD
<<<<<<< HEAD
        "9872346ac2b24ab693a53cfc7d3e0a02": {
=======
        "f7dad60ef0c9430083bff5e5c69f221d": {
>>>>>>> 043a282815e330e79882eb927d74c15f11ae2ce2
=======
        "f7dad60ef0c9430083bff5e5c69f221d": {
>>>>>>> 8d31783db698437b09448df3e24b6b6699ee0f70
          "model_module": "@jupyter-widgets/controls",
          "model_name": "DescriptionStyleModel",
          "model_module_version": "1.5.0",
          "state": {
            "_model_module": "@jupyter-widgets/controls",
            "_model_module_version": "1.5.0",
            "_model_name": "DescriptionStyleModel",
            "_view_count": null,
            "_view_module": "@jupyter-widgets/base",
            "_view_module_version": "1.2.0",
            "_view_name": "StyleView",
            "description_width": ""
          }
        },
<<<<<<< HEAD
<<<<<<< HEAD
        "50cead409f234f4098e0fde26433bcda": {
=======
        "f13a9bd243ac4d31b9b0f2db41181ddf": {
>>>>>>> 043a282815e330e79882eb927d74c15f11ae2ce2
=======
        "f13a9bd243ac4d31b9b0f2db41181ddf": {
>>>>>>> 8d31783db698437b09448df3e24b6b6699ee0f70
          "model_module": "@jupyter-widgets/base",
          "model_name": "LayoutModel",
          "model_module_version": "1.2.0",
          "state": {
            "_model_module": "@jupyter-widgets/base",
            "_model_module_version": "1.2.0",
            "_model_name": "LayoutModel",
            "_view_count": null,
            "_view_module": "@jupyter-widgets/base",
            "_view_module_version": "1.2.0",
            "_view_name": "LayoutView",
            "align_content": null,
            "align_items": null,
            "align_self": null,
            "border": null,
            "bottom": null,
            "display": null,
            "flex": null,
            "flex_flow": null,
            "grid_area": null,
            "grid_auto_columns": null,
            "grid_auto_flow": null,
            "grid_auto_rows": null,
            "grid_column": null,
            "grid_gap": null,
            "grid_row": null,
            "grid_template_areas": null,
            "grid_template_columns": null,
            "grid_template_rows": null,
            "height": null,
            "justify_content": null,
            "justify_items": null,
            "left": null,
            "margin": null,
            "max_height": null,
            "max_width": null,
            "min_height": null,
            "min_width": null,
            "object_fit": null,
            "object_position": null,
            "order": null,
            "overflow": null,
            "overflow_x": null,
            "overflow_y": null,
            "padding": null,
            "right": null,
            "top": null,
            "visibility": null,
            "width": null
          }
        },
<<<<<<< HEAD
<<<<<<< HEAD
        "53b21ebcc3424904b13d94dc7cc3b39c": {
=======
        "5ea59a985bc744fcab57bc9f9103a85e": {
>>>>>>> 043a282815e330e79882eb927d74c15f11ae2ce2
=======
        "5ea59a985bc744fcab57bc9f9103a85e": {
>>>>>>> 8d31783db698437b09448df3e24b6b6699ee0f70
          "model_module": "@jupyter-widgets/controls",
          "model_name": "ProgressStyleModel",
          "model_module_version": "1.5.0",
          "state": {
            "_model_module": "@jupyter-widgets/controls",
            "_model_module_version": "1.5.0",
            "_model_name": "ProgressStyleModel",
            "_view_count": null,
            "_view_module": "@jupyter-widgets/base",
            "_view_module_version": "1.2.0",
            "_view_name": "StyleView",
            "bar_color": null,
            "description_width": ""
          }
        },
<<<<<<< HEAD
<<<<<<< HEAD
        "faf035769f6d4e94839b84b2e68bd5b0": {
=======
        "4e9c6825f3944fec9c37d7cc0264be64": {
>>>>>>> 043a282815e330e79882eb927d74c15f11ae2ce2
=======
        "4e9c6825f3944fec9c37d7cc0264be64": {
>>>>>>> 8d31783db698437b09448df3e24b6b6699ee0f70
          "model_module": "@jupyter-widgets/base",
          "model_name": "LayoutModel",
          "model_module_version": "1.2.0",
          "state": {
            "_model_module": "@jupyter-widgets/base",
            "_model_module_version": "1.2.0",
            "_model_name": "LayoutModel",
            "_view_count": null,
            "_view_module": "@jupyter-widgets/base",
            "_view_module_version": "1.2.0",
            "_view_name": "LayoutView",
            "align_content": null,
            "align_items": null,
            "align_self": null,
            "border": null,
            "bottom": null,
            "display": null,
            "flex": null,
            "flex_flow": null,
            "grid_area": null,
            "grid_auto_columns": null,
            "grid_auto_flow": null,
            "grid_auto_rows": null,
            "grid_column": null,
            "grid_gap": null,
            "grid_row": null,
            "grid_template_areas": null,
            "grid_template_columns": null,
            "grid_template_rows": null,
            "height": null,
            "justify_content": null,
            "justify_items": null,
            "left": null,
            "margin": null,
            "max_height": null,
            "max_width": null,
            "min_height": null,
            "min_width": null,
            "object_fit": null,
            "object_position": null,
            "order": null,
            "overflow": null,
            "overflow_x": null,
            "overflow_y": null,
            "padding": null,
            "right": null,
            "top": null,
            "visibility": null,
            "width": null
          }
        },
<<<<<<< HEAD
<<<<<<< HEAD
        "91864f43851e4ece91e8ca63b88b1196": {
=======
        "5513cb8916a042cdbe6bcc4ab75cfb78": {
>>>>>>> 043a282815e330e79882eb927d74c15f11ae2ce2
=======
        "5513cb8916a042cdbe6bcc4ab75cfb78": {
>>>>>>> 8d31783db698437b09448df3e24b6b6699ee0f70
          "model_module": "@jupyter-widgets/controls",
          "model_name": "DescriptionStyleModel",
          "model_module_version": "1.5.0",
          "state": {
            "_model_module": "@jupyter-widgets/controls",
            "_model_module_version": "1.5.0",
            "_model_name": "DescriptionStyleModel",
            "_view_count": null,
            "_view_module": "@jupyter-widgets/base",
            "_view_module_version": "1.2.0",
            "_view_name": "StyleView",
            "description_width": ""
          }
        },
<<<<<<< HEAD
<<<<<<< HEAD
        "601bb77fa18a48668fcbe2ed7926f65f": {
=======
        "13356379f0e1424db638d89e60fba340": {
>>>>>>> 043a282815e330e79882eb927d74c15f11ae2ce2
=======
        "13356379f0e1424db638d89e60fba340": {
>>>>>>> 8d31783db698437b09448df3e24b6b6699ee0f70
          "model_module": "@jupyter-widgets/controls",
          "model_name": "HBoxModel",
          "model_module_version": "1.5.0",
          "state": {
            "_dom_classes": [],
            "_model_module": "@jupyter-widgets/controls",
            "_model_module_version": "1.5.0",
            "_model_name": "HBoxModel",
            "_view_count": null,
            "_view_module": "@jupyter-widgets/controls",
            "_view_module_version": "1.5.0",
            "_view_name": "HBoxView",
            "box_style": "",
            "children": [
<<<<<<< HEAD
<<<<<<< HEAD
              "IPY_MODEL_872063e09d75499bb785cfa91429a7aa",
              "IPY_MODEL_1565eff5266e415ab05ace29b5e46ae0",
              "IPY_MODEL_250610bf19ba4fd5b735b4402e3faf0e"
            ],
            "layout": "IPY_MODEL_fa06573616ee420ebd4e2e86900f3a53"
          }
        },
        "872063e09d75499bb785cfa91429a7aa": {
=======
=======
>>>>>>> 8d31783db698437b09448df3e24b6b6699ee0f70
              "IPY_MODEL_2b3d534e34e043518b75f29facde8fdc",
              "IPY_MODEL_500e83e352424412ab7d036065499975",
              "IPY_MODEL_d4ba59549613431f87c3ab4c2ab92f50"
            ],
            "layout": "IPY_MODEL_7d57398bfb5b45c5872eadd4fc2491ab"
          }
        },
        "2b3d534e34e043518b75f29facde8fdc": {
<<<<<<< HEAD
>>>>>>> 043a282815e330e79882eb927d74c15f11ae2ce2
=======
>>>>>>> 8d31783db698437b09448df3e24b6b6699ee0f70
          "model_module": "@jupyter-widgets/controls",
          "model_name": "HTMLModel",
          "model_module_version": "1.5.0",
          "state": {
            "_dom_classes": [],
            "_model_module": "@jupyter-widgets/controls",
            "_model_module_version": "1.5.0",
            "_model_name": "HTMLModel",
            "_view_count": null,
            "_view_module": "@jupyter-widgets/controls",
            "_view_module_version": "1.5.0",
            "_view_name": "HTMLView",
            "description": "",
            "description_tooltip": null,
<<<<<<< HEAD
<<<<<<< HEAD
            "layout": "IPY_MODEL_8d354c4e1cc448e7b2f5428aa5a008ec",
            "placeholder": "​",
            "style": "IPY_MODEL_144a5cc6816640e381634b80a9758cf1",
            "value": "100%"
          }
        },
        "1565eff5266e415ab05ace29b5e46ae0": {
=======
=======
>>>>>>> 8d31783db698437b09448df3e24b6b6699ee0f70
            "layout": "IPY_MODEL_3bd546c0bf7841f29f2bd87318636706",
            "placeholder": "​",
            "style": "IPY_MODEL_6ed974ef65a744a78f9c55e1f6ed5478",
            "value": "100%"
          }
        },
        "500e83e352424412ab7d036065499975": {
<<<<<<< HEAD
>>>>>>> 043a282815e330e79882eb927d74c15f11ae2ce2
=======
>>>>>>> 8d31783db698437b09448df3e24b6b6699ee0f70
          "model_module": "@jupyter-widgets/controls",
          "model_name": "FloatProgressModel",
          "model_module_version": "1.5.0",
          "state": {
            "_dom_classes": [],
            "_model_module": "@jupyter-widgets/controls",
            "_model_module_version": "1.5.0",
            "_model_name": "FloatProgressModel",
            "_view_count": null,
            "_view_module": "@jupyter-widgets/controls",
            "_view_module_version": "1.5.0",
            "_view_name": "ProgressView",
            "bar_style": "success",
            "description": "",
            "description_tooltip": null,
<<<<<<< HEAD
<<<<<<< HEAD
            "layout": "IPY_MODEL_75bdbf4fb271416f91333c76b8619a33",
            "max": 135,
            "min": 0,
            "orientation": "horizontal",
            "style": "IPY_MODEL_b90ab3cc303d423c91ee954f28d08d43",
            "value": 135
          }
        },
        "250610bf19ba4fd5b735b4402e3faf0e": {
=======
=======
>>>>>>> 8d31783db698437b09448df3e24b6b6699ee0f70
            "layout": "IPY_MODEL_2b20fefec6f040c6a875020a8dbc480f",
            "max": 135,
            "min": 0,
            "orientation": "horizontal",
            "style": "IPY_MODEL_c7a3c02dacda45baa8b85a350111f023",
            "value": 135
          }
        },
        "d4ba59549613431f87c3ab4c2ab92f50": {
<<<<<<< HEAD
>>>>>>> 043a282815e330e79882eb927d74c15f11ae2ce2
=======
>>>>>>> 8d31783db698437b09448df3e24b6b6699ee0f70
          "model_module": "@jupyter-widgets/controls",
          "model_name": "HTMLModel",
          "model_module_version": "1.5.0",
          "state": {
            "_dom_classes": [],
            "_model_module": "@jupyter-widgets/controls",
            "_model_module_version": "1.5.0",
            "_model_name": "HTMLModel",
            "_view_count": null,
            "_view_module": "@jupyter-widgets/controls",
            "_view_module_version": "1.5.0",
            "_view_name": "HTMLView",
            "description": "",
            "description_tooltip": null,
<<<<<<< HEAD
<<<<<<< HEAD
            "layout": "IPY_MODEL_02b74b8e07f24a118f20b5024455123c",
            "placeholder": "​",
            "style": "IPY_MODEL_5dfcc33e46404586880fdac20001c4b8",
            "value": " 135/135 [00:00&lt;00:00, 254.71it/s]"
          }
        },
        "fa06573616ee420ebd4e2e86900f3a53": {
=======
=======
>>>>>>> 8d31783db698437b09448df3e24b6b6699ee0f70
            "layout": "IPY_MODEL_999ac30b7adc4be1847fb9515f58aa48",
            "placeholder": "​",
            "style": "IPY_MODEL_91dcbec9fa044a94aec406ca44de13d2",
            "value": " 135/135 [00:00&lt;00:00, 205.89it/s]"
          }
        },
        "7d57398bfb5b45c5872eadd4fc2491ab": {
<<<<<<< HEAD
>>>>>>> 043a282815e330e79882eb927d74c15f11ae2ce2
=======
>>>>>>> 8d31783db698437b09448df3e24b6b6699ee0f70
          "model_module": "@jupyter-widgets/base",
          "model_name": "LayoutModel",
          "model_module_version": "1.2.0",
          "state": {
            "_model_module": "@jupyter-widgets/base",
            "_model_module_version": "1.2.0",
            "_model_name": "LayoutModel",
            "_view_count": null,
            "_view_module": "@jupyter-widgets/base",
            "_view_module_version": "1.2.0",
            "_view_name": "LayoutView",
            "align_content": null,
            "align_items": null,
            "align_self": null,
            "border": null,
            "bottom": null,
            "display": null,
            "flex": null,
            "flex_flow": null,
            "grid_area": null,
            "grid_auto_columns": null,
            "grid_auto_flow": null,
            "grid_auto_rows": null,
            "grid_column": null,
            "grid_gap": null,
            "grid_row": null,
            "grid_template_areas": null,
            "grid_template_columns": null,
            "grid_template_rows": null,
            "height": null,
            "justify_content": null,
            "justify_items": null,
            "left": null,
            "margin": null,
            "max_height": null,
            "max_width": null,
            "min_height": null,
            "min_width": null,
            "object_fit": null,
            "object_position": null,
            "order": null,
            "overflow": null,
            "overflow_x": null,
            "overflow_y": null,
            "padding": null,
            "right": null,
            "top": null,
            "visibility": null,
            "width": null
          }
        },
<<<<<<< HEAD
<<<<<<< HEAD
        "8d354c4e1cc448e7b2f5428aa5a008ec": {
=======
        "3bd546c0bf7841f29f2bd87318636706": {
>>>>>>> 043a282815e330e79882eb927d74c15f11ae2ce2
=======
        "3bd546c0bf7841f29f2bd87318636706": {
>>>>>>> 8d31783db698437b09448df3e24b6b6699ee0f70
          "model_module": "@jupyter-widgets/base",
          "model_name": "LayoutModel",
          "model_module_version": "1.2.0",
          "state": {
            "_model_module": "@jupyter-widgets/base",
            "_model_module_version": "1.2.0",
            "_model_name": "LayoutModel",
            "_view_count": null,
            "_view_module": "@jupyter-widgets/base",
            "_view_module_version": "1.2.0",
            "_view_name": "LayoutView",
            "align_content": null,
            "align_items": null,
            "align_self": null,
            "border": null,
            "bottom": null,
            "display": null,
            "flex": null,
            "flex_flow": null,
            "grid_area": null,
            "grid_auto_columns": null,
            "grid_auto_flow": null,
            "grid_auto_rows": null,
            "grid_column": null,
            "grid_gap": null,
            "grid_row": null,
            "grid_template_areas": null,
            "grid_template_columns": null,
            "grid_template_rows": null,
            "height": null,
            "justify_content": null,
            "justify_items": null,
            "left": null,
            "margin": null,
            "max_height": null,
            "max_width": null,
            "min_height": null,
            "min_width": null,
            "object_fit": null,
            "object_position": null,
            "order": null,
            "overflow": null,
            "overflow_x": null,
            "overflow_y": null,
            "padding": null,
            "right": null,
            "top": null,
            "visibility": null,
            "width": null
          }
        },
<<<<<<< HEAD
<<<<<<< HEAD
        "144a5cc6816640e381634b80a9758cf1": {
=======
        "6ed974ef65a744a78f9c55e1f6ed5478": {
>>>>>>> 043a282815e330e79882eb927d74c15f11ae2ce2
=======
        "6ed974ef65a744a78f9c55e1f6ed5478": {
>>>>>>> 8d31783db698437b09448df3e24b6b6699ee0f70
          "model_module": "@jupyter-widgets/controls",
          "model_name": "DescriptionStyleModel",
          "model_module_version": "1.5.0",
          "state": {
            "_model_module": "@jupyter-widgets/controls",
            "_model_module_version": "1.5.0",
            "_model_name": "DescriptionStyleModel",
            "_view_count": null,
            "_view_module": "@jupyter-widgets/base",
            "_view_module_version": "1.2.0",
            "_view_name": "StyleView",
            "description_width": ""
          }
        },
<<<<<<< HEAD
<<<<<<< HEAD
        "75bdbf4fb271416f91333c76b8619a33": {
=======
        "2b20fefec6f040c6a875020a8dbc480f": {
>>>>>>> 043a282815e330e79882eb927d74c15f11ae2ce2
=======
        "2b20fefec6f040c6a875020a8dbc480f": {
>>>>>>> 8d31783db698437b09448df3e24b6b6699ee0f70
          "model_module": "@jupyter-widgets/base",
          "model_name": "LayoutModel",
          "model_module_version": "1.2.0",
          "state": {
            "_model_module": "@jupyter-widgets/base",
            "_model_module_version": "1.2.0",
            "_model_name": "LayoutModel",
            "_view_count": null,
            "_view_module": "@jupyter-widgets/base",
            "_view_module_version": "1.2.0",
            "_view_name": "LayoutView",
            "align_content": null,
            "align_items": null,
            "align_self": null,
            "border": null,
            "bottom": null,
            "display": null,
            "flex": null,
            "flex_flow": null,
            "grid_area": null,
            "grid_auto_columns": null,
            "grid_auto_flow": null,
            "grid_auto_rows": null,
            "grid_column": null,
            "grid_gap": null,
            "grid_row": null,
            "grid_template_areas": null,
            "grid_template_columns": null,
            "grid_template_rows": null,
            "height": null,
            "justify_content": null,
            "justify_items": null,
            "left": null,
            "margin": null,
            "max_height": null,
            "max_width": null,
            "min_height": null,
            "min_width": null,
            "object_fit": null,
            "object_position": null,
            "order": null,
            "overflow": null,
            "overflow_x": null,
            "overflow_y": null,
            "padding": null,
            "right": null,
            "top": null,
            "visibility": null,
            "width": null
          }
        },
<<<<<<< HEAD
<<<<<<< HEAD
        "b90ab3cc303d423c91ee954f28d08d43": {
=======
        "c7a3c02dacda45baa8b85a350111f023": {
>>>>>>> 043a282815e330e79882eb927d74c15f11ae2ce2
=======
        "c7a3c02dacda45baa8b85a350111f023": {
>>>>>>> 8d31783db698437b09448df3e24b6b6699ee0f70
          "model_module": "@jupyter-widgets/controls",
          "model_name": "ProgressStyleModel",
          "model_module_version": "1.5.0",
          "state": {
            "_model_module": "@jupyter-widgets/controls",
            "_model_module_version": "1.5.0",
            "_model_name": "ProgressStyleModel",
            "_view_count": null,
            "_view_module": "@jupyter-widgets/base",
            "_view_module_version": "1.2.0",
            "_view_name": "StyleView",
            "bar_color": null,
            "description_width": ""
          }
        },
<<<<<<< HEAD
<<<<<<< HEAD
        "02b74b8e07f24a118f20b5024455123c": {
=======
        "999ac30b7adc4be1847fb9515f58aa48": {
>>>>>>> 043a282815e330e79882eb927d74c15f11ae2ce2
=======
        "999ac30b7adc4be1847fb9515f58aa48": {
>>>>>>> 8d31783db698437b09448df3e24b6b6699ee0f70
          "model_module": "@jupyter-widgets/base",
          "model_name": "LayoutModel",
          "model_module_version": "1.2.0",
          "state": {
            "_model_module": "@jupyter-widgets/base",
            "_model_module_version": "1.2.0",
            "_model_name": "LayoutModel",
            "_view_count": null,
            "_view_module": "@jupyter-widgets/base",
            "_view_module_version": "1.2.0",
            "_view_name": "LayoutView",
            "align_content": null,
            "align_items": null,
            "align_self": null,
            "border": null,
            "bottom": null,
            "display": null,
            "flex": null,
            "flex_flow": null,
            "grid_area": null,
            "grid_auto_columns": null,
            "grid_auto_flow": null,
            "grid_auto_rows": null,
            "grid_column": null,
            "grid_gap": null,
            "grid_row": null,
            "grid_template_areas": null,
            "grid_template_columns": null,
            "grid_template_rows": null,
            "height": null,
            "justify_content": null,
            "justify_items": null,
            "left": null,
            "margin": null,
            "max_height": null,
            "max_width": null,
            "min_height": null,
            "min_width": null,
            "object_fit": null,
            "object_position": null,
            "order": null,
            "overflow": null,
            "overflow_x": null,
            "overflow_y": null,
            "padding": null,
            "right": null,
            "top": null,
            "visibility": null,
            "width": null
          }
        },
<<<<<<< HEAD
<<<<<<< HEAD
        "5dfcc33e46404586880fdac20001c4b8": {
=======
        "91dcbec9fa044a94aec406ca44de13d2": {
>>>>>>> 043a282815e330e79882eb927d74c15f11ae2ce2
=======
        "91dcbec9fa044a94aec406ca44de13d2": {
>>>>>>> 8d31783db698437b09448df3e24b6b6699ee0f70
          "model_module": "@jupyter-widgets/controls",
          "model_name": "DescriptionStyleModel",
          "model_module_version": "1.5.0",
          "state": {
            "_model_module": "@jupyter-widgets/controls",
            "_model_module_version": "1.5.0",
            "_model_name": "DescriptionStyleModel",
            "_view_count": null,
            "_view_module": "@jupyter-widgets/base",
            "_view_module_version": "1.2.0",
            "_view_name": "StyleView",
            "description_width": ""
          }
        },
<<<<<<< HEAD
<<<<<<< HEAD
        "5be90ae4d90340ce9c83fa7bbeb787df": {
=======
        "6c2a8ce2d6b0491890014f2e6d78248f": {
>>>>>>> 043a282815e330e79882eb927d74c15f11ae2ce2
=======
        "6c2a8ce2d6b0491890014f2e6d78248f": {
>>>>>>> 8d31783db698437b09448df3e24b6b6699ee0f70
          "model_module": "@jupyter-widgets/controls",
          "model_name": "HBoxModel",
          "model_module_version": "1.5.0",
          "state": {
            "_dom_classes": [],
            "_model_module": "@jupyter-widgets/controls",
            "_model_module_version": "1.5.0",
            "_model_name": "HBoxModel",
            "_view_count": null,
            "_view_module": "@jupyter-widgets/controls",
            "_view_module_version": "1.5.0",
            "_view_name": "HBoxView",
            "box_style": "",
            "children": [
<<<<<<< HEAD
<<<<<<< HEAD
              "IPY_MODEL_7ed9007d927144ab85520bc0fa9580ef",
              "IPY_MODEL_9eadbf5bc2eb4dbe8e7ede093335c4c1",
              "IPY_MODEL_d4b468917c664cfa8b3899b67e3cad22"
            ],
            "layout": "IPY_MODEL_67b16930cef4412590f6e6dbbc5a1ef9"
          }
        },
        "7ed9007d927144ab85520bc0fa9580ef": {
=======
=======
>>>>>>> 8d31783db698437b09448df3e24b6b6699ee0f70
              "IPY_MODEL_d828fb38392b4b949d7f81bba690d43e",
              "IPY_MODEL_d801b5f172b24ccfb2be490ab0dcdc7b",
              "IPY_MODEL_c2cf57f8fe614e028651be4faad18d9d"
            ],
            "layout": "IPY_MODEL_5fdce93e549f4383bedcd8ece71529d6"
          }
        },
        "d828fb38392b4b949d7f81bba690d43e": {
<<<<<<< HEAD
>>>>>>> 043a282815e330e79882eb927d74c15f11ae2ce2
=======
>>>>>>> 8d31783db698437b09448df3e24b6b6699ee0f70
          "model_module": "@jupyter-widgets/controls",
          "model_name": "HTMLModel",
          "model_module_version": "1.5.0",
          "state": {
            "_dom_classes": [],
            "_model_module": "@jupyter-widgets/controls",
            "_model_module_version": "1.5.0",
            "_model_name": "HTMLModel",
            "_view_count": null,
            "_view_module": "@jupyter-widgets/controls",
            "_view_module_version": "1.5.0",
            "_view_name": "HTMLView",
            "description": "",
            "description_tooltip": null,
<<<<<<< HEAD
<<<<<<< HEAD
            "layout": "IPY_MODEL_39855c5ca57d48f6a598d9c1a49f7bfd",
            "placeholder": "​",
            "style": "IPY_MODEL_52306ddc88a546479b312a6b59c6b239",
            "value": "100%"
          }
        },
        "9eadbf5bc2eb4dbe8e7ede093335c4c1": {
=======
=======
>>>>>>> 8d31783db698437b09448df3e24b6b6699ee0f70
            "layout": "IPY_MODEL_ba608ac7bd9a435a919c53473e987e01",
            "placeholder": "​",
            "style": "IPY_MODEL_0bde991b9b624e58b16203f7e542e02e",
            "value": "100%"
          }
        },
        "d801b5f172b24ccfb2be490ab0dcdc7b": {
<<<<<<< HEAD
>>>>>>> 043a282815e330e79882eb927d74c15f11ae2ce2
=======
>>>>>>> 8d31783db698437b09448df3e24b6b6699ee0f70
          "model_module": "@jupyter-widgets/controls",
          "model_name": "FloatProgressModel",
          "model_module_version": "1.5.0",
          "state": {
            "_dom_classes": [],
            "_model_module": "@jupyter-widgets/controls",
            "_model_module_version": "1.5.0",
            "_model_name": "FloatProgressModel",
            "_view_count": null,
            "_view_module": "@jupyter-widgets/controls",
            "_view_module_version": "1.5.0",
            "_view_name": "ProgressView",
            "bar_style": "success",
            "description": "",
            "description_tooltip": null,
<<<<<<< HEAD
<<<<<<< HEAD
            "layout": "IPY_MODEL_45e9a2c922d3491da191df9c3d8c386f",
            "max": 136,
            "min": 0,
            "orientation": "horizontal",
            "style": "IPY_MODEL_3e01fa0517534fe1911d1e9dc7de8362",
            "value": 136
          }
        },
        "d4b468917c664cfa8b3899b67e3cad22": {
=======
=======
>>>>>>> 8d31783db698437b09448df3e24b6b6699ee0f70
            "layout": "IPY_MODEL_ebc8ed8856cb4d72949d48ba326af6a5",
            "max": 136,
            "min": 0,
            "orientation": "horizontal",
            "style": "IPY_MODEL_2219dbe33ff54b17998d6aa12916951f",
            "value": 136
          }
        },
        "c2cf57f8fe614e028651be4faad18d9d": {
<<<<<<< HEAD
>>>>>>> 043a282815e330e79882eb927d74c15f11ae2ce2
=======
>>>>>>> 8d31783db698437b09448df3e24b6b6699ee0f70
          "model_module": "@jupyter-widgets/controls",
          "model_name": "HTMLModel",
          "model_module_version": "1.5.0",
          "state": {
            "_dom_classes": [],
            "_model_module": "@jupyter-widgets/controls",
            "_model_module_version": "1.5.0",
            "_model_name": "HTMLModel",
            "_view_count": null,
            "_view_module": "@jupyter-widgets/controls",
            "_view_module_version": "1.5.0",
            "_view_name": "HTMLView",
            "description": "",
            "description_tooltip": null,
<<<<<<< HEAD
<<<<<<< HEAD
            "layout": "IPY_MODEL_cdbd21adc0744c97a33d05e3f4ec44ae",
            "placeholder": "​",
            "style": "IPY_MODEL_f69e088f45dd4c0e93d64a6875db66dd",
            "value": " 136/136 [00:00&lt;00:00, 271.47it/s]"
          }
        },
        "67b16930cef4412590f6e6dbbc5a1ef9": {
=======
=======
>>>>>>> 8d31783db698437b09448df3e24b6b6699ee0f70
            "layout": "IPY_MODEL_2423762f2def4bb5a2d3febe88a74f5e",
            "placeholder": "​",
            "style": "IPY_MODEL_c4b2136902764ba5a5c1bbc500bab030",
            "value": " 136/136 [00:00&lt;00:00, 285.36it/s]"
          }
        },
        "5fdce93e549f4383bedcd8ece71529d6": {
<<<<<<< HEAD
>>>>>>> 043a282815e330e79882eb927d74c15f11ae2ce2
=======
>>>>>>> 8d31783db698437b09448df3e24b6b6699ee0f70
          "model_module": "@jupyter-widgets/base",
          "model_name": "LayoutModel",
          "model_module_version": "1.2.0",
          "state": {
            "_model_module": "@jupyter-widgets/base",
            "_model_module_version": "1.2.0",
            "_model_name": "LayoutModel",
            "_view_count": null,
            "_view_module": "@jupyter-widgets/base",
            "_view_module_version": "1.2.0",
            "_view_name": "LayoutView",
            "align_content": null,
            "align_items": null,
            "align_self": null,
            "border": null,
            "bottom": null,
            "display": null,
            "flex": null,
            "flex_flow": null,
            "grid_area": null,
            "grid_auto_columns": null,
            "grid_auto_flow": null,
            "grid_auto_rows": null,
            "grid_column": null,
            "grid_gap": null,
            "grid_row": null,
            "grid_template_areas": null,
            "grid_template_columns": null,
            "grid_template_rows": null,
            "height": null,
            "justify_content": null,
            "justify_items": null,
            "left": null,
            "margin": null,
            "max_height": null,
            "max_width": null,
            "min_height": null,
            "min_width": null,
            "object_fit": null,
            "object_position": null,
            "order": null,
            "overflow": null,
            "overflow_x": null,
            "overflow_y": null,
            "padding": null,
            "right": null,
            "top": null,
            "visibility": null,
            "width": null
          }
        },
<<<<<<< HEAD
<<<<<<< HEAD
        "39855c5ca57d48f6a598d9c1a49f7bfd": {
=======
        "ba608ac7bd9a435a919c53473e987e01": {
>>>>>>> 043a282815e330e79882eb927d74c15f11ae2ce2
=======
        "ba608ac7bd9a435a919c53473e987e01": {
>>>>>>> 8d31783db698437b09448df3e24b6b6699ee0f70
          "model_module": "@jupyter-widgets/base",
          "model_name": "LayoutModel",
          "model_module_version": "1.2.0",
          "state": {
            "_model_module": "@jupyter-widgets/base",
            "_model_module_version": "1.2.0",
            "_model_name": "LayoutModel",
            "_view_count": null,
            "_view_module": "@jupyter-widgets/base",
            "_view_module_version": "1.2.0",
            "_view_name": "LayoutView",
            "align_content": null,
            "align_items": null,
            "align_self": null,
            "border": null,
            "bottom": null,
            "display": null,
            "flex": null,
            "flex_flow": null,
            "grid_area": null,
            "grid_auto_columns": null,
            "grid_auto_flow": null,
            "grid_auto_rows": null,
            "grid_column": null,
            "grid_gap": null,
            "grid_row": null,
            "grid_template_areas": null,
            "grid_template_columns": null,
            "grid_template_rows": null,
            "height": null,
            "justify_content": null,
            "justify_items": null,
            "left": null,
            "margin": null,
            "max_height": null,
            "max_width": null,
            "min_height": null,
            "min_width": null,
            "object_fit": null,
            "object_position": null,
            "order": null,
            "overflow": null,
            "overflow_x": null,
            "overflow_y": null,
            "padding": null,
            "right": null,
            "top": null,
            "visibility": null,
            "width": null
          }
        },
<<<<<<< HEAD
<<<<<<< HEAD
        "52306ddc88a546479b312a6b59c6b239": {
=======
        "0bde991b9b624e58b16203f7e542e02e": {
>>>>>>> 043a282815e330e79882eb927d74c15f11ae2ce2
=======
        "0bde991b9b624e58b16203f7e542e02e": {
>>>>>>> 8d31783db698437b09448df3e24b6b6699ee0f70
          "model_module": "@jupyter-widgets/controls",
          "model_name": "DescriptionStyleModel",
          "model_module_version": "1.5.0",
          "state": {
            "_model_module": "@jupyter-widgets/controls",
            "_model_module_version": "1.5.0",
            "_model_name": "DescriptionStyleModel",
            "_view_count": null,
            "_view_module": "@jupyter-widgets/base",
            "_view_module_version": "1.2.0",
            "_view_name": "StyleView",
            "description_width": ""
          }
        },
<<<<<<< HEAD
<<<<<<< HEAD
        "45e9a2c922d3491da191df9c3d8c386f": {
=======
        "ebc8ed8856cb4d72949d48ba326af6a5": {
>>>>>>> 043a282815e330e79882eb927d74c15f11ae2ce2
=======
        "ebc8ed8856cb4d72949d48ba326af6a5": {
>>>>>>> 8d31783db698437b09448df3e24b6b6699ee0f70
          "model_module": "@jupyter-widgets/base",
          "model_name": "LayoutModel",
          "model_module_version": "1.2.0",
          "state": {
            "_model_module": "@jupyter-widgets/base",
            "_model_module_version": "1.2.0",
            "_model_name": "LayoutModel",
            "_view_count": null,
            "_view_module": "@jupyter-widgets/base",
            "_view_module_version": "1.2.0",
            "_view_name": "LayoutView",
            "align_content": null,
            "align_items": null,
            "align_self": null,
            "border": null,
            "bottom": null,
            "display": null,
            "flex": null,
            "flex_flow": null,
            "grid_area": null,
            "grid_auto_columns": null,
            "grid_auto_flow": null,
            "grid_auto_rows": null,
            "grid_column": null,
            "grid_gap": null,
            "grid_row": null,
            "grid_template_areas": null,
            "grid_template_columns": null,
            "grid_template_rows": null,
            "height": null,
            "justify_content": null,
            "justify_items": null,
            "left": null,
            "margin": null,
            "max_height": null,
            "max_width": null,
            "min_height": null,
            "min_width": null,
            "object_fit": null,
            "object_position": null,
            "order": null,
            "overflow": null,
            "overflow_x": null,
            "overflow_y": null,
            "padding": null,
            "right": null,
            "top": null,
            "visibility": null,
            "width": null
          }
        },
<<<<<<< HEAD
<<<<<<< HEAD
        "3e01fa0517534fe1911d1e9dc7de8362": {
=======
        "2219dbe33ff54b17998d6aa12916951f": {
>>>>>>> 043a282815e330e79882eb927d74c15f11ae2ce2
=======
        "2219dbe33ff54b17998d6aa12916951f": {
>>>>>>> 8d31783db698437b09448df3e24b6b6699ee0f70
          "model_module": "@jupyter-widgets/controls",
          "model_name": "ProgressStyleModel",
          "model_module_version": "1.5.0",
          "state": {
            "_model_module": "@jupyter-widgets/controls",
            "_model_module_version": "1.5.0",
            "_model_name": "ProgressStyleModel",
            "_view_count": null,
            "_view_module": "@jupyter-widgets/base",
            "_view_module_version": "1.2.0",
            "_view_name": "StyleView",
            "bar_color": null,
            "description_width": ""
          }
        },
<<<<<<< HEAD
<<<<<<< HEAD
        "cdbd21adc0744c97a33d05e3f4ec44ae": {
=======
        "2423762f2def4bb5a2d3febe88a74f5e": {
>>>>>>> 043a282815e330e79882eb927d74c15f11ae2ce2
=======
        "2423762f2def4bb5a2d3febe88a74f5e": {
>>>>>>> 8d31783db698437b09448df3e24b6b6699ee0f70
          "model_module": "@jupyter-widgets/base",
          "model_name": "LayoutModel",
          "model_module_version": "1.2.0",
          "state": {
            "_model_module": "@jupyter-widgets/base",
            "_model_module_version": "1.2.0",
            "_model_name": "LayoutModel",
            "_view_count": null,
            "_view_module": "@jupyter-widgets/base",
            "_view_module_version": "1.2.0",
            "_view_name": "LayoutView",
            "align_content": null,
            "align_items": null,
            "align_self": null,
            "border": null,
            "bottom": null,
            "display": null,
            "flex": null,
            "flex_flow": null,
            "grid_area": null,
            "grid_auto_columns": null,
            "grid_auto_flow": null,
            "grid_auto_rows": null,
            "grid_column": null,
            "grid_gap": null,
            "grid_row": null,
            "grid_template_areas": null,
            "grid_template_columns": null,
            "grid_template_rows": null,
            "height": null,
            "justify_content": null,
            "justify_items": null,
            "left": null,
            "margin": null,
            "max_height": null,
            "max_width": null,
            "min_height": null,
            "min_width": null,
            "object_fit": null,
            "object_position": null,
            "order": null,
            "overflow": null,
            "overflow_x": null,
            "overflow_y": null,
            "padding": null,
            "right": null,
            "top": null,
            "visibility": null,
            "width": null
          }
        },
<<<<<<< HEAD
<<<<<<< HEAD
        "f69e088f45dd4c0e93d64a6875db66dd": {
=======
        "c4b2136902764ba5a5c1bbc500bab030": {
>>>>>>> 043a282815e330e79882eb927d74c15f11ae2ce2
=======
        "c4b2136902764ba5a5c1bbc500bab030": {
>>>>>>> 8d31783db698437b09448df3e24b6b6699ee0f70
          "model_module": "@jupyter-widgets/controls",
          "model_name": "DescriptionStyleModel",
          "model_module_version": "1.5.0",
          "state": {
            "_model_module": "@jupyter-widgets/controls",
            "_model_module_version": "1.5.0",
            "_model_name": "DescriptionStyleModel",
            "_view_count": null,
            "_view_module": "@jupyter-widgets/base",
            "_view_module_version": "1.2.0",
            "_view_name": "StyleView",
            "description_width": ""
          }
        },
<<<<<<< HEAD
<<<<<<< HEAD
        "0d528f2f5c08453d8aac2fc8f79020a4": {
=======
        "5d88c698a232424485a6f99e484c0fd8": {
>>>>>>> 043a282815e330e79882eb927d74c15f11ae2ce2
=======
        "5d88c698a232424485a6f99e484c0fd8": {
>>>>>>> 8d31783db698437b09448df3e24b6b6699ee0f70
          "model_module": "@jupyter-widgets/controls",
          "model_name": "HBoxModel",
          "model_module_version": "1.5.0",
          "state": {
            "_dom_classes": [],
            "_model_module": "@jupyter-widgets/controls",
            "_model_module_version": "1.5.0",
            "_model_name": "HBoxModel",
            "_view_count": null,
            "_view_module": "@jupyter-widgets/controls",
            "_view_module_version": "1.5.0",
            "_view_name": "HBoxView",
            "box_style": "",
            "children": [
<<<<<<< HEAD
<<<<<<< HEAD
              "IPY_MODEL_9a41bf3e92ca4a9485c0cae874386272",
              "IPY_MODEL_de5bf8c5d5ee452e99ee389dc9fb4943",
              "IPY_MODEL_c9bf382cb3084fbda40b739a80f02e06"
            ],
            "layout": "IPY_MODEL_6e2ab04891d642f38d886d8fc134d77f"
          }
        },
        "9a41bf3e92ca4a9485c0cae874386272": {
=======
=======
>>>>>>> 8d31783db698437b09448df3e24b6b6699ee0f70
              "IPY_MODEL_c6fb64cb8b2a479690b75a2810a84618",
              "IPY_MODEL_258e633a2e664b129e6d178b9382fc6f",
              "IPY_MODEL_5468a804fbf14bab9e434787a7e816f3"
            ],
            "layout": "IPY_MODEL_0dbd73f14171468786de17bc01cf12ae"
          }
        },
        "c6fb64cb8b2a479690b75a2810a84618": {
<<<<<<< HEAD
>>>>>>> 043a282815e330e79882eb927d74c15f11ae2ce2
=======
>>>>>>> 8d31783db698437b09448df3e24b6b6699ee0f70
          "model_module": "@jupyter-widgets/controls",
          "model_name": "HTMLModel",
          "model_module_version": "1.5.0",
          "state": {
            "_dom_classes": [],
            "_model_module": "@jupyter-widgets/controls",
            "_model_module_version": "1.5.0",
            "_model_name": "HTMLModel",
            "_view_count": null,
            "_view_module": "@jupyter-widgets/controls",
            "_view_module_version": "1.5.0",
            "_view_name": "HTMLView",
            "description": "",
            "description_tooltip": null,
<<<<<<< HEAD
<<<<<<< HEAD
            "layout": "IPY_MODEL_b3ee449f436c4f6d99618b21b5c04727",
            "placeholder": "​",
            "style": "IPY_MODEL_6218b3baad674374a4c8d1193558b784",
            "value": " 99%"
          }
        },
        "de5bf8c5d5ee452e99ee389dc9fb4943": {
=======
=======
>>>>>>> 8d31783db698437b09448df3e24b6b6699ee0f70
            "layout": "IPY_MODEL_3bb2a9dd192c4b0ba6704e399d14b8d3",
            "placeholder": "​",
            "style": "IPY_MODEL_10d470eee2e54f4c972c24df32598ec1",
            "value": " 99%"
          }
        },
        "258e633a2e664b129e6d178b9382fc6f": {
<<<<<<< HEAD
>>>>>>> 043a282815e330e79882eb927d74c15f11ae2ce2
=======
>>>>>>> 8d31783db698437b09448df3e24b6b6699ee0f70
          "model_module": "@jupyter-widgets/controls",
          "model_name": "FloatProgressModel",
          "model_module_version": "1.5.0",
          "state": {
            "_dom_classes": [],
            "_model_module": "@jupyter-widgets/controls",
            "_model_module_version": "1.5.0",
            "_model_name": "FloatProgressModel",
            "_view_count": null,
            "_view_module": "@jupyter-widgets/controls",
            "_view_module_version": "1.5.0",
            "_view_name": "ProgressView",
            "bar_style": "danger",
            "description": "",
            "description_tooltip": null,
<<<<<<< HEAD
<<<<<<< HEAD
            "layout": "IPY_MODEL_e13c837a0c9c4f6eb8903f008a97d668",
            "max": 136,
            "min": 0,
            "orientation": "horizontal",
            "style": "IPY_MODEL_66647bf00cd24294b70dfcffdd804a83",
            "value": 135
          }
        },
        "c9bf382cb3084fbda40b739a80f02e06": {
=======
=======
>>>>>>> 8d31783db698437b09448df3e24b6b6699ee0f70
            "layout": "IPY_MODEL_e590491a85db4217a14dde929fe1e9a3",
            "max": 136,
            "min": 0,
            "orientation": "horizontal",
            "style": "IPY_MODEL_723957e723dc49179dd3f7e484862ee9",
            "value": 135
          }
        },
        "5468a804fbf14bab9e434787a7e816f3": {
<<<<<<< HEAD
>>>>>>> 043a282815e330e79882eb927d74c15f11ae2ce2
=======
>>>>>>> 8d31783db698437b09448df3e24b6b6699ee0f70
          "model_module": "@jupyter-widgets/controls",
          "model_name": "HTMLModel",
          "model_module_version": "1.5.0",
          "state": {
            "_dom_classes": [],
            "_model_module": "@jupyter-widgets/controls",
            "_model_module_version": "1.5.0",
            "_model_name": "HTMLModel",
            "_view_count": null,
            "_view_module": "@jupyter-widgets/controls",
            "_view_module_version": "1.5.0",
            "_view_name": "HTMLView",
            "description": "",
            "description_tooltip": null,
<<<<<<< HEAD
<<<<<<< HEAD
            "layout": "IPY_MODEL_8870cd763c184c4eb8b10de5f7c528ad",
            "placeholder": "​",
            "style": "IPY_MODEL_6abf010aab704df5a007aab5d201153b",
            "value": " 135/136 [00:00&lt;00:00, 258.98it/s]"
          }
        },
        "6e2ab04891d642f38d886d8fc134d77f": {
=======
=======
>>>>>>> 8d31783db698437b09448df3e24b6b6699ee0f70
            "layout": "IPY_MODEL_f567d497b51b46cbaafe48cd84a7b7dd",
            "placeholder": "​",
            "style": "IPY_MODEL_ac84f031d4684107a719475405844000",
            "value": " 135/136 [00:00&lt;00:00, 281.94it/s]"
          }
        },
        "0dbd73f14171468786de17bc01cf12ae": {
<<<<<<< HEAD
>>>>>>> 043a282815e330e79882eb927d74c15f11ae2ce2
=======
>>>>>>> 8d31783db698437b09448df3e24b6b6699ee0f70
          "model_module": "@jupyter-widgets/base",
          "model_name": "LayoutModel",
          "model_module_version": "1.2.0",
          "state": {
            "_model_module": "@jupyter-widgets/base",
            "_model_module_version": "1.2.0",
            "_model_name": "LayoutModel",
            "_view_count": null,
            "_view_module": "@jupyter-widgets/base",
            "_view_module_version": "1.2.0",
            "_view_name": "LayoutView",
            "align_content": null,
            "align_items": null,
            "align_self": null,
            "border": null,
            "bottom": null,
            "display": null,
            "flex": null,
            "flex_flow": null,
            "grid_area": null,
            "grid_auto_columns": null,
            "grid_auto_flow": null,
            "grid_auto_rows": null,
            "grid_column": null,
            "grid_gap": null,
            "grid_row": null,
            "grid_template_areas": null,
            "grid_template_columns": null,
            "grid_template_rows": null,
            "height": null,
            "justify_content": null,
            "justify_items": null,
            "left": null,
            "margin": null,
            "max_height": null,
            "max_width": null,
            "min_height": null,
            "min_width": null,
            "object_fit": null,
            "object_position": null,
            "order": null,
            "overflow": null,
            "overflow_x": null,
            "overflow_y": null,
            "padding": null,
            "right": null,
            "top": null,
            "visibility": null,
            "width": null
          }
        },
<<<<<<< HEAD
<<<<<<< HEAD
        "b3ee449f436c4f6d99618b21b5c04727": {
=======
        "3bb2a9dd192c4b0ba6704e399d14b8d3": {
>>>>>>> 043a282815e330e79882eb927d74c15f11ae2ce2
=======
        "3bb2a9dd192c4b0ba6704e399d14b8d3": {
>>>>>>> 8d31783db698437b09448df3e24b6b6699ee0f70
          "model_module": "@jupyter-widgets/base",
          "model_name": "LayoutModel",
          "model_module_version": "1.2.0",
          "state": {
            "_model_module": "@jupyter-widgets/base",
            "_model_module_version": "1.2.0",
            "_model_name": "LayoutModel",
            "_view_count": null,
            "_view_module": "@jupyter-widgets/base",
            "_view_module_version": "1.2.0",
            "_view_name": "LayoutView",
            "align_content": null,
            "align_items": null,
            "align_self": null,
            "border": null,
            "bottom": null,
            "display": null,
            "flex": null,
            "flex_flow": null,
            "grid_area": null,
            "grid_auto_columns": null,
            "grid_auto_flow": null,
            "grid_auto_rows": null,
            "grid_column": null,
            "grid_gap": null,
            "grid_row": null,
            "grid_template_areas": null,
            "grid_template_columns": null,
            "grid_template_rows": null,
            "height": null,
            "justify_content": null,
            "justify_items": null,
            "left": null,
            "margin": null,
            "max_height": null,
            "max_width": null,
            "min_height": null,
            "min_width": null,
            "object_fit": null,
            "object_position": null,
            "order": null,
            "overflow": null,
            "overflow_x": null,
            "overflow_y": null,
            "padding": null,
            "right": null,
            "top": null,
            "visibility": null,
            "width": null
          }
        },
<<<<<<< HEAD
<<<<<<< HEAD
        "6218b3baad674374a4c8d1193558b784": {
=======
        "10d470eee2e54f4c972c24df32598ec1": {
>>>>>>> 043a282815e330e79882eb927d74c15f11ae2ce2
=======
        "10d470eee2e54f4c972c24df32598ec1": {
>>>>>>> 8d31783db698437b09448df3e24b6b6699ee0f70
          "model_module": "@jupyter-widgets/controls",
          "model_name": "DescriptionStyleModel",
          "model_module_version": "1.5.0",
          "state": {
            "_model_module": "@jupyter-widgets/controls",
            "_model_module_version": "1.5.0",
            "_model_name": "DescriptionStyleModel",
            "_view_count": null,
            "_view_module": "@jupyter-widgets/base",
            "_view_module_version": "1.2.0",
            "_view_name": "StyleView",
            "description_width": ""
          }
        },
<<<<<<< HEAD
<<<<<<< HEAD
        "e13c837a0c9c4f6eb8903f008a97d668": {
=======
        "e590491a85db4217a14dde929fe1e9a3": {
>>>>>>> 043a282815e330e79882eb927d74c15f11ae2ce2
=======
        "e590491a85db4217a14dde929fe1e9a3": {
>>>>>>> 8d31783db698437b09448df3e24b6b6699ee0f70
          "model_module": "@jupyter-widgets/base",
          "model_name": "LayoutModel",
          "model_module_version": "1.2.0",
          "state": {
            "_model_module": "@jupyter-widgets/base",
            "_model_module_version": "1.2.0",
            "_model_name": "LayoutModel",
            "_view_count": null,
            "_view_module": "@jupyter-widgets/base",
            "_view_module_version": "1.2.0",
            "_view_name": "LayoutView",
            "align_content": null,
            "align_items": null,
            "align_self": null,
            "border": null,
            "bottom": null,
            "display": null,
            "flex": null,
            "flex_flow": null,
            "grid_area": null,
            "grid_auto_columns": null,
            "grid_auto_flow": null,
            "grid_auto_rows": null,
            "grid_column": null,
            "grid_gap": null,
            "grid_row": null,
            "grid_template_areas": null,
            "grid_template_columns": null,
            "grid_template_rows": null,
            "height": null,
            "justify_content": null,
            "justify_items": null,
            "left": null,
            "margin": null,
            "max_height": null,
            "max_width": null,
            "min_height": null,
            "min_width": null,
            "object_fit": null,
            "object_position": null,
            "order": null,
            "overflow": null,
            "overflow_x": null,
            "overflow_y": null,
            "padding": null,
            "right": null,
            "top": null,
            "visibility": null,
            "width": null
          }
        },
<<<<<<< HEAD
<<<<<<< HEAD
        "66647bf00cd24294b70dfcffdd804a83": {
=======
        "723957e723dc49179dd3f7e484862ee9": {
>>>>>>> 043a282815e330e79882eb927d74c15f11ae2ce2
=======
        "723957e723dc49179dd3f7e484862ee9": {
>>>>>>> 8d31783db698437b09448df3e24b6b6699ee0f70
          "model_module": "@jupyter-widgets/controls",
          "model_name": "ProgressStyleModel",
          "model_module_version": "1.5.0",
          "state": {
            "_model_module": "@jupyter-widgets/controls",
            "_model_module_version": "1.5.0",
            "_model_name": "ProgressStyleModel",
            "_view_count": null,
            "_view_module": "@jupyter-widgets/base",
            "_view_module_version": "1.2.0",
            "_view_name": "StyleView",
            "bar_color": null,
            "description_width": ""
          }
        },
<<<<<<< HEAD
<<<<<<< HEAD
        "8870cd763c184c4eb8b10de5f7c528ad": {
=======
        "f567d497b51b46cbaafe48cd84a7b7dd": {
>>>>>>> 043a282815e330e79882eb927d74c15f11ae2ce2
=======
        "f567d497b51b46cbaafe48cd84a7b7dd": {
>>>>>>> 8d31783db698437b09448df3e24b6b6699ee0f70
          "model_module": "@jupyter-widgets/base",
          "model_name": "LayoutModel",
          "model_module_version": "1.2.0",
          "state": {
            "_model_module": "@jupyter-widgets/base",
            "_model_module_version": "1.2.0",
            "_model_name": "LayoutModel",
            "_view_count": null,
            "_view_module": "@jupyter-widgets/base",
            "_view_module_version": "1.2.0",
            "_view_name": "LayoutView",
            "align_content": null,
            "align_items": null,
            "align_self": null,
            "border": null,
            "bottom": null,
            "display": null,
            "flex": null,
            "flex_flow": null,
            "grid_area": null,
            "grid_auto_columns": null,
            "grid_auto_flow": null,
            "grid_auto_rows": null,
            "grid_column": null,
            "grid_gap": null,
            "grid_row": null,
            "grid_template_areas": null,
            "grid_template_columns": null,
            "grid_template_rows": null,
            "height": null,
            "justify_content": null,
            "justify_items": null,
            "left": null,
            "margin": null,
            "max_height": null,
            "max_width": null,
            "min_height": null,
            "min_width": null,
            "object_fit": null,
            "object_position": null,
            "order": null,
            "overflow": null,
            "overflow_x": null,
            "overflow_y": null,
            "padding": null,
            "right": null,
            "top": null,
            "visibility": null,
            "width": null
          }
        },
<<<<<<< HEAD
<<<<<<< HEAD
        "6abf010aab704df5a007aab5d201153b": {
=======
        "ac84f031d4684107a719475405844000": {
>>>>>>> 043a282815e330e79882eb927d74c15f11ae2ce2
=======
        "ac84f031d4684107a719475405844000": {
>>>>>>> 8d31783db698437b09448df3e24b6b6699ee0f70
          "model_module": "@jupyter-widgets/controls",
          "model_name": "DescriptionStyleModel",
          "model_module_version": "1.5.0",
          "state": {
            "_model_module": "@jupyter-widgets/controls",
            "_model_module_version": "1.5.0",
            "_model_name": "DescriptionStyleModel",
            "_view_count": null,
            "_view_module": "@jupyter-widgets/base",
            "_view_module_version": "1.2.0",
            "_view_name": "StyleView",
            "description_width": ""
          }
        },
<<<<<<< HEAD
<<<<<<< HEAD
        "5a3cd18f0412421097cd1c4351ae1d16": {
=======
        "a1aa36582c3845029fc1374320a009f9": {
>>>>>>> 043a282815e330e79882eb927d74c15f11ae2ce2
=======
        "a1aa36582c3845029fc1374320a009f9": {
>>>>>>> 8d31783db698437b09448df3e24b6b6699ee0f70
          "model_module": "@jupyter-widgets/controls",
          "model_name": "HBoxModel",
          "model_module_version": "1.5.0",
          "state": {
            "_dom_classes": [],
            "_model_module": "@jupyter-widgets/controls",
            "_model_module_version": "1.5.0",
            "_model_name": "HBoxModel",
            "_view_count": null,
            "_view_module": "@jupyter-widgets/controls",
            "_view_module_version": "1.5.0",
            "_view_name": "HBoxView",
            "box_style": "",
            "children": [
<<<<<<< HEAD
<<<<<<< HEAD
              "IPY_MODEL_e289d0e4f8684786b52bc4cbd1f3a26d",
              "IPY_MODEL_d509cb72fc3c4ef9a80d93b79092365e",
              "IPY_MODEL_1fdb0e2e56374efbb254176c8f46886a"
            ],
            "layout": "IPY_MODEL_abc0a2779b0846658464e31986e39ee3"
          }
        },
        "e289d0e4f8684786b52bc4cbd1f3a26d": {
=======
=======
>>>>>>> 8d31783db698437b09448df3e24b6b6699ee0f70
              "IPY_MODEL_c7116b7525674b03ae4831f8170e8658",
              "IPY_MODEL_ddb0fe23e5094694aa8fb53015783f21",
              "IPY_MODEL_07be89d53e3f449da39988c970b8a451"
            ],
            "layout": "IPY_MODEL_0b967549efe64ac98e19f9c98e2a11d0"
          }
        },
        "c7116b7525674b03ae4831f8170e8658": {
<<<<<<< HEAD
>>>>>>> 043a282815e330e79882eb927d74c15f11ae2ce2
=======
>>>>>>> 8d31783db698437b09448df3e24b6b6699ee0f70
          "model_module": "@jupyter-widgets/controls",
          "model_name": "HTMLModel",
          "model_module_version": "1.5.0",
          "state": {
            "_dom_classes": [],
            "_model_module": "@jupyter-widgets/controls",
            "_model_module_version": "1.5.0",
            "_model_name": "HTMLModel",
            "_view_count": null,
            "_view_module": "@jupyter-widgets/controls",
            "_view_module_version": "1.5.0",
            "_view_name": "HTMLView",
            "description": "",
            "description_tooltip": null,
<<<<<<< HEAD
<<<<<<< HEAD
            "layout": "IPY_MODEL_907effc378294e6c9f9260e42d0811aa",
            "placeholder": "​",
            "style": "IPY_MODEL_257d11947d464d4589d07060fa1d0e0d",
            "value": "100%"
          }
        },
        "d509cb72fc3c4ef9a80d93b79092365e": {
=======
=======
>>>>>>> 8d31783db698437b09448df3e24b6b6699ee0f70
            "layout": "IPY_MODEL_f2e14ec80db04586a858d05adab6283f",
            "placeholder": "​",
            "style": "IPY_MODEL_a23f0c292af1452f9b89745e903a2229",
            "value": "100%"
          }
        },
        "ddb0fe23e5094694aa8fb53015783f21": {
<<<<<<< HEAD
>>>>>>> 043a282815e330e79882eb927d74c15f11ae2ce2
=======
>>>>>>> 8d31783db698437b09448df3e24b6b6699ee0f70
          "model_module": "@jupyter-widgets/controls",
          "model_name": "FloatProgressModel",
          "model_module_version": "1.5.0",
          "state": {
            "_dom_classes": [],
            "_model_module": "@jupyter-widgets/controls",
            "_model_module_version": "1.5.0",
            "_model_name": "FloatProgressModel",
            "_view_count": null,
            "_view_module": "@jupyter-widgets/controls",
            "_view_module_version": "1.5.0",
            "_view_name": "ProgressView",
            "bar_style": "success",
            "description": "",
            "description_tooltip": null,
<<<<<<< HEAD
<<<<<<< HEAD
            "layout": "IPY_MODEL_7d516ce1fea642d49e63893f6507678c",
            "max": 130,
            "min": 0,
            "orientation": "horizontal",
            "style": "IPY_MODEL_cdbddc2597804d5da7a4e6d377ed738f",
            "value": 130
          }
        },
        "1fdb0e2e56374efbb254176c8f46886a": {
=======
=======
>>>>>>> 8d31783db698437b09448df3e24b6b6699ee0f70
            "layout": "IPY_MODEL_014b1b4e252a40e3afcfdaadfe267245",
            "max": 130,
            "min": 0,
            "orientation": "horizontal",
            "style": "IPY_MODEL_5658038c3fb743618c6e7bd4d3abcb72",
            "value": 130
          }
        },
        "07be89d53e3f449da39988c970b8a451": {
<<<<<<< HEAD
>>>>>>> 043a282815e330e79882eb927d74c15f11ae2ce2
=======
>>>>>>> 8d31783db698437b09448df3e24b6b6699ee0f70
          "model_module": "@jupyter-widgets/controls",
          "model_name": "HTMLModel",
          "model_module_version": "1.5.0",
          "state": {
            "_dom_classes": [],
            "_model_module": "@jupyter-widgets/controls",
            "_model_module_version": "1.5.0",
            "_model_name": "HTMLModel",
            "_view_count": null,
            "_view_module": "@jupyter-widgets/controls",
            "_view_module_version": "1.5.0",
            "_view_name": "HTMLView",
            "description": "",
            "description_tooltip": null,
<<<<<<< HEAD
<<<<<<< HEAD
            "layout": "IPY_MODEL_a9930b68cd5044399ab6f349cbddbae4",
            "placeholder": "​",
            "style": "IPY_MODEL_71b295df426b4129b4554dc3aaa9a6f2",
            "value": " 130/130 [00:00&lt;00:00, 274.85it/s]"
          }
        },
        "abc0a2779b0846658464e31986e39ee3": {
=======
=======
>>>>>>> 8d31783db698437b09448df3e24b6b6699ee0f70
            "layout": "IPY_MODEL_39bb93a7ce534cc1ad1f815630efd3fe",
            "placeholder": "​",
            "style": "IPY_MODEL_d3d7f5dfd67d4f96958c5a2a118087bf",
            "value": " 130/130 [00:00&lt;00:00, 290.03it/s]"
          }
        },
        "0b967549efe64ac98e19f9c98e2a11d0": {
<<<<<<< HEAD
>>>>>>> 043a282815e330e79882eb927d74c15f11ae2ce2
=======
>>>>>>> 8d31783db698437b09448df3e24b6b6699ee0f70
          "model_module": "@jupyter-widgets/base",
          "model_name": "LayoutModel",
          "model_module_version": "1.2.0",
          "state": {
            "_model_module": "@jupyter-widgets/base",
            "_model_module_version": "1.2.0",
            "_model_name": "LayoutModel",
            "_view_count": null,
            "_view_module": "@jupyter-widgets/base",
            "_view_module_version": "1.2.0",
            "_view_name": "LayoutView",
            "align_content": null,
            "align_items": null,
            "align_self": null,
            "border": null,
            "bottom": null,
            "display": null,
            "flex": null,
            "flex_flow": null,
            "grid_area": null,
            "grid_auto_columns": null,
            "grid_auto_flow": null,
            "grid_auto_rows": null,
            "grid_column": null,
            "grid_gap": null,
            "grid_row": null,
            "grid_template_areas": null,
            "grid_template_columns": null,
            "grid_template_rows": null,
            "height": null,
            "justify_content": null,
            "justify_items": null,
            "left": null,
            "margin": null,
            "max_height": null,
            "max_width": null,
            "min_height": null,
            "min_width": null,
            "object_fit": null,
            "object_position": null,
            "order": null,
            "overflow": null,
            "overflow_x": null,
            "overflow_y": null,
            "padding": null,
            "right": null,
            "top": null,
            "visibility": null,
            "width": null
          }
        },
<<<<<<< HEAD
<<<<<<< HEAD
        "907effc378294e6c9f9260e42d0811aa": {
=======
        "f2e14ec80db04586a858d05adab6283f": {
>>>>>>> 043a282815e330e79882eb927d74c15f11ae2ce2
=======
        "f2e14ec80db04586a858d05adab6283f": {
>>>>>>> 8d31783db698437b09448df3e24b6b6699ee0f70
          "model_module": "@jupyter-widgets/base",
          "model_name": "LayoutModel",
          "model_module_version": "1.2.0",
          "state": {
            "_model_module": "@jupyter-widgets/base",
            "_model_module_version": "1.2.0",
            "_model_name": "LayoutModel",
            "_view_count": null,
            "_view_module": "@jupyter-widgets/base",
            "_view_module_version": "1.2.0",
            "_view_name": "LayoutView",
            "align_content": null,
            "align_items": null,
            "align_self": null,
            "border": null,
            "bottom": null,
            "display": null,
            "flex": null,
            "flex_flow": null,
            "grid_area": null,
            "grid_auto_columns": null,
            "grid_auto_flow": null,
            "grid_auto_rows": null,
            "grid_column": null,
            "grid_gap": null,
            "grid_row": null,
            "grid_template_areas": null,
            "grid_template_columns": null,
            "grid_template_rows": null,
            "height": null,
            "justify_content": null,
            "justify_items": null,
            "left": null,
            "margin": null,
            "max_height": null,
            "max_width": null,
            "min_height": null,
            "min_width": null,
            "object_fit": null,
            "object_position": null,
            "order": null,
            "overflow": null,
            "overflow_x": null,
            "overflow_y": null,
            "padding": null,
            "right": null,
            "top": null,
            "visibility": null,
            "width": null
          }
        },
<<<<<<< HEAD
<<<<<<< HEAD
        "257d11947d464d4589d07060fa1d0e0d": {
=======
        "a23f0c292af1452f9b89745e903a2229": {
>>>>>>> 043a282815e330e79882eb927d74c15f11ae2ce2
=======
        "a23f0c292af1452f9b89745e903a2229": {
>>>>>>> 8d31783db698437b09448df3e24b6b6699ee0f70
          "model_module": "@jupyter-widgets/controls",
          "model_name": "DescriptionStyleModel",
          "model_module_version": "1.5.0",
          "state": {
            "_model_module": "@jupyter-widgets/controls",
            "_model_module_version": "1.5.0",
            "_model_name": "DescriptionStyleModel",
            "_view_count": null,
            "_view_module": "@jupyter-widgets/base",
            "_view_module_version": "1.2.0",
            "_view_name": "StyleView",
            "description_width": ""
          }
        },
<<<<<<< HEAD
<<<<<<< HEAD
        "7d516ce1fea642d49e63893f6507678c": {
=======
        "014b1b4e252a40e3afcfdaadfe267245": {
>>>>>>> 043a282815e330e79882eb927d74c15f11ae2ce2
=======
        "014b1b4e252a40e3afcfdaadfe267245": {
>>>>>>> 8d31783db698437b09448df3e24b6b6699ee0f70
          "model_module": "@jupyter-widgets/base",
          "model_name": "LayoutModel",
          "model_module_version": "1.2.0",
          "state": {
            "_model_module": "@jupyter-widgets/base",
            "_model_module_version": "1.2.0",
            "_model_name": "LayoutModel",
            "_view_count": null,
            "_view_module": "@jupyter-widgets/base",
            "_view_module_version": "1.2.0",
            "_view_name": "LayoutView",
            "align_content": null,
            "align_items": null,
            "align_self": null,
            "border": null,
            "bottom": null,
            "display": null,
            "flex": null,
            "flex_flow": null,
            "grid_area": null,
            "grid_auto_columns": null,
            "grid_auto_flow": null,
            "grid_auto_rows": null,
            "grid_column": null,
            "grid_gap": null,
            "grid_row": null,
            "grid_template_areas": null,
            "grid_template_columns": null,
            "grid_template_rows": null,
            "height": null,
            "justify_content": null,
            "justify_items": null,
            "left": null,
            "margin": null,
            "max_height": null,
            "max_width": null,
            "min_height": null,
            "min_width": null,
            "object_fit": null,
            "object_position": null,
            "order": null,
            "overflow": null,
            "overflow_x": null,
            "overflow_y": null,
            "padding": null,
            "right": null,
            "top": null,
            "visibility": null,
            "width": null
          }
        },
<<<<<<< HEAD
<<<<<<< HEAD
        "cdbddc2597804d5da7a4e6d377ed738f": {
=======
        "5658038c3fb743618c6e7bd4d3abcb72": {
>>>>>>> 043a282815e330e79882eb927d74c15f11ae2ce2
=======
        "5658038c3fb743618c6e7bd4d3abcb72": {
>>>>>>> 8d31783db698437b09448df3e24b6b6699ee0f70
          "model_module": "@jupyter-widgets/controls",
          "model_name": "ProgressStyleModel",
          "model_module_version": "1.5.0",
          "state": {
            "_model_module": "@jupyter-widgets/controls",
            "_model_module_version": "1.5.0",
            "_model_name": "ProgressStyleModel",
            "_view_count": null,
            "_view_module": "@jupyter-widgets/base",
            "_view_module_version": "1.2.0",
            "_view_name": "StyleView",
            "bar_color": null,
            "description_width": ""
          }
        },
<<<<<<< HEAD
<<<<<<< HEAD
        "a9930b68cd5044399ab6f349cbddbae4": {
=======
        "39bb93a7ce534cc1ad1f815630efd3fe": {
>>>>>>> 043a282815e330e79882eb927d74c15f11ae2ce2
=======
        "39bb93a7ce534cc1ad1f815630efd3fe": {
>>>>>>> 8d31783db698437b09448df3e24b6b6699ee0f70
          "model_module": "@jupyter-widgets/base",
          "model_name": "LayoutModel",
          "model_module_version": "1.2.0",
          "state": {
            "_model_module": "@jupyter-widgets/base",
            "_model_module_version": "1.2.0",
            "_model_name": "LayoutModel",
            "_view_count": null,
            "_view_module": "@jupyter-widgets/base",
            "_view_module_version": "1.2.0",
            "_view_name": "LayoutView",
            "align_content": null,
            "align_items": null,
            "align_self": null,
            "border": null,
            "bottom": null,
            "display": null,
            "flex": null,
            "flex_flow": null,
            "grid_area": null,
            "grid_auto_columns": null,
            "grid_auto_flow": null,
            "grid_auto_rows": null,
            "grid_column": null,
            "grid_gap": null,
            "grid_row": null,
            "grid_template_areas": null,
            "grid_template_columns": null,
            "grid_template_rows": null,
            "height": null,
            "justify_content": null,
            "justify_items": null,
            "left": null,
            "margin": null,
            "max_height": null,
            "max_width": null,
            "min_height": null,
            "min_width": null,
            "object_fit": null,
            "object_position": null,
            "order": null,
            "overflow": null,
            "overflow_x": null,
            "overflow_y": null,
            "padding": null,
            "right": null,
            "top": null,
            "visibility": null,
            "width": null
          }
        },
<<<<<<< HEAD
<<<<<<< HEAD
        "71b295df426b4129b4554dc3aaa9a6f2": {
=======
        "d3d7f5dfd67d4f96958c5a2a118087bf": {
>>>>>>> 043a282815e330e79882eb927d74c15f11ae2ce2
=======
        "d3d7f5dfd67d4f96958c5a2a118087bf": {
>>>>>>> 8d31783db698437b09448df3e24b6b6699ee0f70
          "model_module": "@jupyter-widgets/controls",
          "model_name": "DescriptionStyleModel",
          "model_module_version": "1.5.0",
          "state": {
            "_model_module": "@jupyter-widgets/controls",
            "_model_module_version": "1.5.0",
            "_model_name": "DescriptionStyleModel",
            "_view_count": null,
            "_view_module": "@jupyter-widgets/base",
            "_view_module_version": "1.2.0",
            "_view_name": "StyleView",
            "description_width": ""
          }
        },
<<<<<<< HEAD
<<<<<<< HEAD
        "bffdd00b1f2a4e94b84edbf86edb196b": {
=======
        "d390eabf1e1f4a5f8c1f330268c62480": {
>>>>>>> 043a282815e330e79882eb927d74c15f11ae2ce2
=======
        "d390eabf1e1f4a5f8c1f330268c62480": {
>>>>>>> 8d31783db698437b09448df3e24b6b6699ee0f70
          "model_module": "@jupyter-widgets/controls",
          "model_name": "HBoxModel",
          "model_module_version": "1.5.0",
          "state": {
            "_dom_classes": [],
            "_model_module": "@jupyter-widgets/controls",
            "_model_module_version": "1.5.0",
            "_model_name": "HBoxModel",
            "_view_count": null,
            "_view_module": "@jupyter-widgets/controls",
            "_view_module_version": "1.5.0",
            "_view_name": "HBoxView",
            "box_style": "",
            "children": [
<<<<<<< HEAD
<<<<<<< HEAD
              "IPY_MODEL_d599c91a28d442dd9e3ee646787cb4c2",
              "IPY_MODEL_824036485eda401d9c100800a81a3532",
              "IPY_MODEL_50ccab34c5d34e3696c4a07b7e60c717"
            ],
            "layout": "IPY_MODEL_43cc56e80833463aba82c6754f2f87d9"
          }
        },
        "d599c91a28d442dd9e3ee646787cb4c2": {
=======
=======
>>>>>>> 8d31783db698437b09448df3e24b6b6699ee0f70
              "IPY_MODEL_7172f5ff3f5449fcbe9280dc26740a00",
              "IPY_MODEL_13a578c375914c74b6b60625b890e4b0",
              "IPY_MODEL_cc5f4998bab0437a88d30a358f751904"
            ],
            "layout": "IPY_MODEL_8972c35d117f48afb35e939c1f97fff1"
          }
        },
        "7172f5ff3f5449fcbe9280dc26740a00": {
<<<<<<< HEAD
>>>>>>> 043a282815e330e79882eb927d74c15f11ae2ce2
=======
>>>>>>> 8d31783db698437b09448df3e24b6b6699ee0f70
          "model_module": "@jupyter-widgets/controls",
          "model_name": "HTMLModel",
          "model_module_version": "1.5.0",
          "state": {
            "_dom_classes": [],
            "_model_module": "@jupyter-widgets/controls",
            "_model_module_version": "1.5.0",
            "_model_name": "HTMLModel",
            "_view_count": null,
            "_view_module": "@jupyter-widgets/controls",
            "_view_module_version": "1.5.0",
            "_view_name": "HTMLView",
            "description": "",
            "description_tooltip": null,
<<<<<<< HEAD
<<<<<<< HEAD
            "layout": "IPY_MODEL_73ef1d259d5148bd9f4f1a6066b0861b",
            "placeholder": "​",
            "style": "IPY_MODEL_52c770b24a6a4ae681b7223ef8fc5d57",
            "value": "100%"
          }
        },
        "824036485eda401d9c100800a81a3532": {
=======
=======
>>>>>>> 8d31783db698437b09448df3e24b6b6699ee0f70
            "layout": "IPY_MODEL_ca03710a6fe54997813d1e884bbdb2fd",
            "placeholder": "​",
            "style": "IPY_MODEL_3d2497667a9b4f8182b4f5ba8c0281f1",
            "value": "100%"
          }
        },
        "13a578c375914c74b6b60625b890e4b0": {
<<<<<<< HEAD
>>>>>>> 043a282815e330e79882eb927d74c15f11ae2ce2
=======
>>>>>>> 8d31783db698437b09448df3e24b6b6699ee0f70
          "model_module": "@jupyter-widgets/controls",
          "model_name": "FloatProgressModel",
          "model_module_version": "1.5.0",
          "state": {
            "_dom_classes": [],
            "_model_module": "@jupyter-widgets/controls",
            "_model_module_version": "1.5.0",
            "_model_name": "FloatProgressModel",
            "_view_count": null,
            "_view_module": "@jupyter-widgets/controls",
            "_view_module_version": "1.5.0",
            "_view_name": "ProgressView",
            "bar_style": "success",
            "description": "",
            "description_tooltip": null,
<<<<<<< HEAD
<<<<<<< HEAD
            "layout": "IPY_MODEL_207a8375e05f446dbf68532ad67e9795",
            "max": 130,
            "min": 0,
            "orientation": "horizontal",
            "style": "IPY_MODEL_08325ea6e0c34807aaf5f991644bffea",
            "value": 130
          }
        },
        "50ccab34c5d34e3696c4a07b7e60c717": {
=======
=======
>>>>>>> 8d31783db698437b09448df3e24b6b6699ee0f70
            "layout": "IPY_MODEL_6e4c4988d8744610894d77b99389ec93",
            "max": 130,
            "min": 0,
            "orientation": "horizontal",
            "style": "IPY_MODEL_643bde86775c48f4955a031ac35bf183",
            "value": 130
          }
        },
        "cc5f4998bab0437a88d30a358f751904": {
<<<<<<< HEAD
>>>>>>> 043a282815e330e79882eb927d74c15f11ae2ce2
=======
>>>>>>> 8d31783db698437b09448df3e24b6b6699ee0f70
          "model_module": "@jupyter-widgets/controls",
          "model_name": "HTMLModel",
          "model_module_version": "1.5.0",
          "state": {
            "_dom_classes": [],
            "_model_module": "@jupyter-widgets/controls",
            "_model_module_version": "1.5.0",
            "_model_name": "HTMLModel",
            "_view_count": null,
            "_view_module": "@jupyter-widgets/controls",
            "_view_module_version": "1.5.0",
            "_view_name": "HTMLView",
            "description": "",
            "description_tooltip": null,
<<<<<<< HEAD
<<<<<<< HEAD
            "layout": "IPY_MODEL_ca803dfed8db42c99622fad4d5944f0d",
            "placeholder": "​",
            "style": "IPY_MODEL_3d3b211d83c04a7ca1852e1246aedd73",
            "value": " 130/130 [00:00&lt;00:00, 280.78it/s]"
          }
        },
        "43cc56e80833463aba82c6754f2f87d9": {
=======
=======
>>>>>>> 8d31783db698437b09448df3e24b6b6699ee0f70
            "layout": "IPY_MODEL_28dd78a6a828484b8cbb593e54ecad54",
            "placeholder": "​",
            "style": "IPY_MODEL_060aa13eeceb476396b5da393180a29a",
            "value": " 130/130 [00:00&lt;00:00, 293.09it/s]"
          }
        },
        "8972c35d117f48afb35e939c1f97fff1": {
<<<<<<< HEAD
>>>>>>> 043a282815e330e79882eb927d74c15f11ae2ce2
=======
>>>>>>> 8d31783db698437b09448df3e24b6b6699ee0f70
          "model_module": "@jupyter-widgets/base",
          "model_name": "LayoutModel",
          "model_module_version": "1.2.0",
          "state": {
            "_model_module": "@jupyter-widgets/base",
            "_model_module_version": "1.2.0",
            "_model_name": "LayoutModel",
            "_view_count": null,
            "_view_module": "@jupyter-widgets/base",
            "_view_module_version": "1.2.0",
            "_view_name": "LayoutView",
            "align_content": null,
            "align_items": null,
            "align_self": null,
            "border": null,
            "bottom": null,
            "display": null,
            "flex": null,
            "flex_flow": null,
            "grid_area": null,
            "grid_auto_columns": null,
            "grid_auto_flow": null,
            "grid_auto_rows": null,
            "grid_column": null,
            "grid_gap": null,
            "grid_row": null,
            "grid_template_areas": null,
            "grid_template_columns": null,
            "grid_template_rows": null,
            "height": null,
            "justify_content": null,
            "justify_items": null,
            "left": null,
            "margin": null,
            "max_height": null,
            "max_width": null,
            "min_height": null,
            "min_width": null,
            "object_fit": null,
            "object_position": null,
            "order": null,
            "overflow": null,
            "overflow_x": null,
            "overflow_y": null,
            "padding": null,
            "right": null,
            "top": null,
            "visibility": null,
            "width": null
          }
        },
<<<<<<< HEAD
<<<<<<< HEAD
        "73ef1d259d5148bd9f4f1a6066b0861b": {
=======
        "ca03710a6fe54997813d1e884bbdb2fd": {
>>>>>>> 043a282815e330e79882eb927d74c15f11ae2ce2
=======
        "ca03710a6fe54997813d1e884bbdb2fd": {
>>>>>>> 8d31783db698437b09448df3e24b6b6699ee0f70
          "model_module": "@jupyter-widgets/base",
          "model_name": "LayoutModel",
          "model_module_version": "1.2.0",
          "state": {
            "_model_module": "@jupyter-widgets/base",
            "_model_module_version": "1.2.0",
            "_model_name": "LayoutModel",
            "_view_count": null,
            "_view_module": "@jupyter-widgets/base",
            "_view_module_version": "1.2.0",
            "_view_name": "LayoutView",
            "align_content": null,
            "align_items": null,
            "align_self": null,
            "border": null,
            "bottom": null,
            "display": null,
            "flex": null,
            "flex_flow": null,
            "grid_area": null,
            "grid_auto_columns": null,
            "grid_auto_flow": null,
            "grid_auto_rows": null,
            "grid_column": null,
            "grid_gap": null,
            "grid_row": null,
            "grid_template_areas": null,
            "grid_template_columns": null,
            "grid_template_rows": null,
            "height": null,
            "justify_content": null,
            "justify_items": null,
            "left": null,
            "margin": null,
            "max_height": null,
            "max_width": null,
            "min_height": null,
            "min_width": null,
            "object_fit": null,
            "object_position": null,
            "order": null,
            "overflow": null,
            "overflow_x": null,
            "overflow_y": null,
            "padding": null,
            "right": null,
            "top": null,
            "visibility": null,
            "width": null
          }
        },
<<<<<<< HEAD
<<<<<<< HEAD
        "52c770b24a6a4ae681b7223ef8fc5d57": {
=======
        "3d2497667a9b4f8182b4f5ba8c0281f1": {
>>>>>>> 043a282815e330e79882eb927d74c15f11ae2ce2
=======
        "3d2497667a9b4f8182b4f5ba8c0281f1": {
>>>>>>> 8d31783db698437b09448df3e24b6b6699ee0f70
          "model_module": "@jupyter-widgets/controls",
          "model_name": "DescriptionStyleModel",
          "model_module_version": "1.5.0",
          "state": {
            "_model_module": "@jupyter-widgets/controls",
            "_model_module_version": "1.5.0",
            "_model_name": "DescriptionStyleModel",
            "_view_count": null,
            "_view_module": "@jupyter-widgets/base",
            "_view_module_version": "1.2.0",
            "_view_name": "StyleView",
            "description_width": ""
          }
        },
<<<<<<< HEAD
<<<<<<< HEAD
        "207a8375e05f446dbf68532ad67e9795": {
=======
        "6e4c4988d8744610894d77b99389ec93": {
>>>>>>> 043a282815e330e79882eb927d74c15f11ae2ce2
=======
        "6e4c4988d8744610894d77b99389ec93": {
>>>>>>> 8d31783db698437b09448df3e24b6b6699ee0f70
          "model_module": "@jupyter-widgets/base",
          "model_name": "LayoutModel",
          "model_module_version": "1.2.0",
          "state": {
            "_model_module": "@jupyter-widgets/base",
            "_model_module_version": "1.2.0",
            "_model_name": "LayoutModel",
            "_view_count": null,
            "_view_module": "@jupyter-widgets/base",
            "_view_module_version": "1.2.0",
            "_view_name": "LayoutView",
            "align_content": null,
            "align_items": null,
            "align_self": null,
            "border": null,
            "bottom": null,
            "display": null,
            "flex": null,
            "flex_flow": null,
            "grid_area": null,
            "grid_auto_columns": null,
            "grid_auto_flow": null,
            "grid_auto_rows": null,
            "grid_column": null,
            "grid_gap": null,
            "grid_row": null,
            "grid_template_areas": null,
            "grid_template_columns": null,
            "grid_template_rows": null,
            "height": null,
            "justify_content": null,
            "justify_items": null,
            "left": null,
            "margin": null,
            "max_height": null,
            "max_width": null,
            "min_height": null,
            "min_width": null,
            "object_fit": null,
            "object_position": null,
            "order": null,
            "overflow": null,
            "overflow_x": null,
            "overflow_y": null,
            "padding": null,
            "right": null,
            "top": null,
            "visibility": null,
            "width": null
          }
        },
<<<<<<< HEAD
<<<<<<< HEAD
        "08325ea6e0c34807aaf5f991644bffea": {
=======
        "643bde86775c48f4955a031ac35bf183": {
>>>>>>> 043a282815e330e79882eb927d74c15f11ae2ce2
=======
        "643bde86775c48f4955a031ac35bf183": {
>>>>>>> 8d31783db698437b09448df3e24b6b6699ee0f70
          "model_module": "@jupyter-widgets/controls",
          "model_name": "ProgressStyleModel",
          "model_module_version": "1.5.0",
          "state": {
            "_model_module": "@jupyter-widgets/controls",
            "_model_module_version": "1.5.0",
            "_model_name": "ProgressStyleModel",
            "_view_count": null,
            "_view_module": "@jupyter-widgets/base",
            "_view_module_version": "1.2.0",
            "_view_name": "StyleView",
            "bar_color": null,
            "description_width": ""
          }
        },
<<<<<<< HEAD
<<<<<<< HEAD
        "ca803dfed8db42c99622fad4d5944f0d": {
=======
        "28dd78a6a828484b8cbb593e54ecad54": {
>>>>>>> 043a282815e330e79882eb927d74c15f11ae2ce2
=======
        "28dd78a6a828484b8cbb593e54ecad54": {
>>>>>>> 8d31783db698437b09448df3e24b6b6699ee0f70
          "model_module": "@jupyter-widgets/base",
          "model_name": "LayoutModel",
          "model_module_version": "1.2.0",
          "state": {
            "_model_module": "@jupyter-widgets/base",
            "_model_module_version": "1.2.0",
            "_model_name": "LayoutModel",
            "_view_count": null,
            "_view_module": "@jupyter-widgets/base",
            "_view_module_version": "1.2.0",
            "_view_name": "LayoutView",
            "align_content": null,
            "align_items": null,
            "align_self": null,
            "border": null,
            "bottom": null,
            "display": null,
            "flex": null,
            "flex_flow": null,
            "grid_area": null,
            "grid_auto_columns": null,
            "grid_auto_flow": null,
            "grid_auto_rows": null,
            "grid_column": null,
            "grid_gap": null,
            "grid_row": null,
            "grid_template_areas": null,
            "grid_template_columns": null,
            "grid_template_rows": null,
            "height": null,
            "justify_content": null,
            "justify_items": null,
            "left": null,
            "margin": null,
            "max_height": null,
            "max_width": null,
            "min_height": null,
            "min_width": null,
            "object_fit": null,
            "object_position": null,
            "order": null,
            "overflow": null,
            "overflow_x": null,
            "overflow_y": null,
            "padding": null,
            "right": null,
            "top": null,
            "visibility": null,
            "width": null
          }
        },
<<<<<<< HEAD
<<<<<<< HEAD
        "3d3b211d83c04a7ca1852e1246aedd73": {
=======
        "060aa13eeceb476396b5da393180a29a": {
>>>>>>> 043a282815e330e79882eb927d74c15f11ae2ce2
=======
        "060aa13eeceb476396b5da393180a29a": {
>>>>>>> 8d31783db698437b09448df3e24b6b6699ee0f70
          "model_module": "@jupyter-widgets/controls",
          "model_name": "DescriptionStyleModel",
          "model_module_version": "1.5.0",
          "state": {
            "_model_module": "@jupyter-widgets/controls",
            "_model_module_version": "1.5.0",
            "_model_name": "DescriptionStyleModel",
            "_view_count": null,
            "_view_module": "@jupyter-widgets/base",
            "_view_module_version": "1.2.0",
            "_view_name": "StyleView",
            "description_width": ""
          }
        },
<<<<<<< HEAD
<<<<<<< HEAD
        "38982b7594c64b468c5eb8f8dd12c5b1": {
=======
        "fec1102a8e624964aa71c3b67025a9e6": {
>>>>>>> 043a282815e330e79882eb927d74c15f11ae2ce2
=======
        "fec1102a8e624964aa71c3b67025a9e6": {
>>>>>>> 8d31783db698437b09448df3e24b6b6699ee0f70
          "model_module": "@jupyter-widgets/controls",
          "model_name": "HBoxModel",
          "model_module_version": "1.5.0",
          "state": {
            "_dom_classes": [],
            "_model_module": "@jupyter-widgets/controls",
            "_model_module_version": "1.5.0",
            "_model_name": "HBoxModel",
            "_view_count": null,
            "_view_module": "@jupyter-widgets/controls",
            "_view_module_version": "1.5.0",
            "_view_name": "HBoxView",
            "box_style": "",
            "children": [
<<<<<<< HEAD
<<<<<<< HEAD
              "IPY_MODEL_c0ddf839d8eb42e9b478fa057211de62",
              "IPY_MODEL_73d14b2d2cb74c44900d9a5f96563248",
              "IPY_MODEL_8d720223d48744f5b4ecf6999b793732"
            ],
            "layout": "IPY_MODEL_3ded2d568cd04000be153c0427ce2774"
          }
        },
        "c0ddf839d8eb42e9b478fa057211de62": {
=======
=======
>>>>>>> 8d31783db698437b09448df3e24b6b6699ee0f70
              "IPY_MODEL_944187839fbd44be8c1fe13e01e35cf0",
              "IPY_MODEL_75cb10a544714f1fadb79b4ca53bcd75",
              "IPY_MODEL_6a4040d0338f4b16b44b1a0f7aa9502b"
            ],
            "layout": "IPY_MODEL_9aec8d3bb0264edcbb973cbfdcdd7c45"
          }
        },
        "944187839fbd44be8c1fe13e01e35cf0": {
<<<<<<< HEAD
>>>>>>> 043a282815e330e79882eb927d74c15f11ae2ce2
=======
>>>>>>> 8d31783db698437b09448df3e24b6b6699ee0f70
          "model_module": "@jupyter-widgets/controls",
          "model_name": "HTMLModel",
          "model_module_version": "1.5.0",
          "state": {
            "_dom_classes": [],
            "_model_module": "@jupyter-widgets/controls",
            "_model_module_version": "1.5.0",
            "_model_name": "HTMLModel",
            "_view_count": null,
            "_view_module": "@jupyter-widgets/controls",
            "_view_module_version": "1.5.0",
            "_view_name": "HTMLView",
            "description": "",
            "description_tooltip": null,
<<<<<<< HEAD
<<<<<<< HEAD
            "layout": "IPY_MODEL_5880c8d4fdf5433e95b5a1c55f787f0a",
            "placeholder": "​",
            "style": "IPY_MODEL_a63be53fe5aa4f24ad61ea07b09b4b17",
            "value": "100%"
          }
        },
        "73d14b2d2cb74c44900d9a5f96563248": {
=======
=======
>>>>>>> 8d31783db698437b09448df3e24b6b6699ee0f70
            "layout": "IPY_MODEL_e64c896683b64cb59a0233512248c51d",
            "placeholder": "​",
            "style": "IPY_MODEL_a78b569bb8ec457ba94268b9314c65bd",
            "value": "100%"
          }
        },
        "75cb10a544714f1fadb79b4ca53bcd75": {
<<<<<<< HEAD
>>>>>>> 043a282815e330e79882eb927d74c15f11ae2ce2
=======
>>>>>>> 8d31783db698437b09448df3e24b6b6699ee0f70
          "model_module": "@jupyter-widgets/controls",
          "model_name": "FloatProgressModel",
          "model_module_version": "1.5.0",
          "state": {
            "_dom_classes": [],
            "_model_module": "@jupyter-widgets/controls",
            "_model_module_version": "1.5.0",
            "_model_name": "FloatProgressModel",
            "_view_count": null,
            "_view_module": "@jupyter-widgets/controls",
            "_view_module_version": "1.5.0",
            "_view_name": "ProgressView",
            "bar_style": "success",
            "description": "",
            "description_tooltip": null,
<<<<<<< HEAD
<<<<<<< HEAD
            "layout": "IPY_MODEL_58bd01c1e6d0415ab75fc1bd53c0c2f1",
            "max": 131,
            "min": 0,
            "orientation": "horizontal",
            "style": "IPY_MODEL_b2b0d650013a4261a3e1500ee480702c",
            "value": 131
          }
        },
        "8d720223d48744f5b4ecf6999b793732": {
=======
=======
>>>>>>> 8d31783db698437b09448df3e24b6b6699ee0f70
            "layout": "IPY_MODEL_8fc50638520043d4afcf5e8abd70a412",
            "max": 131,
            "min": 0,
            "orientation": "horizontal",
            "style": "IPY_MODEL_55dc2e6e81db438babcd608c4ea6acba",
            "value": 131
          }
        },
        "6a4040d0338f4b16b44b1a0f7aa9502b": {
<<<<<<< HEAD
>>>>>>> 043a282815e330e79882eb927d74c15f11ae2ce2
=======
>>>>>>> 8d31783db698437b09448df3e24b6b6699ee0f70
          "model_module": "@jupyter-widgets/controls",
          "model_name": "HTMLModel",
          "model_module_version": "1.5.0",
          "state": {
            "_dom_classes": [],
            "_model_module": "@jupyter-widgets/controls",
            "_model_module_version": "1.5.0",
            "_model_name": "HTMLModel",
            "_view_count": null,
            "_view_module": "@jupyter-widgets/controls",
            "_view_module_version": "1.5.0",
            "_view_name": "HTMLView",
            "description": "",
            "description_tooltip": null,
<<<<<<< HEAD
<<<<<<< HEAD
            "layout": "IPY_MODEL_9068d0cd77094fc8b6cc07ddd523a66c",
            "placeholder": "​",
            "style": "IPY_MODEL_383b43007cea4b01ba6e12414fee75be",
            "value": " 131/131 [00:00&lt;00:00, 274.71it/s]"
          }
        },
        "3ded2d568cd04000be153c0427ce2774": {
=======
=======
>>>>>>> 8d31783db698437b09448df3e24b6b6699ee0f70
            "layout": "IPY_MODEL_edf0d5fd4497436cbb056bb7943222de",
            "placeholder": "​",
            "style": "IPY_MODEL_55a06966b88c4d1ab7140facf14aed34",
            "value": " 131/131 [00:00&lt;00:00, 292.65it/s]"
          }
        },
        "9aec8d3bb0264edcbb973cbfdcdd7c45": {
<<<<<<< HEAD
>>>>>>> 043a282815e330e79882eb927d74c15f11ae2ce2
=======
>>>>>>> 8d31783db698437b09448df3e24b6b6699ee0f70
          "model_module": "@jupyter-widgets/base",
          "model_name": "LayoutModel",
          "model_module_version": "1.2.0",
          "state": {
            "_model_module": "@jupyter-widgets/base",
            "_model_module_version": "1.2.0",
            "_model_name": "LayoutModel",
            "_view_count": null,
            "_view_module": "@jupyter-widgets/base",
            "_view_module_version": "1.2.0",
            "_view_name": "LayoutView",
            "align_content": null,
            "align_items": null,
            "align_self": null,
            "border": null,
            "bottom": null,
            "display": null,
            "flex": null,
            "flex_flow": null,
            "grid_area": null,
            "grid_auto_columns": null,
            "grid_auto_flow": null,
            "grid_auto_rows": null,
            "grid_column": null,
            "grid_gap": null,
            "grid_row": null,
            "grid_template_areas": null,
            "grid_template_columns": null,
            "grid_template_rows": null,
            "height": null,
            "justify_content": null,
            "justify_items": null,
            "left": null,
            "margin": null,
            "max_height": null,
            "max_width": null,
            "min_height": null,
            "min_width": null,
            "object_fit": null,
            "object_position": null,
            "order": null,
            "overflow": null,
            "overflow_x": null,
            "overflow_y": null,
            "padding": null,
            "right": null,
            "top": null,
            "visibility": null,
            "width": null
          }
        },
<<<<<<< HEAD
<<<<<<< HEAD
        "5880c8d4fdf5433e95b5a1c55f787f0a": {
=======
        "e64c896683b64cb59a0233512248c51d": {
>>>>>>> 043a282815e330e79882eb927d74c15f11ae2ce2
=======
        "e64c896683b64cb59a0233512248c51d": {
>>>>>>> 8d31783db698437b09448df3e24b6b6699ee0f70
          "model_module": "@jupyter-widgets/base",
          "model_name": "LayoutModel",
          "model_module_version": "1.2.0",
          "state": {
            "_model_module": "@jupyter-widgets/base",
            "_model_module_version": "1.2.0",
            "_model_name": "LayoutModel",
            "_view_count": null,
            "_view_module": "@jupyter-widgets/base",
            "_view_module_version": "1.2.0",
            "_view_name": "LayoutView",
            "align_content": null,
            "align_items": null,
            "align_self": null,
            "border": null,
            "bottom": null,
            "display": null,
            "flex": null,
            "flex_flow": null,
            "grid_area": null,
            "grid_auto_columns": null,
            "grid_auto_flow": null,
            "grid_auto_rows": null,
            "grid_column": null,
            "grid_gap": null,
            "grid_row": null,
            "grid_template_areas": null,
            "grid_template_columns": null,
            "grid_template_rows": null,
            "height": null,
            "justify_content": null,
            "justify_items": null,
            "left": null,
            "margin": null,
            "max_height": null,
            "max_width": null,
            "min_height": null,
            "min_width": null,
            "object_fit": null,
            "object_position": null,
            "order": null,
            "overflow": null,
            "overflow_x": null,
            "overflow_y": null,
            "padding": null,
            "right": null,
            "top": null,
            "visibility": null,
            "width": null
          }
        },
<<<<<<< HEAD
<<<<<<< HEAD
        "a63be53fe5aa4f24ad61ea07b09b4b17": {
=======
        "a78b569bb8ec457ba94268b9314c65bd": {
>>>>>>> 043a282815e330e79882eb927d74c15f11ae2ce2
=======
        "a78b569bb8ec457ba94268b9314c65bd": {
>>>>>>> 8d31783db698437b09448df3e24b6b6699ee0f70
          "model_module": "@jupyter-widgets/controls",
          "model_name": "DescriptionStyleModel",
          "model_module_version": "1.5.0",
          "state": {
            "_model_module": "@jupyter-widgets/controls",
            "_model_module_version": "1.5.0",
            "_model_name": "DescriptionStyleModel",
            "_view_count": null,
            "_view_module": "@jupyter-widgets/base",
            "_view_module_version": "1.2.0",
            "_view_name": "StyleView",
            "description_width": ""
          }
        },
<<<<<<< HEAD
<<<<<<< HEAD
        "58bd01c1e6d0415ab75fc1bd53c0c2f1": {
=======
        "8fc50638520043d4afcf5e8abd70a412": {
>>>>>>> 043a282815e330e79882eb927d74c15f11ae2ce2
=======
        "8fc50638520043d4afcf5e8abd70a412": {
>>>>>>> 8d31783db698437b09448df3e24b6b6699ee0f70
          "model_module": "@jupyter-widgets/base",
          "model_name": "LayoutModel",
          "model_module_version": "1.2.0",
          "state": {
            "_model_module": "@jupyter-widgets/base",
            "_model_module_version": "1.2.0",
            "_model_name": "LayoutModel",
            "_view_count": null,
            "_view_module": "@jupyter-widgets/base",
            "_view_module_version": "1.2.0",
            "_view_name": "LayoutView",
            "align_content": null,
            "align_items": null,
            "align_self": null,
            "border": null,
            "bottom": null,
            "display": null,
            "flex": null,
            "flex_flow": null,
            "grid_area": null,
            "grid_auto_columns": null,
            "grid_auto_flow": null,
            "grid_auto_rows": null,
            "grid_column": null,
            "grid_gap": null,
            "grid_row": null,
            "grid_template_areas": null,
            "grid_template_columns": null,
            "grid_template_rows": null,
            "height": null,
            "justify_content": null,
            "justify_items": null,
            "left": null,
            "margin": null,
            "max_height": null,
            "max_width": null,
            "min_height": null,
            "min_width": null,
            "object_fit": null,
            "object_position": null,
            "order": null,
            "overflow": null,
            "overflow_x": null,
            "overflow_y": null,
            "padding": null,
            "right": null,
            "top": null,
            "visibility": null,
            "width": null
          }
        },
<<<<<<< HEAD
<<<<<<< HEAD
        "b2b0d650013a4261a3e1500ee480702c": {
=======
        "55dc2e6e81db438babcd608c4ea6acba": {
>>>>>>> 043a282815e330e79882eb927d74c15f11ae2ce2
=======
        "55dc2e6e81db438babcd608c4ea6acba": {
>>>>>>> 8d31783db698437b09448df3e24b6b6699ee0f70
          "model_module": "@jupyter-widgets/controls",
          "model_name": "ProgressStyleModel",
          "model_module_version": "1.5.0",
          "state": {
            "_model_module": "@jupyter-widgets/controls",
            "_model_module_version": "1.5.0",
            "_model_name": "ProgressStyleModel",
            "_view_count": null,
            "_view_module": "@jupyter-widgets/base",
            "_view_module_version": "1.2.0",
            "_view_name": "StyleView",
            "bar_color": null,
            "description_width": ""
          }
        },
<<<<<<< HEAD
<<<<<<< HEAD
        "9068d0cd77094fc8b6cc07ddd523a66c": {
=======
        "edf0d5fd4497436cbb056bb7943222de": {
>>>>>>> 043a282815e330e79882eb927d74c15f11ae2ce2
=======
        "edf0d5fd4497436cbb056bb7943222de": {
>>>>>>> 8d31783db698437b09448df3e24b6b6699ee0f70
          "model_module": "@jupyter-widgets/base",
          "model_name": "LayoutModel",
          "model_module_version": "1.2.0",
          "state": {
            "_model_module": "@jupyter-widgets/base",
            "_model_module_version": "1.2.0",
            "_model_name": "LayoutModel",
            "_view_count": null,
            "_view_module": "@jupyter-widgets/base",
            "_view_module_version": "1.2.0",
            "_view_name": "LayoutView",
            "align_content": null,
            "align_items": null,
            "align_self": null,
            "border": null,
            "bottom": null,
            "display": null,
            "flex": null,
            "flex_flow": null,
            "grid_area": null,
            "grid_auto_columns": null,
            "grid_auto_flow": null,
            "grid_auto_rows": null,
            "grid_column": null,
            "grid_gap": null,
            "grid_row": null,
            "grid_template_areas": null,
            "grid_template_columns": null,
            "grid_template_rows": null,
            "height": null,
            "justify_content": null,
            "justify_items": null,
            "left": null,
            "margin": null,
            "max_height": null,
            "max_width": null,
            "min_height": null,
            "min_width": null,
            "object_fit": null,
            "object_position": null,
            "order": null,
            "overflow": null,
            "overflow_x": null,
            "overflow_y": null,
            "padding": null,
            "right": null,
            "top": null,
            "visibility": null,
            "width": null
          }
        },
<<<<<<< HEAD
<<<<<<< HEAD
        "383b43007cea4b01ba6e12414fee75be": {
=======
        "55a06966b88c4d1ab7140facf14aed34": {
>>>>>>> 043a282815e330e79882eb927d74c15f11ae2ce2
=======
        "55a06966b88c4d1ab7140facf14aed34": {
>>>>>>> 8d31783db698437b09448df3e24b6b6699ee0f70
          "model_module": "@jupyter-widgets/controls",
          "model_name": "DescriptionStyleModel",
          "model_module_version": "1.5.0",
          "state": {
            "_model_module": "@jupyter-widgets/controls",
            "_model_module_version": "1.5.0",
            "_model_name": "DescriptionStyleModel",
            "_view_count": null,
            "_view_module": "@jupyter-widgets/base",
            "_view_module_version": "1.2.0",
            "_view_name": "StyleView",
            "description_width": ""
          }
        },
<<<<<<< HEAD
<<<<<<< HEAD
        "b0e12c8526434e7ab5f030d78a48dee3": {
=======
        "280f3b25377f44e6bac45cc2e604308d": {
>>>>>>> 043a282815e330e79882eb927d74c15f11ae2ce2
=======
        "280f3b25377f44e6bac45cc2e604308d": {
>>>>>>> 8d31783db698437b09448df3e24b6b6699ee0f70
          "model_module": "@jupyter-widgets/controls",
          "model_name": "HBoxModel",
          "model_module_version": "1.5.0",
          "state": {
            "_dom_classes": [],
            "_model_module": "@jupyter-widgets/controls",
            "_model_module_version": "1.5.0",
            "_model_name": "HBoxModel",
            "_view_count": null,
            "_view_module": "@jupyter-widgets/controls",
            "_view_module_version": "1.5.0",
            "_view_name": "HBoxView",
            "box_style": "",
            "children": [
<<<<<<< HEAD
<<<<<<< HEAD
              "IPY_MODEL_b71bfab982c0438d81380518a8a2ed52",
              "IPY_MODEL_80b74532fe9f4ed1b8e0043b9ddf323f",
              "IPY_MODEL_bf03aad15cfd47a39a712285593dc572"
            ],
            "layout": "IPY_MODEL_6571b57c0ed349e4b3e0ed5e90d057b9"
          }
        },
        "b71bfab982c0438d81380518a8a2ed52": {
=======
=======
>>>>>>> 8d31783db698437b09448df3e24b6b6699ee0f70
              "IPY_MODEL_03621ce9fcf645cd913f28f9c49a8c60",
              "IPY_MODEL_9cf4e05aedb24d47b5baaf46aba6f31a",
              "IPY_MODEL_e45984e258ac40148444cf4c5a994d5d"
            ],
            "layout": "IPY_MODEL_20ff9354a3614946beed53fdf31479b3"
          }
        },
        "03621ce9fcf645cd913f28f9c49a8c60": {
<<<<<<< HEAD
>>>>>>> 043a282815e330e79882eb927d74c15f11ae2ce2
=======
>>>>>>> 8d31783db698437b09448df3e24b6b6699ee0f70
          "model_module": "@jupyter-widgets/controls",
          "model_name": "HTMLModel",
          "model_module_version": "1.5.0",
          "state": {
            "_dom_classes": [],
            "_model_module": "@jupyter-widgets/controls",
            "_model_module_version": "1.5.0",
            "_model_name": "HTMLModel",
            "_view_count": null,
            "_view_module": "@jupyter-widgets/controls",
            "_view_module_version": "1.5.0",
            "_view_name": "HTMLView",
            "description": "",
            "description_tooltip": null,
<<<<<<< HEAD
<<<<<<< HEAD
            "layout": "IPY_MODEL_53436ae3bc244f01bcbd6eafe65deb7f",
            "placeholder": "​",
            "style": "IPY_MODEL_ccfadf16c48144f0bad8b3ee88ee2720",
            "value": "100%"
          }
        },
        "80b74532fe9f4ed1b8e0043b9ddf323f": {
=======
=======
>>>>>>> 8d31783db698437b09448df3e24b6b6699ee0f70
            "layout": "IPY_MODEL_a43cab18912549e1a6f3440cb7c36dfb",
            "placeholder": "​",
            "style": "IPY_MODEL_9d39723a4ab745468a3fde5951cd1c8a",
            "value": "100%"
          }
        },
        "9cf4e05aedb24d47b5baaf46aba6f31a": {
<<<<<<< HEAD
>>>>>>> 043a282815e330e79882eb927d74c15f11ae2ce2
=======
>>>>>>> 8d31783db698437b09448df3e24b6b6699ee0f70
          "model_module": "@jupyter-widgets/controls",
          "model_name": "FloatProgressModel",
          "model_module_version": "1.5.0",
          "state": {
            "_dom_classes": [],
            "_model_module": "@jupyter-widgets/controls",
            "_model_module_version": "1.5.0",
            "_model_name": "FloatProgressModel",
            "_view_count": null,
            "_view_module": "@jupyter-widgets/controls",
            "_view_module_version": "1.5.0",
            "_view_name": "ProgressView",
            "bar_style": "success",
            "description": "",
            "description_tooltip": null,
<<<<<<< HEAD
<<<<<<< HEAD
            "layout": "IPY_MODEL_2b64fb3a5f544fddab271a0344b93154",
            "max": 131,
            "min": 0,
            "orientation": "horizontal",
            "style": "IPY_MODEL_ee58c09138284b71bb9bfea781354094",
            "value": 131
          }
        },
        "bf03aad15cfd47a39a712285593dc572": {
=======
=======
>>>>>>> 8d31783db698437b09448df3e24b6b6699ee0f70
            "layout": "IPY_MODEL_42324dada6f7402a886500f1b98aff14",
            "max": 131,
            "min": 0,
            "orientation": "horizontal",
            "style": "IPY_MODEL_e1e17e9b1b2640f5baf1f16ef0ede2cf",
            "value": 131
          }
        },
        "e45984e258ac40148444cf4c5a994d5d": {
<<<<<<< HEAD
>>>>>>> 043a282815e330e79882eb927d74c15f11ae2ce2
=======
>>>>>>> 8d31783db698437b09448df3e24b6b6699ee0f70
          "model_module": "@jupyter-widgets/controls",
          "model_name": "HTMLModel",
          "model_module_version": "1.5.0",
          "state": {
            "_dom_classes": [],
            "_model_module": "@jupyter-widgets/controls",
            "_model_module_version": "1.5.0",
            "_model_name": "HTMLModel",
            "_view_count": null,
            "_view_module": "@jupyter-widgets/controls",
            "_view_module_version": "1.5.0",
            "_view_name": "HTMLView",
            "description": "",
            "description_tooltip": null,
<<<<<<< HEAD
<<<<<<< HEAD
            "layout": "IPY_MODEL_738132383375405699784c2c8f513c6e",
            "placeholder": "​",
            "style": "IPY_MODEL_d283b7aae33844eba7549439df272198",
            "value": " 131/131 [00:00&lt;00:00, 271.40it/s]"
          }
        },
        "6571b57c0ed349e4b3e0ed5e90d057b9": {
=======
=======
>>>>>>> 8d31783db698437b09448df3e24b6b6699ee0f70
            "layout": "IPY_MODEL_69536f613ec84864b70e68b9df1a5956",
            "placeholder": "​",
            "style": "IPY_MODEL_867d984a08c74a4dba4cdc70cf556be9",
            "value": " 131/131 [00:00&lt;00:00, 276.56it/s]"
          }
        },
        "20ff9354a3614946beed53fdf31479b3": {
<<<<<<< HEAD
>>>>>>> 043a282815e330e79882eb927d74c15f11ae2ce2
=======
>>>>>>> 8d31783db698437b09448df3e24b6b6699ee0f70
          "model_module": "@jupyter-widgets/base",
          "model_name": "LayoutModel",
          "model_module_version": "1.2.0",
          "state": {
            "_model_module": "@jupyter-widgets/base",
            "_model_module_version": "1.2.0",
            "_model_name": "LayoutModel",
            "_view_count": null,
            "_view_module": "@jupyter-widgets/base",
            "_view_module_version": "1.2.0",
            "_view_name": "LayoutView",
            "align_content": null,
            "align_items": null,
            "align_self": null,
            "border": null,
            "bottom": null,
            "display": null,
            "flex": null,
            "flex_flow": null,
            "grid_area": null,
            "grid_auto_columns": null,
            "grid_auto_flow": null,
            "grid_auto_rows": null,
            "grid_column": null,
            "grid_gap": null,
            "grid_row": null,
            "grid_template_areas": null,
            "grid_template_columns": null,
            "grid_template_rows": null,
            "height": null,
            "justify_content": null,
            "justify_items": null,
            "left": null,
            "margin": null,
            "max_height": null,
            "max_width": null,
            "min_height": null,
            "min_width": null,
            "object_fit": null,
            "object_position": null,
            "order": null,
            "overflow": null,
            "overflow_x": null,
            "overflow_y": null,
            "padding": null,
            "right": null,
            "top": null,
            "visibility": null,
            "width": null
          }
        },
<<<<<<< HEAD
<<<<<<< HEAD
        "53436ae3bc244f01bcbd6eafe65deb7f": {
=======
        "a43cab18912549e1a6f3440cb7c36dfb": {
>>>>>>> 043a282815e330e79882eb927d74c15f11ae2ce2
=======
        "a43cab18912549e1a6f3440cb7c36dfb": {
>>>>>>> 8d31783db698437b09448df3e24b6b6699ee0f70
          "model_module": "@jupyter-widgets/base",
          "model_name": "LayoutModel",
          "model_module_version": "1.2.0",
          "state": {
            "_model_module": "@jupyter-widgets/base",
            "_model_module_version": "1.2.0",
            "_model_name": "LayoutModel",
            "_view_count": null,
            "_view_module": "@jupyter-widgets/base",
            "_view_module_version": "1.2.0",
            "_view_name": "LayoutView",
            "align_content": null,
            "align_items": null,
            "align_self": null,
            "border": null,
            "bottom": null,
            "display": null,
            "flex": null,
            "flex_flow": null,
            "grid_area": null,
            "grid_auto_columns": null,
            "grid_auto_flow": null,
            "grid_auto_rows": null,
            "grid_column": null,
            "grid_gap": null,
            "grid_row": null,
            "grid_template_areas": null,
            "grid_template_columns": null,
            "grid_template_rows": null,
            "height": null,
            "justify_content": null,
            "justify_items": null,
            "left": null,
            "margin": null,
            "max_height": null,
            "max_width": null,
            "min_height": null,
            "min_width": null,
            "object_fit": null,
            "object_position": null,
            "order": null,
            "overflow": null,
            "overflow_x": null,
            "overflow_y": null,
            "padding": null,
            "right": null,
            "top": null,
            "visibility": null,
            "width": null
          }
        },
<<<<<<< HEAD
<<<<<<< HEAD
        "ccfadf16c48144f0bad8b3ee88ee2720": {
=======
        "9d39723a4ab745468a3fde5951cd1c8a": {
>>>>>>> 043a282815e330e79882eb927d74c15f11ae2ce2
=======
        "9d39723a4ab745468a3fde5951cd1c8a": {
>>>>>>> 8d31783db698437b09448df3e24b6b6699ee0f70
          "model_module": "@jupyter-widgets/controls",
          "model_name": "DescriptionStyleModel",
          "model_module_version": "1.5.0",
          "state": {
            "_model_module": "@jupyter-widgets/controls",
            "_model_module_version": "1.5.0",
            "_model_name": "DescriptionStyleModel",
            "_view_count": null,
            "_view_module": "@jupyter-widgets/base",
            "_view_module_version": "1.2.0",
            "_view_name": "StyleView",
            "description_width": ""
          }
        },
<<<<<<< HEAD
<<<<<<< HEAD
        "2b64fb3a5f544fddab271a0344b93154": {
=======
        "42324dada6f7402a886500f1b98aff14": {
>>>>>>> 043a282815e330e79882eb927d74c15f11ae2ce2
=======
        "42324dada6f7402a886500f1b98aff14": {
>>>>>>> 8d31783db698437b09448df3e24b6b6699ee0f70
          "model_module": "@jupyter-widgets/base",
          "model_name": "LayoutModel",
          "model_module_version": "1.2.0",
          "state": {
            "_model_module": "@jupyter-widgets/base",
            "_model_module_version": "1.2.0",
            "_model_name": "LayoutModel",
            "_view_count": null,
            "_view_module": "@jupyter-widgets/base",
            "_view_module_version": "1.2.0",
            "_view_name": "LayoutView",
            "align_content": null,
            "align_items": null,
            "align_self": null,
            "border": null,
            "bottom": null,
            "display": null,
            "flex": null,
            "flex_flow": null,
            "grid_area": null,
            "grid_auto_columns": null,
            "grid_auto_flow": null,
            "grid_auto_rows": null,
            "grid_column": null,
            "grid_gap": null,
            "grid_row": null,
            "grid_template_areas": null,
            "grid_template_columns": null,
            "grid_template_rows": null,
            "height": null,
            "justify_content": null,
            "justify_items": null,
            "left": null,
            "margin": null,
            "max_height": null,
            "max_width": null,
            "min_height": null,
            "min_width": null,
            "object_fit": null,
            "object_position": null,
            "order": null,
            "overflow": null,
            "overflow_x": null,
            "overflow_y": null,
            "padding": null,
            "right": null,
            "top": null,
            "visibility": null,
            "width": null
          }
        },
<<<<<<< HEAD
<<<<<<< HEAD
        "ee58c09138284b71bb9bfea781354094": {
=======
        "e1e17e9b1b2640f5baf1f16ef0ede2cf": {
>>>>>>> 043a282815e330e79882eb927d74c15f11ae2ce2
=======
        "e1e17e9b1b2640f5baf1f16ef0ede2cf": {
>>>>>>> 8d31783db698437b09448df3e24b6b6699ee0f70
          "model_module": "@jupyter-widgets/controls",
          "model_name": "ProgressStyleModel",
          "model_module_version": "1.5.0",
          "state": {
            "_model_module": "@jupyter-widgets/controls",
            "_model_module_version": "1.5.0",
            "_model_name": "ProgressStyleModel",
            "_view_count": null,
            "_view_module": "@jupyter-widgets/base",
            "_view_module_version": "1.2.0",
            "_view_name": "StyleView",
            "bar_color": null,
            "description_width": ""
          }
        },
<<<<<<< HEAD
<<<<<<< HEAD
        "738132383375405699784c2c8f513c6e": {
=======
        "69536f613ec84864b70e68b9df1a5956": {
>>>>>>> 043a282815e330e79882eb927d74c15f11ae2ce2
=======
        "69536f613ec84864b70e68b9df1a5956": {
>>>>>>> 8d31783db698437b09448df3e24b6b6699ee0f70
          "model_module": "@jupyter-widgets/base",
          "model_name": "LayoutModel",
          "model_module_version": "1.2.0",
          "state": {
            "_model_module": "@jupyter-widgets/base",
            "_model_module_version": "1.2.0",
            "_model_name": "LayoutModel",
            "_view_count": null,
            "_view_module": "@jupyter-widgets/base",
            "_view_module_version": "1.2.0",
            "_view_name": "LayoutView",
            "align_content": null,
            "align_items": null,
            "align_self": null,
            "border": null,
            "bottom": null,
            "display": null,
            "flex": null,
            "flex_flow": null,
            "grid_area": null,
            "grid_auto_columns": null,
            "grid_auto_flow": null,
            "grid_auto_rows": null,
            "grid_column": null,
            "grid_gap": null,
            "grid_row": null,
            "grid_template_areas": null,
            "grid_template_columns": null,
            "grid_template_rows": null,
            "height": null,
            "justify_content": null,
            "justify_items": null,
            "left": null,
            "margin": null,
            "max_height": null,
            "max_width": null,
            "min_height": null,
            "min_width": null,
            "object_fit": null,
            "object_position": null,
            "order": null,
            "overflow": null,
            "overflow_x": null,
            "overflow_y": null,
            "padding": null,
            "right": null,
            "top": null,
            "visibility": null,
            "width": null
          }
        },
<<<<<<< HEAD
<<<<<<< HEAD
        "d283b7aae33844eba7549439df272198": {
=======
        "867d984a08c74a4dba4cdc70cf556be9": {
>>>>>>> 043a282815e330e79882eb927d74c15f11ae2ce2
=======
        "867d984a08c74a4dba4cdc70cf556be9": {
>>>>>>> 8d31783db698437b09448df3e24b6b6699ee0f70
          "model_module": "@jupyter-widgets/controls",
          "model_name": "DescriptionStyleModel",
          "model_module_version": "1.5.0",
          "state": {
            "_model_module": "@jupyter-widgets/controls",
            "_model_module_version": "1.5.0",
            "_model_name": "DescriptionStyleModel",
            "_view_count": null,
            "_view_module": "@jupyter-widgets/base",
            "_view_module_version": "1.2.0",
            "_view_name": "StyleView",
            "description_width": ""
          }
        },
<<<<<<< HEAD
<<<<<<< HEAD
        "ae14c3b346d7406ca5f75962937a276f": {
=======
        "81627e98e7594e5d84f030d34e1e409e": {
>>>>>>> 043a282815e330e79882eb927d74c15f11ae2ce2
=======
        "81627e98e7594e5d84f030d34e1e409e": {
>>>>>>> 8d31783db698437b09448df3e24b6b6699ee0f70
          "model_module": "@jupyter-widgets/controls",
          "model_name": "HBoxModel",
          "model_module_version": "1.5.0",
          "state": {
            "_dom_classes": [],
            "_model_module": "@jupyter-widgets/controls",
            "_model_module_version": "1.5.0",
            "_model_name": "HBoxModel",
            "_view_count": null,
            "_view_module": "@jupyter-widgets/controls",
            "_view_module_version": "1.5.0",
            "_view_name": "HBoxView",
            "box_style": "",
            "children": [
<<<<<<< HEAD
<<<<<<< HEAD
              "IPY_MODEL_facecba4c8cc430984f36cc78841695c",
              "IPY_MODEL_3965bc87a8f74028bac50265938ae5e1",
              "IPY_MODEL_958a0143ebf743b18ac00ac0a8deb4c8"
            ],
            "layout": "IPY_MODEL_5d60410431764038920ccf2015e229ab"
          }
        },
        "facecba4c8cc430984f36cc78841695c": {
=======
=======
>>>>>>> 8d31783db698437b09448df3e24b6b6699ee0f70
              "IPY_MODEL_9c687b8b94894a7297fd3839a10cbd5c",
              "IPY_MODEL_b9c12038823b42309be8e970535bfb9f",
              "IPY_MODEL_eec12469f56b4396bd765d9f7018dd26"
            ],
            "layout": "IPY_MODEL_7522ca3f65514f24960df3a5f0c1903e"
          }
        },
        "9c687b8b94894a7297fd3839a10cbd5c": {
<<<<<<< HEAD
>>>>>>> 043a282815e330e79882eb927d74c15f11ae2ce2
=======
>>>>>>> 8d31783db698437b09448df3e24b6b6699ee0f70
          "model_module": "@jupyter-widgets/controls",
          "model_name": "HTMLModel",
          "model_module_version": "1.5.0",
          "state": {
            "_dom_classes": [],
            "_model_module": "@jupyter-widgets/controls",
            "_model_module_version": "1.5.0",
            "_model_name": "HTMLModel",
            "_view_count": null,
            "_view_module": "@jupyter-widgets/controls",
            "_view_module_version": "1.5.0",
            "_view_name": "HTMLView",
            "description": "",
            "description_tooltip": null,
<<<<<<< HEAD
<<<<<<< HEAD
            "layout": "IPY_MODEL_98e09cef8fdc4079aaecd54be171956b",
            "placeholder": "​",
            "style": "IPY_MODEL_d4337c2908ca45d8a7b8e4fbee786c71",
            "value": "100%"
          }
        },
        "3965bc87a8f74028bac50265938ae5e1": {
=======
=======
>>>>>>> 8d31783db698437b09448df3e24b6b6699ee0f70
            "layout": "IPY_MODEL_5c2f87d0c75f45c69b94f6b323550d07",
            "placeholder": "​",
            "style": "IPY_MODEL_2ac5bb4ba0234849912f132cdc54ee76",
            "value": "100%"
          }
        },
        "b9c12038823b42309be8e970535bfb9f": {
<<<<<<< HEAD
>>>>>>> 043a282815e330e79882eb927d74c15f11ae2ce2
=======
>>>>>>> 8d31783db698437b09448df3e24b6b6699ee0f70
          "model_module": "@jupyter-widgets/controls",
          "model_name": "FloatProgressModel",
          "model_module_version": "1.5.0",
          "state": {
            "_dom_classes": [],
            "_model_module": "@jupyter-widgets/controls",
            "_model_module_version": "1.5.0",
            "_model_name": "FloatProgressModel",
            "_view_count": null,
            "_view_module": "@jupyter-widgets/controls",
            "_view_module_version": "1.5.0",
            "_view_name": "ProgressView",
            "bar_style": "success",
            "description": "",
            "description_tooltip": null,
<<<<<<< HEAD
<<<<<<< HEAD
            "layout": "IPY_MODEL_5086bd52538b4e89b14e2a56d64a6340",
            "max": 135,
            "min": 0,
            "orientation": "horizontal",
            "style": "IPY_MODEL_2b4b8d85d26a41769c0498bb7b923c03",
            "value": 135
          }
        },
        "958a0143ebf743b18ac00ac0a8deb4c8": {
=======
=======
>>>>>>> 8d31783db698437b09448df3e24b6b6699ee0f70
            "layout": "IPY_MODEL_15335c53a4ef4d698f2f48b1be9ac811",
            "max": 135,
            "min": 0,
            "orientation": "horizontal",
            "style": "IPY_MODEL_b795f7f908af4f4db3be53e31da936ef",
            "value": 135
          }
        },
        "eec12469f56b4396bd765d9f7018dd26": {
<<<<<<< HEAD
>>>>>>> 043a282815e330e79882eb927d74c15f11ae2ce2
=======
>>>>>>> 8d31783db698437b09448df3e24b6b6699ee0f70
          "model_module": "@jupyter-widgets/controls",
          "model_name": "HTMLModel",
          "model_module_version": "1.5.0",
          "state": {
            "_dom_classes": [],
            "_model_module": "@jupyter-widgets/controls",
            "_model_module_version": "1.5.0",
            "_model_name": "HTMLModel",
            "_view_count": null,
            "_view_module": "@jupyter-widgets/controls",
            "_view_module_version": "1.5.0",
            "_view_name": "HTMLView",
            "description": "",
            "description_tooltip": null,
<<<<<<< HEAD
<<<<<<< HEAD
            "layout": "IPY_MODEL_150d9901632247f396592d2ca190a881",
            "placeholder": "​",
            "style": "IPY_MODEL_6074629b17424256ba80c94c377faaf4",
            "value": " 135/135 [00:00&lt;00:00, 261.62it/s]"
          }
        },
        "5d60410431764038920ccf2015e229ab": {
=======
=======
>>>>>>> 8d31783db698437b09448df3e24b6b6699ee0f70
            "layout": "IPY_MODEL_0c15871ebd894b5697692ecfcfcb93d1",
            "placeholder": "​",
            "style": "IPY_MODEL_0679ca07e7274362826679dc3a0e601b",
            "value": " 135/135 [00:00&lt;00:00, 269.26it/s]"
          }
        },
        "7522ca3f65514f24960df3a5f0c1903e": {
<<<<<<< HEAD
>>>>>>> 043a282815e330e79882eb927d74c15f11ae2ce2
=======
>>>>>>> 8d31783db698437b09448df3e24b6b6699ee0f70
          "model_module": "@jupyter-widgets/base",
          "model_name": "LayoutModel",
          "model_module_version": "1.2.0",
          "state": {
            "_model_module": "@jupyter-widgets/base",
            "_model_module_version": "1.2.0",
            "_model_name": "LayoutModel",
            "_view_count": null,
            "_view_module": "@jupyter-widgets/base",
            "_view_module_version": "1.2.0",
            "_view_name": "LayoutView",
            "align_content": null,
            "align_items": null,
            "align_self": null,
            "border": null,
            "bottom": null,
            "display": null,
            "flex": null,
            "flex_flow": null,
            "grid_area": null,
            "grid_auto_columns": null,
            "grid_auto_flow": null,
            "grid_auto_rows": null,
            "grid_column": null,
            "grid_gap": null,
            "grid_row": null,
            "grid_template_areas": null,
            "grid_template_columns": null,
            "grid_template_rows": null,
            "height": null,
            "justify_content": null,
            "justify_items": null,
            "left": null,
            "margin": null,
            "max_height": null,
            "max_width": null,
            "min_height": null,
            "min_width": null,
            "object_fit": null,
            "object_position": null,
            "order": null,
            "overflow": null,
            "overflow_x": null,
            "overflow_y": null,
            "padding": null,
            "right": null,
            "top": null,
            "visibility": null,
            "width": null
          }
        },
<<<<<<< HEAD
<<<<<<< HEAD
        "98e09cef8fdc4079aaecd54be171956b": {
=======
        "5c2f87d0c75f45c69b94f6b323550d07": {
>>>>>>> 043a282815e330e79882eb927d74c15f11ae2ce2
=======
        "5c2f87d0c75f45c69b94f6b323550d07": {
>>>>>>> 8d31783db698437b09448df3e24b6b6699ee0f70
          "model_module": "@jupyter-widgets/base",
          "model_name": "LayoutModel",
          "model_module_version": "1.2.0",
          "state": {
            "_model_module": "@jupyter-widgets/base",
            "_model_module_version": "1.2.0",
            "_model_name": "LayoutModel",
            "_view_count": null,
            "_view_module": "@jupyter-widgets/base",
            "_view_module_version": "1.2.0",
            "_view_name": "LayoutView",
            "align_content": null,
            "align_items": null,
            "align_self": null,
            "border": null,
            "bottom": null,
            "display": null,
            "flex": null,
            "flex_flow": null,
            "grid_area": null,
            "grid_auto_columns": null,
            "grid_auto_flow": null,
            "grid_auto_rows": null,
            "grid_column": null,
            "grid_gap": null,
            "grid_row": null,
            "grid_template_areas": null,
            "grid_template_columns": null,
            "grid_template_rows": null,
            "height": null,
            "justify_content": null,
            "justify_items": null,
            "left": null,
            "margin": null,
            "max_height": null,
            "max_width": null,
            "min_height": null,
            "min_width": null,
            "object_fit": null,
            "object_position": null,
            "order": null,
            "overflow": null,
            "overflow_x": null,
            "overflow_y": null,
            "padding": null,
            "right": null,
            "top": null,
            "visibility": null,
            "width": null
          }
        },
<<<<<<< HEAD
<<<<<<< HEAD
        "d4337c2908ca45d8a7b8e4fbee786c71": {
=======
        "2ac5bb4ba0234849912f132cdc54ee76": {
>>>>>>> 043a282815e330e79882eb927d74c15f11ae2ce2
=======
        "2ac5bb4ba0234849912f132cdc54ee76": {
>>>>>>> 8d31783db698437b09448df3e24b6b6699ee0f70
          "model_module": "@jupyter-widgets/controls",
          "model_name": "DescriptionStyleModel",
          "model_module_version": "1.5.0",
          "state": {
            "_model_module": "@jupyter-widgets/controls",
            "_model_module_version": "1.5.0",
            "_model_name": "DescriptionStyleModel",
            "_view_count": null,
            "_view_module": "@jupyter-widgets/base",
            "_view_module_version": "1.2.0",
            "_view_name": "StyleView",
            "description_width": ""
          }
        },
<<<<<<< HEAD
<<<<<<< HEAD
        "5086bd52538b4e89b14e2a56d64a6340": {
=======
        "15335c53a4ef4d698f2f48b1be9ac811": {
>>>>>>> 043a282815e330e79882eb927d74c15f11ae2ce2
=======
        "15335c53a4ef4d698f2f48b1be9ac811": {
>>>>>>> 8d31783db698437b09448df3e24b6b6699ee0f70
          "model_module": "@jupyter-widgets/base",
          "model_name": "LayoutModel",
          "model_module_version": "1.2.0",
          "state": {
            "_model_module": "@jupyter-widgets/base",
            "_model_module_version": "1.2.0",
            "_model_name": "LayoutModel",
            "_view_count": null,
            "_view_module": "@jupyter-widgets/base",
            "_view_module_version": "1.2.0",
            "_view_name": "LayoutView",
            "align_content": null,
            "align_items": null,
            "align_self": null,
            "border": null,
            "bottom": null,
            "display": null,
            "flex": null,
            "flex_flow": null,
            "grid_area": null,
            "grid_auto_columns": null,
            "grid_auto_flow": null,
            "grid_auto_rows": null,
            "grid_column": null,
            "grid_gap": null,
            "grid_row": null,
            "grid_template_areas": null,
            "grid_template_columns": null,
            "grid_template_rows": null,
            "height": null,
            "justify_content": null,
            "justify_items": null,
            "left": null,
            "margin": null,
            "max_height": null,
            "max_width": null,
            "min_height": null,
            "min_width": null,
            "object_fit": null,
            "object_position": null,
            "order": null,
            "overflow": null,
            "overflow_x": null,
            "overflow_y": null,
            "padding": null,
            "right": null,
            "top": null,
            "visibility": null,
            "width": null
          }
        },
<<<<<<< HEAD
<<<<<<< HEAD
        "2b4b8d85d26a41769c0498bb7b923c03": {
=======
        "b795f7f908af4f4db3be53e31da936ef": {
>>>>>>> 043a282815e330e79882eb927d74c15f11ae2ce2
=======
        "b795f7f908af4f4db3be53e31da936ef": {
>>>>>>> 8d31783db698437b09448df3e24b6b6699ee0f70
          "model_module": "@jupyter-widgets/controls",
          "model_name": "ProgressStyleModel",
          "model_module_version": "1.5.0",
          "state": {
            "_model_module": "@jupyter-widgets/controls",
            "_model_module_version": "1.5.0",
            "_model_name": "ProgressStyleModel",
            "_view_count": null,
            "_view_module": "@jupyter-widgets/base",
            "_view_module_version": "1.2.0",
            "_view_name": "StyleView",
            "bar_color": null,
            "description_width": ""
          }
        },
<<<<<<< HEAD
<<<<<<< HEAD
        "150d9901632247f396592d2ca190a881": {
=======
        "0c15871ebd894b5697692ecfcfcb93d1": {
>>>>>>> 043a282815e330e79882eb927d74c15f11ae2ce2
=======
        "0c15871ebd894b5697692ecfcfcb93d1": {
>>>>>>> 8d31783db698437b09448df3e24b6b6699ee0f70
          "model_module": "@jupyter-widgets/base",
          "model_name": "LayoutModel",
          "model_module_version": "1.2.0",
          "state": {
            "_model_module": "@jupyter-widgets/base",
            "_model_module_version": "1.2.0",
            "_model_name": "LayoutModel",
            "_view_count": null,
            "_view_module": "@jupyter-widgets/base",
            "_view_module_version": "1.2.0",
            "_view_name": "LayoutView",
            "align_content": null,
            "align_items": null,
            "align_self": null,
            "border": null,
            "bottom": null,
            "display": null,
            "flex": null,
            "flex_flow": null,
            "grid_area": null,
            "grid_auto_columns": null,
            "grid_auto_flow": null,
            "grid_auto_rows": null,
            "grid_column": null,
            "grid_gap": null,
            "grid_row": null,
            "grid_template_areas": null,
            "grid_template_columns": null,
            "grid_template_rows": null,
            "height": null,
            "justify_content": null,
            "justify_items": null,
            "left": null,
            "margin": null,
            "max_height": null,
            "max_width": null,
            "min_height": null,
            "min_width": null,
            "object_fit": null,
            "object_position": null,
            "order": null,
            "overflow": null,
            "overflow_x": null,
            "overflow_y": null,
            "padding": null,
            "right": null,
            "top": null,
            "visibility": null,
            "width": null
          }
        },
<<<<<<< HEAD
<<<<<<< HEAD
        "6074629b17424256ba80c94c377faaf4": {
=======
        "0679ca07e7274362826679dc3a0e601b": {
>>>>>>> 043a282815e330e79882eb927d74c15f11ae2ce2
=======
        "0679ca07e7274362826679dc3a0e601b": {
>>>>>>> 8d31783db698437b09448df3e24b6b6699ee0f70
          "model_module": "@jupyter-widgets/controls",
          "model_name": "DescriptionStyleModel",
          "model_module_version": "1.5.0",
          "state": {
            "_model_module": "@jupyter-widgets/controls",
            "_model_module_version": "1.5.0",
            "_model_name": "DescriptionStyleModel",
            "_view_count": null,
            "_view_module": "@jupyter-widgets/base",
            "_view_module_version": "1.2.0",
            "_view_name": "StyleView",
            "description_width": ""
          }
        },
<<<<<<< HEAD
<<<<<<< HEAD
        "8323f8b6fbba4ef7bd976b503297a43c": {
=======
        "31923ab88c5e47c58ca5180cb620dbe8": {
>>>>>>> 043a282815e330e79882eb927d74c15f11ae2ce2
=======
        "31923ab88c5e47c58ca5180cb620dbe8": {
>>>>>>> 8d31783db698437b09448df3e24b6b6699ee0f70
          "model_module": "@jupyter-widgets/controls",
          "model_name": "HBoxModel",
          "model_module_version": "1.5.0",
          "state": {
            "_dom_classes": [],
            "_model_module": "@jupyter-widgets/controls",
            "_model_module_version": "1.5.0",
            "_model_name": "HBoxModel",
            "_view_count": null,
            "_view_module": "@jupyter-widgets/controls",
            "_view_module_version": "1.5.0",
            "_view_name": "HBoxView",
            "box_style": "",
            "children": [
<<<<<<< HEAD
<<<<<<< HEAD
              "IPY_MODEL_47b0c5430c8f4736b51915a0e5c10f22",
              "IPY_MODEL_2d54ed0bd87f4da2a2208d593ba06c3e",
              "IPY_MODEL_0c0fbdb0eddc41eba58d16de0ec7f6d2"
            ],
            "layout": "IPY_MODEL_072a89e1b24b4b4696d1be2f9fbb9c41"
          }
        },
        "47b0c5430c8f4736b51915a0e5c10f22": {
=======
=======
>>>>>>> 8d31783db698437b09448df3e24b6b6699ee0f70
              "IPY_MODEL_9633adff2bae4bd8bd3563fc3fc3675d",
              "IPY_MODEL_65064566124c4dd3b6f5eef6d396a4b8",
              "IPY_MODEL_af61a9389ea043489370504085f69900"
            ],
            "layout": "IPY_MODEL_ec371b158e2a414f83754e0468052dca"
          }
        },
        "9633adff2bae4bd8bd3563fc3fc3675d": {
<<<<<<< HEAD
>>>>>>> 043a282815e330e79882eb927d74c15f11ae2ce2
=======
>>>>>>> 8d31783db698437b09448df3e24b6b6699ee0f70
          "model_module": "@jupyter-widgets/controls",
          "model_name": "HTMLModel",
          "model_module_version": "1.5.0",
          "state": {
            "_dom_classes": [],
            "_model_module": "@jupyter-widgets/controls",
            "_model_module_version": "1.5.0",
            "_model_name": "HTMLModel",
            "_view_count": null,
            "_view_module": "@jupyter-widgets/controls",
            "_view_module_version": "1.5.0",
            "_view_name": "HTMLView",
            "description": "",
            "description_tooltip": null,
<<<<<<< HEAD
<<<<<<< HEAD
            "layout": "IPY_MODEL_8693996544d141d3892210bf3e4a5927",
            "placeholder": "​",
            "style": "IPY_MODEL_496230154e9b481ea061ce7338b4292a",
            "value": "100%"
          }
        },
        "2d54ed0bd87f4da2a2208d593ba06c3e": {
=======
=======
>>>>>>> 8d31783db698437b09448df3e24b6b6699ee0f70
            "layout": "IPY_MODEL_e0ea216f311a44d7892e680f5666db69",
            "placeholder": "​",
            "style": "IPY_MODEL_ab50e34189614567a4b1337adf463b94",
            "value": "100%"
          }
        },
        "65064566124c4dd3b6f5eef6d396a4b8": {
<<<<<<< HEAD
>>>>>>> 043a282815e330e79882eb927d74c15f11ae2ce2
=======
>>>>>>> 8d31783db698437b09448df3e24b6b6699ee0f70
          "model_module": "@jupyter-widgets/controls",
          "model_name": "FloatProgressModel",
          "model_module_version": "1.5.0",
          "state": {
            "_dom_classes": [],
            "_model_module": "@jupyter-widgets/controls",
            "_model_module_version": "1.5.0",
            "_model_name": "FloatProgressModel",
            "_view_count": null,
            "_view_module": "@jupyter-widgets/controls",
            "_view_module_version": "1.5.0",
            "_view_name": "ProgressView",
            "bar_style": "success",
            "description": "",
            "description_tooltip": null,
<<<<<<< HEAD
<<<<<<< HEAD
            "layout": "IPY_MODEL_8426b88882184caabf22b82250a2c944",
            "max": 135,
            "min": 0,
            "orientation": "horizontal",
            "style": "IPY_MODEL_e56c4237001048d5922cf59e9753d97c",
            "value": 135
          }
        },
        "0c0fbdb0eddc41eba58d16de0ec7f6d2": {
=======
=======
>>>>>>> 8d31783db698437b09448df3e24b6b6699ee0f70
            "layout": "IPY_MODEL_c4e8934080944df098c34f0f80a14254",
            "max": 135,
            "min": 0,
            "orientation": "horizontal",
            "style": "IPY_MODEL_fac1970e7eab44f597b1b3208b22ddd9",
            "value": 135
          }
        },
        "af61a9389ea043489370504085f69900": {
<<<<<<< HEAD
>>>>>>> 043a282815e330e79882eb927d74c15f11ae2ce2
=======
>>>>>>> 8d31783db698437b09448df3e24b6b6699ee0f70
          "model_module": "@jupyter-widgets/controls",
          "model_name": "HTMLModel",
          "model_module_version": "1.5.0",
          "state": {
            "_dom_classes": [],
            "_model_module": "@jupyter-widgets/controls",
            "_model_module_version": "1.5.0",
            "_model_name": "HTMLModel",
            "_view_count": null,
            "_view_module": "@jupyter-widgets/controls",
            "_view_module_version": "1.5.0",
            "_view_name": "HTMLView",
            "description": "",
            "description_tooltip": null,
<<<<<<< HEAD
<<<<<<< HEAD
            "layout": "IPY_MODEL_4b073eb244204979a250624f8390b14b",
            "placeholder": "​",
            "style": "IPY_MODEL_4aff652cf22e4f3c8723dfc49add3dca",
            "value": " 135/135 [00:00&lt;00:00, 273.80it/s]"
          }
        },
        "072a89e1b24b4b4696d1be2f9fbb9c41": {
=======
=======
>>>>>>> 8d31783db698437b09448df3e24b6b6699ee0f70
            "layout": "IPY_MODEL_876d10b2b70d42bd8e056755f73e7cfa",
            "placeholder": "​",
            "style": "IPY_MODEL_adde5b0f5bfe4dc1843559e4f30a8d76",
            "value": " 135/135 [00:00&lt;00:00, 274.51it/s]"
          }
        },
        "ec371b158e2a414f83754e0468052dca": {
<<<<<<< HEAD
>>>>>>> 043a282815e330e79882eb927d74c15f11ae2ce2
=======
>>>>>>> 8d31783db698437b09448df3e24b6b6699ee0f70
          "model_module": "@jupyter-widgets/base",
          "model_name": "LayoutModel",
          "model_module_version": "1.2.0",
          "state": {
            "_model_module": "@jupyter-widgets/base",
            "_model_module_version": "1.2.0",
            "_model_name": "LayoutModel",
            "_view_count": null,
            "_view_module": "@jupyter-widgets/base",
            "_view_module_version": "1.2.0",
            "_view_name": "LayoutView",
            "align_content": null,
            "align_items": null,
            "align_self": null,
            "border": null,
            "bottom": null,
            "display": null,
            "flex": null,
            "flex_flow": null,
            "grid_area": null,
            "grid_auto_columns": null,
            "grid_auto_flow": null,
            "grid_auto_rows": null,
            "grid_column": null,
            "grid_gap": null,
            "grid_row": null,
            "grid_template_areas": null,
            "grid_template_columns": null,
            "grid_template_rows": null,
            "height": null,
            "justify_content": null,
            "justify_items": null,
            "left": null,
            "margin": null,
            "max_height": null,
            "max_width": null,
            "min_height": null,
            "min_width": null,
            "object_fit": null,
            "object_position": null,
            "order": null,
            "overflow": null,
            "overflow_x": null,
            "overflow_y": null,
            "padding": null,
            "right": null,
            "top": null,
            "visibility": null,
            "width": null
          }
        },
<<<<<<< HEAD
<<<<<<< HEAD
        "8693996544d141d3892210bf3e4a5927": {
=======
        "e0ea216f311a44d7892e680f5666db69": {
>>>>>>> 043a282815e330e79882eb927d74c15f11ae2ce2
=======
        "e0ea216f311a44d7892e680f5666db69": {
>>>>>>> 8d31783db698437b09448df3e24b6b6699ee0f70
          "model_module": "@jupyter-widgets/base",
          "model_name": "LayoutModel",
          "model_module_version": "1.2.0",
          "state": {
            "_model_module": "@jupyter-widgets/base",
            "_model_module_version": "1.2.0",
            "_model_name": "LayoutModel",
            "_view_count": null,
            "_view_module": "@jupyter-widgets/base",
            "_view_module_version": "1.2.0",
            "_view_name": "LayoutView",
            "align_content": null,
            "align_items": null,
            "align_self": null,
            "border": null,
            "bottom": null,
            "display": null,
            "flex": null,
            "flex_flow": null,
            "grid_area": null,
            "grid_auto_columns": null,
            "grid_auto_flow": null,
            "grid_auto_rows": null,
            "grid_column": null,
            "grid_gap": null,
            "grid_row": null,
            "grid_template_areas": null,
            "grid_template_columns": null,
            "grid_template_rows": null,
            "height": null,
            "justify_content": null,
            "justify_items": null,
            "left": null,
            "margin": null,
            "max_height": null,
            "max_width": null,
            "min_height": null,
            "min_width": null,
            "object_fit": null,
            "object_position": null,
            "order": null,
            "overflow": null,
            "overflow_x": null,
            "overflow_y": null,
            "padding": null,
            "right": null,
            "top": null,
            "visibility": null,
            "width": null
          }
        },
<<<<<<< HEAD
<<<<<<< HEAD
        "496230154e9b481ea061ce7338b4292a": {
=======
        "ab50e34189614567a4b1337adf463b94": {
>>>>>>> 043a282815e330e79882eb927d74c15f11ae2ce2
=======
        "ab50e34189614567a4b1337adf463b94": {
>>>>>>> 8d31783db698437b09448df3e24b6b6699ee0f70
          "model_module": "@jupyter-widgets/controls",
          "model_name": "DescriptionStyleModel",
          "model_module_version": "1.5.0",
          "state": {
            "_model_module": "@jupyter-widgets/controls",
            "_model_module_version": "1.5.0",
            "_model_name": "DescriptionStyleModel",
            "_view_count": null,
            "_view_module": "@jupyter-widgets/base",
            "_view_module_version": "1.2.0",
            "_view_name": "StyleView",
            "description_width": ""
          }
        },
<<<<<<< HEAD
<<<<<<< HEAD
        "8426b88882184caabf22b82250a2c944": {
=======
        "c4e8934080944df098c34f0f80a14254": {
>>>>>>> 043a282815e330e79882eb927d74c15f11ae2ce2
=======
        "c4e8934080944df098c34f0f80a14254": {
>>>>>>> 8d31783db698437b09448df3e24b6b6699ee0f70
          "model_module": "@jupyter-widgets/base",
          "model_name": "LayoutModel",
          "model_module_version": "1.2.0",
          "state": {
            "_model_module": "@jupyter-widgets/base",
            "_model_module_version": "1.2.0",
            "_model_name": "LayoutModel",
            "_view_count": null,
            "_view_module": "@jupyter-widgets/base",
            "_view_module_version": "1.2.0",
            "_view_name": "LayoutView",
            "align_content": null,
            "align_items": null,
            "align_self": null,
            "border": null,
            "bottom": null,
            "display": null,
            "flex": null,
            "flex_flow": null,
            "grid_area": null,
            "grid_auto_columns": null,
            "grid_auto_flow": null,
            "grid_auto_rows": null,
            "grid_column": null,
            "grid_gap": null,
            "grid_row": null,
            "grid_template_areas": null,
            "grid_template_columns": null,
            "grid_template_rows": null,
            "height": null,
            "justify_content": null,
            "justify_items": null,
            "left": null,
            "margin": null,
            "max_height": null,
            "max_width": null,
            "min_height": null,
            "min_width": null,
            "object_fit": null,
            "object_position": null,
            "order": null,
            "overflow": null,
            "overflow_x": null,
            "overflow_y": null,
            "padding": null,
            "right": null,
            "top": null,
            "visibility": null,
            "width": null
          }
        },
<<<<<<< HEAD
<<<<<<< HEAD
        "e56c4237001048d5922cf59e9753d97c": {
=======
        "fac1970e7eab44f597b1b3208b22ddd9": {
>>>>>>> 043a282815e330e79882eb927d74c15f11ae2ce2
=======
        "fac1970e7eab44f597b1b3208b22ddd9": {
>>>>>>> 8d31783db698437b09448df3e24b6b6699ee0f70
          "model_module": "@jupyter-widgets/controls",
          "model_name": "ProgressStyleModel",
          "model_module_version": "1.5.0",
          "state": {
            "_model_module": "@jupyter-widgets/controls",
            "_model_module_version": "1.5.0",
            "_model_name": "ProgressStyleModel",
            "_view_count": null,
            "_view_module": "@jupyter-widgets/base",
            "_view_module_version": "1.2.0",
            "_view_name": "StyleView",
            "bar_color": null,
            "description_width": ""
          }
        },
<<<<<<< HEAD
<<<<<<< HEAD
        "4b073eb244204979a250624f8390b14b": {
=======
        "876d10b2b70d42bd8e056755f73e7cfa": {
>>>>>>> 043a282815e330e79882eb927d74c15f11ae2ce2
=======
        "876d10b2b70d42bd8e056755f73e7cfa": {
>>>>>>> 8d31783db698437b09448df3e24b6b6699ee0f70
          "model_module": "@jupyter-widgets/base",
          "model_name": "LayoutModel",
          "model_module_version": "1.2.0",
          "state": {
            "_model_module": "@jupyter-widgets/base",
            "_model_module_version": "1.2.0",
            "_model_name": "LayoutModel",
            "_view_count": null,
            "_view_module": "@jupyter-widgets/base",
            "_view_module_version": "1.2.0",
            "_view_name": "LayoutView",
            "align_content": null,
            "align_items": null,
            "align_self": null,
            "border": null,
            "bottom": null,
            "display": null,
            "flex": null,
            "flex_flow": null,
            "grid_area": null,
            "grid_auto_columns": null,
            "grid_auto_flow": null,
            "grid_auto_rows": null,
            "grid_column": null,
            "grid_gap": null,
            "grid_row": null,
            "grid_template_areas": null,
            "grid_template_columns": null,
            "grid_template_rows": null,
            "height": null,
            "justify_content": null,
            "justify_items": null,
            "left": null,
            "margin": null,
            "max_height": null,
            "max_width": null,
            "min_height": null,
            "min_width": null,
            "object_fit": null,
            "object_position": null,
            "order": null,
            "overflow": null,
            "overflow_x": null,
            "overflow_y": null,
            "padding": null,
            "right": null,
            "top": null,
            "visibility": null,
            "width": null
          }
        },
<<<<<<< HEAD
<<<<<<< HEAD
        "4aff652cf22e4f3c8723dfc49add3dca": {
=======
        "adde5b0f5bfe4dc1843559e4f30a8d76": {
>>>>>>> 043a282815e330e79882eb927d74c15f11ae2ce2
=======
        "adde5b0f5bfe4dc1843559e4f30a8d76": {
>>>>>>> 8d31783db698437b09448df3e24b6b6699ee0f70
          "model_module": "@jupyter-widgets/controls",
          "model_name": "DescriptionStyleModel",
          "model_module_version": "1.5.0",
          "state": {
            "_model_module": "@jupyter-widgets/controls",
            "_model_module_version": "1.5.0",
            "_model_name": "DescriptionStyleModel",
            "_view_count": null,
            "_view_module": "@jupyter-widgets/base",
            "_view_module_version": "1.2.0",
            "_view_name": "StyleView",
            "description_width": ""
          }
        },
<<<<<<< HEAD
<<<<<<< HEAD
        "c6bcc77eb15d4d5db21fa33791b6b9af": {
=======
        "c3ef2f4069bc4c0e8f56ce1afd621172": {
>>>>>>> 043a282815e330e79882eb927d74c15f11ae2ce2
=======
        "c3ef2f4069bc4c0e8f56ce1afd621172": {
>>>>>>> 8d31783db698437b09448df3e24b6b6699ee0f70
          "model_module": "@jupyter-widgets/controls",
          "model_name": "HBoxModel",
          "model_module_version": "1.5.0",
          "state": {
            "_dom_classes": [],
            "_model_module": "@jupyter-widgets/controls",
            "_model_module_version": "1.5.0",
            "_model_name": "HBoxModel",
            "_view_count": null,
            "_view_module": "@jupyter-widgets/controls",
            "_view_module_version": "1.5.0",
            "_view_name": "HBoxView",
            "box_style": "",
            "children": [
<<<<<<< HEAD
<<<<<<< HEAD
              "IPY_MODEL_818b76cbf5ec4c90acfc40f0631b9332",
              "IPY_MODEL_f8ea518ce44040798cc1b9a33eed6f20",
              "IPY_MODEL_e8d07fdd007f4ca4955eec8da229d787"
            ],
            "layout": "IPY_MODEL_5aa3b11187fd4a388292fd4f3630acbc"
          }
        },
        "818b76cbf5ec4c90acfc40f0631b9332": {
=======
=======
>>>>>>> 8d31783db698437b09448df3e24b6b6699ee0f70
              "IPY_MODEL_a9b4ad3c490146119c0c7c8661e5fe8d",
              "IPY_MODEL_3d8f94b3346c4f8abbf5a56982432a9b",
              "IPY_MODEL_1e10c503f82e4e98b854d9d1a3220e6a"
            ],
            "layout": "IPY_MODEL_507879e0855b471586c528b027a32575"
          }
        },
        "a9b4ad3c490146119c0c7c8661e5fe8d": {
<<<<<<< HEAD
>>>>>>> 043a282815e330e79882eb927d74c15f11ae2ce2
=======
>>>>>>> 8d31783db698437b09448df3e24b6b6699ee0f70
          "model_module": "@jupyter-widgets/controls",
          "model_name": "HTMLModel",
          "model_module_version": "1.5.0",
          "state": {
            "_dom_classes": [],
            "_model_module": "@jupyter-widgets/controls",
            "_model_module_version": "1.5.0",
            "_model_name": "HTMLModel",
            "_view_count": null,
            "_view_module": "@jupyter-widgets/controls",
            "_view_module_version": "1.5.0",
            "_view_name": "HTMLView",
            "description": "",
            "description_tooltip": null,
<<<<<<< HEAD
<<<<<<< HEAD
            "layout": "IPY_MODEL_f0bf76ef1ad2422d9a7a9076c29a03b0",
            "placeholder": "​",
            "style": "IPY_MODEL_6d37ff6121df4288969ab496c1cb4250",
            "value": "100%"
          }
        },
        "f8ea518ce44040798cc1b9a33eed6f20": {
=======
=======
>>>>>>> 8d31783db698437b09448df3e24b6b6699ee0f70
            "layout": "IPY_MODEL_c08d257ec68a4b1bbf83e79c31801b96",
            "placeholder": "​",
            "style": "IPY_MODEL_5b694d39fcb84299b6b62529eede89e9",
            "value": "100%"
          }
        },
        "3d8f94b3346c4f8abbf5a56982432a9b": {
<<<<<<< HEAD
>>>>>>> 043a282815e330e79882eb927d74c15f11ae2ce2
=======
>>>>>>> 8d31783db698437b09448df3e24b6b6699ee0f70
          "model_module": "@jupyter-widgets/controls",
          "model_name": "FloatProgressModel",
          "model_module_version": "1.5.0",
          "state": {
            "_dom_classes": [],
            "_model_module": "@jupyter-widgets/controls",
            "_model_module_version": "1.5.0",
            "_model_name": "FloatProgressModel",
            "_view_count": null,
            "_view_module": "@jupyter-widgets/controls",
            "_view_module_version": "1.5.0",
            "_view_name": "ProgressView",
            "bar_style": "success",
            "description": "",
            "description_tooltip": null,
<<<<<<< HEAD
<<<<<<< HEAD
            "layout": "IPY_MODEL_352b8cec976e46fc9337228ca309d524",
            "max": 136,
            "min": 0,
            "orientation": "horizontal",
            "style": "IPY_MODEL_e581aae947e34f568cf508bb7f3ae0e9",
            "value": 136
          }
        },
        "e8d07fdd007f4ca4955eec8da229d787": {
=======
=======
>>>>>>> 8d31783db698437b09448df3e24b6b6699ee0f70
            "layout": "IPY_MODEL_1fdcbab794fb47cb98312bbeedd85c6f",
            "max": 136,
            "min": 0,
            "orientation": "horizontal",
            "style": "IPY_MODEL_57a375d63b7f47b58e0053e581a9c4d8",
            "value": 136
          }
        },
        "1e10c503f82e4e98b854d9d1a3220e6a": {
<<<<<<< HEAD
>>>>>>> 043a282815e330e79882eb927d74c15f11ae2ce2
=======
>>>>>>> 8d31783db698437b09448df3e24b6b6699ee0f70
          "model_module": "@jupyter-widgets/controls",
          "model_name": "HTMLModel",
          "model_module_version": "1.5.0",
          "state": {
            "_dom_classes": [],
            "_model_module": "@jupyter-widgets/controls",
            "_model_module_version": "1.5.0",
            "_model_name": "HTMLModel",
            "_view_count": null,
            "_view_module": "@jupyter-widgets/controls",
            "_view_module_version": "1.5.0",
            "_view_name": "HTMLView",
            "description": "",
            "description_tooltip": null,
<<<<<<< HEAD
<<<<<<< HEAD
            "layout": "IPY_MODEL_bd258b27855045819b7998ca994a7d8d",
            "placeholder": "​",
            "style": "IPY_MODEL_5ede7b4d59054bd1af62d9e3c25aadff",
            "value": " 136/136 [00:00&lt;00:00, 256.24it/s]"
          }
        },
        "5aa3b11187fd4a388292fd4f3630acbc": {
=======
=======
>>>>>>> 8d31783db698437b09448df3e24b6b6699ee0f70
            "layout": "IPY_MODEL_7886d54d62eb40f88a6c99ae8e895acb",
            "placeholder": "​",
            "style": "IPY_MODEL_3c21753b0e954918b290efae5e5d504e",
            "value": " 136/136 [00:00&lt;00:00, 227.10it/s]"
          }
        },
        "507879e0855b471586c528b027a32575": {
<<<<<<< HEAD
>>>>>>> 043a282815e330e79882eb927d74c15f11ae2ce2
=======
>>>>>>> 8d31783db698437b09448df3e24b6b6699ee0f70
          "model_module": "@jupyter-widgets/base",
          "model_name": "LayoutModel",
          "model_module_version": "1.2.0",
          "state": {
            "_model_module": "@jupyter-widgets/base",
            "_model_module_version": "1.2.0",
            "_model_name": "LayoutModel",
            "_view_count": null,
            "_view_module": "@jupyter-widgets/base",
            "_view_module_version": "1.2.0",
            "_view_name": "LayoutView",
            "align_content": null,
            "align_items": null,
            "align_self": null,
            "border": null,
            "bottom": null,
            "display": null,
            "flex": null,
            "flex_flow": null,
            "grid_area": null,
            "grid_auto_columns": null,
            "grid_auto_flow": null,
            "grid_auto_rows": null,
            "grid_column": null,
            "grid_gap": null,
            "grid_row": null,
            "grid_template_areas": null,
            "grid_template_columns": null,
            "grid_template_rows": null,
            "height": null,
            "justify_content": null,
            "justify_items": null,
            "left": null,
            "margin": null,
            "max_height": null,
            "max_width": null,
            "min_height": null,
            "min_width": null,
            "object_fit": null,
            "object_position": null,
            "order": null,
            "overflow": null,
            "overflow_x": null,
            "overflow_y": null,
            "padding": null,
            "right": null,
            "top": null,
            "visibility": null,
            "width": null
          }
        },
<<<<<<< HEAD
<<<<<<< HEAD
        "f0bf76ef1ad2422d9a7a9076c29a03b0": {
=======
        "c08d257ec68a4b1bbf83e79c31801b96": {
>>>>>>> 043a282815e330e79882eb927d74c15f11ae2ce2
=======
        "c08d257ec68a4b1bbf83e79c31801b96": {
>>>>>>> 8d31783db698437b09448df3e24b6b6699ee0f70
          "model_module": "@jupyter-widgets/base",
          "model_name": "LayoutModel",
          "model_module_version": "1.2.0",
          "state": {
            "_model_module": "@jupyter-widgets/base",
            "_model_module_version": "1.2.0",
            "_model_name": "LayoutModel",
            "_view_count": null,
            "_view_module": "@jupyter-widgets/base",
            "_view_module_version": "1.2.0",
            "_view_name": "LayoutView",
            "align_content": null,
            "align_items": null,
            "align_self": null,
            "border": null,
            "bottom": null,
            "display": null,
            "flex": null,
            "flex_flow": null,
            "grid_area": null,
            "grid_auto_columns": null,
            "grid_auto_flow": null,
            "grid_auto_rows": null,
            "grid_column": null,
            "grid_gap": null,
            "grid_row": null,
            "grid_template_areas": null,
            "grid_template_columns": null,
            "grid_template_rows": null,
            "height": null,
            "justify_content": null,
            "justify_items": null,
            "left": null,
            "margin": null,
            "max_height": null,
            "max_width": null,
            "min_height": null,
            "min_width": null,
            "object_fit": null,
            "object_position": null,
            "order": null,
            "overflow": null,
            "overflow_x": null,
            "overflow_y": null,
            "padding": null,
            "right": null,
            "top": null,
            "visibility": null,
            "width": null
          }
        },
<<<<<<< HEAD
<<<<<<< HEAD
        "6d37ff6121df4288969ab496c1cb4250": {
=======
        "5b694d39fcb84299b6b62529eede89e9": {
>>>>>>> 043a282815e330e79882eb927d74c15f11ae2ce2
=======
        "5b694d39fcb84299b6b62529eede89e9": {
>>>>>>> 8d31783db698437b09448df3e24b6b6699ee0f70
          "model_module": "@jupyter-widgets/controls",
          "model_name": "DescriptionStyleModel",
          "model_module_version": "1.5.0",
          "state": {
            "_model_module": "@jupyter-widgets/controls",
            "_model_module_version": "1.5.0",
            "_model_name": "DescriptionStyleModel",
            "_view_count": null,
            "_view_module": "@jupyter-widgets/base",
            "_view_module_version": "1.2.0",
            "_view_name": "StyleView",
            "description_width": ""
          }
        },
<<<<<<< HEAD
<<<<<<< HEAD
        "352b8cec976e46fc9337228ca309d524": {
=======
        "1fdcbab794fb47cb98312bbeedd85c6f": {
>>>>>>> 043a282815e330e79882eb927d74c15f11ae2ce2
=======
        "1fdcbab794fb47cb98312bbeedd85c6f": {
>>>>>>> 8d31783db698437b09448df3e24b6b6699ee0f70
          "model_module": "@jupyter-widgets/base",
          "model_name": "LayoutModel",
          "model_module_version": "1.2.0",
          "state": {
            "_model_module": "@jupyter-widgets/base",
            "_model_module_version": "1.2.0",
            "_model_name": "LayoutModel",
            "_view_count": null,
            "_view_module": "@jupyter-widgets/base",
            "_view_module_version": "1.2.0",
            "_view_name": "LayoutView",
            "align_content": null,
            "align_items": null,
            "align_self": null,
            "border": null,
            "bottom": null,
            "display": null,
            "flex": null,
            "flex_flow": null,
            "grid_area": null,
            "grid_auto_columns": null,
            "grid_auto_flow": null,
            "grid_auto_rows": null,
            "grid_column": null,
            "grid_gap": null,
            "grid_row": null,
            "grid_template_areas": null,
            "grid_template_columns": null,
            "grid_template_rows": null,
            "height": null,
            "justify_content": null,
            "justify_items": null,
            "left": null,
            "margin": null,
            "max_height": null,
            "max_width": null,
            "min_height": null,
            "min_width": null,
            "object_fit": null,
            "object_position": null,
            "order": null,
            "overflow": null,
            "overflow_x": null,
            "overflow_y": null,
            "padding": null,
            "right": null,
            "top": null,
            "visibility": null,
            "width": null
          }
        },
<<<<<<< HEAD
<<<<<<< HEAD
        "e581aae947e34f568cf508bb7f3ae0e9": {
=======
        "57a375d63b7f47b58e0053e581a9c4d8": {
>>>>>>> 043a282815e330e79882eb927d74c15f11ae2ce2
=======
        "57a375d63b7f47b58e0053e581a9c4d8": {
>>>>>>> 8d31783db698437b09448df3e24b6b6699ee0f70
          "model_module": "@jupyter-widgets/controls",
          "model_name": "ProgressStyleModel",
          "model_module_version": "1.5.0",
          "state": {
            "_model_module": "@jupyter-widgets/controls",
            "_model_module_version": "1.5.0",
            "_model_name": "ProgressStyleModel",
            "_view_count": null,
            "_view_module": "@jupyter-widgets/base",
            "_view_module_version": "1.2.0",
            "_view_name": "StyleView",
            "bar_color": null,
            "description_width": ""
          }
        },
<<<<<<< HEAD
<<<<<<< HEAD
        "bd258b27855045819b7998ca994a7d8d": {
=======
        "7886d54d62eb40f88a6c99ae8e895acb": {
>>>>>>> 043a282815e330e79882eb927d74c15f11ae2ce2
=======
        "7886d54d62eb40f88a6c99ae8e895acb": {
>>>>>>> 8d31783db698437b09448df3e24b6b6699ee0f70
          "model_module": "@jupyter-widgets/base",
          "model_name": "LayoutModel",
          "model_module_version": "1.2.0",
          "state": {
            "_model_module": "@jupyter-widgets/base",
            "_model_module_version": "1.2.0",
            "_model_name": "LayoutModel",
            "_view_count": null,
            "_view_module": "@jupyter-widgets/base",
            "_view_module_version": "1.2.0",
            "_view_name": "LayoutView",
            "align_content": null,
            "align_items": null,
            "align_self": null,
            "border": null,
            "bottom": null,
            "display": null,
            "flex": null,
            "flex_flow": null,
            "grid_area": null,
            "grid_auto_columns": null,
            "grid_auto_flow": null,
            "grid_auto_rows": null,
            "grid_column": null,
            "grid_gap": null,
            "grid_row": null,
            "grid_template_areas": null,
            "grid_template_columns": null,
            "grid_template_rows": null,
            "height": null,
            "justify_content": null,
            "justify_items": null,
            "left": null,
            "margin": null,
            "max_height": null,
            "max_width": null,
            "min_height": null,
            "min_width": null,
            "object_fit": null,
            "object_position": null,
            "order": null,
            "overflow": null,
            "overflow_x": null,
            "overflow_y": null,
            "padding": null,
            "right": null,
            "top": null,
            "visibility": null,
            "width": null
          }
        },
<<<<<<< HEAD
<<<<<<< HEAD
        "5ede7b4d59054bd1af62d9e3c25aadff": {
=======
        "3c21753b0e954918b290efae5e5d504e": {
>>>>>>> 043a282815e330e79882eb927d74c15f11ae2ce2
=======
        "3c21753b0e954918b290efae5e5d504e": {
>>>>>>> 8d31783db698437b09448df3e24b6b6699ee0f70
          "model_module": "@jupyter-widgets/controls",
          "model_name": "DescriptionStyleModel",
          "model_module_version": "1.5.0",
          "state": {
            "_model_module": "@jupyter-widgets/controls",
            "_model_module_version": "1.5.0",
            "_model_name": "DescriptionStyleModel",
            "_view_count": null,
            "_view_module": "@jupyter-widgets/base",
            "_view_module_version": "1.2.0",
            "_view_name": "StyleView",
            "description_width": ""
          }
        },
<<<<<<< HEAD
<<<<<<< HEAD
        "e33bc12fe0194a81a50075a3e15cff36": {
=======
        "38462fd9b8444b34a81125bbf0443da0": {
>>>>>>> 043a282815e330e79882eb927d74c15f11ae2ce2
=======
        "38462fd9b8444b34a81125bbf0443da0": {
>>>>>>> 8d31783db698437b09448df3e24b6b6699ee0f70
          "model_module": "@jupyter-widgets/controls",
          "model_name": "HBoxModel",
          "model_module_version": "1.5.0",
          "state": {
            "_dom_classes": [],
            "_model_module": "@jupyter-widgets/controls",
            "_model_module_version": "1.5.0",
            "_model_name": "HBoxModel",
            "_view_count": null,
            "_view_module": "@jupyter-widgets/controls",
            "_view_module_version": "1.5.0",
            "_view_name": "HBoxView",
            "box_style": "",
            "children": [
<<<<<<< HEAD
<<<<<<< HEAD
              "IPY_MODEL_aec70ad5b6664415a8196d89f28921aa",
              "IPY_MODEL_5926f66d72624168b8a26a12c12edf62",
              "IPY_MODEL_199ea6d76ded4d39bd93506f7af97137"
            ],
            "layout": "IPY_MODEL_1667978ee49c4385b0c0688d58a49243"
          }
        },
        "aec70ad5b6664415a8196d89f28921aa": {
=======
=======
>>>>>>> 8d31783db698437b09448df3e24b6b6699ee0f70
              "IPY_MODEL_a7d97fa5539d489bbb3cef5853e67095",
              "IPY_MODEL_d6f3d4e796e64c67ada62d0b9381055d",
              "IPY_MODEL_0cab989570334bdaa5e6b915c8f2b349"
            ],
            "layout": "IPY_MODEL_12dbabc66edc47df987f3bec6477bc94"
          }
        },
        "a7d97fa5539d489bbb3cef5853e67095": {
<<<<<<< HEAD
>>>>>>> 043a282815e330e79882eb927d74c15f11ae2ce2
=======
>>>>>>> 8d31783db698437b09448df3e24b6b6699ee0f70
          "model_module": "@jupyter-widgets/controls",
          "model_name": "HTMLModel",
          "model_module_version": "1.5.0",
          "state": {
            "_dom_classes": [],
            "_model_module": "@jupyter-widgets/controls",
            "_model_module_version": "1.5.0",
            "_model_name": "HTMLModel",
            "_view_count": null,
            "_view_module": "@jupyter-widgets/controls",
            "_view_module_version": "1.5.0",
            "_view_name": "HTMLView",
            "description": "",
            "description_tooltip": null,
<<<<<<< HEAD
<<<<<<< HEAD
            "layout": "IPY_MODEL_c4522429053942d6bf2fa0fbbf4cdeb7",
            "placeholder": "​",
            "style": "IPY_MODEL_aa1af6a504c64785a34f7aa42966a787",
            "value": "100%"
          }
        },
        "5926f66d72624168b8a26a12c12edf62": {
=======
=======
>>>>>>> 8d31783db698437b09448df3e24b6b6699ee0f70
            "layout": "IPY_MODEL_fb271eb98e4247b48086c7d2d10f4c24",
            "placeholder": "​",
            "style": "IPY_MODEL_058712915c1c4d428115f6c2a4e8b922",
            "value": "100%"
          }
        },
        "d6f3d4e796e64c67ada62d0b9381055d": {
<<<<<<< HEAD
>>>>>>> 043a282815e330e79882eb927d74c15f11ae2ce2
=======
>>>>>>> 8d31783db698437b09448df3e24b6b6699ee0f70
          "model_module": "@jupyter-widgets/controls",
          "model_name": "FloatProgressModel",
          "model_module_version": "1.5.0",
          "state": {
            "_dom_classes": [],
            "_model_module": "@jupyter-widgets/controls",
            "_model_module_version": "1.5.0",
            "_model_name": "FloatProgressModel",
            "_view_count": null,
            "_view_module": "@jupyter-widgets/controls",
            "_view_module_version": "1.5.0",
            "_view_name": "ProgressView",
            "bar_style": "success",
            "description": "",
            "description_tooltip": null,
<<<<<<< HEAD
<<<<<<< HEAD
            "layout": "IPY_MODEL_1c86b2dd1cfb427292cd390330f860ce",
            "max": 136,
            "min": 0,
            "orientation": "horizontal",
            "style": "IPY_MODEL_cbac21837a0a42e8ad2314345d768f1b",
            "value": 136
          }
        },
        "199ea6d76ded4d39bd93506f7af97137": {
=======
=======
>>>>>>> 8d31783db698437b09448df3e24b6b6699ee0f70
            "layout": "IPY_MODEL_c56743cefea8486d9f51827726a3525a",
            "max": 136,
            "min": 0,
            "orientation": "horizontal",
            "style": "IPY_MODEL_83fb1712637e4b1d9bb70ebf56e6ab1d",
            "value": 136
          }
        },
        "0cab989570334bdaa5e6b915c8f2b349": {
<<<<<<< HEAD
>>>>>>> 043a282815e330e79882eb927d74c15f11ae2ce2
=======
>>>>>>> 8d31783db698437b09448df3e24b6b6699ee0f70
          "model_module": "@jupyter-widgets/controls",
          "model_name": "HTMLModel",
          "model_module_version": "1.5.0",
          "state": {
            "_dom_classes": [],
            "_model_module": "@jupyter-widgets/controls",
            "_model_module_version": "1.5.0",
            "_model_name": "HTMLModel",
            "_view_count": null,
            "_view_module": "@jupyter-widgets/controls",
            "_view_module_version": "1.5.0",
            "_view_name": "HTMLView",
            "description": "",
            "description_tooltip": null,
<<<<<<< HEAD
<<<<<<< HEAD
            "layout": "IPY_MODEL_6ff8b9e2eaf94591a1b95d65d596a63f",
            "placeholder": "​",
            "style": "IPY_MODEL_c8a055ea63fd468a91659f7c952b17a3",
            "value": " 136/136 [00:00&lt;00:00, 261.31it/s]"
          }
        },
        "1667978ee49c4385b0c0688d58a49243": {
=======
=======
>>>>>>> 8d31783db698437b09448df3e24b6b6699ee0f70
            "layout": "IPY_MODEL_61782773033441059248b8c118dfe23b",
            "placeholder": "​",
            "style": "IPY_MODEL_63253b5d027e4baa8188301223768b71",
            "value": " 136/136 [00:00&lt;00:00, 279.71it/s]"
          }
        },
        "12dbabc66edc47df987f3bec6477bc94": {
<<<<<<< HEAD
>>>>>>> 043a282815e330e79882eb927d74c15f11ae2ce2
=======
>>>>>>> 8d31783db698437b09448df3e24b6b6699ee0f70
          "model_module": "@jupyter-widgets/base",
          "model_name": "LayoutModel",
          "model_module_version": "1.2.0",
          "state": {
            "_model_module": "@jupyter-widgets/base",
            "_model_module_version": "1.2.0",
            "_model_name": "LayoutModel",
            "_view_count": null,
            "_view_module": "@jupyter-widgets/base",
            "_view_module_version": "1.2.0",
            "_view_name": "LayoutView",
            "align_content": null,
            "align_items": null,
            "align_self": null,
            "border": null,
            "bottom": null,
            "display": null,
            "flex": null,
            "flex_flow": null,
            "grid_area": null,
            "grid_auto_columns": null,
            "grid_auto_flow": null,
            "grid_auto_rows": null,
            "grid_column": null,
            "grid_gap": null,
            "grid_row": null,
            "grid_template_areas": null,
            "grid_template_columns": null,
            "grid_template_rows": null,
            "height": null,
            "justify_content": null,
            "justify_items": null,
            "left": null,
            "margin": null,
            "max_height": null,
            "max_width": null,
            "min_height": null,
            "min_width": null,
            "object_fit": null,
            "object_position": null,
            "order": null,
            "overflow": null,
            "overflow_x": null,
            "overflow_y": null,
            "padding": null,
            "right": null,
            "top": null,
            "visibility": null,
            "width": null
          }
        },
<<<<<<< HEAD
<<<<<<< HEAD
        "c4522429053942d6bf2fa0fbbf4cdeb7": {
=======
        "fb271eb98e4247b48086c7d2d10f4c24": {
>>>>>>> 043a282815e330e79882eb927d74c15f11ae2ce2
=======
        "fb271eb98e4247b48086c7d2d10f4c24": {
>>>>>>> 8d31783db698437b09448df3e24b6b6699ee0f70
          "model_module": "@jupyter-widgets/base",
          "model_name": "LayoutModel",
          "model_module_version": "1.2.0",
          "state": {
            "_model_module": "@jupyter-widgets/base",
            "_model_module_version": "1.2.0",
            "_model_name": "LayoutModel",
            "_view_count": null,
            "_view_module": "@jupyter-widgets/base",
            "_view_module_version": "1.2.0",
            "_view_name": "LayoutView",
            "align_content": null,
            "align_items": null,
            "align_self": null,
            "border": null,
            "bottom": null,
            "display": null,
            "flex": null,
            "flex_flow": null,
            "grid_area": null,
            "grid_auto_columns": null,
            "grid_auto_flow": null,
            "grid_auto_rows": null,
            "grid_column": null,
            "grid_gap": null,
            "grid_row": null,
            "grid_template_areas": null,
            "grid_template_columns": null,
            "grid_template_rows": null,
            "height": null,
            "justify_content": null,
            "justify_items": null,
            "left": null,
            "margin": null,
            "max_height": null,
            "max_width": null,
            "min_height": null,
            "min_width": null,
            "object_fit": null,
            "object_position": null,
            "order": null,
            "overflow": null,
            "overflow_x": null,
            "overflow_y": null,
            "padding": null,
            "right": null,
            "top": null,
            "visibility": null,
            "width": null
          }
        },
<<<<<<< HEAD
<<<<<<< HEAD
        "aa1af6a504c64785a34f7aa42966a787": {
=======
        "058712915c1c4d428115f6c2a4e8b922": {
>>>>>>> 043a282815e330e79882eb927d74c15f11ae2ce2
=======
        "058712915c1c4d428115f6c2a4e8b922": {
>>>>>>> 8d31783db698437b09448df3e24b6b6699ee0f70
          "model_module": "@jupyter-widgets/controls",
          "model_name": "DescriptionStyleModel",
          "model_module_version": "1.5.0",
          "state": {
            "_model_module": "@jupyter-widgets/controls",
            "_model_module_version": "1.5.0",
            "_model_name": "DescriptionStyleModel",
            "_view_count": null,
            "_view_module": "@jupyter-widgets/base",
            "_view_module_version": "1.2.0",
            "_view_name": "StyleView",
            "description_width": ""
          }
        },
<<<<<<< HEAD
<<<<<<< HEAD
        "1c86b2dd1cfb427292cd390330f860ce": {
=======
        "c56743cefea8486d9f51827726a3525a": {
>>>>>>> 043a282815e330e79882eb927d74c15f11ae2ce2
=======
        "c56743cefea8486d9f51827726a3525a": {
>>>>>>> 8d31783db698437b09448df3e24b6b6699ee0f70
          "model_module": "@jupyter-widgets/base",
          "model_name": "LayoutModel",
          "model_module_version": "1.2.0",
          "state": {
            "_model_module": "@jupyter-widgets/base",
            "_model_module_version": "1.2.0",
            "_model_name": "LayoutModel",
            "_view_count": null,
            "_view_module": "@jupyter-widgets/base",
            "_view_module_version": "1.2.0",
            "_view_name": "LayoutView",
            "align_content": null,
            "align_items": null,
            "align_self": null,
            "border": null,
            "bottom": null,
            "display": null,
            "flex": null,
            "flex_flow": null,
            "grid_area": null,
            "grid_auto_columns": null,
            "grid_auto_flow": null,
            "grid_auto_rows": null,
            "grid_column": null,
            "grid_gap": null,
            "grid_row": null,
            "grid_template_areas": null,
            "grid_template_columns": null,
            "grid_template_rows": null,
            "height": null,
            "justify_content": null,
            "justify_items": null,
            "left": null,
            "margin": null,
            "max_height": null,
            "max_width": null,
            "min_height": null,
            "min_width": null,
            "object_fit": null,
            "object_position": null,
            "order": null,
            "overflow": null,
            "overflow_x": null,
            "overflow_y": null,
            "padding": null,
            "right": null,
            "top": null,
            "visibility": null,
            "width": null
          }
        },
<<<<<<< HEAD
<<<<<<< HEAD
        "cbac21837a0a42e8ad2314345d768f1b": {
=======
        "83fb1712637e4b1d9bb70ebf56e6ab1d": {
>>>>>>> 043a282815e330e79882eb927d74c15f11ae2ce2
=======
        "83fb1712637e4b1d9bb70ebf56e6ab1d": {
>>>>>>> 8d31783db698437b09448df3e24b6b6699ee0f70
          "model_module": "@jupyter-widgets/controls",
          "model_name": "ProgressStyleModel",
          "model_module_version": "1.5.0",
          "state": {
            "_model_module": "@jupyter-widgets/controls",
            "_model_module_version": "1.5.0",
            "_model_name": "ProgressStyleModel",
            "_view_count": null,
            "_view_module": "@jupyter-widgets/base",
            "_view_module_version": "1.2.0",
            "_view_name": "StyleView",
            "bar_color": null,
            "description_width": ""
          }
        },
<<<<<<< HEAD
<<<<<<< HEAD
        "6ff8b9e2eaf94591a1b95d65d596a63f": {
=======
        "61782773033441059248b8c118dfe23b": {
>>>>>>> 043a282815e330e79882eb927d74c15f11ae2ce2
=======
        "61782773033441059248b8c118dfe23b": {
>>>>>>> 8d31783db698437b09448df3e24b6b6699ee0f70
          "model_module": "@jupyter-widgets/base",
          "model_name": "LayoutModel",
          "model_module_version": "1.2.0",
          "state": {
            "_model_module": "@jupyter-widgets/base",
            "_model_module_version": "1.2.0",
            "_model_name": "LayoutModel",
            "_view_count": null,
            "_view_module": "@jupyter-widgets/base",
            "_view_module_version": "1.2.0",
            "_view_name": "LayoutView",
            "align_content": null,
            "align_items": null,
            "align_self": null,
            "border": null,
            "bottom": null,
            "display": null,
            "flex": null,
            "flex_flow": null,
            "grid_area": null,
            "grid_auto_columns": null,
            "grid_auto_flow": null,
            "grid_auto_rows": null,
            "grid_column": null,
            "grid_gap": null,
            "grid_row": null,
            "grid_template_areas": null,
            "grid_template_columns": null,
            "grid_template_rows": null,
            "height": null,
            "justify_content": null,
            "justify_items": null,
            "left": null,
            "margin": null,
            "max_height": null,
            "max_width": null,
            "min_height": null,
            "min_width": null,
            "object_fit": null,
            "object_position": null,
            "order": null,
            "overflow": null,
            "overflow_x": null,
            "overflow_y": null,
            "padding": null,
            "right": null,
            "top": null,
            "visibility": null,
            "width": null
          }
        },
<<<<<<< HEAD
<<<<<<< HEAD
        "c8a055ea63fd468a91659f7c952b17a3": {
=======
        "63253b5d027e4baa8188301223768b71": {
>>>>>>> 043a282815e330e79882eb927d74c15f11ae2ce2
=======
        "63253b5d027e4baa8188301223768b71": {
>>>>>>> 8d31783db698437b09448df3e24b6b6699ee0f70
          "model_module": "@jupyter-widgets/controls",
          "model_name": "DescriptionStyleModel",
          "model_module_version": "1.5.0",
          "state": {
            "_model_module": "@jupyter-widgets/controls",
            "_model_module_version": "1.5.0",
            "_model_name": "DescriptionStyleModel",
            "_view_count": null,
            "_view_module": "@jupyter-widgets/base",
            "_view_module_version": "1.2.0",
            "_view_name": "StyleView",
            "description_width": ""
          }
        },
<<<<<<< HEAD
<<<<<<< HEAD
        "9f2853f37e294cf3ad6a0dd197db820c": {
=======
        "ca317766fc5e44fda2feec42c385bf91": {
>>>>>>> 043a282815e330e79882eb927d74c15f11ae2ce2
=======
        "ca317766fc5e44fda2feec42c385bf91": {
>>>>>>> 8d31783db698437b09448df3e24b6b6699ee0f70
          "model_module": "@jupyter-widgets/controls",
          "model_name": "HBoxModel",
          "model_module_version": "1.5.0",
          "state": {
            "_dom_classes": [],
            "_model_module": "@jupyter-widgets/controls",
            "_model_module_version": "1.5.0",
            "_model_name": "HBoxModel",
            "_view_count": null,
            "_view_module": "@jupyter-widgets/controls",
            "_view_module_version": "1.5.0",
            "_view_name": "HBoxView",
            "box_style": "",
            "children": [
<<<<<<< HEAD
<<<<<<< HEAD
              "IPY_MODEL_15e199cb0ce340848da6aa3812e3ecfa",
              "IPY_MODEL_f27764b1c6aa44b289c79b2deab57182",
              "IPY_MODEL_265857cc82cb4821818e4707ef952546"
            ],
            "layout": "IPY_MODEL_f7229cd55e2c46a4bcce59dfa7546834"
          }
        },
        "15e199cb0ce340848da6aa3812e3ecfa": {
=======
=======
>>>>>>> 8d31783db698437b09448df3e24b6b6699ee0f70
              "IPY_MODEL_a0b0754f9207469fa770e71e07ffc3fb",
              "IPY_MODEL_020eb9e4fbea401a8620ff92b934b537",
              "IPY_MODEL_ff613936e0b24ba3ab56df4dd1698536"
            ],
            "layout": "IPY_MODEL_8eed8fb502f14aa0bef6e04a81129759"
          }
        },
        "a0b0754f9207469fa770e71e07ffc3fb": {
<<<<<<< HEAD
>>>>>>> 043a282815e330e79882eb927d74c15f11ae2ce2
=======
>>>>>>> 8d31783db698437b09448df3e24b6b6699ee0f70
          "model_module": "@jupyter-widgets/controls",
          "model_name": "HTMLModel",
          "model_module_version": "1.5.0",
          "state": {
            "_dom_classes": [],
            "_model_module": "@jupyter-widgets/controls",
            "_model_module_version": "1.5.0",
            "_model_name": "HTMLModel",
            "_view_count": null,
            "_view_module": "@jupyter-widgets/controls",
            "_view_module_version": "1.5.0",
            "_view_name": "HTMLView",
            "description": "",
            "description_tooltip": null,
<<<<<<< HEAD
<<<<<<< HEAD
            "layout": "IPY_MODEL_a610f7c0644848f19ec85501db2882f9",
            "placeholder": "​",
            "style": "IPY_MODEL_b2f9f9ec45bd47808c76ef337a8e748e",
            "value": " 96%"
          }
        },
        "f27764b1c6aa44b289c79b2deab57182": {
=======
=======
>>>>>>> 8d31783db698437b09448df3e24b6b6699ee0f70
            "layout": "IPY_MODEL_760ccbbf21364de181f1431d0c1dc36c",
            "placeholder": "​",
            "style": "IPY_MODEL_e5ca2cacde5949ebb989b4d2abacd3e2",
            "value": " 96%"
          }
        },
        "020eb9e4fbea401a8620ff92b934b537": {
<<<<<<< HEAD
>>>>>>> 043a282815e330e79882eb927d74c15f11ae2ce2
=======
>>>>>>> 8d31783db698437b09448df3e24b6b6699ee0f70
          "model_module": "@jupyter-widgets/controls",
          "model_name": "FloatProgressModel",
          "model_module_version": "1.5.0",
          "state": {
            "_dom_classes": [],
            "_model_module": "@jupyter-widgets/controls",
            "_model_module_version": "1.5.0",
            "_model_name": "FloatProgressModel",
            "_view_count": null,
            "_view_module": "@jupyter-widgets/controls",
            "_view_module_version": "1.5.0",
            "_view_name": "ProgressView",
            "bar_style": "danger",
            "description": "",
            "description_tooltip": null,
<<<<<<< HEAD
<<<<<<< HEAD
            "layout": "IPY_MODEL_59840b61e9ce4e18b7a59f644bdff788",
            "max": 135,
            "min": 0,
            "orientation": "horizontal",
            "style": "IPY_MODEL_8463860dfc1c4ab89e660ed1f996ad53",
            "value": 129
          }
        },
        "265857cc82cb4821818e4707ef952546": {
=======
=======
>>>>>>> 8d31783db698437b09448df3e24b6b6699ee0f70
            "layout": "IPY_MODEL_e98299ca661e4ff09c8bf52ed44e88cd",
            "max": 135,
            "min": 0,
            "orientation": "horizontal",
            "style": "IPY_MODEL_cb85918ae23141f6adf245f8adfe3e15",
            "value": 129
          }
        },
        "ff613936e0b24ba3ab56df4dd1698536": {
<<<<<<< HEAD
>>>>>>> 043a282815e330e79882eb927d74c15f11ae2ce2
=======
>>>>>>> 8d31783db698437b09448df3e24b6b6699ee0f70
          "model_module": "@jupyter-widgets/controls",
          "model_name": "HTMLModel",
          "model_module_version": "1.5.0",
          "state": {
            "_dom_classes": [],
            "_model_module": "@jupyter-widgets/controls",
            "_model_module_version": "1.5.0",
            "_model_name": "HTMLModel",
            "_view_count": null,
            "_view_module": "@jupyter-widgets/controls",
            "_view_module_version": "1.5.0",
            "_view_name": "HTMLView",
            "description": "",
            "description_tooltip": null,
<<<<<<< HEAD
<<<<<<< HEAD
            "layout": "IPY_MODEL_4b2f6ef0956f4c1788c47bcfffc93fec",
            "placeholder": "​",
            "style": "IPY_MODEL_9c4b92e3894648c09fd19d53b21200be",
            "value": " 129/135 [00:00&lt;00:00, 265.00it/s]"
          }
        },
        "f7229cd55e2c46a4bcce59dfa7546834": {
=======
=======
>>>>>>> 8d31783db698437b09448df3e24b6b6699ee0f70
            "layout": "IPY_MODEL_f9f04dd36b3a41d9af8a1489fcbe6cbb",
            "placeholder": "​",
            "style": "IPY_MODEL_3de086548afc4e4eb2371c23405a07db",
            "value": " 129/135 [00:00&lt;00:00, 280.71it/s]"
          }
        },
        "8eed8fb502f14aa0bef6e04a81129759": {
<<<<<<< HEAD
>>>>>>> 043a282815e330e79882eb927d74c15f11ae2ce2
=======
>>>>>>> 8d31783db698437b09448df3e24b6b6699ee0f70
          "model_module": "@jupyter-widgets/base",
          "model_name": "LayoutModel",
          "model_module_version": "1.2.0",
          "state": {
            "_model_module": "@jupyter-widgets/base",
            "_model_module_version": "1.2.0",
            "_model_name": "LayoutModel",
            "_view_count": null,
            "_view_module": "@jupyter-widgets/base",
            "_view_module_version": "1.2.0",
            "_view_name": "LayoutView",
            "align_content": null,
            "align_items": null,
            "align_self": null,
            "border": null,
            "bottom": null,
            "display": null,
            "flex": null,
            "flex_flow": null,
            "grid_area": null,
            "grid_auto_columns": null,
            "grid_auto_flow": null,
            "grid_auto_rows": null,
            "grid_column": null,
            "grid_gap": null,
            "grid_row": null,
            "grid_template_areas": null,
            "grid_template_columns": null,
            "grid_template_rows": null,
            "height": null,
            "justify_content": null,
            "justify_items": null,
            "left": null,
            "margin": null,
            "max_height": null,
            "max_width": null,
            "min_height": null,
            "min_width": null,
            "object_fit": null,
            "object_position": null,
            "order": null,
            "overflow": null,
            "overflow_x": null,
            "overflow_y": null,
            "padding": null,
            "right": null,
            "top": null,
            "visibility": null,
            "width": null
          }
        },
<<<<<<< HEAD
<<<<<<< HEAD
        "a610f7c0644848f19ec85501db2882f9": {
=======
        "760ccbbf21364de181f1431d0c1dc36c": {
>>>>>>> 043a282815e330e79882eb927d74c15f11ae2ce2
=======
        "760ccbbf21364de181f1431d0c1dc36c": {
>>>>>>> 8d31783db698437b09448df3e24b6b6699ee0f70
          "model_module": "@jupyter-widgets/base",
          "model_name": "LayoutModel",
          "model_module_version": "1.2.0",
          "state": {
            "_model_module": "@jupyter-widgets/base",
            "_model_module_version": "1.2.0",
            "_model_name": "LayoutModel",
            "_view_count": null,
            "_view_module": "@jupyter-widgets/base",
            "_view_module_version": "1.2.0",
            "_view_name": "LayoutView",
            "align_content": null,
            "align_items": null,
            "align_self": null,
            "border": null,
            "bottom": null,
            "display": null,
            "flex": null,
            "flex_flow": null,
            "grid_area": null,
            "grid_auto_columns": null,
            "grid_auto_flow": null,
            "grid_auto_rows": null,
            "grid_column": null,
            "grid_gap": null,
            "grid_row": null,
            "grid_template_areas": null,
            "grid_template_columns": null,
            "grid_template_rows": null,
            "height": null,
            "justify_content": null,
            "justify_items": null,
            "left": null,
            "margin": null,
            "max_height": null,
            "max_width": null,
            "min_height": null,
            "min_width": null,
            "object_fit": null,
            "object_position": null,
            "order": null,
            "overflow": null,
            "overflow_x": null,
            "overflow_y": null,
            "padding": null,
            "right": null,
            "top": null,
            "visibility": null,
            "width": null
          }
        },
<<<<<<< HEAD
<<<<<<< HEAD
        "b2f9f9ec45bd47808c76ef337a8e748e": {
=======
        "e5ca2cacde5949ebb989b4d2abacd3e2": {
>>>>>>> 043a282815e330e79882eb927d74c15f11ae2ce2
=======
        "e5ca2cacde5949ebb989b4d2abacd3e2": {
>>>>>>> 8d31783db698437b09448df3e24b6b6699ee0f70
          "model_module": "@jupyter-widgets/controls",
          "model_name": "DescriptionStyleModel",
          "model_module_version": "1.5.0",
          "state": {
            "_model_module": "@jupyter-widgets/controls",
            "_model_module_version": "1.5.0",
            "_model_name": "DescriptionStyleModel",
            "_view_count": null,
            "_view_module": "@jupyter-widgets/base",
            "_view_module_version": "1.2.0",
            "_view_name": "StyleView",
            "description_width": ""
          }
        },
<<<<<<< HEAD
<<<<<<< HEAD
        "59840b61e9ce4e18b7a59f644bdff788": {
=======
        "e98299ca661e4ff09c8bf52ed44e88cd": {
>>>>>>> 043a282815e330e79882eb927d74c15f11ae2ce2
=======
        "e98299ca661e4ff09c8bf52ed44e88cd": {
>>>>>>> 8d31783db698437b09448df3e24b6b6699ee0f70
          "model_module": "@jupyter-widgets/base",
          "model_name": "LayoutModel",
          "model_module_version": "1.2.0",
          "state": {
            "_model_module": "@jupyter-widgets/base",
            "_model_module_version": "1.2.0",
            "_model_name": "LayoutModel",
            "_view_count": null,
            "_view_module": "@jupyter-widgets/base",
            "_view_module_version": "1.2.0",
            "_view_name": "LayoutView",
            "align_content": null,
            "align_items": null,
            "align_self": null,
            "border": null,
            "bottom": null,
            "display": null,
            "flex": null,
            "flex_flow": null,
            "grid_area": null,
            "grid_auto_columns": null,
            "grid_auto_flow": null,
            "grid_auto_rows": null,
            "grid_column": null,
            "grid_gap": null,
            "grid_row": null,
            "grid_template_areas": null,
            "grid_template_columns": null,
            "grid_template_rows": null,
            "height": null,
            "justify_content": null,
            "justify_items": null,
            "left": null,
            "margin": null,
            "max_height": null,
            "max_width": null,
            "min_height": null,
            "min_width": null,
            "object_fit": null,
            "object_position": null,
            "order": null,
            "overflow": null,
            "overflow_x": null,
            "overflow_y": null,
            "padding": null,
            "right": null,
            "top": null,
            "visibility": null,
            "width": null
          }
        },
<<<<<<< HEAD
<<<<<<< HEAD
        "8463860dfc1c4ab89e660ed1f996ad53": {
=======
        "cb85918ae23141f6adf245f8adfe3e15": {
>>>>>>> 043a282815e330e79882eb927d74c15f11ae2ce2
=======
        "cb85918ae23141f6adf245f8adfe3e15": {
>>>>>>> 8d31783db698437b09448df3e24b6b6699ee0f70
          "model_module": "@jupyter-widgets/controls",
          "model_name": "ProgressStyleModel",
          "model_module_version": "1.5.0",
          "state": {
            "_model_module": "@jupyter-widgets/controls",
            "_model_module_version": "1.5.0",
            "_model_name": "ProgressStyleModel",
            "_view_count": null,
            "_view_module": "@jupyter-widgets/base",
            "_view_module_version": "1.2.0",
            "_view_name": "StyleView",
            "bar_color": null,
            "description_width": ""
          }
        },
<<<<<<< HEAD
<<<<<<< HEAD
        "4b2f6ef0956f4c1788c47bcfffc93fec": {
=======
        "f9f04dd36b3a41d9af8a1489fcbe6cbb": {
>>>>>>> 043a282815e330e79882eb927d74c15f11ae2ce2
=======
        "f9f04dd36b3a41d9af8a1489fcbe6cbb": {
>>>>>>> 8d31783db698437b09448df3e24b6b6699ee0f70
          "model_module": "@jupyter-widgets/base",
          "model_name": "LayoutModel",
          "model_module_version": "1.2.0",
          "state": {
            "_model_module": "@jupyter-widgets/base",
            "_model_module_version": "1.2.0",
            "_model_name": "LayoutModel",
            "_view_count": null,
            "_view_module": "@jupyter-widgets/base",
            "_view_module_version": "1.2.0",
            "_view_name": "LayoutView",
            "align_content": null,
            "align_items": null,
            "align_self": null,
            "border": null,
            "bottom": null,
            "display": null,
            "flex": null,
            "flex_flow": null,
            "grid_area": null,
            "grid_auto_columns": null,
            "grid_auto_flow": null,
            "grid_auto_rows": null,
            "grid_column": null,
            "grid_gap": null,
            "grid_row": null,
            "grid_template_areas": null,
            "grid_template_columns": null,
            "grid_template_rows": null,
            "height": null,
            "justify_content": null,
            "justify_items": null,
            "left": null,
            "margin": null,
            "max_height": null,
            "max_width": null,
            "min_height": null,
            "min_width": null,
            "object_fit": null,
            "object_position": null,
            "order": null,
            "overflow": null,
            "overflow_x": null,
            "overflow_y": null,
            "padding": null,
            "right": null,
            "top": null,
            "visibility": null,
            "width": null
          }
        },
<<<<<<< HEAD
<<<<<<< HEAD
        "9c4b92e3894648c09fd19d53b21200be": {
=======
        "3de086548afc4e4eb2371c23405a07db": {
>>>>>>> 043a282815e330e79882eb927d74c15f11ae2ce2
=======
        "3de086548afc4e4eb2371c23405a07db": {
>>>>>>> 8d31783db698437b09448df3e24b6b6699ee0f70
          "model_module": "@jupyter-widgets/controls",
          "model_name": "DescriptionStyleModel",
          "model_module_version": "1.5.0",
          "state": {
            "_model_module": "@jupyter-widgets/controls",
            "_model_module_version": "1.5.0",
            "_model_name": "DescriptionStyleModel",
            "_view_count": null,
            "_view_module": "@jupyter-widgets/base",
            "_view_module_version": "1.2.0",
            "_view_name": "StyleView",
            "description_width": ""
          }
        },
<<<<<<< HEAD
<<<<<<< HEAD
        "64392077239d4fc9baa234bbc018c660": {
=======
        "95e8fc84609f417599cae884bfb839e6": {
>>>>>>> 043a282815e330e79882eb927d74c15f11ae2ce2
=======
        "95e8fc84609f417599cae884bfb839e6": {
>>>>>>> 8d31783db698437b09448df3e24b6b6699ee0f70
          "model_module": "@jupyter-widgets/controls",
          "model_name": "HBoxModel",
          "model_module_version": "1.5.0",
          "state": {
            "_dom_classes": [],
            "_model_module": "@jupyter-widgets/controls",
            "_model_module_version": "1.5.0",
            "_model_name": "HBoxModel",
            "_view_count": null,
            "_view_module": "@jupyter-widgets/controls",
            "_view_module_version": "1.5.0",
            "_view_name": "HBoxView",
            "box_style": "",
            "children": [
<<<<<<< HEAD
<<<<<<< HEAD
              "IPY_MODEL_2dec8665420a4a80a35fa21270dbe6c8",
              "IPY_MODEL_863ebed384204341bfcb6a5065bb82d4",
              "IPY_MODEL_fd1a3f2d75514ca2b3d8d798e22121df"
            ],
            "layout": "IPY_MODEL_eed254b473d04f69a60c7047a1ab6e10"
          }
        },
        "2dec8665420a4a80a35fa21270dbe6c8": {
=======
=======
>>>>>>> 8d31783db698437b09448df3e24b6b6699ee0f70
              "IPY_MODEL_21c77a0290084c7c91128698c95e5d2b",
              "IPY_MODEL_055465bd763e41649ad59b9855345050",
              "IPY_MODEL_fe7d3c3276934ec8b283060be367ff75"
            ],
            "layout": "IPY_MODEL_6a91e1b9a4ec4a3eab7c74a4a1343b9f"
          }
        },
        "21c77a0290084c7c91128698c95e5d2b": {
<<<<<<< HEAD
>>>>>>> 043a282815e330e79882eb927d74c15f11ae2ce2
=======
>>>>>>> 8d31783db698437b09448df3e24b6b6699ee0f70
          "model_module": "@jupyter-widgets/controls",
          "model_name": "HTMLModel",
          "model_module_version": "1.5.0",
          "state": {
            "_dom_classes": [],
            "_model_module": "@jupyter-widgets/controls",
            "_model_module_version": "1.5.0",
            "_model_name": "HTMLModel",
            "_view_count": null,
            "_view_module": "@jupyter-widgets/controls",
            "_view_module_version": "1.5.0",
            "_view_name": "HTMLView",
            "description": "",
            "description_tooltip": null,
<<<<<<< HEAD
<<<<<<< HEAD
            "layout": "IPY_MODEL_1daf6e089b844a62a8c2a5299b200e6d",
            "placeholder": "​",
            "style": "IPY_MODEL_2aae09a5580046baa941a1f586928998",
            "value": " 96%"
          }
        },
        "863ebed384204341bfcb6a5065bb82d4": {
=======
=======
>>>>>>> 8d31783db698437b09448df3e24b6b6699ee0f70
            "layout": "IPY_MODEL_89ec39650ced4c889e6a7572085aa93b",
            "placeholder": "​",
            "style": "IPY_MODEL_d5b97eaf5fbd4101899c7ad7181cd2ff",
            "value": " 96%"
          }
        },
        "055465bd763e41649ad59b9855345050": {
<<<<<<< HEAD
>>>>>>> 043a282815e330e79882eb927d74c15f11ae2ce2
=======
>>>>>>> 8d31783db698437b09448df3e24b6b6699ee0f70
          "model_module": "@jupyter-widgets/controls",
          "model_name": "FloatProgressModel",
          "model_module_version": "1.5.0",
          "state": {
            "_dom_classes": [],
            "_model_module": "@jupyter-widgets/controls",
            "_model_module_version": "1.5.0",
            "_model_name": "FloatProgressModel",
            "_view_count": null,
            "_view_module": "@jupyter-widgets/controls",
            "_view_module_version": "1.5.0",
            "_view_name": "ProgressView",
            "bar_style": "danger",
            "description": "",
            "description_tooltip": null,
<<<<<<< HEAD
<<<<<<< HEAD
            "layout": "IPY_MODEL_e4f6642bc38743e88a59cc44983e5296",
            "max": 135,
            "min": 0,
            "orientation": "horizontal",
            "style": "IPY_MODEL_3a317a45640f4b8cb99c99d37f3eb72c",
            "value": 129
          }
        },
        "fd1a3f2d75514ca2b3d8d798e22121df": {
=======
=======
>>>>>>> 8d31783db698437b09448df3e24b6b6699ee0f70
            "layout": "IPY_MODEL_d4b20ebe75204ec2b3a751b5df6a5b56",
            "max": 135,
            "min": 0,
            "orientation": "horizontal",
            "style": "IPY_MODEL_872e3d8653f84dbd8d701e5818703a9d",
            "value": 129
          }
        },
        "fe7d3c3276934ec8b283060be367ff75": {
<<<<<<< HEAD
>>>>>>> 043a282815e330e79882eb927d74c15f11ae2ce2
=======
>>>>>>> 8d31783db698437b09448df3e24b6b6699ee0f70
          "model_module": "@jupyter-widgets/controls",
          "model_name": "HTMLModel",
          "model_module_version": "1.5.0",
          "state": {
            "_dom_classes": [],
            "_model_module": "@jupyter-widgets/controls",
            "_model_module_version": "1.5.0",
            "_model_name": "HTMLModel",
            "_view_count": null,
            "_view_module": "@jupyter-widgets/controls",
            "_view_module_version": "1.5.0",
            "_view_name": "HTMLView",
            "description": "",
            "description_tooltip": null,
<<<<<<< HEAD
<<<<<<< HEAD
            "layout": "IPY_MODEL_800f2d7fb0f04d208c5b2d3d85eaf418",
            "placeholder": "​",
            "style": "IPY_MODEL_2cf22b4bca874d958a0ddd01fa8b50c7",
            "value": " 129/135 [00:00&lt;00:00, 265.18it/s]"
          }
        },
        "eed254b473d04f69a60c7047a1ab6e10": {
=======
=======
>>>>>>> 8d31783db698437b09448df3e24b6b6699ee0f70
            "layout": "IPY_MODEL_633c9cca536d4245b376febeb8234200",
            "placeholder": "​",
            "style": "IPY_MODEL_503be3fbab04417a8e3f591997ec71ce",
            "value": " 129/135 [00:00&lt;00:00, 283.74it/s]"
          }
        },
        "6a91e1b9a4ec4a3eab7c74a4a1343b9f": {
<<<<<<< HEAD
>>>>>>> 043a282815e330e79882eb927d74c15f11ae2ce2
=======
>>>>>>> 8d31783db698437b09448df3e24b6b6699ee0f70
          "model_module": "@jupyter-widgets/base",
          "model_name": "LayoutModel",
          "model_module_version": "1.2.0",
          "state": {
            "_model_module": "@jupyter-widgets/base",
            "_model_module_version": "1.2.0",
            "_model_name": "LayoutModel",
            "_view_count": null,
            "_view_module": "@jupyter-widgets/base",
            "_view_module_version": "1.2.0",
            "_view_name": "LayoutView",
            "align_content": null,
            "align_items": null,
            "align_self": null,
            "border": null,
            "bottom": null,
            "display": null,
            "flex": null,
            "flex_flow": null,
            "grid_area": null,
            "grid_auto_columns": null,
            "grid_auto_flow": null,
            "grid_auto_rows": null,
            "grid_column": null,
            "grid_gap": null,
            "grid_row": null,
            "grid_template_areas": null,
            "grid_template_columns": null,
            "grid_template_rows": null,
            "height": null,
            "justify_content": null,
            "justify_items": null,
            "left": null,
            "margin": null,
            "max_height": null,
            "max_width": null,
            "min_height": null,
            "min_width": null,
            "object_fit": null,
            "object_position": null,
            "order": null,
            "overflow": null,
            "overflow_x": null,
            "overflow_y": null,
            "padding": null,
            "right": null,
            "top": null,
            "visibility": null,
            "width": null
          }
        },
<<<<<<< HEAD
<<<<<<< HEAD
        "1daf6e089b844a62a8c2a5299b200e6d": {
=======
        "89ec39650ced4c889e6a7572085aa93b": {
>>>>>>> 043a282815e330e79882eb927d74c15f11ae2ce2
=======
        "89ec39650ced4c889e6a7572085aa93b": {
>>>>>>> 8d31783db698437b09448df3e24b6b6699ee0f70
          "model_module": "@jupyter-widgets/base",
          "model_name": "LayoutModel",
          "model_module_version": "1.2.0",
          "state": {
            "_model_module": "@jupyter-widgets/base",
            "_model_module_version": "1.2.0",
            "_model_name": "LayoutModel",
            "_view_count": null,
            "_view_module": "@jupyter-widgets/base",
            "_view_module_version": "1.2.0",
            "_view_name": "LayoutView",
            "align_content": null,
            "align_items": null,
            "align_self": null,
            "border": null,
            "bottom": null,
            "display": null,
            "flex": null,
            "flex_flow": null,
            "grid_area": null,
            "grid_auto_columns": null,
            "grid_auto_flow": null,
            "grid_auto_rows": null,
            "grid_column": null,
            "grid_gap": null,
            "grid_row": null,
            "grid_template_areas": null,
            "grid_template_columns": null,
            "grid_template_rows": null,
            "height": null,
            "justify_content": null,
            "justify_items": null,
            "left": null,
            "margin": null,
            "max_height": null,
            "max_width": null,
            "min_height": null,
            "min_width": null,
            "object_fit": null,
            "object_position": null,
            "order": null,
            "overflow": null,
            "overflow_x": null,
            "overflow_y": null,
            "padding": null,
            "right": null,
            "top": null,
            "visibility": null,
            "width": null
          }
        },
<<<<<<< HEAD
<<<<<<< HEAD
        "2aae09a5580046baa941a1f586928998": {
=======
        "d5b97eaf5fbd4101899c7ad7181cd2ff": {
>>>>>>> 043a282815e330e79882eb927d74c15f11ae2ce2
=======
        "d5b97eaf5fbd4101899c7ad7181cd2ff": {
>>>>>>> 8d31783db698437b09448df3e24b6b6699ee0f70
          "model_module": "@jupyter-widgets/controls",
          "model_name": "DescriptionStyleModel",
          "model_module_version": "1.5.0",
          "state": {
            "_model_module": "@jupyter-widgets/controls",
            "_model_module_version": "1.5.0",
            "_model_name": "DescriptionStyleModel",
            "_view_count": null,
            "_view_module": "@jupyter-widgets/base",
            "_view_module_version": "1.2.0",
            "_view_name": "StyleView",
            "description_width": ""
          }
        },
<<<<<<< HEAD
<<<<<<< HEAD
        "e4f6642bc38743e88a59cc44983e5296": {
=======
        "d4b20ebe75204ec2b3a751b5df6a5b56": {
>>>>>>> 043a282815e330e79882eb927d74c15f11ae2ce2
=======
        "d4b20ebe75204ec2b3a751b5df6a5b56": {
>>>>>>> 8d31783db698437b09448df3e24b6b6699ee0f70
          "model_module": "@jupyter-widgets/base",
          "model_name": "LayoutModel",
          "model_module_version": "1.2.0",
          "state": {
            "_model_module": "@jupyter-widgets/base",
            "_model_module_version": "1.2.0",
            "_model_name": "LayoutModel",
            "_view_count": null,
            "_view_module": "@jupyter-widgets/base",
            "_view_module_version": "1.2.0",
            "_view_name": "LayoutView",
            "align_content": null,
            "align_items": null,
            "align_self": null,
            "border": null,
            "bottom": null,
            "display": null,
            "flex": null,
            "flex_flow": null,
            "grid_area": null,
            "grid_auto_columns": null,
            "grid_auto_flow": null,
            "grid_auto_rows": null,
            "grid_column": null,
            "grid_gap": null,
            "grid_row": null,
            "grid_template_areas": null,
            "grid_template_columns": null,
            "grid_template_rows": null,
            "height": null,
            "justify_content": null,
            "justify_items": null,
            "left": null,
            "margin": null,
            "max_height": null,
            "max_width": null,
            "min_height": null,
            "min_width": null,
            "object_fit": null,
            "object_position": null,
            "order": null,
            "overflow": null,
            "overflow_x": null,
            "overflow_y": null,
            "padding": null,
            "right": null,
            "top": null,
            "visibility": null,
            "width": null
          }
        },
<<<<<<< HEAD
<<<<<<< HEAD
        "3a317a45640f4b8cb99c99d37f3eb72c": {
=======
        "872e3d8653f84dbd8d701e5818703a9d": {
>>>>>>> 043a282815e330e79882eb927d74c15f11ae2ce2
=======
        "872e3d8653f84dbd8d701e5818703a9d": {
>>>>>>> 8d31783db698437b09448df3e24b6b6699ee0f70
          "model_module": "@jupyter-widgets/controls",
          "model_name": "ProgressStyleModel",
          "model_module_version": "1.5.0",
          "state": {
            "_model_module": "@jupyter-widgets/controls",
            "_model_module_version": "1.5.0",
            "_model_name": "ProgressStyleModel",
            "_view_count": null,
            "_view_module": "@jupyter-widgets/base",
            "_view_module_version": "1.2.0",
            "_view_name": "StyleView",
            "bar_color": null,
            "description_width": ""
          }
        },
<<<<<<< HEAD
<<<<<<< HEAD
        "800f2d7fb0f04d208c5b2d3d85eaf418": {
=======
        "633c9cca536d4245b376febeb8234200": {
>>>>>>> 043a282815e330e79882eb927d74c15f11ae2ce2
=======
        "633c9cca536d4245b376febeb8234200": {
>>>>>>> 8d31783db698437b09448df3e24b6b6699ee0f70
          "model_module": "@jupyter-widgets/base",
          "model_name": "LayoutModel",
          "model_module_version": "1.2.0",
          "state": {
            "_model_module": "@jupyter-widgets/base",
            "_model_module_version": "1.2.0",
            "_model_name": "LayoutModel",
            "_view_count": null,
            "_view_module": "@jupyter-widgets/base",
            "_view_module_version": "1.2.0",
            "_view_name": "LayoutView",
            "align_content": null,
            "align_items": null,
            "align_self": null,
            "border": null,
            "bottom": null,
            "display": null,
            "flex": null,
            "flex_flow": null,
            "grid_area": null,
            "grid_auto_columns": null,
            "grid_auto_flow": null,
            "grid_auto_rows": null,
            "grid_column": null,
            "grid_gap": null,
            "grid_row": null,
            "grid_template_areas": null,
            "grid_template_columns": null,
            "grid_template_rows": null,
            "height": null,
            "justify_content": null,
            "justify_items": null,
            "left": null,
            "margin": null,
            "max_height": null,
            "max_width": null,
            "min_height": null,
            "min_width": null,
            "object_fit": null,
            "object_position": null,
            "order": null,
            "overflow": null,
            "overflow_x": null,
            "overflow_y": null,
            "padding": null,
            "right": null,
            "top": null,
            "visibility": null,
            "width": null
          }
        },
<<<<<<< HEAD
<<<<<<< HEAD
        "2cf22b4bca874d958a0ddd01fa8b50c7": {
=======
        "503be3fbab04417a8e3f591997ec71ce": {
>>>>>>> 043a282815e330e79882eb927d74c15f11ae2ce2
=======
        "503be3fbab04417a8e3f591997ec71ce": {
>>>>>>> 8d31783db698437b09448df3e24b6b6699ee0f70
          "model_module": "@jupyter-widgets/controls",
          "model_name": "DescriptionStyleModel",
          "model_module_version": "1.5.0",
          "state": {
            "_model_module": "@jupyter-widgets/controls",
            "_model_module_version": "1.5.0",
            "_model_name": "DescriptionStyleModel",
            "_view_count": null,
            "_view_module": "@jupyter-widgets/base",
            "_view_module_version": "1.2.0",
            "_view_name": "StyleView",
            "description_width": ""
          }
        },
<<<<<<< HEAD
<<<<<<< HEAD
        "4d8bf786b157462c818214f2ac20e497": {
=======
        "30c35d93d3c240fd973299e518b3ead5": {
>>>>>>> 043a282815e330e79882eb927d74c15f11ae2ce2
=======
        "30c35d93d3c240fd973299e518b3ead5": {
>>>>>>> 8d31783db698437b09448df3e24b6b6699ee0f70
          "model_module": "@jupyter-widgets/controls",
          "model_name": "HBoxModel",
          "model_module_version": "1.5.0",
          "state": {
            "_dom_classes": [],
            "_model_module": "@jupyter-widgets/controls",
            "_model_module_version": "1.5.0",
            "_model_name": "HBoxModel",
            "_view_count": null,
            "_view_module": "@jupyter-widgets/controls",
            "_view_module_version": "1.5.0",
            "_view_name": "HBoxView",
            "box_style": "",
            "children": [
<<<<<<< HEAD
<<<<<<< HEAD
              "IPY_MODEL_145bc351211d493fbe13b7a710964c49",
              "IPY_MODEL_75d8beb1f41d4d46897d996208c4b954",
              "IPY_MODEL_79a20f4892f14ef1be2a6c75bfb6b17b"
            ],
            "layout": "IPY_MODEL_90cc693e3f624b24b41a18a74a1ceb58"
          }
        },
        "145bc351211d493fbe13b7a710964c49": {
=======
=======
>>>>>>> 8d31783db698437b09448df3e24b6b6699ee0f70
              "IPY_MODEL_9c1176ef5799405399084036d9e84acf",
              "IPY_MODEL_8756b791a97b4d1bb71e48e625fea679",
              "IPY_MODEL_6934285ea9944dbe9ca40bedb90db029"
            ],
            "layout": "IPY_MODEL_7ecf11ab11e448368ef12c31524ca436"
          }
        },
        "9c1176ef5799405399084036d9e84acf": {
<<<<<<< HEAD
>>>>>>> 043a282815e330e79882eb927d74c15f11ae2ce2
=======
>>>>>>> 8d31783db698437b09448df3e24b6b6699ee0f70
          "model_module": "@jupyter-widgets/controls",
          "model_name": "HTMLModel",
          "model_module_version": "1.5.0",
          "state": {
            "_dom_classes": [],
            "_model_module": "@jupyter-widgets/controls",
            "_model_module_version": "1.5.0",
            "_model_name": "HTMLModel",
            "_view_count": null,
            "_view_module": "@jupyter-widgets/controls",
            "_view_module_version": "1.5.0",
            "_view_name": "HTMLView",
            "description": "",
            "description_tooltip": null,
<<<<<<< HEAD
<<<<<<< HEAD
            "layout": "IPY_MODEL_f4b0ba16cdb1400eaf37392c9b4cd934",
            "placeholder": "​",
            "style": "IPY_MODEL_791cf5c83dba407098b35504dc04b4b6",
            "value": "100%"
          }
        },
        "75d8beb1f41d4d46897d996208c4b954": {
=======
=======
>>>>>>> 8d31783db698437b09448df3e24b6b6699ee0f70
            "layout": "IPY_MODEL_c47a704020fb4d5493c0858264fc32c8",
            "placeholder": "​",
            "style": "IPY_MODEL_02dad0ff6b7f42bc82e4a9e4485d3324",
            "value": "100%"
          }
        },
        "8756b791a97b4d1bb71e48e625fea679": {
<<<<<<< HEAD
>>>>>>> 043a282815e330e79882eb927d74c15f11ae2ce2
=======
>>>>>>> 8d31783db698437b09448df3e24b6b6699ee0f70
          "model_module": "@jupyter-widgets/controls",
          "model_name": "FloatProgressModel",
          "model_module_version": "1.5.0",
          "state": {
            "_dom_classes": [],
            "_model_module": "@jupyter-widgets/controls",
            "_model_module_version": "1.5.0",
            "_model_name": "FloatProgressModel",
            "_view_count": null,
            "_view_module": "@jupyter-widgets/controls",
            "_view_module_version": "1.5.0",
            "_view_name": "ProgressView",
            "bar_style": "success",
            "description": "",
            "description_tooltip": null,
<<<<<<< HEAD
<<<<<<< HEAD
            "layout": "IPY_MODEL_32c0bab4edb944c9b4692da7a5bebf3c",
            "max": 136,
            "min": 0,
            "orientation": "horizontal",
            "style": "IPY_MODEL_ccccf369be1942f6877d3c66d57e66db",
            "value": 136
          }
        },
        "79a20f4892f14ef1be2a6c75bfb6b17b": {
=======
=======
>>>>>>> 8d31783db698437b09448df3e24b6b6699ee0f70
            "layout": "IPY_MODEL_703d9e4c1fc346c8b7634deba18b6bc2",
            "max": 136,
            "min": 0,
            "orientation": "horizontal",
            "style": "IPY_MODEL_1892b7c9907c461aa828403b6ae1c3db",
            "value": 136
          }
        },
        "6934285ea9944dbe9ca40bedb90db029": {
<<<<<<< HEAD
>>>>>>> 043a282815e330e79882eb927d74c15f11ae2ce2
=======
>>>>>>> 8d31783db698437b09448df3e24b6b6699ee0f70
          "model_module": "@jupyter-widgets/controls",
          "model_name": "HTMLModel",
          "model_module_version": "1.5.0",
          "state": {
            "_dom_classes": [],
            "_model_module": "@jupyter-widgets/controls",
            "_model_module_version": "1.5.0",
            "_model_name": "HTMLModel",
            "_view_count": null,
            "_view_module": "@jupyter-widgets/controls",
            "_view_module_version": "1.5.0",
            "_view_name": "HTMLView",
            "description": "",
            "description_tooltip": null,
<<<<<<< HEAD
<<<<<<< HEAD
            "layout": "IPY_MODEL_5fea5ffe7495482f8b8b2f813c5b3f7e",
            "placeholder": "​",
            "style": "IPY_MODEL_c59454c00a8348a3bf10c2384631e712",
            "value": " 136/136 [00:00&lt;00:00, 258.30it/s]"
          }
        },
        "90cc693e3f624b24b41a18a74a1ceb58": {
=======
=======
>>>>>>> 8d31783db698437b09448df3e24b6b6699ee0f70
            "layout": "IPY_MODEL_2065c6a075c24eaea7e1179e07bcf335",
            "placeholder": "​",
            "style": "IPY_MODEL_5b29fb71190b4824a331fca228c27b73",
            "value": " 136/136 [00:00&lt;00:00, 277.20it/s]"
          }
        },
        "7ecf11ab11e448368ef12c31524ca436": {
<<<<<<< HEAD
>>>>>>> 043a282815e330e79882eb927d74c15f11ae2ce2
=======
>>>>>>> 8d31783db698437b09448df3e24b6b6699ee0f70
          "model_module": "@jupyter-widgets/base",
          "model_name": "LayoutModel",
          "model_module_version": "1.2.0",
          "state": {
            "_model_module": "@jupyter-widgets/base",
            "_model_module_version": "1.2.0",
            "_model_name": "LayoutModel",
            "_view_count": null,
            "_view_module": "@jupyter-widgets/base",
            "_view_module_version": "1.2.0",
            "_view_name": "LayoutView",
            "align_content": null,
            "align_items": null,
            "align_self": null,
            "border": null,
            "bottom": null,
            "display": null,
            "flex": null,
            "flex_flow": null,
            "grid_area": null,
            "grid_auto_columns": null,
            "grid_auto_flow": null,
            "grid_auto_rows": null,
            "grid_column": null,
            "grid_gap": null,
            "grid_row": null,
            "grid_template_areas": null,
            "grid_template_columns": null,
            "grid_template_rows": null,
            "height": null,
            "justify_content": null,
            "justify_items": null,
            "left": null,
            "margin": null,
            "max_height": null,
            "max_width": null,
            "min_height": null,
            "min_width": null,
            "object_fit": null,
            "object_position": null,
            "order": null,
            "overflow": null,
            "overflow_x": null,
            "overflow_y": null,
            "padding": null,
            "right": null,
            "top": null,
            "visibility": null,
            "width": null
          }
        },
<<<<<<< HEAD
<<<<<<< HEAD
        "f4b0ba16cdb1400eaf37392c9b4cd934": {
=======
        "c47a704020fb4d5493c0858264fc32c8": {
>>>>>>> 043a282815e330e79882eb927d74c15f11ae2ce2
=======
        "c47a704020fb4d5493c0858264fc32c8": {
>>>>>>> 8d31783db698437b09448df3e24b6b6699ee0f70
          "model_module": "@jupyter-widgets/base",
          "model_name": "LayoutModel",
          "model_module_version": "1.2.0",
          "state": {
            "_model_module": "@jupyter-widgets/base",
            "_model_module_version": "1.2.0",
            "_model_name": "LayoutModel",
            "_view_count": null,
            "_view_module": "@jupyter-widgets/base",
            "_view_module_version": "1.2.0",
            "_view_name": "LayoutView",
            "align_content": null,
            "align_items": null,
            "align_self": null,
            "border": null,
            "bottom": null,
            "display": null,
            "flex": null,
            "flex_flow": null,
            "grid_area": null,
            "grid_auto_columns": null,
            "grid_auto_flow": null,
            "grid_auto_rows": null,
            "grid_column": null,
            "grid_gap": null,
            "grid_row": null,
            "grid_template_areas": null,
            "grid_template_columns": null,
            "grid_template_rows": null,
            "height": null,
            "justify_content": null,
            "justify_items": null,
            "left": null,
            "margin": null,
            "max_height": null,
            "max_width": null,
            "min_height": null,
            "min_width": null,
            "object_fit": null,
            "object_position": null,
            "order": null,
            "overflow": null,
            "overflow_x": null,
            "overflow_y": null,
            "padding": null,
            "right": null,
            "top": null,
            "visibility": null,
            "width": null
          }
        },
<<<<<<< HEAD
<<<<<<< HEAD
        "791cf5c83dba407098b35504dc04b4b6": {
=======
        "02dad0ff6b7f42bc82e4a9e4485d3324": {
>>>>>>> 043a282815e330e79882eb927d74c15f11ae2ce2
=======
        "02dad0ff6b7f42bc82e4a9e4485d3324": {
>>>>>>> 8d31783db698437b09448df3e24b6b6699ee0f70
          "model_module": "@jupyter-widgets/controls",
          "model_name": "DescriptionStyleModel",
          "model_module_version": "1.5.0",
          "state": {
            "_model_module": "@jupyter-widgets/controls",
            "_model_module_version": "1.5.0",
            "_model_name": "DescriptionStyleModel",
            "_view_count": null,
            "_view_module": "@jupyter-widgets/base",
            "_view_module_version": "1.2.0",
            "_view_name": "StyleView",
            "description_width": ""
          }
        },
<<<<<<< HEAD
<<<<<<< HEAD
        "32c0bab4edb944c9b4692da7a5bebf3c": {
=======
        "703d9e4c1fc346c8b7634deba18b6bc2": {
>>>>>>> 043a282815e330e79882eb927d74c15f11ae2ce2
=======
        "703d9e4c1fc346c8b7634deba18b6bc2": {
>>>>>>> 8d31783db698437b09448df3e24b6b6699ee0f70
          "model_module": "@jupyter-widgets/base",
          "model_name": "LayoutModel",
          "model_module_version": "1.2.0",
          "state": {
            "_model_module": "@jupyter-widgets/base",
            "_model_module_version": "1.2.0",
            "_model_name": "LayoutModel",
            "_view_count": null,
            "_view_module": "@jupyter-widgets/base",
            "_view_module_version": "1.2.0",
            "_view_name": "LayoutView",
            "align_content": null,
            "align_items": null,
            "align_self": null,
            "border": null,
            "bottom": null,
            "display": null,
            "flex": null,
            "flex_flow": null,
            "grid_area": null,
            "grid_auto_columns": null,
            "grid_auto_flow": null,
            "grid_auto_rows": null,
            "grid_column": null,
            "grid_gap": null,
            "grid_row": null,
            "grid_template_areas": null,
            "grid_template_columns": null,
            "grid_template_rows": null,
            "height": null,
            "justify_content": null,
            "justify_items": null,
            "left": null,
            "margin": null,
            "max_height": null,
            "max_width": null,
            "min_height": null,
            "min_width": null,
            "object_fit": null,
            "object_position": null,
            "order": null,
            "overflow": null,
            "overflow_x": null,
            "overflow_y": null,
            "padding": null,
            "right": null,
            "top": null,
            "visibility": null,
            "width": null
          }
        },
<<<<<<< HEAD
<<<<<<< HEAD
        "ccccf369be1942f6877d3c66d57e66db": {
=======
        "1892b7c9907c461aa828403b6ae1c3db": {
>>>>>>> 043a282815e330e79882eb927d74c15f11ae2ce2
=======
        "1892b7c9907c461aa828403b6ae1c3db": {
>>>>>>> 8d31783db698437b09448df3e24b6b6699ee0f70
          "model_module": "@jupyter-widgets/controls",
          "model_name": "ProgressStyleModel",
          "model_module_version": "1.5.0",
          "state": {
            "_model_module": "@jupyter-widgets/controls",
            "_model_module_version": "1.5.0",
            "_model_name": "ProgressStyleModel",
            "_view_count": null,
            "_view_module": "@jupyter-widgets/base",
            "_view_module_version": "1.2.0",
            "_view_name": "StyleView",
            "bar_color": null,
            "description_width": ""
          }
        },
<<<<<<< HEAD
<<<<<<< HEAD
        "5fea5ffe7495482f8b8b2f813c5b3f7e": {
=======
        "2065c6a075c24eaea7e1179e07bcf335": {
>>>>>>> 043a282815e330e79882eb927d74c15f11ae2ce2
=======
        "2065c6a075c24eaea7e1179e07bcf335": {
>>>>>>> 8d31783db698437b09448df3e24b6b6699ee0f70
          "model_module": "@jupyter-widgets/base",
          "model_name": "LayoutModel",
          "model_module_version": "1.2.0",
          "state": {
            "_model_module": "@jupyter-widgets/base",
            "_model_module_version": "1.2.0",
            "_model_name": "LayoutModel",
            "_view_count": null,
            "_view_module": "@jupyter-widgets/base",
            "_view_module_version": "1.2.0",
            "_view_name": "LayoutView",
            "align_content": null,
            "align_items": null,
            "align_self": null,
            "border": null,
            "bottom": null,
            "display": null,
            "flex": null,
            "flex_flow": null,
            "grid_area": null,
            "grid_auto_columns": null,
            "grid_auto_flow": null,
            "grid_auto_rows": null,
            "grid_column": null,
            "grid_gap": null,
            "grid_row": null,
            "grid_template_areas": null,
            "grid_template_columns": null,
            "grid_template_rows": null,
            "height": null,
            "justify_content": null,
            "justify_items": null,
            "left": null,
            "margin": null,
            "max_height": null,
            "max_width": null,
            "min_height": null,
            "min_width": null,
            "object_fit": null,
            "object_position": null,
            "order": null,
            "overflow": null,
            "overflow_x": null,
            "overflow_y": null,
            "padding": null,
            "right": null,
            "top": null,
            "visibility": null,
            "width": null
          }
        },
<<<<<<< HEAD
<<<<<<< HEAD
        "c59454c00a8348a3bf10c2384631e712": {
=======
        "5b29fb71190b4824a331fca228c27b73": {
>>>>>>> 043a282815e330e79882eb927d74c15f11ae2ce2
=======
        "5b29fb71190b4824a331fca228c27b73": {
>>>>>>> 8d31783db698437b09448df3e24b6b6699ee0f70
          "model_module": "@jupyter-widgets/controls",
          "model_name": "DescriptionStyleModel",
          "model_module_version": "1.5.0",
          "state": {
            "_model_module": "@jupyter-widgets/controls",
            "_model_module_version": "1.5.0",
            "_model_name": "DescriptionStyleModel",
            "_view_count": null,
            "_view_module": "@jupyter-widgets/base",
            "_view_module_version": "1.2.0",
            "_view_name": "StyleView",
            "description_width": ""
          }
        },
<<<<<<< HEAD
<<<<<<< HEAD
        "faae818a0e854b9fba7e23c830b43dbc": {
=======
        "28134693ecd643e09fba553a3c6fd8ad": {
>>>>>>> 043a282815e330e79882eb927d74c15f11ae2ce2
=======
        "28134693ecd643e09fba553a3c6fd8ad": {
>>>>>>> 8d31783db698437b09448df3e24b6b6699ee0f70
          "model_module": "@jupyter-widgets/controls",
          "model_name": "HBoxModel",
          "model_module_version": "1.5.0",
          "state": {
            "_dom_classes": [],
            "_model_module": "@jupyter-widgets/controls",
            "_model_module_version": "1.5.0",
            "_model_name": "HBoxModel",
            "_view_count": null,
            "_view_module": "@jupyter-widgets/controls",
            "_view_module_version": "1.5.0",
            "_view_name": "HBoxView",
            "box_style": "",
            "children": [
<<<<<<< HEAD
<<<<<<< HEAD
              "IPY_MODEL_9ffe11b3215e483fa5c2c8fad87527fa",
              "IPY_MODEL_534ae6a964c14ff19c3b99f40c9ed200",
              "IPY_MODEL_1cf814a35cb24694857dc1856c9b7489"
            ],
            "layout": "IPY_MODEL_97aa62ccc6144379a0aff823418b3bc8"
          }
        },
        "9ffe11b3215e483fa5c2c8fad87527fa": {
=======
=======
>>>>>>> 8d31783db698437b09448df3e24b6b6699ee0f70
              "IPY_MODEL_b5dc30f6421349d2a709d47538f3bd8b",
              "IPY_MODEL_c8adf2b5cb874edb9c4f08706e044e5e",
              "IPY_MODEL_cd8b1251f66f4f0097e26d27bc05e349"
            ],
            "layout": "IPY_MODEL_ea717edb347f426e88f64ec4ca59eff1"
          }
        },
        "b5dc30f6421349d2a709d47538f3bd8b": {
<<<<<<< HEAD
>>>>>>> 043a282815e330e79882eb927d74c15f11ae2ce2
=======
>>>>>>> 8d31783db698437b09448df3e24b6b6699ee0f70
          "model_module": "@jupyter-widgets/controls",
          "model_name": "HTMLModel",
          "model_module_version": "1.5.0",
          "state": {
            "_dom_classes": [],
            "_model_module": "@jupyter-widgets/controls",
            "_model_module_version": "1.5.0",
            "_model_name": "HTMLModel",
            "_view_count": null,
            "_view_module": "@jupyter-widgets/controls",
            "_view_module_version": "1.5.0",
            "_view_name": "HTMLView",
            "description": "",
            "description_tooltip": null,
<<<<<<< HEAD
<<<<<<< HEAD
            "layout": "IPY_MODEL_5edd1030a1924ddf9fc63b404b45ae14",
            "placeholder": "​",
            "style": "IPY_MODEL_f926e2e393584d23ab40654d06150935",
            "value": "100%"
          }
        },
        "534ae6a964c14ff19c3b99f40c9ed200": {
=======
=======
>>>>>>> 8d31783db698437b09448df3e24b6b6699ee0f70
            "layout": "IPY_MODEL_8edd426dfbd441d9b04e7e543910a902",
            "placeholder": "​",
            "style": "IPY_MODEL_7878e2885e8b4a0bb4ae5aeab1ba23c6",
            "value": "100%"
          }
        },
        "c8adf2b5cb874edb9c4f08706e044e5e": {
<<<<<<< HEAD
>>>>>>> 043a282815e330e79882eb927d74c15f11ae2ce2
=======
>>>>>>> 8d31783db698437b09448df3e24b6b6699ee0f70
          "model_module": "@jupyter-widgets/controls",
          "model_name": "FloatProgressModel",
          "model_module_version": "1.5.0",
          "state": {
            "_dom_classes": [],
            "_model_module": "@jupyter-widgets/controls",
            "_model_module_version": "1.5.0",
            "_model_name": "FloatProgressModel",
            "_view_count": null,
            "_view_module": "@jupyter-widgets/controls",
            "_view_module_version": "1.5.0",
            "_view_name": "ProgressView",
            "bar_style": "success",
            "description": "",
            "description_tooltip": null,
<<<<<<< HEAD
<<<<<<< HEAD
            "layout": "IPY_MODEL_36f8ac1da09046a1b374a94c3c890978",
            "max": 136,
            "min": 0,
            "orientation": "horizontal",
            "style": "IPY_MODEL_49abe5c8129b4a4ca6321aba57794872",
            "value": 136
          }
        },
        "1cf814a35cb24694857dc1856c9b7489": {
=======
=======
>>>>>>> 8d31783db698437b09448df3e24b6b6699ee0f70
            "layout": "IPY_MODEL_e635461550644127a19ac775782ca23b",
            "max": 136,
            "min": 0,
            "orientation": "horizontal",
            "style": "IPY_MODEL_c99020bc905b4bda8a97c209f7c8b9fa",
            "value": 136
          }
        },
        "cd8b1251f66f4f0097e26d27bc05e349": {
<<<<<<< HEAD
>>>>>>> 043a282815e330e79882eb927d74c15f11ae2ce2
=======
>>>>>>> 8d31783db698437b09448df3e24b6b6699ee0f70
          "model_module": "@jupyter-widgets/controls",
          "model_name": "HTMLModel",
          "model_module_version": "1.5.0",
          "state": {
            "_dom_classes": [],
            "_model_module": "@jupyter-widgets/controls",
            "_model_module_version": "1.5.0",
            "_model_name": "HTMLModel",
            "_view_count": null,
            "_view_module": "@jupyter-widgets/controls",
            "_view_module_version": "1.5.0",
            "_view_name": "HTMLView",
            "description": "",
            "description_tooltip": null,
<<<<<<< HEAD
<<<<<<< HEAD
            "layout": "IPY_MODEL_a946566a03e445f282ca4f17c9e29202",
            "placeholder": "​",
            "style": "IPY_MODEL_de0f2942822444efb77b0f1d0885e41a",
            "value": " 136/136 [00:00&lt;00:00, 273.84it/s]"
          }
        },
        "97aa62ccc6144379a0aff823418b3bc8": {
=======
=======
>>>>>>> 8d31783db698437b09448df3e24b6b6699ee0f70
            "layout": "IPY_MODEL_1c53d59de00e4c34a474a30280c2fb97",
            "placeholder": "​",
            "style": "IPY_MODEL_025a2b8b27af409a9bea74dd315ff236",
            "value": " 136/136 [00:00&lt;00:00, 283.08it/s]"
          }
        },
        "ea717edb347f426e88f64ec4ca59eff1": {
<<<<<<< HEAD
>>>>>>> 043a282815e330e79882eb927d74c15f11ae2ce2
=======
>>>>>>> 8d31783db698437b09448df3e24b6b6699ee0f70
          "model_module": "@jupyter-widgets/base",
          "model_name": "LayoutModel",
          "model_module_version": "1.2.0",
          "state": {
            "_model_module": "@jupyter-widgets/base",
            "_model_module_version": "1.2.0",
            "_model_name": "LayoutModel",
            "_view_count": null,
            "_view_module": "@jupyter-widgets/base",
            "_view_module_version": "1.2.0",
            "_view_name": "LayoutView",
            "align_content": null,
            "align_items": null,
            "align_self": null,
            "border": null,
            "bottom": null,
            "display": null,
            "flex": null,
            "flex_flow": null,
            "grid_area": null,
            "grid_auto_columns": null,
            "grid_auto_flow": null,
            "grid_auto_rows": null,
            "grid_column": null,
            "grid_gap": null,
            "grid_row": null,
            "grid_template_areas": null,
            "grid_template_columns": null,
            "grid_template_rows": null,
            "height": null,
            "justify_content": null,
            "justify_items": null,
            "left": null,
            "margin": null,
            "max_height": null,
            "max_width": null,
            "min_height": null,
            "min_width": null,
            "object_fit": null,
            "object_position": null,
            "order": null,
            "overflow": null,
            "overflow_x": null,
            "overflow_y": null,
            "padding": null,
            "right": null,
            "top": null,
            "visibility": null,
            "width": null
          }
        },
<<<<<<< HEAD
<<<<<<< HEAD
        "5edd1030a1924ddf9fc63b404b45ae14": {
=======
        "8edd426dfbd441d9b04e7e543910a902": {
>>>>>>> 043a282815e330e79882eb927d74c15f11ae2ce2
=======
        "8edd426dfbd441d9b04e7e543910a902": {
>>>>>>> 8d31783db698437b09448df3e24b6b6699ee0f70
          "model_module": "@jupyter-widgets/base",
          "model_name": "LayoutModel",
          "model_module_version": "1.2.0",
          "state": {
            "_model_module": "@jupyter-widgets/base",
            "_model_module_version": "1.2.0",
            "_model_name": "LayoutModel",
            "_view_count": null,
            "_view_module": "@jupyter-widgets/base",
            "_view_module_version": "1.2.0",
            "_view_name": "LayoutView",
            "align_content": null,
            "align_items": null,
            "align_self": null,
            "border": null,
            "bottom": null,
            "display": null,
            "flex": null,
            "flex_flow": null,
            "grid_area": null,
            "grid_auto_columns": null,
            "grid_auto_flow": null,
            "grid_auto_rows": null,
            "grid_column": null,
            "grid_gap": null,
            "grid_row": null,
            "grid_template_areas": null,
            "grid_template_columns": null,
            "grid_template_rows": null,
            "height": null,
            "justify_content": null,
            "justify_items": null,
            "left": null,
            "margin": null,
            "max_height": null,
            "max_width": null,
            "min_height": null,
            "min_width": null,
            "object_fit": null,
            "object_position": null,
            "order": null,
            "overflow": null,
            "overflow_x": null,
            "overflow_y": null,
            "padding": null,
            "right": null,
            "top": null,
            "visibility": null,
            "width": null
          }
        },
<<<<<<< HEAD
<<<<<<< HEAD
        "f926e2e393584d23ab40654d06150935": {
=======
        "7878e2885e8b4a0bb4ae5aeab1ba23c6": {
>>>>>>> 043a282815e330e79882eb927d74c15f11ae2ce2
=======
        "7878e2885e8b4a0bb4ae5aeab1ba23c6": {
>>>>>>> 8d31783db698437b09448df3e24b6b6699ee0f70
          "model_module": "@jupyter-widgets/controls",
          "model_name": "DescriptionStyleModel",
          "model_module_version": "1.5.0",
          "state": {
            "_model_module": "@jupyter-widgets/controls",
            "_model_module_version": "1.5.0",
            "_model_name": "DescriptionStyleModel",
            "_view_count": null,
            "_view_module": "@jupyter-widgets/base",
            "_view_module_version": "1.2.0",
            "_view_name": "StyleView",
            "description_width": ""
          }
        },
<<<<<<< HEAD
<<<<<<< HEAD
        "36f8ac1da09046a1b374a94c3c890978": {
=======
        "e635461550644127a19ac775782ca23b": {
>>>>>>> 043a282815e330e79882eb927d74c15f11ae2ce2
=======
        "e635461550644127a19ac775782ca23b": {
>>>>>>> 8d31783db698437b09448df3e24b6b6699ee0f70
          "model_module": "@jupyter-widgets/base",
          "model_name": "LayoutModel",
          "model_module_version": "1.2.0",
          "state": {
            "_model_module": "@jupyter-widgets/base",
            "_model_module_version": "1.2.0",
            "_model_name": "LayoutModel",
            "_view_count": null,
            "_view_module": "@jupyter-widgets/base",
            "_view_module_version": "1.2.0",
            "_view_name": "LayoutView",
            "align_content": null,
            "align_items": null,
            "align_self": null,
            "border": null,
            "bottom": null,
            "display": null,
            "flex": null,
            "flex_flow": null,
            "grid_area": null,
            "grid_auto_columns": null,
            "grid_auto_flow": null,
            "grid_auto_rows": null,
            "grid_column": null,
            "grid_gap": null,
            "grid_row": null,
            "grid_template_areas": null,
            "grid_template_columns": null,
            "grid_template_rows": null,
            "height": null,
            "justify_content": null,
            "justify_items": null,
            "left": null,
            "margin": null,
            "max_height": null,
            "max_width": null,
            "min_height": null,
            "min_width": null,
            "object_fit": null,
            "object_position": null,
            "order": null,
            "overflow": null,
            "overflow_x": null,
            "overflow_y": null,
            "padding": null,
            "right": null,
            "top": null,
            "visibility": null,
            "width": null
          }
        },
<<<<<<< HEAD
<<<<<<< HEAD
        "49abe5c8129b4a4ca6321aba57794872": {
=======
        "c99020bc905b4bda8a97c209f7c8b9fa": {
>>>>>>> 043a282815e330e79882eb927d74c15f11ae2ce2
=======
        "c99020bc905b4bda8a97c209f7c8b9fa": {
>>>>>>> 8d31783db698437b09448df3e24b6b6699ee0f70
          "model_module": "@jupyter-widgets/controls",
          "model_name": "ProgressStyleModel",
          "model_module_version": "1.5.0",
          "state": {
            "_model_module": "@jupyter-widgets/controls",
            "_model_module_version": "1.5.0",
            "_model_name": "ProgressStyleModel",
            "_view_count": null,
            "_view_module": "@jupyter-widgets/base",
            "_view_module_version": "1.2.0",
            "_view_name": "StyleView",
            "bar_color": null,
            "description_width": ""
          }
        },
<<<<<<< HEAD
<<<<<<< HEAD
        "a946566a03e445f282ca4f17c9e29202": {
=======
        "1c53d59de00e4c34a474a30280c2fb97": {
>>>>>>> 043a282815e330e79882eb927d74c15f11ae2ce2
=======
        "1c53d59de00e4c34a474a30280c2fb97": {
>>>>>>> 8d31783db698437b09448df3e24b6b6699ee0f70
          "model_module": "@jupyter-widgets/base",
          "model_name": "LayoutModel",
          "model_module_version": "1.2.0",
          "state": {
            "_model_module": "@jupyter-widgets/base",
            "_model_module_version": "1.2.0",
            "_model_name": "LayoutModel",
            "_view_count": null,
            "_view_module": "@jupyter-widgets/base",
            "_view_module_version": "1.2.0",
            "_view_name": "LayoutView",
            "align_content": null,
            "align_items": null,
            "align_self": null,
            "border": null,
            "bottom": null,
            "display": null,
            "flex": null,
            "flex_flow": null,
            "grid_area": null,
            "grid_auto_columns": null,
            "grid_auto_flow": null,
            "grid_auto_rows": null,
            "grid_column": null,
            "grid_gap": null,
            "grid_row": null,
            "grid_template_areas": null,
            "grid_template_columns": null,
            "grid_template_rows": null,
            "height": null,
            "justify_content": null,
            "justify_items": null,
            "left": null,
            "margin": null,
            "max_height": null,
            "max_width": null,
            "min_height": null,
            "min_width": null,
            "object_fit": null,
            "object_position": null,
            "order": null,
            "overflow": null,
            "overflow_x": null,
            "overflow_y": null,
            "padding": null,
            "right": null,
            "top": null,
            "visibility": null,
            "width": null
          }
        },
<<<<<<< HEAD
<<<<<<< HEAD
        "de0f2942822444efb77b0f1d0885e41a": {
=======
        "025a2b8b27af409a9bea74dd315ff236": {
>>>>>>> 043a282815e330e79882eb927d74c15f11ae2ce2
=======
        "025a2b8b27af409a9bea74dd315ff236": {
>>>>>>> 8d31783db698437b09448df3e24b6b6699ee0f70
          "model_module": "@jupyter-widgets/controls",
          "model_name": "DescriptionStyleModel",
          "model_module_version": "1.5.0",
          "state": {
            "_model_module": "@jupyter-widgets/controls",
            "_model_module_version": "1.5.0",
            "_model_name": "DescriptionStyleModel",
            "_view_count": null,
            "_view_module": "@jupyter-widgets/base",
            "_view_module_version": "1.2.0",
            "_view_name": "StyleView",
            "description_width": ""
          }
        },
<<<<<<< HEAD
<<<<<<< HEAD
        "f8468f01f458417ca4c9acf3e8f398cf": {
=======
        "7947347ddd364ebe9cefc2c22b468180": {
>>>>>>> 043a282815e330e79882eb927d74c15f11ae2ce2
=======
        "7947347ddd364ebe9cefc2c22b468180": {
>>>>>>> 8d31783db698437b09448df3e24b6b6699ee0f70
          "model_module": "@jupyter-widgets/controls",
          "model_name": "HBoxModel",
          "model_module_version": "1.5.0",
          "state": {
            "_dom_classes": [],
            "_model_module": "@jupyter-widgets/controls",
            "_model_module_version": "1.5.0",
            "_model_name": "HBoxModel",
            "_view_count": null,
            "_view_module": "@jupyter-widgets/controls",
            "_view_module_version": "1.5.0",
            "_view_name": "HBoxView",
            "box_style": "",
            "children": [
<<<<<<< HEAD
<<<<<<< HEAD
              "IPY_MODEL_aaa9cd4437484804a1ce74cdeafffaaf",
              "IPY_MODEL_9a9b6a978baf4f2ea7bb819e8fd4aeed",
              "IPY_MODEL_3374cfaeb7494ca4a2273d92b526d8cb"
            ],
            "layout": "IPY_MODEL_4ac368d38df746cbbb2335017e50c583"
          }
        },
        "aaa9cd4437484804a1ce74cdeafffaaf": {
=======
=======
>>>>>>> 8d31783db698437b09448df3e24b6b6699ee0f70
              "IPY_MODEL_95336760bb0e4f76b9cfd2788e47ffcf",
              "IPY_MODEL_4e5ada09fc0845ecb7374925e14766d9",
              "IPY_MODEL_f7d635420b734a5783273b60a133c528"
            ],
            "layout": "IPY_MODEL_bf3f3b5cd4a1460a88fd5903e2ce714c"
          }
        },
        "95336760bb0e4f76b9cfd2788e47ffcf": {
<<<<<<< HEAD
>>>>>>> 043a282815e330e79882eb927d74c15f11ae2ce2
=======
>>>>>>> 8d31783db698437b09448df3e24b6b6699ee0f70
          "model_module": "@jupyter-widgets/controls",
          "model_name": "HTMLModel",
          "model_module_version": "1.5.0",
          "state": {
            "_dom_classes": [],
            "_model_module": "@jupyter-widgets/controls",
            "_model_module_version": "1.5.0",
            "_model_name": "HTMLModel",
            "_view_count": null,
            "_view_module": "@jupyter-widgets/controls",
            "_view_module_version": "1.5.0",
            "_view_name": "HTMLView",
            "description": "",
            "description_tooltip": null,
<<<<<<< HEAD
<<<<<<< HEAD
            "layout": "IPY_MODEL_61770cfe02b24661be4d2cceeb450cc2",
            "placeholder": "​",
            "style": "IPY_MODEL_d81091372d0643d08df7256a7d639966",
            "value": "100%"
          }
        },
        "9a9b6a978baf4f2ea7bb819e8fd4aeed": {
=======
=======
>>>>>>> 8d31783db698437b09448df3e24b6b6699ee0f70
            "layout": "IPY_MODEL_438caf85ca4141aea7994a4e51d57032",
            "placeholder": "​",
            "style": "IPY_MODEL_8428eca1b5fa4378b135e14365078287",
            "value": "100%"
          }
        },
        "4e5ada09fc0845ecb7374925e14766d9": {
<<<<<<< HEAD
>>>>>>> 043a282815e330e79882eb927d74c15f11ae2ce2
=======
>>>>>>> 8d31783db698437b09448df3e24b6b6699ee0f70
          "model_module": "@jupyter-widgets/controls",
          "model_name": "FloatProgressModel",
          "model_module_version": "1.5.0",
          "state": {
            "_dom_classes": [],
            "_model_module": "@jupyter-widgets/controls",
            "_model_module_version": "1.5.0",
            "_model_name": "FloatProgressModel",
            "_view_count": null,
            "_view_module": "@jupyter-widgets/controls",
            "_view_module_version": "1.5.0",
            "_view_name": "ProgressView",
            "bar_style": "success",
            "description": "",
            "description_tooltip": null,
<<<<<<< HEAD
<<<<<<< HEAD
            "layout": "IPY_MODEL_55c2aeec1ae54733be91e3008c00313f",
            "max": 135,
            "min": 0,
            "orientation": "horizontal",
            "style": "IPY_MODEL_496f02df83724ec6af3ff75f8529f9f0",
            "value": 135
          }
        },
        "3374cfaeb7494ca4a2273d92b526d8cb": {
=======
=======
>>>>>>> 8d31783db698437b09448df3e24b6b6699ee0f70
            "layout": "IPY_MODEL_c8b4eb10baa44ce88d481e874feb63a3",
            "max": 135,
            "min": 0,
            "orientation": "horizontal",
            "style": "IPY_MODEL_4863387caccf48bea26537ba51ad087d",
            "value": 135
          }
        },
        "f7d635420b734a5783273b60a133c528": {
<<<<<<< HEAD
>>>>>>> 043a282815e330e79882eb927d74c15f11ae2ce2
=======
>>>>>>> 8d31783db698437b09448df3e24b6b6699ee0f70
          "model_module": "@jupyter-widgets/controls",
          "model_name": "HTMLModel",
          "model_module_version": "1.5.0",
          "state": {
            "_dom_classes": [],
            "_model_module": "@jupyter-widgets/controls",
            "_model_module_version": "1.5.0",
            "_model_name": "HTMLModel",
            "_view_count": null,
            "_view_module": "@jupyter-widgets/controls",
            "_view_module_version": "1.5.0",
            "_view_name": "HTMLView",
            "description": "",
            "description_tooltip": null,
<<<<<<< HEAD
<<<<<<< HEAD
            "layout": "IPY_MODEL_10db9df503114f4ca36fb0c4a8727b39",
            "placeholder": "​",
            "style": "IPY_MODEL_a0c028f0273b4cd38116db8da2686c33",
            "value": " 135/135 [00:00&lt;00:00, 273.19it/s]"
          }
        },
        "4ac368d38df746cbbb2335017e50c583": {
=======
=======
>>>>>>> 8d31783db698437b09448df3e24b6b6699ee0f70
            "layout": "IPY_MODEL_5602566e1cc64070b9964b3174d63216",
            "placeholder": "​",
            "style": "IPY_MODEL_0a1605184feb4f97a20bad2a60471350",
            "value": " 135/135 [00:00&lt;00:00, 283.14it/s]"
          }
        },
        "bf3f3b5cd4a1460a88fd5903e2ce714c": {
<<<<<<< HEAD
>>>>>>> 043a282815e330e79882eb927d74c15f11ae2ce2
=======
>>>>>>> 8d31783db698437b09448df3e24b6b6699ee0f70
          "model_module": "@jupyter-widgets/base",
          "model_name": "LayoutModel",
          "model_module_version": "1.2.0",
          "state": {
            "_model_module": "@jupyter-widgets/base",
            "_model_module_version": "1.2.0",
            "_model_name": "LayoutModel",
            "_view_count": null,
            "_view_module": "@jupyter-widgets/base",
            "_view_module_version": "1.2.0",
            "_view_name": "LayoutView",
            "align_content": null,
            "align_items": null,
            "align_self": null,
            "border": null,
            "bottom": null,
            "display": null,
            "flex": null,
            "flex_flow": null,
            "grid_area": null,
            "grid_auto_columns": null,
            "grid_auto_flow": null,
            "grid_auto_rows": null,
            "grid_column": null,
            "grid_gap": null,
            "grid_row": null,
            "grid_template_areas": null,
            "grid_template_columns": null,
            "grid_template_rows": null,
            "height": null,
            "justify_content": null,
            "justify_items": null,
            "left": null,
            "margin": null,
            "max_height": null,
            "max_width": null,
            "min_height": null,
            "min_width": null,
            "object_fit": null,
            "object_position": null,
            "order": null,
            "overflow": null,
            "overflow_x": null,
            "overflow_y": null,
            "padding": null,
            "right": null,
            "top": null,
            "visibility": null,
            "width": null
          }
        },
<<<<<<< HEAD
<<<<<<< HEAD
        "61770cfe02b24661be4d2cceeb450cc2": {
=======
        "438caf85ca4141aea7994a4e51d57032": {
>>>>>>> 043a282815e330e79882eb927d74c15f11ae2ce2
=======
        "438caf85ca4141aea7994a4e51d57032": {
>>>>>>> 8d31783db698437b09448df3e24b6b6699ee0f70
          "model_module": "@jupyter-widgets/base",
          "model_name": "LayoutModel",
          "model_module_version": "1.2.0",
          "state": {
            "_model_module": "@jupyter-widgets/base",
            "_model_module_version": "1.2.0",
            "_model_name": "LayoutModel",
            "_view_count": null,
            "_view_module": "@jupyter-widgets/base",
            "_view_module_version": "1.2.0",
            "_view_name": "LayoutView",
            "align_content": null,
            "align_items": null,
            "align_self": null,
            "border": null,
            "bottom": null,
            "display": null,
            "flex": null,
            "flex_flow": null,
            "grid_area": null,
            "grid_auto_columns": null,
            "grid_auto_flow": null,
            "grid_auto_rows": null,
            "grid_column": null,
            "grid_gap": null,
            "grid_row": null,
            "grid_template_areas": null,
            "grid_template_columns": null,
            "grid_template_rows": null,
            "height": null,
            "justify_content": null,
            "justify_items": null,
            "left": null,
            "margin": null,
            "max_height": null,
            "max_width": null,
            "min_height": null,
            "min_width": null,
            "object_fit": null,
            "object_position": null,
            "order": null,
            "overflow": null,
            "overflow_x": null,
            "overflow_y": null,
            "padding": null,
            "right": null,
            "top": null,
            "visibility": null,
            "width": null
          }
        },
<<<<<<< HEAD
<<<<<<< HEAD
        "d81091372d0643d08df7256a7d639966": {
=======
        "8428eca1b5fa4378b135e14365078287": {
>>>>>>> 043a282815e330e79882eb927d74c15f11ae2ce2
=======
        "8428eca1b5fa4378b135e14365078287": {
>>>>>>> 8d31783db698437b09448df3e24b6b6699ee0f70
          "model_module": "@jupyter-widgets/controls",
          "model_name": "DescriptionStyleModel",
          "model_module_version": "1.5.0",
          "state": {
            "_model_module": "@jupyter-widgets/controls",
            "_model_module_version": "1.5.0",
            "_model_name": "DescriptionStyleModel",
            "_view_count": null,
            "_view_module": "@jupyter-widgets/base",
            "_view_module_version": "1.2.0",
            "_view_name": "StyleView",
            "description_width": ""
          }
        },
<<<<<<< HEAD
<<<<<<< HEAD
        "55c2aeec1ae54733be91e3008c00313f": {
=======
        "c8b4eb10baa44ce88d481e874feb63a3": {
>>>>>>> 043a282815e330e79882eb927d74c15f11ae2ce2
=======
        "c8b4eb10baa44ce88d481e874feb63a3": {
>>>>>>> 8d31783db698437b09448df3e24b6b6699ee0f70
          "model_module": "@jupyter-widgets/base",
          "model_name": "LayoutModel",
          "model_module_version": "1.2.0",
          "state": {
            "_model_module": "@jupyter-widgets/base",
            "_model_module_version": "1.2.0",
            "_model_name": "LayoutModel",
            "_view_count": null,
            "_view_module": "@jupyter-widgets/base",
            "_view_module_version": "1.2.0",
            "_view_name": "LayoutView",
            "align_content": null,
            "align_items": null,
            "align_self": null,
            "border": null,
            "bottom": null,
            "display": null,
            "flex": null,
            "flex_flow": null,
            "grid_area": null,
            "grid_auto_columns": null,
            "grid_auto_flow": null,
            "grid_auto_rows": null,
            "grid_column": null,
            "grid_gap": null,
            "grid_row": null,
            "grid_template_areas": null,
            "grid_template_columns": null,
            "grid_template_rows": null,
            "height": null,
            "justify_content": null,
            "justify_items": null,
            "left": null,
            "margin": null,
            "max_height": null,
            "max_width": null,
            "min_height": null,
            "min_width": null,
            "object_fit": null,
            "object_position": null,
            "order": null,
            "overflow": null,
            "overflow_x": null,
            "overflow_y": null,
            "padding": null,
            "right": null,
            "top": null,
            "visibility": null,
            "width": null
          }
        },
<<<<<<< HEAD
<<<<<<< HEAD
        "496f02df83724ec6af3ff75f8529f9f0": {
=======
        "4863387caccf48bea26537ba51ad087d": {
>>>>>>> 043a282815e330e79882eb927d74c15f11ae2ce2
=======
        "4863387caccf48bea26537ba51ad087d": {
>>>>>>> 8d31783db698437b09448df3e24b6b6699ee0f70
          "model_module": "@jupyter-widgets/controls",
          "model_name": "ProgressStyleModel",
          "model_module_version": "1.5.0",
          "state": {
            "_model_module": "@jupyter-widgets/controls",
            "_model_module_version": "1.5.0",
            "_model_name": "ProgressStyleModel",
            "_view_count": null,
            "_view_module": "@jupyter-widgets/base",
            "_view_module_version": "1.2.0",
            "_view_name": "StyleView",
            "bar_color": null,
            "description_width": ""
          }
        },
<<<<<<< HEAD
<<<<<<< HEAD
        "10db9df503114f4ca36fb0c4a8727b39": {
=======
        "5602566e1cc64070b9964b3174d63216": {
>>>>>>> 043a282815e330e79882eb927d74c15f11ae2ce2
=======
        "5602566e1cc64070b9964b3174d63216": {
>>>>>>> 8d31783db698437b09448df3e24b6b6699ee0f70
          "model_module": "@jupyter-widgets/base",
          "model_name": "LayoutModel",
          "model_module_version": "1.2.0",
          "state": {
            "_model_module": "@jupyter-widgets/base",
            "_model_module_version": "1.2.0",
            "_model_name": "LayoutModel",
            "_view_count": null,
            "_view_module": "@jupyter-widgets/base",
            "_view_module_version": "1.2.0",
            "_view_name": "LayoutView",
            "align_content": null,
            "align_items": null,
            "align_self": null,
            "border": null,
            "bottom": null,
            "display": null,
            "flex": null,
            "flex_flow": null,
            "grid_area": null,
            "grid_auto_columns": null,
            "grid_auto_flow": null,
            "grid_auto_rows": null,
            "grid_column": null,
            "grid_gap": null,
            "grid_row": null,
            "grid_template_areas": null,
            "grid_template_columns": null,
            "grid_template_rows": null,
            "height": null,
            "justify_content": null,
            "justify_items": null,
            "left": null,
            "margin": null,
            "max_height": null,
            "max_width": null,
            "min_height": null,
            "min_width": null,
            "object_fit": null,
            "object_position": null,
            "order": null,
            "overflow": null,
            "overflow_x": null,
            "overflow_y": null,
            "padding": null,
            "right": null,
            "top": null,
            "visibility": null,
            "width": null
          }
        },
<<<<<<< HEAD
<<<<<<< HEAD
        "a0c028f0273b4cd38116db8da2686c33": {
=======
        "0a1605184feb4f97a20bad2a60471350": {
>>>>>>> 043a282815e330e79882eb927d74c15f11ae2ce2
=======
        "0a1605184feb4f97a20bad2a60471350": {
>>>>>>> 8d31783db698437b09448df3e24b6b6699ee0f70
          "model_module": "@jupyter-widgets/controls",
          "model_name": "DescriptionStyleModel",
          "model_module_version": "1.5.0",
          "state": {
            "_model_module": "@jupyter-widgets/controls",
            "_model_module_version": "1.5.0",
            "_model_name": "DescriptionStyleModel",
            "_view_count": null,
            "_view_module": "@jupyter-widgets/base",
            "_view_module_version": "1.2.0",
            "_view_name": "StyleView",
            "description_width": ""
          }
        },
<<<<<<< HEAD
<<<<<<< HEAD
        "8335c516b70849fc89d81d18afed8a8a": {
=======
        "3ddeba1f190148a2b64f8efa9f0419e7": {
>>>>>>> 043a282815e330e79882eb927d74c15f11ae2ce2
=======
        "3ddeba1f190148a2b64f8efa9f0419e7": {
>>>>>>> 8d31783db698437b09448df3e24b6b6699ee0f70
          "model_module": "@jupyter-widgets/controls",
          "model_name": "HBoxModel",
          "model_module_version": "1.5.0",
          "state": {
            "_dom_classes": [],
            "_model_module": "@jupyter-widgets/controls",
            "_model_module_version": "1.5.0",
            "_model_name": "HBoxModel",
            "_view_count": null,
            "_view_module": "@jupyter-widgets/controls",
            "_view_module_version": "1.5.0",
            "_view_name": "HBoxView",
            "box_style": "",
            "children": [
<<<<<<< HEAD
<<<<<<< HEAD
              "IPY_MODEL_49eaf142435d41c4a8406807ee51231e",
              "IPY_MODEL_1e11b911d9024fc58c043206add163cc",
              "IPY_MODEL_ae884921a8f849378392ee50797a07b1"
            ],
            "layout": "IPY_MODEL_89a68cfe2eaa4d03a5b11d6824b08304"
          }
        },
        "49eaf142435d41c4a8406807ee51231e": {
=======
=======
>>>>>>> 8d31783db698437b09448df3e24b6b6699ee0f70
              "IPY_MODEL_dfcd5f82dbaf4d4a9799fd1b3b963a15",
              "IPY_MODEL_0db75b6826b541ed89175ed8d2f8d897",
              "IPY_MODEL_b9be77cce3df47c48ecc6990ac4c7c8f"
            ],
            "layout": "IPY_MODEL_f925fd27b90f4f9fab0c441c82d7e806"
          }
        },
        "dfcd5f82dbaf4d4a9799fd1b3b963a15": {
<<<<<<< HEAD
>>>>>>> 043a282815e330e79882eb927d74c15f11ae2ce2
=======
>>>>>>> 8d31783db698437b09448df3e24b6b6699ee0f70
          "model_module": "@jupyter-widgets/controls",
          "model_name": "HTMLModel",
          "model_module_version": "1.5.0",
          "state": {
            "_dom_classes": [],
            "_model_module": "@jupyter-widgets/controls",
            "_model_module_version": "1.5.0",
            "_model_name": "HTMLModel",
            "_view_count": null,
            "_view_module": "@jupyter-widgets/controls",
            "_view_module_version": "1.5.0",
            "_view_name": "HTMLView",
            "description": "",
            "description_tooltip": null,
<<<<<<< HEAD
<<<<<<< HEAD
            "layout": "IPY_MODEL_5abd8491cf834ac88d6aa067a8f27d54",
            "placeholder": "​",
            "style": "IPY_MODEL_3d6df439611f48ce89b58f22858bbaf7",
            "value": "100%"
          }
        },
        "1e11b911d9024fc58c043206add163cc": {
=======
=======
>>>>>>> 8d31783db698437b09448df3e24b6b6699ee0f70
            "layout": "IPY_MODEL_1a09af5501844905952380e5daecce38",
            "placeholder": "​",
            "style": "IPY_MODEL_e55a2d94c9134ce3a69f99146f4eebd6",
            "value": "100%"
          }
        },
        "0db75b6826b541ed89175ed8d2f8d897": {
<<<<<<< HEAD
>>>>>>> 043a282815e330e79882eb927d74c15f11ae2ce2
=======
>>>>>>> 8d31783db698437b09448df3e24b6b6699ee0f70
          "model_module": "@jupyter-widgets/controls",
          "model_name": "FloatProgressModel",
          "model_module_version": "1.5.0",
          "state": {
            "_dom_classes": [],
            "_model_module": "@jupyter-widgets/controls",
            "_model_module_version": "1.5.0",
            "_model_name": "FloatProgressModel",
            "_view_count": null,
            "_view_module": "@jupyter-widgets/controls",
            "_view_module_version": "1.5.0",
            "_view_name": "ProgressView",
            "bar_style": "success",
            "description": "",
            "description_tooltip": null,
<<<<<<< HEAD
<<<<<<< HEAD
            "layout": "IPY_MODEL_f6526d6ce46c4dcc84fcbc4af2cb135c",
            "max": 135,
            "min": 0,
            "orientation": "horizontal",
            "style": "IPY_MODEL_885fb47bae5742d4bf87ddc89ba806ec",
            "value": 135
          }
        },
        "ae884921a8f849378392ee50797a07b1": {
=======
=======
>>>>>>> 8d31783db698437b09448df3e24b6b6699ee0f70
            "layout": "IPY_MODEL_460d0d94323e4fad817221c4f14be8fd",
            "max": 135,
            "min": 0,
            "orientation": "horizontal",
            "style": "IPY_MODEL_0b01116d5a694b1f8b4a2b1fa76fbb23",
            "value": 135
          }
        },
        "b9be77cce3df47c48ecc6990ac4c7c8f": {
<<<<<<< HEAD
>>>>>>> 043a282815e330e79882eb927d74c15f11ae2ce2
=======
>>>>>>> 8d31783db698437b09448df3e24b6b6699ee0f70
          "model_module": "@jupyter-widgets/controls",
          "model_name": "HTMLModel",
          "model_module_version": "1.5.0",
          "state": {
            "_dom_classes": [],
            "_model_module": "@jupyter-widgets/controls",
            "_model_module_version": "1.5.0",
            "_model_name": "HTMLModel",
            "_view_count": null,
            "_view_module": "@jupyter-widgets/controls",
            "_view_module_version": "1.5.0",
            "_view_name": "HTMLView",
            "description": "",
            "description_tooltip": null,
<<<<<<< HEAD
<<<<<<< HEAD
            "layout": "IPY_MODEL_767624d6f35741c18514e449cac6b095",
            "placeholder": "​",
            "style": "IPY_MODEL_21bdabd14698401ca36a4a7b074c4e0c",
            "value": " 135/135 [00:00&lt;00:00, 268.59it/s]"
          }
        },
        "89a68cfe2eaa4d03a5b11d6824b08304": {
=======
=======
>>>>>>> 8d31783db698437b09448df3e24b6b6699ee0f70
            "layout": "IPY_MODEL_f617dd9b01e34f079f0e84ee2247d902",
            "placeholder": "​",
            "style": "IPY_MODEL_583aeb2fc5764fb99520c58f56e59c26",
            "value": " 135/135 [00:00&lt;00:00, 287.17it/s]"
          }
        },
        "f925fd27b90f4f9fab0c441c82d7e806": {
<<<<<<< HEAD
>>>>>>> 043a282815e330e79882eb927d74c15f11ae2ce2
=======
>>>>>>> 8d31783db698437b09448df3e24b6b6699ee0f70
          "model_module": "@jupyter-widgets/base",
          "model_name": "LayoutModel",
          "model_module_version": "1.2.0",
          "state": {
            "_model_module": "@jupyter-widgets/base",
            "_model_module_version": "1.2.0",
            "_model_name": "LayoutModel",
            "_view_count": null,
            "_view_module": "@jupyter-widgets/base",
            "_view_module_version": "1.2.0",
            "_view_name": "LayoutView",
            "align_content": null,
            "align_items": null,
            "align_self": null,
            "border": null,
            "bottom": null,
            "display": null,
            "flex": null,
            "flex_flow": null,
            "grid_area": null,
            "grid_auto_columns": null,
            "grid_auto_flow": null,
            "grid_auto_rows": null,
            "grid_column": null,
            "grid_gap": null,
            "grid_row": null,
            "grid_template_areas": null,
            "grid_template_columns": null,
            "grid_template_rows": null,
            "height": null,
            "justify_content": null,
            "justify_items": null,
            "left": null,
            "margin": null,
            "max_height": null,
            "max_width": null,
            "min_height": null,
            "min_width": null,
            "object_fit": null,
            "object_position": null,
            "order": null,
            "overflow": null,
            "overflow_x": null,
            "overflow_y": null,
            "padding": null,
            "right": null,
            "top": null,
            "visibility": null,
            "width": null
          }
        },
<<<<<<< HEAD
<<<<<<< HEAD
        "5abd8491cf834ac88d6aa067a8f27d54": {
=======
        "1a09af5501844905952380e5daecce38": {
>>>>>>> 043a282815e330e79882eb927d74c15f11ae2ce2
=======
        "1a09af5501844905952380e5daecce38": {
>>>>>>> 8d31783db698437b09448df3e24b6b6699ee0f70
          "model_module": "@jupyter-widgets/base",
          "model_name": "LayoutModel",
          "model_module_version": "1.2.0",
          "state": {
            "_model_module": "@jupyter-widgets/base",
            "_model_module_version": "1.2.0",
            "_model_name": "LayoutModel",
            "_view_count": null,
            "_view_module": "@jupyter-widgets/base",
            "_view_module_version": "1.2.0",
            "_view_name": "LayoutView",
            "align_content": null,
            "align_items": null,
            "align_self": null,
            "border": null,
            "bottom": null,
            "display": null,
            "flex": null,
            "flex_flow": null,
            "grid_area": null,
            "grid_auto_columns": null,
            "grid_auto_flow": null,
            "grid_auto_rows": null,
            "grid_column": null,
            "grid_gap": null,
            "grid_row": null,
            "grid_template_areas": null,
            "grid_template_columns": null,
            "grid_template_rows": null,
            "height": null,
            "justify_content": null,
            "justify_items": null,
            "left": null,
            "margin": null,
            "max_height": null,
            "max_width": null,
            "min_height": null,
            "min_width": null,
            "object_fit": null,
            "object_position": null,
            "order": null,
            "overflow": null,
            "overflow_x": null,
            "overflow_y": null,
            "padding": null,
            "right": null,
            "top": null,
            "visibility": null,
            "width": null
          }
        },
<<<<<<< HEAD
<<<<<<< HEAD
        "3d6df439611f48ce89b58f22858bbaf7": {
=======
        "e55a2d94c9134ce3a69f99146f4eebd6": {
>>>>>>> 043a282815e330e79882eb927d74c15f11ae2ce2
=======
        "e55a2d94c9134ce3a69f99146f4eebd6": {
>>>>>>> 8d31783db698437b09448df3e24b6b6699ee0f70
          "model_module": "@jupyter-widgets/controls",
          "model_name": "DescriptionStyleModel",
          "model_module_version": "1.5.0",
          "state": {
            "_model_module": "@jupyter-widgets/controls",
            "_model_module_version": "1.5.0",
            "_model_name": "DescriptionStyleModel",
            "_view_count": null,
            "_view_module": "@jupyter-widgets/base",
            "_view_module_version": "1.2.0",
            "_view_name": "StyleView",
            "description_width": ""
          }
        },
<<<<<<< HEAD
<<<<<<< HEAD
        "f6526d6ce46c4dcc84fcbc4af2cb135c": {
=======
        "460d0d94323e4fad817221c4f14be8fd": {
>>>>>>> 043a282815e330e79882eb927d74c15f11ae2ce2
=======
        "460d0d94323e4fad817221c4f14be8fd": {
>>>>>>> 8d31783db698437b09448df3e24b6b6699ee0f70
          "model_module": "@jupyter-widgets/base",
          "model_name": "LayoutModel",
          "model_module_version": "1.2.0",
          "state": {
            "_model_module": "@jupyter-widgets/base",
            "_model_module_version": "1.2.0",
            "_model_name": "LayoutModel",
            "_view_count": null,
            "_view_module": "@jupyter-widgets/base",
            "_view_module_version": "1.2.0",
            "_view_name": "LayoutView",
            "align_content": null,
            "align_items": null,
            "align_self": null,
            "border": null,
            "bottom": null,
            "display": null,
            "flex": null,
            "flex_flow": null,
            "grid_area": null,
            "grid_auto_columns": null,
            "grid_auto_flow": null,
            "grid_auto_rows": null,
            "grid_column": null,
            "grid_gap": null,
            "grid_row": null,
            "grid_template_areas": null,
            "grid_template_columns": null,
            "grid_template_rows": null,
            "height": null,
            "justify_content": null,
            "justify_items": null,
            "left": null,
            "margin": null,
            "max_height": null,
            "max_width": null,
            "min_height": null,
            "min_width": null,
            "object_fit": null,
            "object_position": null,
            "order": null,
            "overflow": null,
            "overflow_x": null,
            "overflow_y": null,
            "padding": null,
            "right": null,
            "top": null,
            "visibility": null,
            "width": null
          }
        },
<<<<<<< HEAD
<<<<<<< HEAD
        "885fb47bae5742d4bf87ddc89ba806ec": {
=======
        "0b01116d5a694b1f8b4a2b1fa76fbb23": {
>>>>>>> 043a282815e330e79882eb927d74c15f11ae2ce2
=======
        "0b01116d5a694b1f8b4a2b1fa76fbb23": {
>>>>>>> 8d31783db698437b09448df3e24b6b6699ee0f70
          "model_module": "@jupyter-widgets/controls",
          "model_name": "ProgressStyleModel",
          "model_module_version": "1.5.0",
          "state": {
            "_model_module": "@jupyter-widgets/controls",
            "_model_module_version": "1.5.0",
            "_model_name": "ProgressStyleModel",
            "_view_count": null,
            "_view_module": "@jupyter-widgets/base",
            "_view_module_version": "1.2.0",
            "_view_name": "StyleView",
            "bar_color": null,
            "description_width": ""
          }
        },
<<<<<<< HEAD
<<<<<<< HEAD
        "767624d6f35741c18514e449cac6b095": {
=======
        "f617dd9b01e34f079f0e84ee2247d902": {
>>>>>>> 043a282815e330e79882eb927d74c15f11ae2ce2
=======
        "f617dd9b01e34f079f0e84ee2247d902": {
>>>>>>> 8d31783db698437b09448df3e24b6b6699ee0f70
          "model_module": "@jupyter-widgets/base",
          "model_name": "LayoutModel",
          "model_module_version": "1.2.0",
          "state": {
            "_model_module": "@jupyter-widgets/base",
            "_model_module_version": "1.2.0",
            "_model_name": "LayoutModel",
            "_view_count": null,
            "_view_module": "@jupyter-widgets/base",
            "_view_module_version": "1.2.0",
            "_view_name": "LayoutView",
            "align_content": null,
            "align_items": null,
            "align_self": null,
            "border": null,
            "bottom": null,
            "display": null,
            "flex": null,
            "flex_flow": null,
            "grid_area": null,
            "grid_auto_columns": null,
            "grid_auto_flow": null,
            "grid_auto_rows": null,
            "grid_column": null,
            "grid_gap": null,
            "grid_row": null,
            "grid_template_areas": null,
            "grid_template_columns": null,
            "grid_template_rows": null,
            "height": null,
            "justify_content": null,
            "justify_items": null,
            "left": null,
            "margin": null,
            "max_height": null,
            "max_width": null,
            "min_height": null,
            "min_width": null,
            "object_fit": null,
            "object_position": null,
            "order": null,
            "overflow": null,
            "overflow_x": null,
            "overflow_y": null,
            "padding": null,
            "right": null,
            "top": null,
            "visibility": null,
            "width": null
          }
        },
<<<<<<< HEAD
<<<<<<< HEAD
        "21bdabd14698401ca36a4a7b074c4e0c": {
=======
        "583aeb2fc5764fb99520c58f56e59c26": {
>>>>>>> 043a282815e330e79882eb927d74c15f11ae2ce2
=======
        "583aeb2fc5764fb99520c58f56e59c26": {
>>>>>>> 8d31783db698437b09448df3e24b6b6699ee0f70
          "model_module": "@jupyter-widgets/controls",
          "model_name": "DescriptionStyleModel",
          "model_module_version": "1.5.0",
          "state": {
            "_model_module": "@jupyter-widgets/controls",
            "_model_module_version": "1.5.0",
            "_model_name": "DescriptionStyleModel",
            "_view_count": null,
            "_view_module": "@jupyter-widgets/base",
            "_view_module_version": "1.2.0",
            "_view_name": "StyleView",
            "description_width": ""
          }
        },
<<<<<<< HEAD
<<<<<<< HEAD
        "d1af70b9214a4386b2269bd0a7e91b92": {
=======
        "716068d8c3aa4c939334708496365184": {
>>>>>>> 043a282815e330e79882eb927d74c15f11ae2ce2
=======
        "716068d8c3aa4c939334708496365184": {
>>>>>>> 8d31783db698437b09448df3e24b6b6699ee0f70
          "model_module": "@jupyter-widgets/controls",
          "model_name": "HBoxModel",
          "model_module_version": "1.5.0",
          "state": {
            "_dom_classes": [],
            "_model_module": "@jupyter-widgets/controls",
            "_model_module_version": "1.5.0",
            "_model_name": "HBoxModel",
            "_view_count": null,
            "_view_module": "@jupyter-widgets/controls",
            "_view_module_version": "1.5.0",
            "_view_name": "HBoxView",
            "box_style": "",
            "children": [
<<<<<<< HEAD
<<<<<<< HEAD
              "IPY_MODEL_cc21b1bcd38b4b21b16dd93a233f9dd5",
              "IPY_MODEL_d061ff2ad4114adaa6a49a6c0c5db6b8",
              "IPY_MODEL_eb9fe34ebab64172b74d2c1a75896380"
            ],
            "layout": "IPY_MODEL_f4c46dc3ecd24821a2a4527d62c451e8"
          }
        },
        "cc21b1bcd38b4b21b16dd93a233f9dd5": {
=======
=======
>>>>>>> 8d31783db698437b09448df3e24b6b6699ee0f70
              "IPY_MODEL_c2f4c51f318049aaa9d04bb5bb960dc1",
              "IPY_MODEL_20109dc2faee4101adaa8b6580ac1e70",
              "IPY_MODEL_691f48c600194b31b453064605edbd8b"
            ],
            "layout": "IPY_MODEL_f472eb5548684c2fbae774f88a57ced3"
          }
        },
        "c2f4c51f318049aaa9d04bb5bb960dc1": {
<<<<<<< HEAD
>>>>>>> 043a282815e330e79882eb927d74c15f11ae2ce2
=======
>>>>>>> 8d31783db698437b09448df3e24b6b6699ee0f70
          "model_module": "@jupyter-widgets/controls",
          "model_name": "HTMLModel",
          "model_module_version": "1.5.0",
          "state": {
            "_dom_classes": [],
            "_model_module": "@jupyter-widgets/controls",
            "_model_module_version": "1.5.0",
            "_model_name": "HTMLModel",
            "_view_count": null,
            "_view_module": "@jupyter-widgets/controls",
            "_view_module_version": "1.5.0",
            "_view_name": "HTMLView",
            "description": "",
            "description_tooltip": null,
<<<<<<< HEAD
<<<<<<< HEAD
            "layout": "IPY_MODEL_eed9ea50c4464d798a736cd8e7b227d6",
            "placeholder": "​",
            "style": "IPY_MODEL_0f7339da4f0c4745b229cb2f2bd2b51a",
            "value": "100%"
          }
        },
        "d061ff2ad4114adaa6a49a6c0c5db6b8": {
=======
=======
>>>>>>> 8d31783db698437b09448df3e24b6b6699ee0f70
            "layout": "IPY_MODEL_83a436501dbc4cd49657413445b83832",
            "placeholder": "​",
            "style": "IPY_MODEL_89b43a9bb9c84aacb4419e3d97f3c50e",
            "value": "100%"
          }
        },
        "20109dc2faee4101adaa8b6580ac1e70": {
<<<<<<< HEAD
>>>>>>> 043a282815e330e79882eb927d74c15f11ae2ce2
=======
>>>>>>> 8d31783db698437b09448df3e24b6b6699ee0f70
          "model_module": "@jupyter-widgets/controls",
          "model_name": "FloatProgressModel",
          "model_module_version": "1.5.0",
          "state": {
            "_dom_classes": [],
            "_model_module": "@jupyter-widgets/controls",
            "_model_module_version": "1.5.0",
            "_model_name": "FloatProgressModel",
            "_view_count": null,
            "_view_module": "@jupyter-widgets/controls",
            "_view_module_version": "1.5.0",
            "_view_name": "ProgressView",
            "bar_style": "success",
            "description": "",
            "description_tooltip": null,
<<<<<<< HEAD
<<<<<<< HEAD
            "layout": "IPY_MODEL_75b537e075dc412eb5653e4be662866a",
            "max": 136,
            "min": 0,
            "orientation": "horizontal",
            "style": "IPY_MODEL_4785e34c5a87495aa65d8a5a03fa8e80",
            "value": 136
          }
        },
        "eb9fe34ebab64172b74d2c1a75896380": {
=======
=======
>>>>>>> 8d31783db698437b09448df3e24b6b6699ee0f70
            "layout": "IPY_MODEL_2379f2087da549729851d864c5b96e1e",
            "max": 136,
            "min": 0,
            "orientation": "horizontal",
            "style": "IPY_MODEL_5297cba890844882a397984f5d363ab0",
            "value": 136
          }
        },
        "691f48c600194b31b453064605edbd8b": {
<<<<<<< HEAD
>>>>>>> 043a282815e330e79882eb927d74c15f11ae2ce2
=======
>>>>>>> 8d31783db698437b09448df3e24b6b6699ee0f70
          "model_module": "@jupyter-widgets/controls",
          "model_name": "HTMLModel",
          "model_module_version": "1.5.0",
          "state": {
            "_dom_classes": [],
            "_model_module": "@jupyter-widgets/controls",
            "_model_module_version": "1.5.0",
            "_model_name": "HTMLModel",
            "_view_count": null,
            "_view_module": "@jupyter-widgets/controls",
            "_view_module_version": "1.5.0",
            "_view_name": "HTMLView",
            "description": "",
            "description_tooltip": null,
<<<<<<< HEAD
<<<<<<< HEAD
            "layout": "IPY_MODEL_511de2ad749c4d14806988fb639c149b",
            "placeholder": "​",
            "style": "IPY_MODEL_220ca5f924744f0681ebff70d7198089",
            "value": " 136/136 [00:00&lt;00:00, 265.58it/s]"
          }
        },
        "f4c46dc3ecd24821a2a4527d62c451e8": {
=======
=======
>>>>>>> 8d31783db698437b09448df3e24b6b6699ee0f70
            "layout": "IPY_MODEL_7ad360375d8548fba1115bac528d74a2",
            "placeholder": "​",
            "style": "IPY_MODEL_70d5a069ae2046d78f51971668baaed9",
            "value": " 136/136 [00:00&lt;00:00, 275.97it/s]"
          }
        },
        "f472eb5548684c2fbae774f88a57ced3": {
<<<<<<< HEAD
>>>>>>> 043a282815e330e79882eb927d74c15f11ae2ce2
=======
>>>>>>> 8d31783db698437b09448df3e24b6b6699ee0f70
          "model_module": "@jupyter-widgets/base",
          "model_name": "LayoutModel",
          "model_module_version": "1.2.0",
          "state": {
            "_model_module": "@jupyter-widgets/base",
            "_model_module_version": "1.2.0",
            "_model_name": "LayoutModel",
            "_view_count": null,
            "_view_module": "@jupyter-widgets/base",
            "_view_module_version": "1.2.0",
            "_view_name": "LayoutView",
            "align_content": null,
            "align_items": null,
            "align_self": null,
            "border": null,
            "bottom": null,
            "display": null,
            "flex": null,
            "flex_flow": null,
            "grid_area": null,
            "grid_auto_columns": null,
            "grid_auto_flow": null,
            "grid_auto_rows": null,
            "grid_column": null,
            "grid_gap": null,
            "grid_row": null,
            "grid_template_areas": null,
            "grid_template_columns": null,
            "grid_template_rows": null,
            "height": null,
            "justify_content": null,
            "justify_items": null,
            "left": null,
            "margin": null,
            "max_height": null,
            "max_width": null,
            "min_height": null,
            "min_width": null,
            "object_fit": null,
            "object_position": null,
            "order": null,
            "overflow": null,
            "overflow_x": null,
            "overflow_y": null,
            "padding": null,
            "right": null,
            "top": null,
            "visibility": null,
            "width": null
          }
        },
<<<<<<< HEAD
<<<<<<< HEAD
        "eed9ea50c4464d798a736cd8e7b227d6": {
=======
        "83a436501dbc4cd49657413445b83832": {
>>>>>>> 043a282815e330e79882eb927d74c15f11ae2ce2
=======
        "83a436501dbc4cd49657413445b83832": {
>>>>>>> 8d31783db698437b09448df3e24b6b6699ee0f70
          "model_module": "@jupyter-widgets/base",
          "model_name": "LayoutModel",
          "model_module_version": "1.2.0",
          "state": {
            "_model_module": "@jupyter-widgets/base",
            "_model_module_version": "1.2.0",
            "_model_name": "LayoutModel",
            "_view_count": null,
            "_view_module": "@jupyter-widgets/base",
            "_view_module_version": "1.2.0",
            "_view_name": "LayoutView",
            "align_content": null,
            "align_items": null,
            "align_self": null,
            "border": null,
            "bottom": null,
            "display": null,
            "flex": null,
            "flex_flow": null,
            "grid_area": null,
            "grid_auto_columns": null,
            "grid_auto_flow": null,
            "grid_auto_rows": null,
            "grid_column": null,
            "grid_gap": null,
            "grid_row": null,
            "grid_template_areas": null,
            "grid_template_columns": null,
            "grid_template_rows": null,
            "height": null,
            "justify_content": null,
            "justify_items": null,
            "left": null,
            "margin": null,
            "max_height": null,
            "max_width": null,
            "min_height": null,
            "min_width": null,
            "object_fit": null,
            "object_position": null,
            "order": null,
            "overflow": null,
            "overflow_x": null,
            "overflow_y": null,
            "padding": null,
            "right": null,
            "top": null,
            "visibility": null,
            "width": null
          }
        },
<<<<<<< HEAD
<<<<<<< HEAD
        "0f7339da4f0c4745b229cb2f2bd2b51a": {
=======
        "89b43a9bb9c84aacb4419e3d97f3c50e": {
>>>>>>> 043a282815e330e79882eb927d74c15f11ae2ce2
=======
        "89b43a9bb9c84aacb4419e3d97f3c50e": {
>>>>>>> 8d31783db698437b09448df3e24b6b6699ee0f70
          "model_module": "@jupyter-widgets/controls",
          "model_name": "DescriptionStyleModel",
          "model_module_version": "1.5.0",
          "state": {
            "_model_module": "@jupyter-widgets/controls",
            "_model_module_version": "1.5.0",
            "_model_name": "DescriptionStyleModel",
            "_view_count": null,
            "_view_module": "@jupyter-widgets/base",
            "_view_module_version": "1.2.0",
            "_view_name": "StyleView",
            "description_width": ""
          }
        },
<<<<<<< HEAD
<<<<<<< HEAD
        "75b537e075dc412eb5653e4be662866a": {
=======
        "2379f2087da549729851d864c5b96e1e": {
>>>>>>> 043a282815e330e79882eb927d74c15f11ae2ce2
=======
        "2379f2087da549729851d864c5b96e1e": {
>>>>>>> 8d31783db698437b09448df3e24b6b6699ee0f70
          "model_module": "@jupyter-widgets/base",
          "model_name": "LayoutModel",
          "model_module_version": "1.2.0",
          "state": {
            "_model_module": "@jupyter-widgets/base",
            "_model_module_version": "1.2.0",
            "_model_name": "LayoutModel",
            "_view_count": null,
            "_view_module": "@jupyter-widgets/base",
            "_view_module_version": "1.2.0",
            "_view_name": "LayoutView",
            "align_content": null,
            "align_items": null,
            "align_self": null,
            "border": null,
            "bottom": null,
            "display": null,
            "flex": null,
            "flex_flow": null,
            "grid_area": null,
            "grid_auto_columns": null,
            "grid_auto_flow": null,
            "grid_auto_rows": null,
            "grid_column": null,
            "grid_gap": null,
            "grid_row": null,
            "grid_template_areas": null,
            "grid_template_columns": null,
            "grid_template_rows": null,
            "height": null,
            "justify_content": null,
            "justify_items": null,
            "left": null,
            "margin": null,
            "max_height": null,
            "max_width": null,
            "min_height": null,
            "min_width": null,
            "object_fit": null,
            "object_position": null,
            "order": null,
            "overflow": null,
            "overflow_x": null,
            "overflow_y": null,
            "padding": null,
            "right": null,
            "top": null,
            "visibility": null,
            "width": null
          }
        },
<<<<<<< HEAD
<<<<<<< HEAD
        "4785e34c5a87495aa65d8a5a03fa8e80": {
=======
        "5297cba890844882a397984f5d363ab0": {
>>>>>>> 043a282815e330e79882eb927d74c15f11ae2ce2
=======
        "5297cba890844882a397984f5d363ab0": {
>>>>>>> 8d31783db698437b09448df3e24b6b6699ee0f70
          "model_module": "@jupyter-widgets/controls",
          "model_name": "ProgressStyleModel",
          "model_module_version": "1.5.0",
          "state": {
            "_model_module": "@jupyter-widgets/controls",
            "_model_module_version": "1.5.0",
            "_model_name": "ProgressStyleModel",
            "_view_count": null,
            "_view_module": "@jupyter-widgets/base",
            "_view_module_version": "1.2.0",
            "_view_name": "StyleView",
            "bar_color": null,
            "description_width": ""
          }
        },
<<<<<<< HEAD
<<<<<<< HEAD
        "511de2ad749c4d14806988fb639c149b": {
=======
        "7ad360375d8548fba1115bac528d74a2": {
>>>>>>> 043a282815e330e79882eb927d74c15f11ae2ce2
=======
        "7ad360375d8548fba1115bac528d74a2": {
>>>>>>> 8d31783db698437b09448df3e24b6b6699ee0f70
          "model_module": "@jupyter-widgets/base",
          "model_name": "LayoutModel",
          "model_module_version": "1.2.0",
          "state": {
            "_model_module": "@jupyter-widgets/base",
            "_model_module_version": "1.2.0",
            "_model_name": "LayoutModel",
            "_view_count": null,
            "_view_module": "@jupyter-widgets/base",
            "_view_module_version": "1.2.0",
            "_view_name": "LayoutView",
            "align_content": null,
            "align_items": null,
            "align_self": null,
            "border": null,
            "bottom": null,
            "display": null,
            "flex": null,
            "flex_flow": null,
            "grid_area": null,
            "grid_auto_columns": null,
            "grid_auto_flow": null,
            "grid_auto_rows": null,
            "grid_column": null,
            "grid_gap": null,
            "grid_row": null,
            "grid_template_areas": null,
            "grid_template_columns": null,
            "grid_template_rows": null,
            "height": null,
            "justify_content": null,
            "justify_items": null,
            "left": null,
            "margin": null,
            "max_height": null,
            "max_width": null,
            "min_height": null,
            "min_width": null,
            "object_fit": null,
            "object_position": null,
            "order": null,
            "overflow": null,
            "overflow_x": null,
            "overflow_y": null,
            "padding": null,
            "right": null,
            "top": null,
            "visibility": null,
            "width": null
          }
        },
<<<<<<< HEAD
<<<<<<< HEAD
        "220ca5f924744f0681ebff70d7198089": {
=======
        "70d5a069ae2046d78f51971668baaed9": {
>>>>>>> 043a282815e330e79882eb927d74c15f11ae2ce2
=======
        "70d5a069ae2046d78f51971668baaed9": {
>>>>>>> 8d31783db698437b09448df3e24b6b6699ee0f70
          "model_module": "@jupyter-widgets/controls",
          "model_name": "DescriptionStyleModel",
          "model_module_version": "1.5.0",
          "state": {
            "_model_module": "@jupyter-widgets/controls",
            "_model_module_version": "1.5.0",
            "_model_name": "DescriptionStyleModel",
            "_view_count": null,
            "_view_module": "@jupyter-widgets/base",
            "_view_module_version": "1.2.0",
            "_view_name": "StyleView",
            "description_width": ""
          }
        },
<<<<<<< HEAD
<<<<<<< HEAD
        "2a917899cc2949a9824c2df130341b35": {
=======
        "02001991687646958e5d2e6ec5444c4f": {
>>>>>>> 043a282815e330e79882eb927d74c15f11ae2ce2
=======
        "02001991687646958e5d2e6ec5444c4f": {
>>>>>>> 8d31783db698437b09448df3e24b6b6699ee0f70
          "model_module": "@jupyter-widgets/controls",
          "model_name": "HBoxModel",
          "model_module_version": "1.5.0",
          "state": {
            "_dom_classes": [],
            "_model_module": "@jupyter-widgets/controls",
            "_model_module_version": "1.5.0",
            "_model_name": "HBoxModel",
            "_view_count": null,
            "_view_module": "@jupyter-widgets/controls",
            "_view_module_version": "1.5.0",
            "_view_name": "HBoxView",
            "box_style": "",
            "children": [
<<<<<<< HEAD
<<<<<<< HEAD
              "IPY_MODEL_b3cb1c2ad6d94b358b9325ac0b73b4c2",
              "IPY_MODEL_55fa6f006acd492fb3891344797ad143",
              "IPY_MODEL_3a1494f9962c489a82094eac3b8b75c8"
            ],
            "layout": "IPY_MODEL_de65f882a4284865a1f4920cfea13ab6"
          }
        },
        "b3cb1c2ad6d94b358b9325ac0b73b4c2": {
=======
=======
>>>>>>> 8d31783db698437b09448df3e24b6b6699ee0f70
              "IPY_MODEL_5bea05fb7a3d4d53a8e2be83c171dace",
              "IPY_MODEL_5be66da2a78f429d91b673f9bdd2d63b",
              "IPY_MODEL_0f2d4d76dc7e444899f996000027a553"
            ],
            "layout": "IPY_MODEL_465f1ccf8a844e729ce8da46dc87dab1"
          }
        },
        "5bea05fb7a3d4d53a8e2be83c171dace": {
<<<<<<< HEAD
>>>>>>> 043a282815e330e79882eb927d74c15f11ae2ce2
=======
>>>>>>> 8d31783db698437b09448df3e24b6b6699ee0f70
          "model_module": "@jupyter-widgets/controls",
          "model_name": "HTMLModel",
          "model_module_version": "1.5.0",
          "state": {
            "_dom_classes": [],
            "_model_module": "@jupyter-widgets/controls",
            "_model_module_version": "1.5.0",
            "_model_name": "HTMLModel",
            "_view_count": null,
            "_view_module": "@jupyter-widgets/controls",
            "_view_module_version": "1.5.0",
            "_view_name": "HTMLView",
            "description": "",
            "description_tooltip": null,
<<<<<<< HEAD
<<<<<<< HEAD
            "layout": "IPY_MODEL_20d53d4c913849ae84e7a688c815bf26",
            "placeholder": "​",
            "style": "IPY_MODEL_c3d73dcd4a384f289c1b9092fff49940",
            "value": "100%"
          }
        },
        "55fa6f006acd492fb3891344797ad143": {
=======
=======
>>>>>>> 8d31783db698437b09448df3e24b6b6699ee0f70
            "layout": "IPY_MODEL_e4d03b22f621436f9f74c23b09c7bd34",
            "placeholder": "​",
            "style": "IPY_MODEL_9217294d59804203abb969e5ab611f63",
            "value": "100%"
          }
        },
        "5be66da2a78f429d91b673f9bdd2d63b": {
<<<<<<< HEAD
>>>>>>> 043a282815e330e79882eb927d74c15f11ae2ce2
=======
>>>>>>> 8d31783db698437b09448df3e24b6b6699ee0f70
          "model_module": "@jupyter-widgets/controls",
          "model_name": "FloatProgressModel",
          "model_module_version": "1.5.0",
          "state": {
            "_dom_classes": [],
            "_model_module": "@jupyter-widgets/controls",
            "_model_module_version": "1.5.0",
            "_model_name": "FloatProgressModel",
            "_view_count": null,
            "_view_module": "@jupyter-widgets/controls",
            "_view_module_version": "1.5.0",
            "_view_name": "ProgressView",
            "bar_style": "success",
            "description": "",
            "description_tooltip": null,
<<<<<<< HEAD
<<<<<<< HEAD
            "layout": "IPY_MODEL_a3fec59b3e8e4921b230ea26ea2f677e",
            "max": 136,
            "min": 0,
            "orientation": "horizontal",
            "style": "IPY_MODEL_1cae33a857b24075a651d0d680e01adc",
            "value": 136
          }
        },
        "3a1494f9962c489a82094eac3b8b75c8": {
=======
=======
>>>>>>> 8d31783db698437b09448df3e24b6b6699ee0f70
            "layout": "IPY_MODEL_08a4aa08252f42ae9c48f7fb3af46dfd",
            "max": 136,
            "min": 0,
            "orientation": "horizontal",
            "style": "IPY_MODEL_139715ddb1374df98a2886dcfc484a58",
            "value": 136
          }
        },
        "0f2d4d76dc7e444899f996000027a553": {
<<<<<<< HEAD
>>>>>>> 043a282815e330e79882eb927d74c15f11ae2ce2
=======
>>>>>>> 8d31783db698437b09448df3e24b6b6699ee0f70
          "model_module": "@jupyter-widgets/controls",
          "model_name": "HTMLModel",
          "model_module_version": "1.5.0",
          "state": {
            "_dom_classes": [],
            "_model_module": "@jupyter-widgets/controls",
            "_model_module_version": "1.5.0",
            "_model_name": "HTMLModel",
            "_view_count": null,
            "_view_module": "@jupyter-widgets/controls",
            "_view_module_version": "1.5.0",
            "_view_name": "HTMLView",
            "description": "",
            "description_tooltip": null,
<<<<<<< HEAD
<<<<<<< HEAD
            "layout": "IPY_MODEL_966b778dc3fc47eb80126039571527af",
            "placeholder": "​",
            "style": "IPY_MODEL_feba10f0b6254524a2bd178bd93f6818",
            "value": " 136/136 [00:00&lt;00:00, 270.98it/s]"
          }
        },
        "de65f882a4284865a1f4920cfea13ab6": {
=======
=======
>>>>>>> 8d31783db698437b09448df3e24b6b6699ee0f70
            "layout": "IPY_MODEL_34377fd6dcc64a27b4a2d5c4c9ad49c9",
            "placeholder": "​",
            "style": "IPY_MODEL_ab549ca110ca424fbc311bca9c2c3d35",
            "value": " 136/136 [00:00&lt;00:00, 278.87it/s]"
          }
        },
        "465f1ccf8a844e729ce8da46dc87dab1": {
<<<<<<< HEAD
>>>>>>> 043a282815e330e79882eb927d74c15f11ae2ce2
=======
>>>>>>> 8d31783db698437b09448df3e24b6b6699ee0f70
          "model_module": "@jupyter-widgets/base",
          "model_name": "LayoutModel",
          "model_module_version": "1.2.0",
          "state": {
            "_model_module": "@jupyter-widgets/base",
            "_model_module_version": "1.2.0",
            "_model_name": "LayoutModel",
            "_view_count": null,
            "_view_module": "@jupyter-widgets/base",
            "_view_module_version": "1.2.0",
            "_view_name": "LayoutView",
            "align_content": null,
            "align_items": null,
            "align_self": null,
            "border": null,
            "bottom": null,
            "display": null,
            "flex": null,
            "flex_flow": null,
            "grid_area": null,
            "grid_auto_columns": null,
            "grid_auto_flow": null,
            "grid_auto_rows": null,
            "grid_column": null,
            "grid_gap": null,
            "grid_row": null,
            "grid_template_areas": null,
            "grid_template_columns": null,
            "grid_template_rows": null,
            "height": null,
            "justify_content": null,
            "justify_items": null,
            "left": null,
            "margin": null,
            "max_height": null,
            "max_width": null,
            "min_height": null,
            "min_width": null,
            "object_fit": null,
            "object_position": null,
            "order": null,
            "overflow": null,
            "overflow_x": null,
            "overflow_y": null,
            "padding": null,
            "right": null,
            "top": null,
            "visibility": null,
            "width": null
          }
        },
<<<<<<< HEAD
<<<<<<< HEAD
        "20d53d4c913849ae84e7a688c815bf26": {
=======
        "e4d03b22f621436f9f74c23b09c7bd34": {
>>>>>>> 043a282815e330e79882eb927d74c15f11ae2ce2
=======
        "e4d03b22f621436f9f74c23b09c7bd34": {
>>>>>>> 8d31783db698437b09448df3e24b6b6699ee0f70
          "model_module": "@jupyter-widgets/base",
          "model_name": "LayoutModel",
          "model_module_version": "1.2.0",
          "state": {
            "_model_module": "@jupyter-widgets/base",
            "_model_module_version": "1.2.0",
            "_model_name": "LayoutModel",
            "_view_count": null,
            "_view_module": "@jupyter-widgets/base",
            "_view_module_version": "1.2.0",
            "_view_name": "LayoutView",
            "align_content": null,
            "align_items": null,
            "align_self": null,
            "border": null,
            "bottom": null,
            "display": null,
            "flex": null,
            "flex_flow": null,
            "grid_area": null,
            "grid_auto_columns": null,
            "grid_auto_flow": null,
            "grid_auto_rows": null,
            "grid_column": null,
            "grid_gap": null,
            "grid_row": null,
            "grid_template_areas": null,
            "grid_template_columns": null,
            "grid_template_rows": null,
            "height": null,
            "justify_content": null,
            "justify_items": null,
            "left": null,
            "margin": null,
            "max_height": null,
            "max_width": null,
            "min_height": null,
            "min_width": null,
            "object_fit": null,
            "object_position": null,
            "order": null,
            "overflow": null,
            "overflow_x": null,
            "overflow_y": null,
            "padding": null,
            "right": null,
            "top": null,
            "visibility": null,
            "width": null
          }
        },
<<<<<<< HEAD
<<<<<<< HEAD
        "c3d73dcd4a384f289c1b9092fff49940": {
=======
        "9217294d59804203abb969e5ab611f63": {
>>>>>>> 043a282815e330e79882eb927d74c15f11ae2ce2
=======
        "9217294d59804203abb969e5ab611f63": {
>>>>>>> 8d31783db698437b09448df3e24b6b6699ee0f70
          "model_module": "@jupyter-widgets/controls",
          "model_name": "DescriptionStyleModel",
          "model_module_version": "1.5.0",
          "state": {
            "_model_module": "@jupyter-widgets/controls",
            "_model_module_version": "1.5.0",
            "_model_name": "DescriptionStyleModel",
            "_view_count": null,
            "_view_module": "@jupyter-widgets/base",
            "_view_module_version": "1.2.0",
            "_view_name": "StyleView",
            "description_width": ""
          }
        },
<<<<<<< HEAD
<<<<<<< HEAD
        "a3fec59b3e8e4921b230ea26ea2f677e": {
=======
        "08a4aa08252f42ae9c48f7fb3af46dfd": {
>>>>>>> 043a282815e330e79882eb927d74c15f11ae2ce2
=======
        "08a4aa08252f42ae9c48f7fb3af46dfd": {
>>>>>>> 8d31783db698437b09448df3e24b6b6699ee0f70
          "model_module": "@jupyter-widgets/base",
          "model_name": "LayoutModel",
          "model_module_version": "1.2.0",
          "state": {
            "_model_module": "@jupyter-widgets/base",
            "_model_module_version": "1.2.0",
            "_model_name": "LayoutModel",
            "_view_count": null,
            "_view_module": "@jupyter-widgets/base",
            "_view_module_version": "1.2.0",
            "_view_name": "LayoutView",
            "align_content": null,
            "align_items": null,
            "align_self": null,
            "border": null,
            "bottom": null,
            "display": null,
            "flex": null,
            "flex_flow": null,
            "grid_area": null,
            "grid_auto_columns": null,
            "grid_auto_flow": null,
            "grid_auto_rows": null,
            "grid_column": null,
            "grid_gap": null,
            "grid_row": null,
            "grid_template_areas": null,
            "grid_template_columns": null,
            "grid_template_rows": null,
            "height": null,
            "justify_content": null,
            "justify_items": null,
            "left": null,
            "margin": null,
            "max_height": null,
            "max_width": null,
            "min_height": null,
            "min_width": null,
            "object_fit": null,
            "object_position": null,
            "order": null,
            "overflow": null,
            "overflow_x": null,
            "overflow_y": null,
            "padding": null,
            "right": null,
            "top": null,
            "visibility": null,
            "width": null
          }
        },
<<<<<<< HEAD
<<<<<<< HEAD
        "1cae33a857b24075a651d0d680e01adc": {
=======
        "139715ddb1374df98a2886dcfc484a58": {
>>>>>>> 043a282815e330e79882eb927d74c15f11ae2ce2
=======
        "139715ddb1374df98a2886dcfc484a58": {
>>>>>>> 8d31783db698437b09448df3e24b6b6699ee0f70
          "model_module": "@jupyter-widgets/controls",
          "model_name": "ProgressStyleModel",
          "model_module_version": "1.5.0",
          "state": {
            "_model_module": "@jupyter-widgets/controls",
            "_model_module_version": "1.5.0",
            "_model_name": "ProgressStyleModel",
            "_view_count": null,
            "_view_module": "@jupyter-widgets/base",
            "_view_module_version": "1.2.0",
            "_view_name": "StyleView",
            "bar_color": null,
            "description_width": ""
          }
        },
<<<<<<< HEAD
<<<<<<< HEAD
        "966b778dc3fc47eb80126039571527af": {
=======
        "34377fd6dcc64a27b4a2d5c4c9ad49c9": {
>>>>>>> 043a282815e330e79882eb927d74c15f11ae2ce2
=======
        "34377fd6dcc64a27b4a2d5c4c9ad49c9": {
>>>>>>> 8d31783db698437b09448df3e24b6b6699ee0f70
          "model_module": "@jupyter-widgets/base",
          "model_name": "LayoutModel",
          "model_module_version": "1.2.0",
          "state": {
            "_model_module": "@jupyter-widgets/base",
            "_model_module_version": "1.2.0",
            "_model_name": "LayoutModel",
            "_view_count": null,
            "_view_module": "@jupyter-widgets/base",
            "_view_module_version": "1.2.0",
            "_view_name": "LayoutView",
            "align_content": null,
            "align_items": null,
            "align_self": null,
            "border": null,
            "bottom": null,
            "display": null,
            "flex": null,
            "flex_flow": null,
            "grid_area": null,
            "grid_auto_columns": null,
            "grid_auto_flow": null,
            "grid_auto_rows": null,
            "grid_column": null,
            "grid_gap": null,
            "grid_row": null,
            "grid_template_areas": null,
            "grid_template_columns": null,
            "grid_template_rows": null,
            "height": null,
            "justify_content": null,
            "justify_items": null,
            "left": null,
            "margin": null,
            "max_height": null,
            "max_width": null,
            "min_height": null,
            "min_width": null,
            "object_fit": null,
            "object_position": null,
            "order": null,
            "overflow": null,
            "overflow_x": null,
            "overflow_y": null,
            "padding": null,
            "right": null,
            "top": null,
            "visibility": null,
            "width": null
          }
        },
<<<<<<< HEAD
<<<<<<< HEAD
        "feba10f0b6254524a2bd178bd93f6818": {
=======
        "ab549ca110ca424fbc311bca9c2c3d35": {
>>>>>>> 043a282815e330e79882eb927d74c15f11ae2ce2
=======
        "ab549ca110ca424fbc311bca9c2c3d35": {
>>>>>>> 8d31783db698437b09448df3e24b6b6699ee0f70
          "model_module": "@jupyter-widgets/controls",
          "model_name": "DescriptionStyleModel",
          "model_module_version": "1.5.0",
          "state": {
            "_model_module": "@jupyter-widgets/controls",
            "_model_module_version": "1.5.0",
            "_model_name": "DescriptionStyleModel",
            "_view_count": null,
            "_view_module": "@jupyter-widgets/base",
            "_view_module_version": "1.2.0",
            "_view_name": "StyleView",
            "description_width": ""
          }
        },
<<<<<<< HEAD
<<<<<<< HEAD
        "0925de021a4a47f99c93c825f1164526": {
=======
        "40e700462fcc49b0a51c29f1b4e2d8c9": {
>>>>>>> 043a282815e330e79882eb927d74c15f11ae2ce2
=======
        "40e700462fcc49b0a51c29f1b4e2d8c9": {
>>>>>>> 8d31783db698437b09448df3e24b6b6699ee0f70
          "model_module": "@jupyter-widgets/controls",
          "model_name": "HBoxModel",
          "model_module_version": "1.5.0",
          "state": {
            "_dom_classes": [],
            "_model_module": "@jupyter-widgets/controls",
            "_model_module_version": "1.5.0",
            "_model_name": "HBoxModel",
            "_view_count": null,
            "_view_module": "@jupyter-widgets/controls",
            "_view_module_version": "1.5.0",
            "_view_name": "HBoxView",
            "box_style": "",
            "children": [
<<<<<<< HEAD
<<<<<<< HEAD
              "IPY_MODEL_7fc64cf5718c426bb2dca3769aa218a7",
              "IPY_MODEL_2ee7e24a8ca6451fa9eafe9ab6034a80",
              "IPY_MODEL_39c42b698d634a18b42bfc63fe2c04bc"
            ],
            "layout": "IPY_MODEL_a0e2fe9300f54232b64881b880012422"
          }
        },
        "7fc64cf5718c426bb2dca3769aa218a7": {
=======
=======
>>>>>>> 8d31783db698437b09448df3e24b6b6699ee0f70
              "IPY_MODEL_700bdbf2bc6948b7be439b50832a990e",
              "IPY_MODEL_dbc87d401bd74638918e359bedd751d9",
              "IPY_MODEL_09b944dd709845a5b321c8bc18ef2c90"
            ],
            "layout": "IPY_MODEL_808a264626a445cb86c6f92f789a003c"
          }
        },
        "700bdbf2bc6948b7be439b50832a990e": {
<<<<<<< HEAD
>>>>>>> 043a282815e330e79882eb927d74c15f11ae2ce2
=======
>>>>>>> 8d31783db698437b09448df3e24b6b6699ee0f70
          "model_module": "@jupyter-widgets/controls",
          "model_name": "HTMLModel",
          "model_module_version": "1.5.0",
          "state": {
            "_dom_classes": [],
            "_model_module": "@jupyter-widgets/controls",
            "_model_module_version": "1.5.0",
            "_model_name": "HTMLModel",
            "_view_count": null,
            "_view_module": "@jupyter-widgets/controls",
            "_view_module_version": "1.5.0",
            "_view_name": "HTMLView",
            "description": "",
            "description_tooltip": null,
<<<<<<< HEAD
<<<<<<< HEAD
            "layout": "IPY_MODEL_5cc61556b3954c68a1951681c172252a",
            "placeholder": "​",
            "style": "IPY_MODEL_b4e1acafcc5447d5bdc98125d82e3e13",
            "value": "100%"
          }
        },
        "2ee7e24a8ca6451fa9eafe9ab6034a80": {
=======
=======
>>>>>>> 8d31783db698437b09448df3e24b6b6699ee0f70
            "layout": "IPY_MODEL_8c5d480112cc4350a0776fc2e9ec07a0",
            "placeholder": "​",
            "style": "IPY_MODEL_097e3f867b244205abbaf3e8c8d41dbd",
            "value": "100%"
          }
        },
        "dbc87d401bd74638918e359bedd751d9": {
<<<<<<< HEAD
>>>>>>> 043a282815e330e79882eb927d74c15f11ae2ce2
=======
>>>>>>> 8d31783db698437b09448df3e24b6b6699ee0f70
          "model_module": "@jupyter-widgets/controls",
          "model_name": "FloatProgressModel",
          "model_module_version": "1.5.0",
          "state": {
            "_dom_classes": [],
            "_model_module": "@jupyter-widgets/controls",
            "_model_module_version": "1.5.0",
            "_model_name": "FloatProgressModel",
            "_view_count": null,
            "_view_module": "@jupyter-widgets/controls",
            "_view_module_version": "1.5.0",
            "_view_name": "ProgressView",
            "bar_style": "success",
            "description": "",
            "description_tooltip": null,
<<<<<<< HEAD
<<<<<<< HEAD
            "layout": "IPY_MODEL_0d1564b3cdca4135a6869ec27c918c3b",
            "max": 135,
            "min": 0,
            "orientation": "horizontal",
            "style": "IPY_MODEL_00b4b72613494800a18e9997274c06d0",
            "value": 135
          }
        },
        "39c42b698d634a18b42bfc63fe2c04bc": {
=======
=======
>>>>>>> 8d31783db698437b09448df3e24b6b6699ee0f70
            "layout": "IPY_MODEL_dbf02b7c16b74f47a5e219afad2281c0",
            "max": 135,
            "min": 0,
            "orientation": "horizontal",
            "style": "IPY_MODEL_f1aea86466564ac9afb0b5ad67ff65c3",
            "value": 135
          }
        },
        "09b944dd709845a5b321c8bc18ef2c90": {
<<<<<<< HEAD
>>>>>>> 043a282815e330e79882eb927d74c15f11ae2ce2
=======
>>>>>>> 8d31783db698437b09448df3e24b6b6699ee0f70
          "model_module": "@jupyter-widgets/controls",
          "model_name": "HTMLModel",
          "model_module_version": "1.5.0",
          "state": {
            "_dom_classes": [],
            "_model_module": "@jupyter-widgets/controls",
            "_model_module_version": "1.5.0",
            "_model_name": "HTMLModel",
            "_view_count": null,
            "_view_module": "@jupyter-widgets/controls",
            "_view_module_version": "1.5.0",
            "_view_name": "HTMLView",
            "description": "",
            "description_tooltip": null,
<<<<<<< HEAD
<<<<<<< HEAD
            "layout": "IPY_MODEL_b0f77d517ed7435198cd8d72b1b0c7f2",
            "placeholder": "​",
            "style": "IPY_MODEL_b4a4084061ff48b3be314d241d063467",
            "value": " 135/135 [00:00&lt;00:00, 267.75it/s]"
          }
        },
        "a0e2fe9300f54232b64881b880012422": {
=======
=======
>>>>>>> 8d31783db698437b09448df3e24b6b6699ee0f70
            "layout": "IPY_MODEL_b5b31f76949d44fd98e9c77c5d8f5ea9",
            "placeholder": "​",
            "style": "IPY_MODEL_df1c61c496c74d609ac513918178a324",
            "value": " 135/135 [00:00&lt;00:00, 270.61it/s]"
          }
        },
        "808a264626a445cb86c6f92f789a003c": {
<<<<<<< HEAD
>>>>>>> 043a282815e330e79882eb927d74c15f11ae2ce2
=======
>>>>>>> 8d31783db698437b09448df3e24b6b6699ee0f70
          "model_module": "@jupyter-widgets/base",
          "model_name": "LayoutModel",
          "model_module_version": "1.2.0",
          "state": {
            "_model_module": "@jupyter-widgets/base",
            "_model_module_version": "1.2.0",
            "_model_name": "LayoutModel",
            "_view_count": null,
            "_view_module": "@jupyter-widgets/base",
            "_view_module_version": "1.2.0",
            "_view_name": "LayoutView",
            "align_content": null,
            "align_items": null,
            "align_self": null,
            "border": null,
            "bottom": null,
            "display": null,
            "flex": null,
            "flex_flow": null,
            "grid_area": null,
            "grid_auto_columns": null,
            "grid_auto_flow": null,
            "grid_auto_rows": null,
            "grid_column": null,
            "grid_gap": null,
            "grid_row": null,
            "grid_template_areas": null,
            "grid_template_columns": null,
            "grid_template_rows": null,
            "height": null,
            "justify_content": null,
            "justify_items": null,
            "left": null,
            "margin": null,
            "max_height": null,
            "max_width": null,
            "min_height": null,
            "min_width": null,
            "object_fit": null,
            "object_position": null,
            "order": null,
            "overflow": null,
            "overflow_x": null,
            "overflow_y": null,
            "padding": null,
            "right": null,
            "top": null,
            "visibility": null,
            "width": null
          }
        },
<<<<<<< HEAD
<<<<<<< HEAD
        "5cc61556b3954c68a1951681c172252a": {
=======
        "8c5d480112cc4350a0776fc2e9ec07a0": {
>>>>>>> 043a282815e330e79882eb927d74c15f11ae2ce2
=======
        "8c5d480112cc4350a0776fc2e9ec07a0": {
>>>>>>> 8d31783db698437b09448df3e24b6b6699ee0f70
          "model_module": "@jupyter-widgets/base",
          "model_name": "LayoutModel",
          "model_module_version": "1.2.0",
          "state": {
            "_model_module": "@jupyter-widgets/base",
            "_model_module_version": "1.2.0",
            "_model_name": "LayoutModel",
            "_view_count": null,
            "_view_module": "@jupyter-widgets/base",
            "_view_module_version": "1.2.0",
            "_view_name": "LayoutView",
            "align_content": null,
            "align_items": null,
            "align_self": null,
            "border": null,
            "bottom": null,
            "display": null,
            "flex": null,
            "flex_flow": null,
            "grid_area": null,
            "grid_auto_columns": null,
            "grid_auto_flow": null,
            "grid_auto_rows": null,
            "grid_column": null,
            "grid_gap": null,
            "grid_row": null,
            "grid_template_areas": null,
            "grid_template_columns": null,
            "grid_template_rows": null,
            "height": null,
            "justify_content": null,
            "justify_items": null,
            "left": null,
            "margin": null,
            "max_height": null,
            "max_width": null,
            "min_height": null,
            "min_width": null,
            "object_fit": null,
            "object_position": null,
            "order": null,
            "overflow": null,
            "overflow_x": null,
            "overflow_y": null,
            "padding": null,
            "right": null,
            "top": null,
            "visibility": null,
            "width": null
          }
        },
<<<<<<< HEAD
<<<<<<< HEAD
        "b4e1acafcc5447d5bdc98125d82e3e13": {
=======
        "097e3f867b244205abbaf3e8c8d41dbd": {
>>>>>>> 043a282815e330e79882eb927d74c15f11ae2ce2
=======
        "097e3f867b244205abbaf3e8c8d41dbd": {
>>>>>>> 8d31783db698437b09448df3e24b6b6699ee0f70
          "model_module": "@jupyter-widgets/controls",
          "model_name": "DescriptionStyleModel",
          "model_module_version": "1.5.0",
          "state": {
            "_model_module": "@jupyter-widgets/controls",
            "_model_module_version": "1.5.0",
            "_model_name": "DescriptionStyleModel",
            "_view_count": null,
            "_view_module": "@jupyter-widgets/base",
            "_view_module_version": "1.2.0",
            "_view_name": "StyleView",
            "description_width": ""
          }
        },
<<<<<<< HEAD
<<<<<<< HEAD
        "0d1564b3cdca4135a6869ec27c918c3b": {
=======
        "dbf02b7c16b74f47a5e219afad2281c0": {
>>>>>>> 043a282815e330e79882eb927d74c15f11ae2ce2
=======
        "dbf02b7c16b74f47a5e219afad2281c0": {
>>>>>>> 8d31783db698437b09448df3e24b6b6699ee0f70
          "model_module": "@jupyter-widgets/base",
          "model_name": "LayoutModel",
          "model_module_version": "1.2.0",
          "state": {
            "_model_module": "@jupyter-widgets/base",
            "_model_module_version": "1.2.0",
            "_model_name": "LayoutModel",
            "_view_count": null,
            "_view_module": "@jupyter-widgets/base",
            "_view_module_version": "1.2.0",
            "_view_name": "LayoutView",
            "align_content": null,
            "align_items": null,
            "align_self": null,
            "border": null,
            "bottom": null,
            "display": null,
            "flex": null,
            "flex_flow": null,
            "grid_area": null,
            "grid_auto_columns": null,
            "grid_auto_flow": null,
            "grid_auto_rows": null,
            "grid_column": null,
            "grid_gap": null,
            "grid_row": null,
            "grid_template_areas": null,
            "grid_template_columns": null,
            "grid_template_rows": null,
            "height": null,
            "justify_content": null,
            "justify_items": null,
            "left": null,
            "margin": null,
            "max_height": null,
            "max_width": null,
            "min_height": null,
            "min_width": null,
            "object_fit": null,
            "object_position": null,
            "order": null,
            "overflow": null,
            "overflow_x": null,
            "overflow_y": null,
            "padding": null,
            "right": null,
            "top": null,
            "visibility": null,
            "width": null
          }
        },
<<<<<<< HEAD
<<<<<<< HEAD
        "00b4b72613494800a18e9997274c06d0": {
=======
        "f1aea86466564ac9afb0b5ad67ff65c3": {
>>>>>>> 043a282815e330e79882eb927d74c15f11ae2ce2
=======
        "f1aea86466564ac9afb0b5ad67ff65c3": {
>>>>>>> 8d31783db698437b09448df3e24b6b6699ee0f70
          "model_module": "@jupyter-widgets/controls",
          "model_name": "ProgressStyleModel",
          "model_module_version": "1.5.0",
          "state": {
            "_model_module": "@jupyter-widgets/controls",
            "_model_module_version": "1.5.0",
            "_model_name": "ProgressStyleModel",
            "_view_count": null,
            "_view_module": "@jupyter-widgets/base",
            "_view_module_version": "1.2.0",
            "_view_name": "StyleView",
            "bar_color": null,
            "description_width": ""
          }
        },
<<<<<<< HEAD
<<<<<<< HEAD
        "b0f77d517ed7435198cd8d72b1b0c7f2": {
=======
        "b5b31f76949d44fd98e9c77c5d8f5ea9": {
>>>>>>> 043a282815e330e79882eb927d74c15f11ae2ce2
=======
        "b5b31f76949d44fd98e9c77c5d8f5ea9": {
>>>>>>> 8d31783db698437b09448df3e24b6b6699ee0f70
          "model_module": "@jupyter-widgets/base",
          "model_name": "LayoutModel",
          "model_module_version": "1.2.0",
          "state": {
            "_model_module": "@jupyter-widgets/base",
            "_model_module_version": "1.2.0",
            "_model_name": "LayoutModel",
            "_view_count": null,
            "_view_module": "@jupyter-widgets/base",
            "_view_module_version": "1.2.0",
            "_view_name": "LayoutView",
            "align_content": null,
            "align_items": null,
            "align_self": null,
            "border": null,
            "bottom": null,
            "display": null,
            "flex": null,
            "flex_flow": null,
            "grid_area": null,
            "grid_auto_columns": null,
            "grid_auto_flow": null,
            "grid_auto_rows": null,
            "grid_column": null,
            "grid_gap": null,
            "grid_row": null,
            "grid_template_areas": null,
            "grid_template_columns": null,
            "grid_template_rows": null,
            "height": null,
            "justify_content": null,
            "justify_items": null,
            "left": null,
            "margin": null,
            "max_height": null,
            "max_width": null,
            "min_height": null,
            "min_width": null,
            "object_fit": null,
            "object_position": null,
            "order": null,
            "overflow": null,
            "overflow_x": null,
            "overflow_y": null,
            "padding": null,
            "right": null,
            "top": null,
            "visibility": null,
            "width": null
          }
        },
<<<<<<< HEAD
<<<<<<< HEAD
        "b4a4084061ff48b3be314d241d063467": {
=======
        "df1c61c496c74d609ac513918178a324": {
>>>>>>> 043a282815e330e79882eb927d74c15f11ae2ce2
=======
        "df1c61c496c74d609ac513918178a324": {
>>>>>>> 8d31783db698437b09448df3e24b6b6699ee0f70
          "model_module": "@jupyter-widgets/controls",
          "model_name": "DescriptionStyleModel",
          "model_module_version": "1.5.0",
          "state": {
            "_model_module": "@jupyter-widgets/controls",
            "_model_module_version": "1.5.0",
            "_model_name": "DescriptionStyleModel",
            "_view_count": null,
            "_view_module": "@jupyter-widgets/base",
            "_view_module_version": "1.2.0",
            "_view_name": "StyleView",
            "description_width": ""
          }
        },
<<<<<<< HEAD
<<<<<<< HEAD
        "eae643984cc84a4192f739b2c947cf97": {
=======
        "058abb6c12bc4bc98aaae54e28d5ec4a": {
>>>>>>> 043a282815e330e79882eb927d74c15f11ae2ce2
=======
        "058abb6c12bc4bc98aaae54e28d5ec4a": {
>>>>>>> 8d31783db698437b09448df3e24b6b6699ee0f70
          "model_module": "@jupyter-widgets/controls",
          "model_name": "HBoxModel",
          "model_module_version": "1.5.0",
          "state": {
            "_dom_classes": [],
            "_model_module": "@jupyter-widgets/controls",
            "_model_module_version": "1.5.0",
            "_model_name": "HBoxModel",
            "_view_count": null,
            "_view_module": "@jupyter-widgets/controls",
            "_view_module_version": "1.5.0",
            "_view_name": "HBoxView",
            "box_style": "",
            "children": [
<<<<<<< HEAD
<<<<<<< HEAD
              "IPY_MODEL_0fdf4c35d3e04631b4a645670c9683c4",
              "IPY_MODEL_9d3b6f761f9548e68f8d905954b47ae2",
              "IPY_MODEL_257f5bc5c4f2486089ffd0a6170be90c"
            ],
            "layout": "IPY_MODEL_7482057acb4a4c738e89f9050b42dd61"
          }
        },
        "0fdf4c35d3e04631b4a645670c9683c4": {
=======
=======
>>>>>>> 8d31783db698437b09448df3e24b6b6699ee0f70
              "IPY_MODEL_e244ce7369bf4c3a8616b18f7b13be1a",
              "IPY_MODEL_47a71a76d21e4cc7baa623b2aa10902a",
              "IPY_MODEL_f421ed80628c4c2189bee69367dde7e4"
            ],
            "layout": "IPY_MODEL_3939889ea1f448aa92b5bd0c1adde612"
          }
        },
        "e244ce7369bf4c3a8616b18f7b13be1a": {
<<<<<<< HEAD
>>>>>>> 043a282815e330e79882eb927d74c15f11ae2ce2
=======
>>>>>>> 8d31783db698437b09448df3e24b6b6699ee0f70
          "model_module": "@jupyter-widgets/controls",
          "model_name": "HTMLModel",
          "model_module_version": "1.5.0",
          "state": {
            "_dom_classes": [],
            "_model_module": "@jupyter-widgets/controls",
            "_model_module_version": "1.5.0",
            "_model_name": "HTMLModel",
            "_view_count": null,
            "_view_module": "@jupyter-widgets/controls",
            "_view_module_version": "1.5.0",
            "_view_name": "HTMLView",
            "description": "",
            "description_tooltip": null,
<<<<<<< HEAD
<<<<<<< HEAD
            "layout": "IPY_MODEL_d78aee9f755e42ff9f4947374fb01f06",
            "placeholder": "​",
            "style": "IPY_MODEL_22d669f0e2024374a50e12631154ad2b",
            "value": "100%"
          }
        },
        "9d3b6f761f9548e68f8d905954b47ae2": {
=======
=======
>>>>>>> 8d31783db698437b09448df3e24b6b6699ee0f70
            "layout": "IPY_MODEL_97f47207eea64344821f3de9a95541c6",
            "placeholder": "​",
            "style": "IPY_MODEL_4cb54668345b4f0487c030ac94c16ad6",
            "value": "100%"
          }
        },
        "47a71a76d21e4cc7baa623b2aa10902a": {
<<<<<<< HEAD
>>>>>>> 043a282815e330e79882eb927d74c15f11ae2ce2
=======
>>>>>>> 8d31783db698437b09448df3e24b6b6699ee0f70
          "model_module": "@jupyter-widgets/controls",
          "model_name": "FloatProgressModel",
          "model_module_version": "1.5.0",
          "state": {
            "_dom_classes": [],
            "_model_module": "@jupyter-widgets/controls",
            "_model_module_version": "1.5.0",
            "_model_name": "FloatProgressModel",
            "_view_count": null,
            "_view_module": "@jupyter-widgets/controls",
            "_view_module_version": "1.5.0",
            "_view_name": "ProgressView",
            "bar_style": "success",
            "description": "",
            "description_tooltip": null,
<<<<<<< HEAD
<<<<<<< HEAD
            "layout": "IPY_MODEL_c59d42cf381b468f9069fd24bc40b320",
            "max": 135,
            "min": 0,
            "orientation": "horizontal",
            "style": "IPY_MODEL_64e14ec600cd45bf91b7cf37e2ec9d84",
            "value": 135
          }
        },
        "257f5bc5c4f2486089ffd0a6170be90c": {
=======
=======
>>>>>>> 8d31783db698437b09448df3e24b6b6699ee0f70
            "layout": "IPY_MODEL_39959a0bc04345f0b8bb67583382524d",
            "max": 135,
            "min": 0,
            "orientation": "horizontal",
            "style": "IPY_MODEL_ed1e8b8be9fb47f08cf6c01ba5d314fe",
            "value": 135
          }
        },
        "f421ed80628c4c2189bee69367dde7e4": {
<<<<<<< HEAD
>>>>>>> 043a282815e330e79882eb927d74c15f11ae2ce2
=======
>>>>>>> 8d31783db698437b09448df3e24b6b6699ee0f70
          "model_module": "@jupyter-widgets/controls",
          "model_name": "HTMLModel",
          "model_module_version": "1.5.0",
          "state": {
            "_dom_classes": [],
            "_model_module": "@jupyter-widgets/controls",
            "_model_module_version": "1.5.0",
            "_model_name": "HTMLModel",
            "_view_count": null,
            "_view_module": "@jupyter-widgets/controls",
            "_view_module_version": "1.5.0",
            "_view_name": "HTMLView",
            "description": "",
            "description_tooltip": null,
<<<<<<< HEAD
<<<<<<< HEAD
            "layout": "IPY_MODEL_e6a1a2ebc24c4a609c1d3a7007e9200f",
            "placeholder": "​",
            "style": "IPY_MODEL_2ee75dd7141f483da3c69e85ddc0c97e",
            "value": " 135/135 [00:00&lt;00:00, 269.15it/s]"
          }
        },
        "7482057acb4a4c738e89f9050b42dd61": {
=======
=======
>>>>>>> 8d31783db698437b09448df3e24b6b6699ee0f70
            "layout": "IPY_MODEL_4db2fe725a474f52a0d30a707c8d7802",
            "placeholder": "​",
            "style": "IPY_MODEL_03bba9f53ab142b899db3cce8b98b6a0",
            "value": " 135/135 [00:00&lt;00:00, 273.20it/s]"
          }
        },
        "3939889ea1f448aa92b5bd0c1adde612": {
<<<<<<< HEAD
>>>>>>> 043a282815e330e79882eb927d74c15f11ae2ce2
=======
>>>>>>> 8d31783db698437b09448df3e24b6b6699ee0f70
          "model_module": "@jupyter-widgets/base",
          "model_name": "LayoutModel",
          "model_module_version": "1.2.0",
          "state": {
            "_model_module": "@jupyter-widgets/base",
            "_model_module_version": "1.2.0",
            "_model_name": "LayoutModel",
            "_view_count": null,
            "_view_module": "@jupyter-widgets/base",
            "_view_module_version": "1.2.0",
            "_view_name": "LayoutView",
            "align_content": null,
            "align_items": null,
            "align_self": null,
            "border": null,
            "bottom": null,
            "display": null,
            "flex": null,
            "flex_flow": null,
            "grid_area": null,
            "grid_auto_columns": null,
            "grid_auto_flow": null,
            "grid_auto_rows": null,
            "grid_column": null,
            "grid_gap": null,
            "grid_row": null,
            "grid_template_areas": null,
            "grid_template_columns": null,
            "grid_template_rows": null,
            "height": null,
            "justify_content": null,
            "justify_items": null,
            "left": null,
            "margin": null,
            "max_height": null,
            "max_width": null,
            "min_height": null,
            "min_width": null,
            "object_fit": null,
            "object_position": null,
            "order": null,
            "overflow": null,
            "overflow_x": null,
            "overflow_y": null,
            "padding": null,
            "right": null,
            "top": null,
            "visibility": null,
            "width": null
          }
        },
<<<<<<< HEAD
<<<<<<< HEAD
        "d78aee9f755e42ff9f4947374fb01f06": {
=======
        "97f47207eea64344821f3de9a95541c6": {
>>>>>>> 043a282815e330e79882eb927d74c15f11ae2ce2
=======
        "97f47207eea64344821f3de9a95541c6": {
>>>>>>> 8d31783db698437b09448df3e24b6b6699ee0f70
          "model_module": "@jupyter-widgets/base",
          "model_name": "LayoutModel",
          "model_module_version": "1.2.0",
          "state": {
            "_model_module": "@jupyter-widgets/base",
            "_model_module_version": "1.2.0",
            "_model_name": "LayoutModel",
            "_view_count": null,
            "_view_module": "@jupyter-widgets/base",
            "_view_module_version": "1.2.0",
            "_view_name": "LayoutView",
            "align_content": null,
            "align_items": null,
            "align_self": null,
            "border": null,
            "bottom": null,
            "display": null,
            "flex": null,
            "flex_flow": null,
            "grid_area": null,
            "grid_auto_columns": null,
            "grid_auto_flow": null,
            "grid_auto_rows": null,
            "grid_column": null,
            "grid_gap": null,
            "grid_row": null,
            "grid_template_areas": null,
            "grid_template_columns": null,
            "grid_template_rows": null,
            "height": null,
            "justify_content": null,
            "justify_items": null,
            "left": null,
            "margin": null,
            "max_height": null,
            "max_width": null,
            "min_height": null,
            "min_width": null,
            "object_fit": null,
            "object_position": null,
            "order": null,
            "overflow": null,
            "overflow_x": null,
            "overflow_y": null,
            "padding": null,
            "right": null,
            "top": null,
            "visibility": null,
            "width": null
          }
        },
<<<<<<< HEAD
<<<<<<< HEAD
        "22d669f0e2024374a50e12631154ad2b": {
=======
        "4cb54668345b4f0487c030ac94c16ad6": {
>>>>>>> 043a282815e330e79882eb927d74c15f11ae2ce2
=======
        "4cb54668345b4f0487c030ac94c16ad6": {
>>>>>>> 8d31783db698437b09448df3e24b6b6699ee0f70
          "model_module": "@jupyter-widgets/controls",
          "model_name": "DescriptionStyleModel",
          "model_module_version": "1.5.0",
          "state": {
            "_model_module": "@jupyter-widgets/controls",
            "_model_module_version": "1.5.0",
            "_model_name": "DescriptionStyleModel",
            "_view_count": null,
            "_view_module": "@jupyter-widgets/base",
            "_view_module_version": "1.2.0",
            "_view_name": "StyleView",
            "description_width": ""
          }
        },
<<<<<<< HEAD
<<<<<<< HEAD
        "c59d42cf381b468f9069fd24bc40b320": {
=======
        "39959a0bc04345f0b8bb67583382524d": {
>>>>>>> 043a282815e330e79882eb927d74c15f11ae2ce2
=======
        "39959a0bc04345f0b8bb67583382524d": {
>>>>>>> 8d31783db698437b09448df3e24b6b6699ee0f70
          "model_module": "@jupyter-widgets/base",
          "model_name": "LayoutModel",
          "model_module_version": "1.2.0",
          "state": {
            "_model_module": "@jupyter-widgets/base",
            "_model_module_version": "1.2.0",
            "_model_name": "LayoutModel",
            "_view_count": null,
            "_view_module": "@jupyter-widgets/base",
            "_view_module_version": "1.2.0",
            "_view_name": "LayoutView",
            "align_content": null,
            "align_items": null,
            "align_self": null,
            "border": null,
            "bottom": null,
            "display": null,
            "flex": null,
            "flex_flow": null,
            "grid_area": null,
            "grid_auto_columns": null,
            "grid_auto_flow": null,
            "grid_auto_rows": null,
            "grid_column": null,
            "grid_gap": null,
            "grid_row": null,
            "grid_template_areas": null,
            "grid_template_columns": null,
            "grid_template_rows": null,
            "height": null,
            "justify_content": null,
            "justify_items": null,
            "left": null,
            "margin": null,
            "max_height": null,
            "max_width": null,
            "min_height": null,
            "min_width": null,
            "object_fit": null,
            "object_position": null,
            "order": null,
            "overflow": null,
            "overflow_x": null,
            "overflow_y": null,
            "padding": null,
            "right": null,
            "top": null,
            "visibility": null,
            "width": null
          }
        },
<<<<<<< HEAD
<<<<<<< HEAD
        "64e14ec600cd45bf91b7cf37e2ec9d84": {
=======
        "ed1e8b8be9fb47f08cf6c01ba5d314fe": {
>>>>>>> 043a282815e330e79882eb927d74c15f11ae2ce2
=======
        "ed1e8b8be9fb47f08cf6c01ba5d314fe": {
>>>>>>> 8d31783db698437b09448df3e24b6b6699ee0f70
          "model_module": "@jupyter-widgets/controls",
          "model_name": "ProgressStyleModel",
          "model_module_version": "1.5.0",
          "state": {
            "_model_module": "@jupyter-widgets/controls",
            "_model_module_version": "1.5.0",
            "_model_name": "ProgressStyleModel",
            "_view_count": null,
            "_view_module": "@jupyter-widgets/base",
            "_view_module_version": "1.2.0",
            "_view_name": "StyleView",
            "bar_color": null,
            "description_width": ""
          }
        },
<<<<<<< HEAD
<<<<<<< HEAD
        "e6a1a2ebc24c4a609c1d3a7007e9200f": {
=======
        "4db2fe725a474f52a0d30a707c8d7802": {
>>>>>>> 043a282815e330e79882eb927d74c15f11ae2ce2
=======
        "4db2fe725a474f52a0d30a707c8d7802": {
>>>>>>> 8d31783db698437b09448df3e24b6b6699ee0f70
          "model_module": "@jupyter-widgets/base",
          "model_name": "LayoutModel",
          "model_module_version": "1.2.0",
          "state": {
            "_model_module": "@jupyter-widgets/base",
            "_model_module_version": "1.2.0",
            "_model_name": "LayoutModel",
            "_view_count": null,
            "_view_module": "@jupyter-widgets/base",
            "_view_module_version": "1.2.0",
            "_view_name": "LayoutView",
            "align_content": null,
            "align_items": null,
            "align_self": null,
            "border": null,
            "bottom": null,
            "display": null,
            "flex": null,
            "flex_flow": null,
            "grid_area": null,
            "grid_auto_columns": null,
            "grid_auto_flow": null,
            "grid_auto_rows": null,
            "grid_column": null,
            "grid_gap": null,
            "grid_row": null,
            "grid_template_areas": null,
            "grid_template_columns": null,
            "grid_template_rows": null,
            "height": null,
            "justify_content": null,
            "justify_items": null,
            "left": null,
            "margin": null,
            "max_height": null,
            "max_width": null,
            "min_height": null,
            "min_width": null,
            "object_fit": null,
            "object_position": null,
            "order": null,
            "overflow": null,
            "overflow_x": null,
            "overflow_y": null,
            "padding": null,
            "right": null,
            "top": null,
            "visibility": null,
            "width": null
          }
        },
<<<<<<< HEAD
<<<<<<< HEAD
        "2ee75dd7141f483da3c69e85ddc0c97e": {
=======
        "03bba9f53ab142b899db3cce8b98b6a0": {
>>>>>>> 043a282815e330e79882eb927d74c15f11ae2ce2
=======
        "03bba9f53ab142b899db3cce8b98b6a0": {
>>>>>>> 8d31783db698437b09448df3e24b6b6699ee0f70
          "model_module": "@jupyter-widgets/controls",
          "model_name": "DescriptionStyleModel",
          "model_module_version": "1.5.0",
          "state": {
            "_model_module": "@jupyter-widgets/controls",
            "_model_module_version": "1.5.0",
            "_model_name": "DescriptionStyleModel",
            "_view_count": null,
            "_view_module": "@jupyter-widgets/base",
            "_view_module_version": "1.2.0",
            "_view_name": "StyleView",
            "description_width": ""
          }
        },
<<<<<<< HEAD
<<<<<<< HEAD
        "a8b161e9d6214c22af00d1f954c59e52": {
=======
        "0c9c597289034d818f93f8ba4885f5be": {
>>>>>>> 043a282815e330e79882eb927d74c15f11ae2ce2
=======
        "0c9c597289034d818f93f8ba4885f5be": {
>>>>>>> 8d31783db698437b09448df3e24b6b6699ee0f70
          "model_module": "@jupyter-widgets/controls",
          "model_name": "HBoxModel",
          "model_module_version": "1.5.0",
          "state": {
            "_dom_classes": [],
            "_model_module": "@jupyter-widgets/controls",
            "_model_module_version": "1.5.0",
            "_model_name": "HBoxModel",
            "_view_count": null,
            "_view_module": "@jupyter-widgets/controls",
            "_view_module_version": "1.5.0",
            "_view_name": "HBoxView",
            "box_style": "",
            "children": [
<<<<<<< HEAD
<<<<<<< HEAD
              "IPY_MODEL_b424191bfe75441dbfa2780730d7e1c1",
              "IPY_MODEL_26291adb7a544ca8986b0561bec85b9a",
              "IPY_MODEL_9659f050ca584416be2df96ad68c8c38"
            ],
            "layout": "IPY_MODEL_0b74504b848749e0a3f3a43f121e5bd9"
          }
        },
        "b424191bfe75441dbfa2780730d7e1c1": {
=======
=======
>>>>>>> 8d31783db698437b09448df3e24b6b6699ee0f70
              "IPY_MODEL_cc44bb9447b54509b499898a8e8b29f1",
              "IPY_MODEL_91e26da3d86140f5a170813c8ae8efcd",
              "IPY_MODEL_2d6f7a1ec79a479db4d710936c1d193c"
            ],
            "layout": "IPY_MODEL_e7489379efbd42fcb78e6bec8b3e9c70"
          }
        },
        "cc44bb9447b54509b499898a8e8b29f1": {
<<<<<<< HEAD
>>>>>>> 043a282815e330e79882eb927d74c15f11ae2ce2
=======
>>>>>>> 8d31783db698437b09448df3e24b6b6699ee0f70
          "model_module": "@jupyter-widgets/controls",
          "model_name": "HTMLModel",
          "model_module_version": "1.5.0",
          "state": {
            "_dom_classes": [],
            "_model_module": "@jupyter-widgets/controls",
            "_model_module_version": "1.5.0",
            "_model_name": "HTMLModel",
            "_view_count": null,
            "_view_module": "@jupyter-widgets/controls",
            "_view_module_version": "1.5.0",
            "_view_name": "HTMLView",
            "description": "",
            "description_tooltip": null,
<<<<<<< HEAD
<<<<<<< HEAD
            "layout": "IPY_MODEL_a3810d8af9b94a6e91e0f9046c95bd28",
            "placeholder": "​",
            "style": "IPY_MODEL_bac459f88c57418dbe652d972792887a",
            "value": "100%"
          }
        },
        "26291adb7a544ca8986b0561bec85b9a": {
=======
=======
>>>>>>> 8d31783db698437b09448df3e24b6b6699ee0f70
            "layout": "IPY_MODEL_c6c8302b96ec4e4ebf8db15f19a7626a",
            "placeholder": "​",
            "style": "IPY_MODEL_1aef5a8a0df74953a7e32bb37bbe757d",
            "value": "100%"
          }
        },
        "91e26da3d86140f5a170813c8ae8efcd": {
<<<<<<< HEAD
>>>>>>> 043a282815e330e79882eb927d74c15f11ae2ce2
=======
>>>>>>> 8d31783db698437b09448df3e24b6b6699ee0f70
          "model_module": "@jupyter-widgets/controls",
          "model_name": "FloatProgressModel",
          "model_module_version": "1.5.0",
          "state": {
            "_dom_classes": [],
            "_model_module": "@jupyter-widgets/controls",
            "_model_module_version": "1.5.0",
            "_model_name": "FloatProgressModel",
            "_view_count": null,
            "_view_module": "@jupyter-widgets/controls",
            "_view_module_version": "1.5.0",
            "_view_name": "ProgressView",
            "bar_style": "success",
            "description": "",
            "description_tooltip": null,
<<<<<<< HEAD
<<<<<<< HEAD
            "layout": "IPY_MODEL_65b2b3fd1a10464583f78b5a267ed586",
            "max": 136,
            "min": 0,
            "orientation": "horizontal",
            "style": "IPY_MODEL_ae9ed1b7f8324eb086385c0f1468b450",
            "value": 136
          }
        },
        "9659f050ca584416be2df96ad68c8c38": {
=======
=======
>>>>>>> 8d31783db698437b09448df3e24b6b6699ee0f70
            "layout": "IPY_MODEL_8cd635cbea7846ba835b066fe429044b",
            "max": 136,
            "min": 0,
            "orientation": "horizontal",
            "style": "IPY_MODEL_c03ed96dfe24472680f156d54dd5e1f2",
            "value": 136
          }
        },
        "2d6f7a1ec79a479db4d710936c1d193c": {
<<<<<<< HEAD
>>>>>>> 043a282815e330e79882eb927d74c15f11ae2ce2
=======
>>>>>>> 8d31783db698437b09448df3e24b6b6699ee0f70
          "model_module": "@jupyter-widgets/controls",
          "model_name": "HTMLModel",
          "model_module_version": "1.5.0",
          "state": {
            "_dom_classes": [],
            "_model_module": "@jupyter-widgets/controls",
            "_model_module_version": "1.5.0",
            "_model_name": "HTMLModel",
            "_view_count": null,
            "_view_module": "@jupyter-widgets/controls",
            "_view_module_version": "1.5.0",
            "_view_name": "HTMLView",
            "description": "",
            "description_tooltip": null,
<<<<<<< HEAD
<<<<<<< HEAD
            "layout": "IPY_MODEL_75c9f94948004837b03e56871a99e7d0",
            "placeholder": "​",
            "style": "IPY_MODEL_6f4b0546be91405a965a68a88dfcc62d",
            "value": " 136/136 [00:00&lt;00:00, 269.35it/s]"
          }
        },
        "0b74504b848749e0a3f3a43f121e5bd9": {
=======
=======
>>>>>>> 8d31783db698437b09448df3e24b6b6699ee0f70
            "layout": "IPY_MODEL_c26f9cd8c4194cccb404190661c5b5ec",
            "placeholder": "​",
            "style": "IPY_MODEL_5fb5af336c2e43338d904bda501267a6",
            "value": " 136/136 [00:00&lt;00:00, 287.20it/s]"
          }
        },
        "e7489379efbd42fcb78e6bec8b3e9c70": {
<<<<<<< HEAD
>>>>>>> 043a282815e330e79882eb927d74c15f11ae2ce2
=======
>>>>>>> 8d31783db698437b09448df3e24b6b6699ee0f70
          "model_module": "@jupyter-widgets/base",
          "model_name": "LayoutModel",
          "model_module_version": "1.2.0",
          "state": {
            "_model_module": "@jupyter-widgets/base",
            "_model_module_version": "1.2.0",
            "_model_name": "LayoutModel",
            "_view_count": null,
            "_view_module": "@jupyter-widgets/base",
            "_view_module_version": "1.2.0",
            "_view_name": "LayoutView",
            "align_content": null,
            "align_items": null,
            "align_self": null,
            "border": null,
            "bottom": null,
            "display": null,
            "flex": null,
            "flex_flow": null,
            "grid_area": null,
            "grid_auto_columns": null,
            "grid_auto_flow": null,
            "grid_auto_rows": null,
            "grid_column": null,
            "grid_gap": null,
            "grid_row": null,
            "grid_template_areas": null,
            "grid_template_columns": null,
            "grid_template_rows": null,
            "height": null,
            "justify_content": null,
            "justify_items": null,
            "left": null,
            "margin": null,
            "max_height": null,
            "max_width": null,
            "min_height": null,
            "min_width": null,
            "object_fit": null,
            "object_position": null,
            "order": null,
            "overflow": null,
            "overflow_x": null,
            "overflow_y": null,
            "padding": null,
            "right": null,
            "top": null,
            "visibility": null,
            "width": null
          }
        },
<<<<<<< HEAD
<<<<<<< HEAD
        "a3810d8af9b94a6e91e0f9046c95bd28": {
=======
        "c6c8302b96ec4e4ebf8db15f19a7626a": {
>>>>>>> 043a282815e330e79882eb927d74c15f11ae2ce2
=======
        "c6c8302b96ec4e4ebf8db15f19a7626a": {
>>>>>>> 8d31783db698437b09448df3e24b6b6699ee0f70
          "model_module": "@jupyter-widgets/base",
          "model_name": "LayoutModel",
          "model_module_version": "1.2.0",
          "state": {
            "_model_module": "@jupyter-widgets/base",
            "_model_module_version": "1.2.0",
            "_model_name": "LayoutModel",
            "_view_count": null,
            "_view_module": "@jupyter-widgets/base",
            "_view_module_version": "1.2.0",
            "_view_name": "LayoutView",
            "align_content": null,
            "align_items": null,
            "align_self": null,
            "border": null,
            "bottom": null,
            "display": null,
            "flex": null,
            "flex_flow": null,
            "grid_area": null,
            "grid_auto_columns": null,
            "grid_auto_flow": null,
            "grid_auto_rows": null,
            "grid_column": null,
            "grid_gap": null,
            "grid_row": null,
            "grid_template_areas": null,
            "grid_template_columns": null,
            "grid_template_rows": null,
            "height": null,
            "justify_content": null,
            "justify_items": null,
            "left": null,
            "margin": null,
            "max_height": null,
            "max_width": null,
            "min_height": null,
            "min_width": null,
            "object_fit": null,
            "object_position": null,
            "order": null,
            "overflow": null,
            "overflow_x": null,
            "overflow_y": null,
            "padding": null,
            "right": null,
            "top": null,
            "visibility": null,
            "width": null
          }
        },
<<<<<<< HEAD
<<<<<<< HEAD
        "bac459f88c57418dbe652d972792887a": {
=======
        "1aef5a8a0df74953a7e32bb37bbe757d": {
>>>>>>> 043a282815e330e79882eb927d74c15f11ae2ce2
=======
        "1aef5a8a0df74953a7e32bb37bbe757d": {
>>>>>>> 8d31783db698437b09448df3e24b6b6699ee0f70
          "model_module": "@jupyter-widgets/controls",
          "model_name": "DescriptionStyleModel",
          "model_module_version": "1.5.0",
          "state": {
            "_model_module": "@jupyter-widgets/controls",
            "_model_module_version": "1.5.0",
            "_model_name": "DescriptionStyleModel",
            "_view_count": null,
            "_view_module": "@jupyter-widgets/base",
            "_view_module_version": "1.2.0",
            "_view_name": "StyleView",
            "description_width": ""
          }
        },
<<<<<<< HEAD
<<<<<<< HEAD
        "65b2b3fd1a10464583f78b5a267ed586": {
=======
        "8cd635cbea7846ba835b066fe429044b": {
>>>>>>> 043a282815e330e79882eb927d74c15f11ae2ce2
=======
        "8cd635cbea7846ba835b066fe429044b": {
>>>>>>> 8d31783db698437b09448df3e24b6b6699ee0f70
          "model_module": "@jupyter-widgets/base",
          "model_name": "LayoutModel",
          "model_module_version": "1.2.0",
          "state": {
            "_model_module": "@jupyter-widgets/base",
            "_model_module_version": "1.2.0",
            "_model_name": "LayoutModel",
            "_view_count": null,
            "_view_module": "@jupyter-widgets/base",
            "_view_module_version": "1.2.0",
            "_view_name": "LayoutView",
            "align_content": null,
            "align_items": null,
            "align_self": null,
            "border": null,
            "bottom": null,
            "display": null,
            "flex": null,
            "flex_flow": null,
            "grid_area": null,
            "grid_auto_columns": null,
            "grid_auto_flow": null,
            "grid_auto_rows": null,
            "grid_column": null,
            "grid_gap": null,
            "grid_row": null,
            "grid_template_areas": null,
            "grid_template_columns": null,
            "grid_template_rows": null,
            "height": null,
            "justify_content": null,
            "justify_items": null,
            "left": null,
            "margin": null,
            "max_height": null,
            "max_width": null,
            "min_height": null,
            "min_width": null,
            "object_fit": null,
            "object_position": null,
            "order": null,
            "overflow": null,
            "overflow_x": null,
            "overflow_y": null,
            "padding": null,
            "right": null,
            "top": null,
            "visibility": null,
            "width": null
          }
        },
<<<<<<< HEAD
<<<<<<< HEAD
        "ae9ed1b7f8324eb086385c0f1468b450": {
=======
        "c03ed96dfe24472680f156d54dd5e1f2": {
>>>>>>> 043a282815e330e79882eb927d74c15f11ae2ce2
=======
        "c03ed96dfe24472680f156d54dd5e1f2": {
>>>>>>> 8d31783db698437b09448df3e24b6b6699ee0f70
          "model_module": "@jupyter-widgets/controls",
          "model_name": "ProgressStyleModel",
          "model_module_version": "1.5.0",
          "state": {
            "_model_module": "@jupyter-widgets/controls",
            "_model_module_version": "1.5.0",
            "_model_name": "ProgressStyleModel",
            "_view_count": null,
            "_view_module": "@jupyter-widgets/base",
            "_view_module_version": "1.2.0",
            "_view_name": "StyleView",
            "bar_color": null,
            "description_width": ""
          }
        },
<<<<<<< HEAD
<<<<<<< HEAD
        "75c9f94948004837b03e56871a99e7d0": {
=======
        "c26f9cd8c4194cccb404190661c5b5ec": {
>>>>>>> 043a282815e330e79882eb927d74c15f11ae2ce2
=======
        "c26f9cd8c4194cccb404190661c5b5ec": {
>>>>>>> 8d31783db698437b09448df3e24b6b6699ee0f70
          "model_module": "@jupyter-widgets/base",
          "model_name": "LayoutModel",
          "model_module_version": "1.2.0",
          "state": {
            "_model_module": "@jupyter-widgets/base",
            "_model_module_version": "1.2.0",
            "_model_name": "LayoutModel",
            "_view_count": null,
            "_view_module": "@jupyter-widgets/base",
            "_view_module_version": "1.2.0",
            "_view_name": "LayoutView",
            "align_content": null,
            "align_items": null,
            "align_self": null,
            "border": null,
            "bottom": null,
            "display": null,
            "flex": null,
            "flex_flow": null,
            "grid_area": null,
            "grid_auto_columns": null,
            "grid_auto_flow": null,
            "grid_auto_rows": null,
            "grid_column": null,
            "grid_gap": null,
            "grid_row": null,
            "grid_template_areas": null,
            "grid_template_columns": null,
            "grid_template_rows": null,
            "height": null,
            "justify_content": null,
            "justify_items": null,
            "left": null,
            "margin": null,
            "max_height": null,
            "max_width": null,
            "min_height": null,
            "min_width": null,
            "object_fit": null,
            "object_position": null,
            "order": null,
            "overflow": null,
            "overflow_x": null,
            "overflow_y": null,
            "padding": null,
            "right": null,
            "top": null,
            "visibility": null,
            "width": null
          }
        },
<<<<<<< HEAD
<<<<<<< HEAD
        "6f4b0546be91405a965a68a88dfcc62d": {
=======
        "5fb5af336c2e43338d904bda501267a6": {
>>>>>>> 043a282815e330e79882eb927d74c15f11ae2ce2
=======
        "5fb5af336c2e43338d904bda501267a6": {
>>>>>>> 8d31783db698437b09448df3e24b6b6699ee0f70
          "model_module": "@jupyter-widgets/controls",
          "model_name": "DescriptionStyleModel",
          "model_module_version": "1.5.0",
          "state": {
            "_model_module": "@jupyter-widgets/controls",
            "_model_module_version": "1.5.0",
            "_model_name": "DescriptionStyleModel",
            "_view_count": null,
            "_view_module": "@jupyter-widgets/base",
            "_view_module_version": "1.2.0",
            "_view_name": "StyleView",
            "description_width": ""
          }
        },
<<<<<<< HEAD
<<<<<<< HEAD
        "64c95ca4372441b28729d139421c1d73": {
=======
        "1fcf694b013242cf9ce0da5aea7565a1": {
>>>>>>> 043a282815e330e79882eb927d74c15f11ae2ce2
=======
        "1fcf694b013242cf9ce0da5aea7565a1": {
>>>>>>> 8d31783db698437b09448df3e24b6b6699ee0f70
          "model_module": "@jupyter-widgets/controls",
          "model_name": "HBoxModel",
          "model_module_version": "1.5.0",
          "state": {
            "_dom_classes": [],
            "_model_module": "@jupyter-widgets/controls",
            "_model_module_version": "1.5.0",
            "_model_name": "HBoxModel",
            "_view_count": null,
            "_view_module": "@jupyter-widgets/controls",
            "_view_module_version": "1.5.0",
            "_view_name": "HBoxView",
            "box_style": "",
            "children": [
<<<<<<< HEAD
<<<<<<< HEAD
              "IPY_MODEL_1797d16332a0401c869273afb2018b41",
              "IPY_MODEL_6c2b4db1a84144828f2855e4b57c0fbb",
              "IPY_MODEL_10294aeff1bd4ae780545b569dea4224"
            ],
            "layout": "IPY_MODEL_fdc1d60b246349ffbf3a3ff0b0724360"
          }
        },
        "1797d16332a0401c869273afb2018b41": {
=======
=======
>>>>>>> 8d31783db698437b09448df3e24b6b6699ee0f70
              "IPY_MODEL_fe64d29742eb493b90f759f1bfe02ba7",
              "IPY_MODEL_b2a3c307dcfc4f8386ddbd27b6d587b3",
              "IPY_MODEL_e40c5eefa533418d8c44b980c3be2f3f"
            ],
            "layout": "IPY_MODEL_e01cbac9c3104fde908b966271efb9dd"
          }
        },
        "fe64d29742eb493b90f759f1bfe02ba7": {
<<<<<<< HEAD
>>>>>>> 043a282815e330e79882eb927d74c15f11ae2ce2
=======
>>>>>>> 8d31783db698437b09448df3e24b6b6699ee0f70
          "model_module": "@jupyter-widgets/controls",
          "model_name": "HTMLModel",
          "model_module_version": "1.5.0",
          "state": {
            "_dom_classes": [],
            "_model_module": "@jupyter-widgets/controls",
            "_model_module_version": "1.5.0",
            "_model_name": "HTMLModel",
            "_view_count": null,
            "_view_module": "@jupyter-widgets/controls",
            "_view_module_version": "1.5.0",
            "_view_name": "HTMLView",
            "description": "",
            "description_tooltip": null,
<<<<<<< HEAD
<<<<<<< HEAD
            "layout": "IPY_MODEL_4eda6a04425a42ec8346e30eef72fa4d",
            "placeholder": "​",
            "style": "IPY_MODEL_e4d28cb07afb49f9916f662482a52dfc",
            "value": "100%"
          }
        },
        "6c2b4db1a84144828f2855e4b57c0fbb": {
=======
=======
>>>>>>> 8d31783db698437b09448df3e24b6b6699ee0f70
            "layout": "IPY_MODEL_d3569640f5eb4f6bb9b67e0e3f875f7b",
            "placeholder": "​",
            "style": "IPY_MODEL_3b395eb035dc463e90108d4ebebd898a",
            "value": "100%"
          }
        },
        "b2a3c307dcfc4f8386ddbd27b6d587b3": {
<<<<<<< HEAD
>>>>>>> 043a282815e330e79882eb927d74c15f11ae2ce2
=======
>>>>>>> 8d31783db698437b09448df3e24b6b6699ee0f70
          "model_module": "@jupyter-widgets/controls",
          "model_name": "FloatProgressModel",
          "model_module_version": "1.5.0",
          "state": {
            "_dom_classes": [],
            "_model_module": "@jupyter-widgets/controls",
            "_model_module_version": "1.5.0",
            "_model_name": "FloatProgressModel",
            "_view_count": null,
            "_view_module": "@jupyter-widgets/controls",
            "_view_module_version": "1.5.0",
            "_view_name": "ProgressView",
            "bar_style": "success",
            "description": "",
            "description_tooltip": null,
<<<<<<< HEAD
<<<<<<< HEAD
            "layout": "IPY_MODEL_dbe030ae9b464d43908ebc978129a99d",
            "max": 136,
            "min": 0,
            "orientation": "horizontal",
            "style": "IPY_MODEL_ab75f1045df8495cb34c3e879ac77435",
            "value": 136
          }
        },
        "10294aeff1bd4ae780545b569dea4224": {
=======
=======
>>>>>>> 8d31783db698437b09448df3e24b6b6699ee0f70
            "layout": "IPY_MODEL_13a59d14e87a44a9a95f1f3c40c71206",
            "max": 136,
            "min": 0,
            "orientation": "horizontal",
            "style": "IPY_MODEL_3c585e504a104afcbb902b1145e30913",
            "value": 136
          }
        },
        "e40c5eefa533418d8c44b980c3be2f3f": {
<<<<<<< HEAD
>>>>>>> 043a282815e330e79882eb927d74c15f11ae2ce2
=======
>>>>>>> 8d31783db698437b09448df3e24b6b6699ee0f70
          "model_module": "@jupyter-widgets/controls",
          "model_name": "HTMLModel",
          "model_module_version": "1.5.0",
          "state": {
            "_dom_classes": [],
            "_model_module": "@jupyter-widgets/controls",
            "_model_module_version": "1.5.0",
            "_model_name": "HTMLModel",
            "_view_count": null,
            "_view_module": "@jupyter-widgets/controls",
            "_view_module_version": "1.5.0",
            "_view_name": "HTMLView",
            "description": "",
            "description_tooltip": null,
<<<<<<< HEAD
<<<<<<< HEAD
            "layout": "IPY_MODEL_292b85dfe1e04737af1c556ac215ba1b",
            "placeholder": "​",
            "style": "IPY_MODEL_2bc8b3a7e21f41e38610d60ed612583a",
            "value": " 136/136 [00:00&lt;00:00, 267.76it/s]"
          }
        },
        "fdc1d60b246349ffbf3a3ff0b0724360": {
=======
=======
>>>>>>> 8d31783db698437b09448df3e24b6b6699ee0f70
            "layout": "IPY_MODEL_92ccb49d53544219ae3ee5b6dbbe9d3c",
            "placeholder": "​",
            "style": "IPY_MODEL_51c49b1b66024113bb2383e3144f35e4",
            "value": " 136/136 [00:00&lt;00:00, 280.91it/s]"
          }
        },
        "e01cbac9c3104fde908b966271efb9dd": {
<<<<<<< HEAD
>>>>>>> 043a282815e330e79882eb927d74c15f11ae2ce2
=======
>>>>>>> 8d31783db698437b09448df3e24b6b6699ee0f70
          "model_module": "@jupyter-widgets/base",
          "model_name": "LayoutModel",
          "model_module_version": "1.2.0",
          "state": {
            "_model_module": "@jupyter-widgets/base",
            "_model_module_version": "1.2.0",
            "_model_name": "LayoutModel",
            "_view_count": null,
            "_view_module": "@jupyter-widgets/base",
            "_view_module_version": "1.2.0",
            "_view_name": "LayoutView",
            "align_content": null,
            "align_items": null,
            "align_self": null,
            "border": null,
            "bottom": null,
            "display": null,
            "flex": null,
            "flex_flow": null,
            "grid_area": null,
            "grid_auto_columns": null,
            "grid_auto_flow": null,
            "grid_auto_rows": null,
            "grid_column": null,
            "grid_gap": null,
            "grid_row": null,
            "grid_template_areas": null,
            "grid_template_columns": null,
            "grid_template_rows": null,
            "height": null,
            "justify_content": null,
            "justify_items": null,
            "left": null,
            "margin": null,
            "max_height": null,
            "max_width": null,
            "min_height": null,
            "min_width": null,
            "object_fit": null,
            "object_position": null,
            "order": null,
            "overflow": null,
            "overflow_x": null,
            "overflow_y": null,
            "padding": null,
            "right": null,
            "top": null,
            "visibility": null,
            "width": null
          }
        },
<<<<<<< HEAD
<<<<<<< HEAD
        "4eda6a04425a42ec8346e30eef72fa4d": {
=======
        "d3569640f5eb4f6bb9b67e0e3f875f7b": {
>>>>>>> 043a282815e330e79882eb927d74c15f11ae2ce2
=======
        "d3569640f5eb4f6bb9b67e0e3f875f7b": {
>>>>>>> 8d31783db698437b09448df3e24b6b6699ee0f70
          "model_module": "@jupyter-widgets/base",
          "model_name": "LayoutModel",
          "model_module_version": "1.2.0",
          "state": {
            "_model_module": "@jupyter-widgets/base",
            "_model_module_version": "1.2.0",
            "_model_name": "LayoutModel",
            "_view_count": null,
            "_view_module": "@jupyter-widgets/base",
            "_view_module_version": "1.2.0",
            "_view_name": "LayoutView",
            "align_content": null,
            "align_items": null,
            "align_self": null,
            "border": null,
            "bottom": null,
            "display": null,
            "flex": null,
            "flex_flow": null,
            "grid_area": null,
            "grid_auto_columns": null,
            "grid_auto_flow": null,
            "grid_auto_rows": null,
            "grid_column": null,
            "grid_gap": null,
            "grid_row": null,
            "grid_template_areas": null,
            "grid_template_columns": null,
            "grid_template_rows": null,
            "height": null,
            "justify_content": null,
            "justify_items": null,
            "left": null,
            "margin": null,
            "max_height": null,
            "max_width": null,
            "min_height": null,
            "min_width": null,
            "object_fit": null,
            "object_position": null,
            "order": null,
            "overflow": null,
            "overflow_x": null,
            "overflow_y": null,
            "padding": null,
            "right": null,
            "top": null,
            "visibility": null,
            "width": null
          }
        },
<<<<<<< HEAD
<<<<<<< HEAD
        "e4d28cb07afb49f9916f662482a52dfc": {
=======
        "3b395eb035dc463e90108d4ebebd898a": {
>>>>>>> 043a282815e330e79882eb927d74c15f11ae2ce2
=======
        "3b395eb035dc463e90108d4ebebd898a": {
>>>>>>> 8d31783db698437b09448df3e24b6b6699ee0f70
          "model_module": "@jupyter-widgets/controls",
          "model_name": "DescriptionStyleModel",
          "model_module_version": "1.5.0",
          "state": {
            "_model_module": "@jupyter-widgets/controls",
            "_model_module_version": "1.5.0",
            "_model_name": "DescriptionStyleModel",
            "_view_count": null,
            "_view_module": "@jupyter-widgets/base",
            "_view_module_version": "1.2.0",
            "_view_name": "StyleView",
            "description_width": ""
          }
        },
<<<<<<< HEAD
<<<<<<< HEAD
        "dbe030ae9b464d43908ebc978129a99d": {
=======
        "13a59d14e87a44a9a95f1f3c40c71206": {
>>>>>>> 043a282815e330e79882eb927d74c15f11ae2ce2
=======
        "13a59d14e87a44a9a95f1f3c40c71206": {
>>>>>>> 8d31783db698437b09448df3e24b6b6699ee0f70
          "model_module": "@jupyter-widgets/base",
          "model_name": "LayoutModel",
          "model_module_version": "1.2.0",
          "state": {
            "_model_module": "@jupyter-widgets/base",
            "_model_module_version": "1.2.0",
            "_model_name": "LayoutModel",
            "_view_count": null,
            "_view_module": "@jupyter-widgets/base",
            "_view_module_version": "1.2.0",
            "_view_name": "LayoutView",
            "align_content": null,
            "align_items": null,
            "align_self": null,
            "border": null,
            "bottom": null,
            "display": null,
            "flex": null,
            "flex_flow": null,
            "grid_area": null,
            "grid_auto_columns": null,
            "grid_auto_flow": null,
            "grid_auto_rows": null,
            "grid_column": null,
            "grid_gap": null,
            "grid_row": null,
            "grid_template_areas": null,
            "grid_template_columns": null,
            "grid_template_rows": null,
            "height": null,
            "justify_content": null,
            "justify_items": null,
            "left": null,
            "margin": null,
            "max_height": null,
            "max_width": null,
            "min_height": null,
            "min_width": null,
            "object_fit": null,
            "object_position": null,
            "order": null,
            "overflow": null,
            "overflow_x": null,
            "overflow_y": null,
            "padding": null,
            "right": null,
            "top": null,
            "visibility": null,
            "width": null
          }
        },
<<<<<<< HEAD
<<<<<<< HEAD
        "ab75f1045df8495cb34c3e879ac77435": {
=======
        "3c585e504a104afcbb902b1145e30913": {
>>>>>>> 043a282815e330e79882eb927d74c15f11ae2ce2
=======
        "3c585e504a104afcbb902b1145e30913": {
>>>>>>> 8d31783db698437b09448df3e24b6b6699ee0f70
          "model_module": "@jupyter-widgets/controls",
          "model_name": "ProgressStyleModel",
          "model_module_version": "1.5.0",
          "state": {
            "_model_module": "@jupyter-widgets/controls",
            "_model_module_version": "1.5.0",
            "_model_name": "ProgressStyleModel",
            "_view_count": null,
            "_view_module": "@jupyter-widgets/base",
            "_view_module_version": "1.2.0",
            "_view_name": "StyleView",
            "bar_color": null,
            "description_width": ""
          }
        },
<<<<<<< HEAD
<<<<<<< HEAD
        "292b85dfe1e04737af1c556ac215ba1b": {
=======
        "92ccb49d53544219ae3ee5b6dbbe9d3c": {
>>>>>>> 043a282815e330e79882eb927d74c15f11ae2ce2
=======
        "92ccb49d53544219ae3ee5b6dbbe9d3c": {
>>>>>>> 8d31783db698437b09448df3e24b6b6699ee0f70
          "model_module": "@jupyter-widgets/base",
          "model_name": "LayoutModel",
          "model_module_version": "1.2.0",
          "state": {
            "_model_module": "@jupyter-widgets/base",
            "_model_module_version": "1.2.0",
            "_model_name": "LayoutModel",
            "_view_count": null,
            "_view_module": "@jupyter-widgets/base",
            "_view_module_version": "1.2.0",
            "_view_name": "LayoutView",
            "align_content": null,
            "align_items": null,
            "align_self": null,
            "border": null,
            "bottom": null,
            "display": null,
            "flex": null,
            "flex_flow": null,
            "grid_area": null,
            "grid_auto_columns": null,
            "grid_auto_flow": null,
            "grid_auto_rows": null,
            "grid_column": null,
            "grid_gap": null,
            "grid_row": null,
            "grid_template_areas": null,
            "grid_template_columns": null,
            "grid_template_rows": null,
            "height": null,
            "justify_content": null,
            "justify_items": null,
            "left": null,
            "margin": null,
            "max_height": null,
            "max_width": null,
            "min_height": null,
            "min_width": null,
            "object_fit": null,
            "object_position": null,
            "order": null,
            "overflow": null,
            "overflow_x": null,
            "overflow_y": null,
            "padding": null,
            "right": null,
            "top": null,
            "visibility": null,
            "width": null
          }
        },
<<<<<<< HEAD
<<<<<<< HEAD
        "2bc8b3a7e21f41e38610d60ed612583a": {
=======
        "51c49b1b66024113bb2383e3144f35e4": {
>>>>>>> 043a282815e330e79882eb927d74c15f11ae2ce2
=======
        "51c49b1b66024113bb2383e3144f35e4": {
>>>>>>> 8d31783db698437b09448df3e24b6b6699ee0f70
          "model_module": "@jupyter-widgets/controls",
          "model_name": "DescriptionStyleModel",
          "model_module_version": "1.5.0",
          "state": {
            "_model_module": "@jupyter-widgets/controls",
            "_model_module_version": "1.5.0",
            "_model_name": "DescriptionStyleModel",
            "_view_count": null,
            "_view_module": "@jupyter-widgets/base",
            "_view_module_version": "1.2.0",
            "_view_name": "StyleView",
            "description_width": ""
          }
        }
      }
    }
  },
  "cells": [
    {
      "cell_type": "code",
      "source": [
        "%%capture\n",
        "!pip install neuralprophet\n",
        "!pip install prophet"
      ],
      "metadata": {
        "id": "8XRe1_FDQC-9"
      },
      "execution_count": 1,
      "outputs": []
    },
    {
      "cell_type": "code",
      "execution_count": 2,
      "metadata": {
        "id": "KLbRkUCUPt6K"
      },
      "outputs": [],
      "source": [
        "import pandas as pd\n",
        "import numpy as np\n",
        "from neuralprophet import NeuralProphet, set_log_level, set_random_seed\n",
        "from enum import auto\n",
        "from prophet.serialize import model_to_json, model_from_json\n",
        "import pickle\n",
        "\n",
        "set_log_level(\"ERROR\")\n",
        "set_random_seed(888)\n",
        "\n",
        "data = pd.read_csv('hist_data_all.csv', parse_dates=['Date'], index_col='Date')\n",
        "# Build the dataset of pre-selected coins\n",
        "dsets = {}\n",
        "for t in list(data.Ticker.unique()):\n",
        "  df = data.query('Ticker==@t').sort_index()\n",
        "  df = df.reset_index()[['Date', 'Close', 'Gtrend', 'TYX','Volume']].rename(columns={'Date': 'ds', 'Close': 'y'})\n",
        "  dsets[t] = df.drop_duplicates(subset='ds')\n",
        "  dsets['BTC-USD']\n",
        "\n",
        "  \n",
        "splited_dsets = {}\n",
        "for k, v in dsets.items():\n",
        "    test_size = 365 if v.shape[0] >= 2000 else 120\n",
        "    splited_dsets[k] = v.iloc[:-test_size, :], v.iloc[-test_size:, :]\n",
        "\n",
        "\n",
        "def format_for_app(df, pivot_cols=False, pivot_id=[], var_names='Metric', value_names='Error'):\n",
        "  if pivot_cols:\n",
        "    id_vars = pivot_id if pivot_id else None\n",
        "    df = pd.melt(df, value_vars=list(df.columns), id_vars=id_vars, var_name=var_names, value_name=value_names)\n",
        "  df['Ticker'] = cc[:3]\n",
        "  df['Model'] = 'Neural Prophet'\n",
        "  df['Scope'] = '1 day ahead'\n",
        "  return df"
      ]
    },
    {
      "cell_type": "code",
      "source": [
<<<<<<< HEAD
<<<<<<< HEAD
        "count = 0\n",
        "for cc in splited_dsets.keys():\n",
        "  \n",
=======
=======
>>>>>>> 8d31783db698437b09448df3e24b6b6699ee0f70
        "splited_dsets.keys()"
      ],
      "metadata": {
        "colab": {
          "base_uri": "https://localhost:8080/"
        },
        "id": "Kn_21tQNMQoK",
        "outputId": "d64f5491-1bad-405a-c642-073241211894"
      },
      "execution_count": 3,
      "outputs": [
        {
          "output_type": "execute_result",
          "data": {
            "text/plain": [
              "dict_keys(['BTC-USD', 'ETH-USD', 'LTC-USD', 'NMC-USD', 'PPC-USD', 'FTC-USD'])"
            ]
          },
          "metadata": {},
          "execution_count": 3
        }
      ]
    },
    {
      "cell_type": "code",
      "source": [
        "count = 0\n",
        "for cc in splited_dsets.keys():\n",
        "  print(cc)\n",
<<<<<<< HEAD
>>>>>>> 043a282815e330e79882eb927d74c15f11ae2ce2
=======
>>>>>>> 8d31783db698437b09448df3e24b6b6699ee0f70
        "  rf_var = [x for x in dsets[cc].columns.to_list() if x not in ('Gtrend', 'Volume', 'Close', 'y', 'ds')][0]\n",
        "  df_train, df_test = splited_dsets[cc]\n",
        "  m = NeuralProphet(\n",
        "      trend_reg=2,\n",
        "      yearly_seasonality=False,\n",
        "      weekly_seasonality=True,\n",
        "      daily_seasonality=False,\n",
        "      n_lags = 1,\n",
        "      n_forecasts = 1,\n",
        "      # We let parameters to be set automatically by model selector\n",
        "      #num_hidden_layers=4,\n",
        "      #d_hidden=32,\n",
        "      #learning_rate=0.003,\n",
        "  )\n",
        "  # We make it multivariate\n",
        "  m.add_lagged_regressor('Gtrend')\n",
        "  m.add_lagged_regressor(rf_var)\n",
        "  m.add_lagged_regressor('Volume')\n",
        "  # Training\n",
        "  metrics_train = m.fit(df=df_train, freq=\"D\")\n",
        "  metrics_test = m.test(df=df_test)\n",
        "  # Compute and save error metrics\n",
        "  metrics_test = format_for_app(metrics_test, True)\n",
        "  if count > 0:\n",
        "    metrics_prev = pd.read_csv('nprophet_test_error.csv')\n",
        "    metrics_test = pd.concat([metrics_prev, metrics_test])\n",
        "  metrics_test.to_csv('nprophet_test_error.csv', index=False)\n",
        "\n",
        "  # Make Predictions on test set and save\n",
        "  test_size = df_test.shape[0]\n",
<<<<<<< HEAD
<<<<<<< HEAD
        "  pred_npro = m.predict(dsets['BTC-USD'].iloc[-(3*24 + test_size):, :]).iloc[-test_size:, :]\n",
=======
        "  pred_npro = m.predict(dsets[cc].iloc[-(test_size + 1):, :]).iloc[-test_size:, :]\n",
>>>>>>> 043a282815e330e79882eb927d74c15f11ae2ce2
=======
        "  pred_npro = m.predict(dsets[cc].iloc[-(test_size + 1):, :]).iloc[-test_size:, :]\n",
>>>>>>> 8d31783db698437b09448df3e24b6b6699ee0f70
        "  test_df = pred_npro[['ds', 'y', 'yhat1']].rename(columns={'ds':'Date', 'y': 'Observed', 'yhat1': 'Predicted'})\n",
        "  test_df = format_for_app(test_df, False)\n",
        "  if count > 0:\n",
        "    test_prev = pd.read_csv('nprophet_predictions.csv')\n",
        "    test_df = pd.concat([test_prev, test_df])\n",
        "  test_df.to_csv('nprophet_predictions.csv')\n",
        "\n",
        "  # Feature contribution\n",
        "  feat_list = pred_npro.columns.to_list()\n",
        "  feat_list.remove('y')\n",
        "  feat_list.remove('yhat1')\n",
        "  fi_npro = pred_npro[feat_list].rename(columns={'ds': 'Date_dt'})\n",
        "  fi_npro['Date'] = fi_npro['Date_dt'].dt.date.astype(str)\n",
        "  fi_npro = format_for_app(fi_npro, True, pivot_id=['Date', 'Date_dt'], var_names='Feature', value_names='Contribution')\n",
        "  if count > 0:\n",
        "    fi_prev = pd.read_csv('nprophet_ft_importance.csv')\n",
        "    fi_npro = pd.concat([fi_prev, fi_npro])\n",
        "  fi_npro.to_csv('nprophet_ft_importance.csv')\n",
        "\n",
        "  # Retrain Model on whole dataset\n",
        "  m_prod = NeuralProphet(\n",
        "      trend_reg=2,\n",
        "      yearly_seasonality=False,\n",
        "      weekly_seasonality=True,\n",
        "      daily_seasonality=False,\n",
        "      n_lags = 1,\n",
        "      n_forecasts = 1,\n",
        "      # We let parameters to be set automatically by model selector\n",
        "      #num_hidden_layers=4,\n",
        "      #d_hidden=32,\n",
        "      #learning_rate=0.003,\n",
        "  )\n",
        "  # We make it multivariate\n",
        "  m_prod.add_lagged_regressor('Gtrend')\n",
        "  m_prod.add_lagged_regressor(rf_var)\n",
        "  m_prod.add_lagged_regressor('Volume')\n",
        "  # fit to complete dset\n",
        "  m_prod.fit(dsets[cc], freq='D')\n",
        "  # Save model to pkl\n",
        "  pkl_path = cc[:3] + \"_NeuralProphet.pkl\"\n",
        "  with open(pkl_path, \"wb\") as f:\n",
        "      pickle.dump(m_prod, f)\n",
        "  count += 1\n"
      ],
      "metadata": {
        "colab": {
          "base_uri": "https://localhost:8080/",
<<<<<<< HEAD
<<<<<<< HEAD
          "height": 785,
          "referenced_widgets": [
            "50a95117d09c4b05a90daf1fbc4ee4a5",
            "bf7c39e58f064033b95323c9e37d9729",
            "af7074d355f047d58e9fd985d0210f05",
            "45431283291344cdac0c84f75e4d87c8",
            "db524b94e9c84a9a87575bb6776af230",
            "9643617f10f3452085609a6c83fa74f8",
            "9872346ac2b24ab693a53cfc7d3e0a02",
            "50cead409f234f4098e0fde26433bcda",
            "53b21ebcc3424904b13d94dc7cc3b39c",
            "faf035769f6d4e94839b84b2e68bd5b0",
            "91864f43851e4ece91e8ca63b88b1196",
            "601bb77fa18a48668fcbe2ed7926f65f",
            "872063e09d75499bb785cfa91429a7aa",
            "1565eff5266e415ab05ace29b5e46ae0",
            "250610bf19ba4fd5b735b4402e3faf0e",
            "fa06573616ee420ebd4e2e86900f3a53",
            "8d354c4e1cc448e7b2f5428aa5a008ec",
            "144a5cc6816640e381634b80a9758cf1",
            "75bdbf4fb271416f91333c76b8619a33",
            "b90ab3cc303d423c91ee954f28d08d43",
            "02b74b8e07f24a118f20b5024455123c",
            "5dfcc33e46404586880fdac20001c4b8",
            "5be90ae4d90340ce9c83fa7bbeb787df",
            "7ed9007d927144ab85520bc0fa9580ef",
            "9eadbf5bc2eb4dbe8e7ede093335c4c1",
            "d4b468917c664cfa8b3899b67e3cad22",
            "67b16930cef4412590f6e6dbbc5a1ef9",
            "39855c5ca57d48f6a598d9c1a49f7bfd",
            "52306ddc88a546479b312a6b59c6b239",
            "45e9a2c922d3491da191df9c3d8c386f",
            "3e01fa0517534fe1911d1e9dc7de8362",
            "cdbd21adc0744c97a33d05e3f4ec44ae",
            "f69e088f45dd4c0e93d64a6875db66dd",
            "0d528f2f5c08453d8aac2fc8f79020a4",
            "9a41bf3e92ca4a9485c0cae874386272",
            "de5bf8c5d5ee452e99ee389dc9fb4943",
            "c9bf382cb3084fbda40b739a80f02e06",
            "6e2ab04891d642f38d886d8fc134d77f",
            "b3ee449f436c4f6d99618b21b5c04727",
            "6218b3baad674374a4c8d1193558b784",
            "e13c837a0c9c4f6eb8903f008a97d668",
            "66647bf00cd24294b70dfcffdd804a83",
            "8870cd763c184c4eb8b10de5f7c528ad",
            "6abf010aab704df5a007aab5d201153b",
            "5a3cd18f0412421097cd1c4351ae1d16",
            "e289d0e4f8684786b52bc4cbd1f3a26d",
            "d509cb72fc3c4ef9a80d93b79092365e",
            "1fdb0e2e56374efbb254176c8f46886a",
            "abc0a2779b0846658464e31986e39ee3",
            "907effc378294e6c9f9260e42d0811aa",
            "257d11947d464d4589d07060fa1d0e0d",
            "7d516ce1fea642d49e63893f6507678c",
            "cdbddc2597804d5da7a4e6d377ed738f",
            "a9930b68cd5044399ab6f349cbddbae4",
            "71b295df426b4129b4554dc3aaa9a6f2",
            "bffdd00b1f2a4e94b84edbf86edb196b",
            "d599c91a28d442dd9e3ee646787cb4c2",
            "824036485eda401d9c100800a81a3532",
            "50ccab34c5d34e3696c4a07b7e60c717",
            "43cc56e80833463aba82c6754f2f87d9",
            "73ef1d259d5148bd9f4f1a6066b0861b",
            "52c770b24a6a4ae681b7223ef8fc5d57",
            "207a8375e05f446dbf68532ad67e9795",
            "08325ea6e0c34807aaf5f991644bffea",
            "ca803dfed8db42c99622fad4d5944f0d",
            "3d3b211d83c04a7ca1852e1246aedd73",
            "38982b7594c64b468c5eb8f8dd12c5b1",
            "c0ddf839d8eb42e9b478fa057211de62",
            "73d14b2d2cb74c44900d9a5f96563248",
            "8d720223d48744f5b4ecf6999b793732",
            "3ded2d568cd04000be153c0427ce2774",
            "5880c8d4fdf5433e95b5a1c55f787f0a",
            "a63be53fe5aa4f24ad61ea07b09b4b17",
            "58bd01c1e6d0415ab75fc1bd53c0c2f1",
            "b2b0d650013a4261a3e1500ee480702c",
            "9068d0cd77094fc8b6cc07ddd523a66c",
            "383b43007cea4b01ba6e12414fee75be",
            "b0e12c8526434e7ab5f030d78a48dee3",
            "b71bfab982c0438d81380518a8a2ed52",
            "80b74532fe9f4ed1b8e0043b9ddf323f",
            "bf03aad15cfd47a39a712285593dc572",
            "6571b57c0ed349e4b3e0ed5e90d057b9",
            "53436ae3bc244f01bcbd6eafe65deb7f",
            "ccfadf16c48144f0bad8b3ee88ee2720",
            "2b64fb3a5f544fddab271a0344b93154",
            "ee58c09138284b71bb9bfea781354094",
            "738132383375405699784c2c8f513c6e",
            "d283b7aae33844eba7549439df272198",
            "ae14c3b346d7406ca5f75962937a276f",
            "facecba4c8cc430984f36cc78841695c",
            "3965bc87a8f74028bac50265938ae5e1",
            "958a0143ebf743b18ac00ac0a8deb4c8",
            "5d60410431764038920ccf2015e229ab",
            "98e09cef8fdc4079aaecd54be171956b",
            "d4337c2908ca45d8a7b8e4fbee786c71",
            "5086bd52538b4e89b14e2a56d64a6340",
            "2b4b8d85d26a41769c0498bb7b923c03",
            "150d9901632247f396592d2ca190a881",
            "6074629b17424256ba80c94c377faaf4",
            "8323f8b6fbba4ef7bd976b503297a43c",
            "47b0c5430c8f4736b51915a0e5c10f22",
            "2d54ed0bd87f4da2a2208d593ba06c3e",
            "0c0fbdb0eddc41eba58d16de0ec7f6d2",
            "072a89e1b24b4b4696d1be2f9fbb9c41",
            "8693996544d141d3892210bf3e4a5927",
            "496230154e9b481ea061ce7338b4292a",
            "8426b88882184caabf22b82250a2c944",
            "e56c4237001048d5922cf59e9753d97c",
            "4b073eb244204979a250624f8390b14b",
            "4aff652cf22e4f3c8723dfc49add3dca",
            "c6bcc77eb15d4d5db21fa33791b6b9af",
            "818b76cbf5ec4c90acfc40f0631b9332",
            "f8ea518ce44040798cc1b9a33eed6f20",
            "e8d07fdd007f4ca4955eec8da229d787",
            "5aa3b11187fd4a388292fd4f3630acbc",
            "f0bf76ef1ad2422d9a7a9076c29a03b0",
            "6d37ff6121df4288969ab496c1cb4250",
            "352b8cec976e46fc9337228ca309d524",
            "e581aae947e34f568cf508bb7f3ae0e9",
            "bd258b27855045819b7998ca994a7d8d",
            "5ede7b4d59054bd1af62d9e3c25aadff",
            "e33bc12fe0194a81a50075a3e15cff36",
            "aec70ad5b6664415a8196d89f28921aa",
            "5926f66d72624168b8a26a12c12edf62",
            "199ea6d76ded4d39bd93506f7af97137",
            "1667978ee49c4385b0c0688d58a49243",
            "c4522429053942d6bf2fa0fbbf4cdeb7",
            "aa1af6a504c64785a34f7aa42966a787",
            "1c86b2dd1cfb427292cd390330f860ce",
            "cbac21837a0a42e8ad2314345d768f1b",
            "6ff8b9e2eaf94591a1b95d65d596a63f",
            "c8a055ea63fd468a91659f7c952b17a3",
            "9f2853f37e294cf3ad6a0dd197db820c",
            "15e199cb0ce340848da6aa3812e3ecfa",
            "f27764b1c6aa44b289c79b2deab57182",
            "265857cc82cb4821818e4707ef952546",
            "f7229cd55e2c46a4bcce59dfa7546834",
            "a610f7c0644848f19ec85501db2882f9",
            "b2f9f9ec45bd47808c76ef337a8e748e",
            "59840b61e9ce4e18b7a59f644bdff788",
            "8463860dfc1c4ab89e660ed1f996ad53",
            "4b2f6ef0956f4c1788c47bcfffc93fec",
            "9c4b92e3894648c09fd19d53b21200be",
            "64392077239d4fc9baa234bbc018c660",
            "2dec8665420a4a80a35fa21270dbe6c8",
            "863ebed384204341bfcb6a5065bb82d4",
            "fd1a3f2d75514ca2b3d8d798e22121df",
            "eed254b473d04f69a60c7047a1ab6e10",
            "1daf6e089b844a62a8c2a5299b200e6d",
            "2aae09a5580046baa941a1f586928998",
            "e4f6642bc38743e88a59cc44983e5296",
            "3a317a45640f4b8cb99c99d37f3eb72c",
            "800f2d7fb0f04d208c5b2d3d85eaf418",
            "2cf22b4bca874d958a0ddd01fa8b50c7",
            "4d8bf786b157462c818214f2ac20e497",
            "145bc351211d493fbe13b7a710964c49",
            "75d8beb1f41d4d46897d996208c4b954",
            "79a20f4892f14ef1be2a6c75bfb6b17b",
            "90cc693e3f624b24b41a18a74a1ceb58",
            "f4b0ba16cdb1400eaf37392c9b4cd934",
            "791cf5c83dba407098b35504dc04b4b6",
            "32c0bab4edb944c9b4692da7a5bebf3c",
            "ccccf369be1942f6877d3c66d57e66db",
            "5fea5ffe7495482f8b8b2f813c5b3f7e",
            "c59454c00a8348a3bf10c2384631e712",
            "faae818a0e854b9fba7e23c830b43dbc",
            "9ffe11b3215e483fa5c2c8fad87527fa",
            "534ae6a964c14ff19c3b99f40c9ed200",
            "1cf814a35cb24694857dc1856c9b7489",
            "97aa62ccc6144379a0aff823418b3bc8",
            "5edd1030a1924ddf9fc63b404b45ae14",
            "f926e2e393584d23ab40654d06150935",
            "36f8ac1da09046a1b374a94c3c890978",
            "49abe5c8129b4a4ca6321aba57794872",
            "a946566a03e445f282ca4f17c9e29202",
            "de0f2942822444efb77b0f1d0885e41a",
            "f8468f01f458417ca4c9acf3e8f398cf",
            "aaa9cd4437484804a1ce74cdeafffaaf",
            "9a9b6a978baf4f2ea7bb819e8fd4aeed",
            "3374cfaeb7494ca4a2273d92b526d8cb",
            "4ac368d38df746cbbb2335017e50c583",
            "61770cfe02b24661be4d2cceeb450cc2",
            "d81091372d0643d08df7256a7d639966",
            "55c2aeec1ae54733be91e3008c00313f",
            "496f02df83724ec6af3ff75f8529f9f0",
            "10db9df503114f4ca36fb0c4a8727b39",
            "a0c028f0273b4cd38116db8da2686c33",
            "8335c516b70849fc89d81d18afed8a8a",
            "49eaf142435d41c4a8406807ee51231e",
            "1e11b911d9024fc58c043206add163cc",
            "ae884921a8f849378392ee50797a07b1",
            "89a68cfe2eaa4d03a5b11d6824b08304",
            "5abd8491cf834ac88d6aa067a8f27d54",
            "3d6df439611f48ce89b58f22858bbaf7",
            "f6526d6ce46c4dcc84fcbc4af2cb135c",
            "885fb47bae5742d4bf87ddc89ba806ec",
            "767624d6f35741c18514e449cac6b095",
            "21bdabd14698401ca36a4a7b074c4e0c",
            "d1af70b9214a4386b2269bd0a7e91b92",
            "cc21b1bcd38b4b21b16dd93a233f9dd5",
            "d061ff2ad4114adaa6a49a6c0c5db6b8",
            "eb9fe34ebab64172b74d2c1a75896380",
            "f4c46dc3ecd24821a2a4527d62c451e8",
            "eed9ea50c4464d798a736cd8e7b227d6",
            "0f7339da4f0c4745b229cb2f2bd2b51a",
            "75b537e075dc412eb5653e4be662866a",
            "4785e34c5a87495aa65d8a5a03fa8e80",
            "511de2ad749c4d14806988fb639c149b",
            "220ca5f924744f0681ebff70d7198089",
            "2a917899cc2949a9824c2df130341b35",
            "b3cb1c2ad6d94b358b9325ac0b73b4c2",
            "55fa6f006acd492fb3891344797ad143",
            "3a1494f9962c489a82094eac3b8b75c8",
            "de65f882a4284865a1f4920cfea13ab6",
            "20d53d4c913849ae84e7a688c815bf26",
            "c3d73dcd4a384f289c1b9092fff49940",
            "a3fec59b3e8e4921b230ea26ea2f677e",
            "1cae33a857b24075a651d0d680e01adc",
            "966b778dc3fc47eb80126039571527af",
            "feba10f0b6254524a2bd178bd93f6818",
            "0925de021a4a47f99c93c825f1164526",
            "7fc64cf5718c426bb2dca3769aa218a7",
            "2ee7e24a8ca6451fa9eafe9ab6034a80",
            "39c42b698d634a18b42bfc63fe2c04bc",
            "a0e2fe9300f54232b64881b880012422",
            "5cc61556b3954c68a1951681c172252a",
            "b4e1acafcc5447d5bdc98125d82e3e13",
            "0d1564b3cdca4135a6869ec27c918c3b",
            "00b4b72613494800a18e9997274c06d0",
            "b0f77d517ed7435198cd8d72b1b0c7f2",
            "b4a4084061ff48b3be314d241d063467",
            "eae643984cc84a4192f739b2c947cf97",
            "0fdf4c35d3e04631b4a645670c9683c4",
            "9d3b6f761f9548e68f8d905954b47ae2",
            "257f5bc5c4f2486089ffd0a6170be90c",
            "7482057acb4a4c738e89f9050b42dd61",
            "d78aee9f755e42ff9f4947374fb01f06",
            "22d669f0e2024374a50e12631154ad2b",
            "c59d42cf381b468f9069fd24bc40b320",
            "64e14ec600cd45bf91b7cf37e2ec9d84",
            "e6a1a2ebc24c4a609c1d3a7007e9200f",
            "2ee75dd7141f483da3c69e85ddc0c97e",
            "a8b161e9d6214c22af00d1f954c59e52",
            "b424191bfe75441dbfa2780730d7e1c1",
            "26291adb7a544ca8986b0561bec85b9a",
            "9659f050ca584416be2df96ad68c8c38",
            "0b74504b848749e0a3f3a43f121e5bd9",
            "a3810d8af9b94a6e91e0f9046c95bd28",
            "bac459f88c57418dbe652d972792887a",
            "65b2b3fd1a10464583f78b5a267ed586",
            "ae9ed1b7f8324eb086385c0f1468b450",
            "75c9f94948004837b03e56871a99e7d0",
            "6f4b0546be91405a965a68a88dfcc62d",
            "64c95ca4372441b28729d139421c1d73",
            "1797d16332a0401c869273afb2018b41",
            "6c2b4db1a84144828f2855e4b57c0fbb",
            "10294aeff1bd4ae780545b569dea4224",
            "fdc1d60b246349ffbf3a3ff0b0724360",
            "4eda6a04425a42ec8346e30eef72fa4d",
            "e4d28cb07afb49f9916f662482a52dfc",
            "dbe030ae9b464d43908ebc978129a99d",
            "ab75f1045df8495cb34c3e879ac77435",
            "292b85dfe1e04737af1c556ac215ba1b",
            "2bc8b3a7e21f41e38610d60ed612583a"
          ]
        },
        "id": "Ul7lICtzQYgd",
        "outputId": "6192b1cc-688e-48a7-dc89-f971f6157eba"
      },
      "execution_count": 3,
      "outputs": [
        {
=======
=======
>>>>>>> 8d31783db698437b09448df3e24b6b6699ee0f70
          "height": 889,
          "referenced_widgets": [
            "8fd8df024171481b8f769d691d1623e9",
            "1941cc70641e47a38e0ca1af9c69a237",
            "5ed40dcbcb4f4c86a5c120481a45cbd0",
            "5d17a910c3ce4783943b19f65892d594",
            "d733074a1d9c420dbd7c2548364f1cec",
            "edfa936a197642138903833e322f623c",
            "f7dad60ef0c9430083bff5e5c69f221d",
            "f13a9bd243ac4d31b9b0f2db41181ddf",
            "5ea59a985bc744fcab57bc9f9103a85e",
            "4e9c6825f3944fec9c37d7cc0264be64",
            "5513cb8916a042cdbe6bcc4ab75cfb78",
            "13356379f0e1424db638d89e60fba340",
            "2b3d534e34e043518b75f29facde8fdc",
            "500e83e352424412ab7d036065499975",
            "d4ba59549613431f87c3ab4c2ab92f50",
            "7d57398bfb5b45c5872eadd4fc2491ab",
            "3bd546c0bf7841f29f2bd87318636706",
            "6ed974ef65a744a78f9c55e1f6ed5478",
            "2b20fefec6f040c6a875020a8dbc480f",
            "c7a3c02dacda45baa8b85a350111f023",
            "999ac30b7adc4be1847fb9515f58aa48",
            "91dcbec9fa044a94aec406ca44de13d2",
            "6c2a8ce2d6b0491890014f2e6d78248f",
            "d828fb38392b4b949d7f81bba690d43e",
            "d801b5f172b24ccfb2be490ab0dcdc7b",
            "c2cf57f8fe614e028651be4faad18d9d",
            "5fdce93e549f4383bedcd8ece71529d6",
            "ba608ac7bd9a435a919c53473e987e01",
            "0bde991b9b624e58b16203f7e542e02e",
            "ebc8ed8856cb4d72949d48ba326af6a5",
            "2219dbe33ff54b17998d6aa12916951f",
            "2423762f2def4bb5a2d3febe88a74f5e",
            "c4b2136902764ba5a5c1bbc500bab030",
            "5d88c698a232424485a6f99e484c0fd8",
            "c6fb64cb8b2a479690b75a2810a84618",
            "258e633a2e664b129e6d178b9382fc6f",
            "5468a804fbf14bab9e434787a7e816f3",
            "0dbd73f14171468786de17bc01cf12ae",
            "3bb2a9dd192c4b0ba6704e399d14b8d3",
            "10d470eee2e54f4c972c24df32598ec1",
            "e590491a85db4217a14dde929fe1e9a3",
            "723957e723dc49179dd3f7e484862ee9",
            "f567d497b51b46cbaafe48cd84a7b7dd",
            "ac84f031d4684107a719475405844000",
            "a1aa36582c3845029fc1374320a009f9",
            "c7116b7525674b03ae4831f8170e8658",
            "ddb0fe23e5094694aa8fb53015783f21",
            "07be89d53e3f449da39988c970b8a451",
            "0b967549efe64ac98e19f9c98e2a11d0",
            "f2e14ec80db04586a858d05adab6283f",
            "a23f0c292af1452f9b89745e903a2229",
            "014b1b4e252a40e3afcfdaadfe267245",
            "5658038c3fb743618c6e7bd4d3abcb72",
            "39bb93a7ce534cc1ad1f815630efd3fe",
            "d3d7f5dfd67d4f96958c5a2a118087bf",
            "d390eabf1e1f4a5f8c1f330268c62480",
            "7172f5ff3f5449fcbe9280dc26740a00",
            "13a578c375914c74b6b60625b890e4b0",
            "cc5f4998bab0437a88d30a358f751904",
            "8972c35d117f48afb35e939c1f97fff1",
            "ca03710a6fe54997813d1e884bbdb2fd",
            "3d2497667a9b4f8182b4f5ba8c0281f1",
            "6e4c4988d8744610894d77b99389ec93",
            "643bde86775c48f4955a031ac35bf183",
            "28dd78a6a828484b8cbb593e54ecad54",
            "060aa13eeceb476396b5da393180a29a",
            "fec1102a8e624964aa71c3b67025a9e6",
            "944187839fbd44be8c1fe13e01e35cf0",
            "75cb10a544714f1fadb79b4ca53bcd75",
            "6a4040d0338f4b16b44b1a0f7aa9502b",
            "9aec8d3bb0264edcbb973cbfdcdd7c45",
            "e64c896683b64cb59a0233512248c51d",
            "a78b569bb8ec457ba94268b9314c65bd",
            "8fc50638520043d4afcf5e8abd70a412",
            "55dc2e6e81db438babcd608c4ea6acba",
            "edf0d5fd4497436cbb056bb7943222de",
            "55a06966b88c4d1ab7140facf14aed34",
            "280f3b25377f44e6bac45cc2e604308d",
            "03621ce9fcf645cd913f28f9c49a8c60",
            "9cf4e05aedb24d47b5baaf46aba6f31a",
            "e45984e258ac40148444cf4c5a994d5d",
            "20ff9354a3614946beed53fdf31479b3",
            "a43cab18912549e1a6f3440cb7c36dfb",
            "9d39723a4ab745468a3fde5951cd1c8a",
            "42324dada6f7402a886500f1b98aff14",
            "e1e17e9b1b2640f5baf1f16ef0ede2cf",
            "69536f613ec84864b70e68b9df1a5956",
            "867d984a08c74a4dba4cdc70cf556be9",
            "81627e98e7594e5d84f030d34e1e409e",
            "9c687b8b94894a7297fd3839a10cbd5c",
            "b9c12038823b42309be8e970535bfb9f",
            "eec12469f56b4396bd765d9f7018dd26",
            "7522ca3f65514f24960df3a5f0c1903e",
            "5c2f87d0c75f45c69b94f6b323550d07",
            "2ac5bb4ba0234849912f132cdc54ee76",
            "15335c53a4ef4d698f2f48b1be9ac811",
            "b795f7f908af4f4db3be53e31da936ef",
            "0c15871ebd894b5697692ecfcfcb93d1",
            "0679ca07e7274362826679dc3a0e601b",
            "31923ab88c5e47c58ca5180cb620dbe8",
            "9633adff2bae4bd8bd3563fc3fc3675d",
            "65064566124c4dd3b6f5eef6d396a4b8",
            "af61a9389ea043489370504085f69900",
            "ec371b158e2a414f83754e0468052dca",
            "e0ea216f311a44d7892e680f5666db69",
            "ab50e34189614567a4b1337adf463b94",
            "c4e8934080944df098c34f0f80a14254",
            "fac1970e7eab44f597b1b3208b22ddd9",
            "876d10b2b70d42bd8e056755f73e7cfa",
            "adde5b0f5bfe4dc1843559e4f30a8d76",
            "c3ef2f4069bc4c0e8f56ce1afd621172",
            "a9b4ad3c490146119c0c7c8661e5fe8d",
            "3d8f94b3346c4f8abbf5a56982432a9b",
            "1e10c503f82e4e98b854d9d1a3220e6a",
            "507879e0855b471586c528b027a32575",
            "c08d257ec68a4b1bbf83e79c31801b96",
            "5b694d39fcb84299b6b62529eede89e9",
            "1fdcbab794fb47cb98312bbeedd85c6f",
            "57a375d63b7f47b58e0053e581a9c4d8",
            "7886d54d62eb40f88a6c99ae8e895acb",
            "3c21753b0e954918b290efae5e5d504e",
            "38462fd9b8444b34a81125bbf0443da0",
            "a7d97fa5539d489bbb3cef5853e67095",
            "d6f3d4e796e64c67ada62d0b9381055d",
            "0cab989570334bdaa5e6b915c8f2b349",
            "12dbabc66edc47df987f3bec6477bc94",
            "fb271eb98e4247b48086c7d2d10f4c24",
            "058712915c1c4d428115f6c2a4e8b922",
            "c56743cefea8486d9f51827726a3525a",
            "83fb1712637e4b1d9bb70ebf56e6ab1d",
            "61782773033441059248b8c118dfe23b",
            "63253b5d027e4baa8188301223768b71",
            "ca317766fc5e44fda2feec42c385bf91",
            "a0b0754f9207469fa770e71e07ffc3fb",
            "020eb9e4fbea401a8620ff92b934b537",
            "ff613936e0b24ba3ab56df4dd1698536",
            "8eed8fb502f14aa0bef6e04a81129759",
            "760ccbbf21364de181f1431d0c1dc36c",
            "e5ca2cacde5949ebb989b4d2abacd3e2",
            "e98299ca661e4ff09c8bf52ed44e88cd",
            "cb85918ae23141f6adf245f8adfe3e15",
            "f9f04dd36b3a41d9af8a1489fcbe6cbb",
            "3de086548afc4e4eb2371c23405a07db",
            "95e8fc84609f417599cae884bfb839e6",
            "21c77a0290084c7c91128698c95e5d2b",
            "055465bd763e41649ad59b9855345050",
            "fe7d3c3276934ec8b283060be367ff75",
            "6a91e1b9a4ec4a3eab7c74a4a1343b9f",
            "89ec39650ced4c889e6a7572085aa93b",
            "d5b97eaf5fbd4101899c7ad7181cd2ff",
            "d4b20ebe75204ec2b3a751b5df6a5b56",
            "872e3d8653f84dbd8d701e5818703a9d",
            "633c9cca536d4245b376febeb8234200",
            "503be3fbab04417a8e3f591997ec71ce",
            "30c35d93d3c240fd973299e518b3ead5",
            "9c1176ef5799405399084036d9e84acf",
            "8756b791a97b4d1bb71e48e625fea679",
            "6934285ea9944dbe9ca40bedb90db029",
            "7ecf11ab11e448368ef12c31524ca436",
            "c47a704020fb4d5493c0858264fc32c8",
            "02dad0ff6b7f42bc82e4a9e4485d3324",
            "703d9e4c1fc346c8b7634deba18b6bc2",
            "1892b7c9907c461aa828403b6ae1c3db",
            "2065c6a075c24eaea7e1179e07bcf335",
            "5b29fb71190b4824a331fca228c27b73",
            "28134693ecd643e09fba553a3c6fd8ad",
            "b5dc30f6421349d2a709d47538f3bd8b",
            "c8adf2b5cb874edb9c4f08706e044e5e",
            "cd8b1251f66f4f0097e26d27bc05e349",
            "ea717edb347f426e88f64ec4ca59eff1",
            "8edd426dfbd441d9b04e7e543910a902",
            "7878e2885e8b4a0bb4ae5aeab1ba23c6",
            "e635461550644127a19ac775782ca23b",
            "c99020bc905b4bda8a97c209f7c8b9fa",
            "1c53d59de00e4c34a474a30280c2fb97",
            "025a2b8b27af409a9bea74dd315ff236",
            "7947347ddd364ebe9cefc2c22b468180",
            "95336760bb0e4f76b9cfd2788e47ffcf",
            "4e5ada09fc0845ecb7374925e14766d9",
            "f7d635420b734a5783273b60a133c528",
            "bf3f3b5cd4a1460a88fd5903e2ce714c",
            "438caf85ca4141aea7994a4e51d57032",
            "8428eca1b5fa4378b135e14365078287",
            "c8b4eb10baa44ce88d481e874feb63a3",
            "4863387caccf48bea26537ba51ad087d",
            "5602566e1cc64070b9964b3174d63216",
            "0a1605184feb4f97a20bad2a60471350",
            "3ddeba1f190148a2b64f8efa9f0419e7",
            "dfcd5f82dbaf4d4a9799fd1b3b963a15",
            "0db75b6826b541ed89175ed8d2f8d897",
            "b9be77cce3df47c48ecc6990ac4c7c8f",
            "f925fd27b90f4f9fab0c441c82d7e806",
            "1a09af5501844905952380e5daecce38",
            "e55a2d94c9134ce3a69f99146f4eebd6",
            "460d0d94323e4fad817221c4f14be8fd",
            "0b01116d5a694b1f8b4a2b1fa76fbb23",
            "f617dd9b01e34f079f0e84ee2247d902",
            "583aeb2fc5764fb99520c58f56e59c26",
            "716068d8c3aa4c939334708496365184",
            "c2f4c51f318049aaa9d04bb5bb960dc1",
            "20109dc2faee4101adaa8b6580ac1e70",
            "691f48c600194b31b453064605edbd8b",
            "f472eb5548684c2fbae774f88a57ced3",
            "83a436501dbc4cd49657413445b83832",
            "89b43a9bb9c84aacb4419e3d97f3c50e",
            "2379f2087da549729851d864c5b96e1e",
            "5297cba890844882a397984f5d363ab0",
            "7ad360375d8548fba1115bac528d74a2",
            "70d5a069ae2046d78f51971668baaed9",
            "02001991687646958e5d2e6ec5444c4f",
            "5bea05fb7a3d4d53a8e2be83c171dace",
            "5be66da2a78f429d91b673f9bdd2d63b",
            "0f2d4d76dc7e444899f996000027a553",
            "465f1ccf8a844e729ce8da46dc87dab1",
            "e4d03b22f621436f9f74c23b09c7bd34",
            "9217294d59804203abb969e5ab611f63",
            "08a4aa08252f42ae9c48f7fb3af46dfd",
            "139715ddb1374df98a2886dcfc484a58",
            "34377fd6dcc64a27b4a2d5c4c9ad49c9",
            "ab549ca110ca424fbc311bca9c2c3d35",
            "40e700462fcc49b0a51c29f1b4e2d8c9",
            "700bdbf2bc6948b7be439b50832a990e",
            "dbc87d401bd74638918e359bedd751d9",
            "09b944dd709845a5b321c8bc18ef2c90",
            "808a264626a445cb86c6f92f789a003c",
            "8c5d480112cc4350a0776fc2e9ec07a0",
            "097e3f867b244205abbaf3e8c8d41dbd",
            "dbf02b7c16b74f47a5e219afad2281c0",
            "f1aea86466564ac9afb0b5ad67ff65c3",
            "b5b31f76949d44fd98e9c77c5d8f5ea9",
            "df1c61c496c74d609ac513918178a324",
            "058abb6c12bc4bc98aaae54e28d5ec4a",
            "e244ce7369bf4c3a8616b18f7b13be1a",
            "47a71a76d21e4cc7baa623b2aa10902a",
            "f421ed80628c4c2189bee69367dde7e4",
            "3939889ea1f448aa92b5bd0c1adde612",
            "97f47207eea64344821f3de9a95541c6",
            "4cb54668345b4f0487c030ac94c16ad6",
            "39959a0bc04345f0b8bb67583382524d",
            "ed1e8b8be9fb47f08cf6c01ba5d314fe",
            "4db2fe725a474f52a0d30a707c8d7802",
            "03bba9f53ab142b899db3cce8b98b6a0",
            "0c9c597289034d818f93f8ba4885f5be",
            "cc44bb9447b54509b499898a8e8b29f1",
            "91e26da3d86140f5a170813c8ae8efcd",
            "2d6f7a1ec79a479db4d710936c1d193c",
            "e7489379efbd42fcb78e6bec8b3e9c70",
            "c6c8302b96ec4e4ebf8db15f19a7626a",
            "1aef5a8a0df74953a7e32bb37bbe757d",
            "8cd635cbea7846ba835b066fe429044b",
            "c03ed96dfe24472680f156d54dd5e1f2",
            "c26f9cd8c4194cccb404190661c5b5ec",
            "5fb5af336c2e43338d904bda501267a6",
            "1fcf694b013242cf9ce0da5aea7565a1",
            "fe64d29742eb493b90f759f1bfe02ba7",
            "b2a3c307dcfc4f8386ddbd27b6d587b3",
            "e40c5eefa533418d8c44b980c3be2f3f",
            "e01cbac9c3104fde908b966271efb9dd",
            "d3569640f5eb4f6bb9b67e0e3f875f7b",
            "3b395eb035dc463e90108d4ebebd898a",
            "13a59d14e87a44a9a95f1f3c40c71206",
            "3c585e504a104afcbb902b1145e30913",
            "92ccb49d53544219ae3ee5b6dbbe9d3c",
            "51c49b1b66024113bb2383e3144f35e4"
          ]
        },
        "id": "Ul7lICtzQYgd",
        "outputId": "6d09b61a-1b16-4149-b2f6-bd10d1ef07ab"
      },
      "execution_count": 4,
      "outputs": [
        {
          "output_type": "stream",
          "name": "stdout",
          "text": [
            "BTC-USD\n"
          ]
        },
        {
<<<<<<< HEAD
>>>>>>> 043a282815e330e79882eb927d74c15f11ae2ce2
=======
>>>>>>> 8d31783db698437b09448df3e24b6b6699ee0f70
          "output_type": "display_data",
          "data": {
            "text/plain": [
              "  0%|          | 0/135 [00:00<?, ?it/s]"
            ],
            "application/vnd.jupyter.widget-view+json": {
              "version_major": 2,
              "version_minor": 0,
<<<<<<< HEAD
<<<<<<< HEAD
              "model_id": "50a95117d09c4b05a90daf1fbc4ee4a5"
=======
              "model_id": "8fd8df024171481b8f769d691d1623e9"
>>>>>>> 043a282815e330e79882eb927d74c15f11ae2ce2
=======
              "model_id": "8fd8df024171481b8f769d691d1623e9"
>>>>>>> 8d31783db698437b09448df3e24b6b6699ee0f70
            }
          },
          "metadata": {}
        },
        {
          "output_type": "display_data",
          "data": {
            "text/plain": [
              "  0%|          | 0/135 [00:00<?, ?it/s]"
            ],
            "application/vnd.jupyter.widget-view+json": {
              "version_major": 2,
              "version_minor": 0,
<<<<<<< HEAD
<<<<<<< HEAD
              "model_id": "601bb77fa18a48668fcbe2ed7926f65f"
=======
              "model_id": "13356379f0e1424db638d89e60fba340"
>>>>>>> 043a282815e330e79882eb927d74c15f11ae2ce2
=======
              "model_id": "13356379f0e1424db638d89e60fba340"
>>>>>>> 8d31783db698437b09448df3e24b6b6699ee0f70
            }
          },
          "metadata": {}
        },
        {
          "output_type": "stream",
          "name": "stderr",
          "text": [
            ""
          ]
        },
        {
          "output_type": "display_data",
          "data": {
            "text/plain": [
              "  0%|          | 0/136 [00:00<?, ?it/s]"
            ],
            "application/vnd.jupyter.widget-view+json": {
              "version_major": 2,
              "version_minor": 0,
<<<<<<< HEAD
<<<<<<< HEAD
              "model_id": "5be90ae4d90340ce9c83fa7bbeb787df"
=======
              "model_id": "6c2a8ce2d6b0491890014f2e6d78248f"
>>>>>>> 043a282815e330e79882eb927d74c15f11ae2ce2
=======
              "model_id": "6c2a8ce2d6b0491890014f2e6d78248f"
>>>>>>> 8d31783db698437b09448df3e24b6b6699ee0f70
            }
          },
          "metadata": {}
        },
        {
          "output_type": "display_data",
          "data": {
            "text/plain": [
              "  0%|          | 0/136 [00:00<?, ?it/s]"
            ],
            "application/vnd.jupyter.widget-view+json": {
              "version_major": 2,
              "version_minor": 0,
<<<<<<< HEAD
<<<<<<< HEAD
              "model_id": "0d528f2f5c08453d8aac2fc8f79020a4"
=======
              "model_id": "5d88c698a232424485a6f99e484c0fd8"
>>>>>>> 043a282815e330e79882eb927d74c15f11ae2ce2
=======
              "model_id": "5d88c698a232424485a6f99e484c0fd8"
>>>>>>> 8d31783db698437b09448df3e24b6b6699ee0f70
            }
          },
          "metadata": {}
        },
        {
          "output_type": "stream",
          "name": "stderr",
          "text": [
            ""
          ]
        },
        {
          "output_type": "display_data",
          "data": {
            "text/plain": [
              "  0%|          | 0/130 [00:00<?, ?it/s]"
            ],
            "application/vnd.jupyter.widget-view+json": {
              "version_major": 2,
              "version_minor": 0,
<<<<<<< HEAD
<<<<<<< HEAD
              "model_id": "5a3cd18f0412421097cd1c4351ae1d16"
=======
              "model_id": "a1aa36582c3845029fc1374320a009f9"
>>>>>>> 043a282815e330e79882eb927d74c15f11ae2ce2
=======
              "model_id": "a1aa36582c3845029fc1374320a009f9"
>>>>>>> 8d31783db698437b09448df3e24b6b6699ee0f70
            }
          },
          "metadata": {}
        },
        {
<<<<<<< HEAD
<<<<<<< HEAD
=======
=======
>>>>>>> 8d31783db698437b09448df3e24b6b6699ee0f70
          "output_type": "stream",
          "name": "stdout",
          "text": [
            "ETH-USD\n"
          ]
        },
        {
<<<<<<< HEAD
>>>>>>> 043a282815e330e79882eb927d74c15f11ae2ce2
=======
>>>>>>> 8d31783db698437b09448df3e24b6b6699ee0f70
          "output_type": "display_data",
          "data": {
            "text/plain": [
              "  0%|          | 0/130 [00:00<?, ?it/s]"
            ],
            "application/vnd.jupyter.widget-view+json": {
              "version_major": 2,
              "version_minor": 0,
<<<<<<< HEAD
<<<<<<< HEAD
              "model_id": "bffdd00b1f2a4e94b84edbf86edb196b"
=======
              "model_id": "d390eabf1e1f4a5f8c1f330268c62480"
>>>>>>> 043a282815e330e79882eb927d74c15f11ae2ce2
=======
              "model_id": "d390eabf1e1f4a5f8c1f330268c62480"
>>>>>>> 8d31783db698437b09448df3e24b6b6699ee0f70
            }
          },
          "metadata": {}
        },
        {
          "output_type": "stream",
          "name": "stderr",
          "text": [
            ""
          ]
        },
        {
          "output_type": "display_data",
          "data": {
            "text/plain": [
              "  0%|          | 0/131 [00:00<?, ?it/s]"
            ],
            "application/vnd.jupyter.widget-view+json": {
              "version_major": 2,
              "version_minor": 0,
<<<<<<< HEAD
<<<<<<< HEAD
              "model_id": "38982b7594c64b468c5eb8f8dd12c5b1"
=======
              "model_id": "fec1102a8e624964aa71c3b67025a9e6"
>>>>>>> 043a282815e330e79882eb927d74c15f11ae2ce2
=======
              "model_id": "fec1102a8e624964aa71c3b67025a9e6"
>>>>>>> 8d31783db698437b09448df3e24b6b6699ee0f70
            }
          },
          "metadata": {}
        },
        {
          "output_type": "display_data",
          "data": {
            "text/plain": [
              "  0%|          | 0/131 [00:00<?, ?it/s]"
            ],
            "application/vnd.jupyter.widget-view+json": {
              "version_major": 2,
              "version_minor": 0,
<<<<<<< HEAD
<<<<<<< HEAD
              "model_id": "b0e12c8526434e7ab5f030d78a48dee3"
=======
              "model_id": "280f3b25377f44e6bac45cc2e604308d"
>>>>>>> 043a282815e330e79882eb927d74c15f11ae2ce2
=======
              "model_id": "280f3b25377f44e6bac45cc2e604308d"
>>>>>>> 8d31783db698437b09448df3e24b6b6699ee0f70
            }
          },
          "metadata": {}
        },
        {
          "output_type": "stream",
          "name": "stderr",
          "text": [
            ""
          ]
        },
        {
          "output_type": "display_data",
          "data": {
            "text/plain": [
              "  0%|          | 0/135 [00:00<?, ?it/s]"
            ],
            "application/vnd.jupyter.widget-view+json": {
              "version_major": 2,
              "version_minor": 0,
<<<<<<< HEAD
<<<<<<< HEAD
              "model_id": "ae14c3b346d7406ca5f75962937a276f"
=======
              "model_id": "81627e98e7594e5d84f030d34e1e409e"
>>>>>>> 043a282815e330e79882eb927d74c15f11ae2ce2
=======
              "model_id": "81627e98e7594e5d84f030d34e1e409e"
>>>>>>> 8d31783db698437b09448df3e24b6b6699ee0f70
            }
          },
          "metadata": {}
        },
        {
<<<<<<< HEAD
<<<<<<< HEAD
=======
=======
>>>>>>> 8d31783db698437b09448df3e24b6b6699ee0f70
          "output_type": "stream",
          "name": "stdout",
          "text": [
            "LTC-USD\n"
          ]
        },
        {
<<<<<<< HEAD
>>>>>>> 043a282815e330e79882eb927d74c15f11ae2ce2
=======
>>>>>>> 8d31783db698437b09448df3e24b6b6699ee0f70
          "output_type": "display_data",
          "data": {
            "text/plain": [
              "  0%|          | 0/135 [00:00<?, ?it/s]"
            ],
            "application/vnd.jupyter.widget-view+json": {
              "version_major": 2,
              "version_minor": 0,
<<<<<<< HEAD
<<<<<<< HEAD
              "model_id": "8323f8b6fbba4ef7bd976b503297a43c"
=======
              "model_id": "31923ab88c5e47c58ca5180cb620dbe8"
>>>>>>> 043a282815e330e79882eb927d74c15f11ae2ce2
=======
              "model_id": "31923ab88c5e47c58ca5180cb620dbe8"
>>>>>>> 8d31783db698437b09448df3e24b6b6699ee0f70
            }
          },
          "metadata": {}
        },
        {
          "output_type": "stream",
          "name": "stderr",
          "text": [
            ""
          ]
        },
        {
          "output_type": "display_data",
          "data": {
            "text/plain": [
              "  0%|          | 0/136 [00:00<?, ?it/s]"
            ],
            "application/vnd.jupyter.widget-view+json": {
              "version_major": 2,
              "version_minor": 0,
<<<<<<< HEAD
<<<<<<< HEAD
              "model_id": "c6bcc77eb15d4d5db21fa33791b6b9af"
=======
              "model_id": "c3ef2f4069bc4c0e8f56ce1afd621172"
>>>>>>> 043a282815e330e79882eb927d74c15f11ae2ce2
=======
              "model_id": "c3ef2f4069bc4c0e8f56ce1afd621172"
>>>>>>> 8d31783db698437b09448df3e24b6b6699ee0f70
            }
          },
          "metadata": {}
        },
        {
          "output_type": "display_data",
          "data": {
            "text/plain": [
              "  0%|          | 0/136 [00:00<?, ?it/s]"
            ],
            "application/vnd.jupyter.widget-view+json": {
              "version_major": 2,
              "version_minor": 0,
<<<<<<< HEAD
<<<<<<< HEAD
              "model_id": "e33bc12fe0194a81a50075a3e15cff36"
=======
              "model_id": "38462fd9b8444b34a81125bbf0443da0"
>>>>>>> 043a282815e330e79882eb927d74c15f11ae2ce2
=======
              "model_id": "38462fd9b8444b34a81125bbf0443da0"
>>>>>>> 8d31783db698437b09448df3e24b6b6699ee0f70
            }
          },
          "metadata": {}
        },
        {
          "output_type": "stream",
          "name": "stderr",
          "text": [
            ""
          ]
        },
        {
          "output_type": "display_data",
          "data": {
            "text/plain": [
              "  0%|          | 0/135 [00:00<?, ?it/s]"
            ],
            "application/vnd.jupyter.widget-view+json": {
              "version_major": 2,
              "version_minor": 0,
<<<<<<< HEAD
<<<<<<< HEAD
              "model_id": "9f2853f37e294cf3ad6a0dd197db820c"
=======
              "model_id": "ca317766fc5e44fda2feec42c385bf91"
>>>>>>> 043a282815e330e79882eb927d74c15f11ae2ce2
=======
              "model_id": "ca317766fc5e44fda2feec42c385bf91"
>>>>>>> 8d31783db698437b09448df3e24b6b6699ee0f70
            }
          },
          "metadata": {}
        },
        {
<<<<<<< HEAD
<<<<<<< HEAD
=======
=======
>>>>>>> 8d31783db698437b09448df3e24b6b6699ee0f70
          "output_type": "stream",
          "name": "stdout",
          "text": [
            "NMC-USD\n"
          ]
        },
        {
<<<<<<< HEAD
>>>>>>> 043a282815e330e79882eb927d74c15f11ae2ce2
=======
>>>>>>> 8d31783db698437b09448df3e24b6b6699ee0f70
          "output_type": "display_data",
          "data": {
            "text/plain": [
              "  0%|          | 0/135 [00:00<?, ?it/s]"
            ],
            "application/vnd.jupyter.widget-view+json": {
              "version_major": 2,
              "version_minor": 0,
<<<<<<< HEAD
<<<<<<< HEAD
              "model_id": "64392077239d4fc9baa234bbc018c660"
=======
              "model_id": "95e8fc84609f417599cae884bfb839e6"
>>>>>>> 043a282815e330e79882eb927d74c15f11ae2ce2
=======
              "model_id": "95e8fc84609f417599cae884bfb839e6"
>>>>>>> 8d31783db698437b09448df3e24b6b6699ee0f70
            }
          },
          "metadata": {}
        },
        {
          "output_type": "stream",
          "name": "stderr",
          "text": [
            ""
          ]
        },
        {
          "output_type": "display_data",
          "data": {
            "text/plain": [
              "  0%|          | 0/136 [00:00<?, ?it/s]"
            ],
            "application/vnd.jupyter.widget-view+json": {
              "version_major": 2,
              "version_minor": 0,
<<<<<<< HEAD
<<<<<<< HEAD
              "model_id": "4d8bf786b157462c818214f2ac20e497"
=======
              "model_id": "30c35d93d3c240fd973299e518b3ead5"
>>>>>>> 043a282815e330e79882eb927d74c15f11ae2ce2
=======
              "model_id": "30c35d93d3c240fd973299e518b3ead5"
>>>>>>> 8d31783db698437b09448df3e24b6b6699ee0f70
            }
          },
          "metadata": {}
        },
        {
          "output_type": "display_data",
          "data": {
            "text/plain": [
              "  0%|          | 0/136 [00:00<?, ?it/s]"
            ],
            "application/vnd.jupyter.widget-view+json": {
              "version_major": 2,
              "version_minor": 0,
<<<<<<< HEAD
<<<<<<< HEAD
              "model_id": "faae818a0e854b9fba7e23c830b43dbc"
=======
              "model_id": "28134693ecd643e09fba553a3c6fd8ad"
>>>>>>> 043a282815e330e79882eb927d74c15f11ae2ce2
=======
              "model_id": "28134693ecd643e09fba553a3c6fd8ad"
>>>>>>> 8d31783db698437b09448df3e24b6b6699ee0f70
            }
          },
          "metadata": {}
        },
        {
          "output_type": "stream",
          "name": "stderr",
          "text": [
            ""
          ]
        },
        {
          "output_type": "display_data",
          "data": {
            "text/plain": [
              "  0%|          | 0/135 [00:00<?, ?it/s]"
            ],
            "application/vnd.jupyter.widget-view+json": {
              "version_major": 2,
              "version_minor": 0,
<<<<<<< HEAD
<<<<<<< HEAD
              "model_id": "f8468f01f458417ca4c9acf3e8f398cf"
=======
              "model_id": "7947347ddd364ebe9cefc2c22b468180"
>>>>>>> 043a282815e330e79882eb927d74c15f11ae2ce2
=======
              "model_id": "7947347ddd364ebe9cefc2c22b468180"
>>>>>>> 8d31783db698437b09448df3e24b6b6699ee0f70
            }
          },
          "metadata": {}
        },
        {
<<<<<<< HEAD
<<<<<<< HEAD
=======
=======
>>>>>>> 8d31783db698437b09448df3e24b6b6699ee0f70
          "output_type": "stream",
          "name": "stdout",
          "text": [
            "PPC-USD\n"
          ]
        },
        {
<<<<<<< HEAD
>>>>>>> 043a282815e330e79882eb927d74c15f11ae2ce2
=======
>>>>>>> 8d31783db698437b09448df3e24b6b6699ee0f70
          "output_type": "display_data",
          "data": {
            "text/plain": [
              "  0%|          | 0/135 [00:00<?, ?it/s]"
            ],
            "application/vnd.jupyter.widget-view+json": {
              "version_major": 2,
              "version_minor": 0,
<<<<<<< HEAD
<<<<<<< HEAD
              "model_id": "8335c516b70849fc89d81d18afed8a8a"
=======
              "model_id": "3ddeba1f190148a2b64f8efa9f0419e7"
>>>>>>> 043a282815e330e79882eb927d74c15f11ae2ce2
=======
              "model_id": "3ddeba1f190148a2b64f8efa9f0419e7"
>>>>>>> 8d31783db698437b09448df3e24b6b6699ee0f70
            }
          },
          "metadata": {}
        },
        {
          "output_type": "stream",
          "name": "stderr",
          "text": [
            ""
          ]
        },
        {
          "output_type": "display_data",
          "data": {
            "text/plain": [
              "  0%|          | 0/136 [00:00<?, ?it/s]"
            ],
            "application/vnd.jupyter.widget-view+json": {
              "version_major": 2,
              "version_minor": 0,
<<<<<<< HEAD
<<<<<<< HEAD
              "model_id": "d1af70b9214a4386b2269bd0a7e91b92"
=======
              "model_id": "716068d8c3aa4c939334708496365184"
>>>>>>> 043a282815e330e79882eb927d74c15f11ae2ce2
=======
              "model_id": "716068d8c3aa4c939334708496365184"
>>>>>>> 8d31783db698437b09448df3e24b6b6699ee0f70
            }
          },
          "metadata": {}
        },
        {
          "output_type": "display_data",
          "data": {
            "text/plain": [
              "  0%|          | 0/136 [00:00<?, ?it/s]"
            ],
            "application/vnd.jupyter.widget-view+json": {
              "version_major": 2,
              "version_minor": 0,
<<<<<<< HEAD
<<<<<<< HEAD
              "model_id": "2a917899cc2949a9824c2df130341b35"
=======
              "model_id": "02001991687646958e5d2e6ec5444c4f"
>>>>>>> 043a282815e330e79882eb927d74c15f11ae2ce2
=======
              "model_id": "02001991687646958e5d2e6ec5444c4f"
>>>>>>> 8d31783db698437b09448df3e24b6b6699ee0f70
            }
          },
          "metadata": {}
        },
        {
          "output_type": "stream",
          "name": "stderr",
          "text": [
            ""
          ]
        },
        {
          "output_type": "display_data",
          "data": {
            "text/plain": [
              "  0%|          | 0/135 [00:00<?, ?it/s]"
            ],
            "application/vnd.jupyter.widget-view+json": {
              "version_major": 2,
              "version_minor": 0,
<<<<<<< HEAD
<<<<<<< HEAD
              "model_id": "0925de021a4a47f99c93c825f1164526"
=======
              "model_id": "40e700462fcc49b0a51c29f1b4e2d8c9"
>>>>>>> 043a282815e330e79882eb927d74c15f11ae2ce2
=======
              "model_id": "40e700462fcc49b0a51c29f1b4e2d8c9"
>>>>>>> 8d31783db698437b09448df3e24b6b6699ee0f70
            }
          },
          "metadata": {}
        },
        {
<<<<<<< HEAD
<<<<<<< HEAD
=======
=======
>>>>>>> 8d31783db698437b09448df3e24b6b6699ee0f70
          "output_type": "stream",
          "name": "stdout",
          "text": [
            "FTC-USD\n"
          ]
        },
        {
<<<<<<< HEAD
>>>>>>> 043a282815e330e79882eb927d74c15f11ae2ce2
=======
>>>>>>> 8d31783db698437b09448df3e24b6b6699ee0f70
          "output_type": "display_data",
          "data": {
            "text/plain": [
              "  0%|          | 0/135 [00:00<?, ?it/s]"
            ],
            "application/vnd.jupyter.widget-view+json": {
              "version_major": 2,
              "version_minor": 0,
<<<<<<< HEAD
<<<<<<< HEAD
              "model_id": "eae643984cc84a4192f739b2c947cf97"
=======
              "model_id": "058abb6c12bc4bc98aaae54e28d5ec4a"
>>>>>>> 043a282815e330e79882eb927d74c15f11ae2ce2
=======
              "model_id": "058abb6c12bc4bc98aaae54e28d5ec4a"
>>>>>>> 8d31783db698437b09448df3e24b6b6699ee0f70
            }
          },
          "metadata": {}
        },
        {
          "output_type": "stream",
          "name": "stderr",
          "text": [
            ""
          ]
        },
        {
          "output_type": "display_data",
          "data": {
            "text/plain": [
              "  0%|          | 0/136 [00:00<?, ?it/s]"
            ],
            "application/vnd.jupyter.widget-view+json": {
              "version_major": 2,
              "version_minor": 0,
<<<<<<< HEAD
<<<<<<< HEAD
              "model_id": "a8b161e9d6214c22af00d1f954c59e52"
=======
              "model_id": "0c9c597289034d818f93f8ba4885f5be"
>>>>>>> 043a282815e330e79882eb927d74c15f11ae2ce2
=======
              "model_id": "0c9c597289034d818f93f8ba4885f5be"
>>>>>>> 8d31783db698437b09448df3e24b6b6699ee0f70
            }
          },
          "metadata": {}
        },
        {
          "output_type": "display_data",
          "data": {
            "text/plain": [
              "  0%|          | 0/136 [00:00<?, ?it/s]"
            ],
            "application/vnd.jupyter.widget-view+json": {
              "version_major": 2,
              "version_minor": 0,
<<<<<<< HEAD
<<<<<<< HEAD
              "model_id": "64c95ca4372441b28729d139421c1d73"
=======
              "model_id": "1fcf694b013242cf9ce0da5aea7565a1"
>>>>>>> 043a282815e330e79882eb927d74c15f11ae2ce2
=======
              "model_id": "1fcf694b013242cf9ce0da5aea7565a1"
>>>>>>> 8d31783db698437b09448df3e24b6b6699ee0f70
            }
          },
          "metadata": {}
        },
        {
          "output_type": "stream",
          "name": "stderr",
          "text": [
            ""
          ]
        }
      ]
    },
    {
      "cell_type": "code",
      "source": [
        "future_df = m.make_future_dataframe(df_train, \n",
        "                                    periods = df_test.shape[0], \n",
        "                                    n_historic_predictions=len(df_train))\n",
        "preds_df = m.predict(future_df)\n",
        "preds_df"
      ],
      "metadata": {
        "colab": {
          "base_uri": "https://localhost:8080/",
          "height": 661
        },
        "id": "bQ-cQIhVRT7r",
        "outputId": "90f230fd-0522-436f-fde2-83068d7fefb8"
      },
<<<<<<< HEAD
<<<<<<< HEAD
      "execution_count": 4,
=======
      "execution_count": null,
>>>>>>> 043a282815e330e79882eb927d74c15f11ae2ce2
=======
      "execution_count": null,
>>>>>>> 8d31783db698437b09448df3e24b6b6699ee0f70
      "outputs": [
        {
          "output_type": "execute_result",
          "data": {
            "text/plain": [
              "             ds         y     yhat1 residual1       ar1  \\\n",
              "0    2014-09-17  0.031977      None       NaN      None   \n",
              "1    2014-09-18  0.038074  0.032304  -0.00577  0.029656   \n",
              "2    2014-09-19  0.027994  0.037902  0.009908  0.035713   \n",
              "3    2014-09-20  0.040424  0.028728 -0.011696  0.025699   \n",
              "4    2014-09-21  0.028920  0.040599  0.011679  0.038048   \n",
              "...         ...       ...       ...       ...       ...   \n",
              "2473 2021-06-25  0.021519  0.022064  0.000545  0.019939   \n",
              "2474 2021-06-26  0.025035  0.022226 -0.002809  0.019266   \n",
              "2475 2021-06-27  0.026298  0.025085 -0.001213  0.022759   \n",
              "2476 2021-06-28  0.028597  0.026988 -0.001609  0.024014   \n",
              "2477 2021-06-29       NaN  0.028442       NaN  0.026298   \n",
              "\n",
              "     lagged_regressor_Gtrend1 lagged_regressor_TYX1 lagged_regressor_Volume1  \\\n",
              "0                        None                  None                     None   \n",
              "1                    0.002382              0.000287                      0.0   \n",
              "2                    0.002248              0.000287                      0.0   \n",
              "3                    0.002126               0.00028                      0.0   \n",
              "4                    0.002282               0.00028                      0.0   \n",
              "...                       ...                   ...                      ...   \n",
              "2473                  0.00227              0.000137                      0.0   \n",
              "2474                 0.002126              0.000146                      0.0   \n",
              "2475                 0.002126              0.000146                      0.0   \n",
              "2476                 0.002459              0.000146                      0.0   \n",
              "2477                  0.00227              0.000137                      0.0   \n",
              "\n",
              "         trend season_weekly  \n",
              "0         None          None  \n",
              "1     0.002078      0.000027  \n",
              "2     0.002078     -0.000299  \n",
              "3     0.002078      0.000671  \n",
              "4     0.002078      0.000037  \n",
              "...        ...           ...  \n",
              "2473  0.002143     -0.000299  \n",
              "2474  0.002143      0.000671  \n",
              "2475  0.002143      0.000037  \n",
              "2476  0.002143      0.000351  \n",
              "2477  0.002143     -0.000281  \n",
              "\n",
              "[2478 rows x 10 columns]"
            ],
            "text/html": [
              "\n",
              "  <div id=\"df-252e3767-bff7-4dfb-b2b7-030bc7487c57\">\n",
              "    <div class=\"colab-df-container\">\n",
              "      <div>\n",
              "<style scoped>\n",
              "    .dataframe tbody tr th:only-of-type {\n",
              "        vertical-align: middle;\n",
              "    }\n",
              "\n",
              "    .dataframe tbody tr th {\n",
              "        vertical-align: top;\n",
              "    }\n",
              "\n",
              "    .dataframe thead th {\n",
              "        text-align: right;\n",
              "    }\n",
              "</style>\n",
              "<table border=\"1\" class=\"dataframe\">\n",
              "  <thead>\n",
              "    <tr style=\"text-align: right;\">\n",
              "      <th></th>\n",
              "      <th>ds</th>\n",
              "      <th>y</th>\n",
              "      <th>yhat1</th>\n",
              "      <th>residual1</th>\n",
              "      <th>ar1</th>\n",
              "      <th>lagged_regressor_Gtrend1</th>\n",
              "      <th>lagged_regressor_TYX1</th>\n",
              "      <th>lagged_regressor_Volume1</th>\n",
              "      <th>trend</th>\n",
              "      <th>season_weekly</th>\n",
              "    </tr>\n",
              "  </thead>\n",
              "  <tbody>\n",
              "    <tr>\n",
              "      <th>0</th>\n",
              "      <td>2014-09-17</td>\n",
              "      <td>0.031977</td>\n",
              "      <td>None</td>\n",
              "      <td>NaN</td>\n",
              "      <td>None</td>\n",
              "      <td>None</td>\n",
              "      <td>None</td>\n",
              "      <td>None</td>\n",
              "      <td>None</td>\n",
              "      <td>None</td>\n",
              "    </tr>\n",
              "    <tr>\n",
              "      <th>1</th>\n",
              "      <td>2014-09-18</td>\n",
              "      <td>0.038074</td>\n",
              "      <td>0.032304</td>\n",
              "      <td>-0.00577</td>\n",
              "      <td>0.029656</td>\n",
              "      <td>0.002382</td>\n",
              "      <td>0.000287</td>\n",
              "      <td>0.0</td>\n",
              "      <td>0.002078</td>\n",
              "      <td>0.000027</td>\n",
              "    </tr>\n",
              "    <tr>\n",
              "      <th>2</th>\n",
              "      <td>2014-09-19</td>\n",
              "      <td>0.027994</td>\n",
              "      <td>0.037902</td>\n",
              "      <td>0.009908</td>\n",
              "      <td>0.035713</td>\n",
              "      <td>0.002248</td>\n",
              "      <td>0.000287</td>\n",
              "      <td>0.0</td>\n",
              "      <td>0.002078</td>\n",
              "      <td>-0.000299</td>\n",
              "    </tr>\n",
              "    <tr>\n",
              "      <th>3</th>\n",
              "      <td>2014-09-20</td>\n",
              "      <td>0.040424</td>\n",
              "      <td>0.028728</td>\n",
              "      <td>-0.011696</td>\n",
              "      <td>0.025699</td>\n",
              "      <td>0.002126</td>\n",
              "      <td>0.00028</td>\n",
              "      <td>0.0</td>\n",
              "      <td>0.002078</td>\n",
              "      <td>0.000671</td>\n",
              "    </tr>\n",
              "    <tr>\n",
              "      <th>4</th>\n",
              "      <td>2014-09-21</td>\n",
              "      <td>0.028920</td>\n",
              "      <td>0.040599</td>\n",
              "      <td>0.011679</td>\n",
              "      <td>0.038048</td>\n",
              "      <td>0.002282</td>\n",
              "      <td>0.00028</td>\n",
              "      <td>0.0</td>\n",
              "      <td>0.002078</td>\n",
              "      <td>0.000037</td>\n",
              "    </tr>\n",
              "    <tr>\n",
              "      <th>...</th>\n",
              "      <td>...</td>\n",
              "      <td>...</td>\n",
              "      <td>...</td>\n",
              "      <td>...</td>\n",
              "      <td>...</td>\n",
              "      <td>...</td>\n",
              "      <td>...</td>\n",
              "      <td>...</td>\n",
              "      <td>...</td>\n",
              "      <td>...</td>\n",
              "    </tr>\n",
              "    <tr>\n",
              "      <th>2473</th>\n",
              "      <td>2021-06-25</td>\n",
              "      <td>0.021519</td>\n",
              "      <td>0.022064</td>\n",
              "      <td>0.000545</td>\n",
              "      <td>0.019939</td>\n",
              "      <td>0.00227</td>\n",
              "      <td>0.000137</td>\n",
              "      <td>0.0</td>\n",
              "      <td>0.002143</td>\n",
              "      <td>-0.000299</td>\n",
              "    </tr>\n",
              "    <tr>\n",
              "      <th>2474</th>\n",
              "      <td>2021-06-26</td>\n",
              "      <td>0.025035</td>\n",
              "      <td>0.022226</td>\n",
              "      <td>-0.002809</td>\n",
              "      <td>0.019266</td>\n",
              "      <td>0.002126</td>\n",
              "      <td>0.000146</td>\n",
              "      <td>0.0</td>\n",
              "      <td>0.002143</td>\n",
              "      <td>0.000671</td>\n",
              "    </tr>\n",
              "    <tr>\n",
              "      <th>2475</th>\n",
              "      <td>2021-06-27</td>\n",
              "      <td>0.026298</td>\n",
              "      <td>0.025085</td>\n",
              "      <td>-0.001213</td>\n",
              "      <td>0.022759</td>\n",
              "      <td>0.002126</td>\n",
              "      <td>0.000146</td>\n",
              "      <td>0.0</td>\n",
              "      <td>0.002143</td>\n",
              "      <td>0.000037</td>\n",
              "    </tr>\n",
              "    <tr>\n",
              "      <th>2476</th>\n",
              "      <td>2021-06-28</td>\n",
              "      <td>0.028597</td>\n",
              "      <td>0.026988</td>\n",
              "      <td>-0.001609</td>\n",
              "      <td>0.024014</td>\n",
              "      <td>0.002459</td>\n",
              "      <td>0.000146</td>\n",
              "      <td>0.0</td>\n",
              "      <td>0.002143</td>\n",
              "      <td>0.000351</td>\n",
              "    </tr>\n",
              "    <tr>\n",
              "      <th>2477</th>\n",
              "      <td>2021-06-29</td>\n",
              "      <td>NaN</td>\n",
              "      <td>0.028442</td>\n",
              "      <td>NaN</td>\n",
              "      <td>0.026298</td>\n",
              "      <td>0.00227</td>\n",
              "      <td>0.000137</td>\n",
              "      <td>0.0</td>\n",
              "      <td>0.002143</td>\n",
              "      <td>-0.000281</td>\n",
              "    </tr>\n",
              "  </tbody>\n",
              "</table>\n",
              "<p>2478 rows × 10 columns</p>\n",
              "</div>\n",
              "      <button class=\"colab-df-convert\" onclick=\"convertToInteractive('df-252e3767-bff7-4dfb-b2b7-030bc7487c57')\"\n",
              "              title=\"Convert this dataframe to an interactive table.\"\n",
              "              style=\"display:none;\">\n",
              "        \n",
              "  <svg xmlns=\"http://www.w3.org/2000/svg\" height=\"24px\"viewBox=\"0 0 24 24\"\n",
              "       width=\"24px\">\n",
              "    <path d=\"M0 0h24v24H0V0z\" fill=\"none\"/>\n",
              "    <path d=\"M18.56 5.44l.94 2.06.94-2.06 2.06-.94-2.06-.94-.94-2.06-.94 2.06-2.06.94zm-11 1L8.5 8.5l.94-2.06 2.06-.94-2.06-.94L8.5 2.5l-.94 2.06-2.06.94zm10 10l.94 2.06.94-2.06 2.06-.94-2.06-.94-.94-2.06-.94 2.06-2.06.94z\"/><path d=\"M17.41 7.96l-1.37-1.37c-.4-.4-.92-.59-1.43-.59-.52 0-1.04.2-1.43.59L10.3 9.45l-7.72 7.72c-.78.78-.78 2.05 0 2.83L4 21.41c.39.39.9.59 1.41.59.51 0 1.02-.2 1.41-.59l7.78-7.78 2.81-2.81c.8-.78.8-2.07 0-2.86zM5.41 20L4 18.59l7.72-7.72 1.47 1.35L5.41 20z\"/>\n",
              "  </svg>\n",
              "      </button>\n",
              "      \n",
              "  <style>\n",
              "    .colab-df-container {\n",
              "      display:flex;\n",
              "      flex-wrap:wrap;\n",
              "      gap: 12px;\n",
              "    }\n",
              "\n",
              "    .colab-df-convert {\n",
              "      background-color: #E8F0FE;\n",
              "      border: none;\n",
              "      border-radius: 50%;\n",
              "      cursor: pointer;\n",
              "      display: none;\n",
              "      fill: #1967D2;\n",
              "      height: 32px;\n",
              "      padding: 0 0 0 0;\n",
              "      width: 32px;\n",
              "    }\n",
              "\n",
              "    .colab-df-convert:hover {\n",
              "      background-color: #E2EBFA;\n",
              "      box-shadow: 0px 1px 2px rgba(60, 64, 67, 0.3), 0px 1px 3px 1px rgba(60, 64, 67, 0.15);\n",
              "      fill: #174EA6;\n",
              "    }\n",
              "\n",
              "    [theme=dark] .colab-df-convert {\n",
              "      background-color: #3B4455;\n",
              "      fill: #D2E3FC;\n",
              "    }\n",
              "\n",
              "    [theme=dark] .colab-df-convert:hover {\n",
              "      background-color: #434B5C;\n",
              "      box-shadow: 0px 1px 3px 1px rgba(0, 0, 0, 0.15);\n",
              "      filter: drop-shadow(0px 1px 2px rgba(0, 0, 0, 0.3));\n",
              "      fill: #FFFFFF;\n",
              "    }\n",
              "  </style>\n",
              "\n",
              "      <script>\n",
              "        const buttonEl =\n",
              "          document.querySelector('#df-252e3767-bff7-4dfb-b2b7-030bc7487c57 button.colab-df-convert');\n",
              "        buttonEl.style.display =\n",
              "          google.colab.kernel.accessAllowed ? 'block' : 'none';\n",
              "\n",
              "        async function convertToInteractive(key) {\n",
              "          const element = document.querySelector('#df-252e3767-bff7-4dfb-b2b7-030bc7487c57');\n",
              "          const dataTable =\n",
              "            await google.colab.kernel.invokeFunction('convertToInteractive',\n",
              "                                                     [key], {});\n",
              "          if (!dataTable) return;\n",
              "\n",
              "          const docLinkHtml = 'Like what you see? Visit the ' +\n",
              "            '<a target=\"_blank\" href=https://colab.research.google.com/notebooks/data_table.ipynb>data table notebook</a>'\n",
              "            + ' to learn more about interactive tables.';\n",
              "          element.innerHTML = '';\n",
              "          dataTable['output_type'] = 'display_data';\n",
              "          await google.colab.output.renderOutput(dataTable, element);\n",
              "          const docLink = document.createElement('div');\n",
              "          docLink.innerHTML = docLinkHtml;\n",
              "          element.appendChild(docLink);\n",
              "        }\n",
              "      </script>\n",
              "    </div>\n",
              "  </div>\n",
              "  "
            ]
          },
          "metadata": {},
          "execution_count": 4
        }
      ]
<<<<<<< HEAD
<<<<<<< HEAD
=======
=======
>>>>>>> 8d31783db698437b09448df3e24b6b6699ee0f70
    },
    {
      "cell_type": "markdown",
      "source": [
        "### Load the Model"
      ],
      "metadata": {
        "id": "s4wWce3J2gqk"
      }
    },
    {
      "cell_type": "code",
      "source": [
        "with open('BTC_NeuralProphet.pkl', 'rb') as f:\n",
        "    m = pickle.load(f)"
      ],
      "metadata": {
        "id": "agUR7H54TG6W"
      },
      "execution_count": null,
      "outputs": []
    },
    {
      "cell_type": "markdown",
      "source": [
        "### Make a Prediction"
      ],
      "metadata": {
        "id": "pP-b6rbF2ka0"
      }
    },
    {
      "cell_type": "code",
      "source": [
        "future = m.make_future_dataframe(dsets['BTC-USD'].iloc[-2:, :])\n",
        "m.predict(future)"
      ],
      "metadata": {
        "colab": {
          "base_uri": "https://localhost:8080/",
          "height": 211
        },
        "id": "oWzg4zKiUMEW",
        "outputId": "63986ce8-3857-4ada-efff-21b9fdaed03e"
      },
      "execution_count": null,
      "outputs": [
        {
          "output_type": "execute_result",
          "data": {
            "text/plain": [
              "          ds             y         yhat1 residual1           ar1  \\\n",
              "0 2022-06-28  20280.634766          None       NaN          None   \n",
              "1 2022-06-29           NaN  20172.841797       NaN  20045.232422   \n",
              "\n",
              "  lagged_regressor_Gtrend1 lagged_regressor_TYX1 lagged_regressor_Volume1  \\\n",
              "0                     None                  None                     None   \n",
              "1                82.835831           -180.054962                28.076052   \n",
              "\n",
              "        trend season_weekly  \n",
              "0        None          None  \n",
              "1  333.394409     41.460178  "
            ],
            "text/html": [
              "\n",
              "  <div id=\"df-fbe410f8-9ad2-4a69-87a8-c1e450a2c11c\">\n",
              "    <div class=\"colab-df-container\">\n",
              "      <div>\n",
              "<style scoped>\n",
              "    .dataframe tbody tr th:only-of-type {\n",
              "        vertical-align: middle;\n",
              "    }\n",
              "\n",
              "    .dataframe tbody tr th {\n",
              "        vertical-align: top;\n",
              "    }\n",
              "\n",
              "    .dataframe thead th {\n",
              "        text-align: right;\n",
              "    }\n",
              "</style>\n",
              "<table border=\"1\" class=\"dataframe\">\n",
              "  <thead>\n",
              "    <tr style=\"text-align: right;\">\n",
              "      <th></th>\n",
              "      <th>ds</th>\n",
              "      <th>y</th>\n",
              "      <th>yhat1</th>\n",
              "      <th>residual1</th>\n",
              "      <th>ar1</th>\n",
              "      <th>lagged_regressor_Gtrend1</th>\n",
              "      <th>lagged_regressor_TYX1</th>\n",
              "      <th>lagged_regressor_Volume1</th>\n",
              "      <th>trend</th>\n",
              "      <th>season_weekly</th>\n",
              "    </tr>\n",
              "  </thead>\n",
              "  <tbody>\n",
              "    <tr>\n",
              "      <th>0</th>\n",
              "      <td>2022-06-28</td>\n",
              "      <td>20280.634766</td>\n",
              "      <td>None</td>\n",
              "      <td>NaN</td>\n",
              "      <td>None</td>\n",
              "      <td>None</td>\n",
              "      <td>None</td>\n",
              "      <td>None</td>\n",
              "      <td>None</td>\n",
              "      <td>None</td>\n",
              "    </tr>\n",
              "    <tr>\n",
              "      <th>1</th>\n",
              "      <td>2022-06-29</td>\n",
              "      <td>NaN</td>\n",
              "      <td>20172.841797</td>\n",
              "      <td>NaN</td>\n",
              "      <td>20045.232422</td>\n",
              "      <td>82.835831</td>\n",
              "      <td>-180.054962</td>\n",
              "      <td>28.076052</td>\n",
              "      <td>333.394409</td>\n",
              "      <td>41.460178</td>\n",
              "    </tr>\n",
              "  </tbody>\n",
              "</table>\n",
              "</div>\n",
              "      <button class=\"colab-df-convert\" onclick=\"convertToInteractive('df-fbe410f8-9ad2-4a69-87a8-c1e450a2c11c')\"\n",
              "              title=\"Convert this dataframe to an interactive table.\"\n",
              "              style=\"display:none;\">\n",
              "        \n",
              "  <svg xmlns=\"http://www.w3.org/2000/svg\" height=\"24px\"viewBox=\"0 0 24 24\"\n",
              "       width=\"24px\">\n",
              "    <path d=\"M0 0h24v24H0V0z\" fill=\"none\"/>\n",
              "    <path d=\"M18.56 5.44l.94 2.06.94-2.06 2.06-.94-2.06-.94-.94-2.06-.94 2.06-2.06.94zm-11 1L8.5 8.5l.94-2.06 2.06-.94-2.06-.94L8.5 2.5l-.94 2.06-2.06.94zm10 10l.94 2.06.94-2.06 2.06-.94-2.06-.94-.94-2.06-.94 2.06-2.06.94z\"/><path d=\"M17.41 7.96l-1.37-1.37c-.4-.4-.92-.59-1.43-.59-.52 0-1.04.2-1.43.59L10.3 9.45l-7.72 7.72c-.78.78-.78 2.05 0 2.83L4 21.41c.39.39.9.59 1.41.59.51 0 1.02-.2 1.41-.59l7.78-7.78 2.81-2.81c.8-.78.8-2.07 0-2.86zM5.41 20L4 18.59l7.72-7.72 1.47 1.35L5.41 20z\"/>\n",
              "  </svg>\n",
              "      </button>\n",
              "      \n",
              "  <style>\n",
              "    .colab-df-container {\n",
              "      display:flex;\n",
              "      flex-wrap:wrap;\n",
              "      gap: 12px;\n",
              "    }\n",
              "\n",
              "    .colab-df-convert {\n",
              "      background-color: #E8F0FE;\n",
              "      border: none;\n",
              "      border-radius: 50%;\n",
              "      cursor: pointer;\n",
              "      display: none;\n",
              "      fill: #1967D2;\n",
              "      height: 32px;\n",
              "      padding: 0 0 0 0;\n",
              "      width: 32px;\n",
              "    }\n",
              "\n",
              "    .colab-df-convert:hover {\n",
              "      background-color: #E2EBFA;\n",
              "      box-shadow: 0px 1px 2px rgba(60, 64, 67, 0.3), 0px 1px 3px 1px rgba(60, 64, 67, 0.15);\n",
              "      fill: #174EA6;\n",
              "    }\n",
              "\n",
              "    [theme=dark] .colab-df-convert {\n",
              "      background-color: #3B4455;\n",
              "      fill: #D2E3FC;\n",
              "    }\n",
              "\n",
              "    [theme=dark] .colab-df-convert:hover {\n",
              "      background-color: #434B5C;\n",
              "      box-shadow: 0px 1px 3px 1px rgba(0, 0, 0, 0.15);\n",
              "      filter: drop-shadow(0px 1px 2px rgba(0, 0, 0, 0.3));\n",
              "      fill: #FFFFFF;\n",
              "    }\n",
              "  </style>\n",
              "\n",
              "      <script>\n",
              "        const buttonEl =\n",
              "          document.querySelector('#df-fbe410f8-9ad2-4a69-87a8-c1e450a2c11c button.colab-df-convert');\n",
              "        buttonEl.style.display =\n",
              "          google.colab.kernel.accessAllowed ? 'block' : 'none';\n",
              "\n",
              "        async function convertToInteractive(key) {\n",
              "          const element = document.querySelector('#df-fbe410f8-9ad2-4a69-87a8-c1e450a2c11c');\n",
              "          const dataTable =\n",
              "            await google.colab.kernel.invokeFunction('convertToInteractive',\n",
              "                                                     [key], {});\n",
              "          if (!dataTable) return;\n",
              "\n",
              "          const docLinkHtml = 'Like what you see? Visit the ' +\n",
              "            '<a target=\"_blank\" href=https://colab.research.google.com/notebooks/data_table.ipynb>data table notebook</a>'\n",
              "            + ' to learn more about interactive tables.';\n",
              "          element.innerHTML = '';\n",
              "          dataTable['output_type'] = 'display_data';\n",
              "          await google.colab.output.renderOutput(dataTable, element);\n",
              "          const docLink = document.createElement('div');\n",
              "          docLink.innerHTML = docLinkHtml;\n",
              "          element.appendChild(docLink);\n",
              "        }\n",
              "      </script>\n",
              "    </div>\n",
              "  </div>\n",
              "  "
            ]
          },
          "metadata": {},
          "execution_count": 12
        }
      ]
    },
    {
      "cell_type": "code",
      "source": [
        "dsets['BTC-USD']"
      ],
      "metadata": {
        "colab": {
          "base_uri": "https://localhost:8080/",
          "height": 424
        },
        "id": "QWGbaKVZ2VP8",
        "outputId": "50a2edb4-e119-4ecd-982a-26d311fa978b"
      },
      "execution_count": null,
      "outputs": [
        {
          "output_type": "execute_result",
          "data": {
            "text/plain": [
              "             ds             y  Gtrend    TYX       Volume\n",
              "0    2014-09-17    457.334015  47.000  3.364     21056800\n",
              "1    2014-09-18    424.440002  47.000  3.359     34483200\n",
              "2    2014-09-19    394.795990  53.000  3.299     37919700\n",
              "3    2014-09-20    408.903992  46.000  3.299     36863600\n",
              "4    2014-09-21    398.821014  48.000  3.299     26580100\n",
              "...         ...           ...     ...    ...          ...\n",
              "2844 2022-06-24  21231.656250  47.000  3.257  24957784918\n",
              "2845 2022-06-25  21502.337891  41.000  3.257  18372538715\n",
              "2846 2022-06-26  21027.294922  40.000  3.257  18027170497\n",
              "2847 2022-06-27  20735.478516  85.625  3.305  20965695707\n",
              "2848 2022-06-28  20280.634766  82.000  3.310  21381535161\n",
              "\n",
              "[2842 rows x 5 columns]"
            ],
            "text/html": [
              "\n",
              "  <div id=\"df-83b24d8d-6abc-4418-801b-b8d666ca1c4c\">\n",
              "    <div class=\"colab-df-container\">\n",
              "      <div>\n",
              "<style scoped>\n",
              "    .dataframe tbody tr th:only-of-type {\n",
              "        vertical-align: middle;\n",
              "    }\n",
              "\n",
              "    .dataframe tbody tr th {\n",
              "        vertical-align: top;\n",
              "    }\n",
              "\n",
              "    .dataframe thead th {\n",
              "        text-align: right;\n",
              "    }\n",
              "</style>\n",
              "<table border=\"1\" class=\"dataframe\">\n",
              "  <thead>\n",
              "    <tr style=\"text-align: right;\">\n",
              "      <th></th>\n",
              "      <th>ds</th>\n",
              "      <th>y</th>\n",
              "      <th>Gtrend</th>\n",
              "      <th>TYX</th>\n",
              "      <th>Volume</th>\n",
              "    </tr>\n",
              "  </thead>\n",
              "  <tbody>\n",
              "    <tr>\n",
              "      <th>0</th>\n",
              "      <td>2014-09-17</td>\n",
              "      <td>457.334015</td>\n",
              "      <td>47.000</td>\n",
              "      <td>3.364</td>\n",
              "      <td>21056800</td>\n",
              "    </tr>\n",
              "    <tr>\n",
              "      <th>1</th>\n",
              "      <td>2014-09-18</td>\n",
              "      <td>424.440002</td>\n",
              "      <td>47.000</td>\n",
              "      <td>3.359</td>\n",
              "      <td>34483200</td>\n",
              "    </tr>\n",
              "    <tr>\n",
              "      <th>2</th>\n",
              "      <td>2014-09-19</td>\n",
              "      <td>394.795990</td>\n",
              "      <td>53.000</td>\n",
              "      <td>3.299</td>\n",
              "      <td>37919700</td>\n",
              "    </tr>\n",
              "    <tr>\n",
              "      <th>3</th>\n",
              "      <td>2014-09-20</td>\n",
              "      <td>408.903992</td>\n",
              "      <td>46.000</td>\n",
              "      <td>3.299</td>\n",
              "      <td>36863600</td>\n",
              "    </tr>\n",
              "    <tr>\n",
              "      <th>4</th>\n",
              "      <td>2014-09-21</td>\n",
              "      <td>398.821014</td>\n",
              "      <td>48.000</td>\n",
              "      <td>3.299</td>\n",
              "      <td>26580100</td>\n",
              "    </tr>\n",
              "    <tr>\n",
              "      <th>...</th>\n",
              "      <td>...</td>\n",
              "      <td>...</td>\n",
              "      <td>...</td>\n",
              "      <td>...</td>\n",
              "      <td>...</td>\n",
              "    </tr>\n",
              "    <tr>\n",
              "      <th>2844</th>\n",
              "      <td>2022-06-24</td>\n",
              "      <td>21231.656250</td>\n",
              "      <td>47.000</td>\n",
              "      <td>3.257</td>\n",
              "      <td>24957784918</td>\n",
              "    </tr>\n",
              "    <tr>\n",
              "      <th>2845</th>\n",
              "      <td>2022-06-25</td>\n",
              "      <td>21502.337891</td>\n",
              "      <td>41.000</td>\n",
              "      <td>3.257</td>\n",
              "      <td>18372538715</td>\n",
              "    </tr>\n",
              "    <tr>\n",
              "      <th>2846</th>\n",
              "      <td>2022-06-26</td>\n",
              "      <td>21027.294922</td>\n",
              "      <td>40.000</td>\n",
              "      <td>3.257</td>\n",
              "      <td>18027170497</td>\n",
              "    </tr>\n",
              "    <tr>\n",
              "      <th>2847</th>\n",
              "      <td>2022-06-27</td>\n",
              "      <td>20735.478516</td>\n",
              "      <td>85.625</td>\n",
              "      <td>3.305</td>\n",
              "      <td>20965695707</td>\n",
              "    </tr>\n",
              "    <tr>\n",
              "      <th>2848</th>\n",
              "      <td>2022-06-28</td>\n",
              "      <td>20280.634766</td>\n",
              "      <td>82.000</td>\n",
              "      <td>3.310</td>\n",
              "      <td>21381535161</td>\n",
              "    </tr>\n",
              "  </tbody>\n",
              "</table>\n",
              "<p>2842 rows × 5 columns</p>\n",
              "</div>\n",
              "      <button class=\"colab-df-convert\" onclick=\"convertToInteractive('df-83b24d8d-6abc-4418-801b-b8d666ca1c4c')\"\n",
              "              title=\"Convert this dataframe to an interactive table.\"\n",
              "              style=\"display:none;\">\n",
              "        \n",
              "  <svg xmlns=\"http://www.w3.org/2000/svg\" height=\"24px\"viewBox=\"0 0 24 24\"\n",
              "       width=\"24px\">\n",
              "    <path d=\"M0 0h24v24H0V0z\" fill=\"none\"/>\n",
              "    <path d=\"M18.56 5.44l.94 2.06.94-2.06 2.06-.94-2.06-.94-.94-2.06-.94 2.06-2.06.94zm-11 1L8.5 8.5l.94-2.06 2.06-.94-2.06-.94L8.5 2.5l-.94 2.06-2.06.94zm10 10l.94 2.06.94-2.06 2.06-.94-2.06-.94-.94-2.06-.94 2.06-2.06.94z\"/><path d=\"M17.41 7.96l-1.37-1.37c-.4-.4-.92-.59-1.43-.59-.52 0-1.04.2-1.43.59L10.3 9.45l-7.72 7.72c-.78.78-.78 2.05 0 2.83L4 21.41c.39.39.9.59 1.41.59.51 0 1.02-.2 1.41-.59l7.78-7.78 2.81-2.81c.8-.78.8-2.07 0-2.86zM5.41 20L4 18.59l7.72-7.72 1.47 1.35L5.41 20z\"/>\n",
              "  </svg>\n",
              "      </button>\n",
              "      \n",
              "  <style>\n",
              "    .colab-df-container {\n",
              "      display:flex;\n",
              "      flex-wrap:wrap;\n",
              "      gap: 12px;\n",
              "    }\n",
              "\n",
              "    .colab-df-convert {\n",
              "      background-color: #E8F0FE;\n",
              "      border: none;\n",
              "      border-radius: 50%;\n",
              "      cursor: pointer;\n",
              "      display: none;\n",
              "      fill: #1967D2;\n",
              "      height: 32px;\n",
              "      padding: 0 0 0 0;\n",
              "      width: 32px;\n",
              "    }\n",
              "\n",
              "    .colab-df-convert:hover {\n",
              "      background-color: #E2EBFA;\n",
              "      box-shadow: 0px 1px 2px rgba(60, 64, 67, 0.3), 0px 1px 3px 1px rgba(60, 64, 67, 0.15);\n",
              "      fill: #174EA6;\n",
              "    }\n",
              "\n",
              "    [theme=dark] .colab-df-convert {\n",
              "      background-color: #3B4455;\n",
              "      fill: #D2E3FC;\n",
              "    }\n",
              "\n",
              "    [theme=dark] .colab-df-convert:hover {\n",
              "      background-color: #434B5C;\n",
              "      box-shadow: 0px 1px 3px 1px rgba(0, 0, 0, 0.15);\n",
              "      filter: drop-shadow(0px 1px 2px rgba(0, 0, 0, 0.3));\n",
              "      fill: #FFFFFF;\n",
              "    }\n",
              "  </style>\n",
              "\n",
              "      <script>\n",
              "        const buttonEl =\n",
              "          document.querySelector('#df-83b24d8d-6abc-4418-801b-b8d666ca1c4c button.colab-df-convert');\n",
              "        buttonEl.style.display =\n",
              "          google.colab.kernel.accessAllowed ? 'block' : 'none';\n",
              "\n",
              "        async function convertToInteractive(key) {\n",
              "          const element = document.querySelector('#df-83b24d8d-6abc-4418-801b-b8d666ca1c4c');\n",
              "          const dataTable =\n",
              "            await google.colab.kernel.invokeFunction('convertToInteractive',\n",
              "                                                     [key], {});\n",
              "          if (!dataTable) return;\n",
              "\n",
              "          const docLinkHtml = 'Like what you see? Visit the ' +\n",
              "            '<a target=\"_blank\" href=https://colab.research.google.com/notebooks/data_table.ipynb>data table notebook</a>'\n",
              "            + ' to learn more about interactive tables.';\n",
              "          element.innerHTML = '';\n",
              "          dataTable['output_type'] = 'display_data';\n",
              "          await google.colab.output.renderOutput(dataTable, element);\n",
              "          const docLink = document.createElement('div');\n",
              "          docLink.innerHTML = docLinkHtml;\n",
              "          element.appendChild(docLink);\n",
              "        }\n",
              "      </script>\n",
              "    </div>\n",
              "  </div>\n",
              "  "
            ]
          },
          "metadata": {},
          "execution_count": 14
        }
      ]
    },
    {
      "cell_type": "code",
      "source": [
        ""
      ],
      "metadata": {
        "id": "ncKL02IS7oAB"
      },
      "execution_count": null,
      "outputs": []
<<<<<<< HEAD
>>>>>>> 043a282815e330e79882eb927d74c15f11ae2ce2
=======
>>>>>>> 8d31783db698437b09448df3e24b6b6699ee0f70
    }
  ]
}