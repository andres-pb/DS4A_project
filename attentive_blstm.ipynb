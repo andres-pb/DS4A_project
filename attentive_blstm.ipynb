{
 "cells": [
  {
   "cell_type": "code",
   "execution_count": 4,
   "metadata": {},
   "outputs": [],
   "source": [
    "import pandas as pd\n",
    "import numpy as np\n",
    "import datetime as dt\n",
    "import matplotlib.pyplot as plt\n",
    "from os import environ\n",
    "import tensorflow as tf\n",
    "from tensorflow import keras\n",
    "from dotenv import load_dotenv\n",
    "from app import yahoo_finance, CoinMarketCap, GoogleTrends, Alphavantage\n",
    "import joblib\n",
    "\n",
    "from keras.models import Sequential, Model\n",
    "from keras.layers import LSTM, Bidirectional\n",
    "from keras.layers import Dense, BatchNormalization, ReLU, MaxPooling2D\n",
    "from keras.layers import Activation, Masking \n",
    "from keras.layers import Dropout, PReLU\n",
    "from keras.layers import Conv1D, Input, SpatialDropout2D\n",
    "from keras.layers import MaxPooling1D, Reshape, ConvLSTM2D, Conv2D\n",
    "from keras.layers import Flatten, RepeatVector\n",
    "from keras.layers import TimeDistributed, Permute, Concatenate, Multiply, Lambda\n",
    "from keras.constraints import maxnorm\n",
    "from keras.optimizers import SGD, Nadam, Adam\n",
    "from tensorflow.keras.utils import plot_model\n",
    "from keras.callbacks import EarlyStopping\n",
    "import keras.backend as K\n",
    "from sklearn.preprocessing import MinMaxScaler, StandardScaler\n",
    "from sklearn.metrics import mean_squared_error\n",
    "from tensorflow.keras.models import Sequential, model_from_json\n",
    "\n",
    "import plotly.express as px"
   ]
  },
  {
   "cell_type": "code",
   "execution_count": 5,
   "metadata": {},
   "outputs": [],
   "source": [
    "def build_dset(n_coins: int, gtrends: bool = False):\n",
    "\n",
    "    # Get top 10 coins by mktcap\n",
    "    load_dotenv()\n",
    "    mktcap_key = environ.get('COIN_MKTCAP_KEY')\n",
    "    cmc = CoinMarketCap(mktcap_key)\n",
    "    coins_df = cmc.get_top_coins(n_coins)\n",
    "\n",
    "    # Daily US yield curve to account for interest rate (inflation) effect\n",
    "    yield_curve = ['^FVX', '^TNX', '^TYX']\n",
    "    ir_dfs = []\n",
    "    for ir in yield_curve:\n",
    "        min_date = coins_df['first_historical_data'].min()\n",
    "        status, ir_data = yahoo_finance.market_value(ir, hist=min_date, interval='1d')\n",
    "        ir_data.rename(columns={'Close': ir[1:]}, inplace=True)\n",
    "        ir_close =  ir_data[ir[1:]]\n",
    "        ir_dfs.append(ir_close)\n",
    "    us_treasury = pd.concat(ir_dfs, axis=1)\n",
    "\n",
    "    # Get daily market data for top 10 coins\n",
    "    data_dict = {}\n",
    "    for idx, coin in coins_df.iterrows():\n",
    "        coin_name = coin['name']\n",
    "        ticker = coin['symbol'] + '-USD'\n",
    "        start = coin['first_historical_data']\n",
    "\n",
    "        # Get daily market data from yahoo\n",
    "        status, data = yahoo_finance.market_value(ticker, hist=start, interval='1d')\n",
    "        print(coin_name, coin['days_history'])\n",
    "        print(data.shape)\n",
    "        # Add yield curve data\n",
    "        data = data.merge(us_treasury, how='left', left_index=True, right_index=True)\n",
    "        xcols = ['High', 'Low', 'Volume'] + [s[1:] for s in yield_curve]\n",
    "\n",
    "        if gtrends:\n",
    "            gt = GoogleTrends()\n",
    "            # Get daily google trend data\n",
    "            start_str = dt.datetime.strftime(start, r'%Y-%m-%d')\n",
    "            end_str = dt.datetime.strftime(dt.datetime.today(), r'%Y-%m-%d')\n",
    "            gtrend = gt.get_daily_trend_df([coin_name], start_date=start_str, end_date=end_str)\n",
    "            data = data.merge(gtrend, how='left', left_index=True, right_index=True)\n",
    "            data = data.rename(columns={coin_name: 'Google_Trend'})\n",
    "            xcols = ['High', 'Low', 'Volume'] + [s[1:] for s in yield_curve] + ['Google_Trend']\n",
    "\n",
    "        data = data.fillna(method='ffill')[xcols + ['Close']]\n",
    "        data_dict[coin_name] = data\n",
    "        \n",
    "    return data_dict"
   ]
  },
  {
   "cell_type": "code",
   "execution_count": 6,
   "metadata": {},
   "outputs": [
    {
     "name": "stdout",
     "output_type": "stream",
     "text": [
      "[*********************100%***********************]  1 of 1 completed\n",
      "[*********************100%***********************]  1 of 1 completed\n",
      "[*********************100%***********************]  1 of 1 completed\n",
      "[*********************100%***********************]  1 of 1 completed\n",
      "Bitcoin 3341\n",
      "(2836, 6)\n",
      "[*********************100%***********************]  1 of 1 completed\n",
      "Ethereum 2510\n",
      "(1687, 6)\n",
      "[*********************100%***********************]  1 of 1 completed\n",
      "Tether 2673\n",
      "(1687, 6)\n",
      "[*********************100%***********************]  1 of 1 completed\n",
      "XRP 3243\n",
      "(1687, 6)\n",
      "[*********************100%***********************]  1 of 1 completed\n",
      "Dogecoin 3110\n",
      "(1687, 6)\n",
      "[*********************100%***********************]  1 of 1 completed\n",
      "Litecoin 3341\n",
      "(2836, 6)\n",
      "[*********************100%***********************]  1 of 1 completed\n",
      "Stellar 2877\n",
      "(1687, 6)\n",
      "[*********************100%***********************]  1 of 1 completed\n",
      "Monero 2954\n",
      "(1687, 6)\n",
      "[*********************100%***********************]  1 of 1 completed\n",
      "Dash 3049\n",
      "(1687, 6)\n",
      "[*********************100%***********************]  1 of 1 completed\n",
      "NEM 2639\n",
      "(1687, 6)\n"
     ]
    }
   ],
   "source": [
    "dsets = build_dset(n_coins=10, gtrends=False)"
   ]
  },
  {
   "cell_type": "markdown",
   "metadata": {},
   "source": [
    "# Data Pre-processing"
   ]
  },
  {
   "cell_type": "markdown",
   "metadata": {},
   "source": [
    "## Feature Selection\n",
    "Since we find that some features are highly correlated to each other, we reduce the number of features to 3: the cryptocurrency daily close, traded volume, and the only one of the treasure bond yield maturities available (FVX, TNX, TYX). \n",
    "We decided to leave out the daily high and low price because they have a correlation of 0.99 with the daily close, which suggests that using the daily close as predictor int he autoregressive part of the model is enough and they would not add valuable information. \n",
    "As for the interest rate, we notice that the 5, 10 and 30 year maturities of US treasury bonds are also highly correlated. Different cryptocurrencies are affected by different maturities of the risk free rate. We noticed that, depending on the cryptocurrency, one of the maturities will exhibit a higher correlation with the price. This is why we stablish a simple feature selection rule to include only the most relevant bond yield."
   ]
  },
  {
   "cell_type": "code",
   "execution_count": 7,
   "metadata": {},
   "outputs": [
    {
     "data": {
      "text/html": [
       "<div>\n",
       "<style scoped>\n",
       "    .dataframe tbody tr th:only-of-type {\n",
       "        vertical-align: middle;\n",
       "    }\n",
       "\n",
       "    .dataframe tbody tr th {\n",
       "        vertical-align: top;\n",
       "    }\n",
       "\n",
       "    .dataframe thead th {\n",
       "        text-align: right;\n",
       "    }\n",
       "</style>\n",
       "<table border=\"1\" class=\"dataframe\">\n",
       "  <thead>\n",
       "    <tr style=\"text-align: right;\">\n",
       "      <th></th>\n",
       "      <th>High</th>\n",
       "      <th>Low</th>\n",
       "      <th>Volume</th>\n",
       "      <th>FVX</th>\n",
       "      <th>TNX</th>\n",
       "      <th>TYX</th>\n",
       "      <th>Close</th>\n",
       "    </tr>\n",
       "  </thead>\n",
       "  <tbody>\n",
       "    <tr>\n",
       "      <th>High</th>\n",
       "      <td>1.000000</td>\n",
       "      <td>0.999043</td>\n",
       "      <td>0.727761</td>\n",
       "      <td>-0.238843</td>\n",
       "      <td>-0.276585</td>\n",
       "      <td>-0.400688</td>\n",
       "      <td>0.999476</td>\n",
       "    </tr>\n",
       "    <tr>\n",
       "      <th>Low</th>\n",
       "      <td>0.999043</td>\n",
       "      <td>1.000000</td>\n",
       "      <td>0.715643</td>\n",
       "      <td>-0.236547</td>\n",
       "      <td>-0.276349</td>\n",
       "      <td>-0.402079</td>\n",
       "      <td>0.999390</td>\n",
       "    </tr>\n",
       "    <tr>\n",
       "      <th>Volume</th>\n",
       "      <td>0.727761</td>\n",
       "      <td>0.715643</td>\n",
       "      <td>1.000000</td>\n",
       "      <td>-0.430589</td>\n",
       "      <td>-0.491193</td>\n",
       "      <td>-0.585390</td>\n",
       "      <td>0.722598</td>\n",
       "    </tr>\n",
       "    <tr>\n",
       "      <th>FVX</th>\n",
       "      <td>-0.238843</td>\n",
       "      <td>-0.236547</td>\n",
       "      <td>-0.430589</td>\n",
       "      <td>1.000000</td>\n",
       "      <td>0.963248</td>\n",
       "      <td>0.846202</td>\n",
       "      <td>-0.239308</td>\n",
       "    </tr>\n",
       "    <tr>\n",
       "      <th>TNX</th>\n",
       "      <td>-0.276585</td>\n",
       "      <td>-0.276349</td>\n",
       "      <td>-0.491193</td>\n",
       "      <td>0.963248</td>\n",
       "      <td>1.000000</td>\n",
       "      <td>0.951731</td>\n",
       "      <td>-0.277752</td>\n",
       "    </tr>\n",
       "    <tr>\n",
       "      <th>TYX</th>\n",
       "      <td>-0.400688</td>\n",
       "      <td>-0.402079</td>\n",
       "      <td>-0.585390</td>\n",
       "      <td>0.846202</td>\n",
       "      <td>0.951731</td>\n",
       "      <td>1.000000</td>\n",
       "      <td>-0.402230</td>\n",
       "    </tr>\n",
       "    <tr>\n",
       "      <th>Close</th>\n",
       "      <td>0.999476</td>\n",
       "      <td>0.999390</td>\n",
       "      <td>0.722598</td>\n",
       "      <td>-0.239308</td>\n",
       "      <td>-0.277752</td>\n",
       "      <td>-0.402230</td>\n",
       "      <td>1.000000</td>\n",
       "    </tr>\n",
       "  </tbody>\n",
       "</table>\n",
       "</div>"
      ],
      "text/plain": [
       "            High       Low    Volume       FVX       TNX       TYX     Close\n",
       "High    1.000000  0.999043  0.727761 -0.238843 -0.276585 -0.400688  0.999476\n",
       "Low     0.999043  1.000000  0.715643 -0.236547 -0.276349 -0.402079  0.999390\n",
       "Volume  0.727761  0.715643  1.000000 -0.430589 -0.491193 -0.585390  0.722598\n",
       "FVX    -0.238843 -0.236547 -0.430589  1.000000  0.963248  0.846202 -0.239308\n",
       "TNX    -0.276585 -0.276349 -0.491193  0.963248  1.000000  0.951731 -0.277752\n",
       "TYX    -0.400688 -0.402079 -0.585390  0.846202  0.951731  1.000000 -0.402230\n",
       "Close   0.999476  0.999390  0.722598 -0.239308 -0.277752 -0.402230  1.000000"
      ]
     },
     "execution_count": 7,
     "metadata": {},
     "output_type": "execute_result"
    }
   ],
   "source": [
    "dsets['Bitcoin'].corr()"
   ]
  },
  {
   "cell_type": "code",
   "execution_count": 8,
   "metadata": {},
   "outputs": [],
   "source": [
    "def select_features(data_dict):\n",
    "    \"\"\"\n",
    "    Simple feature selection rule for each coin.\n",
    "    Keep the volume and select the US treasury bond maturity with the highest correlation to the target.\n",
    "    \"\"\"\n",
    "\n",
    "    for coin, dset in data_dict.items():\n",
    "        selected_features = ['Volume']\n",
    "        corr = dsets[coin].corr()\n",
    "        yield_curve = ['FVX', 'TNX', 'TYX']\n",
    "        corr_yield = np.abs(corr[yield_curve])\n",
    "        ir_index = corr_yield.loc['Close', :].argmax()\n",
    "        selected_features += [yield_curve[ir_index]]\n",
    "        data_dict[coin] = dset[selected_features + ['Close']]\n",
    "\n",
    "    return data_dict"
   ]
  },
  {
   "cell_type": "code",
   "execution_count": 9,
   "metadata": {},
   "outputs": [],
   "source": [
    "dsets = select_features(dsets)"
   ]
  },
  {
   "cell_type": "markdown",
   "metadata": {},
   "source": [
    "## Data Structure"
   ]
  },
  {
   "cell_type": "code",
   "execution_count": 10,
   "metadata": {},
   "outputs": [],
   "source": [
    "def series_to_supervised(df, n_in=1, n_out=1, target_idx=-1, \n",
    "                         dropnan=True, min_input=None):\n",
    "    \n",
    "    df = df.copy(deep=True)\n",
    "    n_in = int(n_in)\n",
    "    min_input = int(min_input)\n",
    "    target = df.columns[target_idx]\n",
    "    df[target + '_t'] = df[target]\n",
    "    n_vars = df.shape[1] - 1\n",
    "    \n",
    "    vars = list(df.columns)\n",
    "    vars.remove(target)\n",
    "    cols, names = list(), list()\n",
    "    # input sequences (t-n, ... t-1)\n",
    "    for i in range(n_in, 0, -1):\n",
    "      cols.append(df.iloc[:,:target_idx].shift(i))\n",
    "      names += [(var + '(t-%d)' % i) for var in vars]\n",
    "    # current features (t)\n",
    "    cols.append(df)\n",
    "    names += [(var + '(t)') for var in vars]\n",
    "    names += [target + '(t)']\n",
    "     # forecast sequence (t, t+1, ... t+n)\n",
    "    for i in range(1, n_out):\n",
    "      cols.append(df[target].shift(-i))    \n",
    "      names += [target + '(t+%d)' % i]\n",
    "    # put it all together\n",
    "    agg = pd.concat(cols, axis=1)\n",
    "    agg.columns = names\n",
    "    # drop rows with NaN values\n",
    "    if dropnan and min_input:\n",
    "      agg.dropna(inplace=True, thresh=n_vars*(min_input+1))\n",
    "    agg.drop(columns=[(var + '(t)') for var in vars], inplace=True)\n",
    "    return agg\n",
    "\n",
    "def prep_data(df, timesteps, test_days=365, scaler=None):\n",
    "\n",
    "    reframed = series_to_supervised(df, n_in=timesteps, min_input=timesteps)\n",
    "    seqs = reframed.values \n",
    "\n",
    "    if not scaler:\n",
    "        scaler = MinMaxScaler(feature_range=(0, 1))\n",
    "    scaled_seqs = scaler.fit_transform(seqs)\n",
    "\n",
    "    X = scaled_seqs[:,:-1].reshape((seqs.shape[0], \n",
    "                            timesteps, \n",
    "                            int(seqs.shape[1]/timesteps)\n",
    "                            ))\n",
    "    y = scaled_seqs[:, -1]\n",
    "\n",
    "    X_train, X_test = X[:-test_days, :, :], X[-test_days:, :, :]\n",
    "    y_train, y_test = y[:-test_days], y[-test_days:]\n",
    "\n",
    "    test_dates = df.iloc[-test_days:, :].index\n",
    "    \n",
    "    return X_train, y_train, X_test, y_test, scaler, test_dates"
   ]
  },
  {
   "cell_type": "code",
   "execution_count": 11,
   "metadata": {},
   "outputs": [],
   "source": [
    "timesteps = 60\n",
    "prep_dsets = {\n",
    "    coin: prep_data(df, timesteps) for coin, df in dsets.items()\n",
    "}"
   ]
  },
  {
   "cell_type": "code",
   "execution_count": 12,
   "metadata": {},
   "outputs": [
    {
     "name": "stdout",
     "output_type": "stream",
     "text": [
      "(2411, 60, 3) (2411,) (365, 60, 3) (365,)\n"
     ]
    }
   ],
   "source": [
    "X_train, y_train, X_test, y_test, scaler, test_dates = prep_dsets['Bitcoin']\n",
    "print(X_train.shape, y_train.shape, X_test.shape, y_test.shape)"
   ]
  },
  {
   "cell_type": "markdown",
   "metadata": {},
   "source": [
    "## LSTM NN Architectures"
   ]
  },
  {
   "cell_type": "code",
   "execution_count": 13,
   "metadata": {},
   "outputs": [],
   "source": [
    "# Functions to define NN with different architectures\n",
    "\n",
    "def build_LSTM(in_shape, \n",
    "               num_rnns=1, \n",
    "               dim_rnn=128,\n",
    "               dense_units=100,\n",
    "               num_ysteps=1, \n",
    "               lr=1e-3,\n",
    "               decay=6e-8,\n",
    "               drop=False,\n",
    "               drop_rate=0.2,\n",
    "               masking=False,\n",
    "               mv=-np.inf,\n",
    "               model_name='LSTM'\n",
    "               ):\n",
    "  \n",
    "  \"\"\"Builds a classifier with LSTM layers with the given parameters\n",
    "\n",
    "     Parameters:\n",
    "     - in_shape: the constant shape of the input data X\n",
    "     - num_rnns: how many lstm layers to add\n",
    "     - dim_rnns: the number of units for each lstm layer\n",
    "     - dense_units: number of units for the dense layer that goes after lstms\n",
    "     - num_ysteps: how many time steps of the target to predict\n",
    "     - drop: would you like to use dropout layers to prevent overfitting?\n",
    "     - **masking: do not set this parameter to True because you cannot\n",
    "                  manipulate the data to use a masking value.\n",
    "     - extra Neural Network training parameters...\n",
    "\n",
    "     Returns a keras model for classification that has not yet been trained\"\"\"\n",
    "\n",
    "  # sequence input\n",
    "  in_seq = Input(shape=in_shape, name='sequential_input')\n",
    "  \n",
    "  if masking:\n",
    "    # tell rnns to ignore masked-padded timesteps\n",
    "    x = Masking(mask_value=mv)(in_seq)\n",
    "  else:\n",
    "    x = in_seq\n",
    "  \n",
    "  lstm_out = LSTM(dim_rnn, activation='relu',\n",
    "                  return_sequences=True)(x)\n",
    "  if drop:\n",
    "    lstm_out = Dropout(drop_rate)(lstm_out)\n",
    "  \n",
    "  rnn_layers = 1\n",
    "  while rnn_layers < num_rnns:\n",
    "    rnn_layers +=1\n",
    "    rs = not (rnn_layers == num_rnns)\n",
    "    lstm_out = LSTM(dim_rnn, activation='relu',\n",
    "                    return_sequences=rs)(lstm_out)\n",
    "  if drop:\n",
    "    lstm_out = Dropout(drop_rate)(lstm_out)\n",
    "\n",
    "  xx = Dense(dense_units, activation='relu')(lstm_out)\n",
    "  pred_out = Dense(num_ysteps, activation='relu')(xx)\n",
    "\n",
    "  # Define Model\n",
    "  lags = in_shape[0]\n",
    "  features = in_shape[1]\n",
    "  predictor = Model(in_seq, pred_out, name=model_name + '_' + str(lags) + '_lags_' + str(features) + '_fts')\n",
    "  # compile model\n",
    "  opt = Adam(lr=lr, decay=decay)\n",
    "  predictor.compile(loss='mse', \n",
    "                     optimizer=opt, metrics=['mse'])\n",
    "  predictor.summary()\n",
    "  \n",
    "  return predictor\n",
    "\n",
    "\n",
    "def build_BLSTM(in_shape, \n",
    "                num_rnns=1, \n",
    "                dim_rnn=128,\n",
    "                dense_units=100, \n",
    "                num_ysteps=1,\n",
    "                lr=1e-3, \n",
    "                decay=6e-8,\n",
    "                drop=False,\n",
    "                drop_rate=0.2,\n",
    "                masking=False,\n",
    "                mv=-np.inf,\n",
    "                model_name='Bidirectional_LSTM'\n",
    "                ):\n",
    "\n",
    "  \"\"\"Builds classifier with Bidirectional LSTM layers from the given parameters\n",
    "\n",
    "    Parameters:\n",
    "    - in_shape: the constant shape of the input data X\n",
    "    - num_rnns: how many lstm layers to add\n",
    "    - dim_rnns: the number of units for each lstm layer\n",
    "    - dense_units: number of units for the dense layer that goes after lstms\n",
    "    - num_ysteps: how many timesteps of the target to predict\n",
    "    - drop: would you like to use dropout layers to prevent overfitting?\n",
    "    - extra Neural Network training parameters...\n",
    "\n",
    "    Returns a keras model for classification that has not yet been trained\"\"\"\n",
    "\n",
    "  # sequence input\n",
    "  in_seq = Input(shape=in_shape, name='sequential_input')\n",
    "\n",
    "  if masking:\n",
    "    # tell rnns to ignore masked-padded timesteps\n",
    "    x = Masking(mask_value=mv)(in_seq)\n",
    "  else:\n",
    "    x = in_seq\n",
    "  lstm_out = Bidirectional(LSTM(dim_rnn, activation='relu',\n",
    "                                return_sequences=True))(x)\n",
    "  rnn_layers = 1\n",
    "  while rnn_layers < num_rnns:\n",
    "    rnn_layers +=1\n",
    "    rs = not (rnn_layers == num_rnns)\n",
    "    lstm_out = Bidirectional(LSTM(dim_rnn, activation='relu',\n",
    "                                  return_sequences=rs))(lstm_out)\n",
    "  if drop:\n",
    "    lstm_out = Dropout(drop_rate)(lstm_out)\n",
    "\n",
    "  xx = Dense(dense_units, activation='relu')(lstm_out)\n",
    "  pred_out = Dense(num_ysteps, activation='relu')(xx)\n",
    "\n",
    "  # Define Model\n",
    "  lags = in_shape[0]\n",
    "  features = in_shape[1]\n",
    "  predictor = Model(in_seq, pred_out, name=model_name + '_' + str(lags) + '_lags_' + str(features) + '_fts')\n",
    "  # compile model\n",
    "  opt = Adam(lr=lr, decay=decay)\n",
    "  predictor.compile(loss='mse', \n",
    "                     optimizer=opt, metrics=['mse'])\n",
    "  predictor.summary()\n",
    "\n",
    "  return predictor\n",
    "\n",
    "\n",
    "def build_AttentiveBLSTM(in_shape,    # (num_timesteps, num_features)\n",
    "                         num_rnns=1, \n",
    "                         dim_rnn=64, \n",
    "                         num_ysteps=1, \n",
    "                         lr=1e-3, \n",
    "                         decay=6e-8,\n",
    "                         drop=False,\n",
    "                         drop_rate=0.2,\n",
    "                         masking=False,\n",
    "                         mv=-np.inf,\n",
    "                         model_name='Attentive_BLSTM'\n",
    "                         ):\n",
    "  \n",
    "  \"\"\"Builds classifier with Bidirectional LSTM layers and Attention \n",
    "      implementation from the given parameters\n",
    "\n",
    "     Parameters:\n",
    "     - in_shape: Tuple (num_timesteps, num_features)\n",
    "                 the constant shape of each sample in the input data X\n",
    "     - num_rnns: how many lstm layers to add\n",
    "     - dim_rnns: the number of units for each lstm layer\n",
    "     - dense_units: number of units for the dense layer that goes after lstms\n",
    "     - num_ysteps: how many timesteps of the target to predict\n",
    "     - drop: would you like to use dropout layers to prevent overfitting?\n",
    "     - extra Neural Network training parameters...\n",
    "     Returns a keras model for classification that has not yet been trained\"\"\"\n",
    "  \n",
    "  # sequence input\n",
    "  in_seq = Input(shape=in_shape, name='sequential_input')\n",
    "  \n",
    "  if masking:\n",
    "    # tell rnns to ignore masked-padded timesteps\n",
    "    x = Masking(mask_value=mv)(in_seq)\n",
    "  else:\n",
    "    x = in_seq\n",
    "  lstm_out = Bidirectional(LSTM(dim_rnn, return_sequences=True,input_shape=in_shape))(x)\n",
    "  rnn_layers = 1\n",
    "  if drop:\n",
    "    lstm_out = Dropout(drop_rate)(lstm_out)\n",
    "  while rnn_layers < num_rnns:\n",
    "    rnn_layers +=1\n",
    "    lstm_out = Bidirectional(LSTM(dim_rnn, return_sequences=True))(lstm_out)   \n",
    "  if drop:\n",
    "    lstm_out = Dropout(drop_rate)(lstm_out)\n",
    "  # adding attention\n",
    "  e = Dense(1, activation='tanh')(lstm_out)\n",
    "  e = Flatten(data_format=None)(e)\n",
    "  a = Activation('softmax')(e)\n",
    "  temp = RepeatVector(2*dim_rnn)(a)\n",
    "  temp = Permute([2, 1])(temp)\n",
    "  # multiply weights with lstm output\n",
    "  att_out = Multiply()([lstm_out, temp])\n",
    "  # attention adjusted output state\n",
    "  att_out = Lambda(lambda values: K.sum(values, axis=1))(att_out)\n",
    "  pred_out = Dense(num_ysteps, activation='relu')(att_out)\n",
    "\n",
    "  # Define Model\n",
    "  lags = in_shape[0]\n",
    "  features = in_shape[1]\n",
    "  predictor = Model(in_seq, pred_out, name=model_name + '_' + str(lags) + '_lags_' + str(features) + '_fts')\n",
    "  # compile model\n",
    "  opt = Adam(lr=lr, decay=decay)\n",
    "  predictor.compile(loss='mse', \n",
    "                     optimizer=opt, metrics=['mse'])\n",
    "  predictor.summary()\n",
    "\n",
    "  return predictor"
   ]
  },
  {
   "cell_type": "markdown",
   "metadata": {},
   "source": [
    "# Training"
   ]
  },
  {
   "cell_type": "code",
   "execution_count": 43,
   "metadata": {},
   "outputs": [
    {
     "name": "stdout",
     "output_type": "stream",
     "text": [
      "Model: \"Bidirectional-LSTM\"\n",
      "_________________________________________________________________\n",
      " Layer (type)                Output Shape              Param #   \n",
      "=================================================================\n",
      " sequential_input (InputLaye  [(None, 60, 3)]          0         \n",
      " r)                                                              \n",
      "                                                                 \n",
      " bidirectional_7 (Bidirectio  (None, 60, 50)           5800      \n",
      " nal)                                                            \n",
      "                                                                 \n",
      " bidirectional_8 (Bidirectio  (None, 50)               15200     \n",
      " nal)                                                            \n",
      "                                                                 \n",
      " dense_10 (Dense)            (None, 100)               5100      \n",
      "                                                                 \n",
      " dense_11 (Dense)            (None, 1)                 101       \n",
      "                                                                 \n",
      "=================================================================\n",
      "Total params: 26,201\n",
      "Trainable params: 26,201\n",
      "Non-trainable params: 0\n",
      "_________________________________________________________________\n",
      "Epoch 1/10\n",
      "2410/2410 - 62s - loss: 0.1598 - mse: 0.1598 - val_loss: 0.0051 - val_mse: 0.0051 - 62s/epoch - 26ms/step\n",
      "Epoch 2/10\n",
      "2410/2410 - 58s - loss: 6.1294e-04 - mse: 6.1294e-04 - val_loss: 0.0023 - val_mse: 0.0023 - 58s/epoch - 24ms/step\n",
      "Epoch 3/10\n",
      "2410/2410 - 57s - loss: 6.6079e-04 - mse: 6.6079e-04 - val_loss: 0.0175 - val_mse: 0.0175 - 57s/epoch - 24ms/step\n",
      "Epoch 4/10\n",
      "2410/2410 - 56s - loss: 5.6973e-04 - mse: 5.6973e-04 - val_loss: 0.0020 - val_mse: 0.0020 - 56s/epoch - 23ms/step\n",
      "Epoch 5/10\n",
      "2410/2410 - 57s - loss: 4.8075e-04 - mse: 4.8075e-04 - val_loss: 0.0013 - val_mse: 0.0013 - 57s/epoch - 23ms/step\n",
      "Epoch 6/10\n",
      "2410/2410 - 57s - loss: 4.3657e-04 - mse: 4.3657e-04 - val_loss: 0.0017 - val_mse: 0.0017 - 57s/epoch - 24ms/step\n",
      "Epoch 7/10\n",
      "2410/2410 - 57s - loss: 5.4085e-04 - mse: 5.4085e-04 - val_loss: 8.8966e-04 - val_mse: 8.8966e-04 - 57s/epoch - 24ms/step\n",
      "Epoch 8/10\n",
      "2410/2410 - 55s - loss: 4.9546e-04 - mse: 4.9546e-04 - val_loss: 0.0064 - val_mse: 0.0064 - 55s/epoch - 23ms/step\n",
      "Epoch 9/10\n",
      "2410/2410 - 55s - loss: 4.1077e-04 - mse: 4.1077e-04 - val_loss: 9.8969e-04 - val_mse: 9.8969e-04 - 55s/epoch - 23ms/step\n",
      "Epoch 10/10\n",
      "2410/2410 - 56s - loss: 3.5020e-04 - mse: 3.5020e-04 - val_loss: 0.0010 - val_mse: 0.0010 - 56s/epoch - 23ms/step\n"
     ]
    },
    {
     "data": {
      "image/png": "[encoded data removed]",
      "text/plain": [
       "<Figure size 432x288 with 1 Axes>"
      ]
     },
     "metadata": {
      "needs_background": "light"
     },
     "output_type": "display_data"
    }
   ],
   "source": [
    "# Prepare the samples\n",
    "X_train, y_train, X_test, y_test, scaler, test_dates = prep_dsets['Bitcoin']\n",
    "\n",
    "# Build lstm model\n",
    "blstm_model = build_BLSTM(\n",
    "                        in_shape=(X_train.shape[1], X_train.shape[2]),\n",
    "                        num_rnns=2,\n",
    "                        dim_rnn=25,\n",
    "                        dense_units=50,\n",
    "                        drop=True\n",
    "                        )\n",
    "\n",
    "# This EarlyStopping callback stops training once it stops improving\n",
    "# so that you can set a high number of epochs and let it choose when to stop\n",
    "monitor = EarlyStopping(monitor='val_loss', \n",
    "                        min_delta=1e-3, \n",
    "                        patience=5, \n",
    "                        verbose=0, \n",
    "                        mode='auto', \n",
    "                        restore_best_weights=True)\n",
    "\n",
    "# Train the model\n",
    "history = blstm_model.fit(\n",
    "                        X_train, y_train, \n",
    "                        validation_data=(X_test, y_test),\n",
    "                        callbacks=[monitor],\n",
    "                        verbose=2, \n",
    "                        epochs=10,\n",
    "                        batch_size=1 #X_train.shape[0]\n",
    "                        )\n",
    "\n",
    "# visualize training\n",
    "plt.plot(history.history['mse'], label='train')\n",
    "plt.plot(history.history['val_mse'], label='test')\n",
    "plt.legend()\n",
    "plt.show()"
   ]
  },
  {
   "cell_type": "markdown",
   "metadata": {},
   "source": [
    "# Prediction and Validation"
   ]
  },
  {
   "cell_type": "code",
   "execution_count": 14,
   "metadata": {},
   "outputs": [],
   "source": [
    "def save_model(model, path=\"./models/\", coin_ticker='BTC'):\n",
    "    \n",
    "    # serialize model\n",
    "    model_json = model.to_json()\n",
    "    full_path = path + coin_ticker + '_' + model.name + '.json'\n",
    "    with open(full_path, \"w\") as json_file:\n",
    "        json_file.write(model_json)\n",
    "    # serialize weights\n",
    "    weights_path = full_path.replace('.json', '.h5')\n",
    "    model.save_weights(weights_path)\n",
    "\n",
    "\n",
    "def save_scaler(fitted_scaler, path=\"./models/\", coin_ticker='BTC'):\n",
    "    \n",
    "    full_path = path + coin_ticker + '_scaler.gz'\n",
    "    joblib.dump(fitted_scaler, full_path)\n",
    "\n",
    "\n",
    "def load_scaler(path=\"./models/\", coin_ticker='BTC'):\n",
    "    \n",
    "    full_path = path + coin_ticker + '_scaler.gz'\n",
    "    my_scaler = joblib.load(full_path)\n",
    "    return my_scaler\n",
    "\n",
    "\n",
    "def load_model(path=\"./models/\", coin_ticker='BTC', model_name='blstm'):\n",
    "    \n",
    "    # load json and create model\n",
    "    full_path = path + coin_ticker + '_' + model_name + '.json'\n",
    "    json_file = open(full_path, 'r')\n",
    "    loaded_model_json = json_file.read()\n",
    "    json_file.close()\n",
    "    loaded_model = model_from_json(loaded_model_json)\n",
    "    # load weights into new model\n",
    "    weights_path = full_path.replace('.json', '.h5')\n",
    "    loaded_model.load_weights(weights_path)\n",
    "\n",
    "    return loaded_model"
   ]
  },
  {
   "cell_type": "code",
   "execution_count": 17,
   "metadata": {},
   "outputs": [],
   "source": [
    "def get_test_df(model, x_test, y_test, scaler, test_dates):\n",
    "    \n",
    "    predicted = model.predict(x_test)\n",
    "    X_test_2d = X_test.reshape((X_test.shape[0], timesteps * X_test.shape[2]))\n",
    "    xpred_2d = np.append(X_test_2d, predicted, axis=1)\n",
    "    pred_y = scaler.inverse_transform(xpred_2d)[:, -1]\n",
    "    xtrue_2d = np.append(X_test_2d, y_test.reshape(predicted.shape), axis=1)\n",
    "    true_y = scaler.inverse_transform(xtrue_2d)[:, -1]\n",
    "\n",
    "    test_df = pd.DataFrame()\n",
    "    test_df['Observed'] = true_y\n",
    "    test_df['Predicted'] = pred_y\n",
    "    test_df.index = test_dates\n",
    "\n",
    "    return test_df\n",
    "\n",
    "\n",
    "def plot_model_test(test_df, px_theme='plotly_dark'):\n",
    "\n",
    "    fig = px.line(test_df, x=test_df.index, y=test_df.columns,\n",
    "              title=model.name,\n",
    "              template=px_theme\n",
    "              )\n",
    "    fig.update_yaxes(title_text = 'Close Price')\n",
    "    fig.update_layout(yaxis_tickformat = '$')\n",
    "    fig.update_traces(hovertemplate='%{y:$,.2f}')\n",
    "    fig.update_layout(hovermode=\"x unified\")\n",
    "\n",
    "    fig.update_xaxes(\n",
    "        title_text = 'Date',\n",
    "        rangeslider_visible = True\n",
    "        )\n",
    "    fig.show()"
   ]
  },
  {
   "cell_type": "code",
   "execution_count": 18,
   "metadata": {},
   "outputs": [
    {
     "name": "stdout",
     "output_type": "stream",
     "text": [
      "12/12 [==============================] - 1s 15ms/step\n"
     ]
    },
    {
     "data": {
      "application/vnd.plotly.v1+json": {
       "config": {
        "plotlyServerURL": "https://plot.ly"
       },
       "data": [
        {
         "hovertemplate": "%{y:$,.2f}",
         "legendgroup": "Observed",
         "line": {
          "color": "#636efa",
          "dash": "solid"
         },
         "marker": {
          "symbol": "circle"
         },
         "mode": "lines",
         "name": "Observed",
         "orientation": "v",
         "showlegend": true,
         "type": "scatter",
         "x": [
          "2021-06-23T00:00:00",
          "2021-06-24T00:00:00",
          "2021-06-25T00:00:00",
          "2021-06-26T00:00:00",
          "2021-06-27T00:00:00",
          "2021-06-28T00:00:00",
          "2021-06-29T00:00:00",
          "2021-06-30T00:00:00",
          "2021-07-01T00:00:00",
          "2021-07-02T00:00:00",
          "2021-07-03T00:00:00",
          "2021-07-04T00:00:00",
          "2021-07-05T00:00:00",
          "2021-07-06T00:00:00",
          "2021-07-07T00:00:00",
          "2021-07-08T00:00:00",
          "2021-07-09T00:00:00",
          "2021-07-10T00:00:00",
          "2021-07-11T00:00:00",
          "2021-07-12T00:00:00",
          "2021-07-13T00:00:00",
          "2021-07-14T00:00:00",
          "2021-07-15T00:00:00",
          "2021-07-16T00:00:00",
          "2021-07-17T00:00:00",
          "2021-07-18T00:00:00",
          "2021-07-19T00:00:00",
          "2021-07-20T00:00:00",
          "2021-07-21T00:00:00",
          "2021-07-22T00:00:00",
          "2021-07-23T00:00:00",
          "2021-07-24T00:00:00",
          "2021-07-25T00:00:00",
          "2021-07-26T00:00:00",
          "2021-07-27T00:00:00",
          "2021-07-28T00:00:00",
          "2021-07-29T00:00:00",
          "2021-07-30T00:00:00",
          "2021-07-31T00:00:00",
          "2021-08-01T00:00:00",
          "2021-08-02T00:00:00",
          "2021-08-03T00:00:00",
          "2021-08-04T00:00:00",
          "2021-08-05T00:00:00",
          "2021-08-06T00:00:00",
          "2021-08-07T00:00:00",
          "2021-08-08T00:00:00",
          "2021-08-09T00:00:00",
          "2021-08-10T00:00:00",
          "2021-08-11T00:00:00",
          "2021-08-12T00:00:00",
          "2021-08-13T00:00:00",
          "2021-08-14T00:00:00",
          "2021-08-15T00:00:00",
          "2021-08-16T00:00:00",
          "2021-08-17T00:00:00",
          "2021-08-18T00:00:00",
          "2021-08-19T00:00:00",
          "2021-08-20T00:00:00",
          "2021-08-21T00:00:00",
          "2021-08-22T00:00:00",
          "2021-08-23T00:00:00",
          "2021-08-24T00:00:00",
          "2021-08-25T00:00:00",
          "2021-08-26T00:00:00",
          "2021-08-27T00:00:00",
          "2021-08-28T00:00:00",
          "2021-08-29T00:00:00",
          "2021-08-30T00:00:00",
          "2021-08-31T00:00:00",
          "2021-09-01T00:00:00",
          "2021-09-02T00:00:00",
          "2021-09-03T00:00:00",
          "2021-09-04T00:00:00",
          "2021-09-05T00:00:00",
          "2021-09-06T00:00:00",
          "2021-09-07T00:00:00",
          "2021-09-08T00:00:00",
          "2021-09-09T00:00:00",
          "2021-09-10T00:00:00",
          "2021-09-11T00:00:00",
          "2021-09-12T00:00:00",
          "2021-09-13T00:00:00",
          "2021-09-14T00:00:00",
          "2021-09-15T00:00:00",
          "2021-09-16T00:00:00",
          "2021-09-17T00:00:00",
          "2021-09-18T00:00:00",
          "2021-09-19T00:00:00",
          "2021-09-20T00:00:00",
          "2021-09-21T00:00:00",
          "2021-09-22T00:00:00",
          "2021-09-23T00:00:00",
          "2021-09-24T00:00:00",
          "2021-09-25T00:00:00",
          "2021-09-26T00:00:00",
          "2021-09-27T00:00:00",
          "2021-09-28T00:00:00",
          "2021-09-29T00:00:00",
          "2021-09-30T00:00:00",
          "2021-10-01T00:00:00",
          "2021-10-02T00:00:00",
          "2021-10-03T00:00:00",
          "2021-10-04T00:00:00",
          "2021-10-05T00:00:00",
          "2021-10-06T00:00:00",
          "2021-10-07T00:00:00",
          "2021-10-08T00:00:00",
          "2021-10-09T00:00:00",
          "2021-10-10T00:00:00",
          "2021-10-11T00:00:00",
          "2021-10-12T00:00:00",
          "2021-10-13T00:00:00",
          "2021-10-14T00:00:00",
          "2021-10-15T00:00:00",
          "2021-10-16T00:00:00",
          "2021-10-17T00:00:00",
          "2021-10-18T00:00:00",
          "2021-10-19T00:00:00",
          "2021-10-20T00:00:00",
          "2021-10-21T00:00:00",
          "2021-10-22T00:00:00",
          "2021-10-23T00:00:00",
          "2021-10-24T00:00:00",
          "2021-10-25T00:00:00",
          "2021-10-26T00:00:00",
          "2021-10-27T00:00:00",
          "2021-10-28T00:00:00",
          "2021-10-29T00:00:00",
          "2021-10-30T00:00:00",
          "2021-10-31T00:00:00",
          "2021-11-01T00:00:00",
          "2021-11-02T00:00:00",
          "2021-11-03T00:00:00",
          "2021-11-04T00:00:00",
          "2021-11-05T00:00:00",
          "2021-11-06T00:00:00",
          "2021-11-07T00:00:00",
          "2021-11-08T00:00:00",
          "2021-11-09T00:00:00",
          "2021-11-10T00:00:00",
          "2021-11-11T00:00:00",
          "2021-11-12T00:00:00",
          "2021-11-13T00:00:00",
          "2021-11-14T00:00:00",
          "2021-11-15T00:00:00",
          "2021-11-16T00:00:00",
          "2021-11-17T00:00:00",
          "2021-11-18T00:00:00",
          "2021-11-19T00:00:00",
          "2021-11-20T00:00:00",
          "2021-11-21T00:00:00",
          "2021-11-22T00:00:00",
          "2021-11-23T00:00:00",
          "2021-11-24T00:00:00",
          "2021-11-25T00:00:00",
          "2021-11-26T00:00:00",
          "2021-11-27T00:00:00",
          "2021-11-28T00:00:00",
          "2021-11-29T00:00:00",
          "2021-11-30T00:00:00",
          "2021-12-01T00:00:00",
          "2021-12-02T00:00:00",
          "2021-12-03T00:00:00",
          "2021-12-04T00:00:00",
          "2021-12-05T00:00:00",
          "2021-12-06T00:00:00",
          "2021-12-07T00:00:00",
          "2021-12-08T00:00:00",
          "2021-12-09T00:00:00",
          "2021-12-10T00:00:00",
          "2021-12-11T00:00:00",
          "2021-12-12T00:00:00",
          "2021-12-13T00:00:00",
          "2021-12-14T00:00:00",
          "2021-12-15T00:00:00",
          "2021-12-16T00:00:00",
          "2021-12-17T00:00:00",
          "2021-12-18T00:00:00",
          "2021-12-19T00:00:00",
          "2021-12-20T00:00:00",
          "2021-12-21T00:00:00",
          "2021-12-22T00:00:00",
          "2021-12-23T00:00:00",
          "2021-12-24T00:00:00",
          "2021-12-25T00:00:00",
          "2021-12-26T00:00:00",
          "2021-12-27T00:00:00",
          "2021-12-28T00:00:00",
          "2021-12-29T00:00:00",
          "2021-12-30T00:00:00",
          "2021-12-31T00:00:00",
          "2022-01-01T00:00:00",
          "2022-01-02T00:00:00",
          "2022-01-03T00:00:00",
          "2022-01-04T00:00:00",
          "2022-01-05T00:00:00",
          "2022-01-06T00:00:00",
          "2022-01-07T00:00:00",
          "2022-01-08T00:00:00",
          "2022-01-09T00:00:00",
          "2022-01-10T00:00:00",
          "2022-01-11T00:00:00",
          "2022-01-12T00:00:00",
          "2022-01-13T00:00:00",
          "2022-01-14T00:00:00",
          "2022-01-15T00:00:00",
          "2022-01-16T00:00:00",
          "2022-01-17T00:00:00",
          "2022-01-18T00:00:00",
          "2022-01-19T00:00:00",
          "2022-01-20T00:00:00",
          "2022-01-21T00:00:00",
          "2022-01-22T00:00:00",
          "2022-01-23T00:00:00",
          "2022-01-24T00:00:00",
          "2022-01-25T00:00:00",
          "2022-01-26T00:00:00",
          "2022-01-27T00:00:00",
          "2022-01-28T00:00:00",
          "2022-01-29T00:00:00",
          "2022-01-30T00:00:00",
          "2022-01-31T00:00:00",
          "2022-02-01T00:00:00",
          "2022-02-02T00:00:00",
          "2022-02-03T00:00:00",
          "2022-02-04T00:00:00",
          "2022-02-05T00:00:00",
          "2022-02-06T00:00:00",
          "2022-02-07T00:00:00",
          "2022-02-08T00:00:00",
          "2022-02-09T00:00:00",
          "2022-02-10T00:00:00",
          "2022-02-11T00:00:00",
          "2022-02-12T00:00:00",
          "2022-02-13T00:00:00",
          "2022-02-14T00:00:00",
          "2022-02-15T00:00:00",
          "2022-02-16T00:00:00",
          "2022-02-17T00:00:00",
          "2022-02-18T00:00:00",
          "2022-02-19T00:00:00",
          "2022-02-20T00:00:00",
          "2022-02-21T00:00:00",
          "2022-02-22T00:00:00",
          "2022-02-23T00:00:00",
          "2022-02-24T00:00:00",
          "2022-02-25T00:00:00",
          "2022-02-26T00:00:00",
          "2022-02-27T00:00:00",
          "2022-02-28T00:00:00",
          "2022-03-01T00:00:00",
          "2022-03-02T00:00:00",
          "2022-03-03T00:00:00",
          "2022-03-04T00:00:00",
          "2022-03-05T00:00:00",
          "2022-03-06T00:00:00",
          "2022-03-07T00:00:00",
          "2022-03-08T00:00:00",
          "2022-03-09T00:00:00",
          "2022-03-10T00:00:00",
          "2022-03-11T00:00:00",
          "2022-03-12T00:00:00",
          "2022-03-13T00:00:00",
          "2022-03-14T00:00:00",
          "2022-03-15T00:00:00",
          "2022-03-16T00:00:00",
          "2022-03-17T00:00:00",
          "2022-03-18T00:00:00",
          "2022-03-19T00:00:00",
          "2022-03-20T00:00:00",
          "2022-03-21T00:00:00",
          "2022-03-22T00:00:00",
          "2022-03-23T00:00:00",
          "2022-03-24T00:00:00",
          "2022-03-25T00:00:00",
          "2022-03-26T00:00:00",
          "2022-03-27T00:00:00",
          "2022-03-28T00:00:00",
          "2022-03-29T00:00:00",
          "2022-03-30T00:00:00",
          "2022-03-31T00:00:00",
          "2022-04-01T00:00:00",
          "2022-04-02T00:00:00",
          "2022-04-03T00:00:00",
          "2022-04-04T00:00:00",
          "2022-04-05T00:00:00",
          "2022-04-06T00:00:00",
          "2022-04-07T00:00:00",
          "2022-04-08T00:00:00",
          "2022-04-09T00:00:00",
          "2022-04-10T00:00:00",
          "2022-04-11T00:00:00",
          "2022-04-12T00:00:00",
          "2022-04-13T00:00:00",
          "2022-04-14T00:00:00",
          "2022-04-15T00:00:00",
          "2022-04-16T00:00:00",
          "2022-04-17T00:00:00",
          "2022-04-18T00:00:00",
          "2022-04-19T00:00:00",
          "2022-04-20T00:00:00",
          "2022-04-21T00:00:00",
          "2022-04-22T00:00:00",
          "2022-04-23T00:00:00",
          "2022-04-24T00:00:00",
          "2022-04-25T00:00:00",
          "2022-04-26T00:00:00",
          "2022-04-27T00:00:00",
          "2022-04-28T00:00:00",
          "2022-04-29T00:00:00",
          "2022-04-30T00:00:00",
          "2022-05-01T00:00:00",
          "2022-05-02T00:00:00",
          "2022-05-03T00:00:00",
          "2022-05-04T00:00:00",
          "2022-05-05T00:00:00",
          "2022-05-06T00:00:00",
          "2022-05-07T00:00:00",
          "2022-05-08T00:00:00",
          "2022-05-09T00:00:00",
          "2022-05-10T00:00:00",
          "2022-05-11T00:00:00",
          "2022-05-12T00:00:00",
          "2022-05-13T00:00:00",
          "2022-05-14T00:00:00",
          "2022-05-15T00:00:00",
          "2022-05-16T00:00:00",
          "2022-05-17T00:00:00",
          "2022-05-18T00:00:00",
          "2022-05-19T00:00:00",
          "2022-05-20T00:00:00",
          "2022-05-21T00:00:00",
          "2022-05-22T00:00:00",
          "2022-05-23T00:00:00",
          "2022-05-24T00:00:00",
          "2022-05-25T00:00:00",
          "2022-05-26T00:00:00",
          "2022-05-27T00:00:00",
          "2022-05-28T00:00:00",
          "2022-05-29T00:00:00",
          "2022-05-30T00:00:00",
          "2022-05-31T00:00:00",
          "2022-06-01T00:00:00",
          "2022-06-02T00:00:00",
          "2022-06-03T00:00:00",
          "2022-06-04T00:00:00",
          "2022-06-05T00:00:00",
          "2022-06-06T00:00:00",
          "2022-06-07T00:00:00",
          "2022-06-08T00:00:00",
          "2022-06-09T00:00:00",
          "2022-06-10T00:00:00",
          "2022-06-11T00:00:00",
          "2022-06-12T00:00:00",
          "2022-06-13T00:00:00",
          "2022-06-14T00:00:00",
          "2022-06-15T00:00:00",
          "2022-06-16T00:00:00",
          "2022-06-17T00:00:00",
          "2022-06-18T00:00:00",
          "2022-06-19T00:00:00",
          "2022-06-20T00:00:00",
          "2022-06-21T00:00:00",
          "2022-06-22T00:00:00"
         ],
         "xaxis": "x",
         "y": [
          33723.02734375,
          34662.4375,
          31637.779296875,
          32186.27734375,
          34649.64453125,
          34434.3359375,
          35867.77734375,
          35040.8359375,
          33572.1171875,
          33897.046875,
          34668.546875,
          35287.78125,
          33746.00390625,
          34235.1953125,
          33855.328125,
          32877.37109375,
          33798.01171875,
          33520.51953125,
          34240.1875,
          33155.84765625,
          32702.025390625,
          32822.34765625,
          31780.73046875,
          31421.5390625,
          31533.068359375,
          31796.810546875,
          30817.83203125,
          29807.34765625,
          32110.693359375,
          32313.10546875,
          33581.55078125,
          34292.4453125,
          35350.1875,
          37337.53515625,
          39406.94140625,
          39995.90625,
          40008.421875,
          42235.546875,
          41626.1953125,
          39974.89453125,
          39201.9453125,
          38152.98046875,
          39747.50390625,
          40869.5546875,
          42816.5,
          44555.80078125,
          43798.1171875,
          46365.40234375,
          45585.03125,
          45593.63671875,
          44428.2890625,
          47793.3203125,
          47096.9453125,
          47047.00390625,
          46004.484375,
          44695.359375,
          44801.18750000001,
          46717.578125,
          49339.17578125,
          48905.4921875,
          49321.65234375,
          49546.1484375,
          47706.1171875,
          48960.7890625,
          46942.21875,
          49058.66796875,
          48902.40234375,
          48829.83203125,
          47054.984375,
          47166.6875,
          48847.02734375,
          49327.72265625,
          50025.375,
          49944.62500000001,
          51753.41015625,
          52633.53515625,
          46811.12890625,
          46091.390625,
          46391.421875,
          44883.91015625,
          45201.45703125,
          46063.26953125,
          44963.07421875,
          47092.4921875,
          48176.34765625,
          47783.359375,
          47267.51953125,
          48278.36328125,
          47260.21875,
          42843.80078125,
          40693.67578125,
          43574.5078125,
          44895.09765625,
          42839.75,
          42716.59375,
          43208.5390625,
          42235.73046875,
          41034.54296874999,
          41564.36328125,
          43790.89453125,
          48116.94140625,
          47711.48828125,
          48199.953125,
          49112.90234375,
          51514.8125,
          55361.44921875,
          53805.984375,
          53967.84765625,
          54968.22265625,
          54771.578125,
          57484.78906250001,
          56041.05859375,
          57401.09765625,
          57321.5234375,
          61593.94921875,
          60892.1796875,
          61553.6171875,
          62026.078125,
          64261.9921875,
          65992.8359375,
          62210.171875,
          60692.265625,
          61393.6171875,
          60930.8359375,
          63039.82421875,
          60363.79296875,
          58482.38671875,
          60622.13671875,
          62227.96484375,
          61888.83203125,
          61318.95703125,
          61004.40625,
          63226.40234375,
          62970.046875,
          61452.23046875,
          61125.67578125,
          61527.48046875,
          63326.98828125,
          67566.828125,
          66971.828125,
          64995.23046875,
          64949.9609375,
          64155.94140625,
          64469.52734375,
          65466.83984375,
          63557.87109375,
          60161.24609375,
          60368.01171875,
          56942.13671875,
          58119.578125,
          59697.19531250001,
          58730.4765625,
          56289.2890625,
          57569.07421875,
          56280.42578125,
          57274.6796875,
          53569.765625,
          54815.078125,
          57248.45703124999,
          57806.56640625,
          57005.42578125,
          57229.828125,
          56477.81640625,
          53598.24609375,
          49200.703125,
          49368.84765625,
          50582.625,
          50700.0859375,
          50504.796875,
          47672.12109375,
          47243.3046875,
          49362.5078125,
          50098.3359375,
          46737.48046875,
          46612.6328125,
          48896.72265625,
          47665.42578125,
          46202.14453125,
          46848.77734375,
          46707.015625,
          46880.27734375,
          48936.61328125,
          48628.51171875,
          50784.5390625,
          50822.1953125,
          50429.85937500001,
          50809.515625,
          50640.41796875,
          47588.85546875,
          46444.7109375,
          47178.125,
          46306.4453125,
          47686.8125,
          47345.21875,
          46458.1171875,
          45897.57421875,
          43569.00390625,
          43160.9296875,
          41557.90234375,
          41733.94140625,
          41911.6015625,
          41821.26171875,
          42735.85546875,
          43949.1015625,
          42591.5703125,
          43099.69921875,
          43177.3984375,
          43113.87890625,
          42250.55078125,
          42375.6328125,
          41744.328125,
          40680.41796875,
          36457.31640625,
          35030.25,
          36276.8046875,
          36654.328125,
          36954.00390625,
          36852.12109375,
          37138.234375,
          37784.33203125,
          38138.1796875,
          37917.6015625,
          38483.125,
          38743.2734375,
          36952.984375,
          37154.6015625,
          41500.875,
          41441.1640625,
          42412.43359375,
          43840.28515625,
          44118.4453125,
          44338.796875,
          43565.11328125,
          42407.9375,
          42244.46875,
          42197.515625,
          42586.91796875,
          44575.203125,
          43961.859375,
          40538.01171875,
          40030.9765625,
          40122.15625,
          38431.37890625,
          37075.28125,
          38286.02734375,
          37296.5703125,
          38332.609375,
          39214.21875,
          39105.1484375,
          37709.78515625,
          43193.234375,
          44354.63671875,
          43924.1171875,
          42451.7890625,
          39137.60546875,
          39400.5859375,
          38419.984375,
          38062.0390625,
          38737.26953125,
          41982.92578125,
          39437.4609375,
          38794.97265625,
          38904.01171875,
          37849.6640625,
          39666.75390625,
          39338.78515625,
          41143.9296875,
          40951.37890625,
          41801.15625,
          42190.65234375,
          41247.82421875,
          41077.99609375,
          42358.80859375,
          42892.95703125,
          43960.93359375,
          44348.73046875,
          44500.828125,
          46820.4921875,
          47128.00390625,
          47465.73046875,
          47062.6640625,
          45538.67578125,
          46281.64453125,
          45868.94921875,
          46453.56640625,
          46622.67578125,
          45555.9921875,
          43206.73828125,
          43503.84765625,
          42287.6640625,
          42782.13671875,
          42207.671875,
          39521.90234375,
          40127.18359375,
          41166.73046875,
          39935.515625,
          40553.46484375,
          40424.484375,
          39716.953125,
          40826.21484375,
          41502.75,
          41374.37890625,
          40527.36328125,
          39740.3203125,
          39486.73046875,
          39469.29296875,
          40458.30859375,
          38117.4609375,
          39241.12109375,
          39773.828125,
          38609.82421875,
          37714.875,
          38469.09375,
          38529.328125,
          37750.453125,
          39698.37109375,
          36575.140625,
          36040.921875,
          35501.953125,
          34059.265625,
          30296.953125,
          31022.90625,
          28936.35546875,
          29047.751953125,
          29283.103515625,
          30101.265625,
          31305.11328125,
          29862.91796875,
          30425.857421875,
          28720.271484375,
          30314.333984375,
          29200.740234375,
          29432.2265625,
          30323.722656250004,
          29098.91015625,
          29655.5859375,
          29562.361328125,
          29267.224609375,
          28627.57421875,
          28814.900390625,
          29445.95703125,
          31726.390625,
          31792.310546875,
          29799.080078125,
          30467.48828125,
          29704.390625,
          29832.9140625,
          29906.662109375,
          31370.671875,
          31155.478515625,
          30214.35546875,
          30111.998046875,
          29083.8046875,
          28360.810546875,
          26762.6484375,
          22487.388671875,
          22206.79296875,
          22572.839843750004,
          20381.650390625,
          20471.482421875,
          19017.642578125,
          20553.271484375,
          20599.537109375,
          20710.59765625,
          20435.345703125
         ],
         "yaxis": "y"
        },
        {
         "hovertemplate": "%{y:$,.2f}",
         "legendgroup": "Predicted",
         "line": {
          "color": "#EF553B",
          "dash": "solid"
         },
         "marker": {
          "symbol": "circle"
         },
         "mode": "lines",
         "name": "Predicted",
         "orientation": "v",
         "showlegend": true,
         "type": "scatter",
         "x": [
          "2021-06-23T00:00:00",
          "2021-06-24T00:00:00",
          "2021-06-25T00:00:00",
          "2021-06-26T00:00:00",
          "2021-06-27T00:00:00",
          "2021-06-28T00:00:00",
          "2021-06-29T00:00:00",
          "2021-06-30T00:00:00",
          "2021-07-01T00:00:00",
          "2021-07-02T00:00:00",
          "2021-07-03T00:00:00",
          "2021-07-04T00:00:00",
          "2021-07-05T00:00:00",
          "2021-07-06T00:00:00",
          "2021-07-07T00:00:00",
          "2021-07-08T00:00:00",
          "2021-07-09T00:00:00",
          "2021-07-10T00:00:00",
          "2021-07-11T00:00:00",
          "2021-07-12T00:00:00",
          "2021-07-13T00:00:00",
          "2021-07-14T00:00:00",
          "2021-07-15T00:00:00",
          "2021-07-16T00:00:00",
          "2021-07-17T00:00:00",
          "2021-07-18T00:00:00",
          "2021-07-19T00:00:00",
          "2021-07-20T00:00:00",
          "2021-07-21T00:00:00",
          "2021-07-22T00:00:00",
          "2021-07-23T00:00:00",
          "2021-07-24T00:00:00",
          "2021-07-25T00:00:00",
          "2021-07-26T00:00:00",
          "2021-07-27T00:00:00",
          "2021-07-28T00:00:00",
          "2021-07-29T00:00:00",
          "2021-07-30T00:00:00",
          "2021-07-31T00:00:00",
          "2021-08-01T00:00:00",
          "2021-08-02T00:00:00",
          "2021-08-03T00:00:00",
          "2021-08-04T00:00:00",
          "2021-08-05T00:00:00",
          "2021-08-06T00:00:00",
          "2021-08-07T00:00:00",
          "2021-08-08T00:00:00",
          "2021-08-09T00:00:00",
          "2021-08-10T00:00:00",
          "2021-08-11T00:00:00",
          "2021-08-12T00:00:00",
          "2021-08-13T00:00:00",
          "2021-08-14T00:00:00",
          "2021-08-15T00:00:00",
          "2021-08-16T00:00:00",
          "2021-08-17T00:00:00",
          "2021-08-18T00:00:00",
          "2021-08-19T00:00:00",
          "2021-08-20T00:00:00",
          "2021-08-21T00:00:00",
          "2021-08-22T00:00:00",
          "2021-08-23T00:00:00",
          "2021-08-24T00:00:00",
          "2021-08-25T00:00:00",
          "2021-08-26T00:00:00",
          "2021-08-27T00:00:00",
          "2021-08-28T00:00:00",
          "2021-08-29T00:00:00",
          "2021-08-30T00:00:00",
          "2021-08-31T00:00:00",
          "2021-09-01T00:00:00",
          "2021-09-02T00:00:00",
          "2021-09-03T00:00:00",
          "2021-09-04T00:00:00",
          "2021-09-05T00:00:00",
          "2021-09-06T00:00:00",
          "2021-09-07T00:00:00",
          "2021-09-08T00:00:00",
          "2021-09-09T00:00:00",
          "2021-09-10T00:00:00",
          "2021-09-11T00:00:00",
          "2021-09-12T00:00:00",
          "2021-09-13T00:00:00",
          "2021-09-14T00:00:00",
          "2021-09-15T00:00:00",
          "2021-09-16T00:00:00",
          "2021-09-17T00:00:00",
          "2021-09-18T00:00:00",
          "2021-09-19T00:00:00",
          "2021-09-20T00:00:00",
          "2021-09-21T00:00:00",
          "2021-09-22T00:00:00",
          "2021-09-23T00:00:00",
          "2021-09-24T00:00:00",
          "2021-09-25T00:00:00",
          "2021-09-26T00:00:00",
          "2021-09-27T00:00:00",
          "2021-09-28T00:00:00",
          "2021-09-29T00:00:00",
          "2021-09-30T00:00:00",
          "2021-10-01T00:00:00",
          "2021-10-02T00:00:00",
          "2021-10-03T00:00:00",
          "2021-10-04T00:00:00",
          "2021-10-05T00:00:00",
          "2021-10-06T00:00:00",
          "2021-10-07T00:00:00",
          "2021-10-08T00:00:00",
          "2021-10-09T00:00:00",
          "2021-10-10T00:00:00",
          "2021-10-11T00:00:00",
          "2021-10-12T00:00:00",
          "2021-10-13T00:00:00",
          "2021-10-14T00:00:00",
          "2021-10-15T00:00:00",
          "2021-10-16T00:00:00",
          "2021-10-17T00:00:00",
          "2021-10-18T00:00:00",
          "2021-10-19T00:00:00",
          "2021-10-20T00:00:00",
          "2021-10-21T00:00:00",
          "2021-10-22T00:00:00",
          "2021-10-23T00:00:00",
          "2021-10-24T00:00:00",
          "2021-10-25T00:00:00",
          "2021-10-26T00:00:00",
          "2021-10-27T00:00:00",
          "2021-10-28T00:00:00",
          "2021-10-29T00:00:00",
          "2021-10-30T00:00:00",
          "2021-10-31T00:00:00",
          "2021-11-01T00:00:00",
          "2021-11-02T00:00:00",
          "2021-11-03T00:00:00",
          "2021-11-04T00:00:00",
          "2021-11-05T00:00:00",
          "2021-11-06T00:00:00",
          "2021-11-07T00:00:00",
          "2021-11-08T00:00:00",
          "2021-11-09T00:00:00",
          "2021-11-10T00:00:00",
          "2021-11-11T00:00:00",
          "2021-11-12T00:00:00",
          "2021-11-13T00:00:00",
          "2021-11-14T00:00:00",
          "2021-11-15T00:00:00",
          "2021-11-16T00:00:00",
          "2021-11-17T00:00:00",
          "2021-11-18T00:00:00",
          "2021-11-19T00:00:00",
          "2021-11-20T00:00:00",
          "2021-11-21T00:00:00",
          "2021-11-22T00:00:00",
          "2021-11-23T00:00:00",
          "2021-11-24T00:00:00",
          "2021-11-25T00:00:00",
          "2021-11-26T00:00:00",
          "2021-11-27T00:00:00",
          "2021-11-28T00:00:00",
          "2021-11-29T00:00:00",
          "2021-11-30T00:00:00",
          "2021-12-01T00:00:00",
          "2021-12-02T00:00:00",
          "2021-12-03T00:00:00",
          "2021-12-04T00:00:00",
          "2021-12-05T00:00:00",
          "2021-12-06T00:00:00",
          "2021-12-07T00:00:00",
          "2021-12-08T00:00:00",
          "2021-12-09T00:00:00",
          "2021-12-10T00:00:00",
          "2021-12-11T00:00:00",
          "2021-12-12T00:00:00",
          "2021-12-13T00:00:00",
          "2021-12-14T00:00:00",
          "2021-12-15T00:00:00",
          "2021-12-16T00:00:00",
          "2021-12-17T00:00:00",
          "2021-12-18T00:00:00",
          "2021-12-19T00:00:00",
          "2021-12-20T00:00:00",
          "2021-12-21T00:00:00",
          "2021-12-22T00:00:00",
          "2021-12-23T00:00:00",
          "2021-12-24T00:00:00",
          "2021-12-25T00:00:00",
          "2021-12-26T00:00:00",
          "2021-12-27T00:00:00",
          "2021-12-28T00:00:00",
          "2021-12-29T00:00:00",
          "2021-12-30T00:00:00",
          "2021-12-31T00:00:00",
          "2022-01-01T00:00:00",
          "2022-01-02T00:00:00",
          "2022-01-03T00:00:00",
          "2022-01-04T00:00:00",
          "2022-01-05T00:00:00",
          "2022-01-06T00:00:00",
          "2022-01-07T00:00:00",
          "2022-01-08T00:00:00",
          "2022-01-09T00:00:00",
          "2022-01-10T00:00:00",
          "2022-01-11T00:00:00",
          "2022-01-12T00:00:00",
          "2022-01-13T00:00:00",
          "2022-01-14T00:00:00",
          "2022-01-15T00:00:00",
          "2022-01-16T00:00:00",
          "2022-01-17T00:00:00",
          "2022-01-18T00:00:00",
          "2022-01-19T00:00:00",
          "2022-01-20T00:00:00",
          "2022-01-21T00:00:00",
          "2022-01-22T00:00:00",
          "2022-01-23T00:00:00",
          "2022-01-24T00:00:00",
          "2022-01-25T00:00:00",
          "2022-01-26T00:00:00",
          "2022-01-27T00:00:00",
          "2022-01-28T00:00:00",
          "2022-01-29T00:00:00",
          "2022-01-30T00:00:00",
          "2022-01-31T00:00:00",
          "2022-02-01T00:00:00",
          "2022-02-02T00:00:00",
          "2022-02-03T00:00:00",
          "2022-02-04T00:00:00",
          "2022-02-05T00:00:00",
          "2022-02-06T00:00:00",
          "2022-02-07T00:00:00",
          "2022-02-08T00:00:00",
          "2022-02-09T00:00:00",
          "2022-02-10T00:00:00",
          "2022-02-11T00:00:00",
          "2022-02-12T00:00:00",
          "2022-02-13T00:00:00",
          "2022-02-14T00:00:00",
          "2022-02-15T00:00:00",
          "2022-02-16T00:00:00",
          "2022-02-17T00:00:00",
          "2022-02-18T00:00:00",
          "2022-02-19T00:00:00",
          "2022-02-20T00:00:00",
          "2022-02-21T00:00:00",
          "2022-02-22T00:00:00",
          "2022-02-23T00:00:00",
          "2022-02-24T00:00:00",
          "2022-02-25T00:00:00",
          "2022-02-26T00:00:00",
          "2022-02-27T00:00:00",
          "2022-02-28T00:00:00",
          "2022-03-01T00:00:00",
          "2022-03-02T00:00:00",
          "2022-03-03T00:00:00",
          "2022-03-04T00:00:00",
          "2022-03-05T00:00:00",
          "2022-03-06T00:00:00",
          "2022-03-07T00:00:00",
          "2022-03-08T00:00:00",
          "2022-03-09T00:00:00",
          "2022-03-10T00:00:00",
          "2022-03-11T00:00:00",
          "2022-03-12T00:00:00",
          "2022-03-13T00:00:00",
          "2022-03-14T00:00:00",
          "2022-03-15T00:00:00",
          "2022-03-16T00:00:00",
          "2022-03-17T00:00:00",
          "2022-03-18T00:00:00",
          "2022-03-19T00:00:00",
          "2022-03-20T00:00:00",
          "2022-03-21T00:00:00",
          "2022-03-22T00:00:00",
          "2022-03-23T00:00:00",
          "2022-03-24T00:00:00",
          "2022-03-25T00:00:00",
          "2022-03-26T00:00:00",
          "2022-03-27T00:00:00",
          "2022-03-28T00:00:00",
          "2022-03-29T00:00:00",
          "2022-03-30T00:00:00",
          "2022-03-31T00:00:00",
          "2022-04-01T00:00:00",
          "2022-04-02T00:00:00",
          "2022-04-03T00:00:00",
          "2022-04-04T00:00:00",
          "2022-04-05T00:00:00",
          "2022-04-06T00:00:00",
          "2022-04-07T00:00:00",
          "2022-04-08T00:00:00",
          "2022-04-09T00:00:00",
          "2022-04-10T00:00:00",
          "2022-04-11T00:00:00",
          "2022-04-12T00:00:00",
          "2022-04-13T00:00:00",
          "2022-04-14T00:00:00",
          "2022-04-15T00:00:00",
          "2022-04-16T00:00:00",
          "2022-04-17T00:00:00",
          "2022-04-18T00:00:00",
          "2022-04-19T00:00:00",
          "2022-04-20T00:00:00",
          "2022-04-21T00:00:00",
          "2022-04-22T00:00:00",
          "2022-04-23T00:00:00",
          "2022-04-24T00:00:00",
          "2022-04-25T00:00:00",
          "2022-04-26T00:00:00",
          "2022-04-27T00:00:00",
          "2022-04-28T00:00:00",
          "2022-04-29T00:00:00",
          "2022-04-30T00:00:00",
          "2022-05-01T00:00:00",
          "2022-05-02T00:00:00",
          "2022-05-03T00:00:00",
          "2022-05-04T00:00:00",
          "2022-05-05T00:00:00",
          "2022-05-06T00:00:00",
          "2022-05-07T00:00:00",
          "2022-05-08T00:00:00",
          "2022-05-09T00:00:00",
          "2022-05-10T00:00:00",
          "2022-05-11T00:00:00",
          "2022-05-12T00:00:00",
          "2022-05-13T00:00:00",
          "2022-05-14T00:00:00",
          "2022-05-15T00:00:00",
          "2022-05-16T00:00:00",
          "2022-05-17T00:00:00",
          "2022-05-18T00:00:00",
          "2022-05-19T00:00:00",
          "2022-05-20T00:00:00",
          "2022-05-21T00:00:00",
          "2022-05-22T00:00:00",
          "2022-05-23T00:00:00",
          "2022-05-24T00:00:00",
          "2022-05-25T00:00:00",
          "2022-05-26T00:00:00",
          "2022-05-27T00:00:00",
          "2022-05-28T00:00:00",
          "2022-05-29T00:00:00",
          "2022-05-30T00:00:00",
          "2022-05-31T00:00:00",
          "2022-06-01T00:00:00",
          "2022-06-02T00:00:00",
          "2022-06-03T00:00:00",
          "2022-06-04T00:00:00",
          "2022-06-05T00:00:00",
          "2022-06-06T00:00:00",
          "2022-06-07T00:00:00",
          "2022-06-08T00:00:00",
          "2022-06-09T00:00:00",
          "2022-06-10T00:00:00",
          "2022-06-11T00:00:00",
          "2022-06-12T00:00:00",
          "2022-06-13T00:00:00",
          "2022-06-14T00:00:00",
          "2022-06-15T00:00:00",
          "2022-06-16T00:00:00",
          "2022-06-17T00:00:00",
          "2022-06-18T00:00:00",
          "2022-06-19T00:00:00",
          "2022-06-20T00:00:00",
          "2022-06-21T00:00:00",
          "2022-06-22T00:00:00"
         ],
         "xaxis": "x",
         "y": [
          34110.25709416348,
          33665.93384772522,
          33780.86515018057,
          33319.50314284219,
          33033.94523886472,
          33423.88061590928,
          33755.59821820457,
          34406.55961987782,
          34784.87473872246,
          34696.37118905879,
          34608.62277542746,
          34838.14797913225,
          35225.97459863967,
          35160.38621421295,
          35169.833447979356,
          35154.630310306806,
          34769.3060830768,
          34767.51866002151,
          34798.33062014995,
          35089.463677387525,
          34953.229907125984,
          34813.44137415897,
          34581.54632865053,
          34045.43187913116,
          33468.092223930886,
          33143.72313956741,
          32958.714811641985,
          32554.255116017783,
          31836.108699211127,
          32043.813283257754,
          32508.34043524237,
          33271.519871339864,
          34176.64479811379,
          35220.45567891388,
          36383.83913709157,
          38229.363483384564,
          39855.23161124661,
          41170.58217925344,
          42708.85854404406,
          43687.97274360457,
          43705.97550795025,
          43246.03339735354,
          42378.39414622798,
          42200.286476300294,
          42357.44313801133,
          43164.3943555584,
          44443.3256767285,
          45207.137740087135,
          46540.021120759935,
          47312.589548749,
          47798.48745211719,
          47627.58972462602,
          48573.76713979686,
          49070.79526628015,
          49352.43690626006,
          49082.44364124723,
          48327.32769230367,
          47715.90449028161,
          47904.96564935937,
          49030.809206694874,
          49671.843381219456,
          50433.26551936933,
          50891.50857389326,
          50578.03473680503,
          50714.16809004099,
          50163.04330353818,
          50413.99348382035,
          50623.636116460635,
          50782.37133381376,
          50178.96944379489,
          49625.67564953959,
          49782.35030952784,
          50152.62403296417,
          50631.17944342208,
          51059.14475639364,
          52062.63619308354,
          52960.762053174665,
          51295.13681654567,
          49792.21126143963,
          48922.945254499704,
          47780.589121478115,
          47089.49906804327,
          47025.83869050766,
          46533.51008082144,
          47045.71724489114,
          47978.39057846221,
          48559.95779043934,
          48835.976076986866,
          49357.66662495218,
          49409.168509030766,
          47672.64081898146,
          45429.60965191531,
          44812.77196387406,
          45032.10684782317,
          44485.58517777286,
          44159.21377791936,
          44120.35238902056,
          43795.63987842961,
          43078.70248261091,
          42686.2044630736,
          43198.861495417885,
          45116.80660055794,
          46778.67222374928,
          48209.080619663706,
          49392.45509929352,
          50975.05553917439,
          53219.994629726534,
          54531.123665978055,
          55408.09768380137,
          56331.950385845645,
          56784.28891926557,
          57825.29615671152,
          58141.188035775675,
          58620.341931706025,
          58904.3734968947,
          60189.90824166683,
          61172.47277022622,
          62071.201132470815,
          62674.815906583906,
          63708.9546194803,
          64971.525998843186,
          64585.74788665757,
          63819.94756619248,
          63570.85710922402,
          63176.354765856166,
          63507.64659996301,
          62833.66359100568,
          61546.77120804773,
          61263.587162554926,
          61820.91772123848,
          62187.91383295994,
          62217.59308903985,
          62068.011887738445,
          62713.89821293897,
          63166.803098383156,
          63009.064017923774,
          62764.86186176046,
          62653.5957807387,
          63205.869338014134,
          64790.666902414654,
          65789.14953786871,
          65611.72872039599,
          65671.82630186407,
          65450.64374464433,
          65434.183385811535,
          65830.69005300994,
          65350.130318721494,
          63610.77890191293,
          62555.83378131671,
          60680.85912976212,
          59745.020651544815,
          59763.666084854194,
          59619.11376819375,
          58510.87934046365,
          58112.05906499593,
          57580.17819727493,
          57617.244129756386,
          56424.37823286892,
          55997.05157218003,
          56544.56536244305,
          57130.55895690767,
          57282.546150141934,
          57400.47188830004,
          57293.14617136197,
          56076.854990747604,
          53347.01011703999,
          51590.21425454796,
          50737.51304014743,
          50331.19362120952,
          50183.49624330796,
          49225.718653342316,
          48343.78805113646,
          48554.025152568174,
          49125.22531082459,
          48417.542348083196,
          47693.33074293161,
          47890.24853009062,
          47890.742581856466,
          47389.2197893083,
          47283.3481109006,
          47176.914097149674,
          47069.54419672035,
          47760.25668213902,
          48330.0590353994,
          49378.32843213517,
          50253.80422793685,
          50794.987728907414,
          51189.771239946895,
          51330.30285890318,
          50233.15848747796,
          48934.11162774401,
          48283.01165057546,
          47470.943181404924,
          47518.96260303646,
          47487.299106531114,
          47051.78644991709,
          46437.892989065804,
          45261.75255195865,
          44318.55551410697,
          42547.73340148217,
          41942.85337284679,
          41630.13467179091,
          41346.69355871263,
          41596.294134171025,
          42192.58248209793,
          42162.53770804491,
          42544.8213077404,
          42918.10754194408,
          43212.859628783495,
          43062.76429231113,
          42904.563293534084,
          42601.3962599512,
          42001.80620022329,
          40011.46845300334,
          38014.872716749356,
          36931.232426923896,
          36253.6263716837,
          36142.966809496436,
          36166.299709559804,
          36347.275289738005,
          36812.8407537671,
          37416.11410999323,
          37892.560762913985,
          38369.71033501379,
          38802.92143340157,
          38522.74588199509,
          38351.82405441779,
          39448.39805713773,
          40549.98086109352,
          41763.36798132817,
          43049.513261615815,
          44024.52642985172,
          44900.27134328195,
          45155.82062333561,
          44831.505764165944,
          44472.33816375858,
          44147.858620666964,
          43967.31684203926,
          44427.90965496172,
          44695.990979807546,
          43717.12581447046,
          42614.55892366401,
          41843.826118902514,
          40742.25938167082,
          39454.70826302507,
          38900.05683058395,
          38363.319795505995,
          38194.16530757886,
          38571.82169073571,
          39041.4841694084,
          38979.35816402363,
          40402.130849313085,
          42187.3326800007,
          43483.06577789056,
          44005.96534684383,
          43119.80116283959,
          42402.73523322816,
          41463.14517493525,
          40516.035889767045,
          40056.39101356604,
          40783.30182836517,
          40901.962619150516,
          40704.9042481557,
          40602.09729736865,
          40126.678914789816,
          40310.498305132394,
          40463.96765366419,
          40910.13656503259,
          41410.51058680814,
          41865.8776977195,
          42474.30847237933,
          42640.86015100347,
          42792.61036005737,
          43186.08041640228,
          43551.26098830128,
          44081.00096503695,
          44753.07605050829,
          45327.09591884295,
          46299.89187915408,
          47056.22488244765,
          47691.44691953176,
          48004.22587080299,
          47676.24378185921,
          47506.012823417885,
          47330.78913046481,
          47397.29331816479,
          47512.941598182784,
          47417.30442302203,
          46645.67188171136,
          46128.50411657809,
          45387.47466798266,
          44935.702486587,
          44394.25790134993,
          43271.149703791176,
          42529.9395045497,
          42235.858203441145,
          42021.82533844258,
          42035.755188230796,
          42037.60286150144,
          41815.247433422934,
          41896.006822074014,
          42283.648674254364,
          42385.9334565084,
          42321.21267518269,
          42110.963523707906,
          41906.34977570857,
          41718.2767201625,
          41619.68326776872,
          40982.80635810308,
          40864.83241977269,
          41016.67501249012,
          40908.13625788307,
          40577.181824982166,
          40430.69346806857,
          40522.763830480784,
          40326.29591159637,
          40575.28193485823,
          40282.441788185824,
          39945.052632285864,
          39502.40635017476,
          38609.819493214534,
          36582.78534816726,
          35091.29126725305,
          33209.45009948942,
          31682.633325657793,
          31121.918713212253,
          31181.696968539003,
          31590.530829797393,
          31634.911138421972,
          31949.284712059383,
          31596.533759586462,
          31620.330586308006,
          31367.265623467156,
          31286.837611000487,
          31401.385320418143,
          31368.275818744474,
          31338.044269023874,
          31333.810687225494,
          31270.97372929963,
          31065.777562551946,
          30928.756522809872,
          31037.873679484255,
          31556.718408944675,
          32344.574324907775,
          32525.049828298597,
          32753.701403880856,
          32675.233531753474,
          32569.95029711567,
          32412.649034887803,
          32701.311833296153,
          32797.24624285262,
          32807.92659769313,
          32697.437744449344,
          32250.6522725439,
          31663.45166543183,
          30588.72840747772,
          28529.420230409585,
          27021.01190570697,
          25914.73962665668,
          24654.955823923843,
          23629.36059156365,
          22453.71018954132,
          21882.61848167252,
          21542.178656535496,
          21452.743236874456
         ],
         "yaxis": "y"
        }
       ],
       "layout": {
        "hovermode": "x unified",
        "legend": {
         "title": {
          "text": "variable"
         },
         "tracegroupgap": 0
        },
        "template": {
         "data": {
          "bar": [
           {
            "error_x": {
             "color": "#f2f5fa"
            },
            "error_y": {
             "color": "#f2f5fa"
            },
            "marker": {
             "line": {
              "color": "rgb(17,17,17)",
              "width": 0.5
             },
             "pattern": {
              "fillmode": "overlay",
              "size": 10,
              "solidity": 0.2
             }
            },
            "type": "bar"
           }
          ],
          "barpolar": [
           {
            "marker": {
             "line": {
              "color": "rgb(17,17,17)",
              "width": 0.5
             },
             "pattern": {
              "fillmode": "overlay",
              "size": 10,
              "solidity": 0.2
             }
            },
            "type": "barpolar"
           }
          ],
          "carpet": [
           {
            "aaxis": {
             "endlinecolor": "#A2B1C6",
             "gridcolor": "#506784",
             "linecolor": "#506784",
             "minorgridcolor": "#506784",
             "startlinecolor": "#A2B1C6"
            },
            "baxis": {
             "endlinecolor": "#A2B1C6",
             "gridcolor": "#506784",
             "linecolor": "#506784",
             "minorgridcolor": "#506784",
             "startlinecolor": "#A2B1C6"
            },
            "type": "carpet"
           }
          ],
          "choropleth": [
           {
            "colorbar": {
             "outlinewidth": 0,
             "ticks": ""
            },
            "type": "choropleth"
           }
          ],
          "contour": [
           {
            "colorbar": {
             "outlinewidth": 0,
             "ticks": ""
            },
            "colorscale": [
             [
              0,
              "#0d0887"
             ],
             [
              0.1111111111111111,
              "#46039f"
             ],
             [
              0.2222222222222222,
              "#7201a8"
             ],
             [
              0.3333333333333333,
              "#9c179e"
             ],
             [
              0.4444444444444444,
              "#bd3786"
             ],
             [
              0.5555555555555556,
              "#d8576b"
             ],
             [
              0.6666666666666666,
              "#ed7953"
             ],
             [
              0.7777777777777778,
              "#fb9f3a"
             ],
             [
              0.8888888888888888,
              "#fdca26"
             ],
             [
              1,
              "#f0f921"
             ]
            ],
            "type": "contour"
           }
          ],
          "contourcarpet": [
           {
            "colorbar": {
             "outlinewidth": 0,
             "ticks": ""
            },
            "type": "contourcarpet"
           }
          ],
          "heatmap": [
           {
            "colorbar": {
             "outlinewidth": 0,
             "ticks": ""
            },
            "colorscale": [
             [
              0,
              "#0d0887"
             ],
             [
              0.1111111111111111,
              "#46039f"
             ],
             [
              0.2222222222222222,
              "#7201a8"
             ],
             [
              0.3333333333333333,
              "#9c179e"
             ],
             [
              0.4444444444444444,
              "#bd3786"
             ],
             [
              0.5555555555555556,
              "#d8576b"
             ],
             [
              0.6666666666666666,
              "#ed7953"
             ],
             [
              0.7777777777777778,
              "#fb9f3a"
             ],
             [
              0.8888888888888888,
              "#fdca26"
             ],
             [
              1,
              "#f0f921"
             ]
            ],
            "type": "heatmap"
           }
          ],
          "heatmapgl": [
           {
            "colorbar": {
             "outlinewidth": 0,
             "ticks": ""
            },
            "colorscale": [
             [
              0,
              "#0d0887"
             ],
             [
              0.1111111111111111,
              "#46039f"
             ],
             [
              0.2222222222222222,
              "#7201a8"
             ],
             [
              0.3333333333333333,
              "#9c179e"
             ],
             [
              0.4444444444444444,
              "#bd3786"
             ],
             [
              0.5555555555555556,
              "#d8576b"
             ],
             [
              0.6666666666666666,
              "#ed7953"
             ],
             [
              0.7777777777777778,
              "#fb9f3a"
             ],
             [
              0.8888888888888888,
              "#fdca26"
             ],
             [
              1,
              "#f0f921"
             ]
            ],
            "type": "heatmapgl"
           }
          ],
          "histogram": [
           {
            "marker": {
             "pattern": {
              "fillmode": "overlay",
              "size": 10,
              "solidity": 0.2
             }
            },
            "type": "histogram"
           }
          ],
          "histogram2d": [
           {
            "colorbar": {
             "outlinewidth": 0,
             "ticks": ""
            },
            "colorscale": [
             [
              0,
              "#0d0887"
             ],
             [
              0.1111111111111111,
              "#46039f"
             ],
             [
              0.2222222222222222,
              "#7201a8"
             ],
             [
              0.3333333333333333,
              "#9c179e"
             ],
             [
              0.4444444444444444,
              "#bd3786"
             ],
             [
              0.5555555555555556,
              "#d8576b"
             ],
             [
              0.6666666666666666,
              "#ed7953"
             ],
             [
              0.7777777777777778,
              "#fb9f3a"
             ],
             [
              0.8888888888888888,
              "#fdca26"
             ],
             [
              1,
              "#f0f921"
             ]
            ],
            "type": "histogram2d"
           }
          ],
          "histogram2dcontour": [
           {
            "colorbar": {
             "outlinewidth": 0,
             "ticks": ""
            },
            "colorscale": [
             [
              0,
              "#0d0887"
             ],
             [
              0.1111111111111111,
              "#46039f"
             ],
             [
              0.2222222222222222,
              "#7201a8"
             ],
             [
              0.3333333333333333,
              "#9c179e"
             ],
             [
              0.4444444444444444,
              "#bd3786"
             ],
             [
              0.5555555555555556,
              "#d8576b"
             ],
             [
              0.6666666666666666,
              "#ed7953"
             ],
             [
              0.7777777777777778,
              "#fb9f3a"
             ],
             [
              0.8888888888888888,
              "#fdca26"
             ],
             [
              1,
              "#f0f921"
             ]
            ],
            "type": "histogram2dcontour"
           }
          ],
          "mesh3d": [
           {
            "colorbar": {
             "outlinewidth": 0,
             "ticks": ""
            },
            "type": "mesh3d"
           }
          ],
          "parcoords": [
           {
            "line": {
             "colorbar": {
              "outlinewidth": 0,
              "ticks": ""
             }
            },
            "type": "parcoords"
           }
          ],
          "pie": [
           {
            "automargin": true,
            "type": "pie"
           }
          ],
          "scatter": [
           {
            "marker": {
             "line": {
              "color": "#283442"
             }
            },
            "type": "scatter"
           }
          ],
          "scatter3d": [
           {
            "line": {
             "colorbar": {
              "outlinewidth": 0,
              "ticks": ""
             }
            },
            "marker": {
             "colorbar": {
              "outlinewidth": 0,
              "ticks": ""
             }
            },
            "type": "scatter3d"
           }
          ],
          "scattercarpet": [
           {
            "marker": {
             "colorbar": {
              "outlinewidth": 0,
              "ticks": ""
             }
            },
            "type": "scattercarpet"
           }
          ],
          "scattergeo": [
           {
            "marker": {
             "colorbar": {
              "outlinewidth": 0,
              "ticks": ""
             }
            },
            "type": "scattergeo"
           }
          ],
          "scattergl": [
           {
            "marker": {
             "line": {
              "color": "#283442"
             }
            },
            "type": "scattergl"
           }
          ],
          "scattermapbox": [
           {
            "marker": {
             "colorbar": {
              "outlinewidth": 0,
              "ticks": ""
             }
            },
            "type": "scattermapbox"
           }
          ],
          "scatterpolar": [
           {
            "marker": {
             "colorbar": {
              "outlinewidth": 0,
              "ticks": ""
             }
            },
            "type": "scatterpolar"
           }
          ],
          "scatterpolargl": [
           {
            "marker": {
             "colorbar": {
              "outlinewidth": 0,
              "ticks": ""
             }
            },
            "type": "scatterpolargl"
           }
          ],
          "scatterternary": [
           {
            "marker": {
             "colorbar": {
              "outlinewidth": 0,
              "ticks": ""
             }
            },
            "type": "scatterternary"
           }
          ],
          "surface": [
           {
            "colorbar": {
             "outlinewidth": 0,
             "ticks": ""
            },
            "colorscale": [
             [
              0,
              "#0d0887"
             ],
             [
              0.1111111111111111,
              "#46039f"
             ],
             [
              0.2222222222222222,
              "#7201a8"
             ],
             [
              0.3333333333333333,
              "#9c179e"
             ],
             [
              0.4444444444444444,
              "#bd3786"
             ],
             [
              0.5555555555555556,
              "#d8576b"
             ],
             [
              0.6666666666666666,
              "#ed7953"
             ],
             [
              0.7777777777777778,
              "#fb9f3a"
             ],
             [
              0.8888888888888888,
              "#fdca26"
             ],
             [
              1,
              "#f0f921"
             ]
            ],
            "type": "surface"
           }
          ],
          "table": [
           {
            "cells": {
             "fill": {
              "color": "#506784"
             },
             "line": {
              "color": "rgb(17,17,17)"
             }
            },
            "header": {
             "fill": {
              "color": "#2a3f5f"
             },
             "line": {
              "color": "rgb(17,17,17)"
             }
            },
            "type": "table"
           }
          ]
         },
         "layout": {
          "annotationdefaults": {
           "arrowcolor": "#f2f5fa",
           "arrowhead": 0,
           "arrowwidth": 1
          },
          "autotypenumbers": "strict",
          "coloraxis": {
           "colorbar": {
            "outlinewidth": 0,
            "ticks": ""
           }
          },
          "colorscale": {
           "diverging": [
            [
             0,
             "#8e0152"
            ],
            [
             0.1,
             "#c51b7d"
            ],
            [
             0.2,
             "#de77ae"
            ],
            [
             0.3,
             "#f1b6da"
            ],
            [
             0.4,
             "#fde0ef"
            ],
            [
             0.5,
             "#f7f7f7"
            ],
            [
             0.6,
             "#e6f5d0"
            ],
            [
             0.7,
             "#b8e186"
            ],
            [
             0.8,
             "#7fbc41"
            ],
            [
             0.9,
             "#4d9221"
            ],
            [
             1,
             "#276419"
            ]
           ],
           "sequential": [
            [
             0,
             "#0d0887"
            ],
            [
             0.1111111111111111,
             "#46039f"
            ],
            [
             0.2222222222222222,
             "#7201a8"
            ],
            [
             0.3333333333333333,
             "#9c179e"
            ],
            [
             0.4444444444444444,
             "#bd3786"
            ],
            [
             0.5555555555555556,
             "#d8576b"
            ],
            [
             0.6666666666666666,
             "#ed7953"
            ],
            [
             0.7777777777777778,
             "#fb9f3a"
            ],
            [
             0.8888888888888888,
             "#fdca26"
            ],
            [
             1,
             "#f0f921"
            ]
           ],
           "sequentialminus": [
            [
             0,
             "#0d0887"
            ],
            [
             0.1111111111111111,
             "#46039f"
            ],
            [
             0.2222222222222222,
             "#7201a8"
            ],
            [
             0.3333333333333333,
             "#9c179e"
            ],
            [
             0.4444444444444444,
             "#bd3786"
            ],
            [
             0.5555555555555556,
             "#d8576b"
            ],
            [
             0.6666666666666666,
             "#ed7953"
            ],
            [
             0.7777777777777778,
             "#fb9f3a"
            ],
            [
             0.8888888888888888,
             "#fdca26"
            ],
            [
             1,
             "#f0f921"
            ]
           ]
          },
          "colorway": [
           "#636efa",
           "#EF553B",
           "#00cc96",
           "#ab63fa",
           "#FFA15A",
           "#19d3f3",
           "#FF6692",
           "#B6E880",
           "#FF97FF",
           "#FECB52"
          ],
          "font": {
           "color": "#f2f5fa"
          },
          "geo": {
           "bgcolor": "rgb(17,17,17)",
           "lakecolor": "rgb(17,17,17)",
           "landcolor": "rgb(17,17,17)",
           "showlakes": true,
           "showland": true,
           "subunitcolor": "#506784"
          },
          "hoverlabel": {
           "align": "left"
          },
          "hovermode": "closest",
          "mapbox": {
           "style": "dark"
          },
          "paper_bgcolor": "rgb(17,17,17)",
          "plot_bgcolor": "rgb(17,17,17)",
          "polar": {
           "angularaxis": {
            "gridcolor": "#506784",
            "linecolor": "#506784",
            "ticks": ""
           },
           "bgcolor": "rgb(17,17,17)",
           "radialaxis": {
            "gridcolor": "#506784",
            "linecolor": "#506784",
            "ticks": ""
           }
          },
          "scene": {
           "xaxis": {
            "backgroundcolor": "rgb(17,17,17)",
            "gridcolor": "#506784",
            "gridwidth": 2,
            "linecolor": "#506784",
            "showbackground": true,
            "ticks": "",
            "zerolinecolor": "#C8D4E3"
           },
           "yaxis": {
            "backgroundcolor": "rgb(17,17,17)",
            "gridcolor": "#506784",
            "gridwidth": 2,
            "linecolor": "#506784",
            "showbackground": true,
            "ticks": "",
            "zerolinecolor": "#C8D4E3"
           },
           "zaxis": {
            "backgroundcolor": "rgb(17,17,17)",
            "gridcolor": "#506784",
            "gridwidth": 2,
            "linecolor": "#506784",
            "showbackground": true,
            "ticks": "",
            "zerolinecolor": "#C8D4E3"
           }
          },
          "shapedefaults": {
           "line": {
            "color": "#f2f5fa"
           }
          },
          "sliderdefaults": {
           "bgcolor": "#C8D4E3",
           "bordercolor": "rgb(17,17,17)",
           "borderwidth": 1,
           "tickwidth": 0
          },
          "ternary": {
           "aaxis": {
            "gridcolor": "#506784",
            "linecolor": "#506784",
            "ticks": ""
           },
           "baxis": {
            "gridcolor": "#506784",
            "linecolor": "#506784",
            "ticks": ""
           },
           "bgcolor": "rgb(17,17,17)",
           "caxis": {
            "gridcolor": "#506784",
            "linecolor": "#506784",
            "ticks": ""
           }
          },
          "title": {
           "x": 0.05
          },
          "updatemenudefaults": {
           "bgcolor": "#506784",
           "borderwidth": 0
          },
          "xaxis": {
           "automargin": true,
           "gridcolor": "#283442",
           "linecolor": "#506784",
           "ticks": "",
           "title": {
            "standoff": 15
           },
           "zerolinecolor": "#283442",
           "zerolinewidth": 2
          },
          "yaxis": {
           "automargin": true,
           "gridcolor": "#283442",
           "linecolor": "#506784",
           "ticks": "",
           "title": {
            "standoff": 15
           },
           "zerolinecolor": "#283442",
           "zerolinewidth": 2
          }
         }
        },
        "title": {
         "text": "Bidirectional-LSTM"
        },
        "xaxis": {
         "anchor": "y",
         "domain": [
          0,
          1
         ],
         "rangeslider": {
          "visible": true
         },
         "title": {
          "text": "Date"
         }
        },
        "yaxis": {
         "anchor": "x",
         "domain": [
          0,
          1
         ],
         "tickformat": "$",
         "title": {
          "text": "Close Price"
         }
        }
       }
      }
     },
     "metadata": {},
     "output_type": "display_data"
    }
   ],
   "source": [
    "# This is what we would call in the dashboard\n",
    "model = load_model()\n",
    "scaler = load_scaler()\n",
    "test_df = get_test_df(model, X_test, y_test, scaler, test_dates)\n",
    "plot_model_test(test_df)"
   ]
  },
  {
   "cell_type": "markdown",
   "metadata": {},
   "source": [
    "# Feature Importance"
   ]
  },
  {
   "cell_type": "code",
   "execution_count": 61,
   "metadata": {},
   "outputs": [],
   "source": [
    "reframed = series_to_supervised(dsets['Bitcoin'], n_in=60, min_input=60)\n",
    "feature_names = reframed.iloc[:, :-1].columns\n",
    "feature_names = list(feature_names)\n",
    "\n",
    "results = []\n",
    "\n",
    "oof_preds = model.predict(X_test, verbose=0).squeeze() \n",
    "baseline_mae = np.mean(np.abs(oof_preds - y_test))\n",
    "results.append({'Feature':'BASELINE','Importance':baseline_mae})\n",
    "np.random.seed(888)\n",
    "for k in range(60):\n",
    "    for f in range(3):\n",
    "        # SHUFFLE LAG k OF FEATURE f\n",
    "        save_col = X_test[:,k,f].copy()\n",
    "        np.random.shuffle(X_test[:,k,f])\n",
    "                \n",
    "        # COMPUTE OOF MAE WITH FEATURE K SHUFFLED\n",
    "        oof_preds = model.predict(X_test, verbose=0).squeeze() \n",
    "        mae = np.mean(np.abs(oof_preds - y_test))\n",
    "        results.append({'Feature':feature_names.pop(0),'Importance':mae})\n",
    "        X_test[:,k,f] = save_col\n",
    "\n",
    "results_df = pd.DataFrame(results)\n",
    "\n",
    "results_df = results_df.sort_values('Importance')"
   ]
  },
  {
   "cell_type": "code",
   "execution_count": 66,
   "metadata": {},
   "outputs": [
    {
     "data": {
      "application/vnd.plotly.v1+json": {
       "config": {
        "plotlyServerURL": "https://plot.ly"
       },
       "data": [
        {
         "alignmentgroup": "True",
         "hovertemplate": "Importance=%{x}<br>Feature=%{y}<extra></extra>",
         "legendgroup": "",
         "marker": {
          "color": "rgba(50, 171, 96, 0.6)",
          "pattern": {
           "shape": ""
          }
         },
         "name": "",
         "offsetgroup": "",
         "orientation": "h",
         "showlegend": false,
         "textposition": "auto",
         "type": "bar",
         "x": [
          0.028748936647503755,
          0.028818987979182906,
          0.02891641921951895,
          0.028951625722095645,
          0.02897012138968824,
          0.029012543107466565,
          0.029159125590564244,
          0.029239099773645597,
          0.029277715071905165,
          0.02982373271944612,
          0.03241973458812323,
          0.03520705472979529,
          0.04234319307649778,
          0.05282100274209324,
          0.05627221890279373
         ],
         "xaxis": "x",
         "y": [
          "TYX(t-10)",
          "Close_t(t-8)",
          "TYX(t-4)",
          "TYX(t-9)",
          "TYX(t-8)",
          "Close_t(t-7)",
          "TYX(t-5)",
          "TYX(t-6)",
          "TYX(t-7)",
          "Close_t(t-6)",
          "Close_t(t-5)",
          "Close_t(t-4)",
          "Close_t(t-3)",
          "Close_t(t-2)",
          "Close_t(t-1)"
         ],
         "yaxis": "y"
        }
       ],
       "layout": {
        "barmode": "relative",
        "legend": {
         "tracegroupgap": 0
        },
        "template": {
         "data": {
          "bar": [
           {
            "error_x": {
             "color": "#f2f5fa"
            },
            "error_y": {
             "color": "#f2f5fa"
            },
            "marker": {
             "line": {
              "color": "rgb(17,17,17)",
              "width": 0.5
             },
             "pattern": {
              "fillmode": "overlay",
              "size": 10,
              "solidity": 0.2
             }
            },
            "type": "bar"
           }
          ],
          "barpolar": [
           {
            "marker": {
             "line": {
              "color": "rgb(17,17,17)",
              "width": 0.5
             },
             "pattern": {
              "fillmode": "overlay",
              "size": 10,
              "solidity": 0.2
             }
            },
            "type": "barpolar"
           }
          ],
          "carpet": [
           {
            "aaxis": {
             "endlinecolor": "#A2B1C6",
             "gridcolor": "#506784",
             "linecolor": "#506784",
             "minorgridcolor": "#506784",
             "startlinecolor": "#A2B1C6"
            },
            "baxis": {
             "endlinecolor": "#A2B1C6",
             "gridcolor": "#506784",
             "linecolor": "#506784",
             "minorgridcolor": "#506784",
             "startlinecolor": "#A2B1C6"
            },
            "type": "carpet"
           }
          ],
          "choropleth": [
           {
            "colorbar": {
             "outlinewidth": 0,
             "ticks": ""
            },
            "type": "choropleth"
           }
          ],
          "contour": [
           {
            "colorbar": {
             "outlinewidth": 0,
             "ticks": ""
            },
            "colorscale": [
             [
              0,
              "#0d0887"
             ],
             [
              0.1111111111111111,
              "#46039f"
             ],
             [
              0.2222222222222222,
              "#7201a8"
             ],
             [
              0.3333333333333333,
              "#9c179e"
             ],
             [
              0.4444444444444444,
              "#bd3786"
             ],
             [
              0.5555555555555556,
              "#d8576b"
             ],
             [
              0.6666666666666666,
              "#ed7953"
             ],
             [
              0.7777777777777778,
              "#fb9f3a"
             ],
             [
              0.8888888888888888,
              "#fdca26"
             ],
             [
              1,
              "#f0f921"
             ]
            ],
            "type": "contour"
           }
          ],
          "contourcarpet": [
           {
            "colorbar": {
             "outlinewidth": 0,
             "ticks": ""
            },
            "type": "contourcarpet"
           }
          ],
          "heatmap": [
           {
            "colorbar": {
             "outlinewidth": 0,
             "ticks": ""
            },
            "colorscale": [
             [
              0,
              "#0d0887"
             ],
             [
              0.1111111111111111,
              "#46039f"
             ],
             [
              0.2222222222222222,
              "#7201a8"
             ],
             [
              0.3333333333333333,
              "#9c179e"
             ],
             [
              0.4444444444444444,
              "#bd3786"
             ],
             [
              0.5555555555555556,
              "#d8576b"
             ],
             [
              0.6666666666666666,
              "#ed7953"
             ],
             [
              0.7777777777777778,
              "#fb9f3a"
             ],
             [
              0.8888888888888888,
              "#fdca26"
             ],
             [
              1,
              "#f0f921"
             ]
            ],
            "type": "heatmap"
           }
          ],
          "heatmapgl": [
           {
            "colorbar": {
             "outlinewidth": 0,
             "ticks": ""
            },
            "colorscale": [
             [
              0,
              "#0d0887"
             ],
             [
              0.1111111111111111,
              "#46039f"
             ],
             [
              0.2222222222222222,
              "#7201a8"
             ],
             [
              0.3333333333333333,
              "#9c179e"
             ],
             [
              0.4444444444444444,
              "#bd3786"
             ],
             [
              0.5555555555555556,
              "#d8576b"
             ],
             [
              0.6666666666666666,
              "#ed7953"
             ],
             [
              0.7777777777777778,
              "#fb9f3a"
             ],
             [
              0.8888888888888888,
              "#fdca26"
             ],
             [
              1,
              "#f0f921"
             ]
            ],
            "type": "heatmapgl"
           }
          ],
          "histogram": [
           {
            "marker": {
             "pattern": {
              "fillmode": "overlay",
              "size": 10,
              "solidity": 0.2
             }
            },
            "type": "histogram"
           }
          ],
          "histogram2d": [
           {
            "colorbar": {
             "outlinewidth": 0,
             "ticks": ""
            },
            "colorscale": [
             [
              0,
              "#0d0887"
             ],
             [
              0.1111111111111111,
              "#46039f"
             ],
             [
              0.2222222222222222,
              "#7201a8"
             ],
             [
              0.3333333333333333,
              "#9c179e"
             ],
             [
              0.4444444444444444,
              "#bd3786"
             ],
             [
              0.5555555555555556,
              "#d8576b"
             ],
             [
              0.6666666666666666,
              "#ed7953"
             ],
             [
              0.7777777777777778,
              "#fb9f3a"
             ],
             [
              0.8888888888888888,
              "#fdca26"
             ],
             [
              1,
              "#f0f921"
             ]
            ],
            "type": "histogram2d"
           }
          ],
          "histogram2dcontour": [
           {
            "colorbar": {
             "outlinewidth": 0,
             "ticks": ""
            },
            "colorscale": [
             [
              0,
              "#0d0887"
             ],
             [
              0.1111111111111111,
              "#46039f"
             ],
             [
              0.2222222222222222,
              "#7201a8"
             ],
             [
              0.3333333333333333,
              "#9c179e"
             ],
             [
              0.4444444444444444,
              "#bd3786"
             ],
             [
              0.5555555555555556,
              "#d8576b"
             ],
             [
              0.6666666666666666,
              "#ed7953"
             ],
             [
              0.7777777777777778,
              "#fb9f3a"
             ],
             [
              0.8888888888888888,
              "#fdca26"
             ],
             [
              1,
              "#f0f921"
             ]
            ],
            "type": "histogram2dcontour"
           }
          ],
          "mesh3d": [
           {
            "colorbar": {
             "outlinewidth": 0,
             "ticks": ""
            },
            "type": "mesh3d"
           }
          ],
          "parcoords": [
           {
            "line": {
             "colorbar": {
              "outlinewidth": 0,
              "ticks": ""
             }
            },
            "type": "parcoords"
           }
          ],
          "pie": [
           {
            "automargin": true,
            "type": "pie"
           }
          ],
          "scatter": [
           {
            "marker": {
             "line": {
              "color": "#283442"
             }
            },
            "type": "scatter"
           }
          ],
          "scatter3d": [
           {
            "line": {
             "colorbar": {
              "outlinewidth": 0,
              "ticks": ""
             }
            },
            "marker": {
             "colorbar": {
              "outlinewidth": 0,
              "ticks": ""
             }
            },
            "type": "scatter3d"
           }
          ],
          "scattercarpet": [
           {
            "marker": {
             "colorbar": {
              "outlinewidth": 0,
              "ticks": ""
             }
            },
            "type": "scattercarpet"
           }
          ],
          "scattergeo": [
           {
            "marker": {
             "colorbar": {
              "outlinewidth": 0,
              "ticks": ""
             }
            },
            "type": "scattergeo"
           }
          ],
          "scattergl": [
           {
            "marker": {
             "line": {
              "color": "#283442"
             }
            },
            "type": "scattergl"
           }
          ],
          "scattermapbox": [
           {
            "marker": {
             "colorbar": {
              "outlinewidth": 0,
              "ticks": ""
             }
            },
            "type": "scattermapbox"
           }
          ],
          "scatterpolar": [
           {
            "marker": {
             "colorbar": {
              "outlinewidth": 0,
              "ticks": ""
             }
            },
            "type": "scatterpolar"
           }
          ],
          "scatterpolargl": [
           {
            "marker": {
             "colorbar": {
              "outlinewidth": 0,
              "ticks": ""
             }
            },
            "type": "scatterpolargl"
           }
          ],
          "scatterternary": [
           {
            "marker": {
             "colorbar": {
              "outlinewidth": 0,
              "ticks": ""
             }
            },
            "type": "scatterternary"
           }
          ],
          "surface": [
           {
            "colorbar": {
             "outlinewidth": 0,
             "ticks": ""
            },
            "colorscale": [
             [
              0,
              "#0d0887"
             ],
             [
              0.1111111111111111,
              "#46039f"
             ],
             [
              0.2222222222222222,
              "#7201a8"
             ],
             [
              0.3333333333333333,
              "#9c179e"
             ],
             [
              0.4444444444444444,
              "#bd3786"
             ],
             [
              0.5555555555555556,
              "#d8576b"
             ],
             [
              0.6666666666666666,
              "#ed7953"
             ],
             [
              0.7777777777777778,
              "#fb9f3a"
             ],
             [
              0.8888888888888888,
              "#fdca26"
             ],
             [
              1,
              "#f0f921"
             ]
            ],
            "type": "surface"
           }
          ],
          "table": [
           {
            "cells": {
             "fill": {
              "color": "#506784"
             },
             "line": {
              "color": "rgb(17,17,17)"
             }
            },
            "header": {
             "fill": {
              "color": "#2a3f5f"
             },
             "line": {
              "color": "rgb(17,17,17)"
             }
            },
            "type": "table"
           }
          ]
         },
         "layout": {
          "annotationdefaults": {
           "arrowcolor": "#f2f5fa",
           "arrowhead": 0,
           "arrowwidth": 1
          },
          "autotypenumbers": "strict",
          "coloraxis": {
           "colorbar": {
            "outlinewidth": 0,
            "ticks": ""
           }
          },
          "colorscale": {
           "diverging": [
            [
             0,
             "#8e0152"
            ],
            [
             0.1,
             "#c51b7d"
            ],
            [
             0.2,
             "#de77ae"
            ],
            [
             0.3,
             "#f1b6da"
            ],
            [
             0.4,
             "#fde0ef"
            ],
            [
             0.5,
             "#f7f7f7"
            ],
            [
             0.6,
             "#e6f5d0"
            ],
            [
             0.7,
             "#b8e186"
            ],
            [
             0.8,
             "#7fbc41"
            ],
            [
             0.9,
             "#4d9221"
            ],
            [
             1,
             "#276419"
            ]
           ],
           "sequential": [
            [
             0,
             "#0d0887"
            ],
            [
             0.1111111111111111,
             "#46039f"
            ],
            [
             0.2222222222222222,
             "#7201a8"
            ],
            [
             0.3333333333333333,
             "#9c179e"
            ],
            [
             0.4444444444444444,
             "#bd3786"
            ],
            [
             0.5555555555555556,
             "#d8576b"
            ],
            [
             0.6666666666666666,
             "#ed7953"
            ],
            [
             0.7777777777777778,
             "#fb9f3a"
            ],
            [
             0.8888888888888888,
             "#fdca26"
            ],
            [
             1,
             "#f0f921"
            ]
           ],
           "sequentialminus": [
            [
             0,
             "#0d0887"
            ],
            [
             0.1111111111111111,
             "#46039f"
            ],
            [
             0.2222222222222222,
             "#7201a8"
            ],
            [
             0.3333333333333333,
             "#9c179e"
            ],
            [
             0.4444444444444444,
             "#bd3786"
            ],
            [
             0.5555555555555556,
             "#d8576b"
            ],
            [
             0.6666666666666666,
             "#ed7953"
            ],
            [
             0.7777777777777778,
             "#fb9f3a"
            ],
            [
             0.8888888888888888,
             "#fdca26"
            ],
            [
             1,
             "#f0f921"
            ]
           ]
          },
          "colorway": [
           "#636efa",
           "#EF553B",
           "#00cc96",
           "#ab63fa",
           "#FFA15A",
           "#19d3f3",
           "#FF6692",
           "#B6E880",
           "#FF97FF",
           "#FECB52"
          ],
          "font": {
           "color": "#f2f5fa"
          },
          "geo": {
           "bgcolor": "rgb(17,17,17)",
           "lakecolor": "rgb(17,17,17)",
           "landcolor": "rgb(17,17,17)",
           "showlakes": true,
           "showland": true,
           "subunitcolor": "#506784"
          },
          "hoverlabel": {
           "align": "left"
          },
          "hovermode": "closest",
          "mapbox": {
           "style": "dark"
          },
          "paper_bgcolor": "rgb(17,17,17)",
          "plot_bgcolor": "rgb(17,17,17)",
          "polar": {
           "angularaxis": {
            "gridcolor": "#506784",
            "linecolor": "#506784",
            "ticks": ""
           },
           "bgcolor": "rgb(17,17,17)",
           "radialaxis": {
            "gridcolor": "#506784",
            "linecolor": "#506784",
            "ticks": ""
           }
          },
          "scene": {
           "xaxis": {
            "backgroundcolor": "rgb(17,17,17)",
            "gridcolor": "#506784",
            "gridwidth": 2,
            "linecolor": "#506784",
            "showbackground": true,
            "ticks": "",
            "zerolinecolor": "#C8D4E3"
           },
           "yaxis": {
            "backgroundcolor": "rgb(17,17,17)",
            "gridcolor": "#506784",
            "gridwidth": 2,
            "linecolor": "#506784",
            "showbackground": true,
            "ticks": "",
            "zerolinecolor": "#C8D4E3"
           },
           "zaxis": {
            "backgroundcolor": "rgb(17,17,17)",
            "gridcolor": "#506784",
            "gridwidth": 2,
            "linecolor": "#506784",
            "showbackground": true,
            "ticks": "",
            "zerolinecolor": "#C8D4E3"
           }
          },
          "shapedefaults": {
           "line": {
            "color": "#f2f5fa"
           }
          },
          "sliderdefaults": {
           "bgcolor": "#C8D4E3",
           "bordercolor": "rgb(17,17,17)",
           "borderwidth": 1,
           "tickwidth": 0
          },
          "ternary": {
           "aaxis": {
            "gridcolor": "#506784",
            "linecolor": "#506784",
            "ticks": ""
           },
           "baxis": {
            "gridcolor": "#506784",
            "linecolor": "#506784",
            "ticks": ""
           },
           "bgcolor": "rgb(17,17,17)",
           "caxis": {
            "gridcolor": "#506784",
            "linecolor": "#506784",
            "ticks": ""
           }
          },
          "title": {
           "x": 0.05
          },
          "updatemenudefaults": {
           "bgcolor": "#506784",
           "borderwidth": 0
          },
          "xaxis": {
           "automargin": true,
           "gridcolor": "#283442",
           "linecolor": "#506784",
           "ticks": "",
           "title": {
            "standoff": 15
           },
           "zerolinecolor": "#283442",
           "zerolinewidth": 2
          },
          "yaxis": {
           "automargin": true,
           "gridcolor": "#283442",
           "linecolor": "#506784",
           "ticks": "",
           "title": {
            "standoff": 15
           },
           "zerolinecolor": "#283442",
           "zerolinewidth": 2
          }
         }
        },
        "title": {
         "text": "Feature Importance (MAE Perturbation)"
        },
        "xaxis": {
         "anchor": "y",
         "domain": [
          0,
          1
         ],
         "title": {
          "text": "Importance"
         }
        },
        "yaxis": {
         "anchor": "x",
         "domain": [
          0,
          1
         ],
         "title": {
          "text": "Feature"
         }
        }
       }
      }
     },
     "metadata": {},
     "output_type": "display_data"
    }
   ],
   "source": [
    "fig = px.bar(\n",
    "    results_df.query('Importance >= @baseline_mae').iloc[-15:,:], \n",
    "    y='Feature', \n",
    "    x='Importance', \n",
    "    orientation='h', \n",
    "    template='plotly_dark',\n",
    "    title='Feature Importance (MAE Perturbation)'\n",
    "    )\n",
    "fig.update_traces(marker_color='rgba(50, 171, 96, 0.6)')\n",
    "fig.show()"
   ]
  },
  {
   "cell_type": "markdown",
   "metadata": {},
   "source": [
    "## Bidirectional LSTM with Attention"
   ]
  },
  {
   "cell_type": "code",
   "execution_count": 27,
   "metadata": {},
   "outputs": [
    {
     "name": "stdout",
     "output_type": "stream",
     "text": [
      "Model: \"Attentive_BLSTM_60_lags_3_fts\"\n",
      "__________________________________________________________________________________________________\n",
      " Layer (type)                   Output Shape         Param #     Connected to                     \n",
      "==================================================================================================\n",
      " sequential_input (InputLayer)  [(None, 60, 3)]      0           []                               \n",
      "                                                                                                  \n",
      " bidirectional_8 (Bidirectional  (None, 60, 128)     34816       ['sequential_input[0][0]']       \n",
      " )                                                                                                \n",
      "                                                                                                  \n",
      " dropout_8 (Dropout)            (None, 60, 128)      0           ['bidirectional_8[0][0]']        \n",
      "                                                                                                  \n",
      " bidirectional_9 (Bidirectional  (None, 60, 128)     98816       ['dropout_8[0][0]']              \n",
      " )                                                                                                \n",
      "                                                                                                  \n",
      " dropout_9 (Dropout)            (None, 60, 128)      0           ['bidirectional_9[0][0]']        \n",
      "                                                                                                  \n",
      " dense_7 (Dense)                (None, 60, 1)        129         ['dropout_9[0][0]']              \n",
      "                                                                                                  \n",
      " flatten_4 (Flatten)            (None, 60)           0           ['dense_7[0][0]']                \n",
      "                                                                                                  \n",
      " activation_4 (Activation)      (None, 60)           0           ['flatten_4[0][0]']              \n",
      "                                                                                                  \n",
      " repeat_vector_4 (RepeatVector)  (None, 128, 60)     0           ['activation_4[0][0]']           \n",
      "                                                                                                  \n",
      " permute_4 (Permute)            (None, 60, 128)      0           ['repeat_vector_4[0][0]']        \n",
      "                                                                                                  \n",
      " multiply_3 (Multiply)          (None, 60, 128)      0           ['dropout_9[0][0]',              \n",
      "                                                                  'permute_4[0][0]']              \n",
      "                                                                                                  \n",
      " lambda_3 (Lambda)              (None, 128)          0           ['multiply_3[0][0]']             \n",
      "                                                                                                  \n",
      " dense_8 (Dense)                (None, 1)            129         ['lambda_3[0][0]']               \n",
      "                                                                                                  \n",
      "==================================================================================================\n",
      "Total params: 133,890\n",
      "Trainable params: 133,890\n",
      "Non-trainable params: 0\n",
      "__________________________________________________________________________________________________\n",
      "Epoch 1/10\n",
      "2410/2410 - 63s - loss: 0.0447 - mse: 0.0447 - val_loss: 0.4304 - val_mse: 0.4304 - 63s/epoch - 26ms/step\n",
      "Epoch 2/10\n",
      "2410/2410 - 54s - loss: 0.0450 - mse: 0.0450 - val_loss: 0.4304 - val_mse: 0.4304 - 54s/epoch - 23ms/step\n",
      "Epoch 3/10\n",
      "2410/2410 - 56s - loss: 0.0450 - mse: 0.0450 - val_loss: 0.4304 - val_mse: 0.4304 - 56s/epoch - 23ms/step\n",
      "Epoch 4/10\n",
      "2410/2410 - 54s - loss: 0.0450 - mse: 0.0450 - val_loss: 0.4304 - val_mse: 0.4304 - 54s/epoch - 23ms/step\n",
      "Epoch 5/10\n",
      "2410/2410 - 55s - loss: 0.0450 - mse: 0.0450 - val_loss: 0.4304 - val_mse: 0.4304 - 55s/epoch - 23ms/step\n",
      "Epoch 6/10\n",
      "2410/2410 - 54s - loss: 0.0450 - mse: 0.0450 - val_loss: 0.4304 - val_mse: 0.4304 - 54s/epoch - 23ms/step\n"
     ]
    },
    {
     "data": {
      "image/png": "[encoded data removed]",
      "text/plain": [
       "<Figure size 432x288 with 1 Axes>"
      ]
     },
     "metadata": {
      "needs_background": "light"
     },
     "output_type": "display_data"
    }
   ],
   "source": [
    "# Prepare the samples\n",
    "X_train, y_train, X_test, y_test, scaler, test_dates = prep_dsets['Bitcoin']\n",
    "\n",
    "# Build lstm model\n",
    "ablstm_model = build_AttentiveBLSTM(\n",
    "                        in_shape=(X_train.shape[1], X_train.shape[2]),\n",
    "                        num_rnns=2,\n",
    "                        dim_rnn=64,\n",
    "                        drop=True\n",
    "                        )\n",
    "\n",
    "# This EarlyStopping callback stops training once it stops improving\n",
    "# so that you can set a high number of epochs and let it choose when to stop\n",
    "monitor = EarlyStopping(monitor='val_loss', \n",
    "                        min_delta=1e-3, \n",
    "                        patience=5, \n",
    "                        verbose=0, \n",
    "                        mode='auto', \n",
    "                        restore_best_weights=True)\n",
    "\n",
    "# Train the model\n",
    "history = ablstm_model.fit(\n",
    "                        X_train, y_train, \n",
    "                        validation_data=(X_test, y_test),\n",
    "                        callbacks=[monitor],\n",
    "                        verbose=2, \n",
    "                        epochs=10,\n",
    "                        batch_size=1 #X_train.shape[0]\n",
    "                        )\n",
    "\n",
    "# visualize training\n",
    "plt.plot(history.history['mse'], label='train')\n",
    "plt.plot(history.history['val_mse'], label='test')\n",
    "plt.legend()\n",
    "plt.show()\n",
    "\n",
    "save_model(ablstm_model, coin_ticker='BTC')"
   ]
  },
  {
   "cell_type": "code",
   "execution_count": 28,
   "metadata": {},
   "outputs": [
    {
     "name": "stdout",
     "output_type": "stream",
     "text": [
      "12/12 [==============================] - 2s 19ms/step\n"
     ]
    },
    {
     "data": {
      "application/vnd.plotly.v1+json": {
       "config": {
        "plotlyServerURL": "https://plot.ly"
       },
       "data": [
        {
         "hovertemplate": "%{y:$,.2f}",
         "legendgroup": "Observed",
         "line": {
          "color": "#636efa",
          "dash": "solid"
         },
         "marker": {
          "symbol": "circle"
         },
         "mode": "lines",
         "name": "Observed",
         "orientation": "v",
         "showlegend": true,
         "type": "scatter",
         "x": [
          "2021-06-22T00:00:00",
          "2021-06-23T00:00:00",
          "2021-06-24T00:00:00",
          "2021-06-25T00:00:00",
          "2021-06-26T00:00:00",
          "2021-06-27T00:00:00",
          "2021-06-28T00:00:00",
          "2021-06-29T00:00:00",
          "2021-06-30T00:00:00",
          "2021-07-01T00:00:00",
          "2021-07-02T00:00:00",
          "2021-07-03T00:00:00",
          "2021-07-04T00:00:00",
          "2021-07-05T00:00:00",
          "2021-07-06T00:00:00",
          "2021-07-07T00:00:00",
          "2021-07-08T00:00:00",
          "2021-07-09T00:00:00",
          "2021-07-10T00:00:00",
          "2021-07-11T00:00:00",
          "2021-07-12T00:00:00",
          "2021-07-13T00:00:00",
          "2021-07-14T00:00:00",
          "2021-07-15T00:00:00",
          "2021-07-16T00:00:00",
          "2021-07-17T00:00:00",
          "2021-07-18T00:00:00",
          "2021-07-19T00:00:00",
          "2021-07-20T00:00:00",
          "2021-07-21T00:00:00",
          "2021-07-22T00:00:00",
          "2021-07-23T00:00:00",
          "2021-07-24T00:00:00",
          "2021-07-25T00:00:00",
          "2021-07-26T00:00:00",
          "2021-07-27T00:00:00",
          "2021-07-28T00:00:00",
          "2021-07-29T00:00:00",
          "2021-07-30T00:00:00",
          "2021-07-31T00:00:00",
          "2021-08-01T00:00:00",
          "2021-08-02T00:00:00",
          "2021-08-03T00:00:00",
          "2021-08-04T00:00:00",
          "2021-08-05T00:00:00",
          "2021-08-06T00:00:00",
          "2021-08-07T00:00:00",
          "2021-08-08T00:00:00",
          "2021-08-09T00:00:00",
          "2021-08-10T00:00:00",
          "2021-08-11T00:00:00",
          "2021-08-12T00:00:00",
          "2021-08-13T00:00:00",
          "2021-08-14T00:00:00",
          "2021-08-15T00:00:00",
          "2021-08-16T00:00:00",
          "2021-08-17T00:00:00",
          "2021-08-18T00:00:00",
          "2021-08-19T00:00:00",
          "2021-08-20T00:00:00",
          "2021-08-21T00:00:00",
          "2021-08-22T00:00:00",
          "2021-08-23T00:00:00",
          "2021-08-24T00:00:00",
          "2021-08-25T00:00:00",
          "2021-08-26T00:00:00",
          "2021-08-27T00:00:00",
          "2021-08-28T00:00:00",
          "2021-08-29T00:00:00",
          "2021-08-30T00:00:00",
          "2021-08-31T00:00:00",
          "2021-09-01T00:00:00",
          "2021-09-02T00:00:00",
          "2021-09-03T00:00:00",
          "2021-09-04T00:00:00",
          "2021-09-05T00:00:00",
          "2021-09-06T00:00:00",
          "2021-09-07T00:00:00",
          "2021-09-08T00:00:00",
          "2021-09-09T00:00:00",
          "2021-09-10T00:00:00",
          "2021-09-11T00:00:00",
          "2021-09-12T00:00:00",
          "2021-09-13T00:00:00",
          "2021-09-14T00:00:00",
          "2021-09-15T00:00:00",
          "2021-09-16T00:00:00",
          "2021-09-17T00:00:00",
          "2021-09-18T00:00:00",
          "2021-09-19T00:00:00",
          "2021-09-20T00:00:00",
          "2021-09-21T00:00:00",
          "2021-09-22T00:00:00",
          "2021-09-23T00:00:00",
          "2021-09-24T00:00:00",
          "2021-09-25T00:00:00",
          "2021-09-26T00:00:00",
          "2021-09-27T00:00:00",
          "2021-09-28T00:00:00",
          "2021-09-29T00:00:00",
          "2021-09-30T00:00:00",
          "2021-10-01T00:00:00",
          "2021-10-02T00:00:00",
          "2021-10-03T00:00:00",
          "2021-10-04T00:00:00",
          "2021-10-05T00:00:00",
          "2021-10-06T00:00:00",
          "2021-10-07T00:00:00",
          "2021-10-08T00:00:00",
          "2021-10-09T00:00:00",
          "2021-10-10T00:00:00",
          "2021-10-11T00:00:00",
          "2021-10-12T00:00:00",
          "2021-10-13T00:00:00",
          "2021-10-14T00:00:00",
          "2021-10-15T00:00:00",
          "2021-10-16T00:00:00",
          "2021-10-17T00:00:00",
          "2021-10-18T00:00:00",
          "2021-10-19T00:00:00",
          "2021-10-20T00:00:00",
          "2021-10-21T00:00:00",
          "2021-10-22T00:00:00",
          "2021-10-23T00:00:00",
          "2021-10-24T00:00:00",
          "2021-10-25T00:00:00",
          "2021-10-26T00:00:00",
          "2021-10-27T00:00:00",
          "2021-10-28T00:00:00",
          "2021-10-29T00:00:00",
          "2021-10-30T00:00:00",
          "2021-10-31T00:00:00",
          "2021-11-01T00:00:00",
          "2021-11-02T00:00:00",
          "2021-11-03T00:00:00",
          "2021-11-04T00:00:00",
          "2021-11-05T00:00:00",
          "2021-11-06T00:00:00",
          "2021-11-07T00:00:00",
          "2021-11-08T00:00:00",
          "2021-11-09T00:00:00",
          "2021-11-10T00:00:00",
          "2021-11-11T00:00:00",
          "2021-11-12T00:00:00",
          "2021-11-13T00:00:00",
          "2021-11-14T00:00:00",
          "2021-11-15T00:00:00",
          "2021-11-16T00:00:00",
          "2021-11-17T00:00:00",
          "2021-11-18T00:00:00",
          "2021-11-19T00:00:00",
          "2021-11-20T00:00:00",
          "2021-11-21T00:00:00",
          "2021-11-22T00:00:00",
          "2021-11-23T00:00:00",
          "2021-11-24T00:00:00",
          "2021-11-25T00:00:00",
          "2021-11-26T00:00:00",
          "2021-11-27T00:00:00",
          "2021-11-28T00:00:00",
          "2021-11-29T00:00:00",
          "2021-11-30T00:00:00",
          "2021-12-01T00:00:00",
          "2021-12-02T00:00:00",
          "2021-12-03T00:00:00",
          "2021-12-04T00:00:00",
          "2021-12-05T00:00:00",
          "2021-12-06T00:00:00",
          "2021-12-07T00:00:00",
          "2021-12-08T00:00:00",
          "2021-12-09T00:00:00",
          "2021-12-10T00:00:00",
          "2021-12-11T00:00:00",
          "2021-12-12T00:00:00",
          "2021-12-13T00:00:00",
          "2021-12-14T00:00:00",
          "2021-12-15T00:00:00",
          "2021-12-16T00:00:00",
          "2021-12-17T00:00:00",
          "2021-12-18T00:00:00",
          "2021-12-19T00:00:00",
          "2021-12-20T00:00:00",
          "2021-12-21T00:00:00",
          "2021-12-22T00:00:00",
          "2021-12-23T00:00:00",
          "2021-12-24T00:00:00",
          "2021-12-25T00:00:00",
          "2021-12-26T00:00:00",
          "2021-12-27T00:00:00",
          "2021-12-28T00:00:00",
          "2021-12-29T00:00:00",
          "2021-12-30T00:00:00",
          "2021-12-31T00:00:00",
          "2022-01-01T00:00:00",
          "2022-01-02T00:00:00",
          "2022-01-03T00:00:00",
          "2022-01-04T00:00:00",
          "2022-01-05T00:00:00",
          "2022-01-06T00:00:00",
          "2022-01-07T00:00:00",
          "2022-01-08T00:00:00",
          "2022-01-09T00:00:00",
          "2022-01-10T00:00:00",
          "2022-01-11T00:00:00",
          "2022-01-12T00:00:00",
          "2022-01-13T00:00:00",
          "2022-01-14T00:00:00",
          "2022-01-15T00:00:00",
          "2022-01-16T00:00:00",
          "2022-01-17T00:00:00",
          "2022-01-18T00:00:00",
          "2022-01-19T00:00:00",
          "2022-01-20T00:00:00",
          "2022-01-21T00:00:00",
          "2022-01-22T00:00:00",
          "2022-01-23T00:00:00",
          "2022-01-24T00:00:00",
          "2022-01-25T00:00:00",
          "2022-01-26T00:00:00",
          "2022-01-27T00:00:00",
          "2022-01-28T00:00:00",
          "2022-01-29T00:00:00",
          "2022-01-30T00:00:00",
          "2022-01-31T00:00:00",
          "2022-02-01T00:00:00",
          "2022-02-02T00:00:00",
          "2022-02-03T00:00:00",
          "2022-02-04T00:00:00",
          "2022-02-05T00:00:00",
          "2022-02-06T00:00:00",
          "2022-02-07T00:00:00",
          "2022-02-08T00:00:00",
          "2022-02-09T00:00:00",
          "2022-02-10T00:00:00",
          "2022-02-11T00:00:00",
          "2022-02-12T00:00:00",
          "2022-02-13T00:00:00",
          "2022-02-14T00:00:00",
          "2022-02-15T00:00:00",
          "2022-02-16T00:00:00",
          "2022-02-17T00:00:00",
          "2022-02-18T00:00:00",
          "2022-02-19T00:00:00",
          "2022-02-20T00:00:00",
          "2022-02-21T00:00:00",
          "2022-02-22T00:00:00",
          "2022-02-23T00:00:00",
          "2022-02-24T00:00:00",
          "2022-02-25T00:00:00",
          "2022-02-26T00:00:00",
          "2022-02-27T00:00:00",
          "2022-02-28T00:00:00",
          "2022-03-01T00:00:00",
          "2022-03-02T00:00:00",
          "2022-03-03T00:00:00",
          "2022-03-04T00:00:00",
          "2022-03-05T00:00:00",
          "2022-03-06T00:00:00",
          "2022-03-07T00:00:00",
          "2022-03-08T00:00:00",
          "2022-03-09T00:00:00",
          "2022-03-10T00:00:00",
          "2022-03-11T00:00:00",
          "2022-03-12T00:00:00",
          "2022-03-13T00:00:00",
          "2022-03-14T00:00:00",
          "2022-03-15T00:00:00",
          "2022-03-16T00:00:00",
          "2022-03-17T00:00:00",
          "2022-03-18T00:00:00",
          "2022-03-19T00:00:00",
          "2022-03-20T00:00:00",
          "2022-03-21T00:00:00",
          "2022-03-22T00:00:00",
          "2022-03-23T00:00:00",
          "2022-03-24T00:00:00",
          "2022-03-25T00:00:00",
          "2022-03-26T00:00:00",
          "2022-03-27T00:00:00",
          "2022-03-28T00:00:00",
          "2022-03-29T00:00:00",
          "2022-03-30T00:00:00",
          "2022-03-31T00:00:00",
          "2022-04-01T00:00:00",
          "2022-04-02T00:00:00",
          "2022-04-03T00:00:00",
          "2022-04-04T00:00:00",
          "2022-04-05T00:00:00",
          "2022-04-06T00:00:00",
          "2022-04-07T00:00:00",
          "2022-04-08T00:00:00",
          "2022-04-09T00:00:00",
          "2022-04-10T00:00:00",
          "2022-04-11T00:00:00",
          "2022-04-12T00:00:00",
          "2022-04-13T00:00:00",
          "2022-04-14T00:00:00",
          "2022-04-15T00:00:00",
          "2022-04-16T00:00:00",
          "2022-04-17T00:00:00",
          "2022-04-18T00:00:00",
          "2022-04-19T00:00:00",
          "2022-04-20T00:00:00",
          "2022-04-21T00:00:00",
          "2022-04-22T00:00:00",
          "2022-04-23T00:00:00",
          "2022-04-24T00:00:00",
          "2022-04-25T00:00:00",
          "2022-04-26T00:00:00",
          "2022-04-27T00:00:00",
          "2022-04-28T00:00:00",
          "2022-04-29T00:00:00",
          "2022-04-30T00:00:00",
          "2022-05-01T00:00:00",
          "2022-05-02T00:00:00",
          "2022-05-03T00:00:00",
          "2022-05-04T00:00:00",
          "2022-05-05T00:00:00",
          "2022-05-06T00:00:00",
          "2022-05-07T00:00:00",
          "2022-05-08T00:00:00",
          "2022-05-09T00:00:00",
          "2022-05-10T00:00:00",
          "2022-05-11T00:00:00",
          "2022-05-12T00:00:00",
          "2022-05-13T00:00:00",
          "2022-05-14T00:00:00",
          "2022-05-15T00:00:00",
          "2022-05-16T00:00:00",
          "2022-05-17T00:00:00",
          "2022-05-18T00:00:00",
          "2022-05-19T00:00:00",
          "2022-05-20T00:00:00",
          "2022-05-21T00:00:00",
          "2022-05-22T00:00:00",
          "2022-05-23T00:00:00",
          "2022-05-24T00:00:00",
          "2022-05-25T00:00:00",
          "2022-05-26T00:00:00",
          "2022-05-27T00:00:00",
          "2022-05-28T00:00:00",
          "2022-05-29T00:00:00",
          "2022-05-30T00:00:00",
          "2022-05-31T00:00:00",
          "2022-06-01T00:00:00",
          "2022-06-02T00:00:00",
          "2022-06-03T00:00:00",
          "2022-06-04T00:00:00",
          "2022-06-05T00:00:00",
          "2022-06-06T00:00:00",
          "2022-06-07T00:00:00",
          "2022-06-08T00:00:00",
          "2022-06-09T00:00:00",
          "2022-06-10T00:00:00",
          "2022-06-11T00:00:00",
          "2022-06-12T00:00:00",
          "2022-06-13T00:00:00",
          "2022-06-14T00:00:00",
          "2022-06-15T00:00:00",
          "2022-06-16T00:00:00",
          "2022-06-17T00:00:00",
          "2022-06-18T00:00:00",
          "2022-06-19T00:00:00",
          "2022-06-20T00:00:00",
          "2022-06-22T00:00:00"
         ],
         "xaxis": "x",
         "y": [
          32505.66015625,
          33723.02734375,
          34662.4375,
          31637.779296875,
          32186.27734375,
          34649.64453125,
          34434.3359375,
          35867.77734375,
          35040.8359375,
          33572.1171875,
          33897.046875,
          34668.546875,
          35287.78125,
          33746.00390625,
          34235.1953125,
          33855.328125,
          32877.37109375,
          33798.01171875,
          33520.51953125,
          34240.1875,
          33155.84765625,
          32702.025390625,
          32822.34765625,
          31780.73046875,
          31421.5390625,
          31533.068359375,
          31796.810546875,
          30817.83203125,
          29807.34765625,
          32110.693359375,
          32313.10546875,
          33581.55078125,
          34292.4453125,
          35350.1875,
          37337.53515625,
          39406.94140625,
          39995.90625,
          40008.421875,
          42235.546875,
          41626.1953125,
          39974.89453125,
          39201.9453125,
          38152.98046875,
          39747.50390625,
          40869.5546875,
          42816.5,
          44555.80078125,
          43798.1171875,
          46365.40234375,
          45585.03125,
          45593.63671875,
          44428.2890625,
          47793.3203125,
          47096.9453125,
          47047.00390625,
          46004.484375,
          44695.359375,
          44801.18750000001,
          46717.578125,
          49339.17578125,
          48905.4921875,
          49321.65234375,
          49546.1484375,
          47706.1171875,
          48960.7890625,
          46942.21875,
          49058.66796875,
          48902.40234375,
          48829.83203125,
          47054.984375,
          47166.6875,
          48847.02734375,
          49327.72265625,
          50025.375,
          49944.62500000001,
          51753.41015625,
          52633.53515625,
          46811.12890625,
          46091.390625,
          46391.421875,
          44883.91015625,
          45201.45703125,
          46063.26953125,
          44963.07421875,
          47092.4921875,
          48176.34765625,
          47783.359375,
          47267.51953125,
          48278.36328125,
          47260.21875,
          42843.80078125,
          40693.67578125,
          43574.5078125,
          44895.09765625,
          42839.75,
          42716.59375,
          43208.5390625,
          42235.73046875,
          41034.54296874999,
          41564.36328125,
          43790.89453125,
          48116.94140625,
          47711.48828125,
          48199.953125,
          49112.90234375,
          51514.8125,
          55361.44921875,
          53805.984375,
          53967.84765625,
          54968.22265625,
          54771.578125,
          57484.78906250001,
          56041.05859375,
          57401.09765625,
          57321.5234375,
          61593.94921875,
          60892.1796875,
          61553.6171875,
          62026.078125,
          64261.9921875,
          65992.8359375,
          62210.171875,
          60692.265625,
          61393.6171875,
          60930.8359375,
          63039.82421875,
          60363.79296875,
          58482.38671875,
          60622.13671875,
          62227.96484375,
          61888.83203125,
          61318.95703125,
          61004.40625,
          63226.40234375,
          62970.046875,
          61452.23046875,
          61125.67578125,
          61527.48046875,
          63326.98828125,
          67566.828125,
          66971.828125,
          64995.23046875,
          64949.9609375,
          64155.94140625,
          64469.52734375,
          65466.83984375,
          63557.87109375,
          60161.24609375,
          60368.01171875,
          56942.13671875,
          58119.578125,
          59697.19531250001,
          58730.4765625,
          56289.2890625,
          57569.07421875,
          56280.42578125,
          57274.6796875,
          53569.765625,
          54815.078125,
          57248.45703124999,
          57806.56640625,
          57005.42578125,
          57229.828125,
          56477.81640625,
          53598.24609375,
          49200.703125,
          49368.84765625,
          50582.625,
          50700.0859375,
          50504.796875,
          47672.12109375,
          47243.3046875,
          49362.5078125,
          50098.3359375,
          46737.48046875,
          46612.6328125,
          48896.72265625,
          47665.42578125,
          46202.14453125,
          46848.77734375,
          46707.015625,
          46880.27734375,
          48936.61328125,
          48628.51171875,
          50784.5390625,
          50822.1953125,
          50429.85937500001,
          50809.515625,
          50640.41796875,
          47588.85546875,
          46444.7109375,
          47178.125,
          46306.4453125,
          47686.8125,
          47345.21875,
          46458.1171875,
          45897.57421875,
          43569.00390625,
          43160.9296875,
          41557.90234375,
          41733.94140625,
          41911.6015625,
          41821.26171875,
          42735.85546875,
          43949.1015625,
          42591.5703125,
          43099.69921875,
          43177.3984375,
          43113.87890625,
          42250.55078125,
          42375.6328125,
          41744.328125,
          40680.41796875,
          36457.31640625,
          35030.25,
          36276.8046875,
          36654.328125,
          36954.00390625,
          36852.12109375,
          37138.234375,
          37784.33203125,
          38138.1796875,
          37917.6015625,
          38483.125,
          38743.2734375,
          36952.984375,
          37154.6015625,
          41500.875,
          41441.1640625,
          42412.43359375,
          43840.28515625,
          44118.4453125,
          44338.796875,
          43565.11328125,
          42407.9375,
          42244.46875,
          42197.515625,
          42586.91796875,
          44575.203125,
          43961.859375,
          40538.01171875,
          40030.9765625,
          40122.15625,
          38431.37890625,
          37075.28125,
          38286.02734375,
          37296.5703125,
          38332.609375,
          39214.21875,
          39105.1484375,
          37709.78515625,
          43193.234375,
          44354.63671875,
          43924.1171875,
          42451.7890625,
          39137.60546875,
          39400.5859375,
          38419.984375,
          38062.0390625,
          38737.26953125,
          41982.92578125,
          39437.4609375,
          38794.97265625,
          38904.01171875,
          37849.6640625,
          39666.75390625,
          39338.78515625,
          41143.9296875,
          40951.37890625,
          41801.15625,
          42190.65234375,
          41247.82421875,
          41077.99609375,
          42358.80859375,
          42892.95703125,
          43960.93359375,
          44348.73046875,
          44500.828125,
          46820.4921875,
          47128.00390625,
          47465.73046875,
          47062.6640625,
          45538.67578125,
          46281.64453125,
          45868.94921875,
          46453.56640625,
          46622.67578125,
          45555.9921875,
          43206.73828125,
          43503.84765625,
          42287.6640625,
          42782.13671875,
          42207.671875,
          39521.90234375,
          40127.18359375,
          41166.73046875,
          39935.515625,
          40553.46484375,
          40424.484375,
          39716.953125,
          40826.21484375,
          41502.75,
          41374.37890625,
          40527.36328125,
          39740.3203125,
          39486.73046875,
          39469.29296875,
          40458.30859375,
          38117.4609375,
          39241.12109375,
          39773.828125,
          38609.82421875,
          37714.875,
          38469.09375,
          38529.328125,
          37750.453125,
          39698.37109375,
          36575.140625,
          36040.921875,
          35501.953125,
          34059.265625,
          30296.953125,
          31022.90625,
          28936.35546875,
          29047.751953125,
          29283.103515625,
          30101.265625,
          31305.11328125,
          29862.91796875,
          30425.857421875,
          28720.271484375,
          30314.333984375,
          29200.740234375,
          29432.2265625,
          30323.722656250004,
          29098.91015625,
          29655.5859375,
          29562.361328125,
          29267.224609375,
          28627.57421875,
          28814.900390625,
          29445.95703125,
          31726.390625,
          31792.310546875,
          29799.080078125,
          30467.48828125,
          29704.390625,
          29832.9140625,
          29906.662109375,
          31370.671875,
          31155.478515625,
          30214.35546875,
          30111.998046875,
          29083.8046875,
          28360.810546875,
          26762.6484375,
          22487.388671875,
          22206.79296875,
          22572.839843750004,
          20381.650390625,
          20471.482421875,
          19017.642578125,
          20553.271484375,
          20599.537109375,
          20661.78125
         ],
         "yaxis": "y"
        },
        {
         "hovertemplate": "%{y:$,.2f}",
         "legendgroup": "Predicted",
         "line": {
          "color": "#EF553B",
          "dash": "solid"
         },
         "marker": {
          "symbol": "circle"
         },
         "mode": "lines",
         "name": "Predicted",
         "orientation": "v",
         "showlegend": true,
         "type": "scatter",
         "x": [
          "2021-06-22T00:00:00",
          "2021-06-23T00:00:00",
          "2021-06-24T00:00:00",
          "2021-06-25T00:00:00",
          "2021-06-26T00:00:00",
          "2021-06-27T00:00:00",
          "2021-06-28T00:00:00",
          "2021-06-29T00:00:00",
          "2021-06-30T00:00:00",
          "2021-07-01T00:00:00",
          "2021-07-02T00:00:00",
          "2021-07-03T00:00:00",
          "2021-07-04T00:00:00",
          "2021-07-05T00:00:00",
          "2021-07-06T00:00:00",
          "2021-07-07T00:00:00",
          "2021-07-08T00:00:00",
          "2021-07-09T00:00:00",
          "2021-07-10T00:00:00",
          "2021-07-11T00:00:00",
          "2021-07-12T00:00:00",
          "2021-07-13T00:00:00",
          "2021-07-14T00:00:00",
          "2021-07-15T00:00:00",
          "2021-07-16T00:00:00",
          "2021-07-17T00:00:00",
          "2021-07-18T00:00:00",
          "2021-07-19T00:00:00",
          "2021-07-20T00:00:00",
          "2021-07-21T00:00:00",
          "2021-07-22T00:00:00",
          "2021-07-23T00:00:00",
          "2021-07-24T00:00:00",
          "2021-07-25T00:00:00",
          "2021-07-26T00:00:00",
          "2021-07-27T00:00:00",
          "2021-07-28T00:00:00",
          "2021-07-29T00:00:00",
          "2021-07-30T00:00:00",
          "2021-07-31T00:00:00",
          "2021-08-01T00:00:00",
          "2021-08-02T00:00:00",
          "2021-08-03T00:00:00",
          "2021-08-04T00:00:00",
          "2021-08-05T00:00:00",
          "2021-08-06T00:00:00",
          "2021-08-07T00:00:00",
          "2021-08-08T00:00:00",
          "2021-08-09T00:00:00",
          "2021-08-10T00:00:00",
          "2021-08-11T00:00:00",
          "2021-08-12T00:00:00",
          "2021-08-13T00:00:00",
          "2021-08-14T00:00:00",
          "2021-08-15T00:00:00",
          "2021-08-16T00:00:00",
          "2021-08-17T00:00:00",
          "2021-08-18T00:00:00",
          "2021-08-19T00:00:00",
          "2021-08-20T00:00:00",
          "2021-08-21T00:00:00",
          "2021-08-22T00:00:00",
          "2021-08-23T00:00:00",
          "2021-08-24T00:00:00",
          "2021-08-25T00:00:00",
          "2021-08-26T00:00:00",
          "2021-08-27T00:00:00",
          "2021-08-28T00:00:00",
          "2021-08-29T00:00:00",
          "2021-08-30T00:00:00",
          "2021-08-31T00:00:00",
          "2021-09-01T00:00:00",
          "2021-09-02T00:00:00",
          "2021-09-03T00:00:00",
          "2021-09-04T00:00:00",
          "2021-09-05T00:00:00",
          "2021-09-06T00:00:00",
          "2021-09-07T00:00:00",
          "2021-09-08T00:00:00",
          "2021-09-09T00:00:00",
          "2021-09-10T00:00:00",
          "2021-09-11T00:00:00",
          "2021-09-12T00:00:00",
          "2021-09-13T00:00:00",
          "2021-09-14T00:00:00",
          "2021-09-15T00:00:00",
          "2021-09-16T00:00:00",
          "2021-09-17T00:00:00",
          "2021-09-18T00:00:00",
          "2021-09-19T00:00:00",
          "2021-09-20T00:00:00",
          "2021-09-21T00:00:00",
          "2021-09-22T00:00:00",
          "2021-09-23T00:00:00",
          "2021-09-24T00:00:00",
          "2021-09-25T00:00:00",
          "2021-09-26T00:00:00",
          "2021-09-27T00:00:00",
          "2021-09-28T00:00:00",
          "2021-09-29T00:00:00",
          "2021-09-30T00:00:00",
          "2021-10-01T00:00:00",
          "2021-10-02T00:00:00",
          "2021-10-03T00:00:00",
          "2021-10-04T00:00:00",
          "2021-10-05T00:00:00",
          "2021-10-06T00:00:00",
          "2021-10-07T00:00:00",
          "2021-10-08T00:00:00",
          "2021-10-09T00:00:00",
          "2021-10-10T00:00:00",
          "2021-10-11T00:00:00",
          "2021-10-12T00:00:00",
          "2021-10-13T00:00:00",
          "2021-10-14T00:00:00",
          "2021-10-15T00:00:00",
          "2021-10-16T00:00:00",
          "2021-10-17T00:00:00",
          "2021-10-18T00:00:00",
          "2021-10-19T00:00:00",
          "2021-10-20T00:00:00",
          "2021-10-21T00:00:00",
          "2021-10-22T00:00:00",
          "2021-10-23T00:00:00",
          "2021-10-24T00:00:00",
          "2021-10-25T00:00:00",
          "2021-10-26T00:00:00",
          "2021-10-27T00:00:00",
          "2021-10-28T00:00:00",
          "2021-10-29T00:00:00",
          "2021-10-30T00:00:00",
          "2021-10-31T00:00:00",
          "2021-11-01T00:00:00",
          "2021-11-02T00:00:00",
          "2021-11-03T00:00:00",
          "2021-11-04T00:00:00",
          "2021-11-05T00:00:00",
          "2021-11-06T00:00:00",
          "2021-11-07T00:00:00",
          "2021-11-08T00:00:00",
          "2021-11-09T00:00:00",
          "2021-11-10T00:00:00",
          "2021-11-11T00:00:00",
          "2021-11-12T00:00:00",
          "2021-11-13T00:00:00",
          "2021-11-14T00:00:00",
          "2021-11-15T00:00:00",
          "2021-11-16T00:00:00",
          "2021-11-17T00:00:00",
          "2021-11-18T00:00:00",
          "2021-11-19T00:00:00",
          "2021-11-20T00:00:00",
          "2021-11-21T00:00:00",
          "2021-11-22T00:00:00",
          "2021-11-23T00:00:00",
          "2021-11-24T00:00:00",
          "2021-11-25T00:00:00",
          "2021-11-26T00:00:00",
          "2021-11-27T00:00:00",
          "2021-11-28T00:00:00",
          "2021-11-29T00:00:00",
          "2021-11-30T00:00:00",
          "2021-12-01T00:00:00",
          "2021-12-02T00:00:00",
          "2021-12-03T00:00:00",
          "2021-12-04T00:00:00",
          "2021-12-05T00:00:00",
          "2021-12-06T00:00:00",
          "2021-12-07T00:00:00",
          "2021-12-08T00:00:00",
          "2021-12-09T00:00:00",
          "2021-12-10T00:00:00",
          "2021-12-11T00:00:00",
          "2021-12-12T00:00:00",
          "2021-12-13T00:00:00",
          "2021-12-14T00:00:00",
          "2021-12-15T00:00:00",
          "2021-12-16T00:00:00",
          "2021-12-17T00:00:00",
          "2021-12-18T00:00:00",
          "2021-12-19T00:00:00",
          "2021-12-20T00:00:00",
          "2021-12-21T00:00:00",
          "2021-12-22T00:00:00",
          "2021-12-23T00:00:00",
          "2021-12-24T00:00:00",
          "2021-12-25T00:00:00",
          "2021-12-26T00:00:00",
          "2021-12-27T00:00:00",
          "2021-12-28T00:00:00",
          "2021-12-29T00:00:00",
          "2021-12-30T00:00:00",
          "2021-12-31T00:00:00",
          "2022-01-01T00:00:00",
          "2022-01-02T00:00:00",
          "2022-01-03T00:00:00",
          "2022-01-04T00:00:00",
          "2022-01-05T00:00:00",
          "2022-01-06T00:00:00",
          "2022-01-07T00:00:00",
          "2022-01-08T00:00:00",
          "2022-01-09T00:00:00",
          "2022-01-10T00:00:00",
          "2022-01-11T00:00:00",
          "2022-01-12T00:00:00",
          "2022-01-13T00:00:00",
          "2022-01-14T00:00:00",
          "2022-01-15T00:00:00",
          "2022-01-16T00:00:00",
          "2022-01-17T00:00:00",
          "2022-01-18T00:00:00",
          "2022-01-19T00:00:00",
          "2022-01-20T00:00:00",
          "2022-01-21T00:00:00",
          "2022-01-22T00:00:00",
          "2022-01-23T00:00:00",
          "2022-01-24T00:00:00",
          "2022-01-25T00:00:00",
          "2022-01-26T00:00:00",
          "2022-01-27T00:00:00",
          "2022-01-28T00:00:00",
          "2022-01-29T00:00:00",
          "2022-01-30T00:00:00",
          "2022-01-31T00:00:00",
          "2022-02-01T00:00:00",
          "2022-02-02T00:00:00",
          "2022-02-03T00:00:00",
          "2022-02-04T00:00:00",
          "2022-02-05T00:00:00",
          "2022-02-06T00:00:00",
          "2022-02-07T00:00:00",
          "2022-02-08T00:00:00",
          "2022-02-09T00:00:00",
          "2022-02-10T00:00:00",
          "2022-02-11T00:00:00",
          "2022-02-12T00:00:00",
          "2022-02-13T00:00:00",
          "2022-02-14T00:00:00",
          "2022-02-15T00:00:00",
          "2022-02-16T00:00:00",
          "2022-02-17T00:00:00",
          "2022-02-18T00:00:00",
          "2022-02-19T00:00:00",
          "2022-02-20T00:00:00",
          "2022-02-21T00:00:00",
          "2022-02-22T00:00:00",
          "2022-02-23T00:00:00",
          "2022-02-24T00:00:00",
          "2022-02-25T00:00:00",
          "2022-02-26T00:00:00",
          "2022-02-27T00:00:00",
          "2022-02-28T00:00:00",
          "2022-03-01T00:00:00",
          "2022-03-02T00:00:00",
          "2022-03-03T00:00:00",
          "2022-03-04T00:00:00",
          "2022-03-05T00:00:00",
          "2022-03-06T00:00:00",
          "2022-03-07T00:00:00",
          "2022-03-08T00:00:00",
          "2022-03-09T00:00:00",
          "2022-03-10T00:00:00",
          "2022-03-11T00:00:00",
          "2022-03-12T00:00:00",
          "2022-03-13T00:00:00",
          "2022-03-14T00:00:00",
          "2022-03-15T00:00:00",
          "2022-03-16T00:00:00",
          "2022-03-17T00:00:00",
          "2022-03-18T00:00:00",
          "2022-03-19T00:00:00",
          "2022-03-20T00:00:00",
          "2022-03-21T00:00:00",
          "2022-03-22T00:00:00",
          "2022-03-23T00:00:00",
          "2022-03-24T00:00:00",
          "2022-03-25T00:00:00",
          "2022-03-26T00:00:00",
          "2022-03-27T00:00:00",
          "2022-03-28T00:00:00",
          "2022-03-29T00:00:00",
          "2022-03-30T00:00:00",
          "2022-03-31T00:00:00",
          "2022-04-01T00:00:00",
          "2022-04-02T00:00:00",
          "2022-04-03T00:00:00",
          "2022-04-04T00:00:00",
          "2022-04-05T00:00:00",
          "2022-04-06T00:00:00",
          "2022-04-07T00:00:00",
          "2022-04-08T00:00:00",
          "2022-04-09T00:00:00",
          "2022-04-10T00:00:00",
          "2022-04-11T00:00:00",
          "2022-04-12T00:00:00",
          "2022-04-13T00:00:00",
          "2022-04-14T00:00:00",
          "2022-04-15T00:00:00",
          "2022-04-16T00:00:00",
          "2022-04-17T00:00:00",
          "2022-04-18T00:00:00",
          "2022-04-19T00:00:00",
          "2022-04-20T00:00:00",
          "2022-04-21T00:00:00",
          "2022-04-22T00:00:00",
          "2022-04-23T00:00:00",
          "2022-04-24T00:00:00",
          "2022-04-25T00:00:00",
          "2022-04-26T00:00:00",
          "2022-04-27T00:00:00",
          "2022-04-28T00:00:00",
          "2022-04-29T00:00:00",
          "2022-04-30T00:00:00",
          "2022-05-01T00:00:00",
          "2022-05-02T00:00:00",
          "2022-05-03T00:00:00",
          "2022-05-04T00:00:00",
          "2022-05-05T00:00:00",
          "2022-05-06T00:00:00",
          "2022-05-07T00:00:00",
          "2022-05-08T00:00:00",
          "2022-05-09T00:00:00",
          "2022-05-10T00:00:00",
          "2022-05-11T00:00:00",
          "2022-05-12T00:00:00",
          "2022-05-13T00:00:00",
          "2022-05-14T00:00:00",
          "2022-05-15T00:00:00",
          "2022-05-16T00:00:00",
          "2022-05-17T00:00:00",
          "2022-05-18T00:00:00",
          "2022-05-19T00:00:00",
          "2022-05-20T00:00:00",
          "2022-05-21T00:00:00",
          "2022-05-22T00:00:00",
          "2022-05-23T00:00:00",
          "2022-05-24T00:00:00",
          "2022-05-25T00:00:00",
          "2022-05-26T00:00:00",
          "2022-05-27T00:00:00",
          "2022-05-28T00:00:00",
          "2022-05-29T00:00:00",
          "2022-05-30T00:00:00",
          "2022-05-31T00:00:00",
          "2022-06-01T00:00:00",
          "2022-06-02T00:00:00",
          "2022-06-03T00:00:00",
          "2022-06-04T00:00:00",
          "2022-06-05T00:00:00",
          "2022-06-06T00:00:00",
          "2022-06-07T00:00:00",
          "2022-06-08T00:00:00",
          "2022-06-09T00:00:00",
          "2022-06-10T00:00:00",
          "2022-06-11T00:00:00",
          "2022-06-12T00:00:00",
          "2022-06-13T00:00:00",
          "2022-06-14T00:00:00",
          "2022-06-15T00:00:00",
          "2022-06-16T00:00:00",
          "2022-06-17T00:00:00",
          "2022-06-18T00:00:00",
          "2022-06-19T00:00:00",
          "2022-06-20T00:00:00",
          "2022-06-22T00:00:00"
         ],
         "xaxis": "x",
         "y": [
          178.10299682617188,
          178.10299682617188,
          178.10299682617188,
          178.10299682617188,
          178.10299682617188,
          178.10299682617188,
          178.10299682617188,
          178.10299682617188,
          178.10299682617188,
          178.10299682617188,
          178.10299682617188,
          178.10299682617188,
          178.10299682617188,
          178.10299682617188,
          178.10299682617188,
          178.10299682617188,
          178.10299682617188,
          178.10299682617188,
          178.10299682617188,
          178.10299682617188,
          178.10299682617188,
          178.10299682617188,
          178.10299682617188,
          178.10299682617188,
          178.10299682617188,
          178.10299682617188,
          178.10299682617188,
          178.10299682617188,
          178.10299682617188,
          178.10299682617188,
          178.10299682617188,
          178.10299682617188,
          178.10299682617188,
          178.10299682617188,
          178.10299682617188,
          178.10299682617188,
          178.10299682617188,
          178.10299682617188,
          178.10299682617188,
          178.10299682617188,
          178.10299682617188,
          178.10299682617188,
          178.10299682617188,
          178.10299682617188,
          178.10299682617188,
          178.10299682617188,
          178.10299682617188,
          178.10299682617188,
          178.10299682617188,
          178.10299682617188,
          178.10299682617188,
          178.10299682617188,
          178.10299682617188,
          178.10299682617188,
          178.10299682617188,
          178.10299682617188,
          178.10299682617188,
          178.10299682617188,
          178.10299682617188,
          178.10299682617188,
          178.10299682617188,
          178.10299682617188,
          178.10299682617188,
          178.10299682617188,
          178.10299682617188,
          178.10299682617188,
          178.10299682617188,
          178.10299682617188,
          178.10299682617188,
          178.10299682617188,
          178.10299682617188,
          178.10299682617188,
          178.10299682617188,
          178.10299682617188,
          178.10299682617188,
          178.10299682617188,
          178.10299682617188,
          178.10299682617188,
          178.10299682617188,
          178.10299682617188,
          178.10299682617188,
          178.10299682617188,
          178.10299682617188,
          178.10299682617188,
          178.10299682617188,
          178.10299682617188,
          178.10299682617188,
          178.10299682617188,
          178.10299682617188,
          178.10299682617188,
          178.10299682617188,
          178.10299682617188,
          178.10299682617188,
          178.10299682617188,
          178.10299682617188,
          178.10299682617188,
          178.10299682617188,
          178.10299682617188,
          178.10299682617188,
          178.10299682617188,
          178.10299682617188,
          178.10299682617188,
          178.10299682617188,
          178.10299682617188,
          178.10299682617188,
          178.10299682617188,
          178.10299682617188,
          178.10299682617188,
          178.10299682617188,
          178.10299682617188,
          178.10299682617188,
          178.10299682617188,
          178.10299682617188,
          178.10299682617188,
          178.10299682617188,
          178.10299682617188,
          178.10299682617188,
          178.10299682617188,
          178.10299682617188,
          178.10299682617188,
          178.10299682617188,
          178.10299682617188,
          178.10299682617188,
          178.10299682617188,
          178.10299682617188,
          178.10299682617188,
          178.10299682617188,
          178.10299682617188,
          178.10299682617188,
          178.10299682617188,
          178.10299682617188,
          178.10299682617188,
          178.10299682617188,
          178.10299682617188,
          178.10299682617188,
          178.10299682617188,
          178.10299682617188,
          178.10299682617188,
          178.10299682617188,
          178.10299682617188,
          178.10299682617188,
          178.10299682617188,
          178.10299682617188,
          178.10299682617188,
          178.10299682617188,
          178.10299682617188,
          178.10299682617188,
          178.10299682617188,
          178.10299682617188,
          178.10299682617188,
          178.10299682617188,
          178.10299682617188,
          178.10299682617188,
          178.10299682617188,
          178.10299682617188,
          178.10299682617188,
          178.10299682617188,
          178.10299682617188,
          178.10299682617188,
          178.10299682617188,
          178.10299682617188,
          178.10299682617188,
          178.10299682617188,
          178.10299682617188,
          178.10299682617188,
          178.10299682617188,
          178.10299682617188,
          178.10299682617188,
          178.10299682617188,
          178.10299682617188,
          178.10299682617188,
          178.10299682617188,
          178.10299682617188,
          178.10299682617188,
          178.10299682617188,
          178.10299682617188,
          178.10299682617188,
          178.10299682617188,
          178.10299682617188,
          178.10299682617188,
          178.10299682617188,
          178.10299682617188,
          178.10299682617188,
          178.10299682617188,
          178.10299682617188,
          178.10299682617188,
          178.10299682617188,
          178.10299682617188,
          178.10299682617188,
          178.10299682617188,
          178.10299682617188,
          178.10299682617188,
          178.10299682617188,
          178.10299682617188,
          178.10299682617188,
          178.10299682617188,
          178.10299682617188,
          178.10299682617188,
          178.10299682617188,
          178.10299682617188,
          178.10299682617188,
          178.10299682617188,
          178.10299682617188,
          178.10299682617188,
          178.10299682617188,
          178.10299682617188,
          178.10299682617188,
          178.10299682617188,
          178.10299682617188,
          178.10299682617188,
          178.10299682617188,
          178.10299682617188,
          178.10299682617188,
          178.10299682617188,
          178.10299682617188,
          178.10299682617188,
          178.10299682617188,
          178.10299682617188,
          178.10299682617188,
          178.10299682617188,
          178.10299682617188,
          178.10299682617188,
          178.10299682617188,
          178.10299682617188,
          178.10299682617188,
          178.10299682617188,
          178.10299682617188,
          178.10299682617188,
          178.10299682617188,
          178.10299682617188,
          178.10299682617188,
          178.10299682617188,
          178.10299682617188,
          178.10299682617188,
          178.10299682617188,
          178.10299682617188,
          178.10299682617188,
          178.10299682617188,
          178.10299682617188,
          178.10299682617188,
          178.10299682617188,
          178.10299682617188,
          178.10299682617188,
          178.10299682617188,
          178.10299682617188,
          178.10299682617188,
          178.10299682617188,
          178.10299682617188,
          178.10299682617188,
          178.10299682617188,
          178.10299682617188,
          178.10299682617188,
          178.10299682617188,
          178.10299682617188,
          178.10299682617188,
          178.10299682617188,
          178.10299682617188,
          178.10299682617188,
          178.10299682617188,
          178.10299682617188,
          178.10299682617188,
          178.10299682617188,
          178.10299682617188,
          178.10299682617188,
          178.10299682617188,
          178.10299682617188,
          178.10299682617188,
          178.10299682617188,
          178.10299682617188,
          178.10299682617188,
          178.10299682617188,
          178.10299682617188,
          178.10299682617188,
          178.10299682617188,
          178.10299682617188,
          178.10299682617188,
          178.10299682617188,
          178.10299682617188,
          178.10299682617188,
          178.10299682617188,
          178.10299682617188,
          178.10299682617188,
          178.10299682617188,
          178.10299682617188,
          178.10299682617188,
          178.10299682617188,
          178.10299682617188,
          178.10299682617188,
          178.10299682617188,
          178.10299682617188,
          178.10299682617188,
          178.10299682617188,
          178.10299682617188,
          178.10299682617188,
          178.10299682617188,
          178.10299682617188,
          178.10299682617188,
          178.10299682617188,
          178.10299682617188,
          178.10299682617188,
          178.10299682617188,
          178.10299682617188,
          178.10299682617188,
          178.10299682617188,
          178.10299682617188,
          178.10299682617188,
          178.10299682617188,
          178.10299682617188,
          178.10299682617188,
          178.10299682617188,
          178.10299682617188,
          178.10299682617188,
          178.10299682617188,
          178.10299682617188,
          178.10299682617188,
          178.10299682617188,
          178.10299682617188,
          178.10299682617188,
          178.10299682617188,
          178.10299682617188,
          178.10299682617188,
          178.10299682617188,
          178.10299682617188,
          178.10299682617188,
          178.10299682617188,
          178.10299682617188,
          178.10299682617188,
          178.10299682617188,
          178.10299682617188,
          178.10299682617188,
          178.10299682617188,
          178.10299682617188,
          178.10299682617188,
          178.10299682617188,
          178.10299682617188,
          178.10299682617188,
          178.10299682617188,
          178.10299682617188,
          178.10299682617188,
          178.10299682617188,
          178.10299682617188,
          178.10299682617188,
          178.10299682617188,
          178.10299682617188,
          178.10299682617188,
          178.10299682617188,
          178.10299682617188,
          178.10299682617188,
          178.10299682617188,
          178.10299682617188,
          178.10299682617188,
          178.10299682617188,
          178.10299682617188,
          178.10299682617188,
          178.10299682617188,
          178.10299682617188,
          178.10299682617188,
          178.10299682617188,
          178.10299682617188,
          178.10299682617188,
          178.10299682617188,
          178.10299682617188,
          178.10299682617188,
          178.10299682617188,
          178.10299682617188
         ],
         "yaxis": "y"
        }
       ],
       "layout": {
        "hovermode": "x unified",
        "legend": {
         "title": {
          "text": "variable"
         },
         "tracegroupgap": 0
        },
        "template": {
         "data": {
          "bar": [
           {
            "error_x": {
             "color": "#f2f5fa"
            },
            "error_y": {
             "color": "#f2f5fa"
            },
            "marker": {
             "line": {
              "color": "rgb(17,17,17)",
              "width": 0.5
             },
             "pattern": {
              "fillmode": "overlay",
              "size": 10,
              "solidity": 0.2
             }
            },
            "type": "bar"
           }
          ],
          "barpolar": [
           {
            "marker": {
             "line": {
              "color": "rgb(17,17,17)",
              "width": 0.5
             },
             "pattern": {
              "fillmode": "overlay",
              "size": 10,
              "solidity": 0.2
             }
            },
            "type": "barpolar"
           }
          ],
          "carpet": [
           {
            "aaxis": {
             "endlinecolor": "#A2B1C6",
             "gridcolor": "#506784",
             "linecolor": "#506784",
             "minorgridcolor": "#506784",
             "startlinecolor": "#A2B1C6"
            },
            "baxis": {
             "endlinecolor": "#A2B1C6",
             "gridcolor": "#506784",
             "linecolor": "#506784",
             "minorgridcolor": "#506784",
             "startlinecolor": "#A2B1C6"
            },
            "type": "carpet"
           }
          ],
          "choropleth": [
           {
            "colorbar": {
             "outlinewidth": 0,
             "ticks": ""
            },
            "type": "choropleth"
           }
          ],
          "contour": [
           {
            "colorbar": {
             "outlinewidth": 0,
             "ticks": ""
            },
            "colorscale": [
             [
              0,
              "#0d0887"
             ],
             [
              0.1111111111111111,
              "#46039f"
             ],
             [
              0.2222222222222222,
              "#7201a8"
             ],
             [
              0.3333333333333333,
              "#9c179e"
             ],
             [
              0.4444444444444444,
              "#bd3786"
             ],
             [
              0.5555555555555556,
              "#d8576b"
             ],
             [
              0.6666666666666666,
              "#ed7953"
             ],
             [
              0.7777777777777778,
              "#fb9f3a"
             ],
             [
              0.8888888888888888,
              "#fdca26"
             ],
             [
              1,
              "#f0f921"
             ]
            ],
            "type": "contour"
           }
          ],
          "contourcarpet": [
           {
            "colorbar": {
             "outlinewidth": 0,
             "ticks": ""
            },
            "type": "contourcarpet"
           }
          ],
          "heatmap": [
           {
            "colorbar": {
             "outlinewidth": 0,
             "ticks": ""
            },
            "colorscale": [
             [
              0,
              "#0d0887"
             ],
             [
              0.1111111111111111,
              "#46039f"
             ],
             [
              0.2222222222222222,
              "#7201a8"
             ],
             [
              0.3333333333333333,
              "#9c179e"
             ],
             [
              0.4444444444444444,
              "#bd3786"
             ],
             [
              0.5555555555555556,
              "#d8576b"
             ],
             [
              0.6666666666666666,
              "#ed7953"
             ],
             [
              0.7777777777777778,
              "#fb9f3a"
             ],
             [
              0.8888888888888888,
              "#fdca26"
             ],
             [
              1,
              "#f0f921"
             ]
            ],
            "type": "heatmap"
           }
          ],
          "heatmapgl": [
           {
            "colorbar": {
             "outlinewidth": 0,
             "ticks": ""
            },
            "colorscale": [
             [
              0,
              "#0d0887"
             ],
             [
              0.1111111111111111,
              "#46039f"
             ],
             [
              0.2222222222222222,
              "#7201a8"
             ],
             [
              0.3333333333333333,
              "#9c179e"
             ],
             [
              0.4444444444444444,
              "#bd3786"
             ],
             [
              0.5555555555555556,
              "#d8576b"
             ],
             [
              0.6666666666666666,
              "#ed7953"
             ],
             [
              0.7777777777777778,
              "#fb9f3a"
             ],
             [
              0.8888888888888888,
              "#fdca26"
             ],
             [
              1,
              "#f0f921"
             ]
            ],
            "type": "heatmapgl"
           }
          ],
          "histogram": [
           {
            "marker": {
             "pattern": {
              "fillmode": "overlay",
              "size": 10,
              "solidity": 0.2
             }
            },
            "type": "histogram"
           }
          ],
          "histogram2d": [
           {
            "colorbar": {
             "outlinewidth": 0,
             "ticks": ""
            },
            "colorscale": [
             [
              0,
              "#0d0887"
             ],
             [
              0.1111111111111111,
              "#46039f"
             ],
             [
              0.2222222222222222,
              "#7201a8"
             ],
             [
              0.3333333333333333,
              "#9c179e"
             ],
             [
              0.4444444444444444,
              "#bd3786"
             ],
             [
              0.5555555555555556,
              "#d8576b"
             ],
             [
              0.6666666666666666,
              "#ed7953"
             ],
             [
              0.7777777777777778,
              "#fb9f3a"
             ],
             [
              0.8888888888888888,
              "#fdca26"
             ],
             [
              1,
              "#f0f921"
             ]
            ],
            "type": "histogram2d"
           }
          ],
          "histogram2dcontour": [
           {
            "colorbar": {
             "outlinewidth": 0,
             "ticks": ""
            },
            "colorscale": [
             [
              0,
              "#0d0887"
             ],
             [
              0.1111111111111111,
              "#46039f"
             ],
             [
              0.2222222222222222,
              "#7201a8"
             ],
             [
              0.3333333333333333,
              "#9c179e"
             ],
             [
              0.4444444444444444,
              "#bd3786"
             ],
             [
              0.5555555555555556,
              "#d8576b"
             ],
             [
              0.6666666666666666,
              "#ed7953"
             ],
             [
              0.7777777777777778,
              "#fb9f3a"
             ],
             [
              0.8888888888888888,
              "#fdca26"
             ],
             [
              1,
              "#f0f921"
             ]
            ],
            "type": "histogram2dcontour"
           }
          ],
          "mesh3d": [
           {
            "colorbar": {
             "outlinewidth": 0,
             "ticks": ""
            },
            "type": "mesh3d"
           }
          ],
          "parcoords": [
           {
            "line": {
             "colorbar": {
              "outlinewidth": 0,
              "ticks": ""
             }
            },
            "type": "parcoords"
           }
          ],
          "pie": [
           {
            "automargin": true,
            "type": "pie"
           }
          ],
          "scatter": [
           {
            "marker": {
             "line": {
              "color": "#283442"
             }
            },
            "type": "scatter"
           }
          ],
          "scatter3d": [
           {
            "line": {
             "colorbar": {
              "outlinewidth": 0,
              "ticks": ""
             }
            },
            "marker": {
             "colorbar": {
              "outlinewidth": 0,
              "ticks": ""
             }
            },
            "type": "scatter3d"
           }
          ],
          "scattercarpet": [
           {
            "marker": {
             "colorbar": {
              "outlinewidth": 0,
              "ticks": ""
             }
            },
            "type": "scattercarpet"
           }
          ],
          "scattergeo": [
           {
            "marker": {
             "colorbar": {
              "outlinewidth": 0,
              "ticks": ""
             }
            },
            "type": "scattergeo"
           }
          ],
          "scattergl": [
           {
            "marker": {
             "line": {
              "color": "#283442"
             }
            },
            "type": "scattergl"
           }
          ],
          "scattermapbox": [
           {
            "marker": {
             "colorbar": {
              "outlinewidth": 0,
              "ticks": ""
             }
            },
            "type": "scattermapbox"
           }
          ],
          "scatterpolar": [
           {
            "marker": {
             "colorbar": {
              "outlinewidth": 0,
              "ticks": ""
             }
            },
            "type": "scatterpolar"
           }
          ],
          "scatterpolargl": [
           {
            "marker": {
             "colorbar": {
              "outlinewidth": 0,
              "ticks": ""
             }
            },
            "type": "scatterpolargl"
           }
          ],
          "scatterternary": [
           {
            "marker": {
             "colorbar": {
              "outlinewidth": 0,
              "ticks": ""
             }
            },
            "type": "scatterternary"
           }
          ],
          "surface": [
           {
            "colorbar": {
             "outlinewidth": 0,
             "ticks": ""
            },
            "colorscale": [
             [
              0,
              "#0d0887"
             ],
             [
              0.1111111111111111,
              "#46039f"
             ],
             [
              0.2222222222222222,
              "#7201a8"
             ],
             [
              0.3333333333333333,
              "#9c179e"
             ],
             [
              0.4444444444444444,
              "#bd3786"
             ],
             [
              0.5555555555555556,
              "#d8576b"
             ],
             [
              0.6666666666666666,
              "#ed7953"
             ],
             [
              0.7777777777777778,
              "#fb9f3a"
             ],
             [
              0.8888888888888888,
              "#fdca26"
             ],
             [
              1,
              "#f0f921"
             ]
            ],
            "type": "surface"
           }
          ],
          "table": [
           {
            "cells": {
             "fill": {
              "color": "#506784"
             },
             "line": {
              "color": "rgb(17,17,17)"
             }
            },
            "header": {
             "fill": {
              "color": "#2a3f5f"
             },
             "line": {
              "color": "rgb(17,17,17)"
             }
            },
            "type": "table"
           }
          ]
         },
         "layout": {
          "annotationdefaults": {
           "arrowcolor": "#f2f5fa",
           "arrowhead": 0,
           "arrowwidth": 1
          },
          "autotypenumbers": "strict",
          "coloraxis": {
           "colorbar": {
            "outlinewidth": 0,
            "ticks": ""
           }
          },
          "colorscale": {
           "diverging": [
            [
             0,
             "#8e0152"
            ],
            [
             0.1,
             "#c51b7d"
            ],
            [
             0.2,
             "#de77ae"
            ],
            [
             0.3,
             "#f1b6da"
            ],
            [
             0.4,
             "#fde0ef"
            ],
            [
             0.5,
             "#f7f7f7"
            ],
            [
             0.6,
             "#e6f5d0"
            ],
            [
             0.7,
             "#b8e186"
            ],
            [
             0.8,
             "#7fbc41"
            ],
            [
             0.9,
             "#4d9221"
            ],
            [
             1,
             "#276419"
            ]
           ],
           "sequential": [
            [
             0,
             "#0d0887"
            ],
            [
             0.1111111111111111,
             "#46039f"
            ],
            [
             0.2222222222222222,
             "#7201a8"
            ],
            [
             0.3333333333333333,
             "#9c179e"
            ],
            [
             0.4444444444444444,
             "#bd3786"
            ],
            [
             0.5555555555555556,
             "#d8576b"
            ],
            [
             0.6666666666666666,
             "#ed7953"
            ],
            [
             0.7777777777777778,
             "#fb9f3a"
            ],
            [
             0.8888888888888888,
             "#fdca26"
            ],
            [
             1,
             "#f0f921"
            ]
           ],
           "sequentialminus": [
            [
             0,
             "#0d0887"
            ],
            [
             0.1111111111111111,
             "#46039f"
            ],
            [
             0.2222222222222222,
             "#7201a8"
            ],
            [
             0.3333333333333333,
             "#9c179e"
            ],
            [
             0.4444444444444444,
             "#bd3786"
            ],
            [
             0.5555555555555556,
             "#d8576b"
            ],
            [
             0.6666666666666666,
             "#ed7953"
            ],
            [
             0.7777777777777778,
             "#fb9f3a"
            ],
            [
             0.8888888888888888,
             "#fdca26"
            ],
            [
             1,
             "#f0f921"
            ]
           ]
          },
          "colorway": [
           "#636efa",
           "#EF553B",
           "#00cc96",
           "#ab63fa",
           "#FFA15A",
           "#19d3f3",
           "#FF6692",
           "#B6E880",
           "#FF97FF",
           "#FECB52"
          ],
          "font": {
           "color": "#f2f5fa"
          },
          "geo": {
           "bgcolor": "rgb(17,17,17)",
           "lakecolor": "rgb(17,17,17)",
           "landcolor": "rgb(17,17,17)",
           "showlakes": true,
           "showland": true,
           "subunitcolor": "#506784"
          },
          "hoverlabel": {
           "align": "left"
          },
          "hovermode": "closest",
          "mapbox": {
           "style": "dark"
          },
          "paper_bgcolor": "rgb(17,17,17)",
          "plot_bgcolor": "rgb(17,17,17)",
          "polar": {
           "angularaxis": {
            "gridcolor": "#506784",
            "linecolor": "#506784",
            "ticks": ""
           },
           "bgcolor": "rgb(17,17,17)",
           "radialaxis": {
            "gridcolor": "#506784",
            "linecolor": "#506784",
            "ticks": ""
           }
          },
          "scene": {
           "xaxis": {
            "backgroundcolor": "rgb(17,17,17)",
            "gridcolor": "#506784",
            "gridwidth": 2,
            "linecolor": "#506784",
            "showbackground": true,
            "ticks": "",
            "zerolinecolor": "#C8D4E3"
           },
           "yaxis": {
            "backgroundcolor": "rgb(17,17,17)",
            "gridcolor": "#506784",
            "gridwidth": 2,
            "linecolor": "#506784",
            "showbackground": true,
            "ticks": "",
            "zerolinecolor": "#C8D4E3"
           },
           "zaxis": {
            "backgroundcolor": "rgb(17,17,17)",
            "gridcolor": "#506784",
            "gridwidth": 2,
            "linecolor": "#506784",
            "showbackground": true,
            "ticks": "",
            "zerolinecolor": "#C8D4E3"
           }
          },
          "shapedefaults": {
           "line": {
            "color": "#f2f5fa"
           }
          },
          "sliderdefaults": {
           "bgcolor": "#C8D4E3",
           "bordercolor": "rgb(17,17,17)",
           "borderwidth": 1,
           "tickwidth": 0
          },
          "ternary": {
           "aaxis": {
            "gridcolor": "#506784",
            "linecolor": "#506784",
            "ticks": ""
           },
           "baxis": {
            "gridcolor": "#506784",
            "linecolor": "#506784",
            "ticks": ""
           },
           "bgcolor": "rgb(17,17,17)",
           "caxis": {
            "gridcolor": "#506784",
            "linecolor": "#506784",
            "ticks": ""
           }
          },
          "title": {
           "x": 0.05
          },
          "updatemenudefaults": {
           "bgcolor": "#506784",
           "borderwidth": 0
          },
          "xaxis": {
           "automargin": true,
           "gridcolor": "#283442",
           "linecolor": "#506784",
           "ticks": "",
           "title": {
            "standoff": 15
           },
           "zerolinecolor": "#283442",
           "zerolinewidth": 2
          },
          "yaxis": {
           "automargin": true,
           "gridcolor": "#283442",
           "linecolor": "#506784",
           "ticks": "",
           "title": {
            "standoff": 15
           },
           "zerolinecolor": "#283442",
           "zerolinewidth": 2
          }
         }
        },
        "title": {
         "text": "Bidirectional-LSTM"
        },
        "xaxis": {
         "anchor": "y",
         "domain": [
          0,
          1
         ],
         "rangeslider": {
          "visible": true
         },
         "title": {
          "text": "Date"
         }
        },
        "yaxis": {
         "anchor": "x",
         "domain": [
          0,
          1
         ],
         "tickformat": "$",
         "title": {
          "text": "Close Price"
         }
        }
       }
      }
     },
     "metadata": {},
     "output_type": "display_data"
    }
   ],
   "source": [
    "ab_test_df = get_test_df(ablstm_model, X_test, y_test, scaler, test_dates)\n",
    "plot_model_test(ab_test_df)"
   ]
  }
 ],
 "metadata": {
  "kernelspec": {
   "display_name": "Python 3.10.5 64-bit",
   "language": "python",
   "name": "python3"
  },
  "language_info": {
   "codemirror_mode": {
    "name": "ipython",
    "version": 3
   },
   "file_extension": ".py",
   "mimetype": "text/x-python",
   "name": "python",
   "nbconvert_exporter": "python",
   "pygments_lexer": "ipython3",
   "version": "3.10.5"
  },
  "orig_nbformat": 4,
  "vscode": {
   "interpreter": {
    "hash": "73da7b675d0e46932e09253241b381c08dc26557dee69f9b22a307f235e53dce"
   }
  }
 },
 "nbformat": 4,
 "nbformat_minor": 2
}
