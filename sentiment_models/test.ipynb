{
 "cells": [
  {
   "cell_type": "markdown",
   "metadata": {},
   "source": [
    "#  Financial BERTs Sentiment-Analysis"
   ]
  },
  {
   "cell_type": "markdown",
   "metadata": {},
   "source": [
    "\n",
    "### In this notebook, models FinBERT and  FinancialBERT are downloaded, saved, and used offline. The models can be found on the following Huggingface pages:\n",
    "1. FinBERT: https://huggingface.co/ProsusAI/finbert.\n",
    "2. FinancialBERT: https://huggingface.co/ahmedrachid/FinancialBERT-Sentiment-Analysis"
   ]
  },
  {
   "cell_type": "code",
   "execution_count": 2,
   "metadata": {},
   "outputs": [],
   "source": [
    "from transformers import BertTokenizer, BertForSequenceClassification\n",
    "from transformers import pipeline\n",
    "#pytorch == 1.11.0 is required\n",
    "\n",
    "\n",
    "sentences = [\"Operating profit rose to EUR 13.1 mn from EUR 8.7 mn in the corresponding period in 2007 representing 7.7 % of net sales.\",  \n",
    "             \"Bids or offers include at least 1,000 shares and the value of the shares must correspond to at least EUR 4,000.\", \n",
    "             \"Raute reported a loss per share of EUR 0.86 for the first half of 2009 , against EPS of EUR 0.74 in the corresponding period of 2008.\", \n",
    "             ]\n",
    "\n",
    "#Webmodels\n",
    "financialbert_tokenizer = BertTokenizer.from_pretrained(\"ahmedrachid/FinancialBERT-Sentiment-Analysis\")\n",
    "financialbert_model = BertForSequenceClassification.from_pretrained(\"ahmedrachid/FinancialBERT-Sentiment-Analysis\", num_labels=3)\n",
    "finbert_tokenizer = BertTokenizer.from_pretrained(\"ProsusAI/finbert\")\n",
    "finbert_model = BertForSequenceClassification.from_pretrained(\"ProsusAI/finbert\", num_labels=3)\n",
    "\n",
    "nlp_financial = pipeline(\"sentiment-analysis\", model=financialbert_model, tokenizer=financialbert_tokenizer)\n",
    "nlp_fin = pipeline(\"sentiment-analysis\", model=finbert_model, tokenizer=finbert_tokenizer)"
   ]
  },
  {
   "cell_type": "code",
   "execution_count": 3,
   "metadata": {},
   "outputs": [
    {
     "name": "stdout",
     "output_type": "stream",
     "text": [
      "[{'label': 'positive', 'score': 0.9998133778572083}, {'label': 'neutral', 'score': 0.9997822642326355}, {'label': 'negative', 'score': 0.9877365231513977}]\n",
      "[{'label': 'positive', 'score': 0.9524030685424805}, {'label': 'neutral', 'score': 0.9577033519744873}, {'label': 'negative', 'score': 0.9729457497596741}]\n"
     ]
    }
   ],
   "source": [
    "results_web_financial = nlp_financial(sentences)\n",
    "results_web_fin = nlp_fin(sentences)\n",
    "print(results_web_financial)\n",
    "print(results_web_fin)"
   ]
  },
  {
   "cell_type": "code",
   "execution_count": 4,
   "metadata": {},
   "outputs": [],
   "source": [
    "#LocalModels\n",
    "financialbert_model = BertForSequenceClassification.from_pretrained(\".\\\\financial_bert\\\\financialbert_model\")      #The saved model is used\n",
    "financialbert_tokenizer = BertTokenizer.from_pretrained(\".\\\\financial_bert\\\\financialbert_tokenizer\")        #The saved model tokenizer is used\n",
    "finbert_model = BertForSequenceClassification.from_pretrained(\".\\\\finbert\\\\finbert_model\")                  #The saved model is used\n",
    "finbert_tokenizer = BertTokenizer.from_pretrained(\".\\\\finbert\\\\finbert_tokenizer\")                    #The saved model tokenizer is used\n",
    "\n",
    "nlp_financial = pipeline(\"sentiment-analysis\", model=financialbert_model, tokenizer=financialbert_tokenizer)\n",
    "nlp_fin = pipeline(\"sentiment-analysis\", model=finbert_model, tokenizer=finbert_tokenizer)"
   ]
  },
  {
   "cell_type": "code",
   "execution_count": 5,
   "metadata": {},
   "outputs": [
    {
     "name": "stdout",
     "output_type": "stream",
     "text": [
      "[{'label': 'positive', 'score': 0.9998133778572083}, {'label': 'neutral', 'score': 0.9997822642326355}, {'label': 'negative', 'score': 0.9877365231513977}]\n",
      "[{'label': 'positive', 'score': 0.9524030685424805}, {'label': 'neutral', 'score': 0.9577033519744873}, {'label': 'negative', 'score': 0.9729457497596741}]\n"
     ]
    }
   ],
   "source": [
    "results_local_financial = nlp_financial(sentences)\n",
    "results_local_fin = nlp_fin(sentences)\n",
    "print(results_local_financial)\n",
    "print(results_local_fin)"
   ]
  },
  {
   "cell_type": "code",
   "execution_count": 6,
   "metadata": {},
   "outputs": [
    {
     "name": "stdout",
     "output_type": "stream",
     "text": [
      "True\n",
      "True\n"
     ]
    }
   ],
   "source": [
    "print(results_web_financial == results_local_financial)\n",
    "print(results_web_fin == results_local_fin)"
   ]
  }
 ],
 "metadata": {
  "kernelspec": {
   "display_name": "Python 3.10.4 ('DS4A_PF')",
   "language": "python",
   "name": "python3"
  },
  "language_info": {
   "codemirror_mode": {
    "name": "ipython",
    "version": 3
   },
   "file_extension": ".py",
   "mimetype": "text/x-python",
   "name": "python",
   "nbconvert_exporter": "python",
   "pygments_lexer": "ipython3",
   "version": "3.10.4"
  },
  "orig_nbformat": 4,
  "vscode": {
   "interpreter": {
    "hash": "13466a67c9f9701c67a7e5e914ed61b6a6d8e5113815e6d2cd12d59afa0108d3"
   }
  }
 },
 "nbformat": 4,
 "nbformat_minor": 2
}
